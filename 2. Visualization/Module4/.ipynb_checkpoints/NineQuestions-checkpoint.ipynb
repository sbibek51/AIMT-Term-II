{
 "cells": [
  {
   "cell_type": "code",
   "execution_count": 11,
   "id": "47da61c1",
   "metadata": {},
   "outputs": [
    {
     "data": {
      "text/html": [
       "<div>\n",
       "<style scoped>\n",
       "    .dataframe tbody tr th:only-of-type {\n",
       "        vertical-align: middle;\n",
       "    }\n",
       "\n",
       "    .dataframe tbody tr th {\n",
       "        vertical-align: top;\n",
       "    }\n",
       "\n",
       "    .dataframe thead th {\n",
       "        text-align: right;\n",
       "    }\n",
       "</style>\n",
       "<table border=\"1\" class=\"dataframe\">\n",
       "  <thead>\n",
       "    <tr style=\"text-align: right;\">\n",
       "      <th></th>\n",
       "      <th>id</th>\n",
       "      <th>cust_name</th>\n",
       "      <th>num_products</th>\n",
       "      <th>province</th>\n",
       "      <th>len_relationship</th>\n",
       "      <th>cust_category</th>\n",
       "    </tr>\n",
       "  </thead>\n",
       "  <tbody>\n",
       "    <tr>\n",
       "      <th>0</th>\n",
       "      <td>1001</td>\n",
       "      <td>Johnny Awesome</td>\n",
       "      <td>3</td>\n",
       "      <td>ON</td>\n",
       "      <td>1</td>\n",
       "      <td>wealth</td>\n",
       "    </tr>\n",
       "    <tr>\n",
       "      <th>1</th>\n",
       "      <td>1002</td>\n",
       "      <td>Bob Marley</td>\n",
       "      <td>4</td>\n",
       "      <td>ON</td>\n",
       "      <td>1</td>\n",
       "      <td>personal_banking</td>\n",
       "    </tr>\n",
       "    <tr>\n",
       "      <th>2</th>\n",
       "      <td>1004</td>\n",
       "      <td>Taylor Swift</td>\n",
       "      <td>2</td>\n",
       "      <td>AB</td>\n",
       "      <td>2</td>\n",
       "      <td>hnw</td>\n",
       "    </tr>\n",
       "    <tr>\n",
       "      <th>3</th>\n",
       "      <td>1101</td>\n",
       "      <td>James Dean</td>\n",
       "      <td>3</td>\n",
       "      <td>BC</td>\n",
       "      <td>3</td>\n",
       "      <td>wealth</td>\n",
       "    </tr>\n",
       "    <tr>\n",
       "      <th>4</th>\n",
       "      <td>1006</td>\n",
       "      <td>Stephen Smith</td>\n",
       "      <td>5</td>\n",
       "      <td>ON</td>\n",
       "      <td>4</td>\n",
       "      <td>hnw</td>\n",
       "    </tr>\n",
       "  </tbody>\n",
       "</table>\n",
       "</div>"
      ],
      "text/plain": [
       "     id       cust_name  num_products province  len_relationship  \\\n",
       "0  1001  Johnny Awesome             3       ON                 1   \n",
       "1  1002      Bob Marley             4       ON                 1   \n",
       "2  1004    Taylor Swift             2       AB                 2   \n",
       "3  1101      James Dean             3       BC                 3   \n",
       "4  1006   Stephen Smith             5       ON                 4   \n",
       "\n",
       "      cust_category  \n",
       "0            wealth  \n",
       "1  personal_banking  \n",
       "2               hnw  \n",
       "3            wealth  \n",
       "4               hnw  "
      ]
     },
     "execution_count": 11,
     "metadata": {},
     "output_type": "execute_result"
    }
   ],
   "source": [
    "#Bibek Shiwakoti\n",
    "import pandas as pd\n",
    "df1 =pd.read_csv('../data/2_customers.csv')\n",
    "df2=pd.read_csv('../data/3_transactions.csv')\n",
    "df1.head()\n"
   ]
  },
  {
   "cell_type": "code",
   "execution_count": 61,
   "id": "fc335398",
   "metadata": {},
   "outputs": [
    {
     "data": {
      "text/plain": [
       "(13, 6)"
      ]
     },
     "execution_count": 61,
     "metadata": {},
     "output_type": "execute_result"
    }
   ],
   "source": [
    "df1.shape"
   ]
  },
  {
   "cell_type": "code",
   "execution_count": 10,
   "id": "c14a4874",
   "metadata": {},
   "outputs": [
    {
     "data": {
      "text/html": [
       "<div>\n",
       "<style scoped>\n",
       "    .dataframe tbody tr th:only-of-type {\n",
       "        vertical-align: middle;\n",
       "    }\n",
       "\n",
       "    .dataframe tbody tr th {\n",
       "        vertical-align: top;\n",
       "    }\n",
       "\n",
       "    .dataframe thead th {\n",
       "        text-align: right;\n",
       "    }\n",
       "</style>\n",
       "<table border=\"1\" class=\"dataframe\">\n",
       "  <thead>\n",
       "    <tr style=\"text-align: right;\">\n",
       "      <th></th>\n",
       "      <th>id</th>\n",
       "      <th>customer_id</th>\n",
       "      <th>txn_type</th>\n",
       "      <th>txn_total</th>\n",
       "    </tr>\n",
       "  </thead>\n",
       "  <tbody>\n",
       "    <tr>\n",
       "      <th>0</th>\n",
       "      <td>1</td>\n",
       "      <td>1001</td>\n",
       "      <td>Debit</td>\n",
       "      <td>165.78</td>\n",
       "    </tr>\n",
       "    <tr>\n",
       "      <th>1</th>\n",
       "      <td>2</td>\n",
       "      <td>1001</td>\n",
       "      <td>Credit</td>\n",
       "      <td>42.10</td>\n",
       "    </tr>\n",
       "    <tr>\n",
       "      <th>2</th>\n",
       "      <td>4</td>\n",
       "      <td>1001</td>\n",
       "      <td>Credit</td>\n",
       "      <td>103.03</td>\n",
       "    </tr>\n",
       "    <tr>\n",
       "      <th>3</th>\n",
       "      <td>5</td>\n",
       "      <td>1001</td>\n",
       "      <td>Credit</td>\n",
       "      <td>56.60</td>\n",
       "    </tr>\n",
       "    <tr>\n",
       "      <th>4</th>\n",
       "      <td>6</td>\n",
       "      <td>1002</td>\n",
       "      <td>Debit</td>\n",
       "      <td>214.34</td>\n",
       "    </tr>\n",
       "  </tbody>\n",
       "</table>\n",
       "</div>"
      ],
      "text/plain": [
       "   id  customer_id txn_type  txn_total\n",
       "0   1         1001    Debit     165.78\n",
       "1   2         1001   Credit      42.10\n",
       "2   4         1001   Credit     103.03\n",
       "3   5         1001   Credit      56.60\n",
       "4   6         1002    Debit     214.34"
      ]
     },
     "execution_count": 10,
     "metadata": {},
     "output_type": "execute_result"
    }
   ],
   "source": [
    "df2.head()\n"
   ]
  },
  {
   "cell_type": "code",
   "execution_count": 62,
   "id": "b52d8859",
   "metadata": {},
   "outputs": [
    {
     "data": {
      "text/plain": [
       "(34, 4)"
      ]
     },
     "execution_count": 62,
     "metadata": {},
     "output_type": "execute_result"
    }
   ],
   "source": [
    "df2.shape"
   ]
  },
  {
   "cell_type": "markdown",
   "id": "3fb57e64",
   "metadata": {},
   "source": [
    "Q1. Write a function to display a Series object with only the names of Wealth customers."
   ]
  },
  {
   "cell_type": "code",
   "execution_count": 28,
   "id": "e0be6b15",
   "metadata": {},
   "outputs": [
    {
     "data": {
      "text/html": [
       "<div>\n",
       "<style scoped>\n",
       "    .dataframe tbody tr th:only-of-type {\n",
       "        vertical-align: middle;\n",
       "    }\n",
       "\n",
       "    .dataframe tbody tr th {\n",
       "        vertical-align: top;\n",
       "    }\n",
       "\n",
       "    .dataframe thead th {\n",
       "        text-align: right;\n",
       "    }\n",
       "</style>\n",
       "<table border=\"1\" class=\"dataframe\">\n",
       "  <thead>\n",
       "    <tr style=\"text-align: right;\">\n",
       "      <th></th>\n",
       "      <th>cust_name</th>\n",
       "    </tr>\n",
       "  </thead>\n",
       "  <tbody>\n",
       "    <tr>\n",
       "      <th>0</th>\n",
       "      <td>Johnny Awesome</td>\n",
       "    </tr>\n",
       "    <tr>\n",
       "      <th>3</th>\n",
       "      <td>James Dean</td>\n",
       "    </tr>\n",
       "    <tr>\n",
       "      <th>7</th>\n",
       "      <td>Maria Alva</td>\n",
       "    </tr>\n",
       "    <tr>\n",
       "      <th>11</th>\n",
       "      <td>Steven Prime</td>\n",
       "    </tr>\n",
       "  </tbody>\n",
       "</table>\n",
       "</div>"
      ],
      "text/plain": [
       "         cust_name\n",
       "0   Johnny Awesome\n",
       "3       James Dean\n",
       "7       Maria Alva\n",
       "11    Steven Prime"
      ]
     },
     "execution_count": 28,
     "metadata": {},
     "output_type": "execute_result"
    }
   ],
   "source": [
    "df1[['cust_name']][df1['cust_category']=='wealth']"
   ]
  },
  {
   "cell_type": "markdown",
   "id": "9475b83b",
   "metadata": {},
   "source": [
    "Q2. Write a function to identify all PersonalBanking customers with more than 3 products."
   ]
  },
  {
   "cell_type": "code",
   "execution_count": 71,
   "id": "b7b6ddd4",
   "metadata": {},
   "outputs": [
    {
     "data": {
      "text/html": [
       "<div>\n",
       "<style scoped>\n",
       "    .dataframe tbody tr th:only-of-type {\n",
       "        vertical-align: middle;\n",
       "    }\n",
       "\n",
       "    .dataframe tbody tr th {\n",
       "        vertical-align: top;\n",
       "    }\n",
       "\n",
       "    .dataframe thead th {\n",
       "        text-align: right;\n",
       "    }\n",
       "</style>\n",
       "<table border=\"1\" class=\"dataframe\">\n",
       "  <thead>\n",
       "    <tr style=\"text-align: right;\">\n",
       "      <th></th>\n",
       "      <th>cust_name</th>\n",
       "    </tr>\n",
       "  </thead>\n",
       "  <tbody>\n",
       "    <tr>\n",
       "      <th>1</th>\n",
       "      <td>Bob Marley</td>\n",
       "    </tr>\n",
       "    <tr>\n",
       "      <th>8</th>\n",
       "      <td>Jessica Fast</td>\n",
       "    </tr>\n",
       "  </tbody>\n",
       "</table>\n",
       "</div>"
      ],
      "text/plain": [
       "      cust_name\n",
       "1    Bob Marley\n",
       "8  Jessica Fast"
      ]
     },
     "execution_count": 71,
     "metadata": {},
     "output_type": "execute_result"
    }
   ],
   "source": [
    "# df1[['cust_name']][df1['num_products']>3][df1['cust_category']=='personal_banking']\n",
    "#above line gave some warnings so we can rectify the line as follows\n",
    "\n",
    "\n",
    "df1.loc[(df1['num_products'] > 3) & (df1['cust_category'] == 'personal_banking'), ['cust_name']]\n",
    "\n",
    "\n"
   ]
  },
  {
   "cell_type": "markdown",
   "id": "1bf402a7",
   "metadata": {},
   "source": [
    "Q3. What is the average spend of customers in Alberta?"
   ]
  },
  {
   "cell_type": "code",
   "execution_count": 43,
   "id": "4dc1e06b",
   "metadata": {},
   "outputs": [
    {
     "name": "stdout",
     "output_type": "stream",
     "text": [
      "Average spend of customers in alberta is: 208.97636363636366\n"
     ]
    }
   ],
   "source": [
    "# we have to join the dataframes based on id on df1 which is customer_id in df2 \n",
    "merged_df = pd.merge(df1, df2, left_on='id', right_on='customer_id')\n",
    "\n",
    "# filtering the provinces with value AB\n",
    "alberta_customers = merged_df[merged_df['province'] == 'AB']\n",
    "\n",
    "# Calculate the average spend of customers in AB\n",
    "average_spend_alberta = alberta_customers['txn_total'].mean()\n",
    "\n",
    "print('Average spend of customers in alberta is:',average_spend_alberta)"
   ]
  },
  {
   "cell_type": "code",
   "execution_count": 63,
   "id": "b4731d6a",
   "metadata": {},
   "outputs": [
    {
     "data": {
      "text/html": [
       "<div>\n",
       "<style scoped>\n",
       "    .dataframe tbody tr th:only-of-type {\n",
       "        vertical-align: middle;\n",
       "    }\n",
       "\n",
       "    .dataframe tbody tr th {\n",
       "        vertical-align: top;\n",
       "    }\n",
       "\n",
       "    .dataframe thead th {\n",
       "        text-align: right;\n",
       "    }\n",
       "</style>\n",
       "<table border=\"1\" class=\"dataframe\">\n",
       "  <thead>\n",
       "    <tr style=\"text-align: right;\">\n",
       "      <th></th>\n",
       "      <th>id_x</th>\n",
       "      <th>cust_name</th>\n",
       "      <th>num_products</th>\n",
       "      <th>province</th>\n",
       "      <th>len_relationship</th>\n",
       "      <th>cust_category</th>\n",
       "      <th>id_y</th>\n",
       "      <th>customer_id</th>\n",
       "      <th>txn_type</th>\n",
       "      <th>txn_total</th>\n",
       "    </tr>\n",
       "  </thead>\n",
       "  <tbody>\n",
       "    <tr>\n",
       "      <th>0</th>\n",
       "      <td>1001</td>\n",
       "      <td>Johnny Awesome</td>\n",
       "      <td>3</td>\n",
       "      <td>ON</td>\n",
       "      <td>1</td>\n",
       "      <td>wealth</td>\n",
       "      <td>1</td>\n",
       "      <td>1001</td>\n",
       "      <td>Debit</td>\n",
       "      <td>165.78</td>\n",
       "    </tr>\n",
       "    <tr>\n",
       "      <th>1</th>\n",
       "      <td>1001</td>\n",
       "      <td>Johnny Awesome</td>\n",
       "      <td>3</td>\n",
       "      <td>ON</td>\n",
       "      <td>1</td>\n",
       "      <td>wealth</td>\n",
       "      <td>2</td>\n",
       "      <td>1001</td>\n",
       "      <td>Credit</td>\n",
       "      <td>42.10</td>\n",
       "    </tr>\n",
       "    <tr>\n",
       "      <th>2</th>\n",
       "      <td>1001</td>\n",
       "      <td>Johnny Awesome</td>\n",
       "      <td>3</td>\n",
       "      <td>ON</td>\n",
       "      <td>1</td>\n",
       "      <td>wealth</td>\n",
       "      <td>4</td>\n",
       "      <td>1001</td>\n",
       "      <td>Credit</td>\n",
       "      <td>103.03</td>\n",
       "    </tr>\n",
       "    <tr>\n",
       "      <th>3</th>\n",
       "      <td>1001</td>\n",
       "      <td>Johnny Awesome</td>\n",
       "      <td>3</td>\n",
       "      <td>ON</td>\n",
       "      <td>1</td>\n",
       "      <td>wealth</td>\n",
       "      <td>5</td>\n",
       "      <td>1001</td>\n",
       "      <td>Credit</td>\n",
       "      <td>56.60</td>\n",
       "    </tr>\n",
       "    <tr>\n",
       "      <th>4</th>\n",
       "      <td>1002</td>\n",
       "      <td>Bob Marley</td>\n",
       "      <td>4</td>\n",
       "      <td>ON</td>\n",
       "      <td>1</td>\n",
       "      <td>personal_banking</td>\n",
       "      <td>6</td>\n",
       "      <td>1002</td>\n",
       "      <td>Debit</td>\n",
       "      <td>214.34</td>\n",
       "    </tr>\n",
       "  </tbody>\n",
       "</table>\n",
       "</div>"
      ],
      "text/plain": [
       "   id_x       cust_name  num_products province  len_relationship  \\\n",
       "0  1001  Johnny Awesome             3       ON                 1   \n",
       "1  1001  Johnny Awesome             3       ON                 1   \n",
       "2  1001  Johnny Awesome             3       ON                 1   \n",
       "3  1001  Johnny Awesome             3       ON                 1   \n",
       "4  1002      Bob Marley             4       ON                 1   \n",
       "\n",
       "      cust_category  id_y  customer_id txn_type  txn_total  \n",
       "0            wealth     1         1001    Debit     165.78  \n",
       "1            wealth     2         1001   Credit      42.10  \n",
       "2            wealth     4         1001   Credit     103.03  \n",
       "3            wealth     5         1001   Credit      56.60  \n",
       "4  personal_banking     6         1002    Debit     214.34  "
      ]
     },
     "execution_count": 63,
     "metadata": {},
     "output_type": "execute_result"
    }
   ],
   "source": [
    "merged_df.head()   #looking at the top values of merged dataframe "
   ]
  },
  {
   "cell_type": "markdown",
   "id": "3c7ab036",
   "metadata": {},
   "source": [
    "Q4. How many personal banking customers are there in each province?"
   ]
  },
  {
   "cell_type": "code",
   "execution_count": 45,
   "id": "fd675a14",
   "metadata": {},
   "outputs": [
    {
     "name": "stdout",
     "output_type": "stream",
     "text": [
      "  province  num_personal_banking_customers\n",
      "0       AB                               1\n",
      "1       BC                               2\n",
      "2       ON                               2\n"
     ]
    }
   ],
   "source": [
    "# Count the number of personal banking customers in each province\n",
    "personal_banking_counts = df1[df1['cust_category'] == 'personal_banking'].groupby('province').size().reset_index(name='num_personal_banking_customers')\n",
    "\n",
    "\n",
    "print(personal_banking_counts)"
   ]
  },
  {
   "cell_type": "markdown",
   "id": "99140d42",
   "metadata": {},
   "source": [
    "Q5. Who are the top 3 customers with the highest spend?"
   ]
  },
  {
   "cell_type": "code",
   "execution_count": 53,
   "id": "4660fab0",
   "metadata": {},
   "outputs": [
    {
     "name": "stdout",
     "output_type": "stream",
     "text": [
      "             cust_name  txn_total\n",
      "11       Delilah Avery     449.39\n",
      "21        Jessica Fast     438.29\n",
      "23  Mariah Anita Smith     403.62\n"
     ]
    }
   ],
   "source": [
    "top_3_customers = merged_df.nlargest(3, 'txn_total')[['cust_name', 'txn_total']]\n",
    "\n",
    "print(top_3_customers)"
   ]
  },
  {
   "cell_type": "markdown",
   "id": "97f37928",
   "metadata": {},
   "source": [
    "Q6. Which customer has the highest single transaction?"
   ]
  },
  {
   "cell_type": "code",
   "execution_count": 59,
   "id": "20b99838",
   "metadata": {},
   "outputs": [
    {
     "name": "stdout",
     "output_type": "stream",
     "text": [
      "Delilah Avery\n"
     ]
    }
   ],
   "source": [
    "\n",
    "# Find the customer with the highest transaction amount\n",
    "customer_with_highest_transaction = merged_df.loc[merged_df['txn_total'].idxmax()]\n",
    "\n",
    "print(customer_with_highest_transaction['cust_name'])"
   ]
  },
  {
   "cell_type": "markdown",
   "id": "7a063199",
   "metadata": {},
   "source": [
    "Q7. What is the average spend by Province and Customer Category?"
   ]
  },
  {
   "cell_type": "code",
   "execution_count": 49,
   "id": "89a9c0e7",
   "metadata": {},
   "outputs": [
    {
     "name": "stdout",
     "output_type": "stream",
     "text": [
      "  province     cust_category   txn_total\n",
      "0       AB               hnw  147.952000\n",
      "1       AB  personal_banking  233.476667\n",
      "2       AB            wealth  286.183333\n",
      "3       BC  personal_banking  285.260000\n",
      "4       MB               hnw  199.730000\n",
      "5       ON               hnw  225.890000\n",
      "6       ON  personal_banking  172.300000\n",
      "7       ON            wealth  168.415714\n"
     ]
    }
   ],
   "source": [
    "# Calculate the average spend by Province and Customer Category\n",
    "average_spend_by_category = merged_df.groupby(['province', 'cust_category'])['txn_total'].mean().reset_index()\n",
    "\n",
    "print(average_spend_by_category)"
   ]
  },
  {
   "cell_type": "markdown",
   "id": "81889ce7",
   "metadata": {},
   "source": [
    "Q8. What is the average spend by transaction type (e.g. credit, debit, cash)?"
   ]
  },
  {
   "cell_type": "code",
   "execution_count": 50,
   "id": "de241d49",
   "metadata": {},
   "outputs": [
    {
     "name": "stdout",
     "output_type": "stream",
     "text": [
      "  txn_type   txn_total\n",
      "0     Cash  182.262727\n",
      "1   Credit  206.926667\n",
      "2    Debit  227.204286\n"
     ]
    }
   ],
   "source": [
    "# Calculate the average spend by transaction type\n",
    "average_spend_by_transaction_type = merged_df.groupby('txn_type')['txn_total'].mean().reset_index()\n",
    "\n",
    "print(average_spend_by_transaction_type)"
   ]
  },
  {
   "cell_type": "markdown",
   "id": "464d4b40",
   "metadata": {},
   "source": [
    "Q9. What is the average spend by transaction type (e.g. credit, debit, cash)?"
   ]
  },
  {
   "cell_type": "code",
   "execution_count": null,
   "id": "736de1e2",
   "metadata": {},
   "outputs": [],
   "source": [
    "# same question as of the above question number 8.\n",
    "# Get the row with the highest count for each province\n",
    "idx = most_popular_txn_type_by_province.groupby('province')['count'].idxmax()\n",
    "result = most_popular_txn_type_by_province.loc[idx]\n",
    "\n",
    "# Print the result\n",
    "print(result)"
   ]
  }
 ],
 "metadata": {
  "kernelspec": {
   "display_name": "Python 3 (ipykernel)",
   "language": "python",
   "name": "python3"
  },
  "language_info": {
   "codemirror_mode": {
    "name": "ipython",
    "version": 3
   },
   "file_extension": ".py",
   "mimetype": "text/x-python",
   "name": "python",
   "nbconvert_exporter": "python",
   "pygments_lexer": "ipython3",
   "version": "3.10.9"
  }
 },
 "nbformat": 4,
 "nbformat_minor": 5
}
