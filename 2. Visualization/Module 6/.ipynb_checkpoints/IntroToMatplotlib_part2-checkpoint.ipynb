{
 "cells": [
  {
   "cell_type": "code",
   "execution_count": 18,
   "id": "97d8db98",
   "metadata": {},
   "outputs": [],
   "source": [
    "import pandas as pd\n",
    "import numpy as np\n",
    "import matplotlib.pyplot as plt\n",
    "%matplotlib inline"
   ]
  },
  {
   "cell_type": "code",
   "execution_count": null,
   "id": "2c22c0f9",
   "metadata": {},
   "outputs": [],
   "source": [
    "df = pd.read_csv('../data/CustomersTransactions2021.csv')"
   ]
  },
  {
   "cell_type": "code",
   "execution_count": null,
   "id": "7b485b5d",
   "metadata": {},
   "outputs": [],
   "source": [
    "df.shape"
   ]
  },
  {
   "cell_type": "code",
   "execution_count": null,
   "id": "880ec1ca",
   "metadata": {},
   "outputs": [
    {
     "data": {
      "text/html": [
       "<div>\n",
       "<style scoped>\n",
       "    .dataframe tbody tr th:only-of-type {\n",
       "        vertical-align: middle;\n",
       "    }\n",
       "\n",
       "    .dataframe tbody tr th {\n",
       "        vertical-align: top;\n",
       "    }\n",
       "\n",
       "    .dataframe thead th {\n",
       "        text-align: right;\n",
       "    }\n",
       "</style>\n",
       "<table border=\"1\" class=\"dataframe\">\n",
       "  <thead>\n",
       "    <tr style=\"text-align: right;\">\n",
       "      <th></th>\n",
       "      <th>customer_id</th>\n",
       "      <th>id</th>\n",
       "      <th>txn_type</th>\n",
       "      <th>txn_total</th>\n",
       "      <th>Customers</th>\n",
       "      <th>Products</th>\n",
       "      <th>Province</th>\n",
       "      <th>Relationship</th>\n",
       "      <th>Category</th>\n",
       "    </tr>\n",
       "  </thead>\n",
       "  <tbody>\n",
       "    <tr>\n",
       "      <th>0</th>\n",
       "      <td>1001</td>\n",
       "      <td>1</td>\n",
       "      <td>Debit</td>\n",
       "      <td>165.78</td>\n",
       "      <td>Johnny Awesome</td>\n",
       "      <td>3</td>\n",
       "      <td>ON</td>\n",
       "      <td>1</td>\n",
       "      <td>wealth</td>\n",
       "    </tr>\n",
       "    <tr>\n",
       "      <th>1</th>\n",
       "      <td>1001</td>\n",
       "      <td>2</td>\n",
       "      <td>Credit</td>\n",
       "      <td>42.10</td>\n",
       "      <td>Johnny Awesome</td>\n",
       "      <td>3</td>\n",
       "      <td>ON</td>\n",
       "      <td>1</td>\n",
       "      <td>wealth</td>\n",
       "    </tr>\n",
       "    <tr>\n",
       "      <th>2</th>\n",
       "      <td>1001</td>\n",
       "      <td>4</td>\n",
       "      <td>Credit</td>\n",
       "      <td>103.03</td>\n",
       "      <td>Johnny Awesome</td>\n",
       "      <td>3</td>\n",
       "      <td>ON</td>\n",
       "      <td>1</td>\n",
       "      <td>wealth</td>\n",
       "    </tr>\n",
       "    <tr>\n",
       "      <th>3</th>\n",
       "      <td>1001</td>\n",
       "      <td>5</td>\n",
       "      <td>Credit</td>\n",
       "      <td>56.60</td>\n",
       "      <td>Johnny Awesome</td>\n",
       "      <td>3</td>\n",
       "      <td>ON</td>\n",
       "      <td>1</td>\n",
       "      <td>wealth</td>\n",
       "    </tr>\n",
       "    <tr>\n",
       "      <th>4</th>\n",
       "      <td>1002</td>\n",
       "      <td>6</td>\n",
       "      <td>Debit</td>\n",
       "      <td>214.34</td>\n",
       "      <td>Bob Marley</td>\n",
       "      <td>4</td>\n",
       "      <td>ON</td>\n",
       "      <td>1</td>\n",
       "      <td>personal_banking</td>\n",
       "    </tr>\n",
       "  </tbody>\n",
       "</table>\n",
       "</div>"
      ],
      "text/plain": [
       "   customer_id  id txn_type  txn_total       Customers  Products Province  \\\n",
       "0         1001   1    Debit     165.78  Johnny Awesome         3       ON   \n",
       "1         1001   2   Credit      42.10  Johnny Awesome         3       ON   \n",
       "2         1001   4   Credit     103.03  Johnny Awesome         3       ON   \n",
       "3         1001   5   Credit      56.60  Johnny Awesome         3       ON   \n",
       "4         1002   6    Debit     214.34      Bob Marley         4       ON   \n",
       "\n",
       "   Relationship          Category  \n",
       "0             1            wealth  \n",
       "1             1            wealth  \n",
       "2             1            wealth  \n",
       "3             1            wealth  \n",
       "4             1  personal_banking  "
      ]
     },
     "execution_count": 21,
     "metadata": {},
     "output_type": "execute_result"
    }
   ],
   "source": [
    "df.head()"
   ]
  },
  {
   "cell_type": "code",
   "execution_count": 22,
   "id": "d144b67c",
   "metadata": {},
   "outputs": [
    {
     "data": {
      "text/html": [
       "<div>\n",
       "<style scoped>\n",
       "    .dataframe tbody tr th:only-of-type {\n",
       "        vertical-align: middle;\n",
       "    }\n",
       "\n",
       "    .dataframe tbody tr th {\n",
       "        vertical-align: top;\n",
       "    }\n",
       "\n",
       "    .dataframe thead th {\n",
       "        text-align: right;\n",
       "    }\n",
       "</style>\n",
       "<table border=\"1\" class=\"dataframe\">\n",
       "  <thead>\n",
       "    <tr style=\"text-align: right;\">\n",
       "      <th></th>\n",
       "      <th>customer_id</th>\n",
       "      <th>id</th>\n",
       "      <th>txn_type</th>\n",
       "      <th>txn_total</th>\n",
       "      <th>Customers</th>\n",
       "      <th>Products</th>\n",
       "      <th>Province</th>\n",
       "      <th>Relationship</th>\n",
       "      <th>Category</th>\n",
       "    </tr>\n",
       "  </thead>\n",
       "  <tbody>\n",
       "    <tr>\n",
       "      <th>0</th>\n",
       "      <td>1001</td>\n",
       "      <td>1</td>\n",
       "      <td>Debit</td>\n",
       "      <td>165.78</td>\n",
       "      <td>Johnny Awesome</td>\n",
       "      <td>3</td>\n",
       "      <td>ON</td>\n",
       "      <td>1</td>\n",
       "      <td>wealth</td>\n",
       "    </tr>\n",
       "    <tr>\n",
       "      <th>1</th>\n",
       "      <td>1001</td>\n",
       "      <td>2</td>\n",
       "      <td>Credit</td>\n",
       "      <td>42.10</td>\n",
       "      <td>Johnny Awesome</td>\n",
       "      <td>3</td>\n",
       "      <td>ON</td>\n",
       "      <td>1</td>\n",
       "      <td>wealth</td>\n",
       "    </tr>\n",
       "    <tr>\n",
       "      <th>2</th>\n",
       "      <td>1001</td>\n",
       "      <td>4</td>\n",
       "      <td>Credit</td>\n",
       "      <td>103.03</td>\n",
       "      <td>Johnny Awesome</td>\n",
       "      <td>3</td>\n",
       "      <td>ON</td>\n",
       "      <td>1</td>\n",
       "      <td>wealth</td>\n",
       "    </tr>\n",
       "    <tr>\n",
       "      <th>3</th>\n",
       "      <td>1001</td>\n",
       "      <td>5</td>\n",
       "      <td>Credit</td>\n",
       "      <td>56.60</td>\n",
       "      <td>Johnny Awesome</td>\n",
       "      <td>3</td>\n",
       "      <td>ON</td>\n",
       "      <td>1</td>\n",
       "      <td>wealth</td>\n",
       "    </tr>\n",
       "    <tr>\n",
       "      <th>4</th>\n",
       "      <td>1002</td>\n",
       "      <td>6</td>\n",
       "      <td>Debit</td>\n",
       "      <td>214.34</td>\n",
       "      <td>Bob Marley</td>\n",
       "      <td>4</td>\n",
       "      <td>ON</td>\n",
       "      <td>1</td>\n",
       "      <td>personal_banking</td>\n",
       "    </tr>\n",
       "    <tr>\n",
       "      <th>5</th>\n",
       "      <td>1002</td>\n",
       "      <td>7</td>\n",
       "      <td>Cash</td>\n",
       "      <td>115.69</td>\n",
       "      <td>Bob Marley</td>\n",
       "      <td>4</td>\n",
       "      <td>ON</td>\n",
       "      <td>1</td>\n",
       "      <td>personal_banking</td>\n",
       "    </tr>\n",
       "    <tr>\n",
       "      <th>6</th>\n",
       "      <td>1002</td>\n",
       "      <td>8</td>\n",
       "      <td>Debit</td>\n",
       "      <td>21.37</td>\n",
       "      <td>Bob Marley</td>\n",
       "      <td>4</td>\n",
       "      <td>ON</td>\n",
       "      <td>1</td>\n",
       "      <td>personal_banking</td>\n",
       "    </tr>\n",
       "    <tr>\n",
       "      <th>7</th>\n",
       "      <td>1004</td>\n",
       "      <td>9</td>\n",
       "      <td>Cash</td>\n",
       "      <td>227.58</td>\n",
       "      <td>Taylor Swift</td>\n",
       "      <td>2</td>\n",
       "      <td>AB</td>\n",
       "      <td>2</td>\n",
       "      <td>hnw</td>\n",
       "    </tr>\n",
       "    <tr>\n",
       "      <th>8</th>\n",
       "      <td>1004</td>\n",
       "      <td>10</td>\n",
       "      <td>Credit</td>\n",
       "      <td>5.92</td>\n",
       "      <td>Taylor Swift</td>\n",
       "      <td>2</td>\n",
       "      <td>AB</td>\n",
       "      <td>2</td>\n",
       "      <td>hnw</td>\n",
       "    </tr>\n",
       "    <tr>\n",
       "      <th>9</th>\n",
       "      <td>1006</td>\n",
       "      <td>11</td>\n",
       "      <td>Debit</td>\n",
       "      <td>225.89</td>\n",
       "      <td>Stephen Smith</td>\n",
       "      <td>5</td>\n",
       "      <td>ON</td>\n",
       "      <td>4</td>\n",
       "      <td>hnw</td>\n",
       "    </tr>\n",
       "    <tr>\n",
       "      <th>10</th>\n",
       "      <td>1014</td>\n",
       "      <td>12</td>\n",
       "      <td>Cash</td>\n",
       "      <td>67.96</td>\n",
       "      <td>Delilah Avery</td>\n",
       "      <td>2</td>\n",
       "      <td>AB</td>\n",
       "      <td>3</td>\n",
       "      <td>personal_banking</td>\n",
       "    </tr>\n",
       "    <tr>\n",
       "      <th>11</th>\n",
       "      <td>1014</td>\n",
       "      <td>20</td>\n",
       "      <td>Debit</td>\n",
       "      <td>449.39</td>\n",
       "      <td>Delilah Avery</td>\n",
       "      <td>2</td>\n",
       "      <td>AB</td>\n",
       "      <td>3</td>\n",
       "      <td>personal_banking</td>\n",
       "    </tr>\n",
       "    <tr>\n",
       "      <th>12</th>\n",
       "      <td>1014</td>\n",
       "      <td>28</td>\n",
       "      <td>Cash</td>\n",
       "      <td>183.08</td>\n",
       "      <td>Delilah Avery</td>\n",
       "      <td>2</td>\n",
       "      <td>AB</td>\n",
       "      <td>3</td>\n",
       "      <td>personal_banking</td>\n",
       "    </tr>\n",
       "    <tr>\n",
       "      <th>13</th>\n",
       "      <td>1254</td>\n",
       "      <td>13</td>\n",
       "      <td>Debit</td>\n",
       "      <td>235.79</td>\n",
       "      <td>Johnson Cory</td>\n",
       "      <td>1</td>\n",
       "      <td>AB</td>\n",
       "      <td>4</td>\n",
       "      <td>hnw</td>\n",
       "    </tr>\n",
       "    <tr>\n",
       "      <th>14</th>\n",
       "      <td>1254</td>\n",
       "      <td>21</td>\n",
       "      <td>Cash</td>\n",
       "      <td>15.26</td>\n",
       "      <td>Johnson Cory</td>\n",
       "      <td>1</td>\n",
       "      <td>AB</td>\n",
       "      <td>4</td>\n",
       "      <td>hnw</td>\n",
       "    </tr>\n",
       "  </tbody>\n",
       "</table>\n",
       "</div>"
      ],
      "text/plain": [
       "    customer_id  id txn_type  txn_total       Customers  Products Province  \\\n",
       "0          1001   1    Debit     165.78  Johnny Awesome         3       ON   \n",
       "1          1001   2   Credit      42.10  Johnny Awesome         3       ON   \n",
       "2          1001   4   Credit     103.03  Johnny Awesome         3       ON   \n",
       "3          1001   5   Credit      56.60  Johnny Awesome         3       ON   \n",
       "4          1002   6    Debit     214.34      Bob Marley         4       ON   \n",
       "5          1002   7     Cash     115.69      Bob Marley         4       ON   \n",
       "6          1002   8    Debit      21.37      Bob Marley         4       ON   \n",
       "7          1004   9     Cash     227.58    Taylor Swift         2       AB   \n",
       "8          1004  10   Credit       5.92    Taylor Swift         2       AB   \n",
       "9          1006  11    Debit     225.89   Stephen Smith         5       ON   \n",
       "10         1014  12     Cash      67.96   Delilah Avery         2       AB   \n",
       "11         1014  20    Debit     449.39   Delilah Avery         2       AB   \n",
       "12         1014  28     Cash     183.08   Delilah Avery         2       AB   \n",
       "13         1254  13    Debit     235.79    Johnson Cory         1       AB   \n",
       "14         1254  21     Cash      15.26    Johnson Cory         1       AB   \n",
       "\n",
       "    Relationship          Category  \n",
       "0              1            wealth  \n",
       "1              1            wealth  \n",
       "2              1            wealth  \n",
       "3              1            wealth  \n",
       "4              1  personal_banking  \n",
       "5              1  personal_banking  \n",
       "6              1  personal_banking  \n",
       "7              2               hnw  \n",
       "8              2               hnw  \n",
       "9              4               hnw  \n",
       "10             3  personal_banking  \n",
       "11             3  personal_banking  \n",
       "12             3  personal_banking  \n",
       "13             4               hnw  \n",
       "14             4               hnw  "
      ]
     },
     "execution_count": 22,
     "metadata": {},
     "output_type": "execute_result"
    }
   ],
   "source": [
    "df.head(15)"
   ]
  },
  {
   "cell_type": "markdown",
   "id": "0cfef406",
   "metadata": {},
   "source": [
    "#### 1) 'Transaction_ID' v/s 'Txn_total':"
   ]
  },
  {
   "cell_type": "code",
   "execution_count": 23,
   "id": "eda2e781",
   "metadata": {},
   "outputs": [],
   "source": [
    "# sorting 'txn_id' to plot it along a Line Graph:"
   ]
  },
  {
   "cell_type": "code",
   "execution_count": 24,
   "id": "2ea1cd90",
   "metadata": {},
   "outputs": [],
   "source": [
    "df.sort_values('id', inplace = True)"
   ]
  },
  {
   "cell_type": "code",
   "execution_count": 25,
   "id": "c9e30e4d",
   "metadata": {},
   "outputs": [
    {
     "data": {
      "text/html": [
       "<div>\n",
       "<style scoped>\n",
       "    .dataframe tbody tr th:only-of-type {\n",
       "        vertical-align: middle;\n",
       "    }\n",
       "\n",
       "    .dataframe tbody tr th {\n",
       "        vertical-align: top;\n",
       "    }\n",
       "\n",
       "    .dataframe thead th {\n",
       "        text-align: right;\n",
       "    }\n",
       "</style>\n",
       "<table border=\"1\" class=\"dataframe\">\n",
       "  <thead>\n",
       "    <tr style=\"text-align: right;\">\n",
       "      <th></th>\n",
       "      <th>customer_id</th>\n",
       "      <th>id</th>\n",
       "      <th>txn_type</th>\n",
       "      <th>txn_total</th>\n",
       "      <th>Customers</th>\n",
       "      <th>Products</th>\n",
       "      <th>Province</th>\n",
       "      <th>Relationship</th>\n",
       "      <th>Category</th>\n",
       "    </tr>\n",
       "  </thead>\n",
       "  <tbody>\n",
       "    <tr>\n",
       "      <th>0</th>\n",
       "      <td>1001</td>\n",
       "      <td>1</td>\n",
       "      <td>Debit</td>\n",
       "      <td>165.78</td>\n",
       "      <td>Johnny Awesome</td>\n",
       "      <td>3</td>\n",
       "      <td>ON</td>\n",
       "      <td>1</td>\n",
       "      <td>wealth</td>\n",
       "    </tr>\n",
       "    <tr>\n",
       "      <th>1</th>\n",
       "      <td>1001</td>\n",
       "      <td>2</td>\n",
       "      <td>Credit</td>\n",
       "      <td>42.10</td>\n",
       "      <td>Johnny Awesome</td>\n",
       "      <td>3</td>\n",
       "      <td>ON</td>\n",
       "      <td>1</td>\n",
       "      <td>wealth</td>\n",
       "    </tr>\n",
       "    <tr>\n",
       "      <th>2</th>\n",
       "      <td>1001</td>\n",
       "      <td>4</td>\n",
       "      <td>Credit</td>\n",
       "      <td>103.03</td>\n",
       "      <td>Johnny Awesome</td>\n",
       "      <td>3</td>\n",
       "      <td>ON</td>\n",
       "      <td>1</td>\n",
       "      <td>wealth</td>\n",
       "    </tr>\n",
       "    <tr>\n",
       "      <th>3</th>\n",
       "      <td>1001</td>\n",
       "      <td>5</td>\n",
       "      <td>Credit</td>\n",
       "      <td>56.60</td>\n",
       "      <td>Johnny Awesome</td>\n",
       "      <td>3</td>\n",
       "      <td>ON</td>\n",
       "      <td>1</td>\n",
       "      <td>wealth</td>\n",
       "    </tr>\n",
       "    <tr>\n",
       "      <th>4</th>\n",
       "      <td>1002</td>\n",
       "      <td>6</td>\n",
       "      <td>Debit</td>\n",
       "      <td>214.34</td>\n",
       "      <td>Bob Marley</td>\n",
       "      <td>4</td>\n",
       "      <td>ON</td>\n",
       "      <td>1</td>\n",
       "      <td>personal_banking</td>\n",
       "    </tr>\n",
       "    <tr>\n",
       "      <th>5</th>\n",
       "      <td>1002</td>\n",
       "      <td>7</td>\n",
       "      <td>Cash</td>\n",
       "      <td>115.69</td>\n",
       "      <td>Bob Marley</td>\n",
       "      <td>4</td>\n",
       "      <td>ON</td>\n",
       "      <td>1</td>\n",
       "      <td>personal_banking</td>\n",
       "    </tr>\n",
       "    <tr>\n",
       "      <th>6</th>\n",
       "      <td>1002</td>\n",
       "      <td>8</td>\n",
       "      <td>Debit</td>\n",
       "      <td>21.37</td>\n",
       "      <td>Bob Marley</td>\n",
       "      <td>4</td>\n",
       "      <td>ON</td>\n",
       "      <td>1</td>\n",
       "      <td>personal_banking</td>\n",
       "    </tr>\n",
       "    <tr>\n",
       "      <th>7</th>\n",
       "      <td>1004</td>\n",
       "      <td>9</td>\n",
       "      <td>Cash</td>\n",
       "      <td>227.58</td>\n",
       "      <td>Taylor Swift</td>\n",
       "      <td>2</td>\n",
       "      <td>AB</td>\n",
       "      <td>2</td>\n",
       "      <td>hnw</td>\n",
       "    </tr>\n",
       "    <tr>\n",
       "      <th>8</th>\n",
       "      <td>1004</td>\n",
       "      <td>10</td>\n",
       "      <td>Credit</td>\n",
       "      <td>5.92</td>\n",
       "      <td>Taylor Swift</td>\n",
       "      <td>2</td>\n",
       "      <td>AB</td>\n",
       "      <td>2</td>\n",
       "      <td>hnw</td>\n",
       "    </tr>\n",
       "    <tr>\n",
       "      <th>9</th>\n",
       "      <td>1006</td>\n",
       "      <td>11</td>\n",
       "      <td>Debit</td>\n",
       "      <td>225.89</td>\n",
       "      <td>Stephen Smith</td>\n",
       "      <td>5</td>\n",
       "      <td>ON</td>\n",
       "      <td>4</td>\n",
       "      <td>hnw</td>\n",
       "    </tr>\n",
       "    <tr>\n",
       "      <th>10</th>\n",
       "      <td>1014</td>\n",
       "      <td>12</td>\n",
       "      <td>Cash</td>\n",
       "      <td>67.96</td>\n",
       "      <td>Delilah Avery</td>\n",
       "      <td>2</td>\n",
       "      <td>AB</td>\n",
       "      <td>3</td>\n",
       "      <td>personal_banking</td>\n",
       "    </tr>\n",
       "    <tr>\n",
       "      <th>13</th>\n",
       "      <td>1254</td>\n",
       "      <td>13</td>\n",
       "      <td>Debit</td>\n",
       "      <td>235.79</td>\n",
       "      <td>Johnson Cory</td>\n",
       "      <td>1</td>\n",
       "      <td>AB</td>\n",
       "      <td>4</td>\n",
       "      <td>hnw</td>\n",
       "    </tr>\n",
       "    <tr>\n",
       "      <th>16</th>\n",
       "      <td>1285</td>\n",
       "      <td>14</td>\n",
       "      <td>Cash</td>\n",
       "      <td>160.89</td>\n",
       "      <td>Maria Alva</td>\n",
       "      <td>5</td>\n",
       "      <td>ON</td>\n",
       "      <td>2</td>\n",
       "      <td>wealth</td>\n",
       "    </tr>\n",
       "    <tr>\n",
       "      <th>19</th>\n",
       "      <td>1354</td>\n",
       "      <td>15</td>\n",
       "      <td>Credit</td>\n",
       "      <td>377.26</td>\n",
       "      <td>Jessica Fast</td>\n",
       "      <td>4</td>\n",
       "      <td>BC</td>\n",
       "      <td>5</td>\n",
       "      <td>personal_banking</td>\n",
       "    </tr>\n",
       "    <tr>\n",
       "      <th>22</th>\n",
       "      <td>1005</td>\n",
       "      <td>16</td>\n",
       "      <td>Debit</td>\n",
       "      <td>276.01</td>\n",
       "      <td>Mariah Anita Smith</td>\n",
       "      <td>2</td>\n",
       "      <td>BC</td>\n",
       "      <td>3</td>\n",
       "      <td>personal_banking</td>\n",
       "    </tr>\n",
       "  </tbody>\n",
       "</table>\n",
       "</div>"
      ],
      "text/plain": [
       "    customer_id  id txn_type  txn_total           Customers  Products  \\\n",
       "0          1001   1    Debit     165.78      Johnny Awesome         3   \n",
       "1          1001   2   Credit      42.10      Johnny Awesome         3   \n",
       "2          1001   4   Credit     103.03      Johnny Awesome         3   \n",
       "3          1001   5   Credit      56.60      Johnny Awesome         3   \n",
       "4          1002   6    Debit     214.34          Bob Marley         4   \n",
       "5          1002   7     Cash     115.69          Bob Marley         4   \n",
       "6          1002   8    Debit      21.37          Bob Marley         4   \n",
       "7          1004   9     Cash     227.58        Taylor Swift         2   \n",
       "8          1004  10   Credit       5.92        Taylor Swift         2   \n",
       "9          1006  11    Debit     225.89       Stephen Smith         5   \n",
       "10         1014  12     Cash      67.96       Delilah Avery         2   \n",
       "13         1254  13    Debit     235.79        Johnson Cory         1   \n",
       "16         1285  14     Cash     160.89          Maria Alva         5   \n",
       "19         1354  15   Credit     377.26        Jessica Fast         4   \n",
       "22         1005  16    Debit     276.01  Mariah Anita Smith         2   \n",
       "\n",
       "   Province  Relationship          Category  \n",
       "0        ON             1            wealth  \n",
       "1        ON             1            wealth  \n",
       "2        ON             1            wealth  \n",
       "3        ON             1            wealth  \n",
       "4        ON             1  personal_banking  \n",
       "5        ON             1  personal_banking  \n",
       "6        ON             1  personal_banking  \n",
       "7        AB             2               hnw  \n",
       "8        AB             2               hnw  \n",
       "9        ON             4               hnw  \n",
       "10       AB             3  personal_banking  \n",
       "13       AB             4               hnw  \n",
       "16       ON             2            wealth  \n",
       "19       BC             5  personal_banking  \n",
       "22       BC             3  personal_banking  "
      ]
     },
     "execution_count": 25,
     "metadata": {},
     "output_type": "execute_result"
    }
   ],
   "source": [
    "df.head(15)"
   ]
  },
  {
   "cell_type": "markdown",
   "id": "4a7c6c1b",
   "metadata": {},
   "source": [
    "### 2) plot():"
   ]
  },
  {
   "cell_type": "code",
   "execution_count": null,
   "id": "fb8cf8ac",
   "metadata": {},
   "outputs": [],
   "source": [
    "plt.plot(df['id'] , df['txn_total'])"
   ]
  },
  {
   "cell_type": "code",
   "execution_count": null,
   "id": "f5802cb4",
   "metadata": {},
   "outputs": [],
   "source": [
    "plt.plot(df['id'] , df['txn_total'], 'r--', label = 'TRANSACTION AMTS.')\n",
    "plt.title('Line Graph of Txn_Total')\n",
    "plt.xlabel('Transaction_ID')\n",
    "plt.ylabel('Txn amounts in $', rotation = 0, loc = \"top\", labelpad = 40)\n",
    "plt.legend()"
   ]
  },
  {
   "cell_type": "code",
   "execution_count": null,
   "id": "abfc63f7",
   "metadata": {},
   "outputs": [],
   "source": [
    "plt.figure(figsize = (15, 5))\n",
    "plt.plot(df['id'] , df['txn_total'], 'mo:', label = 'TRANSACTION AMTS.')\n",
    "plt.title('Line Graph of Txn_Total')\n",
    "plt.xlabel('Transaction_ID')\n",
    "plt.ylabel('Txn amounts in $', rotation = 0, loc = \"top\")\n",
    "plt.legend()"
   ]
  },
  {
   "cell_type": "code",
   "execution_count": null,
   "id": "f7d821ae",
   "metadata": {},
   "outputs": [],
   "source": [
    "plt.figure(figsize = (15, 5))\n",
    "plt.plot(df['id'] , df['txn_total'], 'mo:', label = 'TRANSACTION AMTS.', linewidth = 4)\n",
    "plt.title('Line Graph of Txn_Total')\n",
    "plt.xlabel('Transaction_ID')\n",
    "plt.ylabel('Txn amounts in $', rotation = 0, loc = \"top\")\n",
    "plt.legend()"
   ]
  },
  {
   "cell_type": "markdown",
   "id": "fad74ddd",
   "metadata": {},
   "source": [
    "##### Separate Function, to Annotate every marker ('point'):"
   ]
  },
  {
   "cell_type": "code",
   "execution_count": null,
   "id": "762d780f",
   "metadata": {},
   "outputs": [],
   "source": [
    "plt.figure(figsize = (15, 8))\n",
    "plt.plot(df['id'] , df['txn_total'], 'mo:', label = 'TRANSACTION AMTS.', linewidth = 4)\n",
    "plt.title('Line Graph of Txn_Total')\n",
    "plt.xlabel('Transaction_ID')\n",
    "plt.ylabel('Txn amounts in $', rotation = 0, loc = \"top\")\n",
    "plt.legend()\n",
    "\n",
    "# 'zip': SHAHAF's answer in \n",
    "# https://stackoverflow.com/questions/49783594/for-loop-and-zip-in-python\n",
    "for x,y in zip(df['id'] , df['txn_total']):\n",
    "    label = \"{:.2f}\".format(y)\n",
    "    plt.annotate(label, (x,y))  "
   ]
  },
  {
   "cell_type": "markdown",
   "id": "533c6d01",
   "metadata": {},
   "source": [
    "### 3) Histograms:"
   ]
  },
  {
   "cell_type": "code",
   "execution_count": null,
   "id": "31e02238",
   "metadata": {},
   "outputs": [],
   "source": [
    "df.head(5)"
   ]
  },
  {
   "cell_type": "code",
   "execution_count": null,
   "id": "8cc0a9a0",
   "metadata": {},
   "outputs": [],
   "source": [
    "plt.hist(df['txn_total'])"
   ]
  },
  {
   "cell_type": "code",
   "execution_count": null,
   "id": "795735fa",
   "metadata": {},
   "outputs": [],
   "source": [
    "plt.hist(df['txn_total'], bins = 5)"
   ]
  },
  {
   "cell_type": "code",
   "execution_count": null,
   "id": "d4dcbde1",
   "metadata": {},
   "outputs": [],
   "source": [
    "plt.hist(df['txn_total'], bins = 5, label = 'TRANSACTION_TOTAL')\n",
    "plt.title('Histogram of Txn_total')\n",
    "plt.xlabel('Txn amounts in $')\n",
    "plt.ylabel('Count of Txns')\n",
    "plt.legend()"
   ]
  },
  {
   "cell_type": "code",
   "execution_count": null,
   "id": "8d4e5632",
   "metadata": {},
   "outputs": [],
   "source": [
    "n,bins, patches = plt.hist(df['txn_total'], bins = 5, label = 'TRANSACTION_TOTAL')\n",
    "plt.title('Histogram of Txn_total')\n",
    "plt.xlabel('Txn amounts in $')\n",
    "plt.ylabel('Count of Txns')\n",
    "plt.legend()"
   ]
  },
  {
   "cell_type": "code",
   "execution_count": null,
   "id": "6c96185f",
   "metadata": {},
   "outputs": [],
   "source": [
    "n"
   ]
  },
  {
   "cell_type": "code",
   "execution_count": null,
   "id": "d45254b3",
   "metadata": {},
   "outputs": [],
   "source": [
    "bins"
   ]
  },
  {
   "cell_type": "code",
   "execution_count": null,
   "id": "a9ec525a",
   "metadata": {},
   "outputs": [],
   "source": [
    "patches"
   ]
  },
  {
   "cell_type": "markdown",
   "id": "345bd576",
   "metadata": {},
   "source": [
    "#### 4) Boxplots:"
   ]
  },
  {
   "cell_type": "code",
   "execution_count": null,
   "id": "012a2fde",
   "metadata": {},
   "outputs": [],
   "source": [
    "plt.boxplot(df['txn_total'])\n",
    "plt.title('Boxplot of Txn_amts')\n",
    "plt.xlabel('Txn amounts')\n",
    "plt.ylabel('ranges')"
   ]
  },
  {
   "cell_type": "code",
   "execution_count": null,
   "id": "c9d29f0e",
   "metadata": {},
   "outputs": [],
   "source": [
    "df.describe()"
   ]
  },
  {
   "cell_type": "markdown",
   "id": "741c1707",
   "metadata": {},
   "source": [
    "#### 5) Subplots:"
   ]
  },
  {
   "cell_type": "code",
   "execution_count": null,
   "id": "82f976f7",
   "metadata": {},
   "outputs": [],
   "source": [
    "# to display multiple plots, in the same Figure object:"
   ]
  },
  {
   "cell_type": "code",
   "execution_count": null,
   "id": "97f156b0",
   "metadata": {},
   "outputs": [],
   "source": [
    "df.head()"
   ]
  },
  {
   "cell_type": "code",
   "execution_count": null,
   "id": "198f4771",
   "metadata": {},
   "outputs": [],
   "source": [
    "df['Customers'].unique()"
   ]
  },
  {
   "cell_type": "code",
   "execution_count": null,
   "id": "a13cfc16",
   "metadata": {},
   "outputs": [],
   "source": [
    "fig, ((ax1, ax2, ax3) , (ax4, ax5, ax6)) =  plt.subplots(2,3)"
   ]
  },
  {
   "cell_type": "code",
   "execution_count": null,
   "id": "e2c98b77",
   "metadata": {},
   "outputs": [],
   "source": [
    "fig, ((ax1, ax2, ax3) , (ax4, ax5, ax6)) =  plt.subplots(2,3, sharex = True, sharey = True,\n",
    "                                                         figsize = (10, 5) )"
   ]
  },
  {
   "cell_type": "code",
   "execution_count": null,
   "id": "24c1f125",
   "metadata": {},
   "outputs": [],
   "source": [
    "fig, ((ax1, ax2, ax3) , (ax4, ax5, ax6)) =  plt.subplots(2,3, sharex = False, sharey = True,\n",
    "                                                         figsize = (10, 5) )\n",
    "\n",
    "ax1.plot(df[df['Customers']== \"Johnny Awesome\"]['id'], \n",
    "         df[df['Customers']== \"Johnny Awesome\"]['txn_total'], 'r--' )\n",
    "\n",
    "\n",
    "ax2.plot(df[df['Customers']== \"Bob Marley\"]['id'], \n",
    "         df[df['Customers']== \"Bob Marley\"]['txn_total'], 'g:' )\n",
    "\n",
    "\n",
    "ax3.plot(df[df['Customers']== \"Taylor Swift\"]['id'], \n",
    "         df[df['Customers']== \"Taylor Swift\"]['txn_total'], 'ro-' )\n"
   ]
  },
  {
   "cell_type": "code",
   "execution_count": null,
   "id": "a0c7fa57",
   "metadata": {},
   "outputs": [],
   "source": [
    "fig, ((ax1, ax2, ax3) , (ax4, ax5, ax6)) =  plt.subplots(2,3, sharex = False, sharey = True,\n",
    "                                                         figsize = (10, 5) )\n",
    "\n",
    "ax1.plot(df[df['Customers']== \"Johnny Awesome\"]['id'], \n",
    "         df[df['Customers']== \"Johnny Awesome\"]['txn_total'], 'r--' )\n",
    "\n",
    "\n",
    "ax2.plot(df[df['Customers']== \"Bob Marley\"]['id'], \n",
    "         df[df['Customers']== \"Bob Marley\"]['txn_total'], 'g:' )\n",
    "\n",
    "\n",
    "ax3.plot(df[df['Customers']== \"Taylor Swift\"]['id'], \n",
    "         df[df['Customers']== \"Taylor Swift\"]['txn_total'], 'ro-' )\n",
    "\n",
    "ax1.set_title(\"Johnny Awesome spend\")\n",
    "ax2.set_title(\"Bob Marley spend\")\n",
    "ax3.set_title(\"Taylor Swift spend\")"
   ]
  },
  {
   "cell_type": "code",
   "execution_count": null,
   "id": "29c1ff57",
   "metadata": {},
   "outputs": [],
   "source": [
    "plt.plot(df[df['Customers']== \"Johnny Awesome\"]['id'], \n",
    "         df[df['Customers']== \"Johnny Awesome\"]['txn_total'], 'r--')\n",
    "\n",
    "plt.plot(df[df['Customers']== \"Bob Marley\"]['id'], \n",
    "         df[df['Customers']== \"Bob Marley\"]['txn_total'], 'g:')"
   ]
  },
  {
   "cell_type": "markdown",
   "id": "1ac93489",
   "metadata": {},
   "source": [
    "#### 6) Bar Graphs:"
   ]
  },
  {
   "cell_type": "code",
   "execution_count": null,
   "id": "b4376529",
   "metadata": {},
   "outputs": [],
   "source": [
    "df.head()"
   ]
  },
  {
   "cell_type": "code",
   "execution_count": null,
   "id": "5edcdf37",
   "metadata": {},
   "outputs": [],
   "source": [
    "df['Category'].unique()"
   ]
  },
  {
   "cell_type": "code",
   "execution_count": null,
   "id": "66aab81a",
   "metadata": {},
   "outputs": [],
   "source": [
    "df.head(15)"
   ]
  },
  {
   "cell_type": "code",
   "execution_count": null,
   "id": "ebd415e4",
   "metadata": {},
   "outputs": [],
   "source": []
  },
  {
   "cell_type": "code",
   "execution_count": null,
   "id": "ea69a08b",
   "metadata": {},
   "outputs": [],
   "source": [
    "# Q1. Bar graph of ''#Customers, per Category': \n"
   ]
  },
  {
   "cell_type": "code",
   "execution_count": null,
   "id": "6f1d72fd",
   "metadata": {},
   "outputs": [],
   "source": [
    "# method#1:\n",
    "df.groupby('Category').aggregate({'customer_id': 'count'}).plot(kind = 'bar')\n",
    "\n",
    "# method2:\n",
    "# additional benefit: Lists the COUNTS in Descending order\n",
    "df['Category'].value_counts().plot(kind = 'bar')"
   ]
  },
  {
   "cell_type": "code",
   "execution_count": null,
   "id": "1d15427e",
   "metadata": {},
   "outputs": [],
   "source": []
  },
  {
   "cell_type": "code",
   "execution_count": null,
   "id": "c291eb92",
   "metadata": {},
   "outputs": [],
   "source": []
  },
  {
   "cell_type": "code",
   "execution_count": null,
   "id": "d83ac63f",
   "metadata": {},
   "outputs": [],
   "source": [
    "# Q2. Bar graph showing the total amount spent, per Category: "
   ]
  },
  {
   "cell_type": "code",
   "execution_count": null,
   "id": "51ca62fc",
   "metadata": {},
   "outputs": [],
   "source": [
    "df.groupby('Category').agg({'txn_total': 'sum'})"
   ]
  },
  {
   "cell_type": "code",
   "execution_count": null,
   "id": "86307091",
   "metadata": {},
   "outputs": [],
   "source": [
    "df.groupby('Category').agg({'txn_total': 'sum'}).plot(kind = 'bar')"
   ]
  },
  {
   "cell_type": "code",
   "execution_count": null,
   "id": "7e145640",
   "metadata": {},
   "outputs": [],
   "source": [
    "df.groupby('Category').agg({'txn_total': 'sum'}).plot(kind = 'bar', figsize = (10,5))"
   ]
  },
  {
   "cell_type": "code",
   "execution_count": null,
   "id": "4a00e454",
   "metadata": {},
   "outputs": [],
   "source": [
    "# To plot the above bars in descending order:"
   ]
  },
  {
   "cell_type": "code",
   "execution_count": null,
   "id": "07537c25",
   "metadata": {},
   "outputs": [],
   "source": [
    "df.groupby('Category').aggregate({'txn_total':'sum'}).\\\n",
    "    sort_values(by = 'txn_total', ascending = False).\\\n",
    "    plot(kind = 'bar')"
   ]
  },
  {
   "cell_type": "code",
   "execution_count": null,
   "id": "2b92f6ce",
   "metadata": {},
   "outputs": [],
   "source": [
    "# To annotate each bar:"
   ]
  },
  {
   "cell_type": "code",
   "execution_count": null,
   "id": "b6adf9b7",
   "metadata": {},
   "outputs": [],
   "source": [
    "sortedAmtSpent_df = df.groupby('Category').aggregate({'txn_total':'sum'}).sort_values(by = \n",
    "                                'txn_total', ascending = False)\n",
    "\n",
    "sortedAmtSpent_df.axes \n",
    "# O/P:\n",
    "# 3 indexes named 'pb, hnw, wealth'; \n",
    "# 1 column named 'txn_total'"
   ]
  },
  {
   "cell_type": "code",
   "execution_count": null,
   "id": "694c67d7",
   "metadata": {},
   "outputs": [],
   "source": [
    "amts = sortedAmtSpent_df['txn_total'] # Series object-- includes the Index_values in the o/p\n",
    "amts"
   ]
  },
  {
   "cell_type": "code",
   "execution_count": null,
   "id": "11cc1351",
   "metadata": {},
   "outputs": [],
   "source": [
    "for i, each_amt in enumerate(amts):\n",
    "    plt.text(i, each_amt, str(each_amt), ha = 'center', va = 'bottom')\n",
    "    \n",
    "# Syntax: `plt.bar()`:\n",
    "# plt.bar(LIST[x_centres_PerBar] or LIST[xLabels_per_Bar], LIST[Bar_heights], width_per_bar)\n",
    "plt.bar(sortedAmtSpent_df.index, sortedAmtSpent_df['txn_total'], color = ['magenta','cyan','pink'])\n",
    "\n",
    "    "
   ]
  },
  {
   "cell_type": "code",
   "execution_count": null,
   "id": "2e8a3bb0",
   "metadata": {},
   "outputs": [],
   "source": []
  },
  {
   "cell_type": "code",
   "execution_count": null,
   "id": "4803074e",
   "metadata": {},
   "outputs": [],
   "source": []
  },
  {
   "cell_type": "code",
   "execution_count": null,
   "id": "fef9a4db",
   "metadata": {},
   "outputs": [],
   "source": []
  },
  {
   "cell_type": "code",
   "execution_count": null,
   "id": "dd6a8087",
   "metadata": {},
   "outputs": [],
   "source": [
    "## ## Bar graph showing the amounts spent per 'txn_type', within each Banking_category: "
   ]
  },
  {
   "cell_type": "code",
   "execution_count": null,
   "id": "3ad3c322",
   "metadata": {},
   "outputs": [],
   "source": [
    "df.groupby(['Category','txn_type']).agg({'txn_total': 'sum'}) # o/p as a DF"
   ]
  },
  {
   "cell_type": "code",
   "execution_count": null,
   "id": "8546e6dc",
   "metadata": {},
   "outputs": [],
   "source": [
    "df.groupby(['Category','txn_type']).agg({'txn_total': 'sum'}).unstack('txn_type').\\\n",
    "plot(kind= 'bar', stacked = True)"
   ]
  },
  {
   "cell_type": "markdown",
   "id": "829263d9",
   "metadata": {},
   "source": [
    "### 7) Scatterplot():"
   ]
  },
  {
   "cell_type": "code",
   "execution_count": null,
   "id": "b259088d",
   "metadata": {},
   "outputs": [],
   "source": [
    "df.head()"
   ]
  },
  {
   "cell_type": "code",
   "execution_count": null,
   "id": "05a37b2e",
   "metadata": {},
   "outputs": [],
   "source": [
    "len(df)"
   ]
  },
  {
   "cell_type": "code",
   "execution_count": null,
   "id": "28280798",
   "metadata": {},
   "outputs": [],
   "source": [
    "df['acct_balance'] = np.random.randint(0,1000, size = len(df))"
   ]
  },
  {
   "cell_type": "code",
   "execution_count": null,
   "id": "53bf3a21",
   "metadata": {},
   "outputs": [],
   "source": [
    "df.head()"
   ]
  },
  {
   "cell_type": "code",
   "execution_count": null,
   "id": "c73d1bcf",
   "metadata": {},
   "outputs": [],
   "source": [
    "# x = acct_balance\n",
    "plt.scatter(df['acct_balance'], df['txn_total'])\n",
    "plt.title('Scatterplot of acct_bal & txn_total')\n",
    "plt.xlabel('acct_bal')\n",
    "plt.ylabel('txn_total')"
   ]
  },
  {
   "cell_type": "markdown",
   "id": "3c596ed6",
   "metadata": {},
   "source": [
    "#### 8) Seaborn:"
   ]
  },
  {
   "cell_type": "code",
   "execution_count": null,
   "id": "24e9662c",
   "metadata": {},
   "outputs": [],
   "source": [
    "import seaborn as sns"
   ]
  },
  {
   "cell_type": "markdown",
   "id": "53091c24",
   "metadata": {},
   "source": [
    "##### 8.1) Seaborn-> scatterplot:"
   ]
  },
  {
   "cell_type": "code",
   "execution_count": null,
   "id": "cc3122cc",
   "metadata": {},
   "outputs": [],
   "source": [
    "sns.lmplot(x = 'acct_balance' , y = 'txn_total' , data= df)"
   ]
  },
  {
   "cell_type": "markdown",
   "id": "06ec39e2",
   "metadata": {},
   "source": [
    "##### 8.2) Seaborn-> boxplot:"
   ]
  },
  {
   "cell_type": "code",
   "execution_count": null,
   "id": "83ad99eb",
   "metadata": {},
   "outputs": [],
   "source": [
    "sns.boxplot(x = 'Category' , y = 'txn_total' , data= df)"
   ]
  },
  {
   "cell_type": "markdown",
   "id": "c7c5448f",
   "metadata": {},
   "source": [
    "##### 8.3) Pairplot():"
   ]
  },
  {
   "cell_type": "code",
   "execution_count": null,
   "id": "4a1acde8",
   "metadata": {},
   "outputs": [],
   "source": [
    "sns.pairplot(df)"
   ]
  },
  {
   "cell_type": "code",
   "execution_count": null,
   "id": "5d820f6b",
   "metadata": {},
   "outputs": [],
   "source": [
    "# overlay a Categorical column:\n",
    "sns.pairplot(df, hue = 'txn_type')"
   ]
  },
  {
   "cell_type": "markdown",
   "id": "5017d811",
   "metadata": {},
   "source": [
    "#### 8.4) Heatmap:"
   ]
  },
  {
   "cell_type": "code",
   "execution_count": null,
   "id": "1a8b431d",
   "metadata": {},
   "outputs": [],
   "source": [
    "df.corr(numeric_only = True) # can only be used for Pandas-1.5.0 or higher"
   ]
  },
  {
   "cell_type": "code",
   "execution_count": null,
   "id": "f7ff3422",
   "metadata": {},
   "outputs": [],
   "source": [
    "print(pd.__version__)"
   ]
  },
  {
   "cell_type": "code",
   "execution_count": null,
   "id": "7c9313dc",
   "metadata": {},
   "outputs": [],
   "source": []
  },
  {
   "cell_type": "code",
   "execution_count": null,
   "id": "91ef9f44",
   "metadata": {},
   "outputs": [],
   "source": [
    "df.columns"
   ]
  },
  {
   "cell_type": "code",
   "execution_count": null,
   "id": "29ac94f7",
   "metadata": {},
   "outputs": [],
   "source": [
    "needed_numeric_cols = ['txn_total', 'Products', 'Relationship', 'acct_balance']\n",
    "\n",
    "sns.heatmap(df[needed_numeric_cols].corr(), annot = True, vmin = -1 , vmax = 1)"
   ]
  },
  {
   "cell_type": "markdown",
   "id": "3f89391a",
   "metadata": {},
   "source": [
    "##### 8.5) Distplots:"
   ]
  },
  {
   "cell_type": "code",
   "execution_count": null,
   "id": "18ed74de",
   "metadata": {},
   "outputs": [],
   "source": [
    "sns.distplot(df['txn_total'])\n",
    "plt.savefig('MY_DISTPLOT.pdf')"
   ]
  },
  {
   "cell_type": "markdown",
   "id": "18594b78",
   "metadata": {},
   "source": [
    "#### 8.6) Bubble charts:"
   ]
  },
  {
   "cell_type": "code",
   "execution_count": null,
   "id": "51becec0",
   "metadata": {},
   "outputs": [],
   "source": [
    "df.head()"
   ]
  },
  {
   "cell_type": "code",
   "execution_count": null,
   "id": "554304f5",
   "metadata": {},
   "outputs": [],
   "source": [
    "# Bubble Chart: \n",
    "# to visualize 4 variables on a scatterplot:\n",
    "\n",
    "sns.scatterplot( x = 'id', y = 'acct_balance', data= df, hue = 'txn_type', size = 'txn_total')\n",
    "\n",
    "plt.legend(loc = 1, bbox_to_anchor = (1.3, 1))  # to move the legend OUTSIDE the plot"
   ]
  },
  {
   "cell_type": "code",
   "execution_count": null,
   "id": "1bcc903c",
   "metadata": {},
   "outputs": [],
   "source": [
    "# setting the Bubble Chart to be of a specific size:\n",
    "\n",
    "width = 15\n",
    "height = 5\n",
    "\n",
    "\n",
    "sns.set(rc = {'figure.figsize': (width,height) })\n",
    "\n",
    "sns.scatterplot( x = 'id', y = 'txn_total', data = df, hue = 'txn_type', size = 'txn_total')\n",
    "\n",
    "plt.legend(loc = 1, bbox_to_anchor = (1.2,1))"
   ]
  },
  {
   "cell_type": "code",
   "execution_count": null,
   "id": "64103dd9",
   "metadata": {},
   "outputs": [],
   "source": []
  }
 ],
 "metadata": {
  "kernelspec": {
   "display_name": "Python 3 (ipykernel)",
   "language": "python",
   "name": "python3"
  },
  "language_info": {
   "codemirror_mode": {
    "name": "ipython",
    "version": 3
   },
   "file_extension": ".py",
   "mimetype": "text/x-python",
   "name": "python",
   "nbconvert_exporter": "python",
   "pygments_lexer": "ipython3",
   "version": "3.11.3"
  }
 },
 "nbformat": 4,
 "nbformat_minor": 5
}
