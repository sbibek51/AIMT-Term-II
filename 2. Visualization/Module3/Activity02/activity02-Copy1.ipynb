{
 "cells": [
  {
   "cell_type": "markdown",
   "metadata": {},
   "source": [
    "## Activity 02: Indexing, Slicing, and Iterating"
   ]
  },
  {
   "cell_type": "markdown",
   "metadata": {},
   "source": [
    "Our client wants to prove that our dataset is nicely distributed around the mean value of 100.   \n",
    "They asked us to run some tests on several subsections of it to make sure they won't get a non-descriptive section of our data.\n",
    "\n",
    "Look at the mean value of each subtask."
   ]
  },
  {
   "cell_type": "markdown",
   "metadata": {},
   "source": [
    "#### Loading the dataset"
   ]
  },
  {
   "cell_type": "code",
   "execution_count": 20,
   "metadata": {},
   "outputs": [],
   "source": [
    "# importing the necessary dependencies\n",
    "import numpy as np"
   ]
  },
  {
   "cell_type": "code",
   "execution_count": 23,
   "metadata": {},
   "outputs": [],
   "source": [
    "# loading the Dataset\n",
    "data = np.genfromtxt('./data/normal_distribution.csv',delimiter=',')"
   ]
  },
  {
   "cell_type": "markdown",
   "metadata": {},
   "source": [
    "---"
   ]
  },
  {
   "cell_type": "code",
   "execution_count": 24,
   "metadata": {},
   "outputs": [
    {
     "data": {
      "text/plain": [
       "array([[ 99.14931546, 104.03852715, 107.43534677,  97.85230675,\n",
       "         98.74986914,  98.80833412,  96.81964892,  98.56783189,\n",
       "        101.34745901],\n",
       "       [ 92.02628776,  97.10439252,  99.32066924,  97.24584816,\n",
       "         92.9267508 ,  92.65657752, 105.7197853 , 101.23162942,\n",
       "         93.87155456]])"
      ]
     },
     "execution_count": 24,
     "metadata": {},
     "output_type": "execute_result"
    }
   ],
   "source": [
    "data[:2]"
   ]
  },
  {
   "cell_type": "markdown",
   "metadata": {},
   "source": [
    "#### Indexing"
   ]
  },
  {
   "cell_type": "markdown",
   "metadata": {},
   "source": [
    "Since we need several rows of our dataset to complete the given task, we have to use indexing to get the right rows.   \n",
    "To recap, we need: \n",
    "- the second row \n",
    "- the last row\n",
    "- the first value of the first row\n",
    "- the last value of the second to the last row"
   ]
  },
  {
   "cell_type": "code",
   "execution_count": 25,
   "metadata": {},
   "outputs": [
    {
     "data": {
      "text/plain": [
       "array([ 92.02628776,  97.10439252,  99.32066924,  97.24584816,\n",
       "        92.9267508 ,  92.65657752, 105.7197853 , 101.23162942,\n",
       "        93.87155456])"
      ]
     },
     "execution_count": 25,
     "metadata": {},
     "output_type": "execute_result"
    }
   ],
   "source": [
    "# indexing the second row of the dataset (2nd row)\n",
    "data[1]"
   ]
  },
  {
   "cell_type": "code",
   "execution_count": 26,
   "metadata": {},
   "outputs": [
    {
     "data": {
      "text/plain": [
       "array([ 94.11176915,  99.62387832, 104.51786419,  97.62787811,\n",
       "        93.97853495,  98.75108352, 106.05042487, 100.07721494,\n",
       "       106.89005002])"
      ]
     },
     "execution_count": 26,
     "metadata": {},
     "output_type": "execute_result"
    }
   ],
   "source": [
    "# indexing the last element of the dataset (last row)\n",
    "data[-1]\n"
   ]
  },
  {
   "cell_type": "code",
   "execution_count": 29,
   "metadata": {},
   "outputs": [
    {
     "data": {
      "text/plain": [
       "92.02628776"
      ]
     },
     "execution_count": 29,
     "metadata": {},
     "output_type": "execute_result"
    }
   ],
   "source": [
    "# indexing the first value of the second row (1st row, 1st value)\n",
    "# data[1,0]\n",
    "# dataset[1,0]\n",
    "data[1][0]\n"
   ]
  },
  {
   "cell_type": "code",
   "execution_count": 28,
   "metadata": {},
   "outputs": [
    {
     "data": {
      "text/plain": [
       "array([101.2226037 , 106.89005002])"
      ]
     },
     "execution_count": 28,
     "metadata": {},
     "output_type": "execute_result"
    }
   ],
   "source": [
    "# indexing the last value of the second two last row (we want to use the combined access syntax here) \n",
    "\n",
    "data[-2:,-1]"
   ]
  },
  {
   "cell_type": "markdown",
   "metadata": {},
   "source": [
    "---"
   ]
  },
  {
   "cell_type": "markdown",
   "metadata": {},
   "source": [
    "#### Slicing"
   ]
  },
  {
   "cell_type": "markdown",
   "metadata": {},
   "source": [
    "Other than the single rows and values we also need to get some subsets of the dataset.   \n",
    "Here we want slices:\n",
    "- a 2x2 slice starting from the second row and second element to the 4th element in the 4th row\n",
    "- every other element of the 5th row\n",
    "- the content of the last row in reversed order"
   ]
  },
  {
   "cell_type": "code",
   "execution_count": 30,
   "metadata": {},
   "outputs": [
    {
     "data": {
      "text/plain": [
       "array([[ 99.14931546, 104.03852715],\n",
       "       [ 92.02628776,  97.10439252]])"
      ]
     },
     "execution_count": 30,
     "metadata": {},
     "output_type": "execute_result"
    }
   ],
   "source": [
    "# slicing an intersection of 4 elements (2x2) of the first two rows and first two columns\n",
    "data[:2,:2]\n"
   ]
  },
  {
   "cell_type": "markdown",
   "metadata": {},
   "source": [
    "##### Why is it not a problem if such a small subsection has a bigger standard deviation from 100?"
   ]
  },
  {
   "cell_type": "markdown",
   "metadata": {},
   "source": [
    "Several smaller values can cluster in such a small subsection leading to the value being really low.   \n",
    "If we make our subsection larger, we have a higher chance of getting a more expressive view of our data."
   ]
  },
  {
   "cell_type": "code",
   "execution_count": 32,
   "metadata": {},
   "outputs": [
    {
     "data": {
      "text/plain": [
       "array([101.20862522, 100.28690912,  93.37126331, 100.79478953,\n",
       "        96.10020311])"
      ]
     },
     "execution_count": 32,
     "metadata": {},
     "output_type": "execute_result"
    }
   ],
   "source": [
    "# selecting every second element of the fifth row \n",
    "data[4,::2]\n",
    "\n"
   ]
  },
  {
   "cell_type": "code",
   "execution_count": 33,
   "metadata": {},
   "outputs": [
    {
     "data": {
      "text/plain": [
       "array([101.20862522, 105.85269352, 100.79478953])"
      ]
     },
     "execution_count": 33,
     "metadata": {},
     "output_type": "execute_result"
    }
   ],
   "source": [
    "# selecting every third element of the fifth row \n",
    "data[4,::3]\n"
   ]
  },
  {
   "cell_type": "code",
   "execution_count": 35,
   "metadata": {},
   "outputs": [
    {
     "data": {
      "text/plain": [
       "array([[101.34745901,  98.56783189,  96.81964892,  98.80833412,\n",
       "         98.74986914,  97.85230675, 107.43534677, 104.03852715,\n",
       "         99.14931546],\n",
       "       [ 93.87155456, 101.23162942, 105.7197853 ,  92.65657752,\n",
       "         92.9267508 ,  97.24584816,  99.32066924,  97.10439252,\n",
       "         92.02628776]])"
      ]
     },
     "execution_count": 35,
     "metadata": {},
     "output_type": "execute_result"
    }
   ],
   "source": [
    "# reversing the entry order, selecting the first two rows in reversed order\n",
    "\n",
    "data[:2,::-1]"
   ]
  },
  {
   "cell_type": "markdown",
   "metadata": {},
   "source": [
    "---"
   ]
  },
  {
   "cell_type": "markdown",
   "metadata": {},
   "source": [
    "#### Splitting"
   ]
  },
  {
   "cell_type": "markdown",
   "metadata": {},
   "source": [
    "Our client's team only wants to use a small subset of the given dataset.   \n",
    "Therefore we need to first split it into 3 equal pieces and then give them the first half of the first split.   \n",
    "They sent us this drawing to show us what they need:\n",
    "```\n",
    "1, 2, 3, 4, 5, 6          1, 2     3, 4    5, 6          1, 2  \n",
    "3, 2, 1, 5, 4, 6    =>    3, 2     1, 5    4, 6    =>    3, 2    =>    1, 2\n",
    "5, 3, 1, 2, 4, 3          5, 3     1, 2    4, 3                        3, 2\n",
    "1, 2, 2, 4, 1, 5          1, 2     2, 4    1, 5          5, 3\n",
    "                                                         1, 2\n",
    "```\n",
    "\n",
    "> **Note:**   \n",
    "We are using a very small dataset here but imagine you have a huge amount of data and only want to look at a small subset of it to tweak your visualizations"
   ]
  },
  {
   "cell_type": "code",
   "execution_count": 37,
   "metadata": {},
   "outputs": [],
   "source": [
    "arr =np.array(\n",
    "    [[1,2,3,4,5,6],\n",
    "    [3,2,1,5,4,6],\n",
    "    [5,3,1,2,4,3],\n",
    "    [1,2,2,4,1,5]]\n",
    ")"
   ]
  },
  {
   "cell_type": "code",
   "execution_count": 41,
   "metadata": {},
   "outputs": [
    {
     "data": {
      "text/plain": [
       "[array([[1, 2],\n",
       "        [3, 2],\n",
       "        [5, 3],\n",
       "        [1, 2]]),\n",
       " array([[3, 4],\n",
       "        [1, 5],\n",
       "        [1, 2],\n",
       "        [2, 4]]),\n",
       " array([[5, 6],\n",
       "        [4, 6],\n",
       "        [4, 3],\n",
       "        [1, 5]])]"
      ]
     },
     "execution_count": 41,
     "metadata": {},
     "output_type": "execute_result"
    }
   ],
   "source": [
    "# splitting up our dataset vertically on index 2\n",
    "h1 = np.hsplit(arr,(3))\n",
    "h1"
   ]
  },
  {
   "cell_type": "code",
   "execution_count": 42,
   "metadata": {},
   "outputs": [],
   "source": [
    "h2=np.vsplit(h1[0],(2))"
   ]
  },
  {
   "cell_type": "code",
   "execution_count": 44,
   "metadata": {},
   "outputs": [
    {
     "data": {
      "text/plain": [
       "array([[1, 2],\n",
       "       [3, 2]])"
      ]
     },
     "execution_count": 44,
     "metadata": {},
     "output_type": "execute_result"
    }
   ],
   "source": [
    "h2[0]\n"
   ]
  },
  {
   "cell_type": "markdown",
   "metadata": {},
   "source": [
    "---"
   ]
  },
  {
   "cell_type": "markdown",
   "metadata": {},
   "source": [
    "#### Iterating"
   ]
  },
  {
   "cell_type": "markdown",
   "metadata": {},
   "source": [
    "Once you sent over the dataset they tell you that they also need a way iterate over the whole dataset element by element as if it would be a one-dimensional list.   \n",
    "However, they want to also now the position in the dataset itself.\n",
    "\n",
    "They send you this piece of code and tell you that it's not working as mentioned.   \n",
    "Come up with the right solution for their needs."
   ]
  },
  {
   "cell_type": "code",
   "execution_count": 12,
   "metadata": {},
   "outputs": [],
   "source": [
    "# iterating over whole dataset (each value in each row)\n"
   ]
  },
  {
   "cell_type": "code",
   "execution_count": 46,
   "metadata": {},
   "outputs": [
    {
     "name": "stdout",
     "output_type": "stream",
     "text": [
      "[ 0 ]\n",
      "[ 1 ]\n",
      "[ 2 ]\n",
      "[ 3 ]\n",
      "[ 4 ]\n",
      "[ 5 ]\n",
      "[ 6 ]\n",
      "[ 7 ]\n",
      "[ 8 ]\n",
      "[ 9 ]\n",
      "[ 10 ]\n",
      "[ 11 ]\n",
      "[ 12 ]\n",
      "[ 13 ]\n",
      "[ 14 ]\n",
      "[ 15 ]\n",
      "[ 16 ]\n",
      "[ 17 ]\n",
      "[ 18 ]\n",
      "[ 19 ]\n",
      "[ 20 ]\n",
      "[ 21 ]\n",
      "[ 22 ]\n",
      "[ 23 ]\n",
      "[ 24 ]\n",
      "[ 25 ]\n",
      "[ 26 ]\n",
      "[ 27 ]\n",
      "[ 28 ]\n",
      "[ 29 ]\n",
      "[ 30 ]\n",
      "[ 31 ]\n",
      "[ 32 ]\n",
      "[ 33 ]\n",
      "[ 34 ]\n",
      "[ 35 ]\n",
      "[ 36 ]\n",
      "[ 37 ]\n",
      "[ 38 ]\n",
      "[ 39 ]\n",
      "[ 40 ]\n",
      "[ 41 ]\n",
      "[ 42 ]\n",
      "[ 43 ]\n",
      "[ 44 ]\n",
      "[ 45 ]\n",
      "[ 46 ]\n",
      "[ 47 ]\n",
      "[ 48 ]\n",
      "[ 49 ]\n",
      "[ 50 ]\n",
      "[ 51 ]\n",
      "[ 52 ]\n",
      "[ 53 ]\n",
      "[ 54 ]\n",
      "[ 55 ]\n",
      "[ 56 ]\n",
      "[ 57 ]\n",
      "[ 58 ]\n",
      "[ 59 ]\n",
      "[ 60 ]\n",
      "[ 61 ]\n",
      "[ 62 ]\n",
      "[ 63 ]\n",
      "[ 64 ]\n",
      "[ 65 ]\n",
      "[ 66 ]\n",
      "[ 67 ]\n",
      "[ 68 ]\n",
      "[ 69 ]\n",
      "[ 70 ]\n",
      "[ 71 ]\n",
      "[ 72 ]\n",
      "[ 73 ]\n",
      "[ 74 ]\n",
      "[ 75 ]\n",
      "[ 76 ]\n",
      "[ 77 ]\n",
      "[ 78 ]\n",
      "[ 79 ]\n",
      "[ 80 ]\n",
      "[ 81 ]\n",
      "[ 82 ]\n",
      "[ 83 ]\n",
      "[ 84 ]\n",
      "[ 85 ]\n",
      "[ 86 ]\n",
      "[ 87 ]\n",
      "[ 88 ]\n",
      "[ 89 ]\n",
      "[ 90 ]\n",
      "[ 91 ]\n",
      "[ 92 ]\n",
      "[ 93 ]\n",
      "[ 94 ]\n",
      "[ 95 ]\n",
      "[ 96 ]\n",
      "[ 97 ]\n",
      "[ 98 ]\n",
      "[ 99 ]\n",
      "[ 100 ]\n",
      "[ 101 ]\n",
      "[ 102 ]\n",
      "[ 103 ]\n",
      "[ 104 ]\n",
      "[ 105 ]\n",
      "[ 106 ]\n",
      "[ 107 ]\n",
      "[ 108 ]\n",
      "[ 109 ]\n",
      "[ 110 ]\n",
      "[ 111 ]\n",
      "[ 112 ]\n",
      "[ 113 ]\n",
      "[ 114 ]\n",
      "[ 115 ]\n",
      "[ 116 ]\n",
      "[ 117 ]\n",
      "[ 118 ]\n",
      "[ 119 ]\n",
      "[ 120 ]\n",
      "[ 121 ]\n",
      "[ 122 ]\n",
      "[ 123 ]\n",
      "[ 124 ]\n",
      "[ 125 ]\n",
      "[ 126 ]\n",
      "[ 127 ]\n",
      "[ 128 ]\n",
      "[ 129 ]\n",
      "[ 130 ]\n",
      "[ 131 ]\n",
      "[ 132 ]\n",
      "[ 133 ]\n",
      "[ 134 ]\n",
      "[ 135 ]\n",
      "[ 136 ]\n",
      "[ 137 ]\n",
      "[ 138 ]\n",
      "[ 139 ]\n",
      "[ 140 ]\n",
      "[ 141 ]\n",
      "[ 142 ]\n",
      "[ 143 ]\n",
      "[ 144 ]\n",
      "[ 145 ]\n",
      "[ 146 ]\n",
      "[ 147 ]\n",
      "[ 148 ]\n",
      "[ 149 ]\n",
      "[ 150 ]\n",
      "[ 151 ]\n",
      "[ 152 ]\n",
      "[ 153 ]\n",
      "[ 154 ]\n",
      "[ 155 ]\n",
      "[ 156 ]\n",
      "[ 157 ]\n",
      "[ 158 ]\n",
      "[ 159 ]\n",
      "[ 160 ]\n",
      "[ 161 ]\n",
      "[ 162 ]\n",
      "[ 163 ]\n",
      "[ 164 ]\n",
      "[ 165 ]\n",
      "[ 166 ]\n",
      "[ 167 ]\n",
      "[ 168 ]\n",
      "[ 169 ]\n",
      "[ 170 ]\n",
      "[ 171 ]\n",
      "[ 172 ]\n",
      "[ 173 ]\n",
      "[ 174 ]\n",
      "[ 175 ]\n",
      "[ 176 ]\n",
      "[ 177 ]\n",
      "[ 178 ]\n",
      "[ 179 ]\n",
      "[ 180 ]\n",
      "[ 181 ]\n",
      "[ 182 ]\n",
      "[ 183 ]\n",
      "[ 184 ]\n",
      "[ 185 ]\n",
      "[ 186 ]\n",
      "[ 187 ]\n",
      "[ 188 ]\n",
      "[ 189 ]\n",
      "[ 190 ]\n",
      "[ 191 ]\n",
      "[ 192 ]\n",
      "[ 193 ]\n",
      "[ 194 ]\n",
      "[ 195 ]\n",
      "[ 196 ]\n",
      "[ 197 ]\n",
      "[ 198 ]\n",
      "[ 199 ]\n",
      "[ 200 ]\n",
      "[ 201 ]\n",
      "[ 202 ]\n",
      "[ 203 ]\n",
      "[ 204 ]\n",
      "[ 205 ]\n",
      "[ 206 ]\n",
      "[ 207 ]\n",
      "[ 208 ]\n",
      "[ 209 ]\n",
      "[ 210 ]\n",
      "[ 211 ]\n",
      "[ 212 ]\n",
      "[ 213 ]\n",
      "[ 214 ]\n",
      "[ 215 ]\n"
     ]
    }
   ],
   "source": [
    "# iterating over the whole dataset with indices matching the position in the dataset\n",
    "curr_index=0\n",
    "for i in np.nditer(data):\n",
    "    print('[',curr_index,']')\n",
    "    curr_index+=1\n"
   ]
  },
  {
   "cell_type": "code",
   "execution_count": null,
   "metadata": {},
   "outputs": [],
   "source": []
  }
 ],
 "metadata": {
  "kernelspec": {
   "display_name": "Python 3 (ipykernel)",
   "language": "python",
   "name": "python3"
  },
  "language_info": {
   "codemirror_mode": {
    "name": "ipython",
    "version": 3
   },
   "file_extension": ".py",
   "mimetype": "text/x-python",
   "name": "python",
   "nbconvert_exporter": "python",
   "pygments_lexer": "ipython3",
   "version": "3.10.9"
  }
 },
 "nbformat": 4,
 "nbformat_minor": 4
}
