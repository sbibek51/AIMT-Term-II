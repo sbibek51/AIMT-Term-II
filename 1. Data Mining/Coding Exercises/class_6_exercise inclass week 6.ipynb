{
 "cells": [
  {
   "cell_type": "code",
   "execution_count": 1,
   "id": "d1f058f8",
   "metadata": {},
   "outputs": [],
   "source": [
    "#Bibek Shiwakoti\n",
    "# Feb 12 2024, week 6"
   ]
  },
  {
   "cell_type": "code",
   "execution_count": null,
   "id": "a67790dc",
   "metadata": {},
   "outputs": [],
   "source": []
  },
  {
   "cell_type": "markdown",
   "id": "7b4e58ee",
   "metadata": {},
   "source": [
    "## Q1. Imagine that you have a list . Write a Python Program to get the original indexes of the list after sorting it."
   ]
  },
  {
   "cell_type": "code",
   "execution_count": 3,
   "id": "bd261c11",
   "metadata": {},
   "outputs": [],
   "source": [
    "my_list =[1,9,8,5,6]\n"
   ]
  },
  {
   "cell_type": "code",
   "execution_count": 9,
   "id": "2920e37d",
   "metadata": {},
   "outputs": [],
   "source": [
    "my_list.sort()\n"
   ]
  },
  {
   "cell_type": "code",
   "execution_count": 10,
   "id": "33dcf61f",
   "metadata": {},
   "outputs": [
    {
     "data": {
      "text/plain": [
       "[1, 5, 6, 8, 9]"
      ]
     },
     "execution_count": 10,
     "metadata": {},
     "output_type": "execute_result"
    }
   ],
   "source": [
    "my_list"
   ]
  },
  {
   "cell_type": "code",
   "execution_count": 11,
   "id": "7470c9e4",
   "metadata": {},
   "outputs": [
    {
     "data": {
      "text/plain": [
       "[1, 5, 6, 8, 9]"
      ]
     },
     "execution_count": 11,
     "metadata": {},
     "output_type": "execute_result"
    }
   ],
   "source": [
    "my_list"
   ]
  },
  {
   "cell_type": "code",
   "execution_count": 14,
   "id": "41bebe43",
   "metadata": {},
   "outputs": [],
   "source": [
    "my_list =[1,9,8,5,6]\n"
   ]
  },
  {
   "cell_type": "code",
   "execution_count": 15,
   "id": "a2f9a9c9",
   "metadata": {},
   "outputs": [
    {
     "data": {
      "text/plain": [
       "[1, 5, 6, 8, 9]"
      ]
     },
     "execution_count": 15,
     "metadata": {},
     "output_type": "execute_result"
    }
   ],
   "source": [
    "sorted(my_list)"
   ]
  },
  {
   "cell_type": "code",
   "execution_count": 16,
   "id": "e12d95fe",
   "metadata": {},
   "outputs": [
    {
     "data": {
      "text/plain": [
       "[1, 9, 8, 5, 6]"
      ]
     },
     "execution_count": 16,
     "metadata": {},
     "output_type": "execute_result"
    }
   ],
   "source": [
    "my_list"
   ]
  },
  {
   "cell_type": "code",
   "execution_count": 17,
   "id": "c88103b1",
   "metadata": {},
   "outputs": [
    {
     "data": {
      "text/plain": [
       "[0, 3, 4, 2, 1]"
      ]
     },
     "execution_count": 17,
     "metadata": {},
     "output_type": "execute_result"
    }
   ],
   "source": [
    "[index for index, value in sorted (enumerate(my_list), key =lambda x:x[1])]"
   ]
  },
  {
   "cell_type": "markdown",
   "id": "567053cc",
   "metadata": {},
   "source": [
    "## Q2  Explore re, regular expression library of Python , what is the difference between ,re.match ,re.sub and re.findall?"
   ]
  },
  {
   "cell_type": "code",
   "execution_count": null,
   "id": "988d2623",
   "metadata": {},
   "outputs": [],
   "source": []
  }
 ],
 "metadata": {
  "kernelspec": {
   "display_name": "Python 3 (ipykernel)",
   "language": "python",
   "name": "python3"
  },
  "language_info": {
   "codemirror_mode": {
    "name": "ipython",
    "version": 3
   },
   "file_extension": ".py",
   "mimetype": "text/x-python",
   "name": "python",
   "nbconvert_exporter": "python",
   "pygments_lexer": "ipython3",
   "version": "3.11.3"
  }
 },
 "nbformat": 4,
 "nbformat_minor": 5
}
