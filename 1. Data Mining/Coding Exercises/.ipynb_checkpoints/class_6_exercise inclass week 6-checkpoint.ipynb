{
 "cells": [
  {
   "cell_type": "code",
   "execution_count": 1,
   "id": "b4d50a16",
   "metadata": {},
   "outputs": [],
   "source": [
    "#Bibek Shiwakoti\n",
    "# Feb 12 2024, week 6"
   ]
  },
  {
   "cell_type": "code",
   "execution_count": null,
   "id": "f2e450e8",
   "metadata": {},
   "outputs": [],
   "source": []
  },
  {
   "cell_type": "markdown",
   "id": "983e1b4c",
   "metadata": {},
   "source": [
    "## Q1. Imagine that you have a list . Write a Python Program to get the original indexes of the list after sorting it."
   ]
  },
  {
   "cell_type": "code",
   "execution_count": null,
   "id": "4ec60b5b",
   "metadata": {},
   "outputs": [],
   "source": []
  },
  {
   "cell_type": "markdown",
   "id": "614a516c",
   "metadata": {},
   "source": [
    "## Q2  Explore re, regular expression library of Python , what is the difference between ,re.match ,re.sub and re.findall?"
   ]
  },
  {
   "cell_type": "code",
   "execution_count": null,
   "id": "c3a5f6b9",
   "metadata": {},
   "outputs": [],
   "source": []
  }
 ],
 "metadata": {
  "kernelspec": {
   "display_name": "Python 3 (ipykernel)",
   "language": "python",
   "name": "python3"
  },
  "language_info": {
   "codemirror_mode": {
    "name": "ipython",
    "version": 3
   },
   "file_extension": ".py",
   "mimetype": "text/x-python",
   "name": "python",
   "nbconvert_exporter": "python",
   "pygments_lexer": "ipython3",
   "version": "3.11.3"
  }
 },
 "nbformat": 4,
 "nbformat_minor": 5
}
