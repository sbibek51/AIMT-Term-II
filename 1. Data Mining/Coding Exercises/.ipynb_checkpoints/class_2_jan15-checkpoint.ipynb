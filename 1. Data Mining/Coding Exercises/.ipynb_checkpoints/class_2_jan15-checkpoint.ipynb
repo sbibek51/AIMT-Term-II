{
 "cells": [
  {
   "cell_type": "markdown",
   "id": "87dcddd1",
   "metadata": {},
   "source": [
    "Bibek shiwakoti\n",
    "c0898100"
   ]
  },
  {
   "cell_type": "code",
   "execution_count": 145,
   "id": "280bc6f6",
   "metadata": {},
   "outputs": [],
   "source": [
    "import pandas as pd"
   ]
  },
  {
   "cell_type": "markdown",
   "id": "ee0a58a2",
   "metadata": {},
   "source": [
    "# 1- From a list of lists"
   ]
  },
  {
   "cell_type": "code",
   "execution_count": 146,
   "id": "5ad921e4",
   "metadata": {},
   "outputs": [],
   "source": [
    "data = [['John',25],['Alice',35],['Bob',28]]\n"
   ]
  },
  {
   "cell_type": "code",
   "execution_count": 147,
   "id": "f8fdda54",
   "metadata": {},
   "outputs": [],
   "source": [
    "df = pd.DataFrame(data,columns=['Name','Age'])"
   ]
  },
  {
   "cell_type": "code",
   "execution_count": 148,
   "id": "8b7c7fe2",
   "metadata": {},
   "outputs": [
    {
     "data": {
      "text/html": [
       "<div>\n",
       "<style scoped>\n",
       "    .dataframe tbody tr th:only-of-type {\n",
       "        vertical-align: middle;\n",
       "    }\n",
       "\n",
       "    .dataframe tbody tr th {\n",
       "        vertical-align: top;\n",
       "    }\n",
       "\n",
       "    .dataframe thead th {\n",
       "        text-align: right;\n",
       "    }\n",
       "</style>\n",
       "<table border=\"1\" class=\"dataframe\">\n",
       "  <thead>\n",
       "    <tr style=\"text-align: right;\">\n",
       "      <th></th>\n",
       "      <th>Name</th>\n",
       "      <th>Age</th>\n",
       "    </tr>\n",
       "  </thead>\n",
       "  <tbody>\n",
       "    <tr>\n",
       "      <th>0</th>\n",
       "      <td>John</td>\n",
       "      <td>25</td>\n",
       "    </tr>\n",
       "    <tr>\n",
       "      <th>1</th>\n",
       "      <td>Alice</td>\n",
       "      <td>35</td>\n",
       "    </tr>\n",
       "    <tr>\n",
       "      <th>2</th>\n",
       "      <td>Bob</td>\n",
       "      <td>28</td>\n",
       "    </tr>\n",
       "  </tbody>\n",
       "</table>\n",
       "</div>"
      ],
      "text/plain": [
       "    Name  Age\n",
       "0   John   25\n",
       "1  Alice   35\n",
       "2    Bob   28"
      ]
     },
     "execution_count": 148,
     "metadata": {},
     "output_type": "execute_result"
    }
   ],
   "source": [
    "df\n"
   ]
  },
  {
   "cell_type": "markdown",
   "id": "c71f2be6",
   "metadata": {},
   "source": [
    "# From a Dictionary"
   ]
  },
  {
   "cell_type": "code",
   "execution_count": 149,
   "id": "287b037e",
   "metadata": {},
   "outputs": [],
   "source": [
    "data = {'Name':['John','Alice','Bob'], 'Age': [25,35,28]}\n"
   ]
  },
  {
   "cell_type": "code",
   "execution_count": 150,
   "id": "329b487a",
   "metadata": {},
   "outputs": [
    {
     "data": {
      "text/html": [
       "<div>\n",
       "<style scoped>\n",
       "    .dataframe tbody tr th:only-of-type {\n",
       "        vertical-align: middle;\n",
       "    }\n",
       "\n",
       "    .dataframe tbody tr th {\n",
       "        vertical-align: top;\n",
       "    }\n",
       "\n",
       "    .dataframe thead th {\n",
       "        text-align: right;\n",
       "    }\n",
       "</style>\n",
       "<table border=\"1\" class=\"dataframe\">\n",
       "  <thead>\n",
       "    <tr style=\"text-align: right;\">\n",
       "      <th></th>\n",
       "      <th>Name</th>\n",
       "      <th>Age</th>\n",
       "    </tr>\n",
       "  </thead>\n",
       "  <tbody>\n",
       "    <tr>\n",
       "      <th>0</th>\n",
       "      <td>John</td>\n",
       "      <td>25</td>\n",
       "    </tr>\n",
       "    <tr>\n",
       "      <th>1</th>\n",
       "      <td>Alice</td>\n",
       "      <td>35</td>\n",
       "    </tr>\n",
       "    <tr>\n",
       "      <th>2</th>\n",
       "      <td>Bob</td>\n",
       "      <td>28</td>\n",
       "    </tr>\n",
       "  </tbody>\n",
       "</table>\n",
       "</div>"
      ],
      "text/plain": [
       "    Name  Age\n",
       "0   John   25\n",
       "1  Alice   35\n",
       "2    Bob   28"
      ]
     },
     "execution_count": 150,
     "metadata": {},
     "output_type": "execute_result"
    }
   ],
   "source": [
    "pd.DataFrame(data)"
   ]
  },
  {
   "cell_type": "markdown",
   "id": "a731be14",
   "metadata": {},
   "source": [
    "# From a list of Dictionaries"
   ]
  },
  {
   "cell_type": "code",
   "execution_count": 151,
   "id": "10c21ff3",
   "metadata": {},
   "outputs": [],
   "source": [
    "data = [{'Name':'John','Age':25},{'Name':'Alice','Age':35},{'Name':'Bob','Age':28},]"
   ]
  },
  {
   "cell_type": "code",
   "execution_count": 152,
   "id": "a9516b8a",
   "metadata": {},
   "outputs": [
    {
     "data": {
      "text/html": [
       "<div>\n",
       "<style scoped>\n",
       "    .dataframe tbody tr th:only-of-type {\n",
       "        vertical-align: middle;\n",
       "    }\n",
       "\n",
       "    .dataframe tbody tr th {\n",
       "        vertical-align: top;\n",
       "    }\n",
       "\n",
       "    .dataframe thead th {\n",
       "        text-align: right;\n",
       "    }\n",
       "</style>\n",
       "<table border=\"1\" class=\"dataframe\">\n",
       "  <thead>\n",
       "    <tr style=\"text-align: right;\">\n",
       "      <th></th>\n",
       "      <th>Name</th>\n",
       "      <th>Age</th>\n",
       "    </tr>\n",
       "  </thead>\n",
       "  <tbody>\n",
       "    <tr>\n",
       "      <th>0</th>\n",
       "      <td>John</td>\n",
       "      <td>25</td>\n",
       "    </tr>\n",
       "    <tr>\n",
       "      <th>1</th>\n",
       "      <td>Alice</td>\n",
       "      <td>35</td>\n",
       "    </tr>\n",
       "    <tr>\n",
       "      <th>2</th>\n",
       "      <td>Bob</td>\n",
       "      <td>28</td>\n",
       "    </tr>\n",
       "  </tbody>\n",
       "</table>\n",
       "</div>"
      ],
      "text/plain": [
       "    Name  Age\n",
       "0   John   25\n",
       "1  Alice   35\n",
       "2    Bob   28"
      ]
     },
     "execution_count": 152,
     "metadata": {},
     "output_type": "execute_result"
    }
   ],
   "source": [
    "pd.DataFrame(data)"
   ]
  },
  {
   "cell_type": "markdown",
   "id": "cd04a952",
   "metadata": {},
   "source": [
    "# From a numpy array"
   ]
  },
  {
   "cell_type": "code",
   "execution_count": 153,
   "id": "53df6ca4",
   "metadata": {},
   "outputs": [
    {
     "data": {
      "text/html": [
       "<div>\n",
       "<style scoped>\n",
       "    .dataframe tbody tr th:only-of-type {\n",
       "        vertical-align: middle;\n",
       "    }\n",
       "\n",
       "    .dataframe tbody tr th {\n",
       "        vertical-align: top;\n",
       "    }\n",
       "\n",
       "    .dataframe thead th {\n",
       "        text-align: right;\n",
       "    }\n",
       "</style>\n",
       "<table border=\"1\" class=\"dataframe\">\n",
       "  <thead>\n",
       "    <tr style=\"text-align: right;\">\n",
       "      <th></th>\n",
       "      <th>Name</th>\n",
       "      <th>Age</th>\n",
       "    </tr>\n",
       "  </thead>\n",
       "  <tbody>\n",
       "    <tr>\n",
       "      <th>0</th>\n",
       "      <td>John</td>\n",
       "      <td>25</td>\n",
       "    </tr>\n",
       "    <tr>\n",
       "      <th>1</th>\n",
       "      <td>Alice</td>\n",
       "      <td>35</td>\n",
       "    </tr>\n",
       "    <tr>\n",
       "      <th>2</th>\n",
       "      <td>Bob</td>\n",
       "      <td>28</td>\n",
       "    </tr>\n",
       "  </tbody>\n",
       "</table>\n",
       "</div>"
      ],
      "text/plain": [
       "    Name Age\n",
       "0   John  25\n",
       "1  Alice  35\n",
       "2    Bob  28"
      ]
     },
     "execution_count": 153,
     "metadata": {},
     "output_type": "execute_result"
    }
   ],
   "source": [
    "import numpy as np\n",
    "data = np.array([['John',25],['Alice',35],['Bob',28]])\n",
    "pd.DataFrame(data,columns=['Name','Age'])"
   ]
  },
  {
   "cell_type": "code",
   "execution_count": 154,
   "id": "298605c6",
   "metadata": {},
   "outputs": [],
   "source": [
    "people = {'first':['John','Alice','Bob'],'last':['Schefar','Doe','Doe'],'email':['john@gmail.com','alice@outlook.com','bob@outlook.com']}"
   ]
  },
  {
   "cell_type": "code",
   "execution_count": 155,
   "id": "d8095df4",
   "metadata": {},
   "outputs": [],
   "source": [
    "df = pd.DataFrame(people)"
   ]
  },
  {
   "cell_type": "code",
   "execution_count": 156,
   "id": "f14518b8",
   "metadata": {},
   "outputs": [
    {
     "data": {
      "text/html": [
       "<div>\n",
       "<style scoped>\n",
       "    .dataframe tbody tr th:only-of-type {\n",
       "        vertical-align: middle;\n",
       "    }\n",
       "\n",
       "    .dataframe tbody tr th {\n",
       "        vertical-align: top;\n",
       "    }\n",
       "\n",
       "    .dataframe thead th {\n",
       "        text-align: right;\n",
       "    }\n",
       "</style>\n",
       "<table border=\"1\" class=\"dataframe\">\n",
       "  <thead>\n",
       "    <tr style=\"text-align: right;\">\n",
       "      <th></th>\n",
       "      <th>first</th>\n",
       "      <th>last</th>\n",
       "      <th>email</th>\n",
       "    </tr>\n",
       "  </thead>\n",
       "  <tbody>\n",
       "    <tr>\n",
       "      <th>0</th>\n",
       "      <td>John</td>\n",
       "      <td>Schefar</td>\n",
       "      <td>john@gmail.com</td>\n",
       "    </tr>\n",
       "    <tr>\n",
       "      <th>1</th>\n",
       "      <td>Alice</td>\n",
       "      <td>Doe</td>\n",
       "      <td>alice@outlook.com</td>\n",
       "    </tr>\n",
       "    <tr>\n",
       "      <th>2</th>\n",
       "      <td>Bob</td>\n",
       "      <td>Doe</td>\n",
       "      <td>bob@outlook.com</td>\n",
       "    </tr>\n",
       "  </tbody>\n",
       "</table>\n",
       "</div>"
      ],
      "text/plain": [
       "   first     last              email\n",
       "0   John  Schefar     john@gmail.com\n",
       "1  Alice      Doe  alice@outlook.com\n",
       "2    Bob      Doe    bob@outlook.com"
      ]
     },
     "execution_count": 156,
     "metadata": {},
     "output_type": "execute_result"
    }
   ],
   "source": [
    "df\n"
   ]
  },
  {
   "cell_type": "code",
   "execution_count": 157,
   "id": "5cc192c7",
   "metadata": {},
   "outputs": [
    {
     "data": {
      "text/plain": [
       "pandas.core.frame.DataFrame"
      ]
     },
     "execution_count": 157,
     "metadata": {},
     "output_type": "execute_result"
    }
   ],
   "source": [
    "type(df)"
   ]
  },
  {
   "cell_type": "code",
   "execution_count": 158,
   "id": "396c9c2e",
   "metadata": {},
   "outputs": [
    {
     "data": {
      "text/plain": [
       "0    Schefar\n",
       "1        Doe\n",
       "2        Doe\n",
       "Name: last, dtype: object"
      ]
     },
     "execution_count": 158,
     "metadata": {},
     "output_type": "execute_result"
    }
   ],
   "source": [
    "df['last']"
   ]
  },
  {
   "cell_type": "code",
   "execution_count": 159,
   "id": "616bba31",
   "metadata": {},
   "outputs": [
    {
     "data": {
      "text/plain": [
       "0       john@gmail.com\n",
       "1    alice@outlook.com\n",
       "2      bob@outlook.com\n",
       "Name: email, dtype: object"
      ]
     },
     "execution_count": 159,
     "metadata": {},
     "output_type": "execute_result"
    }
   ],
   "source": [
    "df.email #this way is less better because there might already be some built in function in python"
   ]
  },
  {
   "cell_type": "code",
   "execution_count": 160,
   "id": "ffbef8dc",
   "metadata": {},
   "outputs": [
    {
     "data": {
      "text/plain": [
       "0       john@gmail.com\n",
       "1    alice@outlook.com\n",
       "2      bob@outlook.com\n",
       "Name: email, dtype: object"
      ]
     },
     "execution_count": 160,
     "metadata": {},
     "output_type": "execute_result"
    }
   ],
   "source": [
    "df['email'] # this way is better"
   ]
  },
  {
   "cell_type": "code",
   "execution_count": 161,
   "id": "1acc807d",
   "metadata": {},
   "outputs": [
    {
     "data": {
      "text/html": [
       "<div>\n",
       "<style scoped>\n",
       "    .dataframe tbody tr th:only-of-type {\n",
       "        vertical-align: middle;\n",
       "    }\n",
       "\n",
       "    .dataframe tbody tr th {\n",
       "        vertical-align: top;\n",
       "    }\n",
       "\n",
       "    .dataframe thead th {\n",
       "        text-align: right;\n",
       "    }\n",
       "</style>\n",
       "<table border=\"1\" class=\"dataframe\">\n",
       "  <thead>\n",
       "    <tr style=\"text-align: right;\">\n",
       "      <th></th>\n",
       "      <th>email</th>\n",
       "      <th>first</th>\n",
       "    </tr>\n",
       "  </thead>\n",
       "  <tbody>\n",
       "    <tr>\n",
       "      <th>0</th>\n",
       "      <td>john@gmail.com</td>\n",
       "      <td>John</td>\n",
       "    </tr>\n",
       "    <tr>\n",
       "      <th>1</th>\n",
       "      <td>alice@outlook.com</td>\n",
       "      <td>Alice</td>\n",
       "    </tr>\n",
       "    <tr>\n",
       "      <th>2</th>\n",
       "      <td>bob@outlook.com</td>\n",
       "      <td>Bob</td>\n",
       "    </tr>\n",
       "  </tbody>\n",
       "</table>\n",
       "</div>"
      ],
      "text/plain": [
       "               email  first\n",
       "0     john@gmail.com   John\n",
       "1  alice@outlook.com  Alice\n",
       "2    bob@outlook.com    Bob"
      ]
     },
     "execution_count": 161,
     "metadata": {},
     "output_type": "execute_result"
    }
   ],
   "source": [
    "df[['email','first']]"
   ]
  },
  {
   "cell_type": "code",
   "execution_count": 162,
   "id": "255a2ec8",
   "metadata": {},
   "outputs": [
    {
     "data": {
      "text/plain": [
       "['first', 'last', 'email']"
      ]
     },
     "execution_count": 162,
     "metadata": {},
     "output_type": "execute_result"
    }
   ],
   "source": [
    "list(df.columns) # or df.columns.tolist()"
   ]
  },
  {
   "cell_type": "code",
   "execution_count": 163,
   "id": "64467ae9",
   "metadata": {},
   "outputs": [
    {
     "data": {
      "text/plain": [
       "first                Alice\n",
       "last                   Doe\n",
       "email    alice@outlook.com\n",
       "Name: 1, dtype: object"
      ]
     },
     "execution_count": 163,
     "metadata": {},
     "output_type": "execute_result"
    }
   ],
   "source": [
    "# accessing rows\n",
    "df.iloc[1]"
   ]
  },
  {
   "cell_type": "code",
   "execution_count": 164,
   "id": "e2934f1b",
   "metadata": {},
   "outputs": [
    {
     "data": {
      "text/html": [
       "<div>\n",
       "<style scoped>\n",
       "    .dataframe tbody tr th:only-of-type {\n",
       "        vertical-align: middle;\n",
       "    }\n",
       "\n",
       "    .dataframe tbody tr th {\n",
       "        vertical-align: top;\n",
       "    }\n",
       "\n",
       "    .dataframe thead th {\n",
       "        text-align: right;\n",
       "    }\n",
       "</style>\n",
       "<table border=\"1\" class=\"dataframe\">\n",
       "  <thead>\n",
       "    <tr style=\"text-align: right;\">\n",
       "      <th></th>\n",
       "      <th>first</th>\n",
       "      <th>last</th>\n",
       "      <th>email</th>\n",
       "    </tr>\n",
       "  </thead>\n",
       "  <tbody>\n",
       "    <tr>\n",
       "      <th>0</th>\n",
       "      <td>John</td>\n",
       "      <td>Schefar</td>\n",
       "      <td>john@gmail.com</td>\n",
       "    </tr>\n",
       "    <tr>\n",
       "      <th>2</th>\n",
       "      <td>Bob</td>\n",
       "      <td>Doe</td>\n",
       "      <td>bob@outlook.com</td>\n",
       "    </tr>\n",
       "  </tbody>\n",
       "</table>\n",
       "</div>"
      ],
      "text/plain": [
       "  first     last            email\n",
       "0  John  Schefar   john@gmail.com\n",
       "2   Bob      Doe  bob@outlook.com"
      ]
     },
     "execution_count": 164,
     "metadata": {},
     "output_type": "execute_result"
    }
   ],
   "source": [
    "df.iloc[[0,2]]"
   ]
  },
  {
   "cell_type": "code",
   "execution_count": 165,
   "id": "159d44ab",
   "metadata": {},
   "outputs": [
    {
     "data": {
      "text/plain": [
       "0     john@gmail.com\n",
       "2    bob@outlook.com\n",
       "Name: email, dtype: object"
      ]
     },
     "execution_count": 165,
     "metadata": {},
     "output_type": "execute_result"
    }
   ],
   "source": [
    "df.iloc[[0,2],2]"
   ]
  },
  {
   "cell_type": "code",
   "execution_count": 166,
   "id": "8b20b613",
   "metadata": {},
   "outputs": [
    {
     "data": {
      "text/plain": [
       "first              John\n",
       "last            Schefar\n",
       "email    john@gmail.com\n",
       "Name: 0, dtype: object"
      ]
     },
     "execution_count": 166,
     "metadata": {},
     "output_type": "execute_result"
    }
   ],
   "source": [
    "df.loc[0]"
   ]
  },
  {
   "cell_type": "code",
   "execution_count": 167,
   "id": "31352f19",
   "metadata": {},
   "outputs": [
    {
     "data": {
      "text/plain": [
       "0     john@gmail.com\n",
       "2    bob@outlook.com\n",
       "Name: email, dtype: object"
      ]
     },
     "execution_count": 167,
     "metadata": {},
     "output_type": "execute_result"
    }
   ],
   "source": [
    "df.loc[[0,2],'email']"
   ]
  },
  {
   "cell_type": "code",
   "execution_count": 168,
   "id": "43dbb125",
   "metadata": {},
   "outputs": [
    {
     "data": {
      "text/html": [
       "<div>\n",
       "<style scoped>\n",
       "    .dataframe tbody tr th:only-of-type {\n",
       "        vertical-align: middle;\n",
       "    }\n",
       "\n",
       "    .dataframe tbody tr th {\n",
       "        vertical-align: top;\n",
       "    }\n",
       "\n",
       "    .dataframe thead th {\n",
       "        text-align: right;\n",
       "    }\n",
       "</style>\n",
       "<table border=\"1\" class=\"dataframe\">\n",
       "  <thead>\n",
       "    <tr style=\"text-align: right;\">\n",
       "      <th></th>\n",
       "      <th>last</th>\n",
       "      <th>email</th>\n",
       "    </tr>\n",
       "    <tr>\n",
       "      <th>first</th>\n",
       "      <th></th>\n",
       "      <th></th>\n",
       "    </tr>\n",
       "  </thead>\n",
       "  <tbody>\n",
       "    <tr>\n",
       "      <th>John</th>\n",
       "      <td>Schefar</td>\n",
       "      <td>john@gmail.com</td>\n",
       "    </tr>\n",
       "    <tr>\n",
       "      <th>Alice</th>\n",
       "      <td>Doe</td>\n",
       "      <td>alice@outlook.com</td>\n",
       "    </tr>\n",
       "    <tr>\n",
       "      <th>Bob</th>\n",
       "      <td>Doe</td>\n",
       "      <td>bob@outlook.com</td>\n",
       "    </tr>\n",
       "  </tbody>\n",
       "</table>\n",
       "</div>"
      ],
      "text/plain": [
       "          last              email\n",
       "first                            \n",
       "John   Schefar     john@gmail.com\n",
       "Alice      Doe  alice@outlook.com\n",
       "Bob        Doe    bob@outlook.com"
      ]
     },
     "execution_count": 168,
     "metadata": {},
     "output_type": "execute_result"
    }
   ],
   "source": [
    "df.set_index('first',inplace=False)"
   ]
  },
  {
   "cell_type": "code",
   "execution_count": 169,
   "id": "4fc588c9",
   "metadata": {},
   "outputs": [
    {
     "data": {
      "text/html": [
       "<div>\n",
       "<style scoped>\n",
       "    .dataframe tbody tr th:only-of-type {\n",
       "        vertical-align: middle;\n",
       "    }\n",
       "\n",
       "    .dataframe tbody tr th {\n",
       "        vertical-align: top;\n",
       "    }\n",
       "\n",
       "    .dataframe thead th {\n",
       "        text-align: right;\n",
       "    }\n",
       "</style>\n",
       "<table border=\"1\" class=\"dataframe\">\n",
       "  <thead>\n",
       "    <tr style=\"text-align: right;\">\n",
       "      <th></th>\n",
       "      <th>first</th>\n",
       "      <th>last</th>\n",
       "      <th>email</th>\n",
       "    </tr>\n",
       "  </thead>\n",
       "  <tbody>\n",
       "    <tr>\n",
       "      <th>0</th>\n",
       "      <td>John</td>\n",
       "      <td>Schefar</td>\n",
       "      <td>john@gmail.com</td>\n",
       "    </tr>\n",
       "    <tr>\n",
       "      <th>1</th>\n",
       "      <td>Alice</td>\n",
       "      <td>Doe</td>\n",
       "      <td>alice@outlook.com</td>\n",
       "    </tr>\n",
       "    <tr>\n",
       "      <th>2</th>\n",
       "      <td>Bob</td>\n",
       "      <td>Doe</td>\n",
       "      <td>bob@outlook.com</td>\n",
       "    </tr>\n",
       "  </tbody>\n",
       "</table>\n",
       "</div>"
      ],
      "text/plain": [
       "   first     last              email\n",
       "0   John  Schefar     john@gmail.com\n",
       "1  Alice      Doe  alice@outlook.com\n",
       "2    Bob      Doe    bob@outlook.com"
      ]
     },
     "execution_count": 169,
     "metadata": {},
     "output_type": "execute_result"
    }
   ],
   "source": [
    "df\n",
    "\n"
   ]
  },
  {
   "cell_type": "code",
   "execution_count": 170,
   "id": "4d89044b",
   "metadata": {},
   "outputs": [],
   "source": [
    "#df.loc['John']"
   ]
  },
  {
   "cell_type": "code",
   "execution_count": 171,
   "id": "96ea1908",
   "metadata": {},
   "outputs": [],
   "source": [
    "df.index.name = 'Employee_first_name'"
   ]
  },
  {
   "cell_type": "code",
   "execution_count": 172,
   "id": "387396a0",
   "metadata": {},
   "outputs": [
    {
     "data": {
      "text/html": [
       "<div>\n",
       "<style scoped>\n",
       "    .dataframe tbody tr th:only-of-type {\n",
       "        vertical-align: middle;\n",
       "    }\n",
       "\n",
       "    .dataframe tbody tr th {\n",
       "        vertical-align: top;\n",
       "    }\n",
       "\n",
       "    .dataframe thead th {\n",
       "        text-align: right;\n",
       "    }\n",
       "</style>\n",
       "<table border=\"1\" class=\"dataframe\">\n",
       "  <thead>\n",
       "    <tr style=\"text-align: right;\">\n",
       "      <th></th>\n",
       "      <th>first</th>\n",
       "      <th>last</th>\n",
       "      <th>email</th>\n",
       "    </tr>\n",
       "    <tr>\n",
       "      <th>Employee_first_name</th>\n",
       "      <th></th>\n",
       "      <th></th>\n",
       "      <th></th>\n",
       "    </tr>\n",
       "  </thead>\n",
       "  <tbody>\n",
       "    <tr>\n",
       "      <th>0</th>\n",
       "      <td>John</td>\n",
       "      <td>Schefar</td>\n",
       "      <td>john@gmail.com</td>\n",
       "    </tr>\n",
       "    <tr>\n",
       "      <th>1</th>\n",
       "      <td>Alice</td>\n",
       "      <td>Doe</td>\n",
       "      <td>alice@outlook.com</td>\n",
       "    </tr>\n",
       "    <tr>\n",
       "      <th>2</th>\n",
       "      <td>Bob</td>\n",
       "      <td>Doe</td>\n",
       "      <td>bob@outlook.com</td>\n",
       "    </tr>\n",
       "  </tbody>\n",
       "</table>\n",
       "</div>"
      ],
      "text/plain": [
       "                     first     last              email\n",
       "Employee_first_name                                   \n",
       "0                     John  Schefar     john@gmail.com\n",
       "1                    Alice      Doe  alice@outlook.com\n",
       "2                      Bob      Doe    bob@outlook.com"
      ]
     },
     "execution_count": 172,
     "metadata": {},
     "output_type": "execute_result"
    }
   ],
   "source": [
    "df"
   ]
  },
  {
   "cell_type": "code",
   "execution_count": 173,
   "id": "e1de0b89",
   "metadata": {},
   "outputs": [],
   "source": [
    "df.index =['Emp1','Emp2','Emp3']"
   ]
  },
  {
   "cell_type": "code",
   "execution_count": 178,
   "id": "f2129d1e",
   "metadata": {},
   "outputs": [
    {
     "data": {
      "text/html": [
       "<div>\n",
       "<style scoped>\n",
       "    .dataframe tbody tr th:only-of-type {\n",
       "        vertical-align: middle;\n",
       "    }\n",
       "\n",
       "    .dataframe tbody tr th {\n",
       "        vertical-align: top;\n",
       "    }\n",
       "\n",
       "    .dataframe thead th {\n",
       "        text-align: right;\n",
       "    }\n",
       "</style>\n",
       "<table border=\"1\" class=\"dataframe\">\n",
       "  <thead>\n",
       "    <tr style=\"text-align: right;\">\n",
       "      <th></th>\n",
       "      <th>first</th>\n",
       "      <th>last</th>\n",
       "      <th>email</th>\n",
       "    </tr>\n",
       "  </thead>\n",
       "  <tbody>\n",
       "    <tr>\n",
       "      <th>Emp1</th>\n",
       "      <td>John</td>\n",
       "      <td>Schefar</td>\n",
       "      <td>john@gmail.com</td>\n",
       "    </tr>\n",
       "    <tr>\n",
       "      <th>Emp2</th>\n",
       "      <td>Alice</td>\n",
       "      <td>Doe</td>\n",
       "      <td>alice@outlook.com</td>\n",
       "    </tr>\n",
       "    <tr>\n",
       "      <th>Emp3</th>\n",
       "      <td>Bob</td>\n",
       "      <td>Doe</td>\n",
       "      <td>bob@outlook.com</td>\n",
       "    </tr>\n",
       "  </tbody>\n",
       "</table>\n",
       "</div>"
      ],
      "text/plain": [
       "      first     last              email\n",
       "Emp1   John  Schefar     john@gmail.com\n",
       "Emp2  Alice      Doe  alice@outlook.com\n",
       "Emp3    Bob      Doe    bob@outlook.com"
      ]
     },
     "execution_count": 178,
     "metadata": {},
     "output_type": "execute_result"
    }
   ],
   "source": [
    "df\n"
   ]
  },
  {
   "cell_type": "markdown",
   "id": "aad8ed63",
   "metadata": {},
   "source": [
    "## Filtering\n"
   ]
  },
  {
   "cell_type": "code",
   "execution_count": null,
   "id": "eda972a3",
   "metadata": {},
   "outputs": [],
   "source": []
  },
  {
   "cell_type": "code",
   "execution_count": null,
   "id": "4f6ab7bb",
   "metadata": {},
   "outputs": [],
   "source": []
  },
  {
   "cell_type": "code",
   "execution_count": 180,
   "id": "e9f1242f",
   "metadata": {},
   "outputs": [],
   "source": [
    "#df.loc[0:2] # here 2 is inclusivs"
   ]
  },
  {
   "cell_type": "code",
   "execution_count": null,
   "id": "3ac77c69",
   "metadata": {},
   "outputs": [],
   "source": [
    "df.iloc[0:2] # here 2 is exclusive"
   ]
  },
  {
   "cell_type": "code",
   "execution_count": 181,
   "id": "1f8e5945",
   "metadata": {},
   "outputs": [],
   "source": [
    "df= pd.read_csv('./data/survey_results_public.csv')"
   ]
  },
  {
   "cell_type": "code",
   "execution_count": 182,
   "id": "7ab6eb4b",
   "metadata": {},
   "outputs": [
    {
     "data": {
      "text/html": [
       "<div>\n",
       "<style scoped>\n",
       "    .dataframe tbody tr th:only-of-type {\n",
       "        vertical-align: middle;\n",
       "    }\n",
       "\n",
       "    .dataframe tbody tr th {\n",
       "        vertical-align: top;\n",
       "    }\n",
       "\n",
       "    .dataframe thead th {\n",
       "        text-align: right;\n",
       "    }\n",
       "</style>\n",
       "<table border=\"1\" class=\"dataframe\">\n",
       "  <thead>\n",
       "    <tr style=\"text-align: right;\">\n",
       "      <th></th>\n",
       "      <th>ResponseId</th>\n",
       "      <th>Q120</th>\n",
       "      <th>MainBranch</th>\n",
       "      <th>Age</th>\n",
       "      <th>Employment</th>\n",
       "      <th>RemoteWork</th>\n",
       "      <th>CodingActivities</th>\n",
       "      <th>EdLevel</th>\n",
       "      <th>LearnCode</th>\n",
       "      <th>LearnCodeOnline</th>\n",
       "      <th>...</th>\n",
       "      <th>Frequency_1</th>\n",
       "      <th>Frequency_2</th>\n",
       "      <th>Frequency_3</th>\n",
       "      <th>TimeSearching</th>\n",
       "      <th>TimeAnswering</th>\n",
       "      <th>ProfessionalTech</th>\n",
       "      <th>Industry</th>\n",
       "      <th>SurveyLength</th>\n",
       "      <th>SurveyEase</th>\n",
       "      <th>ConvertedCompYearly</th>\n",
       "    </tr>\n",
       "  </thead>\n",
       "  <tbody>\n",
       "    <tr>\n",
       "      <th>0</th>\n",
       "      <td>1</td>\n",
       "      <td>I agree</td>\n",
       "      <td>None of these</td>\n",
       "      <td>18-24 years old</td>\n",
       "      <td>NaN</td>\n",
       "      <td>NaN</td>\n",
       "      <td>NaN</td>\n",
       "      <td>NaN</td>\n",
       "      <td>NaN</td>\n",
       "      <td>NaN</td>\n",
       "      <td>...</td>\n",
       "      <td>NaN</td>\n",
       "      <td>NaN</td>\n",
       "      <td>NaN</td>\n",
       "      <td>NaN</td>\n",
       "      <td>NaN</td>\n",
       "      <td>NaN</td>\n",
       "      <td>NaN</td>\n",
       "      <td>NaN</td>\n",
       "      <td>NaN</td>\n",
       "      <td>NaN</td>\n",
       "    </tr>\n",
       "    <tr>\n",
       "      <th>1</th>\n",
       "      <td>2</td>\n",
       "      <td>I agree</td>\n",
       "      <td>I am a developer by profession</td>\n",
       "      <td>25-34 years old</td>\n",
       "      <td>Employed, full-time</td>\n",
       "      <td>Remote</td>\n",
       "      <td>Hobby;Contribute to open-source projects;Boots...</td>\n",
       "      <td>Bachelor’s degree (B.A., B.S., B.Eng., etc.)</td>\n",
       "      <td>Books / Physical media;Colleague;Friend or fam...</td>\n",
       "      <td>Formal documentation provided by the owner of ...</td>\n",
       "      <td>...</td>\n",
       "      <td>1-2 times a week</td>\n",
       "      <td>10+ times a week</td>\n",
       "      <td>Never</td>\n",
       "      <td>15-30 minutes a day</td>\n",
       "      <td>15-30 minutes a day</td>\n",
       "      <td>DevOps function;Microservices;Automated testin...</td>\n",
       "      <td>Information Services, IT, Software Development...</td>\n",
       "      <td>Appropriate in length</td>\n",
       "      <td>Easy</td>\n",
       "      <td>285000.0</td>\n",
       "    </tr>\n",
       "    <tr>\n",
       "      <th>2</th>\n",
       "      <td>3</td>\n",
       "      <td>I agree</td>\n",
       "      <td>I am a developer by profession</td>\n",
       "      <td>45-54 years old</td>\n",
       "      <td>Employed, full-time</td>\n",
       "      <td>Hybrid (some remote, some in-person)</td>\n",
       "      <td>Hobby;Professional development or self-paced l...</td>\n",
       "      <td>Bachelor’s degree (B.A., B.S., B.Eng., etc.)</td>\n",
       "      <td>Books / Physical media;Colleague;On the job tr...</td>\n",
       "      <td>Formal documentation provided by the owner of ...</td>\n",
       "      <td>...</td>\n",
       "      <td>6-10 times a week</td>\n",
       "      <td>6-10 times a week</td>\n",
       "      <td>3-5 times a week</td>\n",
       "      <td>30-60 minutes a day</td>\n",
       "      <td>30-60 minutes a day</td>\n",
       "      <td>DevOps function;Microservices;Automated testin...</td>\n",
       "      <td>Information Services, IT, Software Development...</td>\n",
       "      <td>Appropriate in length</td>\n",
       "      <td>Easy</td>\n",
       "      <td>250000.0</td>\n",
       "    </tr>\n",
       "    <tr>\n",
       "      <th>3</th>\n",
       "      <td>4</td>\n",
       "      <td>I agree</td>\n",
       "      <td>I am a developer by profession</td>\n",
       "      <td>25-34 years old</td>\n",
       "      <td>Employed, full-time</td>\n",
       "      <td>Hybrid (some remote, some in-person)</td>\n",
       "      <td>Hobby</td>\n",
       "      <td>Bachelor’s degree (B.A., B.S., B.Eng., etc.)</td>\n",
       "      <td>Colleague;Friend or family member;Other online...</td>\n",
       "      <td>Formal documentation provided by the owner of ...</td>\n",
       "      <td>...</td>\n",
       "      <td>1-2 times a week</td>\n",
       "      <td>10+ times a week</td>\n",
       "      <td>1-2 times a week</td>\n",
       "      <td>15-30 minutes a day</td>\n",
       "      <td>30-60 minutes a day</td>\n",
       "      <td>Automated testing;Continuous integration (CI) ...</td>\n",
       "      <td>NaN</td>\n",
       "      <td>Appropriate in length</td>\n",
       "      <td>Easy</td>\n",
       "      <td>156000.0</td>\n",
       "    </tr>\n",
       "    <tr>\n",
       "      <th>4</th>\n",
       "      <td>5</td>\n",
       "      <td>I agree</td>\n",
       "      <td>I am a developer by profession</td>\n",
       "      <td>25-34 years old</td>\n",
       "      <td>Employed, full-time;Independent contractor, fr...</td>\n",
       "      <td>Remote</td>\n",
       "      <td>Hobby;Contribute to open-source projects;Profe...</td>\n",
       "      <td>Bachelor’s degree (B.A., B.S., B.Eng., etc.)</td>\n",
       "      <td>Books / Physical media;Online Courses or Certi...</td>\n",
       "      <td>Formal documentation provided by the owner of ...</td>\n",
       "      <td>...</td>\n",
       "      <td>1-2 times a week</td>\n",
       "      <td>1-2 times a week</td>\n",
       "      <td>3-5 times a week</td>\n",
       "      <td>60-120 minutes a day</td>\n",
       "      <td>30-60 minutes a day</td>\n",
       "      <td>Microservices;Automated testing;Observability ...</td>\n",
       "      <td>Other</td>\n",
       "      <td>Appropriate in length</td>\n",
       "      <td>Neither easy nor difficult</td>\n",
       "      <td>23456.0</td>\n",
       "    </tr>\n",
       "  </tbody>\n",
       "</table>\n",
       "<p>5 rows × 84 columns</p>\n",
       "</div>"
      ],
      "text/plain": [
       "   ResponseId     Q120                      MainBranch              Age  \\\n",
       "0           1  I agree                   None of these  18-24 years old   \n",
       "1           2  I agree  I am a developer by profession  25-34 years old   \n",
       "2           3  I agree  I am a developer by profession  45-54 years old   \n",
       "3           4  I agree  I am a developer by profession  25-34 years old   \n",
       "4           5  I agree  I am a developer by profession  25-34 years old   \n",
       "\n",
       "                                          Employment  \\\n",
       "0                                                NaN   \n",
       "1                                Employed, full-time   \n",
       "2                                Employed, full-time   \n",
       "3                                Employed, full-time   \n",
       "4  Employed, full-time;Independent contractor, fr...   \n",
       "\n",
       "                             RemoteWork  \\\n",
       "0                                   NaN   \n",
       "1                                Remote   \n",
       "2  Hybrid (some remote, some in-person)   \n",
       "3  Hybrid (some remote, some in-person)   \n",
       "4                                Remote   \n",
       "\n",
       "                                    CodingActivities  \\\n",
       "0                                                NaN   \n",
       "1  Hobby;Contribute to open-source projects;Boots...   \n",
       "2  Hobby;Professional development or self-paced l...   \n",
       "3                                              Hobby   \n",
       "4  Hobby;Contribute to open-source projects;Profe...   \n",
       "\n",
       "                                        EdLevel  \\\n",
       "0                                           NaN   \n",
       "1  Bachelor’s degree (B.A., B.S., B.Eng., etc.)   \n",
       "2  Bachelor’s degree (B.A., B.S., B.Eng., etc.)   \n",
       "3  Bachelor’s degree (B.A., B.S., B.Eng., etc.)   \n",
       "4  Bachelor’s degree (B.A., B.S., B.Eng., etc.)   \n",
       "\n",
       "                                           LearnCode  \\\n",
       "0                                                NaN   \n",
       "1  Books / Physical media;Colleague;Friend or fam...   \n",
       "2  Books / Physical media;Colleague;On the job tr...   \n",
       "3  Colleague;Friend or family member;Other online...   \n",
       "4  Books / Physical media;Online Courses or Certi...   \n",
       "\n",
       "                                     LearnCodeOnline  ...        Frequency_1  \\\n",
       "0                                                NaN  ...                NaN   \n",
       "1  Formal documentation provided by the owner of ...  ...   1-2 times a week   \n",
       "2  Formal documentation provided by the owner of ...  ...  6-10 times a week   \n",
       "3  Formal documentation provided by the owner of ...  ...   1-2 times a week   \n",
       "4  Formal documentation provided by the owner of ...  ...   1-2 times a week   \n",
       "\n",
       "         Frequency_2       Frequency_3         TimeSearching  \\\n",
       "0                NaN               NaN                   NaN   \n",
       "1   10+ times a week             Never   15-30 minutes a day   \n",
       "2  6-10 times a week  3-5 times a week   30-60 minutes a day   \n",
       "3   10+ times a week  1-2 times a week   15-30 minutes a day   \n",
       "4   1-2 times a week  3-5 times a week  60-120 minutes a day   \n",
       "\n",
       "         TimeAnswering                                   ProfessionalTech  \\\n",
       "0                  NaN                                                NaN   \n",
       "1  15-30 minutes a day  DevOps function;Microservices;Automated testin...   \n",
       "2  30-60 minutes a day  DevOps function;Microservices;Automated testin...   \n",
       "3  30-60 minutes a day  Automated testing;Continuous integration (CI) ...   \n",
       "4  30-60 minutes a day  Microservices;Automated testing;Observability ...   \n",
       "\n",
       "                                            Industry           SurveyLength  \\\n",
       "0                                                NaN                    NaN   \n",
       "1  Information Services, IT, Software Development...  Appropriate in length   \n",
       "2  Information Services, IT, Software Development...  Appropriate in length   \n",
       "3                                                NaN  Appropriate in length   \n",
       "4                                              Other  Appropriate in length   \n",
       "\n",
       "                   SurveyEase ConvertedCompYearly  \n",
       "0                         NaN                 NaN  \n",
       "1                        Easy            285000.0  \n",
       "2                        Easy            250000.0  \n",
       "3                        Easy            156000.0  \n",
       "4  Neither easy nor difficult             23456.0  \n",
       "\n",
       "[5 rows x 84 columns]"
      ]
     },
     "execution_count": 182,
     "metadata": {},
     "output_type": "execute_result"
    }
   ],
   "source": [
    "df.head()\n",
    "#or df.head(8)"
   ]
  },
  {
   "cell_type": "code",
   "execution_count": 183,
   "id": "c39c0dde",
   "metadata": {},
   "outputs": [
    {
     "data": {
      "text/plain": [
       "(89184, 84)"
      ]
     },
     "execution_count": 183,
     "metadata": {},
     "output_type": "execute_result"
    }
   ],
   "source": [
    "df.shape"
   ]
  },
  {
   "cell_type": "code",
   "execution_count": 184,
   "id": "1804bd42",
   "metadata": {},
   "outputs": [
    {
     "data": {
      "text/html": [
       "<div>\n",
       "<style scoped>\n",
       "    .dataframe tbody tr th:only-of-type {\n",
       "        vertical-align: middle;\n",
       "    }\n",
       "\n",
       "    .dataframe tbody tr th {\n",
       "        vertical-align: top;\n",
       "    }\n",
       "\n",
       "    .dataframe thead th {\n",
       "        text-align: right;\n",
       "    }\n",
       "</style>\n",
       "<table border=\"1\" class=\"dataframe\">\n",
       "  <thead>\n",
       "    <tr style=\"text-align: right;\">\n",
       "      <th></th>\n",
       "      <th>ResponseId</th>\n",
       "      <th>Q120</th>\n",
       "      <th>MainBranch</th>\n",
       "      <th>Age</th>\n",
       "      <th>Employment</th>\n",
       "      <th>RemoteWork</th>\n",
       "      <th>CodingActivities</th>\n",
       "      <th>EdLevel</th>\n",
       "      <th>LearnCode</th>\n",
       "      <th>LearnCodeOnline</th>\n",
       "      <th>...</th>\n",
       "      <th>Frequency_1</th>\n",
       "      <th>Frequency_2</th>\n",
       "      <th>Frequency_3</th>\n",
       "      <th>TimeSearching</th>\n",
       "      <th>TimeAnswering</th>\n",
       "      <th>ProfessionalTech</th>\n",
       "      <th>Industry</th>\n",
       "      <th>SurveyLength</th>\n",
       "      <th>SurveyEase</th>\n",
       "      <th>ConvertedCompYearly</th>\n",
       "    </tr>\n",
       "  </thead>\n",
       "  <tbody>\n",
       "    <tr>\n",
       "      <th>89179</th>\n",
       "      <td>89180</td>\n",
       "      <td>I agree</td>\n",
       "      <td>I am a developer by profession</td>\n",
       "      <td>25-34 years old</td>\n",
       "      <td>Employed, full-time;Independent contractor, fr...</td>\n",
       "      <td>Remote</td>\n",
       "      <td>Hobby;Bootstrapping a business;Freelance/contr...</td>\n",
       "      <td>Associate degree (A.A., A.S., etc.)</td>\n",
       "      <td>Online Courses or Certification;Other online r...</td>\n",
       "      <td>Formal documentation provided by the owner of ...</td>\n",
       "      <td>...</td>\n",
       "      <td>NaN</td>\n",
       "      <td>NaN</td>\n",
       "      <td>NaN</td>\n",
       "      <td>NaN</td>\n",
       "      <td>NaN</td>\n",
       "      <td>NaN</td>\n",
       "      <td>NaN</td>\n",
       "      <td>Too long</td>\n",
       "      <td>Neither easy nor difficult</td>\n",
       "      <td>NaN</td>\n",
       "    </tr>\n",
       "    <tr>\n",
       "      <th>89180</th>\n",
       "      <td>89181</td>\n",
       "      <td>I agree</td>\n",
       "      <td>I am a developer by profession</td>\n",
       "      <td>18-24 years old</td>\n",
       "      <td>Student, full-time;Employed, part-time</td>\n",
       "      <td>Hybrid (some remote, some in-person)</td>\n",
       "      <td>School or academic work</td>\n",
       "      <td>Bachelor’s degree (B.A., B.S., B.Eng., etc.)</td>\n",
       "      <td>Colleague;Online Courses or Certification;Othe...</td>\n",
       "      <td>Formal documentation provided by the owner of ...</td>\n",
       "      <td>...</td>\n",
       "      <td>NaN</td>\n",
       "      <td>NaN</td>\n",
       "      <td>NaN</td>\n",
       "      <td>NaN</td>\n",
       "      <td>NaN</td>\n",
       "      <td>NaN</td>\n",
       "      <td>NaN</td>\n",
       "      <td>Too long</td>\n",
       "      <td>Easy</td>\n",
       "      <td>NaN</td>\n",
       "    </tr>\n",
       "    <tr>\n",
       "      <th>89181</th>\n",
       "      <td>89182</td>\n",
       "      <td>I agree</td>\n",
       "      <td>I code primarily as a hobby</td>\n",
       "      <td>Prefer not to say</td>\n",
       "      <td>I prefer not to say</td>\n",
       "      <td>NaN</td>\n",
       "      <td>NaN</td>\n",
       "      <td>Something else</td>\n",
       "      <td>Books / Physical media;Hackathons (virtual or ...</td>\n",
       "      <td>NaN</td>\n",
       "      <td>...</td>\n",
       "      <td>NaN</td>\n",
       "      <td>NaN</td>\n",
       "      <td>NaN</td>\n",
       "      <td>NaN</td>\n",
       "      <td>NaN</td>\n",
       "      <td>NaN</td>\n",
       "      <td>NaN</td>\n",
       "      <td>Too long</td>\n",
       "      <td>Neither easy nor difficult</td>\n",
       "      <td>NaN</td>\n",
       "    </tr>\n",
       "    <tr>\n",
       "      <th>89182</th>\n",
       "      <td>89183</td>\n",
       "      <td>I agree</td>\n",
       "      <td>I am a developer by profession</td>\n",
       "      <td>Under 18 years old</td>\n",
       "      <td>Employed, part-time;Student, part-time</td>\n",
       "      <td>Hybrid (some remote, some in-person)</td>\n",
       "      <td>Hobby;School or academic work</td>\n",
       "      <td>Secondary school (e.g. American high school, G...</td>\n",
       "      <td>Online Courses or Certification;Other online r...</td>\n",
       "      <td>Formal documentation provided by the owner of ...</td>\n",
       "      <td>...</td>\n",
       "      <td>NaN</td>\n",
       "      <td>NaN</td>\n",
       "      <td>NaN</td>\n",
       "      <td>NaN</td>\n",
       "      <td>NaN</td>\n",
       "      <td>NaN</td>\n",
       "      <td>NaN</td>\n",
       "      <td>Appropriate in length</td>\n",
       "      <td>Neither easy nor difficult</td>\n",
       "      <td>NaN</td>\n",
       "    </tr>\n",
       "    <tr>\n",
       "      <th>89183</th>\n",
       "      <td>89184</td>\n",
       "      <td>I agree</td>\n",
       "      <td>I am a developer by profession</td>\n",
       "      <td>35-44 years old</td>\n",
       "      <td>Employed, full-time</td>\n",
       "      <td>Hybrid (some remote, some in-person)</td>\n",
       "      <td>Hobby;Professional development or self-paced l...</td>\n",
       "      <td>Bachelor’s degree (B.A., B.S., B.Eng., etc.)</td>\n",
       "      <td>Colleague;Online Courses or Certification;Othe...</td>\n",
       "      <td>Formal documentation provided by the owner of ...</td>\n",
       "      <td>...</td>\n",
       "      <td>Never</td>\n",
       "      <td>1-2 times a week</td>\n",
       "      <td>1-2 times a week</td>\n",
       "      <td>60-120 minutes a day</td>\n",
       "      <td>30-60 minutes a day</td>\n",
       "      <td>DevOps function;Developer portal or other cent...</td>\n",
       "      <td>Information Services, IT, Software Development...</td>\n",
       "      <td>Appropriate in length</td>\n",
       "      <td>Easy</td>\n",
       "      <td>NaN</td>\n",
       "    </tr>\n",
       "  </tbody>\n",
       "</table>\n",
       "<p>5 rows × 84 columns</p>\n",
       "</div>"
      ],
      "text/plain": [
       "       ResponseId     Q120                      MainBranch  \\\n",
       "89179       89180  I agree  I am a developer by profession   \n",
       "89180       89181  I agree  I am a developer by profession   \n",
       "89181       89182  I agree     I code primarily as a hobby   \n",
       "89182       89183  I agree  I am a developer by profession   \n",
       "89183       89184  I agree  I am a developer by profession   \n",
       "\n",
       "                      Age                                         Employment  \\\n",
       "89179     25-34 years old  Employed, full-time;Independent contractor, fr...   \n",
       "89180     18-24 years old             Student, full-time;Employed, part-time   \n",
       "89181   Prefer not to say                                I prefer not to say   \n",
       "89182  Under 18 years old             Employed, part-time;Student, part-time   \n",
       "89183     35-44 years old                                Employed, full-time   \n",
       "\n",
       "                                 RemoteWork  \\\n",
       "89179                                Remote   \n",
       "89180  Hybrid (some remote, some in-person)   \n",
       "89181                                   NaN   \n",
       "89182  Hybrid (some remote, some in-person)   \n",
       "89183  Hybrid (some remote, some in-person)   \n",
       "\n",
       "                                        CodingActivities  \\\n",
       "89179  Hobby;Bootstrapping a business;Freelance/contr...   \n",
       "89180                            School or academic work   \n",
       "89181                                                NaN   \n",
       "89182                      Hobby;School or academic work   \n",
       "89183  Hobby;Professional development or self-paced l...   \n",
       "\n",
       "                                                 EdLevel  \\\n",
       "89179                Associate degree (A.A., A.S., etc.)   \n",
       "89180       Bachelor’s degree (B.A., B.S., B.Eng., etc.)   \n",
       "89181                                     Something else   \n",
       "89182  Secondary school (e.g. American high school, G...   \n",
       "89183       Bachelor’s degree (B.A., B.S., B.Eng., etc.)   \n",
       "\n",
       "                                               LearnCode  \\\n",
       "89179  Online Courses or Certification;Other online r...   \n",
       "89180  Colleague;Online Courses or Certification;Othe...   \n",
       "89181  Books / Physical media;Hackathons (virtual or ...   \n",
       "89182  Online Courses or Certification;Other online r...   \n",
       "89183  Colleague;Online Courses or Certification;Othe...   \n",
       "\n",
       "                                         LearnCodeOnline  ... Frequency_1  \\\n",
       "89179  Formal documentation provided by the owner of ...  ...         NaN   \n",
       "89180  Formal documentation provided by the owner of ...  ...         NaN   \n",
       "89181                                                NaN  ...         NaN   \n",
       "89182  Formal documentation provided by the owner of ...  ...         NaN   \n",
       "89183  Formal documentation provided by the owner of ...  ...       Never   \n",
       "\n",
       "            Frequency_2       Frequency_3         TimeSearching  \\\n",
       "89179               NaN               NaN                   NaN   \n",
       "89180               NaN               NaN                   NaN   \n",
       "89181               NaN               NaN                   NaN   \n",
       "89182               NaN               NaN                   NaN   \n",
       "89183  1-2 times a week  1-2 times a week  60-120 minutes a day   \n",
       "\n",
       "             TimeAnswering                                   ProfessionalTech  \\\n",
       "89179                  NaN                                                NaN   \n",
       "89180                  NaN                                                NaN   \n",
       "89181                  NaN                                                NaN   \n",
       "89182                  NaN                                                NaN   \n",
       "89183  30-60 minutes a day  DevOps function;Developer portal or other cent...   \n",
       "\n",
       "                                                Industry  \\\n",
       "89179                                                NaN   \n",
       "89180                                                NaN   \n",
       "89181                                                NaN   \n",
       "89182                                                NaN   \n",
       "89183  Information Services, IT, Software Development...   \n",
       "\n",
       "                SurveyLength                  SurveyEase ConvertedCompYearly  \n",
       "89179               Too long  Neither easy nor difficult                 NaN  \n",
       "89180               Too long                        Easy                 NaN  \n",
       "89181               Too long  Neither easy nor difficult                 NaN  \n",
       "89182  Appropriate in length  Neither easy nor difficult                 NaN  \n",
       "89183  Appropriate in length                        Easy                 NaN  \n",
       "\n",
       "[5 rows x 84 columns]"
      ]
     },
     "execution_count": 184,
     "metadata": {},
     "output_type": "execute_result"
    }
   ],
   "source": [
    "df.tail()"
   ]
  },
  {
   "cell_type": "code",
   "execution_count": 185,
   "id": "94ca64fe",
   "metadata": {},
   "outputs": [
    {
     "data": {
      "text/plain": [
       "0           18-24 years old\n",
       "1           25-34 years old\n",
       "2           45-54 years old\n",
       "3           25-34 years old\n",
       "4           25-34 years old\n",
       "                ...        \n",
       "89179       25-34 years old\n",
       "89180       18-24 years old\n",
       "89181     Prefer not to say\n",
       "89182    Under 18 years old\n",
       "89183       35-44 years old\n",
       "Name: Age, Length: 89184, dtype: object"
      ]
     },
     "execution_count": 185,
     "metadata": {},
     "output_type": "execute_result"
    }
   ],
   "source": [
    "df['Age']"
   ]
  },
  {
   "cell_type": "code",
   "execution_count": 191,
   "id": "fc619106",
   "metadata": {},
   "outputs": [],
   "source": [
    "import re"
   ]
  },
  {
   "cell_type": "code",
   "execution_count": 198,
   "id": "9b1010cb",
   "metadata": {},
   "outputs": [],
   "source": [
    "\n",
    "def calculate_average_from_range(age_range):\n",
    "    # Extract numerical values using regular expression\n",
    "    match = re.match(r'(\\d+)-(\\d+)', age_range)\n",
    "    \n",
    "    if match:\n",
    "        lower, upper = map(int, match.groups())\n",
    "        average = (lower + upper) / 2\n",
    "        return average\n",
    "    else:\n",
    "        return None\n",
    "\n",
    "# Apply the function to the 'age' column\n",
    "df['Age'] = df['Age'].apply(calculate_average_from_range)\n",
    "\n"
   ]
  },
  {
   "cell_type": "code",
   "execution_count": 199,
   "id": "4f90acb1",
   "metadata": {},
   "outputs": [
    {
     "data": {
      "text/plain": [
       "0        21.0\n",
       "1        29.5\n",
       "2        49.5\n",
       "3        29.5\n",
       "4        29.5\n",
       "         ... \n",
       "89179    29.5\n",
       "89180    21.0\n",
       "89181     NaN\n",
       "89182     NaN\n",
       "89183    39.5\n",
       "Name: Age, Length: 89184, dtype: float64"
      ]
     },
     "execution_count": 199,
     "metadata": {},
     "output_type": "execute_result"
    }
   ],
   "source": [
    "df['Age']\n",
    "#df['Age_average']"
   ]
  },
  {
   "cell_type": "code",
   "execution_count": 200,
   "id": "97281ac0",
   "metadata": {},
   "outputs": [
    {
     "name": "stdout",
     "output_type": "stream",
     "text": [
      "<class 'pandas.core.frame.DataFrame'>\n",
      "RangeIndex: 89184 entries, 0 to 89183\n",
      "Data columns (total 84 columns):\n",
      " #   Column                               Non-Null Count  Dtype  \n",
      "---  ------                               --------------  -----  \n",
      " 0   ResponseId                           89184 non-null  int64  \n",
      " 1   Q120                                 89184 non-null  object \n",
      " 2   MainBranch                           89184 non-null  object \n",
      " 3   Age                                  83436 non-null  float64\n",
      " 4   Employment                           87898 non-null  object \n",
      " 5   RemoteWork                           73810 non-null  object \n",
      " 6   CodingActivities                     73764 non-null  object \n",
      " 7   EdLevel                              87973 non-null  object \n",
      " 8   LearnCode                            87663 non-null  object \n",
      " 9   LearnCodeOnline                      70084 non-null  object \n",
      " 10  LearnCodeCoursesCert                 37076 non-null  object \n",
      " 11  YearsCode                            87435 non-null  object \n",
      " 12  YearsCodePro                         66136 non-null  object \n",
      " 13  DevType                              76872 non-null  object \n",
      " 14  OrgSize                              65043 non-null  object \n",
      " 15  PurchaseInfluence                    64964 non-null  object \n",
      " 16  TechList                             60851 non-null  object \n",
      " 17  BuyNewTool                           83009 non-null  object \n",
      " 18  Country                              87973 non-null  object \n",
      " 19  Currency                             65334 non-null  object \n",
      " 20  CompTotal                            48225 non-null  float64\n",
      " 21  LanguageHaveWorkedWith               87140 non-null  object \n",
      " 22  LanguageWantToWorkWith               80709 non-null  object \n",
      " 23  DatabaseHaveWorkedWith               73435 non-null  object \n",
      " 24  DatabaseWantToWorkWith               60911 non-null  object \n",
      " 25  PlatformHaveWorkedWith               63628 non-null  object \n",
      " 26  PlatformWantToWorkWith               51308 non-null  object \n",
      " 27  WebframeHaveWorkedWith               66938 non-null  object \n",
      " 28  WebframeWantToWorkWith               56741 non-null  object \n",
      " 29  MiscTechHaveWorkedWith               57019 non-null  object \n",
      " 30  MiscTechWantToWorkWith               46848 non-null  object \n",
      " 31  ToolsTechHaveWorkedWith              77884 non-null  object \n",
      " 32  ToolsTechWantToWorkWith              68315 non-null  object \n",
      " 33  NEWCollabToolsHaveWorkedWith         85864 non-null  object \n",
      " 34  NEWCollabToolsWantToWorkWith         76649 non-null  object \n",
      " 35  OpSysPersonal use                    86557 non-null  object \n",
      " 36  OpSysProfessional use                78587 non-null  object \n",
      " 37  OfficeStackAsyncHaveWorkedWith       69090 non-null  object \n",
      " 38  OfficeStackAsyncWantToWorkWith       53743 non-null  object \n",
      " 39  OfficeStackSyncHaveWorkedWith        83439 non-null  object \n",
      " 40  OfficeStackSyncWantToWorkWith        69776 non-null  object \n",
      " 41  AISearchHaveWorkedWith               56328 non-null  object \n",
      " 42  AISearchWantToWorkWith               46150 non-null  object \n",
      " 43  AIDevHaveWorkedWith                  25904 non-null  object \n",
      " 44  AIDevWantToWorkWith                  19587 non-null  object \n",
      " 45  NEWSOSites                           87973 non-null  object \n",
      " 46  SOVisitFreq                          87140 non-null  object \n",
      " 47  SOAccount                            87852 non-null  object \n",
      " 48  SOPartFreq                           66061 non-null  object \n",
      " 49  SOComm                               87692 non-null  object \n",
      " 50  SOAI                                 47912 non-null  object \n",
      " 51  AISelect                             87973 non-null  object \n",
      " 52  AISent                               61501 non-null  object \n",
      " 53  AIAcc                                38594 non-null  object \n",
      " 54  AIBen                                61396 non-null  object \n",
      " 55  AIToolInterested in Using            32783 non-null  object \n",
      " 56  AIToolCurrently Using                36137 non-null  object \n",
      " 57  AIToolNot interested in Using        21069 non-null  object \n",
      " 58  AINextVery different                 12661 non-null  object \n",
      " 59  AINextNeither different nor similar  6599 non-null   object \n",
      " 60  AINextSomewhat similar               6238 non-null   object \n",
      " 61  AINextVery similar                   2621 non-null   object \n",
      " 62  AINextSomewhat different             23303 non-null  object \n",
      " 63  TBranch                              65768 non-null  object \n",
      " 64  ICorPM                               43668 non-null  object \n",
      " 65  WorkExp                              43579 non-null  float64\n",
      " 66  Knowledge_1                          42535 non-null  object \n",
      " 67  Knowledge_2                          41670 non-null  object \n",
      " 68  Knowledge_3                          41798 non-null  object \n",
      " 69  Knowledge_4                          41684 non-null  object \n",
      " 70  Knowledge_5                          41527 non-null  object \n",
      " 71  Knowledge_6                          41520 non-null  object \n",
      " 72  Knowledge_7                          41467 non-null  object \n",
      " 73  Knowledge_8                          41404 non-null  object \n",
      " 74  Frequency_1                          41916 non-null  object \n",
      " 75  Frequency_2                          41925 non-null  object \n",
      " 76  Frequency_3                          41054 non-null  object \n",
      " 77  TimeSearching                        42778 non-null  object \n",
      " 78  TimeAnswering                        42629 non-null  object \n",
      " 79  ProfessionalTech                     41783 non-null  object \n",
      " 80  Industry                             36774 non-null  object \n",
      " 81  SurveyLength                         86485 non-null  object \n",
      " 82  SurveyEase                           86554 non-null  object \n",
      " 83  ConvertedCompYearly                  48019 non-null  float64\n",
      "dtypes: float64(4), int64(1), object(79)\n",
      "memory usage: 57.2+ MB\n"
     ]
    }
   ],
   "source": [
    "df.info()\n"
   ]
  },
  {
   "cell_type": "code",
   "execution_count": 201,
   "id": "c6155d15",
   "metadata": {},
   "outputs": [
    {
     "data": {
      "text/plain": [
       "'23'"
      ]
     },
     "execution_count": 201,
     "metadata": {},
     "output_type": "execute_result"
    }
   ],
   "source": [
    "'23'"
   ]
  },
  {
   "cell_type": "code",
   "execution_count": 202,
   "id": "0379df57",
   "metadata": {},
   "outputs": [
    {
     "data": {
      "text/plain": [
       "'23'"
      ]
     },
     "execution_count": 202,
     "metadata": {},
     "output_type": "execute_result"
    }
   ],
   "source": [
    "' 23 '.strip()"
   ]
  },
  {
   "cell_type": "code",
   "execution_count": 203,
   "id": "cdfc04e0",
   "metadata": {},
   "outputs": [
    {
     "data": {
      "text/plain": [
       "'23 '"
      ]
     },
     "execution_count": 203,
     "metadata": {},
     "output_type": "execute_result"
    }
   ],
   "source": [
    "'  23 '.lstrip()"
   ]
  },
  {
   "cell_type": "code",
   "execution_count": 204,
   "id": "d854bfd2",
   "metadata": {},
   "outputs": [
    {
     "data": {
      "text/plain": [
       "' 23'"
      ]
     },
     "execution_count": 204,
     "metadata": {},
     "output_type": "execute_result"
    }
   ],
   "source": [
    "' 23  '.rstrip()"
   ]
  },
  {
   "cell_type": "code",
   "execution_count": 205,
   "id": "c7d640e5",
   "metadata": {},
   "outputs": [
    {
     "data": {
      "text/plain": [
       "tuple"
      ]
     },
     "execution_count": 205,
     "metadata": {},
     "output_type": "execute_result"
    }
   ],
   "source": [
    "type(df.shape)"
   ]
  },
  {
   "cell_type": "code",
   "execution_count": 206,
   "id": "6ef8ba96",
   "metadata": {},
   "outputs": [
    {
     "data": {
      "text/plain": [
       "89184"
      ]
     },
     "execution_count": 206,
     "metadata": {},
     "output_type": "execute_result"
    }
   ],
   "source": [
    "df.shape[0]"
   ]
  },
  {
   "cell_type": "code",
   "execution_count": 207,
   "id": "66901ef5",
   "metadata": {},
   "outputs": [
    {
     "data": {
      "text/plain": [
       "84"
      ]
     },
     "execution_count": 207,
     "metadata": {},
     "output_type": "execute_result"
    }
   ],
   "source": [
    "df.shape[1]"
   ]
  },
  {
   "cell_type": "code",
   "execution_count": 208,
   "id": "c62cf0f9",
   "metadata": {},
   "outputs": [
    {
     "data": {
      "text/html": [
       "<div>\n",
       "<style scoped>\n",
       "    .dataframe tbody tr th:only-of-type {\n",
       "        vertical-align: middle;\n",
       "    }\n",
       "\n",
       "    .dataframe tbody tr th {\n",
       "        vertical-align: top;\n",
       "    }\n",
       "\n",
       "    .dataframe thead th {\n",
       "        text-align: right;\n",
       "    }\n",
       "</style>\n",
       "<table border=\"1\" class=\"dataframe\">\n",
       "  <thead>\n",
       "    <tr style=\"text-align: right;\">\n",
       "      <th></th>\n",
       "      <th>ResponseId</th>\n",
       "      <th>Age</th>\n",
       "      <th>CompTotal</th>\n",
       "      <th>WorkExp</th>\n",
       "      <th>ConvertedCompYearly</th>\n",
       "    </tr>\n",
       "  </thead>\n",
       "  <tbody>\n",
       "    <tr>\n",
       "      <th>count</th>\n",
       "      <td>89184.000000</td>\n",
       "      <td>83436.000000</td>\n",
       "      <td>4.822500e+04</td>\n",
       "      <td>43579.000000</td>\n",
       "      <td>4.801900e+04</td>\n",
       "    </tr>\n",
       "    <tr>\n",
       "      <th>mean</th>\n",
       "      <td>44592.500000</td>\n",
       "      <td>33.351413</td>\n",
       "      <td>1.036807e+42</td>\n",
       "      <td>11.405126</td>\n",
       "      <td>1.031101e+05</td>\n",
       "    </tr>\n",
       "    <tr>\n",
       "      <th>std</th>\n",
       "      <td>25745.347541</td>\n",
       "      <td>10.091852</td>\n",
       "      <td>2.276847e+44</td>\n",
       "      <td>9.051989</td>\n",
       "      <td>6.814188e+05</td>\n",
       "    </tr>\n",
       "    <tr>\n",
       "      <th>min</th>\n",
       "      <td>1.000000</td>\n",
       "      <td>21.000000</td>\n",
       "      <td>0.000000e+00</td>\n",
       "      <td>0.000000</td>\n",
       "      <td>1.000000e+00</td>\n",
       "    </tr>\n",
       "    <tr>\n",
       "      <th>25%</th>\n",
       "      <td>22296.750000</td>\n",
       "      <td>29.500000</td>\n",
       "      <td>6.300000e+04</td>\n",
       "      <td>5.000000</td>\n",
       "      <td>4.390700e+04</td>\n",
       "    </tr>\n",
       "    <tr>\n",
       "      <th>50%</th>\n",
       "      <td>44592.500000</td>\n",
       "      <td>29.500000</td>\n",
       "      <td>1.150000e+05</td>\n",
       "      <td>9.000000</td>\n",
       "      <td>7.496300e+04</td>\n",
       "    </tr>\n",
       "    <tr>\n",
       "      <th>75%</th>\n",
       "      <td>66888.250000</td>\n",
       "      <td>39.500000</td>\n",
       "      <td>2.300000e+05</td>\n",
       "      <td>16.000000</td>\n",
       "      <td>1.216410e+05</td>\n",
       "    </tr>\n",
       "    <tr>\n",
       "      <th>max</th>\n",
       "      <td>89184.000000</td>\n",
       "      <td>59.500000</td>\n",
       "      <td>5.000000e+46</td>\n",
       "      <td>50.000000</td>\n",
       "      <td>7.435143e+07</td>\n",
       "    </tr>\n",
       "  </tbody>\n",
       "</table>\n",
       "</div>"
      ],
      "text/plain": [
       "         ResponseId           Age     CompTotal       WorkExp  \\\n",
       "count  89184.000000  83436.000000  4.822500e+04  43579.000000   \n",
       "mean   44592.500000     33.351413  1.036807e+42     11.405126   \n",
       "std    25745.347541     10.091852  2.276847e+44      9.051989   \n",
       "min        1.000000     21.000000  0.000000e+00      0.000000   \n",
       "25%    22296.750000     29.500000  6.300000e+04      5.000000   \n",
       "50%    44592.500000     29.500000  1.150000e+05      9.000000   \n",
       "75%    66888.250000     39.500000  2.300000e+05     16.000000   \n",
       "max    89184.000000     59.500000  5.000000e+46     50.000000   \n",
       "\n",
       "       ConvertedCompYearly  \n",
       "count         4.801900e+04  \n",
       "mean          1.031101e+05  \n",
       "std           6.814188e+05  \n",
       "min           1.000000e+00  \n",
       "25%           4.390700e+04  \n",
       "50%           7.496300e+04  \n",
       "75%           1.216410e+05  \n",
       "max           7.435143e+07  "
      ]
     },
     "execution_count": 208,
     "metadata": {},
     "output_type": "execute_result"
    }
   ],
   "source": [
    "df.describe()"
   ]
  },
  {
   "cell_type": "code",
   "execution_count": 209,
   "id": "947a124b",
   "metadata": {},
   "outputs": [],
   "source": [
    "for i in range(df.shape[0]):\n",
    "    pass"
   ]
  },
  {
   "cell_type": "code",
   "execution_count": 210,
   "id": "e6116551",
   "metadata": {},
   "outputs": [
    {
     "data": {
      "text/plain": [
       "ResponseId                 0\n",
       "Q120                       0\n",
       "MainBranch                 0\n",
       "Age                     5748\n",
       "Employment              1286\n",
       "                       ...  \n",
       "ProfessionalTech       47401\n",
       "Industry               52410\n",
       "SurveyLength            2699\n",
       "SurveyEase              2630\n",
       "ConvertedCompYearly    41165\n",
       "Length: 84, dtype: int64"
      ]
     },
     "execution_count": 210,
     "metadata": {},
     "output_type": "execute_result"
    }
   ],
   "source": [
    "df.isnull().sum()"
   ]
  },
  {
   "cell_type": "code",
   "execution_count": 211,
   "id": "5b5be547",
   "metadata": {},
   "outputs": [
    {
     "data": {
      "text/plain": [
       "ResponseId                 0\n",
       "Q120                       0\n",
       "MainBranch                 0\n",
       "Age                     5748\n",
       "Employment              1286\n",
       "                       ...  \n",
       "ProfessionalTech       47401\n",
       "Industry               52410\n",
       "SurveyLength            2699\n",
       "SurveyEase              2630\n",
       "ConvertedCompYearly    41165\n",
       "Length: 84, dtype: int64"
      ]
     },
     "execution_count": 211,
     "metadata": {},
     "output_type": "execute_result"
    }
   ],
   "source": [
    "df.isna().sum()"
   ]
  },
  {
   "cell_type": "code",
   "execution_count": 212,
   "id": "214806e2",
   "metadata": {},
   "outputs": [
    {
     "data": {
      "text/plain": [
       "ResponseId             89184\n",
       "Q120                   89184\n",
       "MainBranch             89184\n",
       "Age                    83436\n",
       "Employment             87898\n",
       "                       ...  \n",
       "ProfessionalTech       41783\n",
       "Industry               36774\n",
       "SurveyLength           86485\n",
       "SurveyEase             86554\n",
       "ConvertedCompYearly    48019\n",
       "Length: 84, dtype: int64"
      ]
     },
     "execution_count": 212,
     "metadata": {},
     "output_type": "execute_result"
    }
   ],
   "source": [
    "df.notna().sum()"
   ]
  },
  {
   "cell_type": "code",
   "execution_count": 213,
   "id": "3b04c3f1",
   "metadata": {},
   "outputs": [
    {
     "data": {
      "text/plain": [
       "ResponseId             89184.0\n",
       "Age                    83436.0\n",
       "CompTotal              48225.0\n",
       "WorkExp                43579.0\n",
       "ConvertedCompYearly    48019.0\n",
       "Name: count, dtype: float64"
      ]
     },
     "execution_count": 213,
     "metadata": {},
     "output_type": "execute_result"
    }
   ],
   "source": [
    "df.describe().loc['count']"
   ]
  },
  {
   "cell_type": "code",
   "execution_count": 218,
   "id": "00f8a80b",
   "metadata": {},
   "outputs": [
    {
     "name": "stderr",
     "output_type": "stream",
     "text": [
      "C:\\Users\\TravelMate\\anaconda3\\lib\\site-packages\\numpy\\core\\fromnumeric.py:3472: FutureWarning: In a future version, DataFrame.mean(axis=None) will return a scalar mean over the entire DataFrame. To retain the old behavior, use 'frame.mean(axis=0)' or just 'frame.mean()'\n",
      "  return mean(axis=axis, dtype=dtype, out=out, **kwargs)\n"
     ]
    },
    {
     "data": {
      "text/html": [
       "<div>\n",
       "<style scoped>\n",
       "    .dataframe tbody tr th:only-of-type {\n",
       "        vertical-align: middle;\n",
       "    }\n",
       "\n",
       "    .dataframe tbody tr th {\n",
       "        vertical-align: top;\n",
       "    }\n",
       "\n",
       "    .dataframe thead th {\n",
       "        text-align: right;\n",
       "    }\n",
       "</style>\n",
       "<table border=\"1\" class=\"dataframe\">\n",
       "  <thead>\n",
       "    <tr style=\"text-align: right;\">\n",
       "      <th></th>\n",
       "      <th>Total</th>\n",
       "      <th>%</th>\n",
       "    </tr>\n",
       "  </thead>\n",
       "  <tbody>\n",
       "    <tr>\n",
       "      <th>AINextVery similar</th>\n",
       "      <td>86563</td>\n",
       "      <td>97.061132</td>\n",
       "    </tr>\n",
       "    <tr>\n",
       "      <th>AINextSomewhat similar</th>\n",
       "      <td>82946</td>\n",
       "      <td>93.005472</td>\n",
       "    </tr>\n",
       "    <tr>\n",
       "      <th>AINextNeither different nor similar</th>\n",
       "      <td>82585</td>\n",
       "      <td>92.600691</td>\n",
       "    </tr>\n",
       "    <tr>\n",
       "      <th>AINextVery different</th>\n",
       "      <td>76523</td>\n",
       "      <td>85.803507</td>\n",
       "    </tr>\n",
       "    <tr>\n",
       "      <th>AIDevWantToWorkWith</th>\n",
       "      <td>69597</td>\n",
       "      <td>78.037540</td>\n",
       "    </tr>\n",
       "    <tr>\n",
       "      <th>...</th>\n",
       "      <td>...</td>\n",
       "      <td>...</td>\n",
       "    </tr>\n",
       "    <tr>\n",
       "      <th>NEWSOSites</th>\n",
       "      <td>1211</td>\n",
       "      <td>1.357867</td>\n",
       "    </tr>\n",
       "    <tr>\n",
       "      <th>AISelect</th>\n",
       "      <td>1211</td>\n",
       "      <td>1.357867</td>\n",
       "    </tr>\n",
       "    <tr>\n",
       "      <th>Q120</th>\n",
       "      <td>0</td>\n",
       "      <td>0.000000</td>\n",
       "    </tr>\n",
       "    <tr>\n",
       "      <th>MainBranch</th>\n",
       "      <td>0</td>\n",
       "      <td>0.000000</td>\n",
       "    </tr>\n",
       "    <tr>\n",
       "      <th>ResponseId</th>\n",
       "      <td>0</td>\n",
       "      <td>0.000000</td>\n",
       "    </tr>\n",
       "  </tbody>\n",
       "</table>\n",
       "<p>84 rows × 2 columns</p>\n",
       "</div>"
      ],
      "text/plain": [
       "                                     Total          %\n",
       "AINextVery similar                   86563  97.061132\n",
       "AINextSomewhat similar               82946  93.005472\n",
       "AINextNeither different nor similar  82585  92.600691\n",
       "AINextVery different                 76523  85.803507\n",
       "AIDevWantToWorkWith                  69597  78.037540\n",
       "...                                    ...        ...\n",
       "NEWSOSites                            1211   1.357867\n",
       "AISelect                              1211   1.357867\n",
       "Q120                                     0   0.000000\n",
       "MainBranch                               0   0.000000\n",
       "ResponseId                               0   0.000000\n",
       "\n",
       "[84 rows x 2 columns]"
      ]
     },
     "execution_count": 218,
     "metadata": {},
     "output_type": "execute_result"
    }
   ],
   "source": [
    "total = df.isnull().sum().sort_values(ascending=False)\n",
    "percent = pd.Series(np.mean(df.isnull()))*100\n",
    "missing_data =pd.concat([total,percent],axis=1,keys=['Total','%'])\n",
    "missing_data"
   ]
  },
  {
   "cell_type": "code",
   "execution_count": null,
   "id": "a62c8665",
   "metadata": {},
   "outputs": [],
   "source": []
  }
 ],
 "metadata": {
  "kernelspec": {
   "display_name": "Python 3 (ipykernel)",
   "language": "python",
   "name": "python3"
  },
  "language_info": {
   "codemirror_mode": {
    "name": "ipython",
    "version": 3
   },
   "file_extension": ".py",
   "mimetype": "text/x-python",
   "name": "python",
   "nbconvert_exporter": "python",
   "pygments_lexer": "ipython3",
   "version": "3.10.9"
  }
 },
 "nbformat": 4,
 "nbformat_minor": 5
}
