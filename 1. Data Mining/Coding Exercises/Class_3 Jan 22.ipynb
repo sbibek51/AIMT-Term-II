{
 "cells": [
  {
   "cell_type": "code",
   "execution_count": 20,
   "id": "c44ecc5e",
   "metadata": {},
   "outputs": [],
   "source": [
    "#Bibek Shiwakoti"
   ]
  },
  {
   "cell_type": "code",
   "execution_count": 25,
   "id": "1ef2abc3",
   "metadata": {},
   "outputs": [
    {
     "data": {
      "text/html": [
       "<div>\n",
       "<style scoped>\n",
       "    .dataframe tbody tr th:only-of-type {\n",
       "        vertical-align: middle;\n",
       "    }\n",
       "\n",
       "    .dataframe tbody tr th {\n",
       "        vertical-align: top;\n",
       "    }\n",
       "\n",
       "    .dataframe thead th {\n",
       "        text-align: right;\n",
       "    }\n",
       "</style>\n",
       "<table border=\"1\" class=\"dataframe\">\n",
       "  <thead>\n",
       "    <tr style=\"text-align: right;\">\n",
       "      <th></th>\n",
       "      <th>Color</th>\n",
       "    </tr>\n",
       "  </thead>\n",
       "  <tbody>\n",
       "    <tr>\n",
       "      <th>0</th>\n",
       "      <td>Red</td>\n",
       "    </tr>\n",
       "    <tr>\n",
       "      <th>1</th>\n",
       "      <td>Blue</td>\n",
       "    </tr>\n",
       "    <tr>\n",
       "      <th>2</th>\n",
       "      <td>Green</td>\n",
       "    </tr>\n",
       "    <tr>\n",
       "      <th>3</th>\n",
       "      <td>Red</td>\n",
       "    </tr>\n",
       "    <tr>\n",
       "      <th>4</th>\n",
       "      <td>Green</td>\n",
       "    </tr>\n",
       "    <tr>\n",
       "      <th>5</th>\n",
       "      <td>Blue</td>\n",
       "    </tr>\n",
       "    <tr>\n",
       "      <th>6</th>\n",
       "      <td>Red</td>\n",
       "    </tr>\n",
       "    <tr>\n",
       "      <th>7</th>\n",
       "      <td>Green</td>\n",
       "    </tr>\n",
       "  </tbody>\n",
       "</table>\n",
       "</div>"
      ],
      "text/plain": [
       "   Color\n",
       "0    Red\n",
       "1   Blue\n",
       "2  Green\n",
       "3    Red\n",
       "4  Green\n",
       "5   Blue\n",
       "6    Red\n",
       "7  Green"
      ]
     },
     "execution_count": 25,
     "metadata": {},
     "output_type": "execute_result"
    }
   ],
   "source": [
    "#Sample Dataset with a categorical column:\n",
    "import pandas as pd\n",
    "data ={'Color':['Red','Blue','Green','Red','Green','Blue','Red','Green']}\n",
    "df =pd.DataFrame(data)\n",
    "df"
   ]
  },
  {
   "cell_type": "code",
   "execution_count": 32,
   "id": "67b42f69",
   "metadata": {},
   "outputs": [
    {
     "name": "stdout",
     "output_type": "stream",
     "text": [
      "Collecting category_encoders\n",
      "  Using cached category_encoders-2.6.3-py2.py3-none-any.whl (81 kB)\n",
      "Requirement already satisfied: statsmodels>=0.9.0 in c:\\users\\travelmate\\anaconda3\\lib\\site-packages (from category_encoders) (0.13.5)\n",
      "Requirement already satisfied: pandas>=1.0.5 in c:\\users\\travelmate\\anaconda3\\lib\\site-packages (from category_encoders) (1.5.3)\n",
      "Requirement already satisfied: patsy>=0.5.1 in c:\\users\\travelmate\\anaconda3\\lib\\site-packages (from category_encoders) (0.5.3)\n",
      "Requirement already satisfied: scikit-learn>=0.20.0 in c:\\users\\travelmate\\anaconda3\\lib\\site-packages (from category_encoders) (1.2.1)\n",
      "Requirement already satisfied: scipy>=1.0.0 in c:\\users\\travelmate\\anaconda3\\lib\\site-packages (from category_encoders) (1.7.3)\n",
      "Requirement already satisfied: numpy>=1.14.0 in c:\\users\\travelmate\\anaconda3\\lib\\site-packages (from category_encoders) (1.22.4)\n",
      "Requirement already satisfied: python-dateutil>=2.8.1 in c:\\users\\travelmate\\anaconda3\\lib\\site-packages (from pandas>=1.0.5->category_encoders) (2.8.2)\n",
      "Requirement already satisfied: pytz>=2020.1 in c:\\users\\travelmate\\anaconda3\\lib\\site-packages (from pandas>=1.0.5->category_encoders) (2022.7)\n",
      "Requirement already satisfied: six in c:\\users\\travelmate\\anaconda3\\lib\\site-packages (from patsy>=0.5.1->category_encoders) (1.16.0)\n",
      "Requirement already satisfied: joblib>=1.1.1 in c:\\users\\travelmate\\anaconda3\\lib\\site-packages (from scikit-learn>=0.20.0->category_encoders) (1.1.1)\n",
      "Requirement already satisfied: threadpoolctl>=2.0.0 in c:\\users\\travelmate\\anaconda3\\lib\\site-packages (from scikit-learn>=0.20.0->category_encoders) (2.2.0)\n",
      "Requirement already satisfied: packaging>=21.3 in c:\\users\\travelmate\\anaconda3\\lib\\site-packages (from statsmodels>=0.9.0->category_encoders) (22.0)\n",
      "Installing collected packages: category_encoders\n",
      "Successfully installed category_encoders-2.6.3\n"
     ]
    }
   ],
   "source": [
    "!pip install category_encoders"
   ]
  },
  {
   "cell_type": "code",
   "execution_count": 50,
   "id": "36240dc0",
   "metadata": {},
   "outputs": [
    {
     "name": "stdout",
     "output_type": "stream",
     "text": [
      "Original Dataframe:\n"
     ]
    },
    {
     "data": {
      "text/html": [
       "<div>\n",
       "<style scoped>\n",
       "    .dataframe tbody tr th:only-of-type {\n",
       "        vertical-align: middle;\n",
       "    }\n",
       "\n",
       "    .dataframe tbody tr th {\n",
       "        vertical-align: top;\n",
       "    }\n",
       "\n",
       "    .dataframe thead th {\n",
       "        text-align: right;\n",
       "    }\n",
       "</style>\n",
       "<table border=\"1\" class=\"dataframe\">\n",
       "  <thead>\n",
       "    <tr style=\"text-align: right;\">\n",
       "      <th></th>\n",
       "      <th>Color</th>\n",
       "      <th>Color_LabelEncoded</th>\n",
       "    </tr>\n",
       "  </thead>\n",
       "  <tbody>\n",
       "    <tr>\n",
       "      <th>0</th>\n",
       "      <td>Red</td>\n",
       "      <td>2</td>\n",
       "    </tr>\n",
       "    <tr>\n",
       "      <th>1</th>\n",
       "      <td>Blue</td>\n",
       "      <td>0</td>\n",
       "    </tr>\n",
       "    <tr>\n",
       "      <th>2</th>\n",
       "      <td>Green</td>\n",
       "      <td>1</td>\n",
       "    </tr>\n",
       "    <tr>\n",
       "      <th>3</th>\n",
       "      <td>Red</td>\n",
       "      <td>2</td>\n",
       "    </tr>\n",
       "    <tr>\n",
       "      <th>4</th>\n",
       "      <td>Green</td>\n",
       "      <td>1</td>\n",
       "    </tr>\n",
       "    <tr>\n",
       "      <th>5</th>\n",
       "      <td>Blue</td>\n",
       "      <td>0</td>\n",
       "    </tr>\n",
       "    <tr>\n",
       "      <th>6</th>\n",
       "      <td>Red</td>\n",
       "      <td>2</td>\n",
       "    </tr>\n",
       "    <tr>\n",
       "      <th>7</th>\n",
       "      <td>Green</td>\n",
       "      <td>1</td>\n",
       "    </tr>\n",
       "  </tbody>\n",
       "</table>\n",
       "</div>"
      ],
      "text/plain": [
       "   Color  Color_LabelEncoded\n",
       "0    Red                   2\n",
       "1   Blue                   0\n",
       "2  Green                   1\n",
       "3    Red                   2\n",
       "4  Green                   1\n",
       "5   Blue                   0\n",
       "6    Red                   2\n",
       "7  Green                   1"
      ]
     },
     "execution_count": 50,
     "metadata": {},
     "output_type": "execute_result"
    }
   ],
   "source": [
    "# from sklearn.preprocessing import LabelEncoder\n",
    "# import category_encoders as ce\n",
    "\n",
    "# label_encoder =LabelEncoder()\n",
    "# # df['Color_LabelEncoded'] = label.encoder.fit_transform(df['Color'])\n",
    "# df['Color_LabelEncoded'] = label_encoder.fit_transform(df['Color'])\n",
    "# df['Color_LabelEncoded']\n",
    "\n",
    "# #One hot encoding\n",
    "# df_onehot =pd.get_dummies(df)\n",
    "\n",
    "# #Binary encoding\n",
    "\n",
    "# # count encoding\n",
    "\n",
    "# #display the dataframe\n",
    "# print('Original Dataframe:')\n",
    "# df\n",
    "# print('one hot encoded')\n",
    "# print('binary encoding')\n",
    "# print('count encoding')\n",
    "\n"
   ]
  },
  {
   "cell_type": "code",
   "execution_count": 51,
   "id": "3167b831",
   "metadata": {},
   "outputs": [
    {
     "name": "stdout",
     "output_type": "stream",
     "text": [
      "Original DataFrame:\n",
      "   Color  Color_LabelEncoded\n",
      "0    Red                   2\n",
      "1   Blue                   0\n",
      "2  Green                   1\n",
      "3    Red                   2\n",
      "4   Blue                   0\n",
      "5  Green                   1\n",
      "\n",
      "Label Encoded DataFrame:\n",
      "   Color  Color_LabelEncoded\n",
      "0    Red                   2\n",
      "1   Blue                   0\n",
      "2  Green                   1\n",
      "3    Red                   2\n",
      "4   Blue                   0\n",
      "5  Green                   1\n",
      "\n",
      "One-Hot Encoded DataFrame:\n",
      "   Color_LabelEncoded  Color_OneHot_Blue  Color_OneHot_Green  Color_OneHot_Red\n",
      "0                   2                  0                   0                 1\n",
      "1                   0                  1                   0                 0\n",
      "2                   1                  0                   1                 0\n",
      "3                   2                  0                   0                 1\n",
      "4                   0                  1                   0                 0\n",
      "5                   1                  0                   1                 0\n",
      "\n",
      "Binary Encoded DataFrame:\n",
      "   Color  Color_LabelEncoded  Color_0  Color_1\n",
      "0    Red                   2        0        1\n",
      "1   Blue                   0        1        0\n",
      "2  Green                   1        1        1\n",
      "3    Red                   2        0        1\n",
      "4   Blue                   0        1        0\n",
      "5  Green                   1        1        1\n",
      "\n",
      "Count Encoded DataFrame:\n",
      "   Color  Color_LabelEncoded  Color\n",
      "0    Red                   2      2\n",
      "1   Blue                   0      2\n",
      "2  Green                   1      2\n",
      "3    Red                   2      2\n",
      "4   Blue                   0      2\n",
      "5  Green                   1      2\n"
     ]
    }
   ],
   "source": [
    "import pandas as pd\n",
    "from sklearn.preprocessing import LabelEncoder\n",
    "import category_encoders as ce\n",
    "\n",
    "# Sample DataFrame\n",
    "data = {'Color': ['Red', 'Blue', 'Green', 'Red', 'Blue', 'Green']}\n",
    "df = pd.DataFrame(data)\n",
    "\n",
    "# Label Encoding\n",
    "label_encoder = LabelEncoder()\n",
    "df['Color_LabelEncoded'] = label_encoder.fit_transform(df['Color'])\n",
    "\n",
    "# One-Hot Encoding\n",
    "df_onehot = pd.get_dummies(df, columns=['Color'], prefix='Color_OneHot')\n",
    "\n",
    "# Binary Encoding\n",
    "encoder_binary = ce.BinaryEncoder(cols=['Color'])\n",
    "df_binary = encoder_binary.fit_transform(df['Color'])\n",
    "df_binary = pd.concat([df, df_binary], axis=1)\n",
    "\n",
    "# Count Encoding\n",
    "encoder_count = ce.CountEncoder(cols=['Color'])\n",
    "df_count = encoder_count.fit_transform(df['Color'])\n",
    "df_count = pd.concat([df, df_count], axis=1)\n",
    "\n",
    "# Display DataFrames\n",
    "print('Original DataFrame:')\n",
    "print(df)\n",
    "\n",
    "print('\\nLabel Encoded DataFrame:')\n",
    "print(df[['Color', 'Color_LabelEncoded']])\n",
    "\n",
    "print('\\nOne-Hot Encoded DataFrame:')\n",
    "print(df_onehot)\n",
    "\n",
    "print('\\nBinary Encoded DataFrame:')\n",
    "print(df_binary)\n",
    "\n",
    "print('\\nCount Encoded DataFrame:')\n",
    "print(df_count)\n"
   ]
  },
  {
   "cell_type": "markdown",
   "id": "2091a0c3",
   "metadata": {},
   "source": [
    "## 1- Write a Program to find three numbers from an array such that the sum of three numbers equal to zero. \n",
    "input : [-1,0,1,2,-1,-4]\n",
    "Output : [[-1,-1,2], [-1,0,1]]"
   ]
  },
  {
   "cell_type": "code",
   "execution_count": 21,
   "id": "89b21103",
   "metadata": {},
   "outputs": [
    {
     "name": "stdout",
     "output_type": "stream",
     "text": [
      "given array is: [-1, 0, 1, 2, -1, -4]\n",
      "length of the array is: 6\n"
     ]
    }
   ],
   "source": [
    "arr1 = [-1,0,1,2,-1,-4]\n",
    "print('given array is:', arr1)\n",
    "print('length of the array is:',len(arr1))\n",
    "\n",
    "\n"
   ]
  },
  {
   "cell_type": "markdown",
   "id": "43dd128b",
   "metadata": {},
   "source": [
    "## 2- Write a Pyhton program to find the single element in a list where every element appears three times except for one.\n",
    "Input : [5,3,4,3,5,5,3]\n",
    "Output : [4]"
   ]
  },
  {
   "cell_type": "code",
   "execution_count": 1,
   "id": "611b1cc4",
   "metadata": {},
   "outputs": [
    {
     "name": "stdout",
     "output_type": "stream",
     "text": [
      "length of the given list is: 8\n",
      "given list is: [5, 3, 4, 3, 5, 5, 3, 7]\n",
      "{5: 3, 3: 3, 4: 1, 7: 1}\n",
      "value that occurs once is:\n",
      "Values that occur once are: [4, 7]\n"
     ]
    }
   ],
   "source": [
    "list_1= [5,3,4,3,5,5,3]\n",
    "print('length of the given list is:',len(list_1))\n",
    "print('given list is:',list_1)\n",
    "\n",
    "d={}\n",
    "for num in list_1:\n",
    "    d[num] =d.get(num,0)+1\n",
    "print(d)\n",
    "print('value that occurs once is:',)\n",
    "\n",
    "values_occuring_once = [key for key, value in d.items() if value == 1]\n",
    "print('Values that occur once are:', values_occuring_once)\n"
   ]
  },
  {
   "cell_type": "code",
   "execution_count": null,
   "id": "6fbd8e97",
   "metadata": {},
   "outputs": [],
   "source": []
  }
 ],
 "metadata": {
  "kernelspec": {
   "display_name": "Python 3 (ipykernel)",
   "language": "python",
   "name": "python3"
  },
  "language_info": {
   "codemirror_mode": {
    "name": "ipython",
    "version": 3
   },
   "file_extension": ".py",
   "mimetype": "text/x-python",
   "name": "python",
   "nbconvert_exporter": "python",
   "pygments_lexer": "ipython3",
   "version": "3.10.9"
  }
 },
 "nbformat": 4,
 "nbformat_minor": 5
}
