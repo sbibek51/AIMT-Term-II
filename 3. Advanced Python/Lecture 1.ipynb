{
 "cells": [
  {
   "cell_type": "markdown",
   "id": "be394c93",
   "metadata": {},
   "source": [
    "Bibek Shiwakoti\n",
    "c0898100\n",
    "\n",
    "Lecture 1 Jan 10 2024"
   ]
  },
  {
   "cell_type": "code",
   "execution_count": 4,
   "id": "0df692e4",
   "metadata": {},
   "outputs": [
    {
     "name": "stdout",
     "output_type": "stream",
     "text": [
      "Hello world\n"
     ]
    }
   ],
   "source": [
    "print('Hello world')"
   ]
  },
  {
   "cell_type": "code",
   "execution_count": 5,
   "id": "41dd290f",
   "metadata": {},
   "outputs": [],
   "source": [
    "import pandas as pd\n",
    "import numpy as np\n"
   ]
  },
  {
   "cell_type": "code",
   "execution_count": 6,
   "id": "9b2681b7",
   "metadata": {},
   "outputs": [],
   "source": [
    "df = pd.read_csv('../data/mtcars (3).csv')"
   ]
  },
  {
   "cell_type": "code",
   "execution_count": 7,
   "id": "0c5a32ee",
   "metadata": {},
   "outputs": [
    {
     "data": {
      "text/html": [
       "<div>\n",
       "<style scoped>\n",
       "    .dataframe tbody tr th:only-of-type {\n",
       "        vertical-align: middle;\n",
       "    }\n",
       "\n",
       "    .dataframe tbody tr th {\n",
       "        vertical-align: top;\n",
       "    }\n",
       "\n",
       "    .dataframe thead th {\n",
       "        text-align: right;\n",
       "    }\n",
       "</style>\n",
       "<table border=\"1\" class=\"dataframe\">\n",
       "  <thead>\n",
       "    <tr style=\"text-align: right;\">\n",
       "      <th></th>\n",
       "      <th>Unnamed: 0</th>\n",
       "      <th>vichle_names</th>\n",
       "      <th>mpg</th>\n",
       "      <th>cyl</th>\n",
       "      <th>disp</th>\n",
       "      <th>hp</th>\n",
       "      <th>drat</th>\n",
       "      <th>wt</th>\n",
       "      <th>qsec</th>\n",
       "      <th>v_Shape</th>\n",
       "      <th>am</th>\n",
       "      <th>gear</th>\n",
       "      <th>carb</th>\n",
       "    </tr>\n",
       "  </thead>\n",
       "  <tbody>\n",
       "    <tr>\n",
       "      <th>0</th>\n",
       "      <td>0</td>\n",
       "      <td>Mazda RX4</td>\n",
       "      <td>21.0</td>\n",
       "      <td>6</td>\n",
       "      <td>160.0</td>\n",
       "      <td>110.0</td>\n",
       "      <td>3.90</td>\n",
       "      <td>2.620</td>\n",
       "      <td>16.46</td>\n",
       "      <td>0.0</td>\n",
       "      <td>1.0</td>\n",
       "      <td>4.0</td>\n",
       "      <td>4</td>\n",
       "    </tr>\n",
       "    <tr>\n",
       "      <th>1</th>\n",
       "      <td>1</td>\n",
       "      <td>Mazda RX4 Wag</td>\n",
       "      <td>21.0</td>\n",
       "      <td>6</td>\n",
       "      <td>160.0</td>\n",
       "      <td>110.0</td>\n",
       "      <td>3.90</td>\n",
       "      <td>2.875</td>\n",
       "      <td>17.02</td>\n",
       "      <td>0.0</td>\n",
       "      <td>1.0</td>\n",
       "      <td>4.0</td>\n",
       "      <td>4</td>\n",
       "    </tr>\n",
       "    <tr>\n",
       "      <th>2</th>\n",
       "      <td>2</td>\n",
       "      <td>Datsun 710</td>\n",
       "      <td>NaN</td>\n",
       "      <td>4</td>\n",
       "      <td>108.0</td>\n",
       "      <td>93.0</td>\n",
       "      <td>3.85</td>\n",
       "      <td>2.320</td>\n",
       "      <td>18.61</td>\n",
       "      <td>1.0</td>\n",
       "      <td>1.0</td>\n",
       "      <td>4.0</td>\n",
       "      <td>1</td>\n",
       "    </tr>\n",
       "    <tr>\n",
       "      <th>3</th>\n",
       "      <td>3</td>\n",
       "      <td>Hornet 4 Drive</td>\n",
       "      <td>21.4</td>\n",
       "      <td>6</td>\n",
       "      <td>258.0</td>\n",
       "      <td>NaN</td>\n",
       "      <td>3.08</td>\n",
       "      <td>3.215</td>\n",
       "      <td>19.44</td>\n",
       "      <td>1.0</td>\n",
       "      <td>0.0</td>\n",
       "      <td>3.0</td>\n",
       "      <td>1</td>\n",
       "    </tr>\n",
       "    <tr>\n",
       "      <th>4</th>\n",
       "      <td>4</td>\n",
       "      <td>Hornet Sportabout</td>\n",
       "      <td>18.7</td>\n",
       "      <td>8</td>\n",
       "      <td>360.0</td>\n",
       "      <td>175.0</td>\n",
       "      <td>3.15</td>\n",
       "      <td>3.440</td>\n",
       "      <td>17.02</td>\n",
       "      <td>0.0</td>\n",
       "      <td>0.0</td>\n",
       "      <td>NaN</td>\n",
       "      <td>2</td>\n",
       "    </tr>\n",
       "  </tbody>\n",
       "</table>\n",
       "</div>"
      ],
      "text/plain": [
       "   Unnamed: 0       vichle_names   mpg  cyl   disp     hp  drat     wt   qsec  \\\n",
       "0           0          Mazda RX4  21.0    6  160.0  110.0  3.90  2.620  16.46   \n",
       "1           1      Mazda RX4 Wag  21.0    6  160.0  110.0  3.90  2.875  17.02   \n",
       "2           2         Datsun 710   NaN    4  108.0   93.0  3.85  2.320  18.61   \n",
       "3           3     Hornet 4 Drive  21.4    6  258.0    NaN  3.08  3.215  19.44   \n",
       "4           4  Hornet Sportabout  18.7    8  360.0  175.0  3.15  3.440  17.02   \n",
       "\n",
       "   v_Shape   am  gear  carb  \n",
       "0      0.0  1.0   4.0     4  \n",
       "1      0.0  1.0   4.0     4  \n",
       "2      1.0  1.0   4.0     1  \n",
       "3      1.0  0.0   3.0     1  \n",
       "4      0.0  0.0   NaN     2  "
      ]
     },
     "execution_count": 7,
     "metadata": {},
     "output_type": "execute_result"
    }
   ],
   "source": [
    "df.head()"
   ]
  },
  {
   "cell_type": "code",
   "execution_count": 8,
   "id": "c7eec226",
   "metadata": {},
   "outputs": [
    {
     "data": {
      "text/html": [
       "<div>\n",
       "<style scoped>\n",
       "    .dataframe tbody tr th:only-of-type {\n",
       "        vertical-align: middle;\n",
       "    }\n",
       "\n",
       "    .dataframe tbody tr th {\n",
       "        vertical-align: top;\n",
       "    }\n",
       "\n",
       "    .dataframe thead th {\n",
       "        text-align: right;\n",
       "    }\n",
       "</style>\n",
       "<table border=\"1\" class=\"dataframe\">\n",
       "  <thead>\n",
       "    <tr style=\"text-align: right;\">\n",
       "      <th></th>\n",
       "      <th>Unnamed: 0</th>\n",
       "      <th>vichle_names</th>\n",
       "      <th>mpg</th>\n",
       "      <th>cyl</th>\n",
       "      <th>disp</th>\n",
       "      <th>hp</th>\n",
       "      <th>drat</th>\n",
       "      <th>wt</th>\n",
       "      <th>qsec</th>\n",
       "      <th>v_Shape</th>\n",
       "      <th>am</th>\n",
       "      <th>gear</th>\n",
       "      <th>carb</th>\n",
       "    </tr>\n",
       "  </thead>\n",
       "  <tbody>\n",
       "    <tr>\n",
       "      <th>27</th>\n",
       "      <td>27</td>\n",
       "      <td>Lotus Europa</td>\n",
       "      <td>30.4</td>\n",
       "      <td>4</td>\n",
       "      <td>95.1</td>\n",
       "      <td>113.0</td>\n",
       "      <td>3.77</td>\n",
       "      <td>1.513</td>\n",
       "      <td>16.9</td>\n",
       "      <td>1.0</td>\n",
       "      <td>1.0</td>\n",
       "      <td>5.0</td>\n",
       "      <td>2</td>\n",
       "    </tr>\n",
       "    <tr>\n",
       "      <th>28</th>\n",
       "      <td>28</td>\n",
       "      <td>Ford Pantera L</td>\n",
       "      <td>15.8</td>\n",
       "      <td>8</td>\n",
       "      <td>351.0</td>\n",
       "      <td>264.0</td>\n",
       "      <td>4.22</td>\n",
       "      <td>3.170</td>\n",
       "      <td>14.5</td>\n",
       "      <td>0.0</td>\n",
       "      <td>1.0</td>\n",
       "      <td>5.0</td>\n",
       "      <td>4</td>\n",
       "    </tr>\n",
       "    <tr>\n",
       "      <th>29</th>\n",
       "      <td>29</td>\n",
       "      <td>Ferrari Dino</td>\n",
       "      <td>19.7</td>\n",
       "      <td>6</td>\n",
       "      <td>145.0</td>\n",
       "      <td>175.0</td>\n",
       "      <td>3.62</td>\n",
       "      <td>2.770</td>\n",
       "      <td>15.5</td>\n",
       "      <td>0.0</td>\n",
       "      <td>1.0</td>\n",
       "      <td>5.0</td>\n",
       "      <td>6</td>\n",
       "    </tr>\n",
       "    <tr>\n",
       "      <th>30</th>\n",
       "      <td>30</td>\n",
       "      <td>Maserati Bora</td>\n",
       "      <td>15.0</td>\n",
       "      <td>8</td>\n",
       "      <td>301.0</td>\n",
       "      <td>335.0</td>\n",
       "      <td>3.54</td>\n",
       "      <td>3.570</td>\n",
       "      <td>14.6</td>\n",
       "      <td>0.0</td>\n",
       "      <td>1.0</td>\n",
       "      <td>5.0</td>\n",
       "      <td>8</td>\n",
       "    </tr>\n",
       "    <tr>\n",
       "      <th>31</th>\n",
       "      <td>31</td>\n",
       "      <td>Volvo 142E</td>\n",
       "      <td>21.4</td>\n",
       "      <td>4</td>\n",
       "      <td>121.0</td>\n",
       "      <td>109.0</td>\n",
       "      <td>4.11</td>\n",
       "      <td>2.780</td>\n",
       "      <td>18.6</td>\n",
       "      <td>1.0</td>\n",
       "      <td>1.0</td>\n",
       "      <td>4.0</td>\n",
       "      <td>2</td>\n",
       "    </tr>\n",
       "  </tbody>\n",
       "</table>\n",
       "</div>"
      ],
      "text/plain": [
       "    Unnamed: 0    vichle_names   mpg  cyl   disp     hp  drat     wt  qsec  \\\n",
       "27          27    Lotus Europa  30.4    4   95.1  113.0  3.77  1.513  16.9   \n",
       "28          28  Ford Pantera L  15.8    8  351.0  264.0  4.22  3.170  14.5   \n",
       "29          29    Ferrari Dino  19.7    6  145.0  175.0  3.62  2.770  15.5   \n",
       "30          30   Maserati Bora  15.0    8  301.0  335.0  3.54  3.570  14.6   \n",
       "31          31      Volvo 142E  21.4    4  121.0  109.0  4.11  2.780  18.6   \n",
       "\n",
       "    v_Shape   am  gear  carb  \n",
       "27      1.0  1.0   5.0     2  \n",
       "28      0.0  1.0   5.0     4  \n",
       "29      0.0  1.0   5.0     6  \n",
       "30      0.0  1.0   5.0     8  \n",
       "31      1.0  1.0   4.0     2  "
      ]
     },
     "execution_count": 8,
     "metadata": {},
     "output_type": "execute_result"
    }
   ],
   "source": [
    "df.tail()"
   ]
  },
  {
   "cell_type": "code",
   "execution_count": 9,
   "id": "816a4bfc",
   "metadata": {},
   "outputs": [
    {
     "data": {
      "text/plain": [
       "Unnamed: 0      0\n",
       "vichle_names    0\n",
       "mpg             2\n",
       "cyl             0\n",
       "disp            0\n",
       "hp              1\n",
       "drat            1\n",
       "wt              0\n",
       "qsec            3\n",
       "v_Shape         2\n",
       "am              4\n",
       "gear            3\n",
       "carb            0\n",
       "dtype: int64"
      ]
     },
     "execution_count": 9,
     "metadata": {},
     "output_type": "execute_result"
    }
   ],
   "source": [
    "df.isnull().sum()"
   ]
  },
  {
   "cell_type": "code",
   "execution_count": 10,
   "id": "77fa4b8e",
   "metadata": {},
   "outputs": [
    {
     "data": {
      "text/plain": [
       "Unnamed: 0      32\n",
       "vichle_names    32\n",
       "mpg             30\n",
       "cyl             32\n",
       "disp            32\n",
       "hp              31\n",
       "drat            31\n",
       "wt              32\n",
       "qsec            29\n",
       "v_Shape         30\n",
       "am              28\n",
       "gear            29\n",
       "carb            32\n",
       "dtype: int64"
      ]
     },
     "execution_count": 10,
     "metadata": {},
     "output_type": "execute_result"
    }
   ],
   "source": [
    "df.notna().sum()"
   ]
  },
  {
   "cell_type": "code",
   "execution_count": 11,
   "id": "3f5f81bd",
   "metadata": {},
   "outputs": [
    {
     "data": {
      "text/plain": [
       "Unnamed: 0      32\n",
       "vichle_names    32\n",
       "mpg             30\n",
       "cyl             32\n",
       "disp            32\n",
       "hp              31\n",
       "drat            31\n",
       "wt              32\n",
       "qsec            29\n",
       "v_Shape         30\n",
       "am              28\n",
       "gear            29\n",
       "carb            32\n",
       "dtype: int64"
      ]
     },
     "execution_count": 11,
     "metadata": {},
     "output_type": "execute_result"
    }
   ],
   "source": [
    "df.notnull().sum()"
   ]
  },
  {
   "cell_type": "code",
   "execution_count": 12,
   "id": "3f7edb4c",
   "metadata": {},
   "outputs": [
    {
     "name": "stdout",
     "output_type": "stream",
     "text": [
      "(32, 13)\n"
     ]
    }
   ],
   "source": [
    "print(df.shape)\n",
    "#gives rows and columns\n"
   ]
  },
  {
   "cell_type": "code",
   "execution_count": 13,
   "id": "f92d971c",
   "metadata": {},
   "outputs": [
    {
     "data": {
      "text/plain": [
       "32"
      ]
     },
     "execution_count": 13,
     "metadata": {},
     "output_type": "execute_result"
    }
   ],
   "source": [
    "df.shape[0]\n",
    "#gives only rows\n"
   ]
  },
  {
   "cell_type": "code",
   "execution_count": 14,
   "id": "de3e0ab1",
   "metadata": {},
   "outputs": [
    {
     "data": {
      "text/plain": [
       "13"
      ]
     },
     "execution_count": 14,
     "metadata": {},
     "output_type": "execute_result"
    }
   ],
   "source": [
    "df.shape[1]\n",
    "#shows only columns"
   ]
  },
  {
   "cell_type": "code",
   "execution_count": 15,
   "id": "56a10e11",
   "metadata": {},
   "outputs": [
    {
     "data": {
      "text/plain": [
       "Unnamed: 0      0.00000\n",
       "vichle_names    0.00000\n",
       "mpg             0.06250\n",
       "cyl             0.00000\n",
       "disp            0.00000\n",
       "hp              0.03125\n",
       "drat            0.03125\n",
       "wt              0.00000\n",
       "qsec            0.09375\n",
       "v_Shape         0.06250\n",
       "am              0.12500\n",
       "gear            0.09375\n",
       "carb            0.00000\n",
       "dtype: float64"
      ]
     },
     "execution_count": 15,
     "metadata": {},
     "output_type": "execute_result"
    }
   ],
   "source": [
    "df.isnull().mean()\n",
    "#gives ratio of missing value"
   ]
  },
  {
   "cell_type": "code",
   "execution_count": 16,
   "id": "b7af050c",
   "metadata": {},
   "outputs": [
    {
     "data": {
      "text/plain": [
       "Unnamed: 0        int64\n",
       "vichle_names     object\n",
       "mpg             float64\n",
       "cyl               int64\n",
       "disp            float64\n",
       "hp              float64\n",
       "drat            float64\n",
       "wt              float64\n",
       "qsec            float64\n",
       "v_Shape         float64\n",
       "am              float64\n",
       "gear            float64\n",
       "carb              int64\n",
       "dtype: object"
      ]
     },
     "execution_count": 16,
     "metadata": {},
     "output_type": "execute_result"
    }
   ],
   "source": [
    "df.dtypes\n",
    "#gives data types of all columns\n"
   ]
  },
  {
   "cell_type": "code",
   "execution_count": 17,
   "id": "4ac9e7ad",
   "metadata": {},
   "outputs": [],
   "source": [
    "#splitting into numeric and categorical dataframe\n",
    "\n",
    "\n",
    "numeric_data = df.select_dtypes(include=np.number).columns\n",
    "categorical_data = df.select_dtypes(exclude=np.number).columns\n"
   ]
  },
  {
   "cell_type": "code",
   "execution_count": 18,
   "id": "1e6b57a2",
   "metadata": {},
   "outputs": [
    {
     "name": "stdout",
     "output_type": "stream",
     "text": [
      "Index(['Unnamed: 0', 'mpg', 'cyl', 'disp', 'hp', 'drat', 'wt', 'qsec',\n",
      "       'v_Shape', 'am', 'gear', 'carb'],\n",
      "      dtype='object')\n"
     ]
    }
   ],
   "source": [
    "print(numeric_data)"
   ]
  },
  {
   "cell_type": "code",
   "execution_count": 19,
   "id": "165df090",
   "metadata": {},
   "outputs": [
    {
     "name": "stdout",
     "output_type": "stream",
     "text": [
      "Index(['vichle_names'], dtype='object')\n"
     ]
    }
   ],
   "source": [
    "print(categorical_data)"
   ]
  },
  {
   "cell_type": "code",
   "execution_count": 20,
   "id": "d499ce2f",
   "metadata": {},
   "outputs": [],
   "source": [
    "df.index.name='My_Index'"
   ]
  },
  {
   "cell_type": "code",
   "execution_count": 21,
   "id": "a61c6628",
   "metadata": {},
   "outputs": [
    {
     "data": {
      "text/plain": [
       "'My_Index'"
      ]
     },
     "execution_count": 21,
     "metadata": {},
     "output_type": "execute_result"
    }
   ],
   "source": [
    "df.index.name"
   ]
  },
  {
   "cell_type": "code",
   "execution_count": 22,
   "id": "f14be5a1",
   "metadata": {},
   "outputs": [
    {
     "name": "stdout",
     "output_type": "stream",
     "text": [
      "          Unnamed: 0         vichle_names   mpg  cyl   disp     hp  drat  \\\n",
      "My_Index                                                                   \n",
      "0                  0            Mazda RX4  21.0    6  160.0  110.0  3.90   \n",
      "1                  1        Mazda RX4 Wag  21.0    6  160.0  110.0  3.90   \n",
      "2                  2           Datsun 710   NaN    4  108.0   93.0  3.85   \n",
      "3                  3       Hornet 4 Drive  21.4    6  258.0    NaN  3.08   \n",
      "4                  4    Hornet Sportabout  18.7    8  360.0  175.0  3.15   \n",
      "5                  5              Valiant  18.1    6  225.0  105.0  2.76   \n",
      "6                  6           Duster 360  14.3    8  360.0  245.0   NaN   \n",
      "7                  7            Merc 240D  24.4    4  146.7   62.0  3.69   \n",
      "8                  8             Merc 230  22.8    4  140.8   95.0  3.92   \n",
      "9                  9             Merc 280  19.2    6  167.6  123.0  3.92   \n",
      "10                10            Merc 280C   NaN    6  167.6  123.0  3.92   \n",
      "11                11           Merc 450SE  16.4    8  275.8  180.0  3.07   \n",
      "12                12           Merc 450SL  17.3    8  275.8  180.0  3.07   \n",
      "13                13          Merc 450SLC  15.2    8  275.8  180.0  3.07   \n",
      "14                14   Cadillac Fleetwood  10.4    8  472.0  205.0  2.93   \n",
      "15                15  Lincoln Continental  10.4    8  460.0  215.0  3.00   \n",
      "16                16    Chrysler Imperial  14.7    8  440.0  230.0  3.23   \n",
      "17                17             Fiat 128  32.4    4   78.7   66.0  4.08   \n",
      "18                18          Honda Civic  30.4    4   75.7   52.0  4.93   \n",
      "19                19       Toyota Corolla  33.9    4   71.1   65.0  4.22   \n",
      "20                20        Toyota Corona  21.5    4  120.1   97.0  3.70   \n",
      "21                21     Dodge Challenger  15.5    8  318.0  150.0  2.76   \n",
      "22                22          AMC Javelin  15.2    8  304.0  150.0  3.15   \n",
      "23                23           Camaro Z28  13.3    8  350.0  245.0  3.73   \n",
      "24                24     Pontiac Firebird  19.2    8  400.0  175.0  3.08   \n",
      "25                25            Fiat X1-9  27.3    4   79.0   66.0  4.08   \n",
      "26                26        Porsche 914-2  26.0    4  120.3   91.0  4.43   \n",
      "27                27         Lotus Europa  30.4    4   95.1  113.0  3.77   \n",
      "28                28       Ford Pantera L  15.8    8  351.0  264.0  4.22   \n",
      "29                29         Ferrari Dino  19.7    6  145.0  175.0  3.62   \n",
      "30                30        Maserati Bora  15.0    8  301.0  335.0  3.54   \n",
      "31                31           Volvo 142E  21.4    4  121.0  109.0  4.11   \n",
      "\n",
      "             wt   qsec  v_Shape   am  gear  carb  \n",
      "My_Index                                          \n",
      "0         2.620  16.46      0.0  1.0   4.0     4  \n",
      "1         2.875  17.02      0.0  1.0   4.0     4  \n",
      "2         2.320  18.61      1.0  1.0   4.0     1  \n",
      "3         3.215  19.44      1.0  0.0   3.0     1  \n",
      "4         3.440  17.02      0.0  0.0   NaN     2  \n",
      "5         3.460    NaN      1.0  0.0   3.0     1  \n",
      "6         3.570  15.84      0.0  NaN   3.0     4  \n",
      "7         3.190  20.00      NaN  0.0   4.0     2  \n",
      "8         3.150    NaN      1.0  0.0   NaN     2  \n",
      "9         3.440  18.30      1.0  NaN   4.0     4  \n",
      "10        3.440  18.90      1.0  0.0   4.0     4  \n",
      "11        4.070  17.40      NaN  0.0   NaN     3  \n",
      "12        3.730    NaN      0.0  0.0   3.0     3  \n",
      "13        3.780  18.00      0.0  0.0   3.0     3  \n",
      "14        5.250  17.98      0.0  NaN   3.0     4  \n",
      "15        5.424  17.82      0.0  0.0   3.0     4  \n",
      "16        5.345  17.42      0.0  0.0   3.0     4  \n",
      "17        2.200  19.47      1.0  NaN   4.0     1  \n",
      "18        1.615  18.52      1.0  1.0   4.0     2  \n",
      "19        1.835  19.90      1.0  1.0   4.0     1  \n",
      "20        2.465  20.01      1.0  0.0   3.0     1  \n",
      "21        3.520  16.87      0.0  0.0   3.0     2  \n",
      "22        3.435  17.30      0.0  0.0   3.0     2  \n",
      "23        3.840  15.41      0.0  0.0   3.0     4  \n",
      "24        3.845  17.05      0.0  0.0   3.0     2  \n",
      "25        1.935  18.90      1.0  1.0   4.0     1  \n",
      "26        2.140  16.70      0.0  1.0   5.0     2  \n",
      "27        1.513  16.90      1.0  1.0   5.0     2  \n",
      "28        3.170  14.50      0.0  1.0   5.0     4  \n",
      "29        2.770  15.50      0.0  1.0   5.0     6  \n",
      "30        3.570  14.60      0.0  1.0   5.0     8  \n",
      "31        2.780  18.60      1.0  1.0   4.0     2  \n"
     ]
    }
   ],
   "source": [
    "print(df)"
   ]
  },
  {
   "cell_type": "code",
   "execution_count": 23,
   "id": "46e427cf",
   "metadata": {},
   "outputs": [],
   "source": [
    "nme = ['arpana','pankaj','sudhir','Geeku']\n",
    "deg = ['MBA','BCA','M.Tech','MBA']\n",
    "scr=[90,40,80,98]"
   ]
  },
  {
   "cell_type": "code",
   "execution_count": 24,
   "id": "7083df9a",
   "metadata": {},
   "outputs": [],
   "source": [
    "dict ={'name':nme,'degree':deg,'score':scr}\n",
    "df=pd.DataFrame(dict)"
   ]
  },
  {
   "cell_type": "code",
   "execution_count": 25,
   "id": "1f53cdaf",
   "metadata": {},
   "outputs": [
    {
     "name": "stdout",
     "output_type": "stream",
     "text": [
      "     name  degree  score\n",
      "0  arpana     MBA     90\n",
      "1  pankaj     BCA     40\n",
      "2  sudhir  M.Tech     80\n",
      "3   Geeku     MBA     98\n"
     ]
    }
   ],
   "source": [
    "print(df)"
   ]
  },
  {
   "cell_type": "code",
   "execution_count": 26,
   "id": "a523b47b",
   "metadata": {},
   "outputs": [],
   "source": [
    "df.to_csv('file1.csv')"
   ]
  },
  {
   "cell_type": "code",
   "execution_count": 27,
   "id": "0ab16976",
   "metadata": {},
   "outputs": [],
   "source": [
    "df.to_json('file1.json')"
   ]
  },
  {
   "cell_type": "code",
   "execution_count": 28,
   "id": "57699691",
   "metadata": {},
   "outputs": [],
   "source": [
    "df2 = pd.read_json('file1.json')"
   ]
  },
  {
   "cell_type": "code",
   "execution_count": 29,
   "id": "dbe213be",
   "metadata": {},
   "outputs": [
    {
     "name": "stdout",
     "output_type": "stream",
     "text": [
      "     name  degree  score\n",
      "0  arpana     MBA     90\n",
      "1  pankaj     BCA     40\n",
      "2  sudhir  M.Tech     80\n",
      "3   Geeku     MBA     98\n"
     ]
    }
   ],
   "source": [
    "print(df2)"
   ]
  },
  {
   "cell_type": "code",
   "execution_count": 30,
   "id": "e79cab0b",
   "metadata": {},
   "outputs": [
    {
     "name": "stdout",
     "output_type": "stream",
     "text": [
      "   Unnamed: 0    name  degree  score\n",
      "0           0  arpana     MBA     90\n",
      "1           1  pankaj     BCA     40\n",
      "2           2  sudhir  M.Tech     80\n",
      "3           3   Geeku     MBA     98\n"
     ]
    }
   ],
   "source": [
    "df3= pd.read_csv('file1.csv')\n",
    "print(df3)"
   ]
  },
  {
   "cell_type": "code",
   "execution_count": null,
   "id": "02cc9ef6",
   "metadata": {},
   "outputs": [],
   "source": []
  }
 ],
 "metadata": {
  "kernelspec": {
   "display_name": "Python 3 (ipykernel)",
   "language": "python",
   "name": "python3"
  },
  "language_info": {
   "codemirror_mode": {
    "name": "ipython",
    "version": 3
   },
   "file_extension": ".py",
   "mimetype": "text/x-python",
   "name": "python",
   "nbconvert_exporter": "python",
   "pygments_lexer": "ipython3",
   "version": "3.11.3"
  }
 },
 "nbformat": 4,
 "nbformat_minor": 5
}
