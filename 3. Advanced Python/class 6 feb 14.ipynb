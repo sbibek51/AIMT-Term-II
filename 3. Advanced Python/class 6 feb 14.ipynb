{
 "cells": [
  {
   "cell_type": "code",
   "execution_count": 95,
   "id": "0be528cb",
   "metadata": {},
   "outputs": [],
   "source": [
    "#new notebook for standardization and normalization\n",
    "import pandas as pd"
   ]
  },
  {
   "cell_type": "code",
   "execution_count": 96,
   "id": "d580634a",
   "metadata": {},
   "outputs": [],
   "source": [
    "data_a = {'id': ['1','2','3'],\n",
    "          'first': ['Alex','Allay','Alen'],\n",
    "          'last': ['Anderson','Ackerman','Ali'],\n",
    "          \n",
    "               \n",
    "    \n",
    "}\n",
    "\n",
    "dataframe_a = pd.DataFrame(data_a,columns =['id','first','last'])"
   ]
  },
  {
   "cell_type": "code",
   "execution_count": 97,
   "id": "5b7bf71d",
   "metadata": {},
   "outputs": [],
   "source": [
    "    \n",
    "data_b = {'id': ['4','5','6'],\n",
    "          'first': ['Billy','Brian','Bran'],\n",
    "          'last': ['Blonder','Black','Balwner'],\n",
    "          \n",
    "               \n",
    "    \n",
    "}\n",
    "\n",
    "dataframe_b = pd.DataFrame(data_b,columns =['id','first','last'])"
   ]
  },
  {
   "cell_type": "code",
   "execution_count": 98,
   "id": "f080d24c",
   "metadata": {},
   "outputs": [
    {
     "data": {
      "text/plain": [
       "{'id': ['1', '2', '3'],\n",
       " 'first': ['Alex', 'Allay', 'Alen'],\n",
       " 'last': ['Anderson', 'Ackerman', 'Ali']}"
      ]
     },
     "execution_count": 98,
     "metadata": {},
     "output_type": "execute_result"
    }
   ],
   "source": [
    "data_a"
   ]
  },
  {
   "cell_type": "code",
   "execution_count": 99,
   "id": "ceb4cb7c",
   "metadata": {},
   "outputs": [
    {
     "data": {
      "text/html": [
       "<div>\n",
       "<style scoped>\n",
       "    .dataframe tbody tr th:only-of-type {\n",
       "        vertical-align: middle;\n",
       "    }\n",
       "\n",
       "    .dataframe tbody tr th {\n",
       "        vertical-align: top;\n",
       "    }\n",
       "\n",
       "    .dataframe thead th {\n",
       "        text-align: right;\n",
       "    }\n",
       "</style>\n",
       "<table border=\"1\" class=\"dataframe\">\n",
       "  <thead>\n",
       "    <tr style=\"text-align: right;\">\n",
       "      <th></th>\n",
       "      <th>id</th>\n",
       "      <th>first</th>\n",
       "      <th>last</th>\n",
       "    </tr>\n",
       "  </thead>\n",
       "  <tbody>\n",
       "    <tr>\n",
       "      <th>0</th>\n",
       "      <td>1</td>\n",
       "      <td>Alex</td>\n",
       "      <td>Anderson</td>\n",
       "    </tr>\n",
       "    <tr>\n",
       "      <th>1</th>\n",
       "      <td>2</td>\n",
       "      <td>Allay</td>\n",
       "      <td>Ackerman</td>\n",
       "    </tr>\n",
       "    <tr>\n",
       "      <th>2</th>\n",
       "      <td>3</td>\n",
       "      <td>Alen</td>\n",
       "      <td>Ali</td>\n",
       "    </tr>\n",
       "    <tr>\n",
       "      <th>0</th>\n",
       "      <td>4</td>\n",
       "      <td>Billy</td>\n",
       "      <td>Blonder</td>\n",
       "    </tr>\n",
       "    <tr>\n",
       "      <th>1</th>\n",
       "      <td>5</td>\n",
       "      <td>Brian</td>\n",
       "      <td>Black</td>\n",
       "    </tr>\n",
       "    <tr>\n",
       "      <th>2</th>\n",
       "      <td>6</td>\n",
       "      <td>Bran</td>\n",
       "      <td>Balwner</td>\n",
       "    </tr>\n",
       "  </tbody>\n",
       "</table>\n",
       "</div>"
      ],
      "text/plain": [
       "  id  first      last\n",
       "0  1   Alex  Anderson\n",
       "1  2  Allay  Ackerman\n",
       "2  3   Alen       Ali\n",
       "0  4  Billy   Blonder\n",
       "1  5  Brian     Black\n",
       "2  6   Bran   Balwner"
      ]
     },
     "execution_count": 99,
     "metadata": {},
     "output_type": "execute_result"
    }
   ],
   "source": [
    "pd.concat([dataframe_a,dataframe_b],axis =0)"
   ]
  },
  {
   "cell_type": "code",
   "execution_count": 100,
   "id": "7dbc00f1",
   "metadata": {},
   "outputs": [
    {
     "data": {
      "text/plain": [
       "{'id': ['4', '5', '6'],\n",
       " 'first': ['Billy', 'Brian', 'Bran'],\n",
       " 'last': ['Blonder', 'Black', 'Balwner']}"
      ]
     },
     "execution_count": 100,
     "metadata": {},
     "output_type": "execute_result"
    }
   ],
   "source": [
    "data_b"
   ]
  },
  {
   "cell_type": "code",
   "execution_count": 101,
   "id": "5c359cdb",
   "metadata": {},
   "outputs": [
    {
     "data": {
      "text/html": [
       "<div>\n",
       "<style scoped>\n",
       "    .dataframe tbody tr th:only-of-type {\n",
       "        vertical-align: middle;\n",
       "    }\n",
       "\n",
       "    .dataframe tbody tr th {\n",
       "        vertical-align: top;\n",
       "    }\n",
       "\n",
       "    .dataframe thead th {\n",
       "        text-align: right;\n",
       "    }\n",
       "</style>\n",
       "<table border=\"1\" class=\"dataframe\">\n",
       "  <thead>\n",
       "    <tr style=\"text-align: right;\">\n",
       "      <th></th>\n",
       "      <th>id</th>\n",
       "      <th>first</th>\n",
       "      <th>last</th>\n",
       "      <th>id</th>\n",
       "      <th>first</th>\n",
       "      <th>last</th>\n",
       "    </tr>\n",
       "  </thead>\n",
       "  <tbody>\n",
       "    <tr>\n",
       "      <th>0</th>\n",
       "      <td>1</td>\n",
       "      <td>Alex</td>\n",
       "      <td>Anderson</td>\n",
       "      <td>4</td>\n",
       "      <td>Billy</td>\n",
       "      <td>Blonder</td>\n",
       "    </tr>\n",
       "    <tr>\n",
       "      <th>1</th>\n",
       "      <td>2</td>\n",
       "      <td>Allay</td>\n",
       "      <td>Ackerman</td>\n",
       "      <td>5</td>\n",
       "      <td>Brian</td>\n",
       "      <td>Black</td>\n",
       "    </tr>\n",
       "    <tr>\n",
       "      <th>2</th>\n",
       "      <td>3</td>\n",
       "      <td>Alen</td>\n",
       "      <td>Ali</td>\n",
       "      <td>6</td>\n",
       "      <td>Bran</td>\n",
       "      <td>Balwner</td>\n",
       "    </tr>\n",
       "  </tbody>\n",
       "</table>\n",
       "</div>"
      ],
      "text/plain": [
       "  id  first      last id  first     last\n",
       "0  1   Alex  Anderson  4  Billy  Blonder\n",
       "1  2  Allay  Ackerman  5  Brian    Black\n",
       "2  3   Alen       Ali  6   Bran  Balwner"
      ]
     },
     "execution_count": 101,
     "metadata": {},
     "output_type": "execute_result"
    }
   ],
   "source": [
    "pd.concat([dataframe_a,dataframe_b],axis =1)"
   ]
  },
  {
   "cell_type": "code",
   "execution_count": 102,
   "id": "29703b30",
   "metadata": {},
   "outputs": [],
   "source": [
    "dataframe_a.rename(columns={'id': 'student_id'}, inplace=True)"
   ]
  },
  {
   "cell_type": "code",
   "execution_count": 103,
   "id": "d51eaac8",
   "metadata": {},
   "outputs": [
    {
     "data": {
      "text/html": [
       "<div>\n",
       "<style scoped>\n",
       "    .dataframe tbody tr th:only-of-type {\n",
       "        vertical-align: middle;\n",
       "    }\n",
       "\n",
       "    .dataframe tbody tr th {\n",
       "        vertical-align: top;\n",
       "    }\n",
       "\n",
       "    .dataframe thead th {\n",
       "        text-align: right;\n",
       "    }\n",
       "</style>\n",
       "<table border=\"1\" class=\"dataframe\">\n",
       "  <thead>\n",
       "    <tr style=\"text-align: right;\">\n",
       "      <th></th>\n",
       "      <th>student_id</th>\n",
       "      <th>first</th>\n",
       "      <th>last</th>\n",
       "      <th>id</th>\n",
       "    </tr>\n",
       "  </thead>\n",
       "  <tbody>\n",
       "    <tr>\n",
       "      <th>0</th>\n",
       "      <td>1</td>\n",
       "      <td>Alex</td>\n",
       "      <td>Anderson</td>\n",
       "      <td>NaN</td>\n",
       "    </tr>\n",
       "    <tr>\n",
       "      <th>1</th>\n",
       "      <td>2</td>\n",
       "      <td>Allay</td>\n",
       "      <td>Ackerman</td>\n",
       "      <td>NaN</td>\n",
       "    </tr>\n",
       "    <tr>\n",
       "      <th>2</th>\n",
       "      <td>3</td>\n",
       "      <td>Alen</td>\n",
       "      <td>Ali</td>\n",
       "      <td>NaN</td>\n",
       "    </tr>\n",
       "    <tr>\n",
       "      <th>0</th>\n",
       "      <td>NaN</td>\n",
       "      <td>Billy</td>\n",
       "      <td>Blonder</td>\n",
       "      <td>4</td>\n",
       "    </tr>\n",
       "    <tr>\n",
       "      <th>1</th>\n",
       "      <td>NaN</td>\n",
       "      <td>Brian</td>\n",
       "      <td>Black</td>\n",
       "      <td>5</td>\n",
       "    </tr>\n",
       "    <tr>\n",
       "      <th>2</th>\n",
       "      <td>NaN</td>\n",
       "      <td>Bran</td>\n",
       "      <td>Balwner</td>\n",
       "      <td>6</td>\n",
       "    </tr>\n",
       "  </tbody>\n",
       "</table>\n",
       "</div>"
      ],
      "text/plain": [
       "  student_id  first      last   id\n",
       "0          1   Alex  Anderson  NaN\n",
       "1          2  Allay  Ackerman  NaN\n",
       "2          3   Alen       Ali  NaN\n",
       "0        NaN  Billy   Blonder    4\n",
       "1        NaN  Brian     Black    5\n",
       "2        NaN   Bran   Balwner    6"
      ]
     },
     "execution_count": 103,
     "metadata": {},
     "output_type": "execute_result"
    }
   ],
   "source": [
    "pd.concat([dataframe_a,dataframe_b],axis =0)"
   ]
  },
  {
   "cell_type": "code",
   "execution_count": null,
   "id": "aa5d18ab",
   "metadata": {},
   "outputs": [],
   "source": []
  },
  {
   "cell_type": "markdown",
   "id": "daeec7f6",
   "metadata": {},
   "source": [
    "## Merging (also called join)"
   ]
  },
  {
   "cell_type": "code",
   "execution_count": 104,
   "id": "00838a7c",
   "metadata": {},
   "outputs": [],
   "source": [
    "employee_data = {'employee_id':['1','2','3','4'],\n",
    "                 'name': ['Amy jones','Allen Keys','Alice Bees','Tim HOrtons']\n",
    "                 \n",
    "                \n",
    "                }\n",
    "dataframe_employees = pd.DataFrame(employee_data,columns =['employee_id','name'])"
   ]
  },
  {
   "cell_type": "code",
   "execution_count": 105,
   "id": "ec33ce37",
   "metadata": {},
   "outputs": [],
   "source": [
    "sales_data = {'employee_id':['3','4','5','6'],\n",
    "                 'total_sales': [23456,2512,2345,1455]\n",
    "                 \n",
    "                \n",
    "                }\n",
    "dataframe_sales = pd.DataFrame(sales_data,columns =['employee_id','total_sales'])"
   ]
  },
  {
   "cell_type": "code",
   "execution_count": 106,
   "id": "95906ef6",
   "metadata": {},
   "outputs": [
    {
     "data": {
      "text/html": [
       "<div>\n",
       "<style scoped>\n",
       "    .dataframe tbody tr th:only-of-type {\n",
       "        vertical-align: middle;\n",
       "    }\n",
       "\n",
       "    .dataframe tbody tr th {\n",
       "        vertical-align: top;\n",
       "    }\n",
       "\n",
       "    .dataframe thead th {\n",
       "        text-align: right;\n",
       "    }\n",
       "</style>\n",
       "<table border=\"1\" class=\"dataframe\">\n",
       "  <thead>\n",
       "    <tr style=\"text-align: right;\">\n",
       "      <th></th>\n",
       "      <th>employee_id</th>\n",
       "      <th>name</th>\n",
       "      <th>total_sales</th>\n",
       "    </tr>\n",
       "  </thead>\n",
       "  <tbody>\n",
       "    <tr>\n",
       "      <th>0</th>\n",
       "      <td>3</td>\n",
       "      <td>Alice Bees</td>\n",
       "      <td>23456</td>\n",
       "    </tr>\n",
       "    <tr>\n",
       "      <th>1</th>\n",
       "      <td>4</td>\n",
       "      <td>Tim HOrtons</td>\n",
       "      <td>2512</td>\n",
       "    </tr>\n",
       "  </tbody>\n",
       "</table>\n",
       "</div>"
      ],
      "text/plain": [
       "  employee_id         name  total_sales\n",
       "0           3   Alice Bees        23456\n",
       "1           4  Tim HOrtons         2512"
      ]
     },
     "execution_count": 106,
     "metadata": {},
     "output_type": "execute_result"
    }
   ],
   "source": [
    "#the default value for how is inner\n",
    "pd.merge(dataframe_employees,dataframe_sales,on ='employee_id')"
   ]
  },
  {
   "cell_type": "code",
   "execution_count": 107,
   "id": "2ae7eeb8",
   "metadata": {},
   "outputs": [
    {
     "data": {
      "text/html": [
       "<div>\n",
       "<style scoped>\n",
       "    .dataframe tbody tr th:only-of-type {\n",
       "        vertical-align: middle;\n",
       "    }\n",
       "\n",
       "    .dataframe tbody tr th {\n",
       "        vertical-align: top;\n",
       "    }\n",
       "\n",
       "    .dataframe thead th {\n",
       "        text-align: right;\n",
       "    }\n",
       "</style>\n",
       "<table border=\"1\" class=\"dataframe\">\n",
       "  <thead>\n",
       "    <tr style=\"text-align: right;\">\n",
       "      <th></th>\n",
       "      <th>employee_id</th>\n",
       "      <th>name</th>\n",
       "      <th>total_sales</th>\n",
       "    </tr>\n",
       "  </thead>\n",
       "  <tbody>\n",
       "    <tr>\n",
       "      <th>0</th>\n",
       "      <td>1</td>\n",
       "      <td>Amy jones</td>\n",
       "      <td>NaN</td>\n",
       "    </tr>\n",
       "    <tr>\n",
       "      <th>1</th>\n",
       "      <td>2</td>\n",
       "      <td>Allen Keys</td>\n",
       "      <td>NaN</td>\n",
       "    </tr>\n",
       "    <tr>\n",
       "      <th>2</th>\n",
       "      <td>3</td>\n",
       "      <td>Alice Bees</td>\n",
       "      <td>23456.0</td>\n",
       "    </tr>\n",
       "    <tr>\n",
       "      <th>3</th>\n",
       "      <td>4</td>\n",
       "      <td>Tim HOrtons</td>\n",
       "      <td>2512.0</td>\n",
       "    </tr>\n",
       "    <tr>\n",
       "      <th>4</th>\n",
       "      <td>5</td>\n",
       "      <td>NaN</td>\n",
       "      <td>2345.0</td>\n",
       "    </tr>\n",
       "    <tr>\n",
       "      <th>5</th>\n",
       "      <td>6</td>\n",
       "      <td>NaN</td>\n",
       "      <td>1455.0</td>\n",
       "    </tr>\n",
       "  </tbody>\n",
       "</table>\n",
       "</div>"
      ],
      "text/plain": [
       "  employee_id         name  total_sales\n",
       "0           1    Amy jones          NaN\n",
       "1           2   Allen Keys          NaN\n",
       "2           3   Alice Bees      23456.0\n",
       "3           4  Tim HOrtons       2512.0\n",
       "4           5          NaN       2345.0\n",
       "5           6          NaN       1455.0"
      ]
     },
     "execution_count": 107,
     "metadata": {},
     "output_type": "execute_result"
    }
   ],
   "source": [
    "pd.merge(dataframe_employees,dataframe_sales,on ='employee_id',how ='outer')"
   ]
  },
  {
   "cell_type": "code",
   "execution_count": 157,
   "id": "587e26f5",
   "metadata": {},
   "outputs": [
    {
     "data": {
      "text/html": [
       "<div>\n",
       "<style scoped>\n",
       "    .dataframe tbody tr th:only-of-type {\n",
       "        vertical-align: middle;\n",
       "    }\n",
       "\n",
       "    .dataframe tbody tr th {\n",
       "        vertical-align: top;\n",
       "    }\n",
       "\n",
       "    .dataframe thead th {\n",
       "        text-align: right;\n",
       "    }\n",
       "</style>\n",
       "<table border=\"1\" class=\"dataframe\">\n",
       "  <thead>\n",
       "    <tr style=\"text-align: right;\">\n",
       "      <th></th>\n",
       "      <th>employee_id</th>\n",
       "      <th>name</th>\n",
       "      <th>total_sales</th>\n",
       "    </tr>\n",
       "  </thead>\n",
       "  <tbody>\n",
       "    <tr>\n",
       "      <th>0</th>\n",
       "      <td>1</td>\n",
       "      <td>Amy jones</td>\n",
       "      <td>NaN</td>\n",
       "    </tr>\n",
       "    <tr>\n",
       "      <th>1</th>\n",
       "      <td>2</td>\n",
       "      <td>Allen Keys</td>\n",
       "      <td>NaN</td>\n",
       "    </tr>\n",
       "    <tr>\n",
       "      <th>2</th>\n",
       "      <td>3</td>\n",
       "      <td>Alice Bees</td>\n",
       "      <td>23456.0</td>\n",
       "    </tr>\n",
       "    <tr>\n",
       "      <th>3</th>\n",
       "      <td>4</td>\n",
       "      <td>Tim HOrtons</td>\n",
       "      <td>2512.0</td>\n",
       "    </tr>\n",
       "  </tbody>\n",
       "</table>\n",
       "</div>"
      ],
      "text/plain": [
       "  employee_id         name  total_sales\n",
       "0           1    Amy jones          NaN\n",
       "1           2   Allen Keys          NaN\n",
       "2           3   Alice Bees      23456.0\n",
       "3           4  Tim HOrtons       2512.0"
      ]
     },
     "execution_count": 157,
     "metadata": {},
     "output_type": "execute_result"
    }
   ],
   "source": [
    "pd.merge(dataframe_employees,dataframe_sales,on ='employee_id',how ='left')"
   ]
  },
  {
   "cell_type": "code",
   "execution_count": 156,
   "id": "ab8e67af",
   "metadata": {},
   "outputs": [
    {
     "data": {
      "text/html": [
       "<div>\n",
       "<style scoped>\n",
       "    .dataframe tbody tr th:only-of-type {\n",
       "        vertical-align: middle;\n",
       "    }\n",
       "\n",
       "    .dataframe tbody tr th {\n",
       "        vertical-align: top;\n",
       "    }\n",
       "\n",
       "    .dataframe thead th {\n",
       "        text-align: right;\n",
       "    }\n",
       "</style>\n",
       "<table border=\"1\" class=\"dataframe\">\n",
       "  <thead>\n",
       "    <tr style=\"text-align: right;\">\n",
       "      <th></th>\n",
       "      <th>employee_id</th>\n",
       "      <th>name</th>\n",
       "      <th>total_sales</th>\n",
       "    </tr>\n",
       "  </thead>\n",
       "  <tbody>\n",
       "    <tr>\n",
       "      <th>0</th>\n",
       "      <td>3</td>\n",
       "      <td>Alice Bees</td>\n",
       "      <td>23456</td>\n",
       "    </tr>\n",
       "    <tr>\n",
       "      <th>1</th>\n",
       "      <td>4</td>\n",
       "      <td>Tim HOrtons</td>\n",
       "      <td>2512</td>\n",
       "    </tr>\n",
       "  </tbody>\n",
       "</table>\n",
       "</div>"
      ],
      "text/plain": [
       "  employee_id         name  total_sales\n",
       "0           3   Alice Bees        23456\n",
       "1           4  Tim HOrtons         2512"
      ]
     },
     "execution_count": 156,
     "metadata": {},
     "output_type": "execute_result"
    }
   ],
   "source": [
    "pd.merge(dataframe_employees,dataframe_sales,left_on ='employee_id',right_on ='employee_id')"
   ]
  },
  {
   "cell_type": "code",
   "execution_count": 109,
   "id": "27f533b2",
   "metadata": {},
   "outputs": [
    {
     "data": {
      "text/html": [
       "<div>\n",
       "<style scoped>\n",
       "    .dataframe tbody tr th:only-of-type {\n",
       "        vertical-align: middle;\n",
       "    }\n",
       "\n",
       "    .dataframe tbody tr th {\n",
       "        vertical-align: top;\n",
       "    }\n",
       "\n",
       "    .dataframe thead th {\n",
       "        text-align: right;\n",
       "    }\n",
       "</style>\n",
       "<table border=\"1\" class=\"dataframe\">\n",
       "  <thead>\n",
       "    <tr style=\"text-align: right;\">\n",
       "      <th></th>\n",
       "      <th>name</th>\n",
       "    </tr>\n",
       "    <tr>\n",
       "      <th>employee_id</th>\n",
       "      <th></th>\n",
       "    </tr>\n",
       "  </thead>\n",
       "  <tbody>\n",
       "    <tr>\n",
       "      <th>1</th>\n",
       "      <td>Amy jones</td>\n",
       "    </tr>\n",
       "    <tr>\n",
       "      <th>2</th>\n",
       "      <td>Allen Keys</td>\n",
       "    </tr>\n",
       "    <tr>\n",
       "      <th>3</th>\n",
       "      <td>Alice Bees</td>\n",
       "    </tr>\n",
       "    <tr>\n",
       "      <th>4</th>\n",
       "      <td>Tim HOrtons</td>\n",
       "    </tr>\n",
       "  </tbody>\n",
       "</table>\n",
       "</div>"
      ],
      "text/plain": [
       "                    name\n",
       "employee_id             \n",
       "1              Amy jones\n",
       "2             Allen Keys\n",
       "3             Alice Bees\n",
       "4            Tim HOrtons"
      ]
     },
     "execution_count": 109,
     "metadata": {},
     "output_type": "execute_result"
    }
   ],
   "source": [
    "dataframe_employees.set_index('employee_id')"
   ]
  },
  {
   "cell_type": "code",
   "execution_count": 110,
   "id": "ac9648d7",
   "metadata": {},
   "outputs": [
    {
     "data": {
      "text/html": [
       "<div>\n",
       "<style scoped>\n",
       "    .dataframe tbody tr th:only-of-type {\n",
       "        vertical-align: middle;\n",
       "    }\n",
       "\n",
       "    .dataframe tbody tr th {\n",
       "        vertical-align: top;\n",
       "    }\n",
       "\n",
       "    .dataframe thead th {\n",
       "        text-align: right;\n",
       "    }\n",
       "</style>\n",
       "<table border=\"1\" class=\"dataframe\">\n",
       "  <thead>\n",
       "    <tr style=\"text-align: right;\">\n",
       "      <th></th>\n",
       "      <th>total_sales</th>\n",
       "    </tr>\n",
       "    <tr>\n",
       "      <th>employee_id</th>\n",
       "      <th></th>\n",
       "    </tr>\n",
       "  </thead>\n",
       "  <tbody>\n",
       "    <tr>\n",
       "      <th>3</th>\n",
       "      <td>23456</td>\n",
       "    </tr>\n",
       "    <tr>\n",
       "      <th>4</th>\n",
       "      <td>2512</td>\n",
       "    </tr>\n",
       "    <tr>\n",
       "      <th>5</th>\n",
       "      <td>2345</td>\n",
       "    </tr>\n",
       "    <tr>\n",
       "      <th>6</th>\n",
       "      <td>1455</td>\n",
       "    </tr>\n",
       "  </tbody>\n",
       "</table>\n",
       "</div>"
      ],
      "text/plain": [
       "             total_sales\n",
       "employee_id             \n",
       "3                  23456\n",
       "4                   2512\n",
       "5                   2345\n",
       "6                   1455"
      ]
     },
     "execution_count": 110,
     "metadata": {},
     "output_type": "execute_result"
    }
   ],
   "source": [
    "dataframe_sales.set_index('employee_id')"
   ]
  },
  {
   "cell_type": "code",
   "execution_count": 111,
   "id": "0189343b",
   "metadata": {},
   "outputs": [
    {
     "data": {
      "text/html": [
       "<div>\n",
       "<style scoped>\n",
       "    .dataframe tbody tr th:only-of-type {\n",
       "        vertical-align: middle;\n",
       "    }\n",
       "\n",
       "    .dataframe tbody tr th {\n",
       "        vertical-align: top;\n",
       "    }\n",
       "\n",
       "    .dataframe thead th {\n",
       "        text-align: right;\n",
       "    }\n",
       "</style>\n",
       "<table border=\"1\" class=\"dataframe\">\n",
       "  <thead>\n",
       "    <tr style=\"text-align: right;\">\n",
       "      <th></th>\n",
       "      <th>employee_id_x</th>\n",
       "      <th>name</th>\n",
       "      <th>employee_id_y</th>\n",
       "      <th>total_sales</th>\n",
       "    </tr>\n",
       "  </thead>\n",
       "  <tbody>\n",
       "    <tr>\n",
       "      <th>0</th>\n",
       "      <td>1</td>\n",
       "      <td>Amy jones</td>\n",
       "      <td>3</td>\n",
       "      <td>23456</td>\n",
       "    </tr>\n",
       "    <tr>\n",
       "      <th>1</th>\n",
       "      <td>2</td>\n",
       "      <td>Allen Keys</td>\n",
       "      <td>4</td>\n",
       "      <td>2512</td>\n",
       "    </tr>\n",
       "    <tr>\n",
       "      <th>2</th>\n",
       "      <td>3</td>\n",
       "      <td>Alice Bees</td>\n",
       "      <td>5</td>\n",
       "      <td>2345</td>\n",
       "    </tr>\n",
       "    <tr>\n",
       "      <th>3</th>\n",
       "      <td>4</td>\n",
       "      <td>Tim HOrtons</td>\n",
       "      <td>6</td>\n",
       "      <td>1455</td>\n",
       "    </tr>\n",
       "  </tbody>\n",
       "</table>\n",
       "</div>"
      ],
      "text/plain": [
       "  employee_id_x         name employee_id_y  total_sales\n",
       "0             1    Amy jones             3        23456\n",
       "1             2   Allen Keys             4         2512\n",
       "2             3   Alice Bees             5         2345\n",
       "3             4  Tim HOrtons             6         1455"
      ]
     },
     "execution_count": 111,
     "metadata": {},
     "output_type": "execute_result"
    }
   ],
   "source": [
    "pd.merge(dataframe_employees,dataframe_sales,left_index=True,right_index=True)"
   ]
  },
  {
   "cell_type": "code",
   "execution_count": 112,
   "id": "e5d08ab7",
   "metadata": {},
   "outputs": [],
   "source": [
    "#Lecture 5 from slides"
   ]
  },
  {
   "cell_type": "code",
   "execution_count": 113,
   "id": "9f8afc1c",
   "metadata": {},
   "outputs": [],
   "source": [
    "import numpy as np\n",
    "from sklearn import preprocessing\n"
   ]
  },
  {
   "cell_type": "code",
   "execution_count": 63,
   "id": "dfb00d18",
   "metadata": {},
   "outputs": [],
   "source": [
    "feature =np.array([[-500.5],\n",
    "                   [-100.1],\n",
    "                    [0],\n",
    "                    [100.1],\n",
    "                    [900.9]]\n",
    "                   )"
   ]
  },
  {
   "cell_type": "code",
   "execution_count": 114,
   "id": "b98ff898",
   "metadata": {},
   "outputs": [
    {
     "data": {
      "text/plain": [
       "array([[-500.5],\n",
       "       [-100.1],\n",
       "       [   0. ],\n",
       "       [ 100.1],\n",
       "       [ 900.9]])"
      ]
     },
     "execution_count": 114,
     "metadata": {},
     "output_type": "execute_result"
    }
   ],
   "source": [
    "feature"
   ]
  },
  {
   "cell_type": "code",
   "execution_count": 115,
   "id": "43d298ea",
   "metadata": {},
   "outputs": [],
   "source": [
    "minmax_scale = preprocessing.MinMaxScaler(feature_range=(0,1))"
   ]
  },
  {
   "cell_type": "code",
   "execution_count": 116,
   "id": "92088e72",
   "metadata": {},
   "outputs": [],
   "source": [
    "scaled_features =minmax_scale.fit_transform(feature)"
   ]
  },
  {
   "cell_type": "code",
   "execution_count": 117,
   "id": "b70aadeb",
   "metadata": {},
   "outputs": [
    {
     "data": {
      "text/plain": [
       "array([[0.        ],\n",
       "       [0.28571429],\n",
       "       [0.35714286],\n",
       "       [0.42857143],\n",
       "       [1.        ]])"
      ]
     },
     "execution_count": 117,
     "metadata": {},
     "output_type": "execute_result"
    }
   ],
   "source": [
    "scaled_features"
   ]
  },
  {
   "cell_type": "code",
   "execution_count": 118,
   "id": "78f84b43",
   "metadata": {},
   "outputs": [],
   "source": [
    "df = pd.read_csv('./data/adv_python_class_5_titanic.csv')"
   ]
  },
  {
   "cell_type": "code",
   "execution_count": 119,
   "id": "75331776",
   "metadata": {},
   "outputs": [
    {
     "data": {
      "text/html": [
       "<div>\n",
       "<style scoped>\n",
       "    .dataframe tbody tr th:only-of-type {\n",
       "        vertical-align: middle;\n",
       "    }\n",
       "\n",
       "    .dataframe tbody tr th {\n",
       "        vertical-align: top;\n",
       "    }\n",
       "\n",
       "    .dataframe thead th {\n",
       "        text-align: right;\n",
       "    }\n",
       "</style>\n",
       "<table border=\"1\" class=\"dataframe\">\n",
       "  <thead>\n",
       "    <tr style=\"text-align: right;\">\n",
       "      <th></th>\n",
       "      <th>name</th>\n",
       "      <th>gender</th>\n",
       "      <th>age</th>\n",
       "      <th>class</th>\n",
       "      <th>embarked</th>\n",
       "      <th>country</th>\n",
       "      <th>ticketno</th>\n",
       "      <th>fare</th>\n",
       "      <th>sibsp</th>\n",
       "      <th>parch</th>\n",
       "      <th>survived</th>\n",
       "    </tr>\n",
       "  </thead>\n",
       "  <tbody>\n",
       "    <tr>\n",
       "      <th>0</th>\n",
       "      <td>Abbing, Mr. Anthony</td>\n",
       "      <td>male</td>\n",
       "      <td>42.0</td>\n",
       "      <td>3rd</td>\n",
       "      <td>S</td>\n",
       "      <td>United States</td>\n",
       "      <td>5547.0</td>\n",
       "      <td>7.11</td>\n",
       "      <td>0.0</td>\n",
       "      <td>0.0</td>\n",
       "      <td>no</td>\n",
       "    </tr>\n",
       "    <tr>\n",
       "      <th>1</th>\n",
       "      <td>Abbott, Mr. Eugene Joseph</td>\n",
       "      <td>male</td>\n",
       "      <td>13.0</td>\n",
       "      <td>3rd</td>\n",
       "      <td>S</td>\n",
       "      <td>United States</td>\n",
       "      <td>2673.0</td>\n",
       "      <td>20.05</td>\n",
       "      <td>0.0</td>\n",
       "      <td>2.0</td>\n",
       "      <td>no</td>\n",
       "    </tr>\n",
       "    <tr>\n",
       "      <th>2</th>\n",
       "      <td>Abbott, Mr. Rossmore Edward</td>\n",
       "      <td>male</td>\n",
       "      <td>16.0</td>\n",
       "      <td>3rd</td>\n",
       "      <td>S</td>\n",
       "      <td>United States</td>\n",
       "      <td>2673.0</td>\n",
       "      <td>20.05</td>\n",
       "      <td>1.0</td>\n",
       "      <td>1.0</td>\n",
       "      <td>no</td>\n",
       "    </tr>\n",
       "    <tr>\n",
       "      <th>3</th>\n",
       "      <td>Abbott, Mrs. Rhoda Mary 'Rosa'</td>\n",
       "      <td>female</td>\n",
       "      <td>39.0</td>\n",
       "      <td>3rd</td>\n",
       "      <td>S</td>\n",
       "      <td>England</td>\n",
       "      <td>2673.0</td>\n",
       "      <td>20.05</td>\n",
       "      <td>1.0</td>\n",
       "      <td>1.0</td>\n",
       "      <td>yes</td>\n",
       "    </tr>\n",
       "    <tr>\n",
       "      <th>4</th>\n",
       "      <td>Abelseth, Miss. Karen Marie</td>\n",
       "      <td>female</td>\n",
       "      <td>16.0</td>\n",
       "      <td>3rd</td>\n",
       "      <td>S</td>\n",
       "      <td>Norway</td>\n",
       "      <td>348125.0</td>\n",
       "      <td>7.13</td>\n",
       "      <td>0.0</td>\n",
       "      <td>0.0</td>\n",
       "      <td>yes</td>\n",
       "    </tr>\n",
       "  </tbody>\n",
       "</table>\n",
       "</div>"
      ],
      "text/plain": [
       "                             name  gender   age class embarked        country  \\\n",
       "0             Abbing, Mr. Anthony    male  42.0   3rd        S  United States   \n",
       "1       Abbott, Mr. Eugene Joseph    male  13.0   3rd        S  United States   \n",
       "2     Abbott, Mr. Rossmore Edward    male  16.0   3rd        S  United States   \n",
       "3  Abbott, Mrs. Rhoda Mary 'Rosa'  female  39.0   3rd        S        England   \n",
       "4     Abelseth, Miss. Karen Marie  female  16.0   3rd        S         Norway   \n",
       "\n",
       "   ticketno   fare  sibsp  parch survived  \n",
       "0    5547.0   7.11    0.0    0.0       no  \n",
       "1    2673.0  20.05    0.0    2.0       no  \n",
       "2    2673.0  20.05    1.0    1.0       no  \n",
       "3    2673.0  20.05    1.0    1.0      yes  \n",
       "4  348125.0   7.13    0.0    0.0      yes  "
      ]
     },
     "execution_count": 119,
     "metadata": {},
     "output_type": "execute_result"
    }
   ],
   "source": [
    "df.head()"
   ]
  },
  {
   "cell_type": "code",
   "execution_count": 120,
   "id": "9236dad6",
   "metadata": {},
   "outputs": [
    {
     "data": {
      "text/plain": [
       "array([[<Axes: title={'center': 'fare'}>]], dtype=object)"
      ]
     },
     "execution_count": 120,
     "metadata": {},
     "output_type": "execute_result"
    },
    {
     "data": {
      "image/png": "[encoded data removed]",
      "text/plain": [
       "<Figure size 640x480 with 1 Axes>"
      ]
     },
     "metadata": {},
     "output_type": "display_data"
    }
   ],
   "source": [
    "# histogram of fare\n",
    "df.hist('fare')"
   ]
  },
  {
   "cell_type": "code",
   "execution_count": 121,
   "id": "3dc23b42",
   "metadata": {},
   "outputs": [
    {
     "name": "stdout",
     "output_type": "stream",
     "text": [
      "<class 'pandas.core.series.Series'>\n"
     ]
    }
   ],
   "source": [
    "print(type(df['fare']))"
   ]
  },
  {
   "cell_type": "code",
   "execution_count": 130,
   "id": "bd9d48d4",
   "metadata": {},
   "outputs": [],
   "source": [
    "fare_column_reshaped = df['fare'].values.reshape(-1, 1)\n",
    "scaled_fare =minmax_scale.fit_transform(fare_column_reshaped)"
   ]
  },
  {
   "cell_type": "code",
   "execution_count": 149,
   "id": "a2a3b964",
   "metadata": {},
   "outputs": [
    {
     "name": "stdout",
     "output_type": "stream",
     "text": [
      "<class 'numpy.ndarray'>\n"
     ]
    }
   ],
   "source": [
    "print(type(scaled_fare))"
   ]
  },
  {
   "cell_type": "code",
   "execution_count": 137,
   "id": "6f5accf1",
   "metadata": {},
   "outputs": [],
   "source": [
    "df['scaled_fare'] = scaled_fare"
   ]
  },
  {
   "cell_type": "code",
   "execution_count": 139,
   "id": "326365d6",
   "metadata": {},
   "outputs": [
    {
     "data": {
      "text/html": [
       "<div>\n",
       "<style scoped>\n",
       "    .dataframe tbody tr th:only-of-type {\n",
       "        vertical-align: middle;\n",
       "    }\n",
       "\n",
       "    .dataframe tbody tr th {\n",
       "        vertical-align: top;\n",
       "    }\n",
       "\n",
       "    .dataframe thead th {\n",
       "        text-align: right;\n",
       "    }\n",
       "</style>\n",
       "<table border=\"1\" class=\"dataframe\">\n",
       "  <thead>\n",
       "    <tr style=\"text-align: right;\">\n",
       "      <th></th>\n",
       "      <th>name</th>\n",
       "      <th>gender</th>\n",
       "      <th>age</th>\n",
       "      <th>class</th>\n",
       "      <th>embarked</th>\n",
       "      <th>country</th>\n",
       "      <th>ticketno</th>\n",
       "      <th>fare</th>\n",
       "      <th>sibsp</th>\n",
       "      <th>parch</th>\n",
       "      <th>survived</th>\n",
       "      <th>scaled_fare</th>\n",
       "    </tr>\n",
       "  </thead>\n",
       "  <tbody>\n",
       "    <tr>\n",
       "      <th>0</th>\n",
       "      <td>Abbing, Mr. Anthony</td>\n",
       "      <td>male</td>\n",
       "      <td>42.0</td>\n",
       "      <td>3rd</td>\n",
       "      <td>S</td>\n",
       "      <td>United States</td>\n",
       "      <td>5547.0</td>\n",
       "      <td>7.11</td>\n",
       "      <td>0.0</td>\n",
       "      <td>0.0</td>\n",
       "      <td>no</td>\n",
       "      <td>0.008014</td>\n",
       "    </tr>\n",
       "    <tr>\n",
       "      <th>1</th>\n",
       "      <td>Abbott, Mr. Eugene Joseph</td>\n",
       "      <td>male</td>\n",
       "      <td>13.0</td>\n",
       "      <td>3rd</td>\n",
       "      <td>S</td>\n",
       "      <td>United States</td>\n",
       "      <td>2673.0</td>\n",
       "      <td>20.05</td>\n",
       "      <td>0.0</td>\n",
       "      <td>2.0</td>\n",
       "      <td>no</td>\n",
       "      <td>0.033435</td>\n",
       "    </tr>\n",
       "    <tr>\n",
       "      <th>2</th>\n",
       "      <td>Abbott, Mr. Rossmore Edward</td>\n",
       "      <td>male</td>\n",
       "      <td>16.0</td>\n",
       "      <td>3rd</td>\n",
       "      <td>S</td>\n",
       "      <td>United States</td>\n",
       "      <td>2673.0</td>\n",
       "      <td>20.05</td>\n",
       "      <td>1.0</td>\n",
       "      <td>1.0</td>\n",
       "      <td>no</td>\n",
       "      <td>0.033435</td>\n",
       "    </tr>\n",
       "    <tr>\n",
       "      <th>3</th>\n",
       "      <td>Abbott, Mrs. Rhoda Mary 'Rosa'</td>\n",
       "      <td>female</td>\n",
       "      <td>39.0</td>\n",
       "      <td>3rd</td>\n",
       "      <td>S</td>\n",
       "      <td>England</td>\n",
       "      <td>2673.0</td>\n",
       "      <td>20.05</td>\n",
       "      <td>1.0</td>\n",
       "      <td>1.0</td>\n",
       "      <td>yes</td>\n",
       "      <td>0.033435</td>\n",
       "    </tr>\n",
       "    <tr>\n",
       "      <th>4</th>\n",
       "      <td>Abelseth, Miss. Karen Marie</td>\n",
       "      <td>female</td>\n",
       "      <td>16.0</td>\n",
       "      <td>3rd</td>\n",
       "      <td>S</td>\n",
       "      <td>Norway</td>\n",
       "      <td>348125.0</td>\n",
       "      <td>7.13</td>\n",
       "      <td>0.0</td>\n",
       "      <td>0.0</td>\n",
       "      <td>yes</td>\n",
       "      <td>0.008054</td>\n",
       "    </tr>\n",
       "  </tbody>\n",
       "</table>\n",
       "</div>"
      ],
      "text/plain": [
       "                             name  gender   age class embarked        country  \\\n",
       "0             Abbing, Mr. Anthony    male  42.0   3rd        S  United States   \n",
       "1       Abbott, Mr. Eugene Joseph    male  13.0   3rd        S  United States   \n",
       "2     Abbott, Mr. Rossmore Edward    male  16.0   3rd        S  United States   \n",
       "3  Abbott, Mrs. Rhoda Mary 'Rosa'  female  39.0   3rd        S        England   \n",
       "4     Abelseth, Miss. Karen Marie  female  16.0   3rd        S         Norway   \n",
       "\n",
       "   ticketno   fare  sibsp  parch survived  scaled_fare  \n",
       "0    5547.0   7.11    0.0    0.0       no     0.008014  \n",
       "1    2673.0  20.05    0.0    2.0       no     0.033435  \n",
       "2    2673.0  20.05    1.0    1.0       no     0.033435  \n",
       "3    2673.0  20.05    1.0    1.0      yes     0.033435  \n",
       "4  348125.0   7.13    0.0    0.0      yes     0.008054  "
      ]
     },
     "execution_count": 139,
     "metadata": {},
     "output_type": "execute_result"
    }
   ],
   "source": [
    "df.head()"
   ]
  },
  {
   "cell_type": "code",
   "execution_count": 140,
   "id": "88dfa1db",
   "metadata": {},
   "outputs": [
    {
     "name": "stdout",
     "output_type": "stream",
     "text": [
      "<class 'pandas.core.series.Series'>\n"
     ]
    }
   ],
   "source": [
    "print(type(df['scaled_fare']))"
   ]
  },
  {
   "cell_type": "code",
   "execution_count": 143,
   "id": "329486d1",
   "metadata": {},
   "outputs": [
    {
     "data": {
      "text/plain": [
       "array([[<Axes: title={'center': 'scaled_fare'}>]], dtype=object)"
      ]
     },
     "execution_count": 143,
     "metadata": {},
     "output_type": "execute_result"
    },
    {
     "data": {
      "image/png": "[encoded data removed]",
      "text/plain": [
       "<Figure size 640x480 with 1 Axes>"
      ]
     },
     "metadata": {},
     "output_type": "display_data"
    }
   ],
   "source": [
    "df.hist(['scaled_fare'])"
   ]
  },
  {
   "cell_type": "code",
   "execution_count": 125,
   "id": "e5c3e9b0",
   "metadata": {},
   "outputs": [],
   "source": [
    "## Standardization"
   ]
  },
  {
   "cell_type": "code",
   "execution_count": 126,
   "id": "5c24b5f7",
   "metadata": {},
   "outputs": [],
   "source": [
    "x = np.array(\n",
    "    [[-1000.1],\n",
    "     [-200.2],\n",
    "     [500.5],\n",
    "     [600.6],\n",
    "     [9000.9]\n",
    "        \n",
    "    ]\n",
    ")"
   ]
  },
  {
   "cell_type": "code",
   "execution_count": 127,
   "id": "9332504b",
   "metadata": {},
   "outputs": [],
   "source": [
    "scaler =preprocessing.StandardScaler()"
   ]
  },
  {
   "cell_type": "code",
   "execution_count": 128,
   "id": "43de3550",
   "metadata": {},
   "outputs": [],
   "source": [
    "standardized =scaler.fit_transform(x)"
   ]
  },
  {
   "cell_type": "code",
   "execution_count": 89,
   "id": "5def5885",
   "metadata": {},
   "outputs": [
    {
     "data": {
      "text/plain": [
       "array([[-0.76058269],\n",
       "       [-0.54177196],\n",
       "       [-0.35009716],\n",
       "       [-0.32271504],\n",
       "       [ 1.97516685]])"
      ]
     },
     "execution_count": 89,
     "metadata": {},
     "output_type": "execute_result"
    }
   ],
   "source": [
    "standardized"
   ]
  },
  {
   "cell_type": "code",
   "execution_count": 148,
   "id": "6c9df837",
   "metadata": {},
   "outputs": [
    {
     "data": {
      "text/plain": [
       "array([[<Axes: title={'center': 'fare'}>]], dtype=object)"
      ]
     },
     "execution_count": 148,
     "metadata": {},
     "output_type": "execute_result"
    },
    {
     "data": {
      "image/png": "[encoded data removed]",
      "text/plain": [
       "<Figure size 640x480 with 1 Axes>"
      ]
     },
     "metadata": {},
     "output_type": "display_data"
    }
   ],
   "source": [
    "df.hist('fare')"
   ]
  },
  {
   "cell_type": "code",
   "execution_count": 150,
   "id": "c750b5a2",
   "metadata": {},
   "outputs": [],
   "source": [
    "# on column on fare and plot histogram\n",
    "standardized = scaler.fit_transform(fare_column_reshaped)"
   ]
  },
  {
   "cell_type": "code",
   "execution_count": 151,
   "id": "6ce51bce",
   "metadata": {},
   "outputs": [
    {
     "name": "stdout",
     "output_type": "stream",
     "text": [
      "<class 'numpy.ndarray'>\n"
     ]
    }
   ],
   "source": [
    "print(type(standardized))"
   ]
  },
  {
   "cell_type": "code",
   "execution_count": 152,
   "id": "52e699d2",
   "metadata": {},
   "outputs": [],
   "source": [
    "df['standarized_fare'] =standardized"
   ]
  },
  {
   "cell_type": "code",
   "execution_count": 153,
   "id": "d69f4ad0",
   "metadata": {},
   "outputs": [
    {
     "data": {
      "text/html": [
       "<div>\n",
       "<style scoped>\n",
       "    .dataframe tbody tr th:only-of-type {\n",
       "        vertical-align: middle;\n",
       "    }\n",
       "\n",
       "    .dataframe tbody tr th {\n",
       "        vertical-align: top;\n",
       "    }\n",
       "\n",
       "    .dataframe thead th {\n",
       "        text-align: right;\n",
       "    }\n",
       "</style>\n",
       "<table border=\"1\" class=\"dataframe\">\n",
       "  <thead>\n",
       "    <tr style=\"text-align: right;\">\n",
       "      <th></th>\n",
       "      <th>name</th>\n",
       "      <th>gender</th>\n",
       "      <th>age</th>\n",
       "      <th>class</th>\n",
       "      <th>embarked</th>\n",
       "      <th>country</th>\n",
       "      <th>ticketno</th>\n",
       "      <th>fare</th>\n",
       "      <th>sibsp</th>\n",
       "      <th>parch</th>\n",
       "      <th>survived</th>\n",
       "      <th>scaled_fare</th>\n",
       "      <th>standarized_fare</th>\n",
       "    </tr>\n",
       "  </thead>\n",
       "  <tbody>\n",
       "    <tr>\n",
       "      <th>0</th>\n",
       "      <td>Abbing, Mr. Anthony</td>\n",
       "      <td>male</td>\n",
       "      <td>42.0</td>\n",
       "      <td>3rd</td>\n",
       "      <td>S</td>\n",
       "      <td>United States</td>\n",
       "      <td>5547.0</td>\n",
       "      <td>7.11</td>\n",
       "      <td>0.0</td>\n",
       "      <td>0.0</td>\n",
       "      <td>no</td>\n",
       "      <td>0.008014</td>\n",
       "      <td>-0.503660</td>\n",
       "    </tr>\n",
       "    <tr>\n",
       "      <th>1</th>\n",
       "      <td>Abbott, Mr. Eugene Joseph</td>\n",
       "      <td>male</td>\n",
       "      <td>13.0</td>\n",
       "      <td>3rd</td>\n",
       "      <td>S</td>\n",
       "      <td>United States</td>\n",
       "      <td>2673.0</td>\n",
       "      <td>20.05</td>\n",
       "      <td>0.0</td>\n",
       "      <td>2.0</td>\n",
       "      <td>no</td>\n",
       "      <td>0.033435</td>\n",
       "      <td>-0.255802</td>\n",
       "    </tr>\n",
       "    <tr>\n",
       "      <th>2</th>\n",
       "      <td>Abbott, Mr. Rossmore Edward</td>\n",
       "      <td>male</td>\n",
       "      <td>16.0</td>\n",
       "      <td>3rd</td>\n",
       "      <td>S</td>\n",
       "      <td>United States</td>\n",
       "      <td>2673.0</td>\n",
       "      <td>20.05</td>\n",
       "      <td>1.0</td>\n",
       "      <td>1.0</td>\n",
       "      <td>no</td>\n",
       "      <td>0.033435</td>\n",
       "      <td>-0.255802</td>\n",
       "    </tr>\n",
       "    <tr>\n",
       "      <th>3</th>\n",
       "      <td>Abbott, Mrs. Rhoda Mary 'Rosa'</td>\n",
       "      <td>female</td>\n",
       "      <td>39.0</td>\n",
       "      <td>3rd</td>\n",
       "      <td>S</td>\n",
       "      <td>England</td>\n",
       "      <td>2673.0</td>\n",
       "      <td>20.05</td>\n",
       "      <td>1.0</td>\n",
       "      <td>1.0</td>\n",
       "      <td>yes</td>\n",
       "      <td>0.033435</td>\n",
       "      <td>-0.255802</td>\n",
       "    </tr>\n",
       "    <tr>\n",
       "      <th>4</th>\n",
       "      <td>Abelseth, Miss. Karen Marie</td>\n",
       "      <td>female</td>\n",
       "      <td>16.0</td>\n",
       "      <td>3rd</td>\n",
       "      <td>S</td>\n",
       "      <td>Norway</td>\n",
       "      <td>348125.0</td>\n",
       "      <td>7.13</td>\n",
       "      <td>0.0</td>\n",
       "      <td>0.0</td>\n",
       "      <td>yes</td>\n",
       "      <td>0.008054</td>\n",
       "      <td>-0.503277</td>\n",
       "    </tr>\n",
       "  </tbody>\n",
       "</table>\n",
       "</div>"
      ],
      "text/plain": [
       "                             name  gender   age class embarked        country  \\\n",
       "0             Abbing, Mr. Anthony    male  42.0   3rd        S  United States   \n",
       "1       Abbott, Mr. Eugene Joseph    male  13.0   3rd        S  United States   \n",
       "2     Abbott, Mr. Rossmore Edward    male  16.0   3rd        S  United States   \n",
       "3  Abbott, Mrs. Rhoda Mary 'Rosa'  female  39.0   3rd        S        England   \n",
       "4     Abelseth, Miss. Karen Marie  female  16.0   3rd        S         Norway   \n",
       "\n",
       "   ticketno   fare  sibsp  parch survived  scaled_fare  standarized_fare  \n",
       "0    5547.0   7.11    0.0    0.0       no     0.008014         -0.503660  \n",
       "1    2673.0  20.05    0.0    2.0       no     0.033435         -0.255802  \n",
       "2    2673.0  20.05    1.0    1.0       no     0.033435         -0.255802  \n",
       "3    2673.0  20.05    1.0    1.0      yes     0.033435         -0.255802  \n",
       "4  348125.0   7.13    0.0    0.0      yes     0.008054         -0.503277  "
      ]
     },
     "execution_count": 153,
     "metadata": {},
     "output_type": "execute_result"
    }
   ],
   "source": [
    "df.head(5)"
   ]
  },
  {
   "cell_type": "code",
   "execution_count": 155,
   "id": "8c404b64",
   "metadata": {},
   "outputs": [
    {
     "data": {
      "text/plain": [
       "array([[<Axes: title={'center': 'standarized_fare'}>]], dtype=object)"
      ]
     },
     "execution_count": 155,
     "metadata": {},
     "output_type": "execute_result"
    },
    {
     "data": {
      "image/png": "[encoded data removed]",
      "text/plain": [
       "<Figure size 640x480 with 1 Axes>"
      ]
     },
     "metadata": {},
     "output_type": "display_data"
    }
   ],
   "source": [
    "df.hist('standarized_fare')"
   ]
  },
  {
   "cell_type": "code",
   "execution_count": null,
   "id": "6d3b3d47",
   "metadata": {},
   "outputs": [],
   "source": []
  }
 ],
 "metadata": {
  "kernelspec": {
   "display_name": "Python 3 (ipykernel)",
   "language": "python",
   "name": "python3"
  },
  "language_info": {
   "codemirror_mode": {
    "name": "ipython",
    "version": 3
   },
   "file_extension": ".py",
   "mimetype": "text/x-python",
   "name": "python",
   "nbconvert_exporter": "python",
   "pygments_lexer": "ipython3",
   "version": "3.11.3"
  }
 },
 "nbformat": 4,
 "nbformat_minor": 5
}
