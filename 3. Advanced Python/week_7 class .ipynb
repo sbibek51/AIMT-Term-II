{
 "cells": [
  {
   "cell_type": "code",
   "execution_count": 2,
   "id": "03aab269",
   "metadata": {},
   "outputs": [],
   "source": [
    "#Bibek Shiwakoti\n",
    "# Feb 21, 2024 Wednesday"
   ]
  },
  {
   "cell_type": "code",
   "execution_count": 3,
   "id": "c7c3ce77",
   "metadata": {},
   "outputs": [],
   "source": [
    "# Module 5\n",
    "# last class was about feature rescaling\n",
    "\n",
    "\n"
   ]
  },
  {
   "cell_type": "markdown",
   "id": "1fa4d9a2",
   "metadata": {},
   "source": [
    "## Outliers"
   ]
  },
  {
   "cell_type": "code",
   "execution_count": 1,
   "id": "4b70d536",
   "metadata": {},
   "outputs": [],
   "source": [
    "import pandas as pd\n"
   ]
  },
  {
   "cell_type": "code",
   "execution_count": 4,
   "id": "0282fa1c",
   "metadata": {},
   "outputs": [],
   "source": [
    "df=pd.read_csv('../data/Practice_File.csv')"
   ]
  },
  {
   "cell_type": "code",
   "execution_count": 6,
   "id": "e1c36dc1",
   "metadata": {},
   "outputs": [
    {
     "data": {
      "text/html": [
       "<div>\n",
       "<style scoped>\n",
       "    .dataframe tbody tr th:only-of-type {\n",
       "        vertical-align: middle;\n",
       "    }\n",
       "\n",
       "    .dataframe tbody tr th {\n",
       "        vertical-align: top;\n",
       "    }\n",
       "\n",
       "    .dataframe thead th {\n",
       "        text-align: right;\n",
       "    }\n",
       "</style>\n",
       "<table border=\"1\" class=\"dataframe\">\n",
       "  <thead>\n",
       "    <tr style=\"text-align: right;\">\n",
       "      <th></th>\n",
       "      <th>Id</th>\n",
       "      <th>MSSubClass</th>\n",
       "      <th>MSZoning</th>\n",
       "      <th>LotFrontage</th>\n",
       "      <th>LotArea</th>\n",
       "      <th>Street</th>\n",
       "      <th>Alley</th>\n",
       "      <th>LotShape</th>\n",
       "      <th>LandContour</th>\n",
       "      <th>Utilities</th>\n",
       "      <th>...</th>\n",
       "      <th>PoolArea</th>\n",
       "      <th>PoolQC</th>\n",
       "      <th>Fence</th>\n",
       "      <th>MiscFeature</th>\n",
       "      <th>MiscVal</th>\n",
       "      <th>MoSold</th>\n",
       "      <th>YrSold</th>\n",
       "      <th>SaleType</th>\n",
       "      <th>SaleCondition</th>\n",
       "      <th>SalePrice</th>\n",
       "    </tr>\n",
       "  </thead>\n",
       "  <tbody>\n",
       "    <tr>\n",
       "      <th>0</th>\n",
       "      <td>1</td>\n",
       "      <td>60</td>\n",
       "      <td>RL</td>\n",
       "      <td>65.0</td>\n",
       "      <td>8450</td>\n",
       "      <td>Pave</td>\n",
       "      <td>NaN</td>\n",
       "      <td>Reg</td>\n",
       "      <td>Lvl</td>\n",
       "      <td>AllPub</td>\n",
       "      <td>...</td>\n",
       "      <td>0</td>\n",
       "      <td>NaN</td>\n",
       "      <td>NaN</td>\n",
       "      <td>NaN</td>\n",
       "      <td>0</td>\n",
       "      <td>2</td>\n",
       "      <td>2008</td>\n",
       "      <td>WD</td>\n",
       "      <td>Normal</td>\n",
       "      <td>208500</td>\n",
       "    </tr>\n",
       "    <tr>\n",
       "      <th>1</th>\n",
       "      <td>2</td>\n",
       "      <td>20</td>\n",
       "      <td>RL</td>\n",
       "      <td>80.0</td>\n",
       "      <td>9600</td>\n",
       "      <td>Pave</td>\n",
       "      <td>NaN</td>\n",
       "      <td>Reg</td>\n",
       "      <td>Lvl</td>\n",
       "      <td>AllPub</td>\n",
       "      <td>...</td>\n",
       "      <td>0</td>\n",
       "      <td>NaN</td>\n",
       "      <td>NaN</td>\n",
       "      <td>NaN</td>\n",
       "      <td>0</td>\n",
       "      <td>5</td>\n",
       "      <td>2007</td>\n",
       "      <td>WD</td>\n",
       "      <td>Normal</td>\n",
       "      <td>181500</td>\n",
       "    </tr>\n",
       "    <tr>\n",
       "      <th>2</th>\n",
       "      <td>3</td>\n",
       "      <td>60</td>\n",
       "      <td>RL</td>\n",
       "      <td>68.0</td>\n",
       "      <td>11250</td>\n",
       "      <td>Pave</td>\n",
       "      <td>NaN</td>\n",
       "      <td>IR1</td>\n",
       "      <td>Lvl</td>\n",
       "      <td>AllPub</td>\n",
       "      <td>...</td>\n",
       "      <td>0</td>\n",
       "      <td>NaN</td>\n",
       "      <td>NaN</td>\n",
       "      <td>NaN</td>\n",
       "      <td>0</td>\n",
       "      <td>9</td>\n",
       "      <td>2008</td>\n",
       "      <td>WD</td>\n",
       "      <td>Normal</td>\n",
       "      <td>223500</td>\n",
       "    </tr>\n",
       "    <tr>\n",
       "      <th>3</th>\n",
       "      <td>4</td>\n",
       "      <td>70</td>\n",
       "      <td>RL</td>\n",
       "      <td>60.0</td>\n",
       "      <td>9550</td>\n",
       "      <td>Pave</td>\n",
       "      <td>NaN</td>\n",
       "      <td>IR1</td>\n",
       "      <td>Lvl</td>\n",
       "      <td>AllPub</td>\n",
       "      <td>...</td>\n",
       "      <td>0</td>\n",
       "      <td>NaN</td>\n",
       "      <td>NaN</td>\n",
       "      <td>NaN</td>\n",
       "      <td>0</td>\n",
       "      <td>2</td>\n",
       "      <td>2006</td>\n",
       "      <td>WD</td>\n",
       "      <td>Abnorml</td>\n",
       "      <td>140000</td>\n",
       "    </tr>\n",
       "    <tr>\n",
       "      <th>4</th>\n",
       "      <td>5</td>\n",
       "      <td>60</td>\n",
       "      <td>RL</td>\n",
       "      <td>84.0</td>\n",
       "      <td>14260</td>\n",
       "      <td>Pave</td>\n",
       "      <td>NaN</td>\n",
       "      <td>IR1</td>\n",
       "      <td>Lvl</td>\n",
       "      <td>AllPub</td>\n",
       "      <td>...</td>\n",
       "      <td>0</td>\n",
       "      <td>NaN</td>\n",
       "      <td>NaN</td>\n",
       "      <td>NaN</td>\n",
       "      <td>0</td>\n",
       "      <td>12</td>\n",
       "      <td>2008</td>\n",
       "      <td>WD</td>\n",
       "      <td>Normal</td>\n",
       "      <td>250000</td>\n",
       "    </tr>\n",
       "  </tbody>\n",
       "</table>\n",
       "<p>5 rows × 81 columns</p>\n",
       "</div>"
      ],
      "text/plain": [
       "   Id  MSSubClass MSZoning  LotFrontage  LotArea Street Alley LotShape  \\\n",
       "0   1          60       RL         65.0     8450   Pave   NaN      Reg   \n",
       "1   2          20       RL         80.0     9600   Pave   NaN      Reg   \n",
       "2   3          60       RL         68.0    11250   Pave   NaN      IR1   \n",
       "3   4          70       RL         60.0     9550   Pave   NaN      IR1   \n",
       "4   5          60       RL         84.0    14260   Pave   NaN      IR1   \n",
       "\n",
       "  LandContour Utilities  ... PoolArea PoolQC Fence MiscFeature MiscVal MoSold  \\\n",
       "0         Lvl    AllPub  ...        0    NaN   NaN         NaN       0      2   \n",
       "1         Lvl    AllPub  ...        0    NaN   NaN         NaN       0      5   \n",
       "2         Lvl    AllPub  ...        0    NaN   NaN         NaN       0      9   \n",
       "3         Lvl    AllPub  ...        0    NaN   NaN         NaN       0      2   \n",
       "4         Lvl    AllPub  ...        0    NaN   NaN         NaN       0     12   \n",
       "\n",
       "  YrSold  SaleType  SaleCondition  SalePrice  \n",
       "0   2008        WD         Normal     208500  \n",
       "1   2007        WD         Normal     181500  \n",
       "2   2008        WD         Normal     223500  \n",
       "3   2006        WD        Abnorml     140000  \n",
       "4   2008        WD         Normal     250000  \n",
       "\n",
       "[5 rows x 81 columns]"
      ]
     },
     "execution_count": 6,
     "metadata": {},
     "output_type": "execute_result"
    }
   ],
   "source": [
    "df.head()"
   ]
  },
  {
   "cell_type": "code",
   "execution_count": 7,
   "id": "5f1f0790",
   "metadata": {},
   "outputs": [
    {
     "data": {
      "text/plain": [
       "(1460, 81)"
      ]
     },
     "execution_count": 7,
     "metadata": {},
     "output_type": "execute_result"
    }
   ],
   "source": [
    "df.shape"
   ]
  },
  {
   "cell_type": "code",
   "execution_count": 10,
   "id": "cc18baf6",
   "metadata": {},
   "outputs": [],
   "source": [
    "df=pd.read_csv('../data/Practice_File.csv',usecols=['LotArea','SalePrice'])"
   ]
  },
  {
   "cell_type": "code",
   "execution_count": 11,
   "id": "edc6c274",
   "metadata": {},
   "outputs": [
    {
     "data": {
      "text/html": [
       "<div>\n",
       "<style scoped>\n",
       "    .dataframe tbody tr th:only-of-type {\n",
       "        vertical-align: middle;\n",
       "    }\n",
       "\n",
       "    .dataframe tbody tr th {\n",
       "        vertical-align: top;\n",
       "    }\n",
       "\n",
       "    .dataframe thead th {\n",
       "        text-align: right;\n",
       "    }\n",
       "</style>\n",
       "<table border=\"1\" class=\"dataframe\">\n",
       "  <thead>\n",
       "    <tr style=\"text-align: right;\">\n",
       "      <th></th>\n",
       "      <th>LotArea</th>\n",
       "      <th>SalePrice</th>\n",
       "    </tr>\n",
       "  </thead>\n",
       "  <tbody>\n",
       "    <tr>\n",
       "      <th>count</th>\n",
       "      <td>1460.000000</td>\n",
       "      <td>1460.000000</td>\n",
       "    </tr>\n",
       "    <tr>\n",
       "      <th>mean</th>\n",
       "      <td>10516.828082</td>\n",
       "      <td>180921.195890</td>\n",
       "    </tr>\n",
       "    <tr>\n",
       "      <th>std</th>\n",
       "      <td>9981.264932</td>\n",
       "      <td>79442.502883</td>\n",
       "    </tr>\n",
       "    <tr>\n",
       "      <th>min</th>\n",
       "      <td>1300.000000</td>\n",
       "      <td>34900.000000</td>\n",
       "    </tr>\n",
       "    <tr>\n",
       "      <th>25%</th>\n",
       "      <td>7553.500000</td>\n",
       "      <td>129975.000000</td>\n",
       "    </tr>\n",
       "    <tr>\n",
       "      <th>50%</th>\n",
       "      <td>9478.500000</td>\n",
       "      <td>163000.000000</td>\n",
       "    </tr>\n",
       "    <tr>\n",
       "      <th>75%</th>\n",
       "      <td>11601.500000</td>\n",
       "      <td>214000.000000</td>\n",
       "    </tr>\n",
       "    <tr>\n",
       "      <th>max</th>\n",
       "      <td>215245.000000</td>\n",
       "      <td>755000.000000</td>\n",
       "    </tr>\n",
       "  </tbody>\n",
       "</table>\n",
       "</div>"
      ],
      "text/plain": [
       "             LotArea      SalePrice\n",
       "count    1460.000000    1460.000000\n",
       "mean    10516.828082  180921.195890\n",
       "std      9981.264932   79442.502883\n",
       "min      1300.000000   34900.000000\n",
       "25%      7553.500000  129975.000000\n",
       "50%      9478.500000  163000.000000\n",
       "75%     11601.500000  214000.000000\n",
       "max    215245.000000  755000.000000"
      ]
     },
     "execution_count": 11,
     "metadata": {},
     "output_type": "execute_result"
    }
   ],
   "source": [
    "df.describe()"
   ]
  },
  {
   "cell_type": "code",
   "execution_count": 13,
   "id": "a5ab636c",
   "metadata": {},
   "outputs": [],
   "source": [
    "q1 =df['SalePrice'].quantile(0.25)\n",
    "\n",
    "q3 =df['SalePrice'].quantile(0.75)\n",
    "\n"
   ]
  },
  {
   "cell_type": "code",
   "execution_count": 14,
   "id": "32c87014",
   "metadata": {},
   "outputs": [],
   "source": [
    "IQR = q3-q1"
   ]
  },
  {
   "cell_type": "code",
   "execution_count": 16,
   "id": "7eea0691",
   "metadata": {},
   "outputs": [
    {
     "name": "stdout",
     "output_type": "stream",
     "text": [
      "q1: 129975.0\n",
      "q3: 214000.0\n",
      "IQR: 84025.0\n"
     ]
    }
   ],
   "source": [
    "print('q1:', q1)\n",
    "print('q3:', q3)\n",
    "print('IQR:', IQR)"
   ]
  },
  {
   "cell_type": "code",
   "execution_count": 113,
   "id": "5132e206",
   "metadata": {},
   "outputs": [
    {
     "name": "stdout",
     "output_type": "stream",
     "text": [
      "Upper whisker: 340037.5\n",
      "Lower whisker: 3937.5\n"
     ]
    }
   ],
   "source": [
    "lower_whisker = q1 - (1.5*IQR)\n",
    "upper_whisker = q3 + (1.5*IQR)\n",
    "print('Upper whisker:',upper_whisker)\n",
    "print('Lower whisker:',lower_whisker)"
   ]
  },
  {
   "cell_type": "code",
   "execution_count": 26,
   "id": "07add08e",
   "metadata": {},
   "outputs": [
    {
     "name": "stdout",
     "output_type": "stream",
     "text": [
      "0       False\n",
      "1       False\n",
      "2       False\n",
      "3       False\n",
      "4       False\n",
      "        ...  \n",
      "1455    False\n",
      "1456    False\n",
      "1457    False\n",
      "1458    False\n",
      "1459    False\n",
      "Name: SalePrice, Length: 1460, dtype: bool\n"
     ]
    }
   ],
   "source": [
    "print((df['SalePrice']<lower_whisker) | (df['SalePrice']>upper_whisker))"
   ]
  },
  {
   "cell_type": "code",
   "execution_count": 27,
   "id": "c0af791f",
   "metadata": {},
   "outputs": [
    {
     "data": {
      "text/plain": [
       "(1460, 2)"
      ]
     },
     "execution_count": 27,
     "metadata": {},
     "output_type": "execute_result"
    }
   ],
   "source": [
    "df.shape"
   ]
  },
  {
   "cell_type": "code",
   "execution_count": 30,
   "id": "9fd0bb94",
   "metadata": {},
   "outputs": [],
   "source": [
    "new_df=  df[((df['SalePrice']>lower_whisker) & (df['SalePrice']<upper_whisker))]"
   ]
  },
  {
   "cell_type": "code",
   "execution_count": 31,
   "id": "16c474d5",
   "metadata": {},
   "outputs": [
    {
     "data": {
      "text/plain": [
       "(1399, 2)"
      ]
     },
     "execution_count": 31,
     "metadata": {},
     "output_type": "execute_result"
    }
   ],
   "source": [
    "new_df.shape"
   ]
  },
  {
   "cell_type": "code",
   "execution_count": 32,
   "id": "b1fbf6c6",
   "metadata": {},
   "outputs": [],
   "source": [
    "## for the lot area"
   ]
  },
  {
   "cell_type": "code",
   "execution_count": 34,
   "id": "925a2a33",
   "metadata": {},
   "outputs": [],
   "source": [
    "q1_lr =df['LotArea'].quantile(0.25)\n",
    "\n",
    "q3_lr =df['LotArea'].quantile(0.75)\n",
    "\n",
    "IQR_lr =q3_lr-q1_lr\n"
   ]
  },
  {
   "cell_type": "code",
   "execution_count": 126,
   "id": "099bdfca",
   "metadata": {},
   "outputs": [
    {
     "name": "stdout",
     "output_type": "stream",
     "text": [
      "Upper whisker using Lot Area: 220072.0\n",
      "Lower whisker using Lot Area: 123903.0\n"
     ]
    }
   ],
   "source": [
    "lower_whisker_lr = q1 - (1.5*IQR_lr)\n",
    "upper_whisker_lr = q3 + (1.5*IQR_lr)\n",
    "print('Upper whisker using Lot Area:',upper_whisker_lr)\n",
    "print('Lower whisker using Lot Area:',lower_whisker_lr)"
   ]
  },
  {
   "cell_type": "code",
   "execution_count": 45,
   "id": "ff0b8526",
   "metadata": {},
   "outputs": [],
   "source": [
    "new_df2=  df[((df['LotArea']>lower_whisker) & (df['LotArea']<upper_whisker))]"
   ]
  },
  {
   "cell_type": "code",
   "execution_count": 46,
   "id": "b073fa25",
   "metadata": {},
   "outputs": [
    {
     "data": {
      "text/plain": [
       "(1369, 2)"
      ]
     },
     "execution_count": 46,
     "metadata": {},
     "output_type": "execute_result"
    }
   ],
   "source": [
    "new_df2.shape"
   ]
  },
  {
   "cell_type": "code",
   "execution_count": 49,
   "id": "6d79cba9",
   "metadata": {},
   "outputs": [],
   "source": [
    "new_df2=  new_df[((new_df['LotArea']>lower_whisker) & (new_df['LotArea']<upper_whisker))]"
   ]
  },
  {
   "cell_type": "code",
   "execution_count": 50,
   "id": "f06a1c03",
   "metadata": {},
   "outputs": [
    {
     "data": {
      "text/plain": [
       "(1308, 2)"
      ]
     },
     "execution_count": 50,
     "metadata": {},
     "output_type": "execute_result"
    }
   ],
   "source": [
    "new_df2.shape    #1339   make some correction"
   ]
  },
  {
   "cell_type": "code",
   "execution_count": 58,
   "id": "ae6ecda8",
   "metadata": {},
   "outputs": [
    {
     "data": {
      "image/png": "[encoded data removed]",
      "text/plain": [
       "<Figure size 640x480 with 1 Axes>"
      ]
     },
     "metadata": {},
     "output_type": "display_data"
    }
   ],
   "source": [
    "import matplotlib.pyplot as plt\n",
    "plt.boxplot(df['LotArea'],vert=False)\n",
    "plt.xlabel('Lot area')\n",
    "plt.ylabel('Value')\n",
    "plt.title('Box plot of house price based on Lot area')\n",
    "plt.show()"
   ]
  },
  {
   "cell_type": "code",
   "execution_count": 60,
   "id": "a6d7bb7c",
   "metadata": {},
   "outputs": [
    {
     "data": {
      "image/png": "[encoded data removed]",
      "text/plain": [
       "<Figure size 640x480 with 1 Axes>"
      ]
     },
     "metadata": {},
     "output_type": "display_data"
    }
   ],
   "source": [
    "plt.boxplot(df['SalePrice'])\n",
    "plt.xlabel('Lot area')\n",
    "plt.ylabel('Sale Price')\n",
    "plt.title('Box plot of house price based on Sales Price')\n",
    "plt.show()"
   ]
  },
  {
   "cell_type": "code",
   "execution_count": 61,
   "id": "dbf26c10",
   "metadata": {},
   "outputs": [],
   "source": [
    "# use only the box plot to show the outliers"
   ]
  },
  {
   "cell_type": "code",
   "execution_count": 62,
   "id": "b263cf2f",
   "metadata": {},
   "outputs": [
    {
     "data": {
      "text/plain": [
       "<Axes: >"
      ]
     },
     "execution_count": 62,
     "metadata": {},
     "output_type": "execute_result"
    },
    {
     "data": {
      "image/png": "[encoded data removed]",
      "text/plain": [
       "<Figure size 640x480 with 1 Axes>"
      ]
     },
     "metadata": {},
     "output_type": "display_data"
    }
   ],
   "source": [
    "df['SalePrice'].hist()"
   ]
  },
  {
   "cell_type": "code",
   "execution_count": 65,
   "id": "2fbf9eb1",
   "metadata": {},
   "outputs": [
    {
     "data": {
      "text/plain": [
       "Text(0, 0.5, 'Sales Price')"
      ]
     },
     "execution_count": 65,
     "metadata": {},
     "output_type": "execute_result"
    },
    {
     "data": {
      "image/png": "[encoded data removed]",
      "text/plain": [
       "<Figure size 1000x600 with 1 Axes>"
      ]
     },
     "metadata": {},
     "output_type": "display_data"
    }
   ],
   "source": [
    "fig, ax = plt.subplots(figsize=(10,6))\n",
    "ax.scatter(df['LotArea'],df['SalePrice'])\n",
    "ax.set_xlabel('Lot area')\n",
    "ax.set_ylabel('Sales Price')\n"
   ]
  },
  {
   "cell_type": "code",
   "execution_count": 66,
   "id": "b58ed2e3",
   "metadata": {},
   "outputs": [],
   "source": [
    "#outlier treatments"
   ]
  },
  {
   "cell_type": "code",
   "execution_count": 67,
   "id": "b38f27c5",
   "metadata": {},
   "outputs": [],
   "source": [
    "#1. flooring and capping\n",
    "#2. trimming\n",
    "#3. Logarithims"
   ]
  },
  {
   "cell_type": "code",
   "execution_count": 83,
   "id": "851602cd",
   "metadata": {},
   "outputs": [
    {
     "name": "stdout",
     "output_type": "stream",
     "text": [
      "Floor: 62150.517700000004\n",
      "Cap: 442567.01000000053\n"
     ]
    }
   ],
   "source": [
    "floor = (df['SalePrice'].quantile(0.01))\n",
    "cap = (df['SalePrice'].quantile(0.99))\n",
    "print('Floor:',floor)\n",
    "print('Cap:',cap)"
   ]
  },
  {
   "cell_type": "code",
   "execution_count": 84,
   "id": "10b4b16d",
   "metadata": {},
   "outputs": [],
   "source": [
    "import numpy as np\n",
    "df1 = df.copy()"
   ]
  },
  {
   "cell_type": "code",
   "execution_count": 85,
   "id": "52c3b8df",
   "metadata": {},
   "outputs": [],
   "source": [
    "df1['SalePrice'] =np.where(df1['SalePrice']<floor,floor,df1['SalePrice'])\n",
    "df1['SalePrice'] =np.where(df1['SalePrice']>cap,cap,df1['SalePrice'])"
   ]
  },
  {
   "cell_type": "code",
   "execution_count": 86,
   "id": "0e5da20e",
   "metadata": {},
   "outputs": [
    {
     "data": {
      "text/plain": [
       "{'whiskers': [<matplotlib.lines.Line2D at 0x1f1fda31a10>,\n",
       "  <matplotlib.lines.Line2D at 0x1f1fda33550>],\n",
       " 'caps': [<matplotlib.lines.Line2D at 0x1f1fda38890>,\n",
       "  <matplotlib.lines.Line2D at 0x1f1fda3a250>],\n",
       " 'boxes': [<matplotlib.lines.Line2D at 0x1f1fda30890>],\n",
       " 'medians': [<matplotlib.lines.Line2D at 0x1f1fda3b3d0>],\n",
       " 'fliers': [<matplotlib.lines.Line2D at 0x1f1fd9fe150>],\n",
       " 'means': []}"
      ]
     },
     "execution_count": 86,
     "metadata": {},
     "output_type": "execute_result"
    },
    {
     "data": {
      "image/png": "[encoded data removed]",
      "text/plain": [
       "<Figure size 640x480 with 1 Axes>"
      ]
     },
     "metadata": {},
     "output_type": "display_data"
    }
   ],
   "source": [
    "plt.boxplot(df['SalePrice'])"
   ]
  },
  {
   "cell_type": "code",
   "execution_count": 96,
   "id": "c31acbea",
   "metadata": {},
   "outputs": [
    {
     "data": {
      "text/plain": [
       "{'whiskers': [<matplotlib.lines.Line2D at 0x1f1fee4d690>,\n",
       "  <matplotlib.lines.Line2D at 0x1f1feea14d0>],\n",
       " 'caps': [<matplotlib.lines.Line2D at 0x1f1fdc5c710>,\n",
       "  <matplotlib.lines.Line2D at 0x1f1fdc5fbd0>],\n",
       " 'boxes': [<matplotlib.lines.Line2D at 0x1f1fee408d0>],\n",
       " 'medians': [<matplotlib.lines.Line2D at 0x1f1fd8d4210>],\n",
       " 'fliers': [<matplotlib.lines.Line2D at 0x1f1fdb34e10>],\n",
       " 'means': []}"
      ]
     },
     "execution_count": 96,
     "metadata": {},
     "output_type": "execute_result"
    },
    {
     "data": {
      "image/png": "[encoded data removed]",
      "text/plain": [
       "<Figure size 640x480 with 1 Axes>"
      ]
     },
     "metadata": {},
     "output_type": "display_data"
    }
   ],
   "source": [
    "plt.boxplot(df1['SalePrice'])"
   ]
  },
  {
   "cell_type": "code",
   "execution_count": 97,
   "id": "ba7d6f97",
   "metadata": {},
   "outputs": [],
   "source": [
    "#this is not as bad as above one"
   ]
  },
  {
   "cell_type": "code",
   "execution_count": 98,
   "id": "664c0a37",
   "metadata": {},
   "outputs": [
    {
     "data": {
      "text/plain": [
       "'if we change floor by 0.10 and cap by 0.90 we can see no outliers  can see bt changing above floor and cap and re run \\nthe code'"
      ]
     },
     "execution_count": 98,
     "metadata": {},
     "output_type": "execute_result"
    }
   ],
   "source": [
    "\"\"\"if we change floor by 0.10 and cap by 0.90 we can see no outliers  can see bt changing above floor and cap and re run \n",
    "the code\"\"\""
   ]
  },
  {
   "cell_type": "code",
   "execution_count": 99,
   "id": "c570bf4e",
   "metadata": {},
   "outputs": [],
   "source": [
    "#Trimming"
   ]
  },
  {
   "cell_type": "code",
   "execution_count": 102,
   "id": "1532bf0d",
   "metadata": {},
   "outputs": [],
   "source": [
    "df2 = df.copy()"
   ]
  },
  {
   "cell_type": "code",
   "execution_count": 104,
   "id": "79dff082",
   "metadata": {},
   "outputs": [
    {
     "name": "stdout",
     "output_type": "stream",
     "text": [
      "Number of records in the table: (1460, 2)\n"
     ]
    }
   ],
   "source": [
    "print('Number of records in the table:',df2.shape)\n"
   ]
  },
  {
   "cell_type": "code",
   "execution_count": 108,
   "id": "ee12a678",
   "metadata": {},
   "outputs": [
    {
     "data": {
      "text/html": [
       "<div>\n",
       "<style scoped>\n",
       "    .dataframe tbody tr th:only-of-type {\n",
       "        vertical-align: middle;\n",
       "    }\n",
       "\n",
       "    .dataframe tbody tr th {\n",
       "        vertical-align: top;\n",
       "    }\n",
       "\n",
       "    .dataframe thead th {\n",
       "        text-align: right;\n",
       "    }\n",
       "</style>\n",
       "<table border=\"1\" class=\"dataframe\">\n",
       "  <thead>\n",
       "    <tr style=\"text-align: right;\">\n",
       "      <th></th>\n",
       "      <th>LotArea</th>\n",
       "      <th>SalePrice</th>\n",
       "    </tr>\n",
       "  </thead>\n",
       "  <tbody>\n",
       "    <tr>\n",
       "      <th>0</th>\n",
       "      <td>8450</td>\n",
       "      <td>208500.0</td>\n",
       "    </tr>\n",
       "    <tr>\n",
       "      <th>1</th>\n",
       "      <td>9600</td>\n",
       "      <td>181500.0</td>\n",
       "    </tr>\n",
       "    <tr>\n",
       "      <th>2</th>\n",
       "      <td>11250</td>\n",
       "      <td>223500.0</td>\n",
       "    </tr>\n",
       "    <tr>\n",
       "      <th>3</th>\n",
       "      <td>9550</td>\n",
       "      <td>140000.0</td>\n",
       "    </tr>\n",
       "    <tr>\n",
       "      <th>4</th>\n",
       "      <td>14260</td>\n",
       "      <td>250000.0</td>\n",
       "    </tr>\n",
       "  </tbody>\n",
       "</table>\n",
       "</div>"
      ],
      "text/plain": [
       "   LotArea  SalePrice\n",
       "0     8450   208500.0\n",
       "1     9600   181500.0\n",
       "2    11250   223500.0\n",
       "3     9550   140000.0\n",
       "4    14260   250000.0"
      ]
     },
     "execution_count": 108,
     "metadata": {},
     "output_type": "execute_result"
    }
   ],
   "source": [
    "df2.head()"
   ]
  },
  {
   "cell_type": "code",
   "execution_count": 118,
   "id": "8a264edb",
   "metadata": {},
   "outputs": [],
   "source": [
    "index= df2[(df2['SalePrice']>upper_whisker) |\n",
    "          (df2['SalePrice']<lower_whisker)].index"
   ]
  },
  {
   "cell_type": "code",
   "execution_count": 121,
   "id": "c7fee3c5",
   "metadata": {},
   "outputs": [
    {
     "data": {
      "text/plain": [
       "(61,)"
      ]
     },
     "execution_count": 121,
     "metadata": {},
     "output_type": "execute_result"
    }
   ],
   "source": [
    "index.shape"
   ]
  },
  {
   "cell_type": "code",
   "execution_count": 127,
   "id": "5bcbda90",
   "metadata": {},
   "outputs": [],
   "source": [
    "# index_lot= df2[(df2['LotArea']>upper_whisker_lr) |\n",
    "#           (df2['LotArea']<lower_whisker_lr)].index"
   ]
  },
  {
   "cell_type": "code",
   "execution_count": 129,
   "id": "e95cb2e2",
   "metadata": {},
   "outputs": [
    {
     "data": {
      "text/plain": [
       "(1457,)"
      ]
     },
     "execution_count": 129,
     "metadata": {},
     "output_type": "execute_result"
    }
   ],
   "source": [
    "# index_lot.shape"
   ]
  },
  {
   "cell_type": "code",
   "execution_count": 130,
   "id": "6b6d0999",
   "metadata": {},
   "outputs": [],
   "source": [
    "# Log Transformation"
   ]
  },
  {
   "cell_type": "code",
   "execution_count": 132,
   "id": "e904c10b",
   "metadata": {},
   "outputs": [
    {
     "name": "stdout",
     "output_type": "stream",
     "text": [
      "1.904\n"
     ]
    }
   ],
   "source": [
    "print(df['SalePrice'].skew().round(3))"
   ]
  },
  {
   "cell_type": "code",
   "execution_count": 133,
   "id": "fc9b154e",
   "metadata": {},
   "outputs": [
    {
     "name": "stdout",
     "output_type": "stream",
     "text": [
      "0.28\n"
     ]
    }
   ],
   "source": [
    "df['log_scale'] =df['SalePrice'].map(lambda i : np.log(i) if i>0 else 0)   #in place of map we can use apply as well\n",
    "print(df['log_scale'].skew().round(2))"
   ]
  },
  {
   "cell_type": "code",
   "execution_count": 144,
   "id": "d40fc3be",
   "metadata": {},
   "outputs": [
    {
     "data": {
      "text/plain": [
       "Text(0, 0.5, 'Frequency')"
      ]
     },
     "execution_count": 144,
     "metadata": {},
     "output_type": "execute_result"
    },
    {
     "data": {
      "image/png": "[encoded data removed]",
      "text/plain": [
       "<Figure size 640x480 with 1 Axes>"
      ]
     },
     "metadata": {},
     "output_type": "display_data"
    }
   ],
   "source": [
    "df['SalePrice'].hist(bins=55)\n",
    "plt.xlabel('Sale Price')\n",
    "plt.ylabel('Frequency')\n"
   ]
  },
  {
   "cell_type": "code",
   "execution_count": 142,
   "id": "e93fe0ff",
   "metadata": {},
   "outputs": [
    {
     "data": {
      "text/plain": [
       "Text(0, 0.5, 'Frequency')"
      ]
     },
     "execution_count": 142,
     "metadata": {},
     "output_type": "execute_result"
    },
    {
     "data": {
      "image/png": "[encoded data removed]",
      "text/plain": [
       "<Figure size 640x480 with 1 Axes>"
      ]
     },
     "metadata": {},
     "output_type": "display_data"
    }
   ],
   "source": [
    "df['log_scale'].hist(bins=55)\n",
    "plt.xlabel('Sale Price in log')\n",
    "plt.ylabel('Frequency')"
   ]
  },
  {
   "cell_type": "code",
   "execution_count": 145,
   "id": "3f2ae772",
   "metadata": {},
   "outputs": [],
   "source": [
    "#Discretization"
   ]
  },
  {
   "cell_type": "code",
   "execution_count": 172,
   "id": "3e9ab9ed",
   "metadata": {},
   "outputs": [],
   "source": [
    "import numpy as np\n",
    "from sklearn.preprocessing import Binarizer"
   ]
  },
  {
   "cell_type": "code",
   "execution_count": 180,
   "id": "bffaa927",
   "metadata": {},
   "outputs": [],
   "source": [
    "age = np.array([\n",
    "    [30],\n",
    "    [6],\n",
    "    [12],\n",
    "    [20],\n",
    "    [36],\n",
    "    [65]]\n",
    ")"
   ]
  },
  {
   "cell_type": "code",
   "execution_count": 181,
   "id": "a6093c08",
   "metadata": {},
   "outputs": [],
   "source": [
    "binarizer = Binarizer(threshold=18)"
   ]
  },
  {
   "cell_type": "code",
   "execution_count": 182,
   "id": "a59b2720",
   "metadata": {},
   "outputs": [
    {
     "data": {
      "text/plain": [
       "array([[1],\n",
       "       [0],\n",
       "       [0],\n",
       "       [1],\n",
       "       [1],\n",
       "       [1]])"
      ]
     },
     "execution_count": 182,
     "metadata": {},
     "output_type": "execute_result"
    }
   ],
   "source": [
    "binarizer.fit_transform(age)"
   ]
  },
  {
   "cell_type": "code",
   "execution_count": 183,
   "id": "7deeeb90",
   "metadata": {},
   "outputs": [
    {
     "data": {
      "text/plain": [
       "array([[2],\n",
       "       [0],\n",
       "       [0],\n",
       "       [1],\n",
       "       [2],\n",
       "       [3]], dtype=int64)"
      ]
     },
     "execution_count": 183,
     "metadata": {},
     "output_type": "execute_result"
    }
   ],
   "source": [
    "np.digitize(age,bins=[20,30,64])"
   ]
  },
  {
   "cell_type": "code",
   "execution_count": null,
   "id": "215232dc",
   "metadata": {},
   "outputs": [],
   "source": []
  },
  {
   "cell_type": "code",
   "execution_count": null,
   "id": "2d901aec",
   "metadata": {},
   "outputs": [],
   "source": []
  }
 ],
 "metadata": {
  "kernelspec": {
   "display_name": "Python 3 (ipykernel)",
   "language": "python",
   "name": "python3"
  },
  "language_info": {
   "codemirror_mode": {
    "name": "ipython",
    "version": 3
   },
   "file_extension": ".py",
   "mimetype": "text/x-python",
   "name": "python",
   "nbconvert_exporter": "python",
   "pygments_lexer": "ipython3",
   "version": "3.11.3"
  }
 },
 "nbformat": 4,
 "nbformat_minor": 5
}
