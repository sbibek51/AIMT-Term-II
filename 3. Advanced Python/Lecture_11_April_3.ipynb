{
 "cells": [
  {
   "cell_type": "code",
   "execution_count": 29,
   "id": "9ec7d5a8",
   "metadata": {},
   "outputs": [],
   "source": [
    "# Bibek Shiwakoti\n",
    "import matplotlib.pyplot as plt\n",
    "import seaborn as sns"
   ]
  },
  {
   "cell_type": "markdown",
   "id": "f36b714e",
   "metadata": {},
   "source": [
    "### Lecture 9: Implementing linear regression using python"
   ]
  },
  {
   "cell_type": "markdown",
   "id": "e08a9cda",
   "metadata": {},
   "source": [
    "- Residual sum square (RSS) also called min sum square error\n",
    "- Y= B0 + B1X1 + B2X2 +....+ BnXn + e"
   ]
  },
  {
   "cell_type": "markdown",
   "id": "89296150",
   "metadata": {},
   "source": [
    "### Import and fitting a linear model"
   ]
  },
  {
   "cell_type": "code",
   "execution_count": 4,
   "id": "0804e322",
   "metadata": {},
   "outputs": [],
   "source": [
    "import pandas as pd\n",
    "import numpy as np\n",
    "from sklearn.linear_model import LinearRegression, Ridge, Lasso\n",
    "from sklearn.preprocessing import PolynomialFeatures\n",
    "from sklearn.datasets import fetch_california_housing\n",
    "from sklearn.metrics import r2_score, mean_squared_error\n",
    "from sklearn.model_selection import train_test_split\n",
    "\n",
    "import math"
   ]
  },
  {
   "cell_type": "code",
   "execution_count": 7,
   "id": "4963012d",
   "metadata": {},
   "outputs": [
    {
     "name": "stdout",
     "output_type": "stream",
     "text": [
      "<class 'sklearn.utils._bunch.Bunch'>\n",
      "[4.526 3.585 3.521 ... 0.923 0.847 0.894]\n"
     ]
    }
   ],
   "source": [
    "housing = fetch_california_housing()\n",
    "print(type(housing))\n",
    "print(housing.target)"
   ]
  },
  {
   "cell_type": "code",
   "execution_count": 15,
   "id": "ed9faa57",
   "metadata": {},
   "outputs": [],
   "source": [
    "data = housing.data[:,0:2]"
   ]
  },
  {
   "cell_type": "code",
   "execution_count": 16,
   "id": "f69e399d",
   "metadata": {},
   "outputs": [],
   "source": [
    "target = housing.target"
   ]
  },
  {
   "cell_type": "code",
   "execution_count": 10,
   "id": "c1ad725d",
   "metadata": {},
   "outputs": [
    {
     "name": "stdout",
     "output_type": "stream",
     "text": [
      "(20640, 3)\n"
     ]
    }
   ],
   "source": [
    "df = pd.DataFrame(data,columns = ['Feature0','Feature1'])\n",
    "df['target'] = housing.target\n",
    "print(df.shape)"
   ]
  },
  {
   "cell_type": "code",
   "execution_count": 11,
   "id": "ccd1923e",
   "metadata": {},
   "outputs": [
    {
     "data": {
      "text/html": [
       "<div>\n",
       "<style scoped>\n",
       "    .dataframe tbody tr th:only-of-type {\n",
       "        vertical-align: middle;\n",
       "    }\n",
       "\n",
       "    .dataframe tbody tr th {\n",
       "        vertical-align: top;\n",
       "    }\n",
       "\n",
       "    .dataframe thead th {\n",
       "        text-align: right;\n",
       "    }\n",
       "</style>\n",
       "<table border=\"1\" class=\"dataframe\">\n",
       "  <thead>\n",
       "    <tr style=\"text-align: right;\">\n",
       "      <th></th>\n",
       "      <th>Feature0</th>\n",
       "      <th>Feature1</th>\n",
       "      <th>target</th>\n",
       "    </tr>\n",
       "  </thead>\n",
       "  <tbody>\n",
       "    <tr>\n",
       "      <th>0</th>\n",
       "      <td>8.3252</td>\n",
       "      <td>41.0</td>\n",
       "      <td>4.526</td>\n",
       "    </tr>\n",
       "  </tbody>\n",
       "</table>\n",
       "</div>"
      ],
      "text/plain": [
       "   Feature0  Feature1  target\n",
       "0    8.3252      41.0   4.526"
      ]
     },
     "execution_count": 11,
     "metadata": {},
     "output_type": "execute_result"
    }
   ],
   "source": [
    "df.head(1)"
   ]
  },
  {
   "cell_type": "code",
   "execution_count": 17,
   "id": "370143e2",
   "metadata": {},
   "outputs": [
    {
     "data": {
      "text/html": [
       "<div>\n",
       "<style scoped>\n",
       "    .dataframe tbody tr th:only-of-type {\n",
       "        vertical-align: middle;\n",
       "    }\n",
       "\n",
       "    .dataframe tbody tr th {\n",
       "        vertical-align: top;\n",
       "    }\n",
       "\n",
       "    .dataframe thead th {\n",
       "        text-align: right;\n",
       "    }\n",
       "</style>\n",
       "<table border=\"1\" class=\"dataframe\">\n",
       "  <thead>\n",
       "    <tr style=\"text-align: right;\">\n",
       "      <th></th>\n",
       "      <th>Feature0</th>\n",
       "      <th>Feature1</th>\n",
       "      <th>target</th>\n",
       "    </tr>\n",
       "  </thead>\n",
       "  <tbody>\n",
       "    <tr>\n",
       "      <th>count</th>\n",
       "      <td>20640.000000</td>\n",
       "      <td>20640.000000</td>\n",
       "      <td>20640.000000</td>\n",
       "    </tr>\n",
       "    <tr>\n",
       "      <th>mean</th>\n",
       "      <td>3.870671</td>\n",
       "      <td>28.639486</td>\n",
       "      <td>2.068558</td>\n",
       "    </tr>\n",
       "    <tr>\n",
       "      <th>std</th>\n",
       "      <td>1.899822</td>\n",
       "      <td>12.585558</td>\n",
       "      <td>1.153956</td>\n",
       "    </tr>\n",
       "    <tr>\n",
       "      <th>min</th>\n",
       "      <td>0.499900</td>\n",
       "      <td>1.000000</td>\n",
       "      <td>0.149990</td>\n",
       "    </tr>\n",
       "    <tr>\n",
       "      <th>25%</th>\n",
       "      <td>2.563400</td>\n",
       "      <td>18.000000</td>\n",
       "      <td>1.196000</td>\n",
       "    </tr>\n",
       "    <tr>\n",
       "      <th>50%</th>\n",
       "      <td>3.534800</td>\n",
       "      <td>29.000000</td>\n",
       "      <td>1.797000</td>\n",
       "    </tr>\n",
       "    <tr>\n",
       "      <th>75%</th>\n",
       "      <td>4.743250</td>\n",
       "      <td>37.000000</td>\n",
       "      <td>2.647250</td>\n",
       "    </tr>\n",
       "    <tr>\n",
       "      <th>max</th>\n",
       "      <td>15.000100</td>\n",
       "      <td>52.000000</td>\n",
       "      <td>5.000010</td>\n",
       "    </tr>\n",
       "  </tbody>\n",
       "</table>\n",
       "</div>"
      ],
      "text/plain": [
       "           Feature0      Feature1        target\n",
       "count  20640.000000  20640.000000  20640.000000\n",
       "mean       3.870671     28.639486      2.068558\n",
       "std        1.899822     12.585558      1.153956\n",
       "min        0.499900      1.000000      0.149990\n",
       "25%        2.563400     18.000000      1.196000\n",
       "50%        3.534800     29.000000      1.797000\n",
       "75%        4.743250     37.000000      2.647250\n",
       "max       15.000100     52.000000      5.000010"
      ]
     },
     "execution_count": 17,
     "metadata": {},
     "output_type": "execute_result"
    }
   ],
   "source": [
    "df.describe()"
   ]
  },
  {
   "cell_type": "code",
   "execution_count": 18,
   "id": "380caec1",
   "metadata": {},
   "outputs": [
    {
     "name": "stdout",
     "output_type": "stream",
     "text": [
      "<class 'pandas.core.frame.DataFrame'>\n",
      "RangeIndex: 20640 entries, 0 to 20639\n",
      "Data columns (total 3 columns):\n",
      " #   Column    Non-Null Count  Dtype  \n",
      "---  ------    --------------  -----  \n",
      " 0   Feature0  20640 non-null  float64\n",
      " 1   Feature1  20640 non-null  float64\n",
      " 2   target    20640 non-null  float64\n",
      "dtypes: float64(3)\n",
      "memory usage: 483.9 KB\n"
     ]
    }
   ],
   "source": [
    "df.info()"
   ]
  },
  {
   "cell_type": "code",
   "execution_count": 19,
   "id": "f63f8169",
   "metadata": {},
   "outputs": [
    {
     "data": {
      "text/plain": [
       "<Axes: >"
      ]
     },
     "execution_count": 19,
     "metadata": {},
     "output_type": "execute_result"
    },
    {
     "data": {
      "image/png": "[encoded data removed]",
      "text/plain": [
       "<Figure size 640x480 with 1 Axes>"
      ]
     },
     "metadata": {},
     "output_type": "display_data"
    }
   ],
   "source": [
    "df.boxplot()"
   ]
  },
  {
   "cell_type": "code",
   "execution_count": null,
   "id": "2aeb51e0",
   "metadata": {},
   "outputs": [],
   "source": [
    "\n",
    "# # Histograms\n",
    "# plt.figure(figsize=(10, 6))\n",
    "# plt.subplot(2, 2, 1)\n",
    "# sns.histplot(df['Feature0'], kde=True, color='blue')\n",
    "# plt.title('Feature0 Histogram')\n",
    "\n",
    "# # plt.subplot(2, 2, 2)\n",
    "# # sns.histplot(df['Feature1'], kde=True, color='green')\n",
    "# # plt.title('Feature1 Histogram')\n",
    "\n",
    "# # # Boxplots\n",
    "# # plt.subplot(2, 2, 3)\n",
    "# # sns.boxplot(x='target', y='Feature0', data=df)\n",
    "# # plt.title('Boxplot of Feature0 by target')\n",
    "\n",
    "# # plt.subplot(2, 2, 4)\n",
    "# # sns.boxplot(x='target', y='Feature1', data=df)\n",
    "# # plt.title('Boxplot of Feature1 by target')\n",
    "\n",
    "# plt.tight_layout()\n",
    "# plt.show()"
   ]
  },
  {
   "cell_type": "markdown",
   "id": "8d472b53",
   "metadata": {},
   "source": [
    "### Slitting data into train and test"
   ]
  },
  {
   "cell_type": "code",
   "execution_count": 40,
   "id": "8905f4c1",
   "metadata": {},
   "outputs": [
    {
     "name": "stdout",
     "output_type": "stream",
     "text": [
      "X shape: (20640, 2)\n",
      "y shape: (20640,)\n"
     ]
    }
   ],
   "source": [
    "X = df[['Feature0','Feature1']]\n",
    "y=df['target']\n",
    "\n",
    "print('X shape:', X.shape)\n",
    "print('y shape:', y.shape)\n",
    "\n"
   ]
  },
  {
   "cell_type": "code",
   "execution_count": 37,
   "id": "d3c1b8ed",
   "metadata": {},
   "outputs": [],
   "source": [
    "X_train, X_test, y_train, y_test = train_test_split(X,y,test_size = 0.3, random_state =42)"
   ]
  },
  {
   "cell_type": "code",
   "execution_count": 38,
   "id": "f7b361de",
   "metadata": {},
   "outputs": [
    {
     "name": "stdout",
     "output_type": "stream",
     "text": [
      "X_train.shape:  (14448, 2)\n",
      "X_test.shape:  (6192, 2)\n",
      "y_train.shape:  (14448,)\n",
      "y_test.shape:  (6192,)\n"
     ]
    }
   ],
   "source": [
    "print('X_train.shape: ', X_train.shape)\n",
    "print('X_test.shape: ', X_test.shape)\n",
    "print('y_train.shape: ', y_train.shape)\n",
    "print('y_test.shape: ', y_test.shape)"
   ]
  },
  {
   "cell_type": "markdown",
   "id": "53c8c2ac",
   "metadata": {},
   "source": [
    "train and test are necessary steps  whereas validatiaon is extra step we should be knowing what insight will given by that validation"
   ]
  },
  {
   "cell_type": "markdown",
   "id": "cf93b6ae",
   "metadata": {},
   "source": [
    "### Simple linear regression"
   ]
  },
  {
   "cell_type": "code",
   "execution_count": 41,
   "id": "a320ab7c",
   "metadata": {},
   "outputs": [],
   "source": [
    "regression = LinearRegression()\n",
    "model = regression.fit(X_train,y_train)\n",
    "\n",
    "\n",
    "y_pred_train = model.predict(X_train)\n",
    "y_pred_test = model.predict(X_test)"
   ]
  },
  {
   "cell_type": "markdown",
   "id": "04ee661f",
   "metadata": {},
   "source": [
    "### r2 Score train and test"
   ]
  },
  {
   "cell_type": "code",
   "execution_count": 43,
   "id": "507fac9b",
   "metadata": {},
   "outputs": [
    {
     "name": "stdout",
     "output_type": "stream",
     "text": [
      "r2_train: 0.5093\n",
      "r2_test: 0.5087\n"
     ]
    }
   ],
   "source": [
    "r2_train = r2_score(y_train, y_pred_train)\n",
    "print('r2_train:', r2_train.round(4))\n",
    "\n",
    "r2_test = r2_score(y_test, y_pred_test)\n",
    "print('r2_test:', r2_test.round(4))"
   ]
  },
  {
   "cell_type": "markdown",
   "id": "18cf01f2",
   "metadata": {},
   "source": [
    "### RMSE"
   ]
  },
  {
   "cell_type": "code",
   "execution_count": 53,
   "id": "543dc9e2",
   "metadata": {},
   "outputs": [
    {
     "name": "stdout",
     "output_type": "stream",
     "text": [
      "RMSE_train: 0.811\n",
      "RMSE_test: 0.803\n"
     ]
    }
   ],
   "source": [
    "RMSE_train = math.sqrt(mean_squared_error(y_train,y_pred_train))\n",
    "print('RMSE_train:',round(RMSE_train,3))\n",
    "\n",
    "RMSE_test = math.sqrt(mean_squared_error(y_test,y_pred_test))\n",
    "print('RMSE_test:', round(RMSE_test,3))"
   ]
  },
  {
   "cell_type": "code",
   "execution_count": 54,
   "id": "a81fa7d6",
   "metadata": {},
   "outputs": [
    {
     "data": {
      "text/plain": [
       "-0.10299578449607028"
      ]
     },
     "execution_count": 54,
     "metadata": {},
     "output_type": "execute_result"
    }
   ],
   "source": [
    "model.intercept_"
   ]
  },
  {
   "cell_type": "code",
   "execution_count": 55,
   "id": "1631fdf8",
   "metadata": {},
   "outputs": [
    {
     "data": {
      "text/plain": [
       "array([0.43176259, 0.01743944])"
      ]
     },
     "execution_count": 55,
     "metadata": {},
     "output_type": "execute_result"
    }
   ],
   "source": [
    "model.coef_"
   ]
  },
  {
   "cell_type": "markdown",
   "id": "b8d23d67",
   "metadata": {},
   "source": [
    "### Features Interection"
   ]
  },
  {
   "cell_type": "code",
   "execution_count": 65,
   "id": "f5859159",
   "metadata": {},
   "outputs": [
    {
     "name": "stdout",
     "output_type": "stream",
     "text": [
      "X_train shape: (14448, 3)\n",
      "X_test shape: (6192, 3)\n",
      "y_train shape: (14448,)\n",
      "y_test shape: (6192,)\n",
      "how the features looks like letus print:\n",
      "\n"
     ]
    },
    {
     "data": {
      "text/plain": [
       "array([[  2.8631,  20.    ,  57.262 ],\n",
       "       [  4.2026,  24.    , 100.8624],\n",
       "       [  3.1094,  14.    ,  43.5316]])"
      ]
     },
     "execution_count": 65,
     "metadata": {},
     "output_type": "execute_result"
    }
   ],
   "source": [
    "interaction = PolynomialFeatures(degree =3, include_bias = False, interaction_only =True)\n",
    "features_interaction   = interaction.fit_transform(X)\n",
    "X_train, X_test, y_train, Y_test = train_test_split(features_interaction, y, test_size=0.3,random_state=42)\n",
    "\n",
    "\n",
    "\n",
    "print('X_train shape:', X_train.shape)\n",
    "print('X_test shape:', X_test.shape)\n",
    "print('y_train shape:', y_train.shape)\n",
    "print('y_test shape:', y_test.shape)\n",
    "\n",
    "\n",
    "print('how the features looks like letus print:\\n')\n",
    "X_train[1:4]"
   ]
  },
  {
   "cell_type": "markdown",
   "id": "d71d62e5",
   "metadata": {},
   "source": [
    "### Polynomial features"
   ]
  },
  {
   "cell_type": "code",
   "execution_count": 66,
   "id": "a7a5a1f0",
   "metadata": {},
   "outputs": [
    {
     "data": {
      "text/plain": [
       "array([8.32520000e+00, 4.10000000e+01, 6.93089550e+01, 3.41333200e+02,\n",
       "       1.68100000e+03, 5.77010912e+02, 2.84166716e+03, 1.39946612e+04,\n",
       "       6.89210000e+04])"
      ]
     },
     "execution_count": 66,
     "metadata": {},
     "output_type": "execute_result"
    }
   ],
   "source": [
    "polynomial = PolynomialFeatures(degree = 3, include_bias = False)\n",
    "features_polynomial = polynomial.fit_transform(X)\n",
    "features_polynomial[0]"
   ]
  },
  {
   "cell_type": "code",
   "execution_count": 67,
   "id": "a4f44227",
   "metadata": {},
   "outputs": [
    {
     "name": "stdout",
     "output_type": "stream",
     "text": [
      "X_train shape: (14448, 9)\n",
      "X_test shape: (6192, 9)\n",
      "y_train shape: (14448,)\n",
      "y_test shape: (6192,)\n",
      "how the features looks like letus print:\n",
      "\n"
     ]
    },
    {
     "data": {
      "text/plain": [
       "array([[2.86310000e+00, 2.00000000e+01, 8.19734161e+00, 5.72620000e+01,\n",
       "        4.00000000e+02, 2.34698088e+01, 1.63946832e+02, 1.14524000e+03,\n",
       "        8.00000000e+03],\n",
       "       [4.20260000e+00, 2.40000000e+01, 1.76618468e+01, 1.00862400e+02,\n",
       "        5.76000000e+02, 7.42256772e+01, 4.23884322e+02, 2.42069760e+03,\n",
       "        1.38240000e+04],\n",
       "       [3.10940000e+00, 1.40000000e+01, 9.66836836e+00, 4.35316000e+01,\n",
       "        1.96000000e+02, 3.00628246e+01, 1.35357157e+02, 6.09442400e+02,\n",
       "        2.74400000e+03]])"
      ]
     },
     "execution_count": 67,
     "metadata": {},
     "output_type": "execute_result"
    }
   ],
   "source": [
    "X_train,X_test, y_train,Y_test = train_test_split(features_polynomial,y,test_size=0.3, random_state =42)\n",
    "print('X_train shape:', X_train.shape)\n",
    "print('X_test shape:', X_test.shape)\n",
    "print('y_train shape:', y_train.shape)\n",
    "print('y_test shape:', y_test.shape)\n",
    "\n",
    "\n",
    "print('how the features looks like letus print:\\n')\n",
    "X_train[1:4]\n",
    "\n"
   ]
  },
  {
   "cell_type": "code",
   "execution_count": 69,
   "id": "1d1611d6",
   "metadata": {},
   "outputs": [
    {
     "name": "stdout",
     "output_type": "stream",
     "text": [
      "r2_train: 0.54\n",
      "r2_test: 0.5359\n"
     ]
    }
   ],
   "source": [
    "regression = LinearRegression()\n",
    "model = regression.fit(X_train,y_train)\n",
    "y_pred_train = model.predict(X_train)\n",
    "y_pred_test = model.predict(X_test)\n",
    "r2_train = r2_score(y_train, y_pred_train)\n",
    "\n",
    "\n",
    "print('r2_train:', r2_train.round(4))\n",
    "r2_test = r2_score(y_test, y_pred_test)\n",
    "print('r2_test:', r2_test.round(4))"
   ]
  },
  {
   "cell_type": "markdown",
   "id": "51401ae4",
   "metadata": {},
   "source": [
    "## Ridge Regularization : to deal with overfitting there are three methods of regularization"
   ]
  },
  {
   "cell_type": "code",
   "execution_count": 71,
   "id": "b59ef516",
   "metadata": {},
   "outputs": [],
   "source": [
    "# if Too many features and their contribution is small then we use Ridge"
   ]
  },
  {
   "cell_type": "code",
   "execution_count": 72,
   "id": "45422e00",
   "metadata": {},
   "outputs": [],
   "source": [
    "# Alpha = 0 mean there is no regularizartion Alpha is defined the user"
   ]
  },
  {
   "cell_type": "code",
   "execution_count": 73,
   "id": "2909ed8d",
   "metadata": {},
   "outputs": [],
   "source": [
    "X = df [['Feature0','Feature1']]\n",
    "y= df['target']\n",
    "\n",
    "X_train, X_test, y_train , y_test = train_test_split(X,y, test_size= 0.3, random_state =42)"
   ]
  },
  {
   "cell_type": "code",
   "execution_count": 83,
   "id": "e947fc66",
   "metadata": {},
   "outputs": [
    {
     "name": "stdout",
     "output_type": "stream",
     "text": [
      "r2_train: 0.5093\n",
      "r2_test: 0.5087\n"
     ]
    }
   ],
   "source": [
    "regression = Ridge(alpha = 0.5)\n",
    "model = regression.fit(X_train,y_train)\n",
    "y_pred_train = model.predict(X_train)\n",
    "y_pred_test = model.predict(X_test)\n",
    "r2_train = r2_score(y_train,y_pred_train)\n",
    "\n",
    "print('r2_train:',r2_train.round(4))\n",
    "r2_test = r2_score(y_test,y_pred_test)\n",
    "print('r2_test:',r2_test.round(4))"
   ]
  },
  {
   "cell_type": "markdown",
   "id": "0593d585",
   "metadata": {},
   "source": [
    "### Lasso : it minimize the sum of the absolute values of the cofficients"
   ]
  },
  {
   "cell_type": "code",
   "execution_count": 84,
   "id": "a9c4d98f",
   "metadata": {},
   "outputs": [],
   "source": [
    "# it is good even if we have less number of features"
   ]
  },
  {
   "cell_type": "code",
   "execution_count": 85,
   "id": "83f42a2a",
   "metadata": {},
   "outputs": [
    {
     "name": "stdout",
     "output_type": "stream",
     "text": [
      "r2_train: 0.4541\n",
      "r2_test: 0.4537\n"
     ]
    }
   ],
   "source": [
    "regression = Lasso(alpha = 0.5)\n",
    "model = regression.fit(X_train,y_train)\n",
    "y_pred_train = model.predict(X_train)\n",
    "y_pred_test = model.predict(X_test)\n",
    "\n",
    "r2_train = r2_score(y_train,y_pred_train)\n",
    "print('r2_train:',r2_train.round(4))\n",
    "r2_test = r2_score(y_test,y_pred_test)\n",
    "print('r2_test:',r2_test.round(4))"
   ]
  },
  {
   "cell_type": "markdown",
   "id": "945fb0a9",
   "metadata": {},
   "source": [
    "### ElasticNet"
   ]
  },
  {
   "cell_type": "code",
   "execution_count": 87,
   "id": "80969154",
   "metadata": {},
   "outputs": [],
   "source": [
    "# 1.Ridge 2.Lasso 3.Elasticnet"
   ]
  },
  {
   "cell_type": "code",
   "execution_count": 89,
   "id": "346abe69",
   "metadata": {},
   "outputs": [
    {
     "name": "stdout",
     "output_type": "stream",
     "text": [
      "r2_train: 0.485\n",
      "r2_test: 0.4846\n"
     ]
    }
   ],
   "source": [
    "from sklearn.linear_model import ElasticNet\n",
    "\n",
    "regression = ElasticNet(alpha = 0.5)\n",
    "model = regression.fit(X_train,y_train)\n",
    "y_pred_train = model.predict(X_train)\n",
    "y_pred_test = model.predict(X_test)\n",
    "\n",
    "r2_train = r2_score(y_train,y_pred_train)\n",
    "print('r2_train:',r2_train.round(4))\n",
    "r2_test = r2_score(y_test,y_pred_test)\n",
    "print('r2_test:',r2_test.round(4))"
   ]
  },
  {
   "cell_type": "code",
   "execution_count": 90,
   "id": "93836119",
   "metadata": {},
   "outputs": [],
   "source": [
    "# take data from lecture 5 which has lot of features and run this whole pipeline"
   ]
  },
  {
   "cell_type": "markdown",
   "id": "a461ce2f",
   "metadata": {},
   "source": [
    "self discipline, self decdication , self motivation \n",
    "continuous learning is important feature "
   ]
  },
  {
   "cell_type": "code",
   "execution_count": null,
   "id": "5b7ef0f0",
   "metadata": {},
   "outputs": [],
   "source": []
  }
 ],
 "metadata": {
  "kernelspec": {
   "display_name": "Python 3 (ipykernel)",
   "language": "python",
   "name": "python3"
  },
  "language_info": {
   "codemirror_mode": {
    "name": "ipython",
    "version": 3
   },
   "file_extension": ".py",
   "mimetype": "text/x-python",
   "name": "python",
   "nbconvert_exporter": "python",
   "pygments_lexer": "ipython3",
   "version": "3.10.9"
  }
 },
 "nbformat": 4,
 "nbformat_minor": 5
}
