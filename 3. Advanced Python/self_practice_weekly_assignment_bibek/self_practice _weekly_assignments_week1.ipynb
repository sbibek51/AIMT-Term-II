{
 "cells": [
  {
   "cell_type": "code",
   "execution_count": 1,
   "id": "709fc326",
   "metadata": {},
   "outputs": [],
   "source": [
    "#Bibek Shiwakoti"
   ]
  },
  {
   "cell_type": "markdown",
   "id": "efdd2670",
   "metadata": {},
   "source": [
    "## Week1"
   ]
  },
  {
   "cell_type": "markdown",
   "id": "c19cdee7",
   "metadata": {},
   "source": [
    "Do not use any of Python functions:\n",
    "\n",
    "A-Write a Python program to check if a number is a perfect square\n",
    "\n",
    "B- Write a Python program to find a missing number from a list. \n",
    "Input : [1,2,3,4,6,7,8]\n",
    "Output : 5\n",
    "\n",
    " \n",
    "\n",
    "C- Write a Python program to find the single number in a list that doesn't occur twice.\n",
    "Input : [5, 3, 4, 3, 4]\n",
    "Output : 5"
   ]
  },
  {
   "cell_type": "markdown",
   "id": "52e874d9",
   "metadata": {},
   "source": [
    "## Q. A: Write a Python program to check if a number is a perfect square."
   ]
  },
  {
   "cell_type": "code",
   "execution_count": 5,
   "id": "26ff2a32",
   "metadata": {},
   "outputs": [
    {
     "name": "stdout",
     "output_type": "stream",
     "text": [
      "Enter a integer number:4\n",
      "given number 4 is perfect square of 2\n"
     ]
    }
   ],
   "source": [
    "#Ans \n",
    "perfect_square = False\n",
    "number = int(input('Enter a integer number:'))\n",
    "if number <0 :\n",
    "    print('you have entered a negative number:')\n",
    "    exit()\n",
    "elif number==0:\n",
    "    print('given number is 0')\n",
    "    exit()\n",
    "else:\n",
    "    flag = 1\n",
    "   \n",
    "    for i in range(flag,number):\n",
    "        if flag*flag==number:\n",
    "            print('given number {} is perfect square of {}'.format(number,flag))\n",
    "            perfect_square =True\n",
    "            exit()\n",
    "        flag+=1\n",
    "    \n",
    "\n",
    "if perfect_square==False:\n",
    "    print('given number {} is not a perfect square'.format(number))\n"
   ]
  },
  {
   "cell_type": "markdown",
   "id": "bf109578",
   "metadata": {},
   "source": [
    "## Q B- Write a Python program to find a missing number from a list. Input : [1,2,3,4,6,7,8] Output : 5"
   ]
  },
  {
   "cell_type": "code",
   "execution_count": 1,
   "id": "45bbefdf",
   "metadata": {},
   "outputs": [
    {
     "name": "stdout",
     "output_type": "stream",
     "text": [
      "Enter a sequence of integers with missing one value and  press 'e' to exit:1\n",
      "Enter a sequence of integers with missing one value and  press 'e' to exit:2\n",
      "Enter a sequence of integers with missing one value and  press 'e' to exit:3\n",
      "Enter a sequence of integers with missing one value and  press 'e' to exit:4\n",
      "Enter a sequence of integers with missing one value and  press 'e' to exit:6\n",
      "Enter a sequence of integers with missing one value and  press 'e' to exit:7\n",
      "Enter a sequence of integers with missing one value and  press 'e' to exit:e\n",
      "given list in sort order is [1, 2, 3, 4, 6, 7]\n",
      "missing number in sequence is 5\n"
     ]
    }
   ],
   "source": [
    "my_list = []\n",
    "while (True):\n",
    "    a= input('Enter a sequence of integers with missing one value and  press \\'e\\' to exit:')\n",
    "    if (a== 'e'):\n",
    "        break\n",
    "    my_list.append(int(a))\n",
    "my_list.sort()\n",
    "a=0\n",
    "print('given list in sort order is',my_list)\n",
    "for i in range (my_list[0],my_list[-1]):\n",
    "    if i == my_list[a]:\n",
    "            i+=1\n",
    "            a+=1\n",
    "    else:\n",
    "            print('missing number in sequence is',i)\n",
    "            break\n",
    "        \n",
    "    \n",
    "\n",
    "        \n",
    "    "
   ]
  },
  {
   "cell_type": "markdown",
   "id": "3199db15",
   "metadata": {},
   "source": [
    "## Q. C: Write a Python program to find the single number in a list that doesn't occur twice. Input : [5, 3, 4, 3, 4] Output : 5"
   ]
  },
  {
   "cell_type": "code",
   "execution_count": 5,
   "id": "208a3cb7",
   "metadata": {},
   "outputs": [
    {
     "name": "stdout",
     "output_type": "stream",
     "text": [
      "original list is: [5, 3, 4, 3, 4]\n",
      "created set is: {3, 4, 5}\n",
      "value in list that does not occur twice is : {5}\n"
     ]
    }
   ],
   "source": [
    "mylist= [5,3,4,3,4]\n",
    "my_set_1 = set(mylist)\n",
    "\n",
    "print('original list is:',mylist)\n",
    "print('created set is:',my_set_1)\n",
    "for i in range (len(mylist)):\n",
    "    for j in range(i+1,len(mylist)):\n",
    "        if mylist[i]==mylist[j]:\n",
    "           #print('duplicate found')\n",
    "           my_set_1.discard(mylist[i])\n",
    "print('value in list that does not occur twice is :',my_set_1)       \n",
    "    "
   ]
  },
  {
   "cell_type": "code",
   "execution_count": null,
   "id": "981f5f00",
   "metadata": {},
   "outputs": [],
   "source": []
  },
  {
   "cell_type": "code",
   "execution_count": null,
   "id": "48f220d1",
   "metadata": {},
   "outputs": [],
   "source": []
  }
 ],
 "metadata": {
  "kernelspec": {
   "display_name": "Python 3 (ipykernel)",
   "language": "python",
   "name": "python3"
  },
  "language_info": {
   "codemirror_mode": {
    "name": "ipython",
    "version": 3
   },
   "file_extension": ".py",
   "mimetype": "text/x-python",
   "name": "python",
   "nbconvert_exporter": "python",
   "pygments_lexer": "ipython3",
   "version": "3.11.3"
  }
 },
 "nbformat": 4,
 "nbformat_minor": 5
}
