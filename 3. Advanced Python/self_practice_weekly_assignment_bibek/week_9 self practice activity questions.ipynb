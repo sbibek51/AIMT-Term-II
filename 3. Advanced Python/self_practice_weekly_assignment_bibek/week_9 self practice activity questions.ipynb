{
 "cells": [
  {
   "cell_type": "markdown",
   "id": "aede626a",
   "metadata": {},
   "source": [
    "### Q1\n",
    "A phrase is a palindrome if, after converting all uppercase letters into lowercase letters and removing all non-alphanumeric characters, it reads the same forward and backward. Alphanumeric characters include letters and numbers. Given a string s, return true if it is a palindrome, or false otherwise.\n",
    "\n",
    "Example 1:\n",
    "\n",
    "Input: s = \"A man, a plan, a canal: Panama\"\n",
    "\n",
    "Output: true\n",
    "\n",
    "Explanation: \"amanaplanacanalpanama\" is a palindrome.\n",
    "\n",
    "Example 2:\n",
    "\n",
    "Input: s = \"race a car\"\n",
    "\n",
    "Output: false\n",
    "\n",
    "Explanation: \"raceacar\" is not a palindrome."
   ]
  },
  {
   "cell_type": "code",
   "execution_count": 1,
   "id": "afb0fd5f",
   "metadata": {},
   "outputs": [
    {
     "name": "stdout",
     "output_type": "stream",
     "text": [
      "True\n",
      "True\n",
      "False\n"
     ]
    }
   ],
   "source": [
    "def is_palindrome(s):\n",
    "    \n",
    "    cleaned_string = ''.join(char.lower() for char in s if char.isalnum())\n",
    "\n",
    "    \n",
    "    return cleaned_string == cleaned_string[::-1]\n",
    "\n",
    "# Test the function\n",
    "print(is_palindrome(\"A man, a plan, a canal, Panama!\"))  \n",
    "print(is_palindrome(\"racecar\"))  \n",
    "print(is_palindrome(\"hello\"))  \n"
   ]
  },
  {
   "cell_type": "markdown",
   "id": "7353800e",
   "metadata": {},
   "source": [
    "### Q2.\n",
    "Given an array nums of size n, return the majority element. The majority element is the element that appears more than ⌊n / 2⌋ times. You may assume that the majority element always exists in the array.\n",
    "\n",
    "Example 1:\n",
    "\n",
    "Input: nums = [3,2,3]\n",
    "\n",
    "Output: 3\n",
    "\n",
    "Example 2:\n",
    "\n",
    "Input: nums = [2,2,1,1,1,2,2]\n",
    "\n",
    "Output: 2"
   ]
  },
  {
   "cell_type": "code",
   "execution_count": null,
   "id": "a3e77194",
   "metadata": {},
   "outputs": [],
   "source": [
    "\n",
    "\n",
    "my_list = []\n",
    "my_dictionary = {}\n",
    "while True:\n",
    "    a = input('Enter an integer number to add to the list or (e to exit): ')\n",
    "    if a.lower() == 'e':\n",
    "        break\n",
    "    else:\n",
    "        my_list.append(a)\n",
    "\n",
    "print('Given list is:', my_list)\n",
    "\n",
    "# Counting the occurrences of each element in the list\n",
    "for i in my_list:\n",
    "    my_dictionary[i] = my_dictionary.get(i, 0) + 1\n",
    "\n",
    "\n",
    "threshold = len(my_list) / 2\n",
    "\n",
    "# Finding the elements that occur more than n/2 times\n",
    "majority_elements = [key for key, value in my_dictionary.items() if value > threshold]\n",
    "\n",
    "print('Elements that occur more than n/2 times:', majority_elements)\n"
   ]
  },
  {
   "cell_type": "markdown",
   "id": "4c28042d",
   "metadata": {},
   "source": [
    "### Q3.\n",
    "Write an algorithm to determine if a number n is happy. A happy number is a number defined by the following process:\n",
    "\n",
    "Starting with any positive integer, replace the number by the sum of the squares of its digits.\n",
    "Repeat the process until the number equals 1 (where it will stay), or it loops endlessly in a cycle which does not include 1.\n",
    "Those numbers for which this process ends in 1 are happy.\n",
    "Return true if n is a happy number, and false if not.\n",
    "\n",
    " Example 1:\n",
    "\n",
    "Input: n = 19\n",
    "\n",
    "Output: true\n",
    "\n",
    "Explanation:\n",
    "\n",
    "12 + 92 = 82\n",
    "\n",
    "82 + 22 = 68\n",
    "\n",
    "62 + 82 = 100\n",
    "\n",
    "12 + 02 + 02 = 1\n",
    "\n",
    "Example 2:\n",
    "\n",
    "Input: n = 2\n",
    "\n",
    "Output: false"
   ]
  },
  {
   "cell_type": "code",
   "execution_count": 3,
   "id": "a0467c03",
   "metadata": {},
   "outputs": [
    {
     "name": "stdout",
     "output_type": "stream",
     "text": [
      "True\n",
      "False\n"
     ]
    }
   ],
   "source": [
    "\"\"\"Algorithm:\n",
    "Create a set to store the numbers seen during the process.\n",
    "While n is not equal to 1:\n",
    "Convert n to a string and iterate over its digits.\n",
    "For each digit, square it and add it to the sum.\n",
    "Update n with the sum.\n",
    "If n is already in the set, return False (indicating a cycle).\n",
    "Otherwise, add n to the set.\n",
    "If the loop terminates (i.e., n becomes 1), return True.\"\"\"\n",
    "def is_happy(n):\n",
    "    seen = set()  # Set to store seen numbers\n",
    "    while n != 1:\n",
    "        # Convert n to string, iterate over digits, square them, and sum\n",
    "        n = sum(int(digit)**2 for digit in str(n))\n",
    "        # If n is already in seen, it means there's a cycle\n",
    "        if n in seen:\n",
    "            return False\n",
    "        seen.add(n)  # Add n to the set\n",
    "    return True  # n becomes 1, so it's a happy number\n",
    "\n",
    "# Test cases\n",
    "print(is_happy(19))  # Output: True\n",
    "print(is_happy(2))   # Output: False\n"
   ]
  },
  {
   "cell_type": "markdown",
   "id": "9514c6b5",
   "metadata": {},
   "source": [
    "## Q4.\n",
    "You are given an integer array nums. We call a subset of nums good if its product can be represented as a product of one or more distinct prime numbers.\n",
    "\n",
    "For example, if nums = [1, 2, 3, 4]:\n",
    "[2, 3], [1, 2, 3], and [1, 3] are good subsets with products 6 = 2*3, 6 = 2*3, and 3 = 3 respectively.\n",
    "[1, 4] and [4] are not good subsets with products 4 = 2*2 and 4 = 2*2 respectively.\n",
    "Return the number of different good subsets in nums modulo 109 + 7.\n",
    "\n",
    "A subset of nums is any array that can be obtained by deleting some (possibly none or all) elements from nums. Two subsets are different if and only if the chosen indices to delete are different.\n",
    "\n",
    " \n",
    "\n",
    "Example 1:\n",
    "\n",
    "Input: nums = [1,2,3,4]\n",
    "Output: 6\n",
    "Explanation: The good subsets are:\n",
    "- [1,2]: product is 2, which is the product of distinct prime 2.\n",
    "- [1,2,3]: product is 6, which is the product of distinct primes 2 and 3.\n",
    "- [1,3]: product is 3, which is the product of distinct prime 3.\n",
    "- [2]: product is 2, which is the product of distinct prime 2.\n",
    "- [2,3]: product is 6, which is the product of distinct primes 2 and 3.\n",
    "- [3]: product is 3, which is the product of distinct prime 3.\n",
    "Example 2:\n",
    "\n",
    "Input: nums = [4,2,3,15]\n",
    "Output: 5\n",
    "Explanation: The good subsets are:\n",
    "- [2]: product is 2, which is the product of distinct prime 2.\n",
    "- [2,3]: product is 6, which is the product of distinct primes 2 and 3.\n",
    "- [2,15]: product is 30, which is the product of distinct primes 2, 3, and 5.\n",
    "- [3]: product is 3, which is the product of distinct prime 3.\n",
    "- [15]: product is 15, which is the product of distinct primes 3 and 5.\n"
   ]
  },
  {
   "cell_type": "code",
   "execution_count": null,
   "id": "115f991f",
   "metadata": {},
   "outputs": [],
   "source": []
  }
 ],
 "metadata": {
  "kernelspec": {
   "display_name": "Python 3 (ipykernel)",
   "language": "python",
   "name": "python3"
  },
  "language_info": {
   "codemirror_mode": {
    "name": "ipython",
    "version": 3
   },
   "file_extension": ".py",
   "mimetype": "text/x-python",
   "name": "python",
   "nbconvert_exporter": "python",
   "pygments_lexer": "ipython3",
   "version": "3.11.3"
  }
 },
 "nbformat": 4,
 "nbformat_minor": 5
}
