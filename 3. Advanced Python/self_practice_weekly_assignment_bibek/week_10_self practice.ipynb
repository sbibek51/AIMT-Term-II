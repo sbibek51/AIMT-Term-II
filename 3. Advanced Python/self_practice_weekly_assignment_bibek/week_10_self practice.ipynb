{
 "cells": [
  {
   "cell_type": "markdown",
   "id": "fdebb7cf",
   "metadata": {},
   "source": [
    "Q1) Given two non-negative integers num1 and num2 represented as strings, return the product of num1 and num2, also represented as a string.\n",
    "\n",
    "Note: You must not use any built-in BigInteger library or convert the inputs to integer directly.\n",
    "\n",
    " \n",
    "\n",
    "Example 1:\n",
    "\n",
    "Input: num1 = \"2\", num2 = \"3\"\n",
    "\n",
    "Output: \"6\""
   ]
  },
  {
   "cell_type": "code",
   "execution_count": 1,
   "id": "96d2d7ba",
   "metadata": {},
   "outputs": [
    {
     "name": "stdout",
     "output_type": "stream",
     "text": [
      "1845\n"
     ]
    }
   ],
   "source": [
    "\n",
    "def multiply_strings(num1, num2):\n",
    "    if num1 == \"0\" or num2 == \"0\":\n",
    "        return \"0\"\n",
    "\n",
    "    len1, len2 = len(num1), len(num2)\n",
    "    result = [0] * (len1 + len2)\n",
    "\n",
    "    for i in range(len1 - 1, -1, -1):\n",
    "        for j in range(len2 - 1, -1, -1):\n",
    "            digit1 = int(num1[i])\n",
    "            digit2 = int(num2[j])\n",
    "            mul = digit1 * digit2\n",
    "\n",
    "            # Updating the result array considering current and previous digits\n",
    "            pos1, pos2 = i + j, i + j + 1\n",
    "            mul_sum = mul + result[pos2]\n",
    "\n",
    "            result[pos1] += mul_sum // 10\n",
    "            result[pos2] = mul_sum % 10\n",
    "\n",
    "    # Converting result list to string\n",
    "    result_str = ''.join(map(str, result))\n",
    "\n",
    "    # Removing leading zeros\n",
    "    return result_str.lstrip('0')\n",
    "\n",
    "\n",
    "# Testing the function\n",
    "num1 = \"123\"\n",
    "num2 = \"15\"\n",
    "print(multiply_strings(num1, num2))"
   ]
  },
  {
   "cell_type": "markdown",
   "id": "edbf6bd8",
   "metadata": {},
   "source": [
    "\"\"\"Q2) The count-and-say sequence is a sequence of digit strings defined by the recursive formula:\n",
    "\n",
    "countAndSay(1) = \"1\"\n",
    "countAndSay(n) is the way you would \"say\" the digit string from countAndSay(n-1), which is then converted into a different digit string.\n",
    "To determine how you \"say\" a digit string, split it into the minimal number of substrings such that each substring contains exactly one unique digit. Then for each substring, say the number of digits, then say the digit. Finally, concatenate every said digit.\n",
    "\n",
    "For example, the saying and conversion for digit string \"3322251\":\n",
    "two 3's , three 2's, one 5, and one 1\n",
    "23+32+15+11\n",
    "\"23321511\"\n",
    "\n",
    "\n",
    "Given a positive integer n, return the nth term of the count-and-say sequence.\n",
    "\"\"\""
   ]
  },
  {
   "cell_type": "code",
   "execution_count": 2,
   "id": "f2aff9c8",
   "metadata": {},
   "outputs": [
    {
     "name": "stdout",
     "output_type": "stream",
     "text": [
      "1211\n"
     ]
    }
   ],
   "source": [
    "def countAndSay(n):\n",
    "    if n == 1:\n",
    "        return \"1\"\n",
    "\n",
    "    prev = countAndSay(n - 1)\n",
    "    result = \"\"\n",
    "    count = 1\n",
    "\n",
    "    for i in range(1, len(prev)):\n",
    "        if prev[i] == prev[i - 1]:\n",
    "            count += 1\n",
    "        else:\n",
    "            result += str(count) + prev[i - 1]\n",
    "            count = 1\n",
    "\n",
    "    # Append the count and the last digit of the previous sequence\n",
    "    result += str(count) + prev[-1]\n",
    "\n",
    "    return result\n",
    "\n",
    "\n",
    "# Example usage:\n",
    "n = 4\n",
    "print(countAndSay(n))\n",
    "\n"
   ]
  },
  {
   "cell_type": "code",
   "execution_count": 3,
   "id": "9436f17f",
   "metadata": {},
   "outputs": [],
   "source": [
    "# https://www.numerade.com/ask/question/texts-problem-2-the-count-and-say-sequence-is-a-sequence-of-digit-strings-defined-by-the-recursive-formula-countandsay1-1-countandsayn-is-the-way-you-would-say-the-digit-string-from-countand-06909/"
   ]
  },
  {
   "cell_type": "code",
   "execution_count": null,
   "id": "935ccc22",
   "metadata": {},
   "outputs": [],
   "source": []
  }
 ],
 "metadata": {
  "kernelspec": {
   "display_name": "Python 3 (ipykernel)",
   "language": "python",
   "name": "python3"
  },
  "language_info": {
   "codemirror_mode": {
    "name": "ipython",
    "version": 3
   },
   "file_extension": ".py",
   "mimetype": "text/x-python",
   "name": "python",
   "nbconvert_exporter": "python",
   "pygments_lexer": "ipython3",
   "version": "3.10.9"
  }
 },
 "nbformat": 4,
 "nbformat_minor": 5
}
