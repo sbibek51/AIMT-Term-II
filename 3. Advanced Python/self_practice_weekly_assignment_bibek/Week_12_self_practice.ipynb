{
 "cells": [
  {
   "cell_type": "code",
   "execution_count": 1,
   "id": "7ba6f868",
   "metadata": {},
   "outputs": [],
   "source": [
    "# Bibek Shiwakoti"
   ]
  },
  {
   "cell_type": "markdown",
   "id": "e622f2f9",
   "metadata": {},
   "source": [
    "### Q1."
   ]
  },
  {
   "cell_type": "markdown",
   "id": "1c9dbc98",
   "metadata": {},
   "source": [
    "You are given a large integer represented as an integer array digits, where each digits[i] is the ith digit of the integer. The digits are ordered from most significant to least significant in left-to-right order. The large integer does not contain any leading 0's.\n",
    "\n",
    "Increment the large integer by one and return the resulting array of digits.\n",
    "\n",
    " Example 1:\n",
    "\n",
    "Input: digits = [1,2,3]\n",
    "\n",
    "Output: [1,2,4]\n",
    "\n",
    "Explanation: The array represents the integer 123.\n",
    "\n",
    "Incrementing by one gives 123 + 1 = 124.\n",
    "\n",
    "Thus, the result should be [1,2,4]."
   ]
  },
  {
   "cell_type": "code",
   "execution_count": null,
   "id": "b1a61a86",
   "metadata": {},
   "outputs": [],
   "source": [
    "def increment_integer(digits):\n",
    "    # Start from the least significant digit\n",
    "    for i in range(len(digits) - 1, -1, -1):\n",
    "        # Increment the current digit by 1\n",
    "        digits[i] += 1\n",
    "        # If there's no carry, return the digits\n",
    "        if digits[i] < 10:\n",
    "            return digits\n",
    "        # If there's a carry, set the current digit to 0 and continue to the next digit\n",
    "        else:\n",
    "            digits[i] = 0\n",
    "    # If we reach here, it means we have a carry after the loop\n",
    "    # Insert 1 at the beginning of the digits list\n",
    "    digits.insert(0, 1)\n",
    "    return digits\n",
    "\n",
    "# Test the function\n",
    "digits = [1, 2, 3]\n",
    "result = increment_integer(digits)\n"
   ]
  },
  {
   "cell_type": "markdown",
   "id": "39b8c17e",
   "metadata": {},
   "source": [
    "### Q2."
   ]
  },
  {
   "cell_type": "markdown",
   "id": "c0a9954f",
   "metadata": {},
   "source": [
    "Given two strings ransomNote and magazine, return true if ransomNote can be constructed by using the letters from magazine and false otherwise.\n",
    "\n",
    "Each letter in magazine can only be used once in ransomNote.\n",
    "\n",
    " Example 1:\n",
    "\n",
    "Input: ransomNote = \"a\", magazine = \"b\"\n",
    "\n",
    "Output: false\n",
    "\n",
    "Example 2:\n",
    "\n",
    "Input: ransomNote = \"aa\", magazine = \"ab\"\n",
    "\n",
    "Output: false"
   ]
  },
  {
   "cell_type": "code",
   "execution_count": null,
   "id": "4d7d5278",
   "metadata": {},
   "outputs": [],
   "source": [
    "def can_construct_ransom_note(ransomNote, magazine):\n",
    "    # Initialize a dictionary to store the frequency of each character in the magazine\n",
    "    char_freq = {}\n",
    "\n",
    "    # Populate the char_freq dictionary with the frequency of each character in the magazine\n",
    "    for char in magazine:\n",
    "        char_freq[char] = char_freq.get(char, 0) + 1\n",
    "\n",
    "    # Check if the ransom note can be constructed using the magazine clippings\n",
    "    for char in ransomNote:\n",
    "        # If the character is not present in the magazine or its frequency is 0, return False\n",
    "        if char not in char_freq or char_freq[char] == 0:\n",
    "            return False\n",
    "        # Decrement the frequency of the character in the magazine after using it in the ransom note\n",
    "        char_freq[char] -= 1\n",
    "\n",
    "    # If we reach here, it means all characters in the ransom note were found in the magazine\n",
    "    return True\n",
    "\n",
    "\n",
    "# Example usage:\n",
    "ransomNote = \"aa\"\n",
    "magazine = \"aab\"\n",
    "print(can_construct_ransom_note(ransomNote, magazine))  # Output: True\n"
   ]
  },
  {
   "cell_type": "markdown",
   "id": "47d2a6ae",
   "metadata": {},
   "source": [
    "### Q3."
   ]
  },
  {
   "cell_type": "markdown",
   "id": "0d1b7511",
   "metadata": {},
   "source": [
    "A permutation of an array of integers is an arrangement of its members into a sequence or linear order.\n",
    "\n",
    "For example, for arr = [1,2,3], the following are considered permutations of arr: [1,2,3], [1,3,2], [3,1,2], [2,3,1].\n",
    "The next permutation of an array of integers is the next lexicographically greater permutation of its integer. More formally, if all the permutations of the array are sorted in one container according to their lexicographical order, then the next permutation of that array is the permutation that follows it in the sorted container. If such arrangement is not possible, the array must be rearranged as the lowest possible order (i.e., sorted in ascending order).\n",
    "\n",
    "For example, the next permutation of arr = [1,2,3] is [1,3,2].\n",
    "Similarly, the next permutation of arr = [2,3,1] is [3,1,2].\n",
    "While the next permutation of arr = [3,2,1] is [1,2,3] because [3,2,1] does not have a lexicographical larger rearrangement.\n",
    "Given an array of integers nums, find the next permutation of nums.\n",
    "\n",
    "The replacement must be in place and use only constant extra memory.\n",
    "\n",
    " Example 1:\n",
    "\n",
    "Input: nums = [1,2,3]\n",
    "Output: [1,3,2]"
   ]
  },
  {
   "cell_type": "code",
   "execution_count": 5,
   "id": "5ae6dbe8",
   "metadata": {},
   "outputs": [
    {
     "name": "stdout",
     "output_type": "stream",
     "text": [
      "[1, 3, 2]\n"
     ]
    }
   ],
   "source": [
    "def reverse(nums, i, j):\n",
    "    while i < j:\n",
    "        nums[i], nums[j] = nums[j], nums[i]\n",
    "        i += 1\n",
    "        j -= 1\n",
    "\n",
    "\n",
    "\n",
    "\n",
    "def nextPermutation(nums):\n",
    "    # Length of the array\n",
    "    n = len(nums)\n",
    "    # Index of the first element that is smaller than\n",
    "    # the element to its right.\n",
    "    index = -1\n",
    "    # Loop from right to left\n",
    "    for i in range(n - 1, 0, -1):\n",
    "        if nums[i] > nums[i - 1]:\n",
    "            index = i - 1\n",
    "            break\n",
    "    # Base condition\n",
    "    if index == -1:\n",
    "        reverse(nums, 0, n - 1)\n",
    "        return\n",
    "    j = n - 1\n",
    "    # Again swap from right to left to find first element\n",
    "    # that is greater than the above find element\n",
    "    for i in range(n - 1, index, -1):\n",
    "        if nums[i] > nums[index]:\n",
    "            j = i\n",
    "            break\n",
    "    # Swap the elements\n",
    "    nums[index], nums[j] = nums[j], nums[index]\n",
    "    # Reverse the elements from index + 1 to the nums.length\n",
    "    reverse(nums, index + 1, n - 1)\n",
    "\n",
    "    return nums\n",
    "\n",
    "\n",
    "\n",
    "\n",
    "print(nextPermutation([1,2,3]))\n"
   ]
  },
  {
   "cell_type": "code",
   "execution_count": null,
   "id": "bad3dd6c",
   "metadata": {},
   "outputs": [],
   "source": []
  }
 ],
 "metadata": {
  "kernelspec": {
   "display_name": "Python 3 (ipykernel)",
   "language": "python",
   "name": "python3"
  },
  "language_info": {
   "codemirror_mode": {
    "name": "ipython",
    "version": 3
   },
   "file_extension": ".py",
   "mimetype": "text/x-python",
   "name": "python",
   "nbconvert_exporter": "python",
   "pygments_lexer": "ipython3",
   "version": "3.10.9"
  }
 },
 "nbformat": 4,
 "nbformat_minor": 5
}
