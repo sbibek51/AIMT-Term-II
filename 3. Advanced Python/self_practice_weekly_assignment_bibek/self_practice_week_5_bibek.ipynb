{
 "cells": [
  {
   "cell_type": "code",
   "execution_count": 1,
   "id": "f198ab37",
   "metadata": {},
   "outputs": [],
   "source": [
    "#Bibek Shiwakoti"
   ]
  },
  {
   "cell_type": "markdown",
   "id": "65eb1f30",
   "metadata": {},
   "source": [
    "## Q1. You are given a 0-indexed binary string s having an even length.\n",
    "\n",
    "A string is beautiful if it's possible to partition it into one or more substrings such that:\n",
    "\n",
    "Each substring has an even length.\n",
    "Each substring contains only 1's or only 0's.\n",
    "You can change any character in s to 0 or 1.\n",
    "\n",
    "Return the minimum number of changes required to make the string s beautiful.\n",
    "\n",
    "## Example 1:\n",
    "\n",
    "Input: s = \"1001\"\n",
    "Output: 2\n",
    "Explanation: We change s[1] to 1 and s[3] to 0 to get string \"1100\".\n",
    "It can be seen that the string \"1100\" is beautiful because we can partition it into \"11|00\".\n",
    "It can be proven that 2 is the minimum number of changes needed to make the string beautiful.\n",
    "\n",
    "## Example 2:\n",
    "\n",
    "Input: s = \"10\"\n",
    "Output: 1\n",
    "Explanation: We change s[1] to 1 to get string \"11\".\n",
    "It can be seen that the string \"11\" is beautiful because we can partition it into \"11\".\n",
    "It can be proven that 1 is the minimum number of changes needed to make the string beautiful.\n",
    "## Example 3:\n",
    "\n",
    "Input: s = \"0000\"\n",
    "Output: 0\n",
    "Explanation: We don't need to make any changes as the string \"0000\" is beautiful already."
   ]
  },
  {
   "cell_type": "code",
   "execution_count": 27,
   "id": "e6bb0590",
   "metadata": {},
   "outputs": [
    {
     "name": "stdout",
     "output_type": "stream",
     "text": [
      "Enter a binary string of even length1111\n",
      "given string is: 1111\n",
      "steps required to make beautiful string is: 0\n"
     ]
    }
   ],
   "source": [
    "count =0\n",
    "s= input('Enter a binary string of even length')\n",
    "print('given string is:',s)\n",
    "for i in range(0,len(s)-1,2):\n",
    "#     print(i)\n",
    "    if(s[i]!=s[i+1]):\n",
    "        count+=1\n",
    "print('steps required to make beautiful string is:',count)\n",
    "    \n",
    "\n",
    "\n"
   ]
  },
  {
   "cell_type": "markdown",
   "id": "bb90db85",
   "metadata": {},
   "source": [
    "## Q2  Write a Python program to find all the numbers from 0-9 from a string:\n",
    "\n",
    "input: '89ADFRE41'\n",
    "\n",
    "Output :[8941]"
   ]
  },
  {
   "cell_type": "code",
   "execution_count": 24,
   "id": "028343fd",
   "metadata": {},
   "outputs": [
    {
     "name": "stdout",
     "output_type": "stream",
     "text": [
      "Enter a sstring including digits within a string (press e to exit):bibek51\n",
      "given string is : bibek51\n",
      "digits in given string is: bibek51\n",
      "digits in string is: ['5', '1']\n",
      "Enter a sstring including digits within a string (press e to exit):medona59\n",
      "given string is : medona59\n",
      "digits in given string is: medona59\n",
      "digits in string is: ['5', '9']\n",
      "Enter a sstring including digits within a string (press e to exit):t9r675\n",
      "given string is : t9r675\n",
      "digits in given string is: t9r675\n",
      "digits in string is: ['9', '6', '7', '5']\n"
     ]
    },
    {
     "ename": "KeyboardInterrupt",
     "evalue": "Interrupted by user",
     "output_type": "error",
     "traceback": [
      "\u001b[1;31m---------------------------------------------------------------------------\u001b[0m",
      "\u001b[1;31mKeyboardInterrupt\u001b[0m                         Traceback (most recent call last)",
      "Cell \u001b[1;32mIn[24], line 3\u001b[0m\n\u001b[0;32m      1\u001b[0m digits\u001b[38;5;241m=\u001b[39m[]\n\u001b[0;32m      2\u001b[0m \u001b[38;5;28;01mwhile\u001b[39;00m (\u001b[38;5;28;01mTrue\u001b[39;00m):\n\u001b[1;32m----> 3\u001b[0m     given_string \u001b[38;5;241m=\u001b[39m \u001b[38;5;28;43minput\u001b[39;49m\u001b[43m(\u001b[49m\u001b[38;5;124;43m'\u001b[39;49m\u001b[38;5;124;43mEnter a sstring including digits within a string (press e to exit):\u001b[39;49m\u001b[38;5;124;43m'\u001b[39;49m\u001b[43m)\u001b[49m\n\u001b[0;32m      4\u001b[0m     \u001b[38;5;28;01mif\u001b[39;00m given_string\u001b[38;5;241m==\u001b[39m\u001b[38;5;124m'\u001b[39m\u001b[38;5;124me\u001b[39m\u001b[38;5;124m'\u001b[39m:\n\u001b[0;32m      5\u001b[0m         \u001b[38;5;28;01mbreak\u001b[39;00m\n",
      "File \u001b[1;32m~\\anaconda3\\lib\\site-packages\\ipykernel\\kernelbase.py:1175\u001b[0m, in \u001b[0;36mKernel.raw_input\u001b[1;34m(self, prompt)\u001b[0m\n\u001b[0;32m   1171\u001b[0m \u001b[38;5;28;01mif\u001b[39;00m \u001b[38;5;129;01mnot\u001b[39;00m \u001b[38;5;28mself\u001b[39m\u001b[38;5;241m.\u001b[39m_allow_stdin:\n\u001b[0;32m   1172\u001b[0m     \u001b[38;5;28;01mraise\u001b[39;00m StdinNotImplementedError(\n\u001b[0;32m   1173\u001b[0m         \u001b[38;5;124m\"\u001b[39m\u001b[38;5;124mraw_input was called, but this frontend does not support input requests.\u001b[39m\u001b[38;5;124m\"\u001b[39m\n\u001b[0;32m   1174\u001b[0m     )\n\u001b[1;32m-> 1175\u001b[0m \u001b[38;5;28;01mreturn\u001b[39;00m \u001b[38;5;28;43mself\u001b[39;49m\u001b[38;5;241;43m.\u001b[39;49m\u001b[43m_input_request\u001b[49m\u001b[43m(\u001b[49m\n\u001b[0;32m   1176\u001b[0m \u001b[43m    \u001b[49m\u001b[38;5;28;43mstr\u001b[39;49m\u001b[43m(\u001b[49m\u001b[43mprompt\u001b[49m\u001b[43m)\u001b[49m\u001b[43m,\u001b[49m\n\u001b[0;32m   1177\u001b[0m \u001b[43m    \u001b[49m\u001b[38;5;28;43mself\u001b[39;49m\u001b[38;5;241;43m.\u001b[39;49m\u001b[43m_parent_ident\u001b[49m\u001b[43m[\u001b[49m\u001b[38;5;124;43m\"\u001b[39;49m\u001b[38;5;124;43mshell\u001b[39;49m\u001b[38;5;124;43m\"\u001b[39;49m\u001b[43m]\u001b[49m\u001b[43m,\u001b[49m\n\u001b[0;32m   1178\u001b[0m \u001b[43m    \u001b[49m\u001b[38;5;28;43mself\u001b[39;49m\u001b[38;5;241;43m.\u001b[39;49m\u001b[43mget_parent\u001b[49m\u001b[43m(\u001b[49m\u001b[38;5;124;43m\"\u001b[39;49m\u001b[38;5;124;43mshell\u001b[39;49m\u001b[38;5;124;43m\"\u001b[39;49m\u001b[43m)\u001b[49m\u001b[43m,\u001b[49m\n\u001b[0;32m   1179\u001b[0m \u001b[43m    \u001b[49m\u001b[43mpassword\u001b[49m\u001b[38;5;241;43m=\u001b[39;49m\u001b[38;5;28;43;01mFalse\u001b[39;49;00m\u001b[43m,\u001b[49m\n\u001b[0;32m   1180\u001b[0m \u001b[43m\u001b[49m\u001b[43m)\u001b[49m\n",
      "File \u001b[1;32m~\\anaconda3\\lib\\site-packages\\ipykernel\\kernelbase.py:1217\u001b[0m, in \u001b[0;36mKernel._input_request\u001b[1;34m(self, prompt, ident, parent, password)\u001b[0m\n\u001b[0;32m   1214\u001b[0m             \u001b[38;5;28;01mbreak\u001b[39;00m\n\u001b[0;32m   1215\u001b[0m \u001b[38;5;28;01mexcept\u001b[39;00m \u001b[38;5;167;01mKeyboardInterrupt\u001b[39;00m:\n\u001b[0;32m   1216\u001b[0m     \u001b[38;5;66;03m# re-raise KeyboardInterrupt, to truncate traceback\u001b[39;00m\n\u001b[1;32m-> 1217\u001b[0m     \u001b[38;5;28;01mraise\u001b[39;00m \u001b[38;5;167;01mKeyboardInterrupt\u001b[39;00m(\u001b[38;5;124m\"\u001b[39m\u001b[38;5;124mInterrupted by user\u001b[39m\u001b[38;5;124m\"\u001b[39m) \u001b[38;5;28;01mfrom\u001b[39;00m \u001b[38;5;28mNone\u001b[39m\n\u001b[0;32m   1218\u001b[0m \u001b[38;5;28;01mexcept\u001b[39;00m \u001b[38;5;167;01mException\u001b[39;00m:\n\u001b[0;32m   1219\u001b[0m     \u001b[38;5;28mself\u001b[39m\u001b[38;5;241m.\u001b[39mlog\u001b[38;5;241m.\u001b[39mwarning(\u001b[38;5;124m\"\u001b[39m\u001b[38;5;124mInvalid Message:\u001b[39m\u001b[38;5;124m\"\u001b[39m, exc_info\u001b[38;5;241m=\u001b[39m\u001b[38;5;28;01mTrue\u001b[39;00m)\n",
      "\u001b[1;31mKeyboardInterrupt\u001b[0m: Interrupted by user"
     ]
    }
   ],
   "source": [
    "digits=[]\n",
    "while (True):\n",
    "    given_string = input('Enter a sstring including digits within a string (press e to exit):')\n",
    "    if given_string=='e':\n",
    "        break\n",
    "    else :\n",
    "        print('given string is :', given_string)\n",
    "        for i in given_string:\n",
    "            if i.isdigit():\n",
    "                digits.append(i)\n",
    "        print('digits in given string is:',given_string)\n",
    "        print('digits in string is:',digits)\n",
    "        digits.clear()\n",
    "       \n",
    "            \n",
    "    "
   ]
  },
  {
   "cell_type": "markdown",
   "id": "5777d939",
   "metadata": {},
   "source": [
    "### Q3 Write a Python program to find two elements once in a list where every element appears exactly n times in the list. \n",
    "Input : [1, 2, 1, 3, 2, 5], 2    (n=2)\n",
    "Output :[5, 3]"
   ]
  },
  {
   "cell_type": "code",
   "execution_count": 4,
   "id": "aa7e04c9",
   "metadata": {},
   "outputs": [
    {
     "name": "stdout",
     "output_type": "stream",
     "text": [
      "Enter a integer number to enter to list or (e to exit):1\n",
      "Enter a integer number to enter to list or (e to exit):1\n",
      "Enter a integer number to enter to list or (e to exit):2\n",
      "Enter a integer number to enter to list or (e to exit):2\n",
      "Enter a integer number to enter to list or (e to exit):3\n",
      "Enter a integer number to enter to list or (e to exit):4\n",
      "Enter a integer number to enter to list or (e to exit):5\n",
      "Enter a integer number to enter to list or (e to exit):e\n",
      "Given list is: ['1', '1', '2', '2', '3', '4', '5']\n",
      "value appears once is: ['3', '4', '5']\n"
     ]
    }
   ],
   "source": [
    "my_list =[]\n",
    "my_dictionary= {}\n",
    "while (True):\n",
    "    \n",
    "    \n",
    "    a= input('Enter a integer number to enter to list or (e to exit):')\n",
    "    if a.lower()=='e':\n",
    "        break\n",
    "    else:\n",
    "     my_list.append(a)\n",
    "print('Given list is:',my_list)\n",
    "for i in my_list:\n",
    "    my_dictionary[i] =my_dictionary.get(i,0)+1\n",
    "\n",
    "single_count =  [key for key,value in  my_dictionary.items() if value ==1]   #i for key looks at values so we need to use key for key to iterate here\n",
    "print('value appears once is:',single_count)\n",
    "    "
   ]
  },
  {
   "cell_type": "markdown",
   "id": "c585928e",
   "metadata": {},
   "source": [
    "## Q4 Write a Python program to reverse the digits of an integer. \n",
    "Input : 234\n",
    "Input : -234\n",
    "Output: 432\n",
    "Output : -432"
   ]
  },
  {
   "cell_type": "code",
   "execution_count": 36,
   "id": "b38c4069",
   "metadata": {},
   "outputs": [
    {
     "name": "stdout",
     "output_type": "stream",
     "text": [
      "enter a number-234\n",
      "given number is: -234\n",
      "reverse of given number is : -432\n"
     ]
    }
   ],
   "source": [
    "a = int(input('enter a number'))\n",
    "print('given number is:',a)\n",
    "\n",
    "is_negative =False\n",
    "if a<0:\n",
    "    is_negative =True\n",
    "    a = a*-1\n",
    "\n",
    "a=str(a)   \n",
    "rev_num =a[::-1]\n",
    "rev_num=int(rev_num)\n",
    "if (is_negative):\n",
    "    rev_num*=-1\n",
    "print('reverse of given number is :',rev_num)"
   ]
  },
  {
   "cell_type": "markdown",
   "id": "d80e18d8",
   "metadata": {},
   "source": [
    "## Q5 You are given three integers start, finish, and limit. You are also given a 0-indexed string s representing a positive integer.\n",
    "\n",
    "A positive integer x is called powerful if it ends with s (in other words, s is a suffix of x) and each digit in x is at most limit.\n",
    "\n",
    "Return the total number of powerful integers in the range [start..finish].\n",
    "\n",
    "A string x is a suffix of a string y if and only if x is a substring of y that starts from some index (including 0) in y and extends to the index y.length - 1. For example, 25 is a suffix of 5125 whereas 512 is not.\n",
    "\n",
    "\n",
    "\n",
    "\n",
    "## Example 1:\n",
    "\n",
    "Input: start = 1, finish = 6000, limit = 4, s = \"124\"\n",
    "Output: 5\n",
    "Explanation: The powerful integers in the range [1..6000] are 124, 1124, 2124, 3124, and, 4124. All these integers have each digit <= 4, and \"124\" as a suffix. Note that 5124 is not a powerful integer because the first digit is 5 which is greater than 4.\n",
    "It can be shown that there are only 5 powerful integers in this range.\n",
    "\n",
    "## Example 2:\n",
    "Input: start = 15, finish = 215, limit = 6, s = \"10\"\n",
    "Output: 2\n",
    "Explanation: The powerful integers in the range [15..215] are 110 and 210. All these integers have each digit <= 6, and \"10\" as a suffix.\n",
    "It can be shown that there are only 2 powerful integers in this range."
   ]
  },
  {
   "cell_type": "code",
   "execution_count": 52,
   "id": "a8c6751f",
   "metadata": {},
   "outputs": [
    {
     "name": "stdout",
     "output_type": "stream",
     "text": [
      "Enter a start value of the integer:1\n",
      "Enter a finish value of the integer:6000\n",
      "Enter a limit value of the integer:4\n",
      "enter a zero indexed string s representing a positive number:124\n",
      "start is:1 finish is:6000 limit is :4 and givenstring with index is:124:\n",
      "beautiful numbers in between is: ['124', '1124', '2124', '3124', '4124']\n"
     ]
    }
   ],
   "source": [
    "def powerful_integers(start,finish,limit,s):\n",
    "    result=[]\n",
    "    print('start is:{} finish is:{} limit is :{} and givenstring with index is:{}:'.format(start,finish,limit,s))\n",
    "    for i in range(start,finish+1):\n",
    "            i_str =str(i)\n",
    "            \n",
    "            if i_str.endswith(s) and all(int(x) <= limit for x in i_str):\n",
    "                     result.append(i_str)\n",
    "    print('beautiful numbers in between is:',result)\n",
    "            \n",
    "       \n",
    "# powerful_integers(15,215,6,'10')\n",
    "# powerful_integers(1,6000,4,'124')\n",
    "\n",
    "start = int(input('Enter a start value of the integer:'))\n",
    "finish = int(input('Enter a finish value of the integer:'))\n",
    "limit = int(input('Enter a limit value of the integer:'))\n",
    "s = input('enter a zero indexed string s representing a positive number:')\n",
    "powerful_integers(start,finish,limit,s)\n",
    "\n"
   ]
  },
  {
   "cell_type": "code",
   "execution_count": null,
   "id": "4b03b9ee",
   "metadata": {},
   "outputs": [],
   "source": []
  }
 ],
 "metadata": {
  "kernelspec": {
   "display_name": "Python 3 (ipykernel)",
   "language": "python",
   "name": "python3"
  },
  "language_info": {
   "codemirror_mode": {
    "name": "ipython",
    "version": 3
   },
   "file_extension": ".py",
   "mimetype": "text/x-python",
   "name": "python",
   "nbconvert_exporter": "python",
   "pygments_lexer": "ipython3",
   "version": "3.11.3"
  }
 },
 "nbformat": 4,
 "nbformat_minor": 5
}
