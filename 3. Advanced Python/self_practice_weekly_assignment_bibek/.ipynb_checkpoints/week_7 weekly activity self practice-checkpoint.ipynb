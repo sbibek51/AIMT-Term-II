{
 "cells": [
  {
   "cell_type": "code",
   "execution_count": 1,
   "id": "8a3673be",
   "metadata": {},
   "outputs": [],
   "source": [
    "#Bibek Shiwakoti\n",
    "#Weekly activity"
   ]
  },
  {
   "cell_type": "markdown",
   "id": "492cd504",
   "metadata": {},
   "source": [
    "## Q1 Given an integer x, return true if x is palindrome integer.\n",
    "\n",
    "An integer is a palindrome when it reads the same backward as forward.\n",
    "\n",
    "For example, 121 is a palindrome while 123 is not."
   ]
  },
  {
   "cell_type": "code",
   "execution_count": 2,
   "id": "4211b266",
   "metadata": {},
   "outputs": [
    {
     "name": "stdout",
     "output_type": "stream",
     "text": [
      "given number is 14\n",
      "reverse of given number is 41\n",
      "given number 14 is not pallindrome:\n",
      "given number is 44\n",
      "reverse of given number is 44\n",
      "given number is pallindrome as 44 and 44 are same\n",
      "given number is 54\n",
      "reverse of given number is 45\n",
      "given number 54 is not pallindrome:\n"
     ]
    }
   ],
   "source": [
    "\n",
    "def pallidrome_finder(a):\n",
    "    a=str(a)\n",
    "    rev_a =a[::-1]\n",
    "    print('given number is',a )\n",
    "    print('reverse of given number is',rev_a)\n",
    "    if (int(a)==int(rev_a)):\n",
    "        print('given number is pallindrome as {} and {} are same'.format(a,rev_a))\n",
    "    else:\n",
    "        print('given number {} is not pallindrome:'.format(a))\n",
    "\n",
    "pallidrome_finder(14)\n",
    "pallidrome_finder(44)\n",
    "pallidrome_finder(54)\n",
    "\n",
    "\n",
    "\n"
   ]
  },
  {
   "cell_type": "markdown",
   "id": "9dde017d",
   "metadata": {},
   "source": [
    "## Q2. Roman numerals are represented by seven different symbols: I, V, X, L, C, D and M.\n",
    "\n",
    "Symbol       Value\n",
    "\n",
    "I             1\n",
    "\n",
    "V             5\n",
    "\n",
    "X             10\n",
    "\n",
    "L             50\n",
    "\n",
    "C             100\n",
    "\n",
    "D             500\n",
    "\n",
    "M             1000\n",
    "\n",
    "For example, 2 is written as II in Roman numeral, just two ones added together. 12 is written as XII, which is simply X + II. The number 27 is written as XXVII, which is XX + V + II.\n",
    "\n",
    "Roman numerals are usually written largest to smallest from left to right. However, the numeral for four is not IIII. Instead, the number four is written as IV. Because the one is before the five we subtract it making four. The same principle applies to the number nine, which is written as IX. There are six instances where subtraction is used:\n",
    "\n",
    "I can be placed before V (5) and X (10) to make 4 and 9. \n",
    "X can be placed before L (50) and C (100) to make 40 and 90. \n",
    "C can be placed before D (500) and M (1000) to make 400 and 900.\n",
    "Given a roman numeral, convert it to an integer.\n",
    "\n",
    " \n",
    "\n",
    "Example 1:\n",
    "\n",
    "Input: s = \"III\"\n",
    "\n",
    "Output: 3\n",
    "\n",
    "Explanation: III = 3.\n",
    "\n",
    " \n",
    "\n",
    "Input: s = \"LVIII\"\n",
    "\n",
    "Output: 58\n",
    "\n",
    "Explanation: L = 50, V= 5, III = 3.\n",
    "\n"
   ]
  },
  {
   "cell_type": "code",
   "execution_count": 2,
   "id": "18d81873",
   "metadata": {},
   "outputs": [
    {
     "name": "stdout",
     "output_type": "stream",
     "text": [
      "Enter roman value (eg. II): LL\n",
      "Numeric value of LL is 100\n"
     ]
    }
   ],
   "source": [
    "def roman_to_numeric(roman):\n",
    "    roman_values = {'I': 1, 'V': 5, 'X': 10, 'L': 50, 'C': 100, 'D': 500, 'M': 1000}\n",
    "    final_value = 0\n",
    "    prev_value = 0\n",
    "    for i in reversed(roman):\n",
    "        value = roman_values[i]\n",
    "        if value < prev_value:\n",
    "            final_value -= value\n",
    "        else:\n",
    "            final_value += value\n",
    "        prev_value = value\n",
    "    return final_value\n",
    "\n",
    "given_input = input('Enter roman value (eg. II): ')\n",
    "print('Numeric value of {} is {}'.format(given_input, roman_to_numeric(given_input)))\n"
   ]
  },
  {
   "cell_type": "markdown",
   "id": "b59d369d",
   "metadata": {},
   "source": [
    "## Q3 You are given an array of k linked-lists lists, each linked-list is sorted in ascending order.\n",
    "\n",
    "Merge all the linked-lists into one sorted linked-list and return it.\n",
    "\n",
    " \n",
    "\n",
    "Example 1:\n",
    "\n",
    "Input: lists = [[1,4,5],[1,3,4],[2,6]]\n",
    "Output: [1,1,2,3,4,4,5,6]\n",
    "Explanation: The linked-lists are:\n",
    "[\n",
    "  1->4->5,\n",
    "  1->3->4,\n",
    "  2->6\n",
    "]\n",
    "merging them into one sorted list:\n",
    "1->1->2->3->4->4->5->6\n",
    "Example 2:\n",
    "\n",
    "Input: lists = []\n",
    "Output: []\n",
    "Example 3:\n",
    "\n",
    "Input: lists = [[]]\n",
    "Output: []"
   ]
  },
  {
   "cell_type": "code",
   "execution_count": 1,
   "id": "293a08d9",
   "metadata": {},
   "outputs": [],
   "source": [
    "given_list= [[1,4,5],[1,3,4],[2,6]] "
   ]
  },
  {
   "cell_type": "code",
   "execution_count": 2,
   "id": "a55fc78e",
   "metadata": {},
   "outputs": [
    {
     "data": {
      "text/plain": [
       "[[1, 4, 5], [1, 3, 4], [2, 6]]"
      ]
     },
     "execution_count": 2,
     "metadata": {},
     "output_type": "execute_result"
    }
   ],
   "source": [
    "given_list"
   ]
  },
  {
   "cell_type": "code",
   "execution_count": 9,
   "id": "40f3cdb0",
   "metadata": {},
   "outputs": [
    {
     "name": "stdout",
     "output_type": "stream",
     "text": [
      "[1, 1, 2, 3, 4, 4, 5, 6]\n",
      "[]\n"
     ]
    }
   ],
   "source": [
    "def sort_nested_list(nested_list):\n",
    "    flat_list = []\n",
    "    for sublist in nested_list:\n",
    "        for item in sublist:\n",
    "            for digit in str(item):\n",
    "                flat_list.append(int(digit))\n",
    "    flat_list.sort()\n",
    "    return flat_list\n",
    "\n",
    "\n",
    "given_list = [[1,4,5],[1,3,4],[2,6]]\n",
    "result = sort_nested_list(given_list)\n",
    "print(result)\n",
    "\n",
    "\n",
    "given_list = []\n",
    "result = sort_nested_list(given_list)\n",
    "print(result)\n",
    "\n"
   ]
  },
  {
   "cell_type": "markdown",
   "id": "41af48ef",
   "metadata": {},
   "source": [
    "## Q4 Given an integer array nums and an integer k, return the number of good subarrays of nums.\n",
    "\n",
    "A good array is an array where the number of different integers in that array is exactly k.\n",
    "\n",
    "For example, [1,2,3,1,2] has 3 different integers: 1, 2, and 3.\n",
    "A subarray is a contiguous part of an array.\n",
    "\n",
    " \n",
    "\n",
    "Example 1:\n",
    "\n",
    "Input: nums = [1,2,1,2,3], k = 2\n",
    "Output: 7\n",
    "Explanation: Subarrays formed with exactly 2 different integers: [1,2], [2,1], [1,2], [2,3], [1,2,1], [2,1,2], [1,2,1,2]\n",
    "Example 2:\n",
    "\n",
    "Input: nums = [1,2,1,3,4], k = 3\n",
    "Output: 3\n",
    "Explanation: Subarrays formed with exactly 3 different integers: [1,2,1,3], [2,1,3], [1,3,4].\n"
   ]
  },
  {
   "cell_type": "code",
   "execution_count": 25,
   "id": "2be16864",
   "metadata": {},
   "outputs": [
    {
     "name": "stdout",
     "output_type": "stream",
     "text": [
      "10\n"
     ]
    }
   ],
   "source": [
    "from itertools import combinations\n",
    "\n",
    "def count_good_subarrays(nums, k):\n",
    "    count = 0\n",
    "    for length in range(3, len(nums) + 1):\n",
    "        for subset in combinations(nums, length):\n",
    "            distinct_count = len(set(subset))\n",
    "            if distinct_count == k:\n",
    "                count += 1\n",
    "    return count\n",
    "\n",
    "# Example usage:\n",
    "nums = [1,2,1,3,4]\n",
    "k = 3\n",
    "print(count_good_subarrays(nums, k))  \n",
    "\n",
    "######still have to add some constrains to make it working properly"
   ]
  },
  {
   "cell_type": "code",
   "execution_count": null,
   "id": "76dcfc07",
   "metadata": {},
   "outputs": [],
   "source": []
  }
 ],
 "metadata": {
  "kernelspec": {
   "display_name": "Python 3 (ipykernel)",
   "language": "python",
   "name": "python3"
  },
  "language_info": {
   "codemirror_mode": {
    "name": "ipython",
    "version": 3
   },
   "file_extension": ".py",
   "mimetype": "text/x-python",
   "name": "python",
   "nbconvert_exporter": "python",
   "pygments_lexer": "ipython3",
   "version": "3.11.3"
  }
 },
 "nbformat": 4,
 "nbformat_minor": 5
}
