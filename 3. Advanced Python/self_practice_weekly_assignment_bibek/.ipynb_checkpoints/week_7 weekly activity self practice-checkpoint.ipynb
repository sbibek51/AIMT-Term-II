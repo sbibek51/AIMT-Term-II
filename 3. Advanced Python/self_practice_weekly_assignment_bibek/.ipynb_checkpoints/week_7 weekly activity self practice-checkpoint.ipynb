{
 "cells": [
  {
   "cell_type": "code",
   "execution_count": 1,
   "id": "8a3673be",
   "metadata": {},
   "outputs": [],
   "source": [
    "#Bibek Shiwakoti\n",
    "#Weekly activity"
   ]
  },
  {
   "cell_type": "markdown",
   "id": "492cd504",
   "metadata": {},
   "source": [
    "## Q1 Given an integer x, return true if x is palindrome integer.\n",
    "\n",
    "An integer is a palindrome when it reads the same backward as forward.\n",
    "\n",
    "For example, 121 is a palindrome while 123 is not."
   ]
  },
  {
   "cell_type": "code",
   "execution_count": 2,
   "id": "4211b266",
   "metadata": {},
   "outputs": [
    {
     "name": "stdout",
     "output_type": "stream",
     "text": [
      "given number is 14\n",
      "reverse of given number is 41\n",
      "given number 14 is not pallindrome:\n",
      "given number is 44\n",
      "reverse of given number is 44\n",
      "given number is pallindrome as 44 and 44 are same\n",
      "given number is 54\n",
      "reverse of given number is 45\n",
      "given number 54 is not pallindrome:\n"
     ]
    }
   ],
   "source": [
    "\n",
    "def pallidrome_finder(a):\n",
    "    a=str(a)\n",
    "    rev_a =a[::-1]\n",
    "    print('given number is',a )\n",
    "    print('reverse of given number is',rev_a)\n",
    "    if (int(a)==int(rev_a)):\n",
    "        print('given number is pallindrome as {} and {} are same'.format(a,rev_a))\n",
    "    else:\n",
    "        print('given number {} is not pallindrome:'.format(a))\n",
    "\n",
    "pallidrome_finder(14)\n",
    "pallidrome_finder(44)\n",
    "pallidrome_finder(54)\n",
    "\n",
    "\n",
    "\n"
   ]
  },
  {
   "cell_type": "markdown",
   "id": "9dde017d",
   "metadata": {},
   "source": [
    "Q2. Roman numerals are represented by seven different symbols: I, V, X, L, C, D and M.\n",
    "\n",
    "Symbol       Value\n",
    "\n",
    "I             1\n",
    "\n",
    "V             5\n",
    "\n",
    "X             10\n",
    "\n",
    "L             50\n",
    "\n",
    "C             100\n",
    "\n",
    "D             500\n",
    "\n",
    "M             1000\n",
    "\n",
    "For example, 2 is written as II in Roman numeral, just two ones added together. 12 is written as XII, which is simply X + II. The number 27 is written as XXVII, which is XX + V + II.\n",
    "\n",
    "Roman numerals are usually written largest to smallest from left to right. However, the numeral for four is not IIII. Instead, the number four is written as IV. Because the one is before the five we subtract it making four. The same principle applies to the number nine, which is written as IX. There are six instances where subtraction is used:\n",
    "\n",
    "I can be placed before V (5) and X (10) to make 4 and 9. \n",
    "X can be placed before L (50) and C (100) to make 40 and 90. \n",
    "C can be placed before D (500) and M (1000) to make 400 and 900.\n",
    "Given a roman numeral, convert it to an integer.\n",
    "\n",
    " \n",
    "\n",
    "Example 1:\n",
    "\n",
    "Input: s = \"III\"\n",
    "\n",
    "Output: 3\n",
    "\n",
    "Explanation: III = 3.\n",
    "\n",
    " \n",
    "\n",
    "Input: s = \"LVIII\"\n",
    "\n",
    "Output: 58\n",
    "\n",
    "Explanation: L = 50, V= 5, III = 3.\n",
    "\n"
   ]
  },
  {
   "cell_type": "code",
   "execution_count": 3,
   "id": "8e3ee680",
   "metadata": {},
   "outputs": [],
   "source": [
    "roman_values ={'I':'1',\n",
    "\n",
    "'V':'5',\n",
    "\n",
    "'X':'10',\n",
    "\n",
    "'L' :'50',\n",
    "\n",
    "'C':'100',\n",
    "\n",
    "'D' :'500',\n",
    "\n",
    "'M' :'1000'}"
   ]
  },
  {
   "cell_type": "code",
   "execution_count": 4,
   "id": "93e1059c",
   "metadata": {},
   "outputs": [
    {
     "name": "stdout",
     "output_type": "stream",
     "text": [
      "{'I': '1', 'V': '5', 'X': '10', 'L': '50', 'C': '100', 'D': '500', 'M': '1000'}\n"
     ]
    }
   ],
   "source": [
    "print(roman_values)"
   ]
  },
  {
   "cell_type": "code",
   "execution_count": null,
   "id": "22c1cd4c",
   "metadata": {},
   "outputs": [],
   "source": []
  }
 ],
 "metadata": {
  "kernelspec": {
   "display_name": "Python 3 (ipykernel)",
   "language": "python",
   "name": "python3"
  },
  "language_info": {
   "codemirror_mode": {
    "name": "ipython",
    "version": 3
   },
   "file_extension": ".py",
   "mimetype": "text/x-python",
   "name": "python",
   "nbconvert_exporter": "python",
   "pygments_lexer": "ipython3",
   "version": "3.11.3"
  }
 },
 "nbformat": 4,
 "nbformat_minor": 5
}
