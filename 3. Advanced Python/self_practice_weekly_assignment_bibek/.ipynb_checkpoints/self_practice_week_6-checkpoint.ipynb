{
 "cells": [
  {
   "cell_type": "code",
   "execution_count": 1,
   "id": "f198ab37",
   "metadata": {},
   "outputs": [],
   "source": [
    "#Bibek Shiwakoti\n",
    "# Week 6"
   ]
  },
  {
   "cell_type": "markdown",
   "id": "d57f977a",
   "metadata": {},
   "source": [
    "##  Q1. 1-Write a Python program to check a sequence of numbers is an arithmetic progression or not. \n",
    "Input : [5, 7, 9, 11]\n",
    "Output : True\n",
    "In mathematics, an arithmetic progression or arithmetic sequence is a sequence of numbers such that the difference between the consecutive terms is constant.\n",
    "For example, the sequence 5, 7, 9, 11, 13, 15 ... is an arithmetic progression with common difference of 2.\n",
    "\n",
    " "
   ]
  },
  {
   "cell_type": "code",
   "execution_count": 8,
   "id": "2f372209",
   "metadata": {},
   "outputs": [
    {
     "name": "stdout",
     "output_type": "stream",
     "text": [
      "Enter a number to enter to the list or 'q' to exit 1\n",
      "Enter a number to enter to the list or 'q' to exit 2\n",
      "Enter a number to enter to the list or 'q' to exit 3\n",
      "Enter a number to enter to the list or 'q' to exit q\n",
      "Given list is: ['1', '2', '3']\n"
     ]
    }
   ],
   "source": [
    "my_list = []\n",
    "while True:\n",
    "    element = input('Enter a number to enter to the list or \\'q\\' to exit ')\n",
    "    if element.lower() == 'q':\n",
    "        break\n",
    "    else:\n",
    "        my_list.append(element)\n",
    "print('Given list is:',my_list)"
   ]
  },
  {
   "cell_type": "markdown",
   "id": "101d89e6",
   "metadata": {},
   "source": [
    "## Q2 2-Write a Python program to check whether a given number is an ugly number. \n",
    "Input : 12\n",
    "Output : True\n",
    "Ugly numbers are positive numbers whose only prime factors are 2, 3 or 5. The sequence 1, 2, 3, 4, 5, 6, 8, 9, 10, 12, ...\n",
    "shows the first 10 ugly numbers.\n",
    "Note: 1 is typically treated as an ugly number"
   ]
  },
  {
   "cell_type": "code",
   "execution_count": 1,
   "id": "b73e9ed7",
   "metadata": {},
   "outputs": [
    {
     "name": "stdout",
     "output_type": "stream",
     "text": [
      "hello world\n"
     ]
    }
   ],
   "source": [
    "print('hello world')"
   ]
  },
  {
   "cell_type": "markdown",
   "id": "6b275d56",
   "metadata": {},
   "source": [
    "## Q3 3-Write a Python Function to find the single number in a list that doesn't occur n times.\n",
    "Input : [5, 3,3,4, 4, 3, 4], N=3\n",
    "Output : 5 "
   ]
  },
  {
   "cell_type": "code",
   "execution_count": null,
   "id": "a7e152bc",
   "metadata": {},
   "outputs": [],
   "source": []
  }
 ],
 "metadata": {
  "kernelspec": {
   "display_name": "Python 3 (ipykernel)",
   "language": "python",
   "name": "python3"
  },
  "language_info": {
   "codemirror_mode": {
    "name": "ipython",
    "version": 3
   },
   "file_extension": ".py",
   "mimetype": "text/x-python",
   "name": "python",
   "nbconvert_exporter": "python",
   "pygments_lexer": "ipython3",
   "version": "3.11.3"
  }
 },
 "nbformat": 4,
 "nbformat_minor": 5
}
