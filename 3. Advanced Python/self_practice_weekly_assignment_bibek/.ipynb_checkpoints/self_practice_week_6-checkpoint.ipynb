{
 "cells": [
  {
   "cell_type": "code",
   "execution_count": 1,
   "id": "f198ab37",
   "metadata": {},
   "outputs": [],
   "source": [
    "#Bibek Shiwakoti\n",
    "# Week 6"
   ]
  },
  {
   "cell_type": "markdown",
   "id": "d57f977a",
   "metadata": {},
   "source": [
    "##  Q1. 1-Write a Python program to check a sequence of numbers is an arithmetic progression or not. \n",
    "Input : [5, 7, 9, 11]\n",
    "Output : True\n",
    "In mathematics, an arithmetic progression or arithmetic sequence is a sequence of numbers such that the difference between the consecutive terms is constant.\n",
    "For example, the sequence 5, 7, 9, 11, 13, 15 ... is an arithmetic progression with common difference of 2.\n",
    "\n",
    " "
   ]
  },
  {
   "cell_type": "code",
   "execution_count": 17,
   "id": "2f372209",
   "metadata": {},
   "outputs": [
    {
     "name": "stdout",
     "output_type": "stream",
     "text": [
      "Enter a number to enter to the list or 'q' to exit 5\n",
      "Enter a number to enter to the list or 'q' to exit 7\n",
      "Enter a number to enter to the list or 'q' to exit 9\n",
      "Enter a number to enter to the list or 'q' to exit 11\n",
      "Enter a number to enter to the list or 'q' to exit 13\n",
      "Enter a number to enter to the list or 'q' to exit q\n",
      "Given list is: [5, 7, 9, 11, 13]\n",
      "[5, 7, 9, 11, 13] is in arithmetric progression with common difference of 2\n"
     ]
    }
   ],
   "source": [
    "my_list = []\n",
    "while True:\n",
    "    element = input('Enter a number to enter to the list or \\'q\\' to exit ')\n",
    "    if element.lower() == 'q':\n",
    "        break\n",
    "    else:\n",
    "        my_list.append(int(element))\n",
    "print('Given list is:',my_list)\n",
    "arithmetic= my_list[1]-my_list[0]\n",
    "flag =True\n",
    "for i in range(len(my_list)-1):\n",
    "#     print(\"i={}\".format(i))\n",
    "    if(my_list[i]+arithmetic != my_list[i+1]):\n",
    "                       flag ==False\n",
    "                       \n",
    "if flag:\n",
    "        print(my_list, 'is in arithmetric progression with common difference of {}'.format(arithmetic))\n",
    "        "
   ]
  },
  {
   "cell_type": "markdown",
   "id": "101d89e6",
   "metadata": {},
   "source": [
    "## Q2 2-Write a Python program to check whether a given number is an ugly number. \n",
    "Input : 12\n",
    "Output : True\n",
    "Ugly numbers are positive numbers whose only prime factors are 2, 3 or 5. The sequence 1, 2, 3, 4, 5, 6, 8, 9, 10, 12, ...\n",
    "shows the first 10 ugly numbers.\n",
    "Note: 1 is typically treated as an ugly number"
   ]
  },
  {
   "cell_type": "code",
   "execution_count": 47,
   "id": "b73e9ed7",
   "metadata": {},
   "outputs": [
    {
     "name": "stdout",
     "output_type": "stream",
     "text": [
      "enter a number to check if it is ugly or not:14\n",
      "given number is: 14\n",
      "given number 14 is not ugly number\n"
     ]
    }
   ],
   "source": [
    "\n",
    "given_number = int(input ('enter a number to check if it is ugly or not:'))\n",
    "given_number_copy =given_number\n",
    "print('given number is:',given_number)\n",
    "# if given_number==1:\n",
    "#     print('given number: {} is ugly number'.format(1))\n",
    "\n",
    "allowed_factors =[2,3,5]\n",
    "for i in allowed_factors:\n",
    "        while given_number % i == 0:\n",
    "            given_number =given_number//i\n",
    "            \n",
    "        \n",
    "if (given_number==1):\n",
    "    print('given number {} is ugly number'.format(given_number_copy))\n",
    "else:\n",
    "    print('given number {} is not ugly number'.format(given_number_copy))\n",
    "\n"
   ]
  },
  {
   "cell_type": "markdown",
   "id": "6b275d56",
   "metadata": {},
   "source": [
    "## Q3 3-Write a Python Function to find the single number in a list that doesn't occur n times.\n",
    "Input : [5, 3,3,4, 4, 3, 4], N=3\n",
    "Output : 5 "
   ]
  },
  {
   "cell_type": "code",
   "execution_count": 43,
   "id": "a7e152bc",
   "metadata": {},
   "outputs": [
    {
     "name": "stdout",
     "output_type": "stream",
     "text": [
      "Enter number to add to list or q to exit:2\n",
      "Enter number to add to list or q to exit:2\n",
      "Enter number to add to list or q to exit:3\n",
      "Enter number to add to list or q to exit:3\n",
      "Enter number to add to list or q to exit:4\n",
      "Enter number to add to list or q to exit:5\n",
      "Enter number to add to list or q to exit:5\n",
      "Enter number to add to list or q to exit:6\n",
      "Enter number to add to list or q to exit:q\n",
      "Dictionary of given elements is: {2: 2, 3: 2, 4: 1, 5: 2, 6: 1}\n",
      "following items occurs only one times in list [4, 6]\n"
     ]
    }
   ],
   "source": [
    "# my_list=[5, 3,3,4, 4, 3, 4]\n",
    "\n",
    "my_dictionary ={}\n",
    "my_list =[]\n",
    "while True:\n",
    "    given_number=input('Enter number to add to list or q to exit:')\n",
    "    if given_number.lower()=='q':\n",
    "        break\n",
    "# last time i done this program using set but this time i am doing it using dictionary\n",
    "\n",
    "    else:\n",
    "        my_list.append(int(given_number))\n",
    "for i in my_list:\n",
    "    my_dictionary[i]= my_dictionary.get(i,0)+1\n",
    "single_count = [key for key , value in my_dictionary.items() if value ==1]\n",
    "    \n",
    "print('Dictionary of given elements is:',my_dictionary)\n",
    "print('following items occurs only one times in list',single_count)\n"
   ]
  },
  {
   "cell_type": "code",
   "execution_count": null,
   "id": "f1156785",
   "metadata": {},
   "outputs": [],
   "source": []
  },
  {
   "cell_type": "code",
   "execution_count": null,
   "id": "69683c01",
   "metadata": {},
   "outputs": [],
   "source": []
  }
 ],
 "metadata": {
  "kernelspec": {
   "display_name": "Python 3 (ipykernel)",
   "language": "python",
   "name": "python3"
  },
  "language_info": {
   "codemirror_mode": {
    "name": "ipython",
    "version": 3
   },
   "file_extension": ".py",
   "mimetype": "text/x-python",
   "name": "python",
   "nbconvert_exporter": "python",
   "pygments_lexer": "ipython3",
   "version": "3.10.9"
  }
 },
 "nbformat": 4,
 "nbformat_minor": 5
}
