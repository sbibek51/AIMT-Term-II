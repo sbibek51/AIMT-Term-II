{
 "cells": [
  {
   "cell_type": "code",
   "execution_count": 1,
   "id": "e7869b16",
   "metadata": {},
   "outputs": [],
   "source": [
    "#Bibek Shiwakoti"
   ]
  },
  {
   "cell_type": "code",
   "execution_count": null,
   "id": "e6333177",
   "metadata": {},
   "outputs": [],
   "source": [
    "**************************Section 1*************************************"
   ]
  },
  {
   "cell_type": "markdown",
   "id": "ade04bfa",
   "metadata": {},
   "source": [
    "Q1. Given an input string s and a pattern p, implement regular expression matching with support for '.' and '*' where:\n",
    "\n",
    "'.' Matches any single character.​​​​\n",
    "'*' Matches zero or more of the preceding element.\n",
    "The matching should cover the entire input string (not partial).\n",
    "\n",
    "Example 1:\n",
    "\n",
    "Input: s = \"aa\", p = \"a\"\n",
    "Output: false\n",
    "Explanation: \"a\" does not match the entire string \"aa\".\n",
    "\n",
    "Example 2:\n",
    "\n",
    "Input: s = \"aa\", p = \"a*\"\n",
    "Output: true\n",
    "Explanation: '*' means zero or more of the preceding element, 'a'. Therefore, by repeating 'a' once, it becomes \"aa\".\n",
    "\n",
    "Example 3:\n",
    "\n",
    "Input: s = \"ab\", p = \".*\"\n",
    "Output: true\n",
    "Explanation: \".*\" means \"zero or more (*) of any character (.)\"."
   ]
  },
  {
   "cell_type": "markdown",
   "id": "34df9a98",
   "metadata": {},
   "source": [
    "Q2. You are given a 0-indexed integer array nums having length n, an integer indexDifference, and an integer valueDifference.\n",
    "\n",
    "Your task is to find two indices i and j, both in the range [0, n - 1], that satisfy the following conditions:\n",
    "\n",
    "abs(i - j) >= indexDifference, and\n",
    "abs(nums[i] - nums[j]) >= valueDifference\n",
    "Return an integer array answer, where answer = [i, j] if there are two such indices, and answer = [-1, -1] otherwise. If there are multiple choices for the two indices, return any of them.\n",
    "\n",
    "Note: i and j may be equal.\n",
    "\n",
    "Example 1:\n",
    "\n",
    "Input: nums = [5,1,4,1], indexDifference = 2, valueDifference = 4\n",
    "Output: [0,3]\n",
    "Explanation: In this example, i = 0 and j = 3 can be selected.\n",
    "abs(0 - 3) >= 2 and abs(nums[0] - nums[3]) >= 4.\n",
    "Hence, a valid answer is [0,3].\n",
    "[3,0] is also a valid answer.\n",
    "Example 2:\n",
    "\n",
    "Input: nums = [2,1], indexDifference = 0, valueDifference = 0\n",
    "Output: [0,0]\n",
    "Explanation: In this example, i = 0 and j = 0 can be selected.\n",
    "abs(0 - 0) >= 0 and abs(nums[0] - nums[0]) >= 0.\n",
    "Hence, a valid answer is [0,0].\n",
    "Other valid answers are [0,1], [1,0], and [1,1].\n",
    "Example 3:\n",
    "\n",
    "Input: nums = [1,2,3], indexDifference = 2, valueDifference = 4\n",
    "Output: [-1,-1]\n",
    "Explanation: In this example, it can be shown that it is impossible to find two indices that satisfy both conditions.\n",
    "Hence, [-1,-1] is returned.\n"
   ]
  },
  {
   "cell_type": "markdown",
   "id": "e91cf5b5",
   "metadata": {},
   "source": [
    "**************************Section 2*************************************"
   ]
  },
  {
   "cell_type": "markdown",
   "id": "981ab011",
   "metadata": {},
   "source": [
    "## Q1. Write a Python program to find the single element in a list where every element appears multiple times except for one.\n",
    "    Input : [5, 3, 4, 3, 5, 5, 3],\n",
    "    Output : 4\n"
   ]
  },
  {
   "cell_type": "code",
   "execution_count": 33,
   "id": "60f32698",
   "metadata": {},
   "outputs": [
    {
     "name": "stdout",
     "output_type": "stream",
     "text": [
      "Enter a positive integer to insert into a list and \"e or \"E when list is end: 1\n",
      "Enter a positive integer to insert into a list and \"e or \"E when list is end: 1\n",
      "Enter a positive integer to insert into a list and \"e or \"E when list is end: 2\n",
      "Enter a positive integer to insert into a list and \"e or \"E when list is end: 2\n",
      "Enter a positive integer to insert into a list and \"e or \"E when list is end: 3\n",
      "Enter a positive integer to insert into a list and \"e or \"E when list is end: e\n",
      "Given list is:  [1, 1, 2, 2, 3]\n",
      "element in list that doesnot occur multiple time : {3}\n"
     ]
    }
   ],
   "source": [
    "my_list =[]\n",
    "while True:\n",
    "    x=input('Enter a positive integer to insert into a list and \\\"e or \\\"E when list is end: ')\n",
    "    if x.lower()=='e':\n",
    "        break\n",
    "    else:\n",
    "        x=int(x)\n",
    "        my_list.append(x)\n",
    "print('Given list is: ',my_list)\n",
    "my_set = set(my_list)\n",
    "\n",
    "dictionary_1 ={}\n",
    "for i in range(len(my_list)):\n",
    "    for j in range(i+1, len(my_list)):\n",
    "     if my_list[i] == my_list[j]:\n",
    "      my_set.discard(my_list[i])\n",
    "\n",
    "if my_set=={}:\n",
    "    print('no element int the set that occurs only one time')\n",
    "else:    \n",
    "    print('element in list that doesnot occur multiple time :',my_set)\n",
    "\n",
    "        "
   ]
  },
  {
   "cell_type": "markdown",
   "id": "93e5a2ec",
   "metadata": {},
   "source": [
    "## Q2. Write a Python program to compute and return the square root of a given 'integer'. \n",
    "    Input : 16\n",
    "    Output : 4\n",
    "    Note : The returned value will be an 'integer', do not use square root functions from python.\n"
   ]
  },
  {
   "cell_type": "code",
   "execution_count": 12,
   "id": "3c8d366c",
   "metadata": {},
   "outputs": [
    {
     "name": "stdout",
     "output_type": "stream",
     "text": [
      "Enter a positive integer to find root or e to exit:4\n",
      "square root of 4 is 2 \n"
     ]
    },
    {
     "ename": "KeyboardInterrupt",
     "evalue": "Interrupted by user",
     "output_type": "error",
     "traceback": [
      "\u001b[1;31m---------------------------------------------------------------------------\u001b[0m",
      "\u001b[1;31mKeyboardInterrupt\u001b[0m                         Traceback (most recent call last)",
      "Cell \u001b[1;32mIn[12], line 2\u001b[0m\n\u001b[0;32m      1\u001b[0m \u001b[38;5;28;01mwhile\u001b[39;00m(\u001b[38;5;28;01mTrue\u001b[39;00m):\n\u001b[1;32m----> 2\u001b[0m     x \u001b[38;5;241m=\u001b[39m \u001b[38;5;28;43minput\u001b[39;49m\u001b[43m(\u001b[49m\u001b[38;5;124;43m'\u001b[39;49m\u001b[38;5;124;43mEnter a positive integer to find root or e to exit:\u001b[39;49m\u001b[38;5;124;43m'\u001b[39;49m\u001b[43m)\u001b[49m\n\u001b[0;32m      3\u001b[0m     \u001b[38;5;28;01mif\u001b[39;00m x\u001b[38;5;241m.\u001b[39mlower()\u001b[38;5;241m==\u001b[39m\u001b[38;5;124m'\u001b[39m\u001b[38;5;124me\u001b[39m\u001b[38;5;124m'\u001b[39m:\n\u001b[0;32m      4\u001b[0m         \u001b[38;5;28;01mbreak\u001b[39;00m\n",
      "File \u001b[1;32m~\\anaconda3\\lib\\site-packages\\ipykernel\\kernelbase.py:1175\u001b[0m, in \u001b[0;36mKernel.raw_input\u001b[1;34m(self, prompt)\u001b[0m\n\u001b[0;32m   1171\u001b[0m \u001b[38;5;28;01mif\u001b[39;00m \u001b[38;5;129;01mnot\u001b[39;00m \u001b[38;5;28mself\u001b[39m\u001b[38;5;241m.\u001b[39m_allow_stdin:\n\u001b[0;32m   1172\u001b[0m     \u001b[38;5;28;01mraise\u001b[39;00m StdinNotImplementedError(\n\u001b[0;32m   1173\u001b[0m         \u001b[38;5;124m\"\u001b[39m\u001b[38;5;124mraw_input was called, but this frontend does not support input requests.\u001b[39m\u001b[38;5;124m\"\u001b[39m\n\u001b[0;32m   1174\u001b[0m     )\n\u001b[1;32m-> 1175\u001b[0m \u001b[38;5;28;01mreturn\u001b[39;00m \u001b[38;5;28;43mself\u001b[39;49m\u001b[38;5;241;43m.\u001b[39;49m\u001b[43m_input_request\u001b[49m\u001b[43m(\u001b[49m\n\u001b[0;32m   1176\u001b[0m \u001b[43m    \u001b[49m\u001b[38;5;28;43mstr\u001b[39;49m\u001b[43m(\u001b[49m\u001b[43mprompt\u001b[49m\u001b[43m)\u001b[49m\u001b[43m,\u001b[49m\n\u001b[0;32m   1177\u001b[0m \u001b[43m    \u001b[49m\u001b[38;5;28;43mself\u001b[39;49m\u001b[38;5;241;43m.\u001b[39;49m\u001b[43m_parent_ident\u001b[49m\u001b[43m[\u001b[49m\u001b[38;5;124;43m\"\u001b[39;49m\u001b[38;5;124;43mshell\u001b[39;49m\u001b[38;5;124;43m\"\u001b[39;49m\u001b[43m]\u001b[49m\u001b[43m,\u001b[49m\n\u001b[0;32m   1178\u001b[0m \u001b[43m    \u001b[49m\u001b[38;5;28;43mself\u001b[39;49m\u001b[38;5;241;43m.\u001b[39;49m\u001b[43mget_parent\u001b[49m\u001b[43m(\u001b[49m\u001b[38;5;124;43m\"\u001b[39;49m\u001b[38;5;124;43mshell\u001b[39;49m\u001b[38;5;124;43m\"\u001b[39;49m\u001b[43m)\u001b[49m\u001b[43m,\u001b[49m\n\u001b[0;32m   1179\u001b[0m \u001b[43m    \u001b[49m\u001b[43mpassword\u001b[49m\u001b[38;5;241;43m=\u001b[39;49m\u001b[38;5;28;43;01mFalse\u001b[39;49;00m\u001b[43m,\u001b[49m\n\u001b[0;32m   1180\u001b[0m \u001b[43m\u001b[49m\u001b[43m)\u001b[49m\n",
      "File \u001b[1;32m~\\anaconda3\\lib\\site-packages\\ipykernel\\kernelbase.py:1217\u001b[0m, in \u001b[0;36mKernel._input_request\u001b[1;34m(self, prompt, ident, parent, password)\u001b[0m\n\u001b[0;32m   1214\u001b[0m             \u001b[38;5;28;01mbreak\u001b[39;00m\n\u001b[0;32m   1215\u001b[0m \u001b[38;5;28;01mexcept\u001b[39;00m \u001b[38;5;167;01mKeyboardInterrupt\u001b[39;00m:\n\u001b[0;32m   1216\u001b[0m     \u001b[38;5;66;03m# re-raise KeyboardInterrupt, to truncate traceback\u001b[39;00m\n\u001b[1;32m-> 1217\u001b[0m     \u001b[38;5;28;01mraise\u001b[39;00m \u001b[38;5;167;01mKeyboardInterrupt\u001b[39;00m(\u001b[38;5;124m\"\u001b[39m\u001b[38;5;124mInterrupted by user\u001b[39m\u001b[38;5;124m\"\u001b[39m) \u001b[38;5;28;01mfrom\u001b[39;00m \u001b[38;5;28mNone\u001b[39m\n\u001b[0;32m   1218\u001b[0m \u001b[38;5;28;01mexcept\u001b[39;00m \u001b[38;5;167;01mException\u001b[39;00m:\n\u001b[0;32m   1219\u001b[0m     \u001b[38;5;28mself\u001b[39m\u001b[38;5;241m.\u001b[39mlog\u001b[38;5;241m.\u001b[39mwarning(\u001b[38;5;124m\"\u001b[39m\u001b[38;5;124mInvalid Message:\u001b[39m\u001b[38;5;124m\"\u001b[39m, exc_info\u001b[38;5;241m=\u001b[39m\u001b[38;5;28;01mTrue\u001b[39;00m)\n",
      "\u001b[1;31mKeyboardInterrupt\u001b[0m: Interrupted by user"
     ]
    }
   ],
   "source": [
    "while(True):\n",
    "    x = input('Enter a positive integer to find root or e to exit:')\n",
    "    if x.lower()=='e':\n",
    "        break\n",
    "    else:\n",
    "        x=int(x)\n",
    "        found_root= False\n",
    "        for i in range(x):\n",
    "            if i*i==x:\n",
    "                found_root= True\n",
    "                print('square root of {} is {} '.format(x,i))\n",
    "    \n",
    "        \n",
    "    if(found_root==False):\n",
    "        print('perfect square root of {} doesnot exist'.format(x))"
   ]
  },
  {
   "cell_type": "markdown",
   "id": "5150d3f9",
   "metadata": {},
   "source": [
    "## Q3. Write a Python program to check a sequence of numbers is a geometric progression or not. \n",
    "    Input : [2, 6, 18, 54]\n",
    "    Output : True"
   ]
  },
  {
   "cell_type": "code",
   "execution_count": 33,
   "id": "3f703af6",
   "metadata": {},
   "outputs": [
    {
     "name": "stdout",
     "output_type": "stream",
     "text": [
      "Enter a positive integer to insert into a list and \"e or \"E when list is end: 2\n",
      "Enter a positive integer to insert into a list and \"e or \"E when list is end: 6\n",
      "Enter a positive integer to insert into a list and \"e or \"E when list is end: 18\n",
      "Enter a positive integer to insert into a list and \"e or \"E when list is end: 54\n",
      "Enter a positive integer to insert into a list and \"e or \"E when list is end: e\n",
      "Given list is:  [2, 6, 18, 54]\n",
      "ratio computed is 3\n",
      "True\n",
      "given list [2, 6, 18, 54] is in geometric series \n"
     ]
    }
   ],
   "source": [
    "my_list =[]\n",
    "while True:\n",
    "    x=input('Enter a positive integer to insert into a list and \\\"e or \\\"E when list is end: ')\n",
    "    if x.lower()=='e':\n",
    "        break\n",
    "    else:\n",
    "        x=int(x)\n",
    "        my_list.append(x)\n",
    "        \n",
    "        \n",
    "print('Given list is: ',my_list)\n",
    "r= int(my_list[1]/my_list[0])\n",
    "flag = True\n",
    "print(\"ratio computed is\",r)\n",
    "for i in range (len(my_list)-1):\n",
    "   if my_list[i+1]/my_list[i] != r:\n",
    "    flag = False\n",
    "if flag:\n",
    "    print(flag)\n",
    "    print('given list {} is in geometric series '.format(my_list))\n",
    "   \n",
    "else:\n",
    "    print(flag)\n",
    "    print('given list {} is not in geometric series '.format(my_list))\n",
    "    \n",
    "\n",
    "        "
   ]
  }
 ],
 "metadata": {
  "kernelspec": {
   "display_name": "Python 3 (ipykernel)",
   "language": "python",
   "name": "python3"
  },
  "language_info": {
   "codemirror_mode": {
    "name": "ipython",
    "version": 3
   },
   "file_extension": ".py",
   "mimetype": "text/x-python",
   "name": "python",
   "nbconvert_exporter": "python",
   "pygments_lexer": "ipython3",
   "version": "3.10.9"
  }
 },
 "nbformat": 4,
 "nbformat_minor": 5
}
