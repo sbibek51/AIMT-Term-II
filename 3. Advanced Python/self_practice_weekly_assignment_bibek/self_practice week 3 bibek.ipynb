{
 "cells": [
  {
   "cell_type": "code",
   "execution_count": 1,
   "id": "b6539be7",
   "metadata": {},
   "outputs": [],
   "source": [
    "#Bibek Shiwakoti\n",
    "#Week 3"
   ]
  },
  {
   "cell_type": "markdown",
   "id": "583a233a",
   "metadata": {},
   "source": [
    "## 1-Write a Python program to find 4 numbers from an array such that the sum of 4 numbers equal to a given number.\n",
    "Input : [1, 0, -1, 0, -2, 2,10,11], 0)\n",
    "Output : [[-2, -1, 1, 2], [-2, 0, 0, 2], [-1, 0, 0, 1]]\n",
    "\n"
   ]
  },
  {
   "cell_type": "code",
   "execution_count": 5,
   "id": "2413f148",
   "metadata": {},
   "outputs": [],
   "source": [
    "list_1 = [1, 0, -1, 0, -2, 2, 10, 11]\n",
    "target_sum = 0\n",
    "list_2 = []\n",
    "\n",
    "print('Given list is:', list_1)\n",
    "print('Length of this list is:', len(list_1))\n",
    "\n",
    "for i in range(len(list_1)):\n",
    "    for j in range(i + 1, len(list_1)):\n",
    "        for k in range(j + 1, len(list_1)):\n",
    "            for l in range(k + 1, len(list_1)):\n",
    "                current_sum = list_1[i] + list_1[j] + list_1[k] + list_1[l]\n",
    "                \n",
    "                if current_sum == target_sum:\n",
    "                    list_2.append([list_1[i], list_1[j], list_1[k], list_1[l]])\n",
    "\n",
    "print('subset of 4  list items that sums to 0 are:', list_2)\n"
   ]
  },
  {
   "cell_type": "markdown",
   "id": "53da84fb",
   "metadata": {},
   "source": [
    "## 2-Write a Python program to find the single element appears once in a list where every element appears multiple times except for one. \n",
    "Input : [1, 1, 1, 2, 2, 2, 3]\n",
    "Output : 3\n",
    "\n"
   ]
  },
  {
   "cell_type": "code",
   "execution_count": 5,
   "id": "86f84e00",
   "metadata": {},
   "outputs": [
    {
     "name": "stdout",
     "output_type": "stream",
     "text": [
      "[1, 1, 1, 2, 2, 2, 3, 7]\n",
      "value appears once is: [7, 7]\n"
     ]
    }
   ],
   "source": [
    "# let us to create a dictionaries of vallues and key stating key and their count\n",
    "list_1 = [1,1,1,2,2,2,3]\n",
    "d={}\n",
    "print(list_1)\n",
    "# print(d)\n",
    "for i in list_1:\n",
    "    d[i]=d.get(i,0)+1\n",
    "#     print(d)\n",
    "single_count =  [i for key,value in  d.items() if value ==1]\n",
    "print('value appears once is:',single_count)"
   ]
  },
  {
   "cell_type": "markdown",
   "id": "f892469b",
   "metadata": {},
   "source": [
    "## 3-Write a Python program to add the digits of a positive integer repeatedly until the result has a single digit. \n",
    "Input : 48\n",
    "Output : 3\n",
    "For example given number is 59, the result will be 5.\n",
    "Step 1: 5 + 9 = 14\n",
    "Step 1: 1 + 4 = 5"
   ]
  },
  {
   "cell_type": "code",
   "execution_count": null,
   "id": "f655f5d4",
   "metadata": {},
   "outputs": [
    {
     "name": "stdout",
     "output_type": "stream",
     "text": [
      "Enter a two digit number or e to exit77\n",
      "Entered number is: 77\n",
      "sum of a number is: 5\n"
     ]
    }
   ],
   "source": [
    "def find_digit_sum(number):\n",
    "    while number>=10:\n",
    "        number = number//10 +number%10\n",
    "    return number\n",
    "\n",
    "while (True):\n",
    "    given_number = input('Enter a two digit number or e to exit')\n",
    "    if given_number.lower()=='e':\n",
    "        break\n",
    "    else:\n",
    "        given_number=int(given_number)\n",
    "        print('Entered number is:',given_number)\n",
    "        if(given_number>99 or given_number<10):\n",
    "            print('given numbber is not a two digit')\n",
    "        else: \n",
    "            print('sum of a number is:', find_digit_sum(given_number))\n",
    "            \n",
    "\n",
    "\n"
   ]
  },
  {
   "cell_type": "code",
   "execution_count": 4,
   "id": "926f01b9",
   "metadata": {},
   "outputs": [
    {
     "name": "stdout",
     "output_type": "stream",
     "text": [
      "{1: 3, 2: 3, 3: 1, 7: 1}\n",
      "[7, 7]\n"
     ]
    }
   ],
   "source": []
  },
  {
   "cell_type": "code",
   "execution_count": null,
   "id": "0da0c413",
   "metadata": {},
   "outputs": [],
   "source": []
  }
 ],
 "metadata": {
  "kernelspec": {
   "display_name": "Python 3 (ipykernel)",
   "language": "python",
   "name": "python3"
  },
  "language_info": {
   "codemirror_mode": {
    "name": "ipython",
    "version": 3
   },
   "file_extension": ".py",
   "mimetype": "text/x-python",
   "name": "python",
   "nbconvert_exporter": "python",
   "pygments_lexer": "ipython3",
   "version": "3.11.3"
  }
 },
 "nbformat": 4,
 "nbformat_minor": 5
}
