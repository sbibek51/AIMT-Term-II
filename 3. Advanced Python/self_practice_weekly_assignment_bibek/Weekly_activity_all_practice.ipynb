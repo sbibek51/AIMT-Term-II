{
 "cells": [
  {
   "cell_type": "markdown",
   "id": "d1246090",
   "metadata": {},
   "source": [
    "# Week_1"
   ]
  },
  {
   "cell_type": "markdown",
   "id": "695e0cc9",
   "metadata": {},
   "source": [
    "### Q1."
   ]
  },
  {
   "cell_type": "markdown",
   "id": "730f3950",
   "metadata": {},
   "source": [
    "Write a Python program to check if a number is a perfect square"
   ]
  },
  {
   "cell_type": "code",
   "execution_count": 1,
   "id": "6c44d938",
   "metadata": {},
   "outputs": [
    {
     "name": "stdout",
     "output_type": "stream",
     "text": [
      "given number -1 is a negative number\n",
      "Given number 9 is perfect square of 3\n",
      "given number is 33 not a perfect square\n"
     ]
    }
   ],
   "source": [
    "def perfect_square_finder(num):\n",
    "    flag = True\n",
    "    if num<0:\n",
    "        print(f'given number {num} is a negative number')\n",
    "        exit\n",
    "    else:\n",
    "#         print('given number is:',num)\n",
    "        for i in range(num):\n",
    "            if i*i==num:\n",
    "                print(f'Given number {num} is perfect square of {i}')\n",
    "                flag =False\n",
    "                break\n",
    "        if flag:        \n",
    "            print(f'given number is {num} not a perfect square')\n",
    "            \n",
    "    \n",
    "    \n",
    "    \n",
    "    \n",
    "perfect_square_finder(-1)\n",
    "perfect_square_finder(9)\n",
    "perfect_square_finder(33)"
   ]
  },
  {
   "cell_type": "markdown",
   "id": "4c62ed72",
   "metadata": {},
   "source": [
    "### Q2."
   ]
  },
  {
   "cell_type": "markdown",
   "id": "0922112a",
   "metadata": {},
   "source": [
    "Write a Python program to find a missing number from a list. Input : [1,2,3,4,6,7,8] Output : 5"
   ]
  },
  {
   "cell_type": "code",
   "execution_count": 41,
   "id": "c8b19387",
   "metadata": {},
   "outputs": [
    {
     "name": "stdout",
     "output_type": "stream",
     "text": [
      "given list is: [1, 2, 3, 4, 6, 7, 8]\n"
     ]
    },
    {
     "data": {
      "text/plain": [
       "[5]"
      ]
     },
     "execution_count": 41,
     "metadata": {},
     "output_type": "execute_result"
    }
   ],
   "source": [
    "def find_missing_number(my_list):\n",
    "    my_list.sort()\n",
    "    missing_list=[]\n",
    "    print('given list is:',my_list)\n",
    "    for i in range(my_list[0],my_list[len(my_list)-1]):\n",
    "        if i not in my_list:\n",
    "            missing_list.append(i)\n",
    "    return missing_list\n",
    "    \n",
    "    \n",
    "my_list = [1,2,3,4,6,7,8]\n",
    "find_missing_number(my_list)"
   ]
  },
  {
   "cell_type": "markdown",
   "id": "f14fc13a",
   "metadata": {},
   "source": [
    "### Q3."
   ]
  },
  {
   "cell_type": "markdown",
   "id": "66ea61c3",
   "metadata": {},
   "source": [
    "Write a Python program to find the single number in a list that doesn't occur twice. Input : [5, 3, 4, 3, 4] Output : 5"
   ]
  },
  {
   "cell_type": "code",
   "execution_count": 45,
   "id": "fa15f3b6",
   "metadata": {},
   "outputs": [
    {
     "name": "stdout",
     "output_type": "stream",
     "text": [
      "given list is : [5, 3, 4, 3, 4]\n",
      "single item is: [5]\n"
     ]
    }
   ],
   "source": [
    "def find_single_number(my_list):\n",
    "    print('given list is :',my_list)\n",
    "    d = {} \n",
    "    for i in my_list:\n",
    "        d[i] = d.get(i,0)+1\n",
    "        \n",
    "    single_list = [key for key, value in d.items() if value ==1]\n",
    "    print('single item is:',single_list)\n",
    "    \n",
    "    \n",
    "test_list = [5, 3, 4, 3, 4]\n",
    "find_single_number(test_list)"
   ]
  },
  {
   "cell_type": "code",
   "execution_count": null,
   "id": "0292049a",
   "metadata": {},
   "outputs": [],
   "source": []
  },
  {
   "cell_type": "markdown",
   "id": "6fb9b517",
   "metadata": {},
   "source": [
    "# Week_2"
   ]
  },
  {
   "cell_type": "markdown",
   "id": "1a3a7244",
   "metadata": {},
   "source": [
    "### Q1."
   ]
  },
  {
   "cell_type": "markdown",
   "id": "fed2a0f3",
   "metadata": {},
   "source": [
    "Write a Python program to find 4 numbers from an array such that the sum of 4 numbers equal to a given number.\n",
    "Input : [1, 0, -1, 0, -2, 2,10,11], 0)\n",
    "Output : [[-2, -1, 1, 2], [-2, 0, 0, 2], [-1, 0, 0, 1]]\n",
    "\n"
   ]
  },
  {
   "cell_type": "code",
   "execution_count": 6,
   "id": "491e57cc",
   "metadata": {},
   "outputs": [
    {
     "name": "stdout",
     "output_type": "stream",
     "text": [
      "Given list is:[1, 0, -1, 0, -2, 2, 10, 11] and target sum is: 0\n",
      "[[1, 0, -1, 0], [1, -1, -2, 2], [0, 0, -2, 2]]\n"
     ]
    }
   ],
   "source": [
    "def find_sum(my_list,target_sum):\n",
    "    print(f'Given list is:{my_list} and target sum is: {target_sum}')\n",
    "    list_needed = []\n",
    "    for i in range(len(my_list)):\n",
    "        for j in range (i+1,len(my_list)):\n",
    "            for k in range (j+1,len(my_list)):\n",
    "                for l in range (k+1,len(my_list)):\n",
    "                    current_sum = my_list[i]+my_list[j]+my_list[k]+my_list[l]\n",
    "                    if current_sum == 0:\n",
    "                        list_needed.append([my_list[i],my_list[j],my_list[k],my_list[l]])\n",
    "                    \n",
    "    \n",
    "    print(list_needed)\n",
    "    \n",
    "list_1 = [1, 0, -1, 0, -2, 2,10,11]\n",
    "target_sum = 0\n",
    "find_sum(list_1,target_sum)\n",
    "\n",
    "\n"
   ]
  },
  {
   "cell_type": "markdown",
   "id": "7e2a684d",
   "metadata": {},
   "source": [
    "### Q2."
   ]
  },
  {
   "cell_type": "markdown",
   "id": "e1e277db",
   "metadata": {},
   "source": [
    "Write a Python program to find the single element appears once in a list where every element appears multiple times except for one. \n",
    "Input : [1, 1, 1, 2, 2, 2, 3]\n",
    "Output : 3\n",
    "\n"
   ]
  },
  {
   "cell_type": "code",
   "execution_count": 3,
   "id": "f821fb7c",
   "metadata": {},
   "outputs": [
    {
     "name": "stdout",
     "output_type": "stream",
     "text": [
      "given list is : [1, 1, 1, 2, 2, 2, 3]\n",
      "Single number in list is: [3]\n"
     ]
    }
   ],
   "source": [
    "def find_single_number(given_list):\n",
    "    print('given list is :',given_list)\n",
    "    \n",
    "    d= {}\n",
    "    for i in given_list:\n",
    "        d[i]= d.get(i,0)+1\n",
    "        \n",
    "    single_number = [key for key, value in d.items() if value ==1]\n",
    "    print('Single number in list is:',single_number)\n",
    "    \n",
    "    \n",
    "\n",
    "    \n",
    "    list_1 = [1, 1, 1, 2, 2, 2, 3]\n",
    "find_single_number(list_1)"
   ]
  },
  {
   "cell_type": "markdown",
   "id": "be4ac2bf",
   "metadata": {},
   "source": [
    "### Q3."
   ]
  },
  {
   "cell_type": "markdown",
   "id": "26182b37",
   "metadata": {},
   "source": [
    "Write a Python program to add the digits of a positive integer repeatedly until the result has a single digit. \n",
    "Input : 48\n",
    "Output : 3\n",
    "For example given number is 59, the result will be 5.\n",
    "Step 1: 5 + 9 = 14\n",
    "Step 1: 1 + 4 = 5"
   ]
  },
  {
   "cell_type": "code",
   "execution_count": 4,
   "id": "fed3485d",
   "metadata": {},
   "outputs": [
    {
     "name": "stdout",
     "output_type": "stream",
     "text": [
      "5\n"
     ]
    }
   ],
   "source": [
    "def add_digits(number):\n",
    "    while number>=10:\n",
    "        number = number //10+number%10\n",
    "    return number \n",
    "\n",
    "print(add_digits(77))\n",
    "    "
   ]
  },
  {
   "cell_type": "code",
   "execution_count": 28,
   "id": "c0472bfd",
   "metadata": {},
   "outputs": [
    {
     "name": "stdout",
     "output_type": "stream",
     "text": [
      "Enter a digit or 'e' to exit :e\n"
     ]
    }
   ],
   "source": [
    "def add_number(number):\n",
    "#     print('given number is:',number)\n",
    "    \n",
    "    \n",
    "    while number>=10:\n",
    "        str_num = str(number)\n",
    "        sum_1=0\n",
    "        for digit in str_num:\n",
    "            sum_1 = sum_1 + int(digit)\n",
    "        number = sum_1\n",
    "    \n",
    "    \n",
    "    \n",
    "    \n",
    "    return number\n",
    "    \n",
    "    \n",
    "    \n",
    "# print('sum of each digit till less than 10 is:',add_number(1))\n",
    "# print('sum of each digit till less than 10 is:',add_number(19))\n",
    "# print('sum of each digit till less than 10 is:',add_number(99))\n",
    "\n",
    "\n",
    "while True:\n",
    "    given_number = input('Enter a digit or \\'e\\' to exit :')\n",
    "    if (given_number.lower()=='e'):\n",
    "        break\n",
    "        \n",
    "    else:\n",
    "        given_number= int(given_number)\n",
    "        print(f'Given number is : {given_number} and sum of each digit till less then 10 is:',add_number(given_number))\n",
    "        "
   ]
  },
  {
   "cell_type": "code",
   "execution_count": null,
   "id": "e3891cdc",
   "metadata": {},
   "outputs": [],
   "source": []
  },
  {
   "cell_type": "markdown",
   "id": "1d2e41e6",
   "metadata": {},
   "source": [
    "##                                         Week_4"
   ]
  },
  {
   "cell_type": "markdown",
   "id": "509a4bf1",
   "metadata": {},
   "source": [
    "### Q1."
   ]
  },
  {
   "cell_type": "markdown",
   "id": "2fd71c2c",
   "metadata": {},
   "source": [
    "Q1. Given an input string s and a pattern p, implement regular expression matching with support for '.' and '*' where:\n",
    "\n",
    "'.' Matches any single character.​​​​\n",
    "'*' Matches zero or more of the preceding element.\n",
    "The matching should cover the entire input string (not partial).\n",
    "\n",
    "Example 1:\n",
    "\n",
    "Input: s = \"aa\", p = \"a\"\n",
    "Output: false\n",
    "Explanation: \"a\" does not match the entire string \"aa\".\n",
    "\n",
    "Example 2:\n",
    "\n",
    "Input: s = \"aa\", p = \"a*\"\n",
    "Output: true\n",
    "Explanation: '*' means zero or more of the preceding element, 'a'. Therefore, by repeating 'a' once, it becomes \"aa\".\n",
    "\n",
    "Example 3:\n",
    "\n",
    "Input: s = \"ab\", p = \".*\"\n",
    "Output: true\n",
    "Explanation: \".*\" means \"zero or more (*) of any character (.)\"."
   ]
  },
  {
   "cell_type": "code",
   "execution_count": 31,
   "id": "3d30ab4b",
   "metadata": {},
   "outputs": [
    {
     "name": "stdout",
     "output_type": "stream",
     "text": [
      "True\n",
      "False\n"
     ]
    }
   ],
   "source": [
    "def isMatch(s: str, p: str) -> bool:  # function return type is bool\n",
    "    rows, columns = (len(s), len(p))\n",
    "    # Base conditions\n",
    "    if rows == 0 and columns == 0:\n",
    "        return True\n",
    "    if columns == 0:\n",
    "        return False\n",
    "\n",
    "    # DP array\n",
    "    dp = [[False for j in range(columns + 1)] for i in range(rows + 1)]\n",
    "    # Since empty string and empty pattern are a match\n",
    "    dp[0][0] = True\n",
    "\n",
    "    # Deals with patterns containing *\n",
    "    for i in range(2, columns + 1):\n",
    "        if p[i - 1] == '*':\n",
    "            dp[0][i] = dp[0][i - 2]\n",
    "\n",
    "    # For remaining characters\n",
    "    for i in range(1, rows + 1):\n",
    "        for j in range(1, columns + 1):\n",
    "            if s[i - 1] == p[j - 1] or p[j - 1] == '.':\n",
    "                dp[i][j] = dp[i - 1][j - 1]\n",
    "            elif j > 1 and p[j - 1] == '*':\n",
    "                dp[i][j] = dp[i][j - 2]\n",
    "                if p[j - 2] == '.' or p[j - 2] == s[i - 1]:\n",
    "                    dp[i][j] = dp[i][j] or dp[i - 1][j]\n",
    "    return dp[rows][columns]\n",
    "\n",
    "\n",
    "print(isMatch('aa', 'a.'))\n",
    "print(isMatch('aa', 'a'))\n",
    "\n",
    "# https://redquark.org/leetcode/0010-regular-expression-matching/"
   ]
  },
  {
   "cell_type": "markdown",
   "id": "48d8a93c",
   "metadata": {},
   "source": [
    "### Q2."
   ]
  },
  {
   "cell_type": "markdown",
   "id": "a7c4562c",
   "metadata": {},
   "source": [
    "Write a Python program to check a sequence of numbers is a geometric progression or not. \n",
    "    Input : [2, 6, 18, 54]\n",
    "    Output : True"
   ]
  },
  {
   "cell_type": "code",
   "execution_count": 6,
   "id": "566bc826",
   "metadata": {},
   "outputs": [
    {
     "name": "stdout",
     "output_type": "stream",
     "text": [
      "Given list is: [2, 6, 18, 54]\n",
      "This list is in geometric progression\n",
      "Given list is: [2, 6, 18, 36]\n",
      "This list is NOT IN geometric progression\n"
     ]
    }
   ],
   "source": [
    "def check_geometric(given_list):\n",
    "    print('Given list is:',given_list)\n",
    "    r= given_list[1]/given_list[0]\n",
    "    flag= True\n",
    "    for i in range(len(given_list)-1):\n",
    "        if ((given_list[i+1]/given_list[i])!= r):\n",
    "            flag = False\n",
    "    \n",
    "    if flag:\n",
    "        print('This list is in geometric progression')\n",
    "    else:\n",
    "        print('This list is NOT IN geometric progression')\n",
    "    \n",
    "    \n",
    "    \n",
    "list_1 = [2, 6, 18, 54]\n",
    "list_2 = [2, 6, 18, 36]\n",
    "\n",
    "check_geometric(list_1)\n",
    "check_geometric(list_2)"
   ]
  },
  {
   "cell_type": "markdown",
   "id": "e99c8980",
   "metadata": {},
   "source": [
    "### Q3."
   ]
  },
  {
   "cell_type": "markdown",
   "id": "748f388a",
   "metadata": {},
   "source": [
    "Write a Python program to compute and return the square root of a given 'integer'. \n",
    "    Input : 16\n",
    "    Output : 4\n",
    "    Note : The returned value will be an 'integer', do not use square root functions from python.\n"
   ]
  },
  {
   "cell_type": "code",
   "execution_count": 18,
   "id": "f5a4ad7a",
   "metadata": {},
   "outputs": [
    {
     "name": "stdout",
     "output_type": "stream",
     "text": [
      "given number is: 9\n",
      "square root of 9 is 3\n",
      "given number is: 10\n",
      "perfect square of 10 does not exist \n",
      "given number -10 is negative number\n"
     ]
    }
   ],
   "source": [
    "def find_square_root(num):\n",
    "    if num>=0:\n",
    "        print('given number is:',num )\n",
    "        flag = False\n",
    "        for i in range(num):\n",
    "            if i*i == num:\n",
    "                print('square root of {} is {}'.format(num,i))\n",
    "                flag = True\n",
    "                break\n",
    "            \n",
    "        if not flag:\n",
    "            print('perfect square of {} does not exist '.format(num))\n",
    "        \n",
    "    else:\n",
    "        print('given number {} is negative number and its square root doesnot exist'.format(num))\n",
    "        \n",
    "        \n",
    "find_square_root(9)\n",
    "find_square_root(10)\n",
    "find_square_root(-10)"
   ]
  },
  {
   "cell_type": "markdown",
   "id": "5f99a597",
   "metadata": {},
   "source": [
    "## Week_5"
   ]
  },
  {
   "cell_type": "markdown",
   "id": "7c5badec",
   "metadata": {},
   "source": [
    "### Q.1"
   ]
  },
  {
   "cell_type": "markdown",
   "id": "0e248398",
   "metadata": {},
   "source": [
    "You are given a 0-indexed binary string s having an even length.\n",
    "\n",
    "A string is beautiful if it's possible to partition it into one or more substrings such that:\n",
    "\n",
    "Each substring has an even length.\n",
    "Each substring contains only 1's or only 0's.\n",
    "You can change any character in s to 0 or 1.\n",
    "\n",
    "Return the minimum number of changes required to make the string s beautiful.\n",
    "\n",
    "Example 1:\n",
    "\n",
    "Input: s = \"1001\"\n",
    "Output: 2\n",
    "Explanation: We change s[1] to 1 and s[3] to 0 to get string \"1100\".\n",
    "It can be seen that the string \"1100\" is beautiful because we can partition it into \"11|00\".\n",
    "It can be proven that 2 is the minimum number of changes needed to make the string beautiful.\n",
    "\n",
    "Example 2:\n",
    "\n",
    "Input: s = \"10\"\n",
    "Output: 1\n",
    "Explanation: We change s[1] to 1 to get string \"11\".\n",
    "It can be seen that the string \"11\" is beautiful because we can partition it into \"11\".\n",
    "It can be proven that 1 is the minimum number of changes needed to make the string beautiful.\n",
    "\n",
    "Example 3:\n",
    "\n",
    "Input: s = \"0000\"\n",
    "Output: 0\n",
    "Explanation: We don't need to make any changes as the string \"0000\" is beautiful already."
   ]
  },
  {
   "cell_type": "code",
   "execution_count": 35,
   "id": "a87b2c85",
   "metadata": {},
   "outputs": [
    {
     "name": "stdout",
     "output_type": "stream",
     "text": [
      "given string is : 1001\n"
     ]
    },
    {
     "data": {
      "text/plain": [
       "2"
      ]
     },
     "execution_count": 35,
     "metadata": {},
     "output_type": "execute_result"
    }
   ],
   "source": [
    "def beautiful_binary(given_string):\n",
    "    if len(str(given_string)) %2 !=0:\n",
    "        print('given binary string does not have even length ')\n",
    "        exit\n",
    "        \n",
    "    else:\n",
    "        print('given string is :',given_string)\n",
    "        steps = 0\n",
    "        given_string = str(given_string)\n",
    "        for i in range(0,len(str(given_string)),2):\n",
    "            if given_string[i]!=given_string[i+1]:\n",
    "             steps= steps +1\n",
    "                \n",
    "        return steps\n",
    "        \n",
    "        \n",
    "        \n",
    "beautiful_binary(1001)"
   ]
  },
  {
   "cell_type": "markdown",
   "id": "eb403783",
   "metadata": {},
   "source": [
    "### Q2."
   ]
  },
  {
   "cell_type": "markdown",
   "id": "fad74e43",
   "metadata": {},
   "source": [
    "Write a Python program to find all the numbers from 0-9 from a string:\n",
    "\n",
    "input: '89ADFRE41'\n",
    "\n",
    "Output :[8941]"
   ]
  },
  {
   "cell_type": "code",
   "execution_count": 41,
   "id": "045c0c68",
   "metadata": {},
   "outputs": [
    {
     "name": "stdout",
     "output_type": "stream",
     "text": [
      "given string is: 89ADFRE41\n",
      "['8', '9', '4', '1']\n",
      "['8941']\n"
     ]
    }
   ],
   "source": [
    "def fing_digit(given_string):\n",
    "    print('given string is:',given_string)\n",
    "    list_digit= []\n",
    "    for i in given_string:\n",
    "        if i.isdigit():\n",
    "            list_digit.append(i)\n",
    "            \n",
    "    print(list_digit)\n",
    "    list_join = [''.join(list_digit)]\n",
    "    print(list_join)\n",
    "    \n",
    "    \n",
    "    \n",
    "string_1 = '89ADFRE41'\n",
    "fing_digit(string_1)"
   ]
  },
  {
   "cell_type": "markdown",
   "id": "7587dee5",
   "metadata": {},
   "source": [
    "### Q3."
   ]
  },
  {
   "cell_type": "markdown",
   "id": "2e976266",
   "metadata": {},
   "source": [
    "Write a Python program to reverse the digits of an integer. \n",
    "Input : 234\n",
    "Input : -234\n",
    "Output: 432\n",
    "Output : -432"
   ]
  },
  {
   "cell_type": "code",
   "execution_count": 45,
   "id": "ec7006cc",
   "metadata": {},
   "outputs": [
    {
     "data": {
      "text/plain": [
       "-432"
      ]
     },
     "execution_count": 45,
     "metadata": {},
     "output_type": "execute_result"
    }
   ],
   "source": [
    "def reverse_digit(num):\n",
    "    flag = False\n",
    "    if num<0:\n",
    "        flag = True\n",
    "        num = num*-1\n",
    "    num = str(num)\n",
    "    num_rev = num[::-1]\n",
    "    num = int(num_rev)\n",
    "    \n",
    "    if flag:\n",
    "        num= num*-1\n",
    "    return num\n",
    "    \n",
    "    \n",
    "    \n",
    "    \n",
    "reverse_digit(-234)\n",
    "        \n",
    "        \n",
    "        "
   ]
  },
  {
   "cell_type": "markdown",
   "id": "13f167d0",
   "metadata": {},
   "source": [
    "### Q4."
   ]
  },
  {
   "cell_type": "markdown",
   "id": "d84cff65",
   "metadata": {},
   "source": [
    " You are given three integers start, finish, and limit. You are also given a 0-indexed string s representing a positive integer.\n",
    "\n",
    "A positive integer x is called powerful if it ends with s (in other words, s is a suffix of x) and each digit in x is at most limit.\n",
    "\n",
    "Return the total number of powerful integers in the range [start..finish].\n",
    "\n",
    "A string x is a suffix of a string y if and only if x is a substring of y that starts from some index (including 0) in y and extends to the index y.length - 1. For example, 25 is a suffix of 5125 whereas 512 is not.\n",
    "\n",
    "\n",
    "\n",
    "\n",
    "#### Example 1:\n",
    "\n",
    "Input: start = 1, finish = 6000, limit = 4, s = \"124\"\n",
    "Output: 5\n",
    "Explanation: The powerful integers in the range [1..6000] are 124, 1124, 2124, 3124, and, 4124. All these integers have each digit <= 4, and \"124\" as a suffix. Note that 5124 is not a powerful integer because the first digit is 5 which is greater than 4.\n",
    "It can be shown that there are only 5 powerful integers in this range.\n",
    "\n",
    "#### Example 2:\n",
    "Input: start = 15, finish = 215, limit = 6, s = \"10\"\n",
    "Output: 2\n",
    "Explanation: The powerful integers in the range [15..215] are 110 and 210. All these integers have each digit <= 6, and \"10\" as a suffix.\n",
    "It can be shown that there are only 2 powerful integers in this range."
   ]
  },
  {
   "cell_type": "code",
   "execution_count": 48,
   "id": "46d3f3ce",
   "metadata": {},
   "outputs": [
    {
     "name": "stdout",
     "output_type": "stream",
     "text": [
      "start is:15 finish is:215 limit is :6 and givenstring with index is:10:\n",
      "beautiful numbers in between is: ['110', '210']\n"
     ]
    }
   ],
   "source": [
    "def powerful_integers(start,finish,limit,s):\n",
    "    result=[]\n",
    "    print('start is:{} finish is:{} limit is :{} and givenstring with index is:{}:'.format(start,finish,limit,s))\n",
    "    for i in range(start,finish+1):\n",
    "            i_str =str(i)\n",
    "            \n",
    "            if i_str.endswith(s) and all(int(x) <= limit for x in i_str):\n",
    "                     result.append(i_str)\n",
    "    print('beautiful numbers in between is:',result)\n",
    "            \n",
    "       \n",
    "# powerful_integers(15,215,6,'10')\n",
    "# powerful_integers(1,6000,4,'124')\n",
    "start,finish,limit,s=15,215,6,'10'\n",
    "powerful_integers(start,finish,limit,s)\n",
    "\n"
   ]
  },
  {
   "cell_type": "markdown",
   "id": "8d226595",
   "metadata": {},
   "source": [
    "## Week 6:"
   ]
  },
  {
   "cell_type": "markdown",
   "id": "86d544e5",
   "metadata": {},
   "source": [
    "### Q1."
   ]
  },
  {
   "cell_type": "markdown",
   "id": "2d54d0f2",
   "metadata": {},
   "source": [
    "Write a program to check wheather a sequence is in arithmetic progression or not"
   ]
  },
  {
   "cell_type": "code",
   "execution_count": 10,
   "id": "f7706a94",
   "metadata": {},
   "outputs": [
    {
     "name": "stdout",
     "output_type": "stream",
     "text": [
      "[1, 3, 5]\n",
      "Given list [1, 3, 5] is in arithmetic series\n",
      "[1, 3, 6]\n",
      "Given list [1, 3, 6] is not in arithmetic progression\n"
     ]
    }
   ],
   "source": [
    "def check_arithmetic(list_given):\n",
    "    print(list_given)\n",
    "    diff = list_given[1]-list_given[0]\n",
    "    flag = True\n",
    "    for i in range (0, len(list_given)-1):\n",
    "        if list_given[i]+diff != list_given[i+1]:\n",
    "            flag = False\n",
    "        \n",
    "    if flag:\n",
    "        print(f'Given list {list_given} is in arithmetic series')\n",
    "    else:\n",
    "        print(f'Given list {list_given} is not in arithmetic progression')\n",
    "        \n",
    "    \n",
    "    \n",
    "\n",
    "list_1 = [1,3,5]    \n",
    "check_arithmetic(list_1)\n",
    "\n",
    "list_1 = [1,3,6]    \n",
    "check_arithmetic(list_1)"
   ]
  },
  {
   "cell_type": "markdown",
   "id": "8f1aef97",
   "metadata": {},
   "source": [
    "### Q2. \n",
    "Write a Python program to check whether a given number is an ugly number.\n",
    "Input : 12 Output : True Ugly numbers are positive numbers whose only prime factors are 2, 3 or 5. The sequence 1, 2, 3, 4, 5, 6, 8, 9, 10, 12, ... shows the first 10 ugly numbers. Note: 1 is typically treated as an ugly number"
   ]
  },
  {
   "cell_type": "code",
   "execution_count": 3,
   "id": "3fdc45e3",
   "metadata": {},
   "outputs": [
    {
     "name": "stdout",
     "output_type": "stream",
     "text": [
      "2\n",
      "7\n"
     ]
    },
    {
     "data": {
      "text/plain": [
       "False"
      ]
     },
     "execution_count": 3,
     "metadata": {},
     "output_type": "execute_result"
    }
   ],
   "source": [
    "def find_ugly_number(num):\n",
    "    print(num)\n",
    "    allowed_factors = [2,3,5]\n",
    "    for i in allowed_factors:\n",
    "        while num % i ==0:\n",
    "            num = num //i\n",
    "    if num == 1:\n",
    "        return True\n",
    "    else:\n",
    "        return False\n",
    "    \n",
    "    \n",
    "    \n",
    "    \n",
    "find_ugly_number(2)\n",
    "find_ugly_number(7)"
   ]
  },
  {
   "cell_type": "markdown",
   "id": "afea61d6",
   "metadata": {},
   "source": [
    "## Q3.\n",
    "Write a Python Function to find the single number in a list that doesn't occur n times.¶\n",
    "Input : [5, 3,3,4, 4, 3, 4], N=3 Output : 5"
   ]
  },
  {
   "cell_type": "code",
   "execution_count": 10,
   "id": "189441fa",
   "metadata": {},
   "outputs": [
    {
     "name": "stdout",
     "output_type": "stream",
     "text": [
      "given list is:  [5, 3, 3, 4, 4, 3, 4]\n",
      "[5]\n"
     ]
    }
   ],
   "source": [
    "def find_single(given_list):\n",
    "    print('given list is: ',given_list)\n",
    "    d = {}\n",
    "    for i in given_list:\n",
    "        d[i] = d.get(i,0)+1\n",
    "#     print(d)\n",
    "    single_value =[ key for key, value in d.items() if value !=3]\n",
    "    print(single_value)\n",
    "    \n",
    "    \n",
    "list_1 = [5,3,3,4,4,3,4]\n",
    "find_single(list_1)"
   ]
  },
  {
   "cell_type": "markdown",
   "id": "e43c146a",
   "metadata": {},
   "source": [
    "## Week_7:"
   ]
  },
  {
   "cell_type": "markdown",
   "id": "1b646684",
   "metadata": {},
   "source": [
    "### Q1."
   ]
  },
  {
   "cell_type": "markdown",
   "id": "6888d346",
   "metadata": {},
   "source": [
    "Given an integer x, return true if x is palindrome integer.\n",
    "An integer is a palindrome when it reads the same backward as forward.\n",
    "\n",
    "For example, 121 is a palindrome while 123 is not."
   ]
  },
  {
   "cell_type": "code",
   "execution_count": 17,
   "id": "66380325",
   "metadata": {},
   "outputs": [
    {
     "name": "stdout",
     "output_type": "stream",
     "text": [
      "given number is: 333\n",
      "given number 333 is pallindrome.\n",
      "given number is: 334\n",
      "given number 334 is NOT pallindrome.\n"
     ]
    }
   ],
   "source": [
    "def find_pallindrome(num):\n",
    "    print('given number is:',num)\n",
    "    str_num = str(num)\n",
    "    rev_str = str_num[::-1]\n",
    "    if rev_str == str_num:\n",
    "        print(f'given number {num} is pallindrome.' )\n",
    "    else:\n",
    "        print(f'given number {num} is NOT pallindrome.' )\n",
    "        \n",
    "    \n",
    "    \n",
    "    \n",
    "find_pallindrome(333)\n",
    "find_pallindrome(334)\n",
    "\n",
    "    "
   ]
  },
  {
   "cell_type": "markdown",
   "id": "6bae4130",
   "metadata": {},
   "source": [
    "## Q2.\n",
    "Roman numerals are represented by seven different symbols: I, V, X, L, C, D and M.\n",
    "Symbol Value\n",
    "\n",
    "I 1\n",
    "\n",
    "V 5\n",
    "\n",
    "X 10\n",
    "\n",
    "L 50\n",
    "\n",
    "C 100\n",
    "\n",
    "D 500\n",
    "\n",
    "M 1000\n",
    "\n",
    "For example, 2 is written as II in Roman numeral, just two ones added together. 12 is written as XII, which is simply X + II. The number 27 is written as XXVII, which is XX + V + II.\n",
    "\n",
    "Roman numerals are usually written largest to smallest from left to right. However, the numeral for four is not IIII. Instead, the number four is written as IV. Because the one is before the five we subtract it making four. The same principle applies to the number nine, which is written as IX. There are six instances where subtraction is used:\n",
    "\n",
    "I can be placed before V (5) and X (10) to make 4 and 9. X can be placed before L (50) and C (100) to make 40 and 90. C can be placed before D (500) and M (1000) to make 400 and 900. Given a roman numeral, convert it to an integer.\n",
    "\n",
    "Example 1:\n",
    "\n",
    "Input: s = \"III\"\n",
    "\n",
    "Output: 3\n",
    "\n",
    "Explanation: III = 3.\n",
    "\n",
    "Input: s = \"LVIII\"\n",
    "\n",
    "Output: 58\n",
    "\n",
    "Explanation: L = 50, V= 5, III = 3."
   ]
  },
  {
   "cell_type": "code",
   "execution_count": 30,
   "id": "d621e6cc",
   "metadata": {},
   "outputs": [
    {
     "name": "stdout",
     "output_type": "stream",
     "text": [
      "given number is II\n"
     ]
    },
    {
     "data": {
      "text/plain": [
       "2"
      ]
     },
     "execution_count": 30,
     "metadata": {},
     "output_type": "execute_result"
    }
   ],
   "source": [
    "def roman_to_int(roman):\n",
    "    print('given number is',roman)\n",
    "    roman_values = { 'I' : 1, 'V': 5, 'X' : 10,'L' : 50, 'C' : 100, 'D' : 500, 'M' :1000}\n",
    "#     print(d)\n",
    "    \n",
    "    final_value = 0\n",
    "    prev_value =0\n",
    "    \n",
    "    for i in reversed(roman):\n",
    "        value = roman_values[i]\n",
    "        if value < prev_value:\n",
    "            final_value = final_value -value\n",
    "        else:\n",
    "            final_value = final_value + value\n",
    "            prev_value = value\n",
    "    return final_value\n",
    "        \n",
    "    \n",
    "    \n",
    "    \n",
    "value = 'II'  \n",
    "roman_to_int(value.upper())\n"
   ]
  },
  {
   "cell_type": "code",
   "execution_count": 31,
   "id": "ae6cf520",
   "metadata": {},
   "outputs": [],
   "source": [
    "### numeric to roman\n",
    "def int_to_roman(number):\n",
    "    num = [1, 4, 5, 9, 10, 40, 50, 90,\n",
    "           100, 400, 500, 900, 1000]\n",
    "    sym = [\"I\", \"IV\", \"V\", \"IX\", \"X\", \"XL\",\n",
    "           \"L\", \"XC\", \"C\", \"CD\", \"D\", \"CM\", \"M\"]\n",
    "    i =12\n",
    "\n",
    "    while number:\n",
    "         div =number//num[i]\n",
    "         number = number % num[i]\n",
    "\n",
    "         while div:\n",
    "            print(sym[i],end='')\n",
    "            div-=1\n",
    "         i=i-1\n",
    "\n",
    "\n",
    "\n",
    "\n",
    "int_to_roman(15)"
   ]
  },
  {
   "cell_type": "markdown",
   "id": "f7417626",
   "metadata": {},
   "source": [
    "### Q3.\n",
    "You are given an array of k linked-lists lists, each linked-list is sorted in ascending order.¶\n",
    "Merge all the linked-lists into one sorted linked-list and return it.\n",
    "\n",
    "Example 1:\n",
    "\n",
    "Input: lists = [[1,4,5],[1,3,4],[2,6]] Output: [1,1,2,3,4,4,5,6] Explanation: The linked-lists are: [ 1->4->5, 1->3->4, 2->6 ] merging them into one sorted list: 1->1->2->3->4->4->5->6 Example 2:\n",
    "\n",
    "Input: lists = [] Output: [] Example 3:\n",
    "\n",
    "Input: lists = [[]] Output: []"
   ]
  },
  {
   "cell_type": "code",
   "execution_count": 32,
   "id": "2f3637e7",
   "metadata": {},
   "outputs": [
    {
     "name": "stdout",
     "output_type": "stream",
     "text": [
      "[1, 1, 2, 3, 4, 4, 5, 6]\n",
      "[]\n"
     ]
    }
   ],
   "source": [
    "def sort_nested_list(nested_list):\n",
    "    flat_list = []\n",
    "    for sublist in nested_list:\n",
    "        for item in sublist:\n",
    "            for digit in str(item):\n",
    "                flat_list.append(int(digit))\n",
    "    flat_list.sort()\n",
    "    return flat_list\n",
    "\n",
    "\n",
    "given_list = [[1,4,5],[1,3,4],[2,6]]\n",
    "result = sort_nested_list(given_list)\n",
    "print(result)\n",
    "\n",
    "\n",
    "given_list = []\n",
    "result = sort_nested_list(given_list)\n",
    "print(result)"
   ]
  },
  {
   "cell_type": "markdown",
   "id": "57e5445d",
   "metadata": {},
   "source": [
    "### Q4.\n",
    "Given an integer array nums and an integer k, return the number of good subarrays of nums.\n",
    "A good array is an array where the number of different integers in that array is exactly k.\n",
    "\n",
    "For example, [1,2,3,1,2] has 3 different integers: 1, 2, and 3. A subarray is a contiguous part of an array.\n",
    "\n",
    "Example 1:\n",
    "\n",
    "Input: nums = [1,2,1,2,3], k = 2 Output: 7 Explanation: Subarrays formed with exactly 2 different integers: [1,2], [2,1], [1,2], [2,3], [1,2,1], [2,1,2], [1,2,1,2] Example 2:\n",
    "\n",
    "Input: nums = [1,2,1,3,4], k = 3 Output: 3 Explanation: Subarrays formed with exactly 3 different integers: [1,2,1,3], [2,1,3], [1,3,4]."
   ]
  },
  {
   "cell_type": "code",
   "execution_count": 33,
   "id": "9391223f",
   "metadata": {},
   "outputs": [
    {
     "name": "stdout",
     "output_type": "stream",
     "text": [
      "10\n"
     ]
    }
   ],
   "source": [
    "from itertools import combinations\n",
    "\n",
    "def count_good_subarrays(nums, k):\n",
    "    count = 0\n",
    "    for length in range(3, len(nums) + 1):\n",
    "        for subset in combinations(nums, length):\n",
    "            distinct_count = len(set(subset))\n",
    "            if distinct_count == k:\n",
    "                count += 1\n",
    "    return count\n",
    "\n",
    "# Example usage:\n",
    "nums = [1,2,1,3,4]\n",
    "k = 3\n",
    "print(count_good_subarrays(nums, k))  \n",
    "\n",
    "######still have to add some constrains to make it working properly"
   ]
  },
  {
   "cell_type": "markdown",
   "id": "7cceae3e",
   "metadata": {},
   "source": [
    "## Week 8:"
   ]
  },
  {
   "cell_type": "markdown",
   "id": "8321dc15",
   "metadata": {},
   "source": [
    "### Q1.\n",
    "Write a function to find the longest common prefix string amongst an array of strings.\n",
    "\n",
    "If there is no common prefix, return an empty string \"\".\n",
    "\n",
    "Example 1:\n",
    "\n",
    "Input: strs = [\"flower\",\"flow\",\"flight\"]\n",
    "\n",
    "Output: \"fl\""
   ]
  },
  {
   "cell_type": "code",
   "execution_count": 39,
   "id": "ec35e616",
   "metadata": {},
   "outputs": [
    {
     "name": "stdout",
     "output_type": "stream",
     "text": [
      "Longest common prefix: fl\n"
     ]
    }
   ],
   "source": [
    "def longest_common_prefix(given_list):\n",
    "    if not given_list:\n",
    "        return ''\n",
    "    else:\n",
    "        given_list.sort()   #imp\n",
    "        prefix = given_list[0]\n",
    "        for i in range(1,len(given_list)):\n",
    "            for j in range (len(prefix)):\n",
    "                if prefix[j] != given_list[i][j]:\n",
    "                    prefix = prefix[:j]\n",
    "                    break\n",
    "        return prefix\n",
    "\n",
    "\n",
    "\n",
    "str_list = [\"flower\", \"flow\", \"flight\"]\n",
    "print(\"Longest common prefix:\", longest_common_prefix(str_list))"
   ]
  },
  {
   "cell_type": "markdown",
   "id": "4abf8fcd",
   "metadata": {},
   "source": [
    "### Q2.\n",
    "Given an array nums of size n, return the majority element.\n",
    "\n",
    "The majority element is the element that appears more than ⌊n / 2⌋ times. You may assume that the majority element always exists in the array.\n",
    "\n",
    "Example 1:\n",
    "\n",
    "Input: nums = [3,2,3]\n",
    "\n",
    "Output: 3"
   ]
  },
  {
   "cell_type": "code",
   "execution_count": 40,
   "id": "e907f76e",
   "metadata": {},
   "outputs": [
    {
     "name": "stdout",
     "output_type": "stream",
     "text": [
      "Enter an integer number to add to the list or (e to exit): 3\n",
      "Enter an integer number to add to the list or (e to exit): 3\n",
      "Enter an integer number to add to the list or (e to exit): 3\n",
      "Enter an integer number to add to the list or (e to exit): 3\n",
      "Enter an integer number to add to the list or (e to exit): 4\n",
      "Enter an integer number to add to the list or (e to exit): e\n",
      "Given list is: ['3', '3', '3', '3', '4']\n",
      "Elements that occur more than n/2 times: ['3']\n"
     ]
    }
   ],
   "source": [
    "my_list = []\n",
    "my_dictionary = {}\n",
    "while True:\n",
    "    a = input('Enter an integer number to add to the list or (e to exit): ')\n",
    "    if a.lower() == 'e':\n",
    "        break\n",
    "    else:\n",
    "        my_list.append(a)\n",
    "\n",
    "print('Given list is:', my_list)\n",
    "\n",
    "# Counting the occurrences of each element in the list\n",
    "for i in my_list:\n",
    "    my_dictionary[i] = my_dictionary.get(i, 0) + 1\n",
    "\n",
    "\n",
    "threshold = len(my_list) / 2\n",
    "\n",
    "# Finding the elements that occur more than n/2 times\n",
    "majority_elements = [key for key, value in my_dictionary.items() if value > threshold]\n",
    "\n",
    "print('Elements that occur more than n/2 times:', majority_elements)\n"
   ]
  },
  {
   "cell_type": "markdown",
   "id": "c3b027fc",
   "metadata": {},
   "source": [
    "### Q3.\n",
    "In a project, you have a list of required skills req_skills, and a list of people. The ith person people[i] contains a list of skills that the person has.\n",
    "\n",
    "Consider a sufficient team: a set of people such that for every required skill in req_skills, there is at least one person in the team who has that skill. We can represent these teams by the index of each person.\n",
    "\n",
    "For example, team = [0, 1, 3] represents the people with skills people[0], people[1], and people[3]. Return any sufficient team of the smallest possible size, represented by the index of each person. You may return the answer in any order.\n",
    "\n",
    "It is guaranteed an answer exists.\n",
    "\n",
    "Example 1:\n",
    "\n",
    "Input: req_skills = [\"java\",\"nodejs\",\"reactjs\"], people = [[\"java\"],[\"nodejs\"],[\"nodejs\",\"reactjs\"]] Output: [0,2] Example 2:\n",
    "\n",
    "Input: req_skills = [\"algorithms\",\"math\",\"java\",\"reactjs\",\"csharp\",\"aws\"], people = [[\"algorithms\",\"math\",\"java\"],[\"algorithms\",\"math\",\"reactjs\"],[\"java\",\"csharp\",\"aws\"],[\"reactjs\",\"csharp\"],[\"csharp\",\"math\"],[\"aws\",\"java\"]] Output: [1,2]"
   ]
  },
  {
   "cell_type": "code",
   "execution_count": 41,
   "id": "1e242dc2",
   "metadata": {},
   "outputs": [
    {
     "name": "stdout",
     "output_type": "stream",
     "text": [
      "[0, 1, 2]\n"
     ]
    }
   ],
   "source": [
    "\n",
    "# DFS approach\n",
    "\n",
    "def smallestSufficientTeam(req_skills, people):\n",
    "    skill_map = {skill: i for i, skill in enumerate(req_skills)}\n",
    "    people_skills = [set(skill_map[skill] for skill in person) for person in people]\n",
    "    dp = {}\n",
    "\n",
    "    def dfs(covered_skills, index):\n",
    "        covered_skills_tuple = tuple(sorted(covered_skills))\n",
    "        if covered_skills_tuple == tuple(range(len(req_skills))):  # All required skills are covered\n",
    "            return []\n",
    "        if index == len(people):  # Reached the end of the people list\n",
    "            return None\n",
    "        if (covered_skills_tuple, index) in dp:\n",
    "            return dp[(covered_skills_tuple, index)]\n",
    "\n",
    "        # Try including the current person in the team\n",
    "        with_person = dfs(covered_skills.union(people_skills[index]), index + 1)\n",
    "        if with_person is not None:\n",
    "            with_person.append(index)\n",
    "            dp[(covered_skills_tuple, index)] = with_person\n",
    "            return with_person\n",
    "\n",
    "        # Try excluding the current person from the team\n",
    "        without_person = dfs(covered_skills, index + 1)\n",
    "        dp[(covered_skills_tuple, index)] = without_person\n",
    "        return without_person\n",
    "\n",
    "    team_indices = dfs(set(), 0)\n",
    "    return team_indices[::-1] if team_indices else []\n",
    "\n",
    "# Example usage:\n",
    "req_skills = [\"algorithms\", \"math\", \"java\", \"reactjs\", \"csharp\", \"aws\"]\n",
    "people = [[\"algorithms\", \"math\", \"java\"], [\"algorithms\", \"math\", \"reactjs\"], [\"java\", \"csharp\", \"aws\"],\n",
    "          [\"reactjs\", \"csharp\"], [\"csharp\", \"math\"], [\"aws\", \"java\"]]\n",
    "print(smallestSufficientTeam(req_skills, people))\n"
   ]
  },
  {
   "cell_type": "markdown",
   "id": "c56c27d8",
   "metadata": {},
   "source": [
    "### Q4.\n",
    "Given an integer n, your task is to count how many strings of length n can be formed under the following rules:\n",
    "\n",
    "Each character is a lower case vowel ('a', 'e', 'i', 'o', 'u') Each vowel 'a' may only be followed by an 'e'. Each vowel 'e' may only be followed by an 'a' or an 'i'. Each vowel 'i' may not be followed by another 'i'. Each vowel 'o' may only be followed by an 'i' or a 'u'. Each vowel 'u' may only be followed by an 'a'. Since the answer may be too large, return it modulo 10^9 + 7.\n",
    "\n",
    "Example 1:\n",
    "\n",
    "Input: n = 1 Output: 5 Explanation: All possible strings are: \"a\", \"e\", \"i\" , \"o\" and \"u\". Example 2:\n",
    "\n",
    "Input: n = 2 Output: 10 Explanation: All possible strings are: \"ae\", \"ea\", \"ei\", \"ia\", \"ie\", \"io\", \"iu\", \"oi\", \"ou\" and \"ua\". Example 3:\n",
    "\n",
    "Input: n = 5 Output: 68"
   ]
  },
  {
   "cell_type": "code",
   "execution_count": 42,
   "id": "d53fb4b2",
   "metadata": {},
   "outputs": [
    {
     "name": "stdout",
     "output_type": "stream",
     "text": [
      "5\n",
      "10\n",
      "83\n"
     ]
    }
   ],
   "source": [
    "# ***********Dynamic programming approach******\n",
    "\n",
    "def countVowelStrings(n):\n",
    "    MOD = 10**9 + 7\n",
    "    # Initializing the dp array with 0's\n",
    "    dp = [[0] * 5 for _ in range(n + 1)]\n",
    "    # Initializing the base case for length 1\n",
    "    for i in range(5):\n",
    "        dp[1][i] = 1\n",
    "    \n",
    "    # Iterate through lengths from 2 to n\n",
    "    for i in range(2, n + 1):\n",
    "        # Update dp[i][0] (ending with 'a')\n",
    "        dp[i][0] = (dp[i - 1][1] + dp[i - 1][2] + dp[i - 1][4]) % MOD\n",
    "        # Update dp[i][1] (ending with 'e')\n",
    "        dp[i][1] = (dp[i - 1][0] + dp[i - 1][2]) % MOD\n",
    "        # Update dp[i][2] (ending with 'i')\n",
    "        dp[i][2] = (dp[i - 1][1] + dp[i - 1][3]) % MOD\n",
    "        # Update dp[i][3] (ending with 'o')\n",
    "        dp[i][3] = (dp[i - 1][2] + dp[i - 1][4]) % MOD\n",
    "        # Update dp[i][4] (ending with 'u')\n",
    "        dp[i][4] = (dp[i - 1][0]) % MOD\n",
    "    \n",
    "    # Sum all possibilities for strings of length n\n",
    "    total = sum(dp[n]) % MOD\n",
    "    return total\n",
    "\n",
    "\n",
    "print(countVowelStrings(1))  \n",
    "print(countVowelStrings(2))  \n",
    "print(countVowelStrings(5))  \n"
   ]
  },
  {
   "cell_type": "markdown",
   "id": "3fa3351d",
   "metadata": {},
   "source": [
    "### Week 9:\n",
    "\n",
    "### Q1\n",
    "forward and backward. Alphanumeric characters include letters and numbers. Given a string s, return true if it is a palindrome, or false otherwise.\n",
    "\n",
    "Example 1:\n",
    "\n",
    "Input: s = \"A man, a plan, a canal: Panama\"\n",
    "\n",
    "Output: true\n",
    "\n",
    "Explanation: \"amanaplanacanalpanama\" is a palindrome.\n",
    "\n",
    "Example 2:\n",
    "\n",
    "Input: s = \"race a car\"\n",
    "\n",
    "Output: false\n",
    "\n",
    "Explanation: \"raceacar\" is not a palindrome."
   ]
  },
  {
   "cell_type": "code",
   "execution_count": 44,
   "id": "342e2bda",
   "metadata": {},
   "outputs": [
    {
     "name": "stdout",
     "output_type": "stream",
     "text": [
      "True\n",
      "True\n",
      "False\n"
     ]
    }
   ],
   "source": [
    "def is_palindrome(s):\n",
    "    \n",
    "    cleaned_string = ''.join (char.lower() for char in s if char.isalnum())\n",
    "    rev_str = cleaned_string[::-1]\n",
    "#     print(cleaned_string)\n",
    "    return cleaned_string == rev_str\n",
    "\n",
    "# Test the function\n",
    "print(is_palindrome(\"A man, a plan, a canal, Panama!\"))  \n",
    "print(is_palindrome(\"racecar\"))  \n",
    "print(is_palindrome(\"hello\"))  "
   ]
  },
  {
   "cell_type": "markdown",
   "id": "e3ad7f40",
   "metadata": {},
   "source": [
    "### Q2.\n",
    "Given an array nums of size n, return the majority element. The majority element is the element that appears more than ⌊n / 2⌋ times. You may assume that the majority element always exists in the array.\n",
    "\n",
    "Example 1:\n",
    "\n",
    "Input: nums = [3,2,3]\n",
    "\n",
    "Output: 3\n",
    "\n",
    "Example 2:\n",
    "\n",
    "Input: nums = [2,2,1,1,1,2,2]\n",
    "\n",
    "Output: 2"
   ]
  },
  {
   "cell_type": "code",
   "execution_count": 46,
   "id": "82ae0d5a",
   "metadata": {},
   "outputs": [
    {
     "name": "stdout",
     "output_type": "stream",
     "text": [
      "Enter an integer number to add to the list or (e to exit): 2\n",
      "Enter an integer number to add to the list or (e to exit): 2\n",
      "Enter an integer number to add to the list or (e to exit): 3\n",
      "Enter an integer number to add to the list or (e to exit): e\n",
      "Given list is: ['2', '2', '3']\n",
      "Elements that occur more than n/2 times: ['2']\n"
     ]
    }
   ],
   "source": [
    "my_list = []\n",
    "my_dictionary = {}\n",
    "while True:\n",
    "    a = input('Enter an integer number to add to the list or (e to exit): ')\n",
    "    if a.lower() == 'e':\n",
    "        break\n",
    "    else:\n",
    "        my_list.append(a)\n",
    "\n",
    "print('Given list is:', my_list)\n",
    "\n",
    "# Counting the occurrences of each element in the list\n",
    "for i in my_list:\n",
    "    my_dictionary[i] = my_dictionary.get(i, 0) + 1\n",
    "\n",
    "\n",
    "threshold = len(my_list) / 2\n",
    "\n",
    "# Finding the elements that occur more than n/2 times\n",
    "majority_elements = [key for key, value in my_dictionary.items() if value > threshold]\n",
    "\n",
    "print('Elements that occur more than n/2 times:', majority_elements)"
   ]
  },
  {
   "cell_type": "markdown",
   "id": "241b5c66",
   "metadata": {},
   "source": [
    "### Q3.\n",
    "Write an algorithm to determine if a number n is happy. A happy number is a number defined by the following process:\n",
    "\n",
    "Starting with any positive integer, replace the number by the sum of the squares of its digits. Repeat the process until the number equals 1 (where it will stay), or it loops endlessly in a cycle which does not include 1. Those numbers for which this process ends in 1 are happy. Return true if n is a happy number, and false if not.\n",
    "\n",
    "Example 1:\n",
    "\n",
    "Input: n = 19\n",
    "\n",
    "Output: true\n",
    "\n",
    "Explanation:\n",
    "\n",
    "12 + 92 = 82\n",
    "\n",
    "82 + 22 = 68\n",
    "\n",
    "62 + 82 = 100\n",
    "\n",
    "12 + 02 + 02 = 1\n",
    "\n",
    "Example 2:\n",
    "\n",
    "Input: n = 2\n",
    "\n",
    "Output: false"
   ]
  },
  {
   "cell_type": "code",
   "execution_count": 52,
   "id": "5e6af3f6",
   "metadata": {},
   "outputs": [
    {
     "name": "stdout",
     "output_type": "stream",
     "text": [
      "given number is: 19\n"
     ]
    },
    {
     "data": {
      "text/plain": [
       "True"
      ]
     },
     "execution_count": 52,
     "metadata": {},
     "output_type": "execute_result"
    }
   ],
   "source": [
    "def happy_number(num):\n",
    "    print('given number is:',num)\n",
    "#     str_num  = str(num)\n",
    "    seen = set()\n",
    "    \n",
    "    while num!=1:\n",
    "        num= sum(int(digit)**2  for digit in str(num))\n",
    "        \n",
    "        if num in seen:\n",
    "            return False\n",
    "        seen.add(num)\n",
    "        \n",
    "        \n",
    "        \n",
    "    return True\n",
    "  \n",
    "        \n",
    "    \n",
    "    \n",
    "    \n",
    "    \n",
    "# happy_number(3)\n",
    "happy_number(19)\n",
    "\n"
   ]
  },
  {
   "cell_type": "markdown",
   "id": "f9ee33d7",
   "metadata": {},
   "source": [
    "### Q4.\n",
    "You are given an integer array nums. We call a subset of nums good if its product can be represented as a product of one or more distinct prime numbers.\n",
    "\n",
    "For example, if nums = [1, 2, 3, 4]: [2, 3], [1, 2, 3], and [1, 3] are good subsets with products 6 = 23, 6 = 23, and 3 = 3 respectively. [1, 4] and [4] are not good subsets with products 4 = 22 and 4 = 22 respectively. Return the number of different good subsets in nums modulo 109 + 7.\n",
    "\n",
    "A subset of nums is any array that can be obtained by deleting some (possibly none or all) elements from nums. Two subsets are different if and only if the chosen indices to delete are different.\n",
    "\n",
    "Example 1:\n",
    "\n",
    "Input: nums = [1,2,3,4] Output: 6 Explanation: The good subsets are:\n",
    "\n",
    "[1,2]: product is 2, which is the product of distinct prime 2.\n",
    "[1,2,3]: product is 6, which is the product of distinct primes 2 and 3.\n",
    "[1,3]: product is 3, which is the product of distinct prime 3.\n",
    "[2]: product is 2, which is the product of distinct prime 2.\n",
    "[2,3]: product is 6, which is the product of distinct primes 2 and 3.\n",
    "[3]: product is 3, which is the product of distinct prime 3. Example 2:\n",
    "Input: nums = [4,2,3,15] Output: 5 Explanation: The good subsets are:\n",
    "\n",
    "[2]: product is 2, which is the product of distinct prime 2.\n",
    "[2,3]: product is 6, which is the product of distinct primes 2 and 3.\n",
    "[2,15]: product is 30, which is the product of distinct primes 2, 3, and 5.\n",
    "[3]: product is 3, which is the product of distinct prime 3.\n",
    "[15]: product is 15, which is the product of distinct primes 3 and 5."
   ]
  },
  {
   "cell_type": "code",
   "execution_count": 53,
   "id": "1d01a33f",
   "metadata": {},
   "outputs": [],
   "source": [
    "from collections import defaultdict\n",
    "\n",
    "def countDifferentGoodSubsets(nums):\n",
    "    MOD = 10 ** 9 + 7\n",
    "    max_num = max(nums)\n",
    "\n",
    "    # Precompute the prime factorization of each number\n",
    "    prime_factors = [[] for _ in range(max_num + 1)]\n",
    "    for i in range(2, max_num + 1):\n",
    "        if not prime_factors[i]:\n",
    "            for j in range(i, max_num + 1, i):\n",
    "                prime_factors[j].append(i)\n",
    "\n",
    "    # Initialize the dynamic programming array\n",
    "    dp = [0] * (1 << 15)\n",
    "    dp[0] = 1\n",
    "\n",
    "    # Iterate through the input array\n",
    "    for num in nums:\n",
    "        mask = 0\n",
    "        for prime in prime_factors[num]:\n",
    "            mask |= (1 << (prime - 2))\n",
    "\n",
    "        for i in range((1 << 15) - 1, -1, -1):\n",
    "            if i & mask == mask:\n",
    "                dp[i] = (dp[i] + dp[i ^ mask]) % MOD\n",
    "\n",
    "    return sum(dp) % MOD"
   ]
  },
  {
   "cell_type": "code",
   "execution_count": 54,
   "id": "4998e446",
   "metadata": {},
   "outputs": [
    {
     "data": {
      "text/plain": [
       "12"
      ]
     },
     "execution_count": 54,
     "metadata": {},
     "output_type": "execute_result"
    }
   ],
   "source": [
    "countDifferentGoodSubsets([1,2,3,4])"
   ]
  },
  {
   "cell_type": "markdown",
   "id": "bcf78f0e",
   "metadata": {},
   "source": [
    "### Week 10"
   ]
  },
  {
   "cell_type": "markdown",
   "id": "26d5c701",
   "metadata": {},
   "source": [
    "### Q1."
   ]
  },
  {
   "cell_type": "markdown",
   "id": "621dfe13",
   "metadata": {},
   "source": [
    "Given two non-negative integers num1 and num2 represented as strings, return the product of num1 and num2, also represented as a string.\n",
    "\n",
    "Note: You must not use any built-in BigInteger library or convert the inputs to integer directly.\n",
    "\n",
    "Example 1:\n",
    "\n",
    "Input: num1 = \"2\", num2 = \"3\"\n",
    "\n",
    "Output: \"6\""
   ]
  },
  {
   "cell_type": "code",
   "execution_count": 1,
   "id": "180beeda",
   "metadata": {},
   "outputs": [
    {
     "name": "stdout",
     "output_type": "stream",
     "text": [
      "1845\n"
     ]
    }
   ],
   "source": [
    "\n",
    "def multiply_strings(num1, num2):\n",
    "    if num1 == \"0\" or num2 == \"0\":\n",
    "        return \"0\"\n",
    "\n",
    "    len1, len2 = len(num1), len(num2)\n",
    "    result = [0] * (len1 + len2)\n",
    "\n",
    "    for i in range(len1 - 1, -1, -1):\n",
    "        for j in range(len2 - 1, -1, -1):\n",
    "            digit1 = int(num1[i])\n",
    "            digit2 = int(num2[j])\n",
    "            mul = digit1 * digit2\n",
    "\n",
    "            # Updating the result array considering current and previous digits\n",
    "            pos1, pos2 = i + j, i + j + 1\n",
    "            mul_sum = mul + result[pos2]\n",
    "\n",
    "            result[pos1] += mul_sum // 10\n",
    "            result[pos2] = mul_sum % 10\n",
    "\n",
    "    # Converting result list to string\n",
    "    result_str = ''.join(map(str, result))\n",
    "\n",
    "    # Removing leading zeros\n",
    "    return result_str.lstrip('0')\n",
    "\n",
    "\n",
    "# Testing the function\n",
    "num1 = \"123\"\n",
    "num2 = \"15\"\n",
    "print(multiply_strings(num1, num2))"
   ]
  },
  {
   "cell_type": "markdown",
   "id": "115d161e",
   "metadata": {},
   "source": [
    "### Q2.\n",
    "The count-and-say sequence is a sequence of digit strings defined by the recursive formula:\n",
    "\n",
    "countAndSay(1) = \"1\" countAndSay(n) is the way you would \"say\" the digit string from countAndSay(n-1), which is then converted into a different digit string. To determine how you \"say\" a digit string, split it into the minimal number of substrings such that each substring contains exactly one unique digit. Then for each substring, say the number of digits, then say the digit. Finally, concatenate every said digit.\n",
    "\n",
    "For example, the saying and conversion for digit string \"3322251\": two 3's , three 2's, one 5, and one 1 23+32+15+11 \"23321511\"\n",
    "\n",
    "Given a positive integer n, return the nth term of the count-and-say sequence. \"\"\""
   ]
  },
  {
   "cell_type": "code",
   "execution_count": 2,
   "id": "864b3acc",
   "metadata": {},
   "outputs": [
    {
     "name": "stdout",
     "output_type": "stream",
     "text": [
      "1211\n"
     ]
    }
   ],
   "source": [
    "def countAndSay(n):\n",
    "    if n == 1:\n",
    "        return \"1\"\n",
    "\n",
    "    prev = countAndSay(n - 1)\n",
    "    result = \"\"\n",
    "    count = 1\n",
    "\n",
    "    for i in range(1, len(prev)):\n",
    "        if prev[i] == prev[i - 1]:\n",
    "            count += 1\n",
    "        else:\n",
    "            result += str(count) + prev[i - 1]\n",
    "            count = 1\n",
    "\n",
    "    # Append the count and the last digit of the previous sequence\n",
    "    result += str(count) + prev[-1]\n",
    "\n",
    "    return result\n",
    "\n",
    "\n",
    "# Example usage:\n",
    "n = 4\n",
    "print(countAndSay(n))\n",
    "\n"
   ]
  },
  {
   "cell_type": "code",
   "execution_count": 4,
   "id": "0ca6ca3c",
   "metadata": {},
   "outputs": [],
   "source": [
    "#https://www.numerade.com/ask/question/texts-problem-2-the-count-and-say-sequence-is-a-sequence-of-digit-strings-defined-by-the-recursive-formula-countandsay1-1-countandsayn-is-the-way-you-would-say-the-digit-string-from-countand-06909/"
   ]
  },
  {
   "cell_type": "markdown",
   "id": "d64177f9",
   "metadata": {},
   "source": [
    "### Week 11:\n"
   ]
  },
  {
   "cell_type": "markdown",
   "id": "2f8d3b76",
   "metadata": {},
   "source": [
    "### Q1.\n",
    "You are given two integer arrays nums1 and nums2, sorted in non-decreasing order, and two integers m and n, representing the number of elements in nums1 and nums2 respectively.\n",
    "\n",
    "Merge nums1 and nums2 into a single array sorted in non-decreasing order.\n",
    "\n",
    "The final sorted array should not be returned by the function, but instead be stored inside the array nums1. To accommodate this, nums1 has a length of m + n, where the first m elements denote the elements that should be merged, and the last n elements are set to 0 and should be ignored. nums2 has a length of n.\n",
    "\n",
    "Example 1:\n",
    "\n",
    "Input: nums1 = [1,2,3,0,0,0], m = 3, nums2 = [2,5,6], n = 3\n",
    "\n",
    "Output: [1,2,2,3,5,6]\n",
    "\n",
    "Explanation: The arrays we are merging are [1,2,3] and [2,5,6].\n",
    "\n",
    "The result of the merge is [1,2,2,3,5,6] with the underlined elements coming from nums1."
   ]
  },
  {
   "cell_type": "code",
   "execution_count": 5,
   "id": "4ce0ece7",
   "metadata": {},
   "outputs": [],
   "source": [
    "def merge_and_sort(nums1, m, nums2, n):\n",
    "    # Pointer for the end of merged nums1\n",
    "    index1 = m - 1\n",
    "    # Pointer for the end of nums2\n",
    "    index2 = n - 1\n",
    "    # Pointer for the end of merged nums1 (including space for nums2)\n",
    "    merged_index = m + n - 1\n",
    "\n",
    "    # Loop until all elements of nums2 are merged\n",
    "    while index2 >= 0:\n",
    "        # Check if all elements of nums1 are merged or nums2 has larger element\n",
    "        if index1 >= 0 and nums1[index1] > nums2[index2]:\n",
    "            # Assign the larger element from nums1\n",
    "            nums1[merged_index] = nums1[index1]\n",
    "            index1 -= 1\n",
    "        else:\n",
    "            # Assign the next element from nums2\n",
    "            nums1[merged_index] = nums2[index2]\n",
    "            index2 -= 1\n",
    "        # Move the pointer for merged nums1 to the left\n",
    "        merged_index -= 1\n",
    "\n",
    "\n"
   ]
  },
  {
   "cell_type": "code",
   "execution_count": 6,
   "id": "af325ab2",
   "metadata": {},
   "outputs": [
    {
     "name": "stdout",
     "output_type": "stream",
     "text": [
      "[1, 2, 2, 3, 5, 6]\n"
     ]
    }
   ],
   "source": [
    "nums1 = [1, 2, 3, 0, 0, 0]\n",
    "m = 3\n",
    "nums2 = [2, 5, 6]\n",
    "n = 3\n",
    "\n",
    "merge_and_sort(nums1, m, nums2, n)\n",
    "print(nums1)"
   ]
  },
  {
   "cell_type": "markdown",
   "id": "3d155ca2",
   "metadata": {},
   "source": [
    "### Q2.Given an input string s and a pattern p, implement regular expression matching with support for '.' and '*' where:\n",
    "\n",
    "'.' Matches any single character.​​​​'*' Matches zero or more of the preceding element. The matching should cover the entire input string (not partial).\n",
    "\n",
    "Example 1: Input: s = \"aa\", p = \"a\"\n",
    "\n",
    "Output: false\n",
    "\n",
    "Explanation: \"a\" does not match the entire string \"aa\".\n",
    "\n",
    "Example 2: Input: s = \"aa\", p = \"a*\"\n",
    "\n",
    "Output: true\n",
    "\n",
    "Explanation: '*' means zero or more of the preceding element, 'a'. Therefore, by repeating 'a' once, it becomes \"aa\"."
   ]
  },
  {
   "cell_type": "code",
   "execution_count": 7,
   "id": "65c34f67",
   "metadata": {},
   "outputs": [
    {
     "name": "stdout",
     "output_type": "stream",
     "text": [
      "True\n",
      "False\n"
     ]
    }
   ],
   "source": [
    "def isMatch(s: str, p: str) -> bool:  # function return type is bool\n",
    "    rows, columns = (len(s), len(p))\n",
    "    # Base conditions\n",
    "    if rows == 0 and columns == 0:\n",
    "        return True\n",
    "    if columns == 0:\n",
    "        return False\n",
    "\n",
    "    # DP array\n",
    "    dp = [[False for j in range(columns + 1)] for i in range(rows + 1)]\n",
    "    # Since empty string and empty pattern are a match\n",
    "    dp[0][0] = True\n",
    "\n",
    "    # Deals with patterns containing *\n",
    "    for i in range(2, columns + 1):\n",
    "        if p[i - 1] == '*':\n",
    "            dp[0][i] = dp[0][i - 2]\n",
    "\n",
    "    # For remaining characters\n",
    "    for i in range(1, rows + 1):\n",
    "        for j in range(1, columns + 1):\n",
    "            if s[i - 1] == p[j - 1] or p[j - 1] == '.':\n",
    "                dp[i][j] = dp[i - 1][j - 1]\n",
    "            elif j > 1 and p[j - 1] == '*':\n",
    "                dp[i][j] = dp[i][j - 2]\n",
    "                if p[j - 2] == '.' or p[j - 2] == s[i - 1]:\n",
    "                    dp[i][j] = dp[i][j] or dp[i - 1][j]\n",
    "    return dp[rows][columns]\n",
    "\n",
    "\n",
    "print(isMatch('aa', 'a.'))\n",
    "print(isMatch('aa', 'a'))\n",
    "\n"
   ]
  },
  {
   "cell_type": "code",
   "execution_count": null,
   "id": "9823971d",
   "metadata": {},
   "outputs": [],
   "source": [
    "# idea and understanding from: https://redquark.org/leetcode/0010-regular-expression-matching/"
   ]
  },
  {
   "cell_type": "markdown",
   "id": "bca4debb",
   "metadata": {},
   "source": [
    "### Q3. \n",
    "A permutation of an array of integers is an arrangement of its members into a sequence or linear order.\n",
    "\n",
    "For example, for arr = [1,2,3], the following are considered permutations of arr: [1,2,3], [1,3,2], [3,1,2], [2,3,1]. The next permutation of an array of integers is the next lexicographically greater permutation of its integer. More formally, if all the permutations of the array are sorted in one container according to their lexicographical order, then the next permutation of that array is the permutation that follows it in the sorted container. If such arrangement is not possible, the array must be rearranged as the lowest possible order (i.e., sorted in ascending order).\n",
    "\n",
    "For example, the next permutation of arr = [1,2,3] is [1,3,2]. Similarly, the next permutation of arr = [2,3,1] is [3,1,2]. While the next permutation of arr = [3,2,1] is [1,2,3] because [3,2,1] does not have a lexicographical larger rearrangement. Given an array of integers nums, find the next permutation of nums.\n",
    "\n",
    "The replacement must be in place and use only constant extra memory.\n",
    "\n",
    "Example 1:\n",
    "\n",
    "Input: nums = [1,2,3] Output: [1,3,2]"
   ]
  },
  {
   "cell_type": "code",
   "execution_count": 8,
   "id": "36fe3a12",
   "metadata": {},
   "outputs": [
    {
     "name": "stdout",
     "output_type": "stream",
     "text": [
      "[1, 3, 2]\n"
     ]
    }
   ],
   "source": [
    "def reverse(nums, i, j):\n",
    "    while i < j:\n",
    "        nums[i], nums[j] = nums[j], nums[i]\n",
    "        i += 1\n",
    "        j -= 1\n",
    "\n",
    "\n",
    "def nextPermutation(nums):\n",
    "    # Length of the array\n",
    "    n = len(nums)\n",
    "    # Index of the first element that is smaller than\n",
    "    # the element to its right.\n",
    "    index = -1\n",
    "    # Loop from right to left\n",
    "    for i in range(n - 1, 0, -1):\n",
    "        if nums[i] > nums[i - 1]:\n",
    "            index = i - 1\n",
    "            break\n",
    "    # Base condition\n",
    "    if index == -1:\n",
    "        reverse(nums, 0, n - 1)\n",
    "        return\n",
    "    j = n - 1\n",
    "    # Again swap from right to left to find first element\n",
    "    # that is greater than the above find element\n",
    "    for i in range(n - 1, index, -1):\n",
    "        if nums[i] > nums[index]:\n",
    "            j = i\n",
    "            break\n",
    "    # Swap the elements\n",
    "    nums[index], nums[j] = nums[j], nums[index]\n",
    "    # Reverse the elements from index + 1 to the nums.length\n",
    "    reverse(nums, index + 1, n - 1)\n",
    "\n",
    "    return nums\n",
    "\n",
    "\n",
    "\n",
    "\n",
    "print(nextPermutation([1,2,3]))\n"
   ]
  },
  {
   "cell_type": "markdown",
   "id": "0b1b791b",
   "metadata": {},
   "source": [
    "### Week 12."
   ]
  },
  {
   "cell_type": "markdown",
   "id": "37615063",
   "metadata": {},
   "source": [
    "### Q1.\n",
    "You are given a large integer represented as an integer array digits, where each digits[i] is the ith digit of the integer. The digits are ordered from most significant to least significant in left-to-right order. The large integer does not contain any leading 0's.\n",
    "\n",
    "Increment the large integer by one and return the resulting array of digits.\n",
    "\n",
    "Example 1:\n",
    "\n",
    "Input: digits = [1,2,3]\n",
    "\n",
    "Output: [1,2,4]\n",
    "\n",
    "Explanation: The array represents the integer 123.\n",
    "\n",
    "Incrementing by one gives 123 + 1 = 124.\n",
    "\n",
    "Thus, the result should be [1,2,4]."
   ]
  },
  {
   "cell_type": "code",
   "execution_count": 11,
   "id": "8a262a02",
   "metadata": {},
   "outputs": [
    {
     "name": "stdout",
     "output_type": "stream",
     "text": [
      "[1, 2, 4]\n"
     ]
    }
   ],
   "source": [
    "def increment_integer(digits):\n",
    "    # Start from the least significant digit\n",
    "    for i in range(len(digits) - 1, -1, -1):\n",
    "        # Increment the current digit by 1\n",
    "        digits[i] += 1\n",
    "        # If there's no carry, return the digits\n",
    "        if digits[i] < 10:\n",
    "            return digits\n",
    "        # If there's a carry, set the current digit to 0 and continue to the next digit\n",
    "        else:\n",
    "            digits[i] = 0\n",
    "    # If we reach here, it means we have a carry after the loop\n",
    "    # Insert 1 at the beginning of the digits list\n",
    "    digits.insert(0, 1)\n",
    "    return digits\n",
    "\n",
    "# Test the function\n",
    "digits = [1, 2, 3]\n",
    "result = increment_integer(digits)\n",
    "print(result)"
   ]
  },
  {
   "cell_type": "markdown",
   "id": "d3924980",
   "metadata": {},
   "source": [
    "## Q2.\n",
    "Given two strings ransomNote and magazine, return true if ransomNote can be constructed by using the letters from magazine and false otherwise.\n",
    "\n",
    "Each letter in magazine can only be used once in ransomNote.\n",
    "\n",
    "Example 1:\n",
    "\n",
    "Input: ransomNote = \"a\", magazine = \"b\"\n",
    "\n",
    "Output: false\n",
    "\n",
    "Example 2:\n",
    "\n",
    "Input: ransomNote = \"aa\", magazine = \"ab\"\n",
    "\n",
    "Output: false"
   ]
  },
  {
   "cell_type": "code",
   "execution_count": 12,
   "id": "32fd2835",
   "metadata": {},
   "outputs": [
    {
     "name": "stdout",
     "output_type": "stream",
     "text": [
      "True\n"
     ]
    }
   ],
   "source": [
    "def can_construct_ransom_note(ransomNote, magazine):\n",
    "    # Initialize a dictionary to store the frequency of each character in the magazine\n",
    "    char_freq = {}\n",
    "\n",
    "    # Populate the char_freq dictionary with the frequency of each character in the magazine\n",
    "    for char in magazine:\n",
    "        char_freq[char] = char_freq.get(char, 0) + 1\n",
    "\n",
    "    # Check if the ransom note can be constructed using the magazine clippings\n",
    "    for char in ransomNote:\n",
    "        # If the character is not present in the magazine or its frequency is 0, return False\n",
    "        if char not in char_freq or char_freq[char] == 0:\n",
    "            return False\n",
    "        # Decrement the frequency of the character in the magazine after using it in the ransom note\n",
    "        char_freq[char] -= 1\n",
    "\n",
    "    # If we reach here, it means all characters in the ransom note were found in the magazine\n",
    "    return True\n",
    "\n",
    "\n",
    "# Example usage:\n",
    "ransomNote = \"aa\"\n",
    "magazine = \"aab\"\n",
    "print(can_construct_ransom_note(ransomNote, magazine))  # Output: True\n"
   ]
  },
  {
   "cell_type": "markdown",
   "id": "5ad6f0a9",
   "metadata": {},
   "source": [
    "### Q3.\n",
    "A permutation of an array of integers is an arrangement of its members into a sequence or linear order.\n",
    "\n",
    "For example, for arr = [1,2,3], the following are considered permutations of arr: [1,2,3], [1,3,2], [3,1,2], [2,3,1]. The next permutation of an array of integers is the next lexicographically greater permutation of its integer. More formally, if all the permutations of the array are sorted in one container according to their lexicographical order, then the next permutation of that array is the permutation that follows it in the sorted container. If such arrangement is not possible, the array must be rearranged as the lowest possible order (i.e., sorted in ascending order).\n",
    "\n",
    "For example, the next permutation of arr = [1,2,3] is [1,3,2]. Similarly, the next permutation of arr = [2,3,1] is [3,1,2]. While the next permutation of arr = [3,2,1] is [1,2,3] because [3,2,1] does not have a lexicographical larger rearrangement. Given an array of integers nums, find the next permutation of nums.\n",
    "\n",
    "The replacement must be in place and use only constant extra memory.\n",
    "\n",
    "Example 1:\n",
    "\n",
    "Input: nums = [1,2,3] Output: [1,3,2]"
   ]
  },
  {
   "cell_type": "code",
   "execution_count": 13,
   "id": "24784079",
   "metadata": {},
   "outputs": [
    {
     "name": "stdout",
     "output_type": "stream",
     "text": [
      "[1, 3, 2]\n"
     ]
    }
   ],
   "source": [
    "def reverse(nums, i, j):\n",
    "    while i < j:\n",
    "        nums[i], nums[j] = nums[j], nums[i]\n",
    "        i += 1\n",
    "        j -= 1\n",
    "\n",
    "\n",
    "\n",
    "\n",
    "def nextPermutation(nums):\n",
    "    # Length of the array\n",
    "    n = len(nums)\n",
    "    # Index of the first element that is smaller than\n",
    "    # the element to its right.\n",
    "    index = -1\n",
    "    # Loop from right to left\n",
    "    for i in range(n - 1, 0, -1):\n",
    "        if nums[i] > nums[i - 1]:\n",
    "            index = i - 1\n",
    "            break\n",
    "    # Base condition\n",
    "    if index == -1:\n",
    "        reverse(nums, 0, n - 1)\n",
    "        return\n",
    "    j = n - 1\n",
    "    # Again swap from right to left to find first element\n",
    "    # that is greater than the above find element\n",
    "    for i in range(n - 1, index, -1):\n",
    "        if nums[i] > nums[index]:\n",
    "            j = i\n",
    "            break\n",
    "    # Swap the elements\n",
    "    nums[index], nums[j] = nums[j], nums[index]\n",
    "    # Reverse the elements from index + 1 to the nums.length\n",
    "    reverse(nums, index + 1, n - 1)\n",
    "\n",
    "    return nums\n",
    "\n",
    "\n",
    "\n",
    "\n",
    "print(nextPermutation([1,2,3]))\n"
   ]
  },
  {
   "cell_type": "markdown",
   "id": "df954f14",
   "metadata": {},
   "source": [
    "### Week 13:"
   ]
  },
  {
   "cell_type": "markdown",
   "id": "afa1eab8",
   "metadata": {},
   "source": [
    "### Q1.\n",
    "Given a signed 32-bit integer x, return x with its digits reversed. If reversing x causes the value to go outside the signed 32-bit integer range [-231, 231 - 1], then return 0.\n",
    "\n",
    "Assume the environment does not allow you to store 64-bit integers (signed or unsigned).\n",
    "\n",
    "Example 1:\n",
    "\n",
    "Input: x = 123\n",
    "\n",
    "Output: 321\n"
   ]
  },
  {
   "cell_type": "code",
   "execution_count": 14,
   "id": "ed234d30",
   "metadata": {},
   "outputs": [
    {
     "name": "stdout",
     "output_type": "stream",
     "text": [
      "321\n"
     ]
    }
   ],
   "source": [
    "def reverse_integer(x):\n",
    "    if x == 0:\n",
    "        return 0\n",
    "    \n",
    "    negative = False\n",
    "    if x < 0:\n",
    "        negative = True\n",
    "        x = -x\n",
    "    \n",
    "    reversed_x = 0\n",
    "    while x != 0:\n",
    "        digit = x % 10\n",
    "        reversed_x = reversed_x * 10 + digit\n",
    "        x //= 10\n",
    "        \n",
    "    if negative:\n",
    "        reversed_x = -reversed_x\n",
    "    \n",
    "    if reversed_x < -2**31 or reversed_x > 2**31 - 1:\n",
    "        return 0\n",
    "    \n",
    "    return reversed_x\n",
    "\n",
    "\n",
    "x = 123\n",
    "print(reverse_integer(x)) \n"
   ]
  },
  {
   "attachments": {
    "image.png": {
     "image/png": "[encoded data removed]"
    }
   },
   "cell_type": "markdown",
   "id": "db6d8f8d",
   "metadata": {},
   "source": [
    "### Q2.\n",
    "You are given an n x n 2D matrix representing an image, rotate the image by 90 degrees (clockwise).\n",
    "\n",
    "You have to rotate the image in-place, which means you have to modify the input 2D matrix directly. DO NOT allocate another 2D matrix and do the rotation.\n",
    "\n",
    "\n",
    "![image.png](attachment:image.png)\n",
    "\n",
    "\n",
    "\n",
    "\n",
    "Input: matrix = [[1,2,3],[4,5,6],[7,8,9]]\n",
    "\n",
    "Output: [[7,4,1],[8,5,2],[9,6,3]]"
   ]
  },
  {
   "cell_type": "code",
   "execution_count": 15,
   "id": "bca05e31",
   "metadata": {},
   "outputs": [],
   "source": [
    "def rotate_image(matrix):\n",
    "    n = len(matrix)\n",
    "    \n",
    "    # Step 1: Transpose the matrix\n",
    "    for i in range(n):\n",
    "        for j in range(i, n):\n",
    "            matrix[i][j], matrix[j][i] = matrix[j][i], matrix[i][j]\n",
    "    \n",
    "    # Step 2: Reverse each row\n",
    "    for i in range(n):\n",
    "        matrix[i] = matrix[i][::-1]\n"
   ]
  },
  {
   "cell_type": "code",
   "execution_count": 16,
   "id": "b30bcce5",
   "metadata": {},
   "outputs": [
    {
     "name": "stdout",
     "output_type": "stream",
     "text": [
      "[7, 4, 1]\n",
      "[8, 5, 2]\n",
      "[9, 6, 3]\n"
     ]
    }
   ],
   "source": [
    "matrix = [\n",
    "  [1, 2, 3],\n",
    "  [4, 5, 6],\n",
    "  [7, 8, 9]\n",
    "]\n",
    "\n",
    "rotate_image(matrix)\n",
    "\n",
    "# Print the rotated matrix\n",
    "for row in matrix:\n",
    "    print(row)"
   ]
  },
  {
   "attachments": {
    "image.png": {
     "image/png": "[encoded data removed]"
    }
   },
   "cell_type": "markdown",
   "id": "17ec4608",
   "metadata": {},
   "source": [
    "### Q3.\n",
    "iven an m x n grid of characters board and a string word, return true if word exists in the grid.\n",
    "\n",
    "The word can be constructed from letters of sequentially adjacent cells, where adjacent cells are horizontally or vertically neighboring. The same letter cell may not be used more than once.\n",
    "![image.png](attachment:image.png)\n",
    "Input: board = [[\"A\",\"B\",\"C\",\"E\"],[\"S\",\"F\",\"C\",\"S\"],[\"A\",\"D\",\"E\",\"E\"]], word = \"ABCCED\"\n",
    "\n",
    "Output: true"
   ]
  },
  {
   "cell_type": "code",
   "execution_count": 17,
   "id": "aca7aee4",
   "metadata": {},
   "outputs": [
    {
     "name": "stdout",
     "output_type": "stream",
     "text": [
      "True\n"
     ]
    }
   ],
   "source": [
    "def exist(board, word):\n",
    "    def dfs(board, i, j, word):\n",
    "        # If all characters in the word have been found\n",
    "        if len(word) == 0:\n",
    "            return True\n",
    "        \n",
    "        # Check if the current cell is out of bounds or doesn't match the current character in the word\n",
    "        if i < 0 or i >= len(board) or j < 0 or j >= len(board[0]) or board[i][j] != word[0]:\n",
    "            return False\n",
    "        \n",
    "        # Temporarily mark the current cell as visited\n",
    "        temp = board[i][j]\n",
    "        board[i][j] = '#'\n",
    "        \n",
    "        # Recursively search in all four directions\n",
    "        found = dfs(board, i+1, j, word[1:]) or dfs(board, i-1, j, word[1:]) \\\n",
    "                or dfs(board, i, j+1, word[1:]) or dfs(board, i, j-1, word[1:])\n",
    "        \n",
    "        # Restore the original value of the cell\n",
    "        board[i][j] = temp\n",
    "        \n",
    "        return found\n",
    "    \n",
    "    # Iterate through each cell in the grid to start the DFS search\n",
    "    for i in range(len(board)):\n",
    "        for j in range(len(board[0])):\n",
    "            if dfs(board, i, j, word):\n",
    "                return True\n",
    "    return False\n",
    "\n",
    "\n",
    "board = [[\"A\",\"B\",\"C\",\"E\"],[\"S\",\"F\",\"C\",\"S\"],[\"A\",\"D\",\"E\",\"E\"]]\n",
    "# word = \"ABCCED\"\n",
    "word = 'ABCES'\n",
    "# word = 'AFE'\n",
    "\n",
    "print(exist(board, word))  \n"
   ]
  },
  {
   "cell_type": "code",
   "execution_count": null,
   "id": "7e534ebd",
   "metadata": {},
   "outputs": [],
   "source": []
  }
 ],
 "metadata": {
  "kernelspec": {
   "display_name": "Python 3 (ipykernel)",
   "language": "python",
   "name": "python3"
  },
  "language_info": {
   "codemirror_mode": {
    "name": "ipython",
    "version": 3
   },
   "file_extension": ".py",
   "mimetype": "text/x-python",
   "name": "python",
   "nbconvert_exporter": "python",
   "pygments_lexer": "ipython3",
   "version": "3.10.9"
  }
 },
 "nbformat": 4,
 "nbformat_minor": 5
}
