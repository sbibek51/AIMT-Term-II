{
 "cells": [
  {
   "cell_type": "markdown",
   "id": "d1246090",
   "metadata": {},
   "source": [
    "# Week_1"
   ]
  },
  {
   "cell_type": "markdown",
   "id": "695e0cc9",
   "metadata": {},
   "source": [
    "### Q1."
   ]
  },
  {
   "cell_type": "markdown",
   "id": "730f3950",
   "metadata": {},
   "source": [
    "Write a Python program to check if a number is a perfect square"
   ]
  },
  {
   "cell_type": "code",
   "execution_count": 1,
   "id": "6c44d938",
   "metadata": {},
   "outputs": [
    {
     "name": "stdout",
     "output_type": "stream",
     "text": [
      "given number -1 is a negative number\n",
      "Given number 9 is perfect square of 3\n",
      "given number is 33 not a perfect square\n"
     ]
    }
   ],
   "source": [
    "def perfect_square_finder(num):\n",
    "    flag = True\n",
    "    if num<0:\n",
    "        print(f'given number {num} is a negative number')\n",
    "        exit\n",
    "    else:\n",
    "#         print('given number is:',num)\n",
    "        for i in range(num):\n",
    "            if i*i==num:\n",
    "                print(f'Given number {num} is perfect square of {i}')\n",
    "                flag =False\n",
    "                break\n",
    "        if flag:        \n",
    "            print(f'given number is {num} not a perfect square')\n",
    "            \n",
    "    \n",
    "    \n",
    "    \n",
    "    \n",
    "perfect_square_finder(-1)\n",
    "perfect_square_finder(9)\n",
    "perfect_square_finder(33)"
   ]
  },
  {
   "cell_type": "markdown",
   "id": "4c62ed72",
   "metadata": {},
   "source": [
    "### Q2."
   ]
  },
  {
   "cell_type": "markdown",
   "id": "0922112a",
   "metadata": {},
   "source": [
    "Write a Python program to find a missing number from a list. Input : [1,2,3,4,6,7,8] Output : 5"
   ]
  },
  {
   "cell_type": "code",
   "execution_count": 41,
   "id": "c8b19387",
   "metadata": {},
   "outputs": [
    {
     "name": "stdout",
     "output_type": "stream",
     "text": [
      "given list is: [1, 2, 3, 4, 6, 7, 8]\n"
     ]
    },
    {
     "data": {
      "text/plain": [
       "[5]"
      ]
     },
     "execution_count": 41,
     "metadata": {},
     "output_type": "execute_result"
    }
   ],
   "source": [
    "def find_missing_number(my_list):\n",
    "    my_list.sort()\n",
    "    missing_list=[]\n",
    "    print('given list is:',my_list)\n",
    "    for i in range(my_list[0],my_list[len(my_list)-1]):\n",
    "        if i not in my_list:\n",
    "            missing_list.append(i)\n",
    "    return missing_list\n",
    "    \n",
    "    \n",
    "my_list = [1,2,3,4,6,7,8]\n",
    "find_missing_number(my_list)"
   ]
  },
  {
   "cell_type": "markdown",
   "id": "f14fc13a",
   "metadata": {},
   "source": [
    "### Q3."
   ]
  },
  {
   "cell_type": "markdown",
   "id": "66ea61c3",
   "metadata": {},
   "source": [
    "Write a Python program to find the single number in a list that doesn't occur twice. Input : [5, 3, 4, 3, 4] Output : 5"
   ]
  },
  {
   "cell_type": "code",
   "execution_count": 45,
   "id": "fa15f3b6",
   "metadata": {},
   "outputs": [
    {
     "name": "stdout",
     "output_type": "stream",
     "text": [
      "given list is : [5, 3, 4, 3, 4]\n",
      "single item is: [5]\n"
     ]
    }
   ],
   "source": [
    "def find_single_number(my_list):\n",
    "    print('given list is :',my_list)\n",
    "    d = {} \n",
    "    for i in my_list:\n",
    "        d[i] = d.get(i,0)+1\n",
    "        \n",
    "    single_list = [key for key, value in d.items() if value ==1]\n",
    "    print('single item is:',single_list)\n",
    "    \n",
    "    \n",
    "test_list = [5, 3, 4, 3, 4]\n",
    "find_single_number(test_list)"
   ]
  },
  {
   "cell_type": "code",
   "execution_count": null,
   "id": "0292049a",
   "metadata": {},
   "outputs": [],
   "source": []
  },
  {
   "cell_type": "markdown",
   "id": "6fb9b517",
   "metadata": {},
   "source": [
    "# Week_2"
   ]
  },
  {
   "cell_type": "markdown",
   "id": "1a3a7244",
   "metadata": {},
   "source": [
    "### Q1."
   ]
  },
  {
   "cell_type": "markdown",
   "id": "fed2a0f3",
   "metadata": {},
   "source": [
    "Write a Python program to find 4 numbers from an array such that the sum of 4 numbers equal to a given number.\n",
    "Input : [1, 0, -1, 0, -2, 2,10,11], 0)\n",
    "Output : [[-2, -1, 1, 2], [-2, 0, 0, 2], [-1, 0, 0, 1]]\n",
    "\n"
   ]
  },
  {
   "cell_type": "code",
   "execution_count": 6,
   "id": "491e57cc",
   "metadata": {},
   "outputs": [
    {
     "name": "stdout",
     "output_type": "stream",
     "text": [
      "Given list is:[1, 0, -1, 0, -2, 2, 10, 11] and target sum is: 0\n",
      "[[1, 0, -1, 0], [1, -1, -2, 2], [0, 0, -2, 2]]\n"
     ]
    }
   ],
   "source": [
    "def find_sum(my_list,target_sum):\n",
    "    print(f'Given list is:{my_list} and target sum is: {target_sum}')\n",
    "    list_needed = []\n",
    "    for i in range(len(my_list)):\n",
    "        for j in range (i+1,len(my_list)):\n",
    "            for k in range (j+1,len(my_list)):\n",
    "                for l in range (k+1,len(my_list)):\n",
    "                    current_sum = my_list[i]+my_list[j]+my_list[k]+my_list[l]\n",
    "                    if current_sum == 0:\n",
    "                        list_needed.append([my_list[i],my_list[j],my_list[k],my_list[l]])\n",
    "                    \n",
    "    \n",
    "    print(list_needed)\n",
    "    \n",
    "list_1 = [1, 0, -1, 0, -2, 2,10,11]\n",
    "target_sum = 0\n",
    "find_sum(list_1,target_sum)\n",
    "\n",
    "\n"
   ]
  },
  {
   "cell_type": "markdown",
   "id": "7e2a684d",
   "metadata": {},
   "source": [
    "### Q2."
   ]
  },
  {
   "cell_type": "markdown",
   "id": "e1e277db",
   "metadata": {},
   "source": [
    "Write a Python program to find the single element appears once in a list where every element appears multiple times except for one. \n",
    "Input : [1, 1, 1, 2, 2, 2, 3]\n",
    "Output : 3\n",
    "\n"
   ]
  },
  {
   "cell_type": "code",
   "execution_count": 3,
   "id": "f821fb7c",
   "metadata": {},
   "outputs": [
    {
     "name": "stdout",
     "output_type": "stream",
     "text": [
      "given list is : [1, 1, 1, 2, 2, 2, 3]\n",
      "Single number in list is: [3]\n"
     ]
    }
   ],
   "source": [
    "def find_single_number(given_list):\n",
    "    print('given list is :',given_list)\n",
    "    \n",
    "    d= {}\n",
    "    for i in given_list:\n",
    "        d[i]= d.get(i,0)+1\n",
    "        \n",
    "    single_number = [key for key, value in d.items() if value ==1]\n",
    "    print('Single number in list is:',single_number)\n",
    "    \n",
    "    \n",
    "\n",
    "    \n",
    "    list_1 = [1, 1, 1, 2, 2, 2, 3]\n",
    "find_single_number(list_1)"
   ]
  },
  {
   "cell_type": "markdown",
   "id": "be4ac2bf",
   "metadata": {},
   "source": [
    "### Q3."
   ]
  },
  {
   "cell_type": "markdown",
   "id": "26182b37",
   "metadata": {},
   "source": [
    "Write a Python program to add the digits of a positive integer repeatedly until the result has a single digit. \n",
    "Input : 48\n",
    "Output : 3\n",
    "For example given number is 59, the result will be 5.\n",
    "Step 1: 5 + 9 = 14\n",
    "Step 1: 1 + 4 = 5"
   ]
  },
  {
   "cell_type": "code",
   "execution_count": 4,
   "id": "fed3485d",
   "metadata": {},
   "outputs": [
    {
     "name": "stdout",
     "output_type": "stream",
     "text": [
      "5\n"
     ]
    }
   ],
   "source": [
    "def add_digits(number):\n",
    "    while number>=10:\n",
    "        number = number //10+number%10\n",
    "    return number \n",
    "\n",
    "print(add_digits(77))\n",
    "    "
   ]
  },
  {
   "cell_type": "code",
   "execution_count": 28,
   "id": "c0472bfd",
   "metadata": {},
   "outputs": [
    {
     "name": "stdout",
     "output_type": "stream",
     "text": [
      "Enter a digit or 'e' to exit :e\n"
     ]
    }
   ],
   "source": [
    "def add_number(number):\n",
    "#     print('given number is:',number)\n",
    "    \n",
    "    \n",
    "    while number>=10:\n",
    "        str_num = str(number)\n",
    "        sum_1=0\n",
    "        for digit in str_num:\n",
    "            sum_1 = sum_1 + int(digit)\n",
    "        number = sum_1\n",
    "    \n",
    "    \n",
    "    \n",
    "    \n",
    "    return number\n",
    "    \n",
    "    \n",
    "    \n",
    "# print('sum of each digit till less than 10 is:',add_number(1))\n",
    "# print('sum of each digit till less than 10 is:',add_number(19))\n",
    "# print('sum of each digit till less than 10 is:',add_number(99))\n",
    "\n",
    "\n",
    "while True:\n",
    "    given_number = input('Enter a digit or \\'e\\' to exit :')\n",
    "    if (given_number.lower()=='e'):\n",
    "        break\n",
    "        \n",
    "    else:\n",
    "        given_number= int(given_number)\n",
    "        print(f'Given number is : {given_number} and sum of each digit till less then 10 is:',add_number(given_number))\n",
    "        "
   ]
  },
  {
   "cell_type": "code",
   "execution_count": null,
   "id": "e3891cdc",
   "metadata": {},
   "outputs": [],
   "source": []
  },
  {
   "cell_type": "markdown",
   "id": "1d2e41e6",
   "metadata": {},
   "source": [
    "##                                         Week_4"
   ]
  },
  {
   "cell_type": "markdown",
   "id": "509a4bf1",
   "metadata": {},
   "source": [
    "### Q1."
   ]
  },
  {
   "cell_type": "markdown",
   "id": "2fd71c2c",
   "metadata": {},
   "source": [
    "Q1. Given an input string s and a pattern p, implement regular expression matching with support for '.' and '*' where:\n",
    "\n",
    "'.' Matches any single character.​​​​\n",
    "'*' Matches zero or more of the preceding element.\n",
    "The matching should cover the entire input string (not partial).\n",
    "\n",
    "Example 1:\n",
    "\n",
    "Input: s = \"aa\", p = \"a\"\n",
    "Output: false\n",
    "Explanation: \"a\" does not match the entire string \"aa\".\n",
    "\n",
    "Example 2:\n",
    "\n",
    "Input: s = \"aa\", p = \"a*\"\n",
    "Output: true\n",
    "Explanation: '*' means zero or more of the preceding element, 'a'. Therefore, by repeating 'a' once, it becomes \"aa\".\n",
    "\n",
    "Example 3:\n",
    "\n",
    "Input: s = \"ab\", p = \".*\"\n",
    "Output: true\n",
    "Explanation: \".*\" means \"zero or more (*) of any character (.)\"."
   ]
  },
  {
   "cell_type": "code",
   "execution_count": 31,
   "id": "3d30ab4b",
   "metadata": {},
   "outputs": [
    {
     "name": "stdout",
     "output_type": "stream",
     "text": [
      "True\n",
      "False\n"
     ]
    }
   ],
   "source": [
    "def isMatch(s: str, p: str) -> bool:  # function return type is bool\n",
    "    rows, columns = (len(s), len(p))\n",
    "    # Base conditions\n",
    "    if rows == 0 and columns == 0:\n",
    "        return True\n",
    "    if columns == 0:\n",
    "        return False\n",
    "\n",
    "    # DP array\n",
    "    dp = [[False for j in range(columns + 1)] for i in range(rows + 1)]\n",
    "    # Since empty string and empty pattern are a match\n",
    "    dp[0][0] = True\n",
    "\n",
    "    # Deals with patterns containing *\n",
    "    for i in range(2, columns + 1):\n",
    "        if p[i - 1] == '*':\n",
    "            dp[0][i] = dp[0][i - 2]\n",
    "\n",
    "    # For remaining characters\n",
    "    for i in range(1, rows + 1):\n",
    "        for j in range(1, columns + 1):\n",
    "            if s[i - 1] == p[j - 1] or p[j - 1] == '.':\n",
    "                dp[i][j] = dp[i - 1][j - 1]\n",
    "            elif j > 1 and p[j - 1] == '*':\n",
    "                dp[i][j] = dp[i][j - 2]\n",
    "                if p[j - 2] == '.' or p[j - 2] == s[i - 1]:\n",
    "                    dp[i][j] = dp[i][j] or dp[i - 1][j]\n",
    "    return dp[rows][columns]\n",
    "\n",
    "\n",
    "print(isMatch('aa', 'a.'))\n",
    "print(isMatch('aa', 'a'))\n",
    "\n",
    "# https://redquark.org/leetcode/0010-regular-expression-matching/"
   ]
  },
  {
   "cell_type": "markdown",
   "id": "48d8a93c",
   "metadata": {},
   "source": [
    "### Q2."
   ]
  },
  {
   "cell_type": "markdown",
   "id": "a7c4562c",
   "metadata": {},
   "source": [
    "Write a Python program to check a sequence of numbers is a geometric progression or not. \n",
    "    Input : [2, 6, 18, 54]\n",
    "    Output : True"
   ]
  },
  {
   "cell_type": "code",
   "execution_count": 6,
   "id": "566bc826",
   "metadata": {},
   "outputs": [
    {
     "name": "stdout",
     "output_type": "stream",
     "text": [
      "Given list is: [2, 6, 18, 54]\n",
      "This list is in geometric progression\n",
      "Given list is: [2, 6, 18, 36]\n",
      "This list is NOT IN geometric progression\n"
     ]
    }
   ],
   "source": [
    "def check_geometric(given_list):\n",
    "    print('Given list is:',given_list)\n",
    "    r= given_list[1]/given_list[0]\n",
    "    flag= True\n",
    "    for i in range(len(given_list)-1):\n",
    "        if ((given_list[i+1]/given_list[i])!= r):\n",
    "            flag = False\n",
    "    \n",
    "    if flag:\n",
    "        print('This list is in geometric progression')\n",
    "    else:\n",
    "        print('This list is NOT IN geometric progression')\n",
    "    \n",
    "    \n",
    "    \n",
    "list_1 = [2, 6, 18, 54]\n",
    "list_2 = [2, 6, 18, 36]\n",
    "\n",
    "check_geometric(list_1)\n",
    "check_geometric(list_2)"
   ]
  },
  {
   "cell_type": "markdown",
   "id": "e99c8980",
   "metadata": {},
   "source": [
    "### Q3."
   ]
  },
  {
   "cell_type": "markdown",
   "id": "748f388a",
   "metadata": {},
   "source": [
    "Write a Python program to compute and return the square root of a given 'integer'. \n",
    "    Input : 16\n",
    "    Output : 4\n",
    "    Note : The returned value will be an 'integer', do not use square root functions from python.\n"
   ]
  },
  {
   "cell_type": "code",
   "execution_count": 18,
   "id": "f5a4ad7a",
   "metadata": {},
   "outputs": [
    {
     "name": "stdout",
     "output_type": "stream",
     "text": [
      "given number is: 9\n",
      "square root of 9 is 3\n",
      "given number is: 10\n",
      "perfect square of 10 does not exist \n",
      "given number -10 is negative number\n"
     ]
    }
   ],
   "source": [
    "def find_square_root(num):\n",
    "    if num>=0:\n",
    "        print('given number is:',num )\n",
    "        flag = False\n",
    "        for i in range(num):\n",
    "            if i*i == num:\n",
    "                print('square root of {} is {}'.format(num,i))\n",
    "                flag = True\n",
    "                break\n",
    "            \n",
    "        if not flag:\n",
    "            print('perfect square of {} does not exist '.format(num))\n",
    "        \n",
    "    else:\n",
    "        print('given number {} is negative number and its square root doesnot exist'.format(num))\n",
    "        \n",
    "        \n",
    "find_square_root(9)\n",
    "find_square_root(10)\n",
    "find_square_root(-10)"
   ]
  },
  {
   "cell_type": "markdown",
   "id": "5f99a597",
   "metadata": {},
   "source": [
    "## Week_5"
   ]
  },
  {
   "cell_type": "markdown",
   "id": "7c5badec",
   "metadata": {},
   "source": [
    "### Q.1"
   ]
  },
  {
   "cell_type": "markdown",
   "id": "0e248398",
   "metadata": {},
   "source": [
    "You are given a 0-indexed binary string s having an even length.\n",
    "\n",
    "A string is beautiful if it's possible to partition it into one or more substrings such that:\n",
    "\n",
    "Each substring has an even length.\n",
    "Each substring contains only 1's or only 0's.\n",
    "You can change any character in s to 0 or 1.\n",
    "\n",
    "Return the minimum number of changes required to make the string s beautiful.\n",
    "\n",
    "Example 1:\n",
    "\n",
    "Input: s = \"1001\"\n",
    "Output: 2\n",
    "Explanation: We change s[1] to 1 and s[3] to 0 to get string \"1100\".\n",
    "It can be seen that the string \"1100\" is beautiful because we can partition it into \"11|00\".\n",
    "It can be proven that 2 is the minimum number of changes needed to make the string beautiful.\n",
    "\n",
    "Example 2:\n",
    "\n",
    "Input: s = \"10\"\n",
    "Output: 1\n",
    "Explanation: We change s[1] to 1 to get string \"11\".\n",
    "It can be seen that the string \"11\" is beautiful because we can partition it into \"11\".\n",
    "It can be proven that 1 is the minimum number of changes needed to make the string beautiful.\n",
    "\n",
    "Example 3:\n",
    "\n",
    "Input: s = \"0000\"\n",
    "Output: 0\n",
    "Explanation: We don't need to make any changes as the string \"0000\" is beautiful already."
   ]
  },
  {
   "cell_type": "code",
   "execution_count": 35,
   "id": "a87b2c85",
   "metadata": {},
   "outputs": [
    {
     "name": "stdout",
     "output_type": "stream",
     "text": [
      "given string is : 1001\n"
     ]
    },
    {
     "data": {
      "text/plain": [
       "2"
      ]
     },
     "execution_count": 35,
     "metadata": {},
     "output_type": "execute_result"
    }
   ],
   "source": [
    "def beautiful_binary(given_string):\n",
    "    if len(str(given_string)) %2 !=0:\n",
    "        print('given binary string does not have even length ')\n",
    "        exit\n",
    "        \n",
    "    else:\n",
    "        print('given string is :',given_string)\n",
    "        steps = 0\n",
    "        given_string = str(given_string)\n",
    "        for i in range(0,len(str(given_string)),2):\n",
    "            if given_string[i]!=given_string[i+1]:\n",
    "             steps= steps +1\n",
    "                \n",
    "        return steps\n",
    "        \n",
    "        \n",
    "        \n",
    "beautiful_binary(1001)"
   ]
  },
  {
   "cell_type": "markdown",
   "id": "eb403783",
   "metadata": {},
   "source": [
    "### Q2."
   ]
  },
  {
   "cell_type": "markdown",
   "id": "fad74e43",
   "metadata": {},
   "source": [
    "Write a Python program to find all the numbers from 0-9 from a string:\n",
    "\n",
    "input: '89ADFRE41'\n",
    "\n",
    "Output :[8941]"
   ]
  },
  {
   "cell_type": "code",
   "execution_count": 41,
   "id": "045c0c68",
   "metadata": {},
   "outputs": [
    {
     "name": "stdout",
     "output_type": "stream",
     "text": [
      "given string is: 89ADFRE41\n",
      "['8', '9', '4', '1']\n",
      "['8941']\n"
     ]
    }
   ],
   "source": [
    "def fing_digit(given_string):\n",
    "    print('given string is:',given_string)\n",
    "    list_digit= []\n",
    "    for i in given_string:\n",
    "        if i.isdigit():\n",
    "            list_digit.append(i)\n",
    "            \n",
    "    print(list_digit)\n",
    "    list_join = [''.join(list_digit)]\n",
    "    print(list_join)\n",
    "    \n",
    "    \n",
    "    \n",
    "string_1 = '89ADFRE41'\n",
    "fing_digit(string_1)"
   ]
  },
  {
   "cell_type": "markdown",
   "id": "7587dee5",
   "metadata": {},
   "source": [
    "### Q3."
   ]
  },
  {
   "cell_type": "markdown",
   "id": "2e976266",
   "metadata": {},
   "source": [
    "Write a Python program to reverse the digits of an integer. \n",
    "Input : 234\n",
    "Input : -234\n",
    "Output: 432\n",
    "Output : -432"
   ]
  },
  {
   "cell_type": "code",
   "execution_count": 45,
   "id": "ec7006cc",
   "metadata": {},
   "outputs": [
    {
     "data": {
      "text/plain": [
       "-432"
      ]
     },
     "execution_count": 45,
     "metadata": {},
     "output_type": "execute_result"
    }
   ],
   "source": [
    "def reverse_digit(num):\n",
    "    flag = False\n",
    "    if num<0:\n",
    "        flag = True\n",
    "        num = num*-1\n",
    "    num = str(num)\n",
    "    num_rev = num[::-1]\n",
    "    num = int(num_rev)\n",
    "    \n",
    "    if flag:\n",
    "        num= num*-1\n",
    "    return num\n",
    "    \n",
    "    \n",
    "    \n",
    "    \n",
    "reverse_digit(-234)\n",
    "        \n",
    "        \n",
    "        "
   ]
  },
  {
   "cell_type": "markdown",
   "id": "13f167d0",
   "metadata": {},
   "source": [
    "### Q5."
   ]
  },
  {
   "cell_type": "markdown",
   "id": "d84cff65",
   "metadata": {},
   "source": [
    " You are given three integers start, finish, and limit. You are also given a 0-indexed string s representing a positive integer.\n",
    "\n",
    "A positive integer x is called powerful if it ends with s (in other words, s is a suffix of x) and each digit in x is at most limit.\n",
    "\n",
    "Return the total number of powerful integers in the range [start..finish].\n",
    "\n",
    "A string x is a suffix of a string y if and only if x is a substring of y that starts from some index (including 0) in y and extends to the index y.length - 1. For example, 25 is a suffix of 5125 whereas 512 is not.\n",
    "\n",
    "\n",
    "\n",
    "\n",
    "#### Example 1:\n",
    "\n",
    "Input: start = 1, finish = 6000, limit = 4, s = \"124\"\n",
    "Output: 5\n",
    "Explanation: The powerful integers in the range [1..6000] are 124, 1124, 2124, 3124, and, 4124. All these integers have each digit <= 4, and \"124\" as a suffix. Note that 5124 is not a powerful integer because the first digit is 5 which is greater than 4.\n",
    "It can be shown that there are only 5 powerful integers in this range.\n",
    "\n",
    "#### Example 2:\n",
    "Input: start = 15, finish = 215, limit = 6, s = \"10\"\n",
    "Output: 2\n",
    "Explanation: The powerful integers in the range [15..215] are 110 and 210. All these integers have each digit <= 6, and \"10\" as a suffix.\n",
    "It can be shown that there are only 2 powerful integers in this range."
   ]
  },
  {
   "cell_type": "code",
   "execution_count": 48,
   "id": "46d3f3ce",
   "metadata": {},
   "outputs": [
    {
     "name": "stdout",
     "output_type": "stream",
     "text": [
      "start is:15 finish is:215 limit is :6 and givenstring with index is:10:\n",
      "beautiful numbers in between is: ['110', '210']\n"
     ]
    }
   ],
   "source": [
    "def powerful_integers(start,finish,limit,s):\n",
    "    result=[]\n",
    "    print('start is:{} finish is:{} limit is :{} and givenstring with index is:{}:'.format(start,finish,limit,s))\n",
    "    for i in range(start,finish+1):\n",
    "            i_str =str(i)\n",
    "            \n",
    "            if i_str.endswith(s) and all(int(x) <= limit for x in i_str):\n",
    "                     result.append(i_str)\n",
    "    print('beautiful numbers in between is:',result)\n",
    "            \n",
    "       \n",
    "# powerful_integers(15,215,6,'10')\n",
    "# powerful_integers(1,6000,4,'124')\n",
    "start,finish,limit,s=15,215,6,'10'\n",
    "powerful_integers(start,finish,limit,s)\n",
    "\n"
   ]
  },
  {
   "cell_type": "code",
   "execution_count": null,
   "id": "8d5ba4fe",
   "metadata": {},
   "outputs": [],
   "source": []
  }
 ],
 "metadata": {
  "kernelspec": {
   "display_name": "Python 3 (ipykernel)",
   "language": "python",
   "name": "python3"
  },
  "language_info": {
   "codemirror_mode": {
    "name": "ipython",
    "version": 3
   },
   "file_extension": ".py",
   "mimetype": "text/x-python",
   "name": "python",
   "nbconvert_exporter": "python",
   "pygments_lexer": "ipython3",
   "version": "3.10.9"
  }
 },
 "nbformat": 4,
 "nbformat_minor": 5
}
