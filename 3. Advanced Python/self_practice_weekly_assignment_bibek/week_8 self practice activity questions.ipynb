{
 "cells": [
  {
   "cell_type": "markdown",
   "id": "6a2c7dc6",
   "metadata": {},
   "source": [
    "Q1. Write a function to find the longest common prefix string amongst an array of strings.\n",
    "\n",
    "If there is no common prefix, return an empty string \"\".\n",
    "\n",
    " \n",
    "\n",
    "Example 1:\n",
    "\n",
    "Input: strs = [\"flower\",\"flow\",\"flight\"]\n",
    "\n",
    "Output: \"fl\"\n",
    "\n"
   ]
  },
  {
   "cell_type": "code",
   "execution_count": 5,
   "id": "3a8fa791",
   "metadata": {},
   "outputs": [
    {
     "name": "stdout",
     "output_type": "stream",
     "text": [
      "Longest common prefix: fl\n"
     ]
    }
   ],
   "source": [
    "def longest_common_prefix(my_list):\n",
    "    if not my_list:\n",
    "        return \"\" #returns blank if list is empty\n",
    "\n",
    "    # Sort the list of strings to ensure the shortest string is at index 0 and the longest at the end\n",
    "    my_list.sort()\n",
    "\n",
    "    # Take the first string as the reference\n",
    "    prefix = my_list[0]\n",
    "\n",
    "    # Iterate through the remaining strings\n",
    "    for i in range(1, len(my_list)):\n",
    "        # Compare characters of each string with the characters of the prefix\n",
    "        for j in range(len(prefix)):\n",
    "            # If characters don't match, update the prefix\n",
    "            if prefix[j] != my_list[i][j]:\n",
    "                prefix = prefix[:j]\n",
    "                break\n",
    "\n",
    "    return prefix\n",
    "\n",
    "\n",
    "str_list = [\"flower\", \"flow\", \"flight\"]\n",
    "print(\"Longest common prefix:\", longest_common_prefix(str_list))\n"
   ]
  },
  {
   "cell_type": "markdown",
   "id": "4db0c538",
   "metadata": {},
   "source": [
    "Q2. Given an array nums of size n, return the majority element.\n",
    "\n",
    "The majority element is the element that appears more than ⌊n / 2⌋ times. You may assume that the majority element always exists in the array.\n",
    "\n",
    " \n",
    "\n",
    "Example 1:\n",
    "\n",
    "Input: nums = [3,2,3]\n",
    "\n",
    "Output: 3"
   ]
  },
  {
   "cell_type": "code",
   "execution_count": 4,
   "id": "23a4db63",
   "metadata": {},
   "outputs": [
    {
     "name": "stdout",
     "output_type": "stream",
     "text": [
      "Enter an integer number to add to the list or (e to exit): 3\n",
      "Enter an integer number to add to the list or (e to exit): 3\n",
      "Enter an integer number to add to the list or (e to exit): 3\n",
      "Enter an integer number to add to the list or (e to exit): 4\n",
      "Enter an integer number to add to the list or (e to exit): 4\n",
      "Enter an integer number to add to the list or (e to exit): 4\n",
      "Enter an integer number to add to the list or (e to exit): 4\n",
      "Enter an integer number to add to the list or (e to exit): e\n",
      "Given list is: ['3', '3', '3', '4', '4', '4', '4']\n",
      "Elements that occur more than n/2 times: ['4']\n"
     ]
    }
   ],
   "source": [
    "my_list = []\n",
    "my_dictionary = {}\n",
    "while True:\n",
    "    a = input('Enter an integer number to add to the list or (e to exit): ')\n",
    "    if a.lower() == 'e':\n",
    "        break\n",
    "    else:\n",
    "        my_list.append(a)\n",
    "\n",
    "print('Given list is:', my_list)\n",
    "\n",
    "# Counting the occurrences of each element in the list\n",
    "for i in my_list:\n",
    "    my_dictionary[i] = my_dictionary.get(i, 0) + 1\n",
    "\n",
    "\n",
    "threshold = len(my_list) / 2\n",
    "\n",
    "# Finding the elements that occur more than n/2 times\n",
    "majority_elements = [key for key, value in my_dictionary.items() if value > threshold]\n",
    "\n",
    "print('Elements that occur more than n/2 times:', majority_elements)\n"
   ]
  },
  {
   "cell_type": "markdown",
   "id": "418c578a",
   "metadata": {},
   "source": [
    "Q3.\n",
    "In a project, you have a list of required skills req_skills, and a list of people. The ith person people[i] contains a list of skills that the person has.\n",
    "\n",
    "Consider a sufficient team: a set of people such that for every required skill in req_skills, there is at least one person in the team who has that skill. We can represent these teams by the index of each person.\n",
    "\n",
    "For example, team = [0, 1, 3] represents the people with skills people[0], people[1], and people[3].\n",
    "Return any sufficient team of the smallest possible size, represented by the index of each person. You may return the answer in any order.\n",
    "\n",
    "It is guaranteed an answer exists.\n",
    "\n",
    " \n",
    "\n",
    "Example 1:\n",
    "\n",
    "Input: req_skills = [\"java\",\"nodejs\",\"reactjs\"], people = [[\"java\"],[\"nodejs\"],[\"nodejs\",\"reactjs\"]]\n",
    "Output: [0,2]\n",
    "Example 2:\n",
    "\n",
    "Input: req_skills = [\"algorithms\",\"math\",\"java\",\"reactjs\",\"csharp\",\"aws\"], people = [[\"algorithms\",\"math\",\"java\"],[\"algorithms\",\"math\",\"reactjs\"],[\"java\",\"csharp\",\"aws\"],[\"reactjs\",\"csharp\"],[\"csharp\",\"math\"],[\"aws\",\"java\"]]\n",
    "Output: [1,2]"
   ]
  },
  {
   "cell_type": "code",
   "execution_count": 12,
   "id": "d564c989",
   "metadata": {},
   "outputs": [
    {
     "name": "stdout",
     "output_type": "stream",
     "text": [
      "[0, 1, 2]\n"
     ]
    }
   ],
   "source": [
    "\n",
    "# DFS approach\n",
    "\n",
    "def smallestSufficientTeam(req_skills, people):\n",
    "    skill_map = {skill: i for i, skill in enumerate(req_skills)}\n",
    "    people_skills = [set(skill_map[skill] for skill in person) for person in people]\n",
    "    dp = {}\n",
    "\n",
    "    def dfs(covered_skills, index):\n",
    "        covered_skills_tuple = tuple(sorted(covered_skills))\n",
    "        if covered_skills_tuple == tuple(range(len(req_skills))):  # All required skills are covered\n",
    "            return []\n",
    "        if index == len(people):  # Reached the end of the people list\n",
    "            return None\n",
    "        if (covered_skills_tuple, index) in dp:\n",
    "            return dp[(covered_skills_tuple, index)]\n",
    "\n",
    "        # Try including the current person in the team\n",
    "        with_person = dfs(covered_skills.union(people_skills[index]), index + 1)\n",
    "        if with_person is not None:\n",
    "            with_person.append(index)\n",
    "            dp[(covered_skills_tuple, index)] = with_person\n",
    "            return with_person\n",
    "\n",
    "        # Try excluding the current person from the team\n",
    "        without_person = dfs(covered_skills, index + 1)\n",
    "        dp[(covered_skills_tuple, index)] = without_person\n",
    "        return without_person\n",
    "\n",
    "    team_indices = dfs(set(), 0)\n",
    "    return team_indices[::-1] if team_indices else []\n",
    "\n",
    "# Example usage:\n",
    "req_skills = [\"algorithms\", \"math\", \"java\", \"reactjs\", \"csharp\", \"aws\"]\n",
    "people = [[\"algorithms\", \"math\", \"java\"], [\"algorithms\", \"math\", \"reactjs\"], [\"java\", \"csharp\", \"aws\"],\n",
    "          [\"reactjs\", \"csharp\"], [\"csharp\", \"math\"], [\"aws\", \"java\"]]\n",
    "print(smallestSufficientTeam(req_skills, people))\n"
   ]
  },
  {
   "cell_type": "markdown",
   "id": "5020b344",
   "metadata": {},
   "source": [
    "Q4.\n",
    "Given an integer n, your task is to count how many strings of length n can be formed under the following rules:\n",
    "\n",
    "Each character is a lower case vowel ('a', 'e', 'i', 'o', 'u')\n",
    "Each vowel 'a' may only be followed by an 'e'.\n",
    "Each vowel 'e' may only be followed by an 'a' or an 'i'.\n",
    "Each vowel 'i' may not be followed by another 'i'.\n",
    "Each vowel 'o' may only be followed by an 'i' or a 'u'.\n",
    "Each vowel 'u' may only be followed by an 'a'.\n",
    "Since the answer may be too large, return it modulo 10^9 + 7.\n",
    "\n",
    " \n",
    "\n",
    "Example 1:\n",
    "\n",
    "Input: n = 1\n",
    "Output: 5\n",
    "Explanation: All possible strings are: \"a\", \"e\", \"i\" , \"o\" and \"u\".\n",
    "Example 2:\n",
    "\n",
    "Input: n = 2\n",
    "Output: 10\n",
    "Explanation: All possible strings are: \"ae\", \"ea\", \"ei\", \"ia\", \"ie\", \"io\", \"iu\", \"oi\", \"ou\" and \"ua\".\n",
    "Example 3: \n",
    "\n",
    "Input: n = 5\n",
    "Output: 68\n"
   ]
  },
  {
   "cell_type": "code",
   "execution_count": 14,
   "id": "30f3b90a",
   "metadata": {},
   "outputs": [
    {
     "name": "stdout",
     "output_type": "stream",
     "text": [
      "5\n",
      "10\n",
      "83\n"
     ]
    }
   ],
   "source": [
    "# ***********Dynamic programming approach******\n",
    "\n",
    "def countVowelStrings(n):\n",
    "    MOD = 10**9 + 7\n",
    "    # Initializing the dp array with 0's\n",
    "    dp = [[0] * 5 for _ in range(n + 1)]\n",
    "    # Initializing the base case for length 1\n",
    "    for i in range(5):\n",
    "        dp[1][i] = 1\n",
    "    \n",
    "    # Iterate through lengths from 2 to n\n",
    "    for i in range(2, n + 1):\n",
    "        # Update dp[i][0] (ending with 'a')\n",
    "        dp[i][0] = (dp[i - 1][1] + dp[i - 1][2] + dp[i - 1][4]) % MOD\n",
    "        # Update dp[i][1] (ending with 'e')\n",
    "        dp[i][1] = (dp[i - 1][0] + dp[i - 1][2]) % MOD\n",
    "        # Update dp[i][2] (ending with 'i')\n",
    "        dp[i][2] = (dp[i - 1][1] + dp[i - 1][3]) % MOD\n",
    "        # Update dp[i][3] (ending with 'o')\n",
    "        dp[i][3] = (dp[i - 1][2] + dp[i - 1][4]) % MOD\n",
    "        # Update dp[i][4] (ending with 'u')\n",
    "        dp[i][4] = (dp[i - 1][0]) % MOD\n",
    "    \n",
    "    # Sum all possibilities for strings of length n\n",
    "    total = sum(dp[n]) % MOD\n",
    "    return total\n",
    "\n",
    "\n",
    "print(countVowelStrings(1))  \n",
    "print(countVowelStrings(2))  \n",
    "print(countVowelStrings(5))  \n"
   ]
  },
  {
   "cell_type": "code",
   "execution_count": null,
   "id": "8220c51c",
   "metadata": {},
   "outputs": [],
   "source": []
  }
 ],
 "metadata": {
  "kernelspec": {
   "display_name": "Python 3 (ipykernel)",
   "language": "python",
   "name": "python3"
  },
  "language_info": {
   "codemirror_mode": {
    "name": "ipython",
    "version": 3
   },
   "file_extension": ".py",
   "mimetype": "text/x-python",
   "name": "python",
   "nbconvert_exporter": "python",
   "pygments_lexer": "ipython3",
   "version": "3.10.9"
  }
 },
 "nbformat": 4,
 "nbformat_minor": 5
}
