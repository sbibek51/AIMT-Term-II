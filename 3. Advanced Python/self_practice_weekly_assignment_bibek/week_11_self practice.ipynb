{
 "cells": [
  {
   "cell_type": "markdown",
   "id": "fdebb7cf",
   "metadata": {},
   "source": [
    "Q1. \n",
    "You are given two integer arrays nums1 and nums2, sorted in non-decreasing order, and two integers m and n, representing the number of elements in nums1 and nums2 respectively.\n",
    "\n",
    "Merge nums1 and nums2 into a single array sorted in non-decreasing order.\n",
    "\n",
    "The final sorted array should not be returned by the function, but instead be stored inside the array nums1. To accommodate this, nums1 has a length of m + n, where the first m elements denote the elements that should be merged, and the last n elements are set to 0 and should be ignored. nums2 has a length of n.\n",
    "\n",
    "Example 1:\n",
    "\n",
    "Input: nums1 = [1,2,3,0,0,0], m = 3, nums2 = [2,5,6], n = 3\n",
    "\n",
    "Output: [1,2,2,3,5,6]\n",
    "\n",
    "Explanation: The arrays we are merging are [1,2,3] and [2,5,6].\n",
    "\n",
    "The result of the merge is [1,2,2,3,5,6] with the underlined elements coming from nums1."
   ]
  },
  {
   "cell_type": "code",
   "execution_count": 1,
   "id": "96d2d7ba",
   "metadata": {},
   "outputs": [],
   "source": [
    "def merge_and_sort(nums1, m, nums2, n):\n",
    "    # Pointer for the end of merged nums1\n",
    "    index1 = m - 1\n",
    "    # Pointer for the end of nums2\n",
    "    index2 = n - 1\n",
    "    # Pointer for the end of merged nums1 (including space for nums2)\n",
    "    merged_index = m + n - 1\n",
    "\n",
    "    # Loop until all elements of nums2 are merged\n",
    "    while index2 >= 0:\n",
    "        # Check if all elements of nums1 are merged or nums2 has larger element\n",
    "        if index1 >= 0 and nums1[index1] > nums2[index2]:\n",
    "            # Assign the larger element from nums1\n",
    "            nums1[merged_index] = nums1[index1]\n",
    "            index1 -= 1\n",
    "        else:\n",
    "            # Assign the next element from nums2\n",
    "            nums1[merged_index] = nums2[index2]\n",
    "            index2 -= 1\n",
    "        # Move the pointer for merged nums1 to the left\n",
    "        merged_index -= 1\n",
    "\n",
    "\n"
   ]
  },
  {
   "cell_type": "code",
   "execution_count": 2,
   "id": "db09246a",
   "metadata": {},
   "outputs": [
    {
     "name": "stdout",
     "output_type": "stream",
     "text": [
      "[1, 2, 2, 3, 5, 6]\n"
     ]
    }
   ],
   "source": [
    "nums1 = [1, 2, 3, 0, 0, 0]\n",
    "m = 3\n",
    "nums2 = [2, 5, 6]\n",
    "n = 3\n",
    "\n",
    "merge_and_sort(nums1, m, nums2, n)\n",
    "print(nums1)"
   ]
  },
  {
   "cell_type": "markdown",
   "id": "edbf6bd8",
   "metadata": {},
   "source": [
    "Q2- Given an input string s and a pattern p, implement regular expression matching with support for '.' and '*' where:\n",
    "\n",
    "'.' Matches any single character.​​​​\n",
    "'*' Matches zero or more of the preceding element.\n",
    "The matching should cover the entire input string (not partial).\n",
    "\n",
    "Example 1: Input: s = \"aa\", p = \"a\"\n",
    "\n",
    "Output: false\n",
    "\n",
    "Explanation: \"a\" does not match the entire string \"aa\".\n",
    "\n",
    "Example 2: Input: s = \"aa\", p = \"a*\"\n",
    "\n",
    "Output: true\n",
    "\n",
    "Explanation: '*' means zero or more of the preceding element, 'a'. Therefore, by repeating 'a' once, it becomes \"aa\"."
   ]
  },
  {
   "cell_type": "code",
   "execution_count": 3,
   "id": "f2aff9c8",
   "metadata": {},
   "outputs": [
    {
     "name": "stdout",
     "output_type": "stream",
     "text": [
      "True\n",
      "False\n"
     ]
    }
   ],
   "source": [
    "def isMatch(s: str, p: str) -> bool:  # function return type is bool\n",
    "    rows, columns = (len(s), len(p))\n",
    "    # Base conditions\n",
    "    if rows == 0 and columns == 0:\n",
    "        return True\n",
    "    if columns == 0:\n",
    "        return False\n",
    "\n",
    "    # DP array\n",
    "    dp = [[False for j in range(columns + 1)] for i in range(rows + 1)]\n",
    "    # Since empty string and empty pattern are a match\n",
    "    dp[0][0] = True\n",
    "\n",
    "    # Deals with patterns containing *\n",
    "    for i in range(2, columns + 1):\n",
    "        if p[i - 1] == '*':\n",
    "            dp[0][i] = dp[0][i - 2]\n",
    "\n",
    "    # For remaining characters\n",
    "    for i in range(1, rows + 1):\n",
    "        for j in range(1, columns + 1):\n",
    "            if s[i - 1] == p[j - 1] or p[j - 1] == '.':\n",
    "                dp[i][j] = dp[i - 1][j - 1]\n",
    "            elif j > 1 and p[j - 1] == '*':\n",
    "                dp[i][j] = dp[i][j - 2]\n",
    "                if p[j - 2] == '.' or p[j - 2] == s[i - 1]:\n",
    "                    dp[i][j] = dp[i][j] or dp[i - 1][j]\n",
    "    return dp[rows][columns]\n",
    "\n",
    "\n",
    "print(isMatch('aa', 'a.'))\n",
    "print(isMatch('aa', 'a'))\n",
    "\n",
    "# idea and understanding from: https://redquark.org/leetcode/0010-regular-expression-matching/"
   ]
  },
  {
   "cell_type": "markdown",
   "id": "64a9d75f",
   "metadata": {},
   "source": [
    "Q3- A permutation of an array of integers is an arrangement of its members into a sequence or linear order.\n",
    "\n",
    "For example, for arr = [1,2,3], the following are considered permutations of arr: [1,2,3], [1,3,2], [3,1,2], [2,3,1].\n",
    "The next permutation of an array of integers is the next lexicographically greater permutation of its integer. More formally, if all the permutations of the array are sorted in one container according to their lexicographical order, then the next permutation of that array is the permutation that follows it in the sorted container. If such arrangement is not possible, the array must be rearranged as the lowest possible order (i.e., sorted in ascending order).\n",
    "\n",
    "For example, the next permutation of arr = [1,2,3] is [1,3,2].\n",
    "Similarly, the next permutation of arr = [2,3,1] is [3,1,2].\n",
    "While the next permutation of arr = [3,2,1] is [1,2,3] because [3,2,1] does not have a lexicographical larger rearrangement.\n",
    "Given an array of integers nums, find the next permutation of nums.\n",
    "\n",
    "The replacement must be in place and use only constant extra memory.\n",
    "\n",
    " Example 1:\n",
    "\n",
    "Input: nums = [1,2,3]\n",
    "Output: [1,3,2]"
   ]
  },
  {
   "cell_type": "code",
   "execution_count": 4,
   "id": "cddf8f4c",
   "metadata": {},
   "outputs": [
    {
     "name": "stdout",
     "output_type": "stream",
     "text": [
      "[1, 3, 2]\n"
     ]
    }
   ],
   "source": [
    "def reverse(nums, i, j):\n",
    "    while i < j:\n",
    "        nums[i], nums[j] = nums[j], nums[i]\n",
    "        i += 1\n",
    "        j -= 1\n",
    "\n",
    "\n",
    "def nextPermutation(nums):\n",
    "    # Length of the array\n",
    "    n = len(nums)\n",
    "    # Index of the first element that is smaller than\n",
    "    # the element to its right.\n",
    "    index = -1\n",
    "    # Loop from right to left\n",
    "    for i in range(n - 1, 0, -1):\n",
    "        if nums[i] > nums[i - 1]:\n",
    "            index = i - 1\n",
    "            break\n",
    "    # Base condition\n",
    "    if index == -1:\n",
    "        reverse(nums, 0, n - 1)\n",
    "        return\n",
    "    j = n - 1\n",
    "    # Again swap from right to left to find first element\n",
    "    # that is greater than the above find element\n",
    "    for i in range(n - 1, index, -1):\n",
    "        if nums[i] > nums[index]:\n",
    "            j = i\n",
    "            break\n",
    "    # Swap the elements\n",
    "    nums[index], nums[j] = nums[j], nums[index]\n",
    "    # Reverse the elements from index + 1 to the nums.length\n",
    "    reverse(nums, index + 1, n - 1)\n",
    "\n",
    "    return nums\n",
    "\n",
    "\n",
    "\n",
    "\n",
    "print(nextPermutation([1,2,3]))\n"
   ]
  },
  {
   "cell_type": "code",
   "execution_count": null,
   "id": "e17d5cc6",
   "metadata": {},
   "outputs": [],
   "source": [
    "# ***********"
   ]
  }
 ],
 "metadata": {
  "kernelspec": {
   "display_name": "Python 3 (ipykernel)",
   "language": "python",
   "name": "python3"
  },
  "language_info": {
   "codemirror_mode": {
    "name": "ipython",
    "version": 3
   },
   "file_extension": ".py",
   "mimetype": "text/x-python",
   "name": "python",
   "nbconvert_exporter": "python",
   "pygments_lexer": "ipython3",
   "version": "3.10.9"
  }
 },
 "nbformat": 4,
 "nbformat_minor": 5
}
