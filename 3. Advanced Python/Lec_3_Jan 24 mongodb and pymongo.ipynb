{
 "cells": [
  {
   "cell_type": "code",
   "execution_count": 1,
   "id": "a5a6e7a7",
   "metadata": {},
   "outputs": [],
   "source": [
    "#Bibek Shiwakoti"
   ]
  },
  {
   "cell_type": "code",
   "execution_count": 2,
   "id": "22d70180",
   "metadata": {},
   "outputs": [
    {
     "name": "stdout",
     "output_type": "stream",
     "text": [
      "Hello world\n"
     ]
    }
   ],
   "source": [
    "print('Hello world')\n"
   ]
  },
  {
   "cell_type": "code",
   "execution_count": 3,
   "id": "fb00d2cc",
   "metadata": {},
   "outputs": [
    {
     "name": "stdout",
     "output_type": "stream",
     "text": [
      "Requirement already satisfied: pymongo in c:\\users\\travelmate\\anaconda3\\lib\\site-packages (4.6.1)\n",
      "Requirement already satisfied: dnspython<3.0.0,>=1.16.0 in c:\\users\\travelmate\\anaconda3\\lib\\site-packages (from pymongo) (2.5.0)\n",
      "Note: you may need to restart the kernel to use updated packages.\n"
     ]
    }
   ],
   "source": [
    "pip install pymongo"
   ]
  },
  {
   "cell_type": "code",
   "execution_count": 4,
   "id": "c4012f0a",
   "metadata": {},
   "outputs": [
    {
     "name": "stdout",
     "output_type": "stream",
     "text": [
      "PyMongo and MongoDB are installed and connected successfully!\n"
     ]
    }
   ],
   "source": [
    "import pymongo\n",
    "print(\"PyMongo and MongoDB are installed and connected successfully!\")\n",
    "\n",
    "from pymongo import MongoClient\n",
    "client= MongoClient()\n",
    "db=client.test\n",
    "\n",
    "\n"
   ]
  },
  {
   "cell_type": "code",
   "execution_count": 5,
   "id": "c1d0d00d",
   "metadata": {},
   "outputs": [],
   "source": [
    "employee =db.employee"
   ]
  },
  {
   "cell_type": "code",
   "execution_count": 6,
   "id": "a588ad4c",
   "metadata": {},
   "outputs": [],
   "source": [
    "employee_details={\n",
    "    'Name': 'Raj Kumar',\n",
    "    'Address': 'Sears street, NZ',\n",
    "    'Age': '42',\n",
    "    \n",
    "    \n",
    "}"
   ]
  },
  {
   "cell_type": "code",
   "execution_count": 7,
   "id": "4dec7e22",
   "metadata": {},
   "outputs": [],
   "source": [
    "result = employee.insert_one(employee_details)"
   ]
  },
  {
   "cell_type": "code",
   "execution_count": 8,
   "id": "17d97a36",
   "metadata": {},
   "outputs": [
    {
     "name": "stdout",
     "output_type": "stream",
     "text": [
      "65bab0592776d06f216b1063\n"
     ]
    }
   ],
   "source": [
    "print(result.inserted_id)"
   ]
  },
  {
   "cell_type": "code",
   "execution_count": 76,
   "id": "4d725685",
   "metadata": {},
   "outputs": [
    {
     "name": "stdout",
     "output_type": "stream",
     "text": [
      "['admin', 'config', 'local', 'test']\n"
     ]
    }
   ],
   "source": [
    "print(client.list_database_names())\n"
   ]
  },
  {
   "cell_type": "code",
   "execution_count": 10,
   "id": "befc96aa",
   "metadata": {},
   "outputs": [
    {
     "name": "stdout",
     "output_type": "stream",
     "text": [
      "The test exists\n"
     ]
    }
   ],
   "source": [
    "dblist=client.list_database_names()\n",
    "if 'test' in dblist:\n",
    "    print('The {} exists'.format('test'))\n",
    "else: \n",
    "    print('there is no test database')"
   ]
  },
  {
   "cell_type": "code",
   "execution_count": 77,
   "id": "7bf77a3a",
   "metadata": {},
   "outputs": [
    {
     "name": "stdout",
     "output_type": "stream",
     "text": [
      "['Bibek', 'employee_copy', 'employee']\n"
     ]
    }
   ],
   "source": [
    "print(db.list_collection_names())"
   ]
  },
  {
   "cell_type": "code",
   "execution_count": 78,
   "id": "3aceb245",
   "metadata": {},
   "outputs": [
    {
     "name": "stdout",
     "output_type": "stream",
     "text": [
      "the employee collection exists.\n"
     ]
    }
   ],
   "source": [
    "collist = db.list_collection_names()\n",
    "if 'employee' in collist:\n",
    "    print('the employee collection exists.')\n",
    "else:\n",
    "    print('the employee collection doesnot exists')"
   ]
  },
  {
   "cell_type": "code",
   "execution_count": 79,
   "id": "53adcdd2",
   "metadata": {},
   "outputs": [],
   "source": [
    "mylist = [{\"_id\":1,\"name\":\"John\",\"address\":\"Highway 37\"},\n",
    "          {\"_id\":2,\"name\":\"Peter\",\"address\":\"Lowstreet 27\"},\n",
    "          {\"_id\":3,\"name\":\"Amy\",\"address\":\"Close st 652\"},\n",
    "          {\"_id\":4,\"name\":\"Hannah\",\"address\":\"Mountain 21\"},\n",
    "          {\"_id\":5,\"name\":\"Michael\",\"address\":\"Valley 345\"},\n",
    "          {\"_id\":6,\"name\": \"Vicky\", \"address\": \"Yellow Garden 124\"},\n",
    "          {\"_id\":7,\"name\": \"Nicky\", \"address\": \"Yellow Garden 23\"},\n",
    "          {\"_id\":8,\"name\": \"Nancy\", \"address\": \"Younge Ave. 123\"},\n",
    "          {\"_id\":9,\"name\": \"Viola\", \"address\": \"Highway 37\"}]\n"
   ]
  },
  {
   "cell_type": "code",
   "execution_count": 80,
   "id": "229a3e08",
   "metadata": {
    "scrolled": false
   },
   "outputs": [
    {
     "ename": "BulkWriteError",
     "evalue": "batch op errors occurred, full error: {'writeErrors': [{'index': 0, 'code': 11000, 'errmsg': 'E11000 duplicate key error collection: test.employee index: _id_ dup key: { _id: 1 }', 'keyPattern': {'_id': 1}, 'keyValue': {'_id': 1}, 'op': {'_id': 1, 'name': 'John', 'address': 'Highway 37'}}], 'writeConcernErrors': [], 'nInserted': 0, 'nUpserted': 0, 'nMatched': 0, 'nModified': 0, 'nRemoved': 0, 'upserted': []}",
     "output_type": "error",
     "traceback": [
      "\u001b[1;31m---------------------------------------------------------------------------\u001b[0m",
      "\u001b[1;31mBulkWriteError\u001b[0m                            Traceback (most recent call last)",
      "Cell \u001b[1;32mIn[80], line 1\u001b[0m\n\u001b[1;32m----> 1\u001b[0m x\u001b[38;5;241m=\u001b[39m \u001b[43memployee\u001b[49m\u001b[38;5;241;43m.\u001b[39;49m\u001b[43minsert_many\u001b[49m\u001b[43m(\u001b[49m\u001b[43mmylist\u001b[49m\u001b[43m)\u001b[49m\n\u001b[0;32m      2\u001b[0m \u001b[38;5;66;03m#print list of the _id values of the inserted documents \u001b[39;00m\n\u001b[0;32m      3\u001b[0m \u001b[38;5;28mprint\u001b[39m(x\u001b[38;5;241m.\u001b[39minserted_ids)\n",
      "File \u001b[1;32m~\\anaconda3\\lib\\site-packages\\pymongo\\_csot.py:107\u001b[0m, in \u001b[0;36mapply.<locals>.csot_wrapper\u001b[1;34m(self, *args, **kwargs)\u001b[0m\n\u001b[0;32m    105\u001b[0m         \u001b[38;5;28;01mwith\u001b[39;00m _TimeoutContext(timeout):\n\u001b[0;32m    106\u001b[0m             \u001b[38;5;28;01mreturn\u001b[39;00m func(\u001b[38;5;28mself\u001b[39m, \u001b[38;5;241m*\u001b[39margs, \u001b[38;5;241m*\u001b[39m\u001b[38;5;241m*\u001b[39mkwargs)\n\u001b[1;32m--> 107\u001b[0m \u001b[38;5;28;01mreturn\u001b[39;00m func(\u001b[38;5;28mself\u001b[39m, \u001b[38;5;241m*\u001b[39margs, \u001b[38;5;241m*\u001b[39m\u001b[38;5;241m*\u001b[39mkwargs)\n",
      "File \u001b[1;32m~\\anaconda3\\lib\\site-packages\\pymongo\\collection.py:755\u001b[0m, in \u001b[0;36mCollection.insert_many\u001b[1;34m(self, documents, ordered, bypass_document_validation, session, comment)\u001b[0m\n\u001b[0;32m    753\u001b[0m blk \u001b[38;5;241m=\u001b[39m _Bulk(\u001b[38;5;28mself\u001b[39m, ordered, bypass_document_validation, comment\u001b[38;5;241m=\u001b[39mcomment)\n\u001b[0;32m    754\u001b[0m blk\u001b[38;5;241m.\u001b[39mops \u001b[38;5;241m=\u001b[39m \u001b[38;5;28mlist\u001b[39m(gen())\n\u001b[1;32m--> 755\u001b[0m \u001b[43mblk\u001b[49m\u001b[38;5;241;43m.\u001b[39;49m\u001b[43mexecute\u001b[49m\u001b[43m(\u001b[49m\u001b[43mwrite_concern\u001b[49m\u001b[43m,\u001b[49m\u001b[43m \u001b[49m\u001b[43msession\u001b[49m\u001b[38;5;241;43m=\u001b[39;49m\u001b[43msession\u001b[49m\u001b[43m)\u001b[49m\n\u001b[0;32m    756\u001b[0m \u001b[38;5;28;01mreturn\u001b[39;00m InsertManyResult(inserted_ids, write_concern\u001b[38;5;241m.\u001b[39macknowledged)\n",
      "File \u001b[1;32m~\\anaconda3\\lib\\site-packages\\pymongo\\bulk.py:576\u001b[0m, in \u001b[0;36m_Bulk.execute\u001b[1;34m(self, write_concern, session)\u001b[0m\n\u001b[0;32m    574\u001b[0m         \u001b[38;5;28;01mreturn\u001b[39;00m \u001b[38;5;28;01mNone\u001b[39;00m\n\u001b[0;32m    575\u001b[0m \u001b[38;5;28;01melse\u001b[39;00m:\n\u001b[1;32m--> 576\u001b[0m     \u001b[38;5;28;01mreturn\u001b[39;00m \u001b[38;5;28;43mself\u001b[39;49m\u001b[38;5;241;43m.\u001b[39;49m\u001b[43mexecute_command\u001b[49m\u001b[43m(\u001b[49m\u001b[43mgenerator\u001b[49m\u001b[43m,\u001b[49m\u001b[43m \u001b[49m\u001b[43mwrite_concern\u001b[49m\u001b[43m,\u001b[49m\u001b[43m \u001b[49m\u001b[43msession\u001b[49m\u001b[43m)\u001b[49m\n",
      "File \u001b[1;32m~\\anaconda3\\lib\\site-packages\\pymongo\\bulk.py:446\u001b[0m, in \u001b[0;36m_Bulk.execute_command\u001b[1;34m(self, generator, write_concern, session)\u001b[0m\n\u001b[0;32m    443\u001b[0m client\u001b[38;5;241m.\u001b[39m_retryable_write(\u001b[38;5;28mself\u001b[39m\u001b[38;5;241m.\u001b[39mis_retryable, retryable_bulk, session, bulk\u001b[38;5;241m=\u001b[39m\u001b[38;5;28mself\u001b[39m)\n\u001b[0;32m    445\u001b[0m \u001b[38;5;28;01mif\u001b[39;00m full_result[\u001b[38;5;124m\"\u001b[39m\u001b[38;5;124mwriteErrors\u001b[39m\u001b[38;5;124m\"\u001b[39m] \u001b[38;5;129;01mor\u001b[39;00m full_result[\u001b[38;5;124m\"\u001b[39m\u001b[38;5;124mwriteConcernErrors\u001b[39m\u001b[38;5;124m\"\u001b[39m]:\n\u001b[1;32m--> 446\u001b[0m     \u001b[43m_raise_bulk_write_error\u001b[49m\u001b[43m(\u001b[49m\u001b[43mfull_result\u001b[49m\u001b[43m)\u001b[49m\n\u001b[0;32m    447\u001b[0m \u001b[38;5;28;01mreturn\u001b[39;00m full_result\n",
      "File \u001b[1;32m~\\anaconda3\\lib\\site-packages\\pymongo\\bulk.py:157\u001b[0m, in \u001b[0;36m_raise_bulk_write_error\u001b[1;34m(full_result)\u001b[0m\n\u001b[0;32m    155\u001b[0m \u001b[38;5;28;01mif\u001b[39;00m full_result[\u001b[38;5;124m\"\u001b[39m\u001b[38;5;124mwriteErrors\u001b[39m\u001b[38;5;124m\"\u001b[39m]:\n\u001b[0;32m    156\u001b[0m     full_result[\u001b[38;5;124m\"\u001b[39m\u001b[38;5;124mwriteErrors\u001b[39m\u001b[38;5;124m\"\u001b[39m]\u001b[38;5;241m.\u001b[39msort(key\u001b[38;5;241m=\u001b[39m\u001b[38;5;28;01mlambda\u001b[39;00m error: error[\u001b[38;5;124m\"\u001b[39m\u001b[38;5;124mindex\u001b[39m\u001b[38;5;124m\"\u001b[39m])\n\u001b[1;32m--> 157\u001b[0m \u001b[38;5;28;01mraise\u001b[39;00m BulkWriteError(full_result)\n",
      "\u001b[1;31mBulkWriteError\u001b[0m: batch op errors occurred, full error: {'writeErrors': [{'index': 0, 'code': 11000, 'errmsg': 'E11000 duplicate key error collection: test.employee index: _id_ dup key: { _id: 1 }', 'keyPattern': {'_id': 1}, 'keyValue': {'_id': 1}, 'op': {'_id': 1, 'name': 'John', 'address': 'Highway 37'}}], 'writeConcernErrors': [], 'nInserted': 0, 'nUpserted': 0, 'nMatched': 0, 'nModified': 0, 'nRemoved': 0, 'upserted': []}"
     ]
    }
   ],
   "source": [
    "x= employee.insert_many(mylist)\n",
    "#print list of the _id values of the inserted documents \n",
    "print(x.inserted_ids)"
   ]
  },
  {
   "cell_type": "code",
   "execution_count": 81,
   "id": "8d205fa8",
   "metadata": {},
   "outputs": [
    {
     "name": "stdout",
     "output_type": "stream",
     "text": [
      "9\n"
     ]
    }
   ],
   "source": [
    "print(len(mylist))"
   ]
  },
  {
   "cell_type": "code",
   "execution_count": 82,
   "id": "87903480",
   "metadata": {},
   "outputs": [
    {
     "data": {
      "text/plain": [
       "<bound method Collection.count_documents of Collection(Database(MongoClient(host=['localhost:27017'], document_class=dict, tz_aware=False, connect=True), 'test'), 'employee')>"
      ]
     },
     "execution_count": 82,
     "metadata": {},
     "output_type": "execute_result"
    }
   ],
   "source": [
    "employee.count_documents"
   ]
  },
  {
   "cell_type": "code",
   "execution_count": 83,
   "id": "d111043d",
   "metadata": {},
   "outputs": [],
   "source": [
    "x= employee.find_one()"
   ]
  },
  {
   "cell_type": "code",
   "execution_count": 84,
   "id": "86b504a1",
   "metadata": {},
   "outputs": [
    {
     "name": "stdout",
     "output_type": "stream",
     "text": [
      "{'_id': 1, 'name': 'John', 'address': 'Highway 37'}\n"
     ]
    }
   ],
   "source": [
    "print(x)"
   ]
  },
  {
   "cell_type": "code",
   "execution_count": 85,
   "id": "db24023b",
   "metadata": {},
   "outputs": [
    {
     "name": "stdout",
     "output_type": "stream",
     "text": [
      "{'_id': 1, 'name': 'John', 'address': 'Highway 37'}\n",
      "{'_id': 2, 'name': 'Peter', 'address': 'Lowstreet 27'}\n",
      "{'_id': 3, 'name': 'Amy', 'address': 'Close st 652'}\n",
      "{'_id': 4, 'name': 'Hannah', 'address': 'Mountain 21'}\n",
      "{'_id': 5, 'name': 'Michael', 'address': 'Valley 345'}\n",
      "{'_id': 6, 'name': 'Vicky', 'address': 'Yellow Garden 124'}\n",
      "{'_id': 7, 'name': 'Nicky', 'address': 'Yellow Garden 23'}\n",
      "{'_id': 8, 'name': 'Nancy', 'address': 'Younge Ave. 123'}\n",
      "{'_id': 9, 'name': 'Viola', 'address': 'Highway 37'}\n"
     ]
    }
   ],
   "source": [
    "# read all records\n",
    "for x in employee.find():\n",
    "    print(x)"
   ]
  },
  {
   "cell_type": "code",
   "execution_count": 86,
   "id": "fb144c7a",
   "metadata": {},
   "outputs": [],
   "source": [
    "myresult = employee.find().limit(5)"
   ]
  },
  {
   "cell_type": "code",
   "execution_count": 87,
   "id": "ea416aeb",
   "metadata": {},
   "outputs": [
    {
     "name": "stdout",
     "output_type": "stream",
     "text": [
      "{'_id': 1, 'name': 'John', 'address': 'Highway 37'}\n",
      "{'_id': 2, 'name': 'Peter', 'address': 'Lowstreet 27'}\n",
      "{'_id': 3, 'name': 'Amy', 'address': 'Close st 652'}\n",
      "{'_id': 4, 'name': 'Hannah', 'address': 'Mountain 21'}\n",
      "{'_id': 5, 'name': 'Michael', 'address': 'Valley 345'}\n"
     ]
    }
   ],
   "source": [
    "for x in myresult:\n",
    "    print(x)"
   ]
  },
  {
   "cell_type": "code",
   "execution_count": 88,
   "id": "97af08d6",
   "metadata": {},
   "outputs": [],
   "source": [
    "#/////////////*************************************************\n",
    "\n",
    "\n",
    "# create a duplicate copy of your collection employee\n",
    "# rename that duplicate copy to yhour first name\n",
    "# rename the field address in that duplicated copy of your collection to Home address\n",
    "# than in the original collection delete the field address\n",
    "\n"
   ]
  },
  {
   "cell_type": "code",
   "execution_count": 89,
   "id": "42e8a97c",
   "metadata": {},
   "outputs": [
    {
     "name": "stdout",
     "output_type": "stream",
     "text": [
      "{'_id': 1, 'name': 'John', 'address': 'Highway 37'}\n",
      "{'_id': 2, 'name': 'Peter', 'address': 'Lowstreet 27'}\n",
      "{'_id': 3, 'name': 'Amy', 'address': 'Close st 652'}\n",
      "{'_id': 4, 'name': 'Hannah', 'address': 'Mountain 21'}\n",
      "{'_id': 5, 'name': 'Michael', 'address': 'Valley 345'}\n",
      "{'_id': 6, 'name': 'Vicky', 'address': 'Yellow Garden 124'}\n",
      "{'_id': 7, 'name': 'Nicky', 'address': 'Yellow Garden 23'}\n",
      "{'_id': 8, 'name': 'Nancy', 'address': 'Younge Ave. 123'}\n",
      "{'_id': 9, 'name': 'Viola', 'address': 'Highway 37'}\n"
     ]
    }
   ],
   "source": [
    "for x in employee.find():\n",
    "    print(x)\n",
    "# printing the values of the existing employee collection    \n"
   ]
  },
  {
   "cell_type": "code",
   "execution_count": 97,
   "id": "2a3aa38d",
   "metadata": {},
   "outputs": [
    {
     "name": "stdout",
     "output_type": "stream",
     "text": [
      "{'_id': ObjectId('65bab9f72776d06f216b106d'), 'name': 'John', 'address': 'Highway 37'}\n",
      "{'_id': ObjectId('65bab9f72776d06f216b106e'), 'name': 'Peter', 'address': 'Lowstreet 27'}\n",
      "{'_id': ObjectId('65bab9f72776d06f216b106f'), 'name': 'Amy', 'address': 'Close st 652'}\n",
      "{'_id': ObjectId('65bab9f72776d06f216b1070'), 'name': 'Hannah', 'address': 'Mountain 21'}\n",
      "{'_id': ObjectId('65bab9f72776d06f216b1071'), 'name': 'Michael', 'address': 'Valley 345'}\n",
      "{'_id': ObjectId('65bab9f72776d06f216b1072'), 'name': 'Vicky', 'address': 'Yellow Garden 124'}\n",
      "{'_id': ObjectId('65bab9f72776d06f216b1073'), 'name': 'Nicky', 'address': 'Yellow Garden 23'}\n",
      "{'_id': ObjectId('65bab9f72776d06f216b1074'), 'name': 'Nancy', 'address': 'Younge Ave. 123'}\n",
      "{'_id': ObjectId('65bab9f72776d06f216b1075'), 'name': 'Viola', 'address': 'Highway 37'}\n",
      "{'_id': ObjectId('65baba252776d06f216b1076'), 'name': 'John', 'address': 'Highway 37'}\n",
      "{'_id': ObjectId('65baba252776d06f216b1077'), 'name': 'Peter', 'address': 'Lowstreet 27'}\n",
      "{'_id': ObjectId('65baba252776d06f216b1078'), 'name': 'Amy', 'address': 'Close st 652'}\n",
      "{'_id': ObjectId('65baba252776d06f216b1079'), 'name': 'Hannah', 'address': 'Mountain 21'}\n",
      "{'_id': ObjectId('65baba252776d06f216b107a'), 'name': 'Michael', 'address': 'Valley 345'}\n",
      "{'_id': ObjectId('65baba252776d06f216b107b'), 'name': 'Vicky', 'address': 'Yellow Garden 124'}\n",
      "{'_id': ObjectId('65baba252776d06f216b107c'), 'name': 'Nicky', 'address': 'Yellow Garden 23'}\n",
      "{'_id': ObjectId('65baba252776d06f216b107d'), 'name': 'Nancy', 'address': 'Younge Ave. 123'}\n",
      "{'_id': ObjectId('65baba252776d06f216b107e'), 'name': 'Viola', 'address': 'Highway 37'}\n",
      "{'_id': ObjectId('65baba692776d06f216b107f'), 'name': 'John', 'address': 'Highway 37'}\n",
      "{'_id': ObjectId('65baba692776d06f216b1080'), 'name': 'Peter', 'address': 'Lowstreet 27'}\n",
      "{'_id': ObjectId('65baba692776d06f216b1081'), 'name': 'Amy', 'address': 'Close st 652'}\n",
      "{'_id': ObjectId('65baba692776d06f216b1082'), 'name': 'Hannah', 'address': 'Mountain 21'}\n",
      "{'_id': ObjectId('65baba692776d06f216b1083'), 'name': 'Michael', 'address': 'Valley 345'}\n",
      "{'_id': ObjectId('65baba692776d06f216b1084'), 'name': 'Vicky', 'address': 'Yellow Garden 124'}\n",
      "{'_id': ObjectId('65baba692776d06f216b1085'), 'name': 'Nicky', 'address': 'Yellow Garden 23'}\n",
      "{'_id': ObjectId('65baba692776d06f216b1086'), 'name': 'Nancy', 'address': 'Younge Ave. 123'}\n",
      "{'_id': ObjectId('65baba692776d06f216b1087'), 'name': 'Viola', 'address': 'Highway 37'}\n",
      "{'_id': ObjectId('65babb1f2776d06f216b1088'), 'name': 'John', 'address': 'Highway 37'}\n",
      "{'_id': ObjectId('65babb1f2776d06f216b1089'), 'name': 'Peter', 'address': 'Lowstreet 27'}\n",
      "{'_id': ObjectId('65babb1f2776d06f216b108a'), 'name': 'Amy', 'address': 'Close st 652'}\n",
      "{'_id': ObjectId('65babb1f2776d06f216b108b'), 'name': 'Hannah', 'address': 'Mountain 21'}\n",
      "{'_id': ObjectId('65babb1f2776d06f216b108c'), 'name': 'Michael', 'address': 'Valley 345'}\n",
      "{'_id': ObjectId('65babb1f2776d06f216b108d'), 'name': 'Vicky', 'address': 'Yellow Garden 124'}\n",
      "{'_id': ObjectId('65babb1f2776d06f216b108e'), 'name': 'Nicky', 'address': 'Yellow Garden 23'}\n",
      "{'_id': ObjectId('65babb1f2776d06f216b108f'), 'name': 'Nancy', 'address': 'Younge Ave. 123'}\n",
      "{'_id': ObjectId('65babb1f2776d06f216b1090'), 'name': 'Viola', 'address': 'Highway 37'}\n",
      "{'_id': ObjectId('65babf402776d06f216b1091'), 'name': 'John', 'address': 'Highway 37'}\n",
      "{'_id': ObjectId('65babf402776d06f216b1092'), 'name': 'Peter', 'address': 'Lowstreet 27'}\n",
      "{'_id': ObjectId('65babf402776d06f216b1093'), 'name': 'Amy', 'address': 'Close st 652'}\n",
      "{'_id': ObjectId('65babf402776d06f216b1094'), 'name': 'Hannah', 'address': 'Mountain 21'}\n",
      "{'_id': ObjectId('65babf402776d06f216b1095'), 'name': 'Michael', 'address': 'Valley 345'}\n",
      "{'_id': ObjectId('65babf402776d06f216b1096'), 'name': 'Vicky', 'address': 'Yellow Garden 124'}\n",
      "{'_id': ObjectId('65babf402776d06f216b1097'), 'name': 'Nicky', 'address': 'Yellow Garden 23'}\n",
      "{'_id': ObjectId('65babf402776d06f216b1098'), 'name': 'Nancy', 'address': 'Younge Ave. 123'}\n",
      "{'_id': ObjectId('65babf402776d06f216b1099'), 'name': 'Viola', 'address': 'Highway 37'}\n",
      "{'_id': ObjectId('65babf532776d06f216b109a'), 'name': 'John', 'address': 'Highway 37'}\n",
      "{'_id': ObjectId('65babf532776d06f216b109b'), 'name': 'Peter', 'address': 'Lowstreet 27'}\n",
      "{'_id': ObjectId('65babf532776d06f216b109c'), 'name': 'Amy', 'address': 'Close st 652'}\n",
      "{'_id': ObjectId('65babf532776d06f216b109d'), 'name': 'Hannah', 'address': 'Mountain 21'}\n",
      "{'_id': ObjectId('65babf532776d06f216b109e'), 'name': 'Michael', 'address': 'Valley 345'}\n",
      "{'_id': ObjectId('65babf532776d06f216b109f'), 'name': 'Vicky', 'address': 'Yellow Garden 124'}\n",
      "{'_id': ObjectId('65babf532776d06f216b10a0'), 'name': 'Nicky', 'address': 'Yellow Garden 23'}\n",
      "{'_id': ObjectId('65babf532776d06f216b10a1'), 'name': 'Nancy', 'address': 'Younge Ave. 123'}\n",
      "{'_id': ObjectId('65babf532776d06f216b10a2'), 'name': 'Viola', 'address': 'Highway 37'}\n"
     ]
    }
   ],
   "source": [
    "# copied the collection employee\n",
    "\n",
    "db = client['test']\n",
    "employee_collection = db['employee']\n",
    "\n",
    "# Create a new collection and copy the data excluding the _id field\n",
    "new_collection_name = 'employee_copy'\n",
    "db[new_collection_name].insert_many(employee_collection.find({}, {'_id': 0}))\n",
    "\n",
    "# Display documents in the new collection\n",
    "for document in db.employee_copy.find():\n",
    "    print(document)"
   ]
  },
  {
   "cell_type": "code",
   "execution_count": 98,
   "id": "0dd365a5",
   "metadata": {},
   "outputs": [
    {
     "ename": "OperationFailure",
     "evalue": "target namespace exists, full error: {'ok': 0.0, 'errmsg': 'target namespace exists', 'code': 48, 'codeName': 'NamespaceExists'}",
     "output_type": "error",
     "traceback": [
      "\u001b[1;31m---------------------------------------------------------------------------\u001b[0m",
      "\u001b[1;31mOperationFailure\u001b[0m                          Traceback (most recent call last)",
      "Cell \u001b[1;32mIn[98], line 9\u001b[0m\n\u001b[0;32m      6\u001b[0m new_collection_name \u001b[38;5;241m=\u001b[39m \u001b[38;5;124m'\u001b[39m\u001b[38;5;124mBibek\u001b[39m\u001b[38;5;124m'\u001b[39m\n\u001b[0;32m      8\u001b[0m \u001b[38;5;66;03m# Rename the collection\u001b[39;00m\n\u001b[1;32m----> 9\u001b[0m \u001b[43mdb\u001b[49m\u001b[43m[\u001b[49m\u001b[43mold_collection_name\u001b[49m\u001b[43m]\u001b[49m\u001b[38;5;241;43m.\u001b[39;49m\u001b[43mrename\u001b[49m\u001b[43m(\u001b[49m\u001b[43mnew_collection_name\u001b[49m\u001b[43m)\u001b[49m\n\u001b[0;32m     11\u001b[0m \u001b[38;5;66;03m# Display documents in the renamed collection\u001b[39;00m\n\u001b[0;32m     12\u001b[0m \u001b[38;5;28;01mfor\u001b[39;00m document \u001b[38;5;129;01min\u001b[39;00m db[new_collection_name]\u001b[38;5;241m.\u001b[39mfind():\n",
      "File \u001b[1;32m~\\anaconda3\\lib\\site-packages\\pymongo\\_csot.py:107\u001b[0m, in \u001b[0;36mapply.<locals>.csot_wrapper\u001b[1;34m(self, *args, **kwargs)\u001b[0m\n\u001b[0;32m    105\u001b[0m         \u001b[38;5;28;01mwith\u001b[39;00m _TimeoutContext(timeout):\n\u001b[0;32m    106\u001b[0m             \u001b[38;5;28;01mreturn\u001b[39;00m func(\u001b[38;5;28mself\u001b[39m, \u001b[38;5;241m*\u001b[39margs, \u001b[38;5;241m*\u001b[39m\u001b[38;5;241m*\u001b[39mkwargs)\n\u001b[1;32m--> 107\u001b[0m \u001b[38;5;28;01mreturn\u001b[39;00m func(\u001b[38;5;28mself\u001b[39m, \u001b[38;5;241m*\u001b[39margs, \u001b[38;5;241m*\u001b[39m\u001b[38;5;241m*\u001b[39mkwargs)\n",
      "File \u001b[1;32m~\\anaconda3\\lib\\site-packages\\pymongo\\collection.py:2975\u001b[0m, in \u001b[0;36mCollection.rename\u001b[1;34m(self, new_name, session, comment, **kwargs)\u001b[0m\n\u001b[0;32m   2973\u001b[0m \u001b[38;5;28;01mwith\u001b[39;00m \u001b[38;5;28mself\u001b[39m\u001b[38;5;241m.\u001b[39m_conn_for_writes(session) \u001b[38;5;28;01mas\u001b[39;00m conn:\n\u001b[0;32m   2974\u001b[0m     \u001b[38;5;28;01mwith\u001b[39;00m \u001b[38;5;28mself\u001b[39m\u001b[38;5;241m.\u001b[39m__database\u001b[38;5;241m.\u001b[39mclient\u001b[38;5;241m.\u001b[39m_tmp_session(session) \u001b[38;5;28;01mas\u001b[39;00m s:\n\u001b[1;32m-> 2975\u001b[0m         \u001b[38;5;28;01mreturn\u001b[39;00m \u001b[43mconn\u001b[49m\u001b[38;5;241;43m.\u001b[39;49m\u001b[43mcommand\u001b[49m\u001b[43m(\u001b[49m\n\u001b[0;32m   2976\u001b[0m \u001b[43m            \u001b[49m\u001b[38;5;124;43m\"\u001b[39;49m\u001b[38;5;124;43madmin\u001b[39;49m\u001b[38;5;124;43m\"\u001b[39;49m\u001b[43m,\u001b[49m\n\u001b[0;32m   2977\u001b[0m \u001b[43m            \u001b[49m\u001b[43mcmd\u001b[49m\u001b[43m,\u001b[49m\n\u001b[0;32m   2978\u001b[0m \u001b[43m            \u001b[49m\u001b[43mwrite_concern\u001b[49m\u001b[38;5;241;43m=\u001b[39;49m\u001b[43mwrite_concern\u001b[49m\u001b[43m,\u001b[49m\n\u001b[0;32m   2979\u001b[0m \u001b[43m            \u001b[49m\u001b[43mparse_write_concern_error\u001b[49m\u001b[38;5;241;43m=\u001b[39;49m\u001b[38;5;28;43;01mTrue\u001b[39;49;00m\u001b[43m,\u001b[49m\n\u001b[0;32m   2980\u001b[0m \u001b[43m            \u001b[49m\u001b[43msession\u001b[49m\u001b[38;5;241;43m=\u001b[39;49m\u001b[43ms\u001b[49m\u001b[43m,\u001b[49m\n\u001b[0;32m   2981\u001b[0m \u001b[43m            \u001b[49m\u001b[43mclient\u001b[49m\u001b[38;5;241;43m=\u001b[39;49m\u001b[38;5;28;43mself\u001b[39;49m\u001b[38;5;241;43m.\u001b[39;49m\u001b[43m__database\u001b[49m\u001b[38;5;241;43m.\u001b[39;49m\u001b[43mclient\u001b[49m\u001b[43m,\u001b[49m\n\u001b[0;32m   2982\u001b[0m \u001b[43m        \u001b[49m\u001b[43m)\u001b[49m\n",
      "File \u001b[1;32m~\\anaconda3\\lib\\site-packages\\pymongo\\helpers.py:322\u001b[0m, in \u001b[0;36m_handle_reauth.<locals>.inner\u001b[1;34m(*args, **kwargs)\u001b[0m\n\u001b[0;32m    319\u001b[0m \u001b[38;5;28;01mfrom\u001b[39;00m \u001b[38;5;21;01mpymongo\u001b[39;00m\u001b[38;5;21;01m.\u001b[39;00m\u001b[38;5;21;01mpool\u001b[39;00m \u001b[38;5;28;01mimport\u001b[39;00m Connection\n\u001b[0;32m    321\u001b[0m \u001b[38;5;28;01mtry\u001b[39;00m:\n\u001b[1;32m--> 322\u001b[0m     \u001b[38;5;28;01mreturn\u001b[39;00m func(\u001b[38;5;241m*\u001b[39margs, \u001b[38;5;241m*\u001b[39m\u001b[38;5;241m*\u001b[39mkwargs)\n\u001b[0;32m    323\u001b[0m \u001b[38;5;28;01mexcept\u001b[39;00m OperationFailure \u001b[38;5;28;01mas\u001b[39;00m exc:\n\u001b[0;32m    324\u001b[0m     \u001b[38;5;28;01mif\u001b[39;00m no_reauth:\n",
      "File \u001b[1;32m~\\anaconda3\\lib\\site-packages\\pymongo\\pool.py:968\u001b[0m, in \u001b[0;36mConnection.command\u001b[1;34m(self, dbname, spec, read_preference, codec_options, check, allowable_errors, read_concern, write_concern, parse_write_concern_error, collation, session, client, retryable_write, publish_events, user_fields, exhaust_allowed)\u001b[0m\n\u001b[0;32m    966\u001b[0m     \u001b[38;5;28mself\u001b[39m\u001b[38;5;241m.\u001b[39m_raise_if_not_writable(unacknowledged)\n\u001b[0;32m    967\u001b[0m \u001b[38;5;28;01mtry\u001b[39;00m:\n\u001b[1;32m--> 968\u001b[0m     \u001b[38;5;28;01mreturn\u001b[39;00m \u001b[43mcommand\u001b[49m\u001b[43m(\u001b[49m\n\u001b[0;32m    969\u001b[0m \u001b[43m        \u001b[49m\u001b[38;5;28;43mself\u001b[39;49m\u001b[43m,\u001b[49m\n\u001b[0;32m    970\u001b[0m \u001b[43m        \u001b[49m\u001b[43mdbname\u001b[49m\u001b[43m,\u001b[49m\n\u001b[0;32m    971\u001b[0m \u001b[43m        \u001b[49m\u001b[43mspec\u001b[49m\u001b[43m,\u001b[49m\n\u001b[0;32m    972\u001b[0m \u001b[43m        \u001b[49m\u001b[38;5;28;43mself\u001b[39;49m\u001b[38;5;241;43m.\u001b[39;49m\u001b[43mis_mongos\u001b[49m\u001b[43m,\u001b[49m\n\u001b[0;32m    973\u001b[0m \u001b[43m        \u001b[49m\u001b[43mread_preference\u001b[49m\u001b[43m,\u001b[49m\n\u001b[0;32m    974\u001b[0m \u001b[43m        \u001b[49m\u001b[43mcodec_options\u001b[49m\u001b[43m,\u001b[49m\n\u001b[0;32m    975\u001b[0m \u001b[43m        \u001b[49m\u001b[43msession\u001b[49m\u001b[43m,\u001b[49m\n\u001b[0;32m    976\u001b[0m \u001b[43m        \u001b[49m\u001b[43mclient\u001b[49m\u001b[43m,\u001b[49m\n\u001b[0;32m    977\u001b[0m \u001b[43m        \u001b[49m\u001b[43mcheck\u001b[49m\u001b[43m,\u001b[49m\n\u001b[0;32m    978\u001b[0m \u001b[43m        \u001b[49m\u001b[43mallowable_errors\u001b[49m\u001b[43m,\u001b[49m\n\u001b[0;32m    979\u001b[0m \u001b[43m        \u001b[49m\u001b[38;5;28;43mself\u001b[39;49m\u001b[38;5;241;43m.\u001b[39;49m\u001b[43maddress\u001b[49m\u001b[43m,\u001b[49m\n\u001b[0;32m    980\u001b[0m \u001b[43m        \u001b[49m\u001b[43mlisteners\u001b[49m\u001b[43m,\u001b[49m\n\u001b[0;32m    981\u001b[0m \u001b[43m        \u001b[49m\u001b[38;5;28;43mself\u001b[39;49m\u001b[38;5;241;43m.\u001b[39;49m\u001b[43mmax_bson_size\u001b[49m\u001b[43m,\u001b[49m\n\u001b[0;32m    982\u001b[0m \u001b[43m        \u001b[49m\u001b[43mread_concern\u001b[49m\u001b[43m,\u001b[49m\n\u001b[0;32m    983\u001b[0m \u001b[43m        \u001b[49m\u001b[43mparse_write_concern_error\u001b[49m\u001b[38;5;241;43m=\u001b[39;49m\u001b[43mparse_write_concern_error\u001b[49m\u001b[43m,\u001b[49m\n\u001b[0;32m    984\u001b[0m \u001b[43m        \u001b[49m\u001b[43mcollation\u001b[49m\u001b[38;5;241;43m=\u001b[39;49m\u001b[43mcollation\u001b[49m\u001b[43m,\u001b[49m\n\u001b[0;32m    985\u001b[0m \u001b[43m        \u001b[49m\u001b[43mcompression_ctx\u001b[49m\u001b[38;5;241;43m=\u001b[39;49m\u001b[38;5;28;43mself\u001b[39;49m\u001b[38;5;241;43m.\u001b[39;49m\u001b[43mcompression_context\u001b[49m\u001b[43m,\u001b[49m\n\u001b[0;32m    986\u001b[0m \u001b[43m        \u001b[49m\u001b[43muse_op_msg\u001b[49m\u001b[38;5;241;43m=\u001b[39;49m\u001b[38;5;28;43mself\u001b[39;49m\u001b[38;5;241;43m.\u001b[39;49m\u001b[43mop_msg_enabled\u001b[49m\u001b[43m,\u001b[49m\n\u001b[0;32m    987\u001b[0m \u001b[43m        \u001b[49m\u001b[43munacknowledged\u001b[49m\u001b[38;5;241;43m=\u001b[39;49m\u001b[43munacknowledged\u001b[49m\u001b[43m,\u001b[49m\n\u001b[0;32m    988\u001b[0m \u001b[43m        \u001b[49m\u001b[43muser_fields\u001b[49m\u001b[38;5;241;43m=\u001b[39;49m\u001b[43muser_fields\u001b[49m\u001b[43m,\u001b[49m\n\u001b[0;32m    989\u001b[0m \u001b[43m        \u001b[49m\u001b[43mexhaust_allowed\u001b[49m\u001b[38;5;241;43m=\u001b[39;49m\u001b[43mexhaust_allowed\u001b[49m\u001b[43m,\u001b[49m\n\u001b[0;32m    990\u001b[0m \u001b[43m        \u001b[49m\u001b[43mwrite_concern\u001b[49m\u001b[38;5;241;43m=\u001b[39;49m\u001b[43mwrite_concern\u001b[49m\u001b[43m,\u001b[49m\n\u001b[0;32m    991\u001b[0m \u001b[43m    \u001b[49m\u001b[43m)\u001b[49m\n\u001b[0;32m    992\u001b[0m \u001b[38;5;28;01mexcept\u001b[39;00m (OperationFailure, NotPrimaryError):\n\u001b[0;32m    993\u001b[0m     \u001b[38;5;28;01mraise\u001b[39;00m\n",
      "File \u001b[1;32m~\\anaconda3\\lib\\site-packages\\pymongo\\network.py:192\u001b[0m, in \u001b[0;36mcommand\u001b[1;34m(conn, dbname, spec, is_mongos, read_preference, codec_options, session, client, check, allowable_errors, address, listeners, max_bson_size, read_concern, parse_write_concern_error, collation, compression_ctx, use_op_msg, unacknowledged, user_fields, exhaust_allowed, write_concern)\u001b[0m\n\u001b[0;32m    190\u001b[0m             client\u001b[38;5;241m.\u001b[39m_process_response(response_doc, session)\n\u001b[0;32m    191\u001b[0m         \u001b[38;5;28;01mif\u001b[39;00m check:\n\u001b[1;32m--> 192\u001b[0m             \u001b[43mhelpers\u001b[49m\u001b[38;5;241;43m.\u001b[39;49m\u001b[43m_check_command_response\u001b[49m\u001b[43m(\u001b[49m\n\u001b[0;32m    193\u001b[0m \u001b[43m                \u001b[49m\u001b[43mresponse_doc\u001b[49m\u001b[43m,\u001b[49m\n\u001b[0;32m    194\u001b[0m \u001b[43m                \u001b[49m\u001b[43mconn\u001b[49m\u001b[38;5;241;43m.\u001b[39;49m\u001b[43mmax_wire_version\u001b[49m\u001b[43m,\u001b[49m\n\u001b[0;32m    195\u001b[0m \u001b[43m                \u001b[49m\u001b[43mallowable_errors\u001b[49m\u001b[43m,\u001b[49m\n\u001b[0;32m    196\u001b[0m \u001b[43m                \u001b[49m\u001b[43mparse_write_concern_error\u001b[49m\u001b[38;5;241;43m=\u001b[39;49m\u001b[43mparse_write_concern_error\u001b[49m\u001b[43m,\u001b[49m\n\u001b[0;32m    197\u001b[0m \u001b[43m            \u001b[49m\u001b[43m)\u001b[49m\n\u001b[0;32m    198\u001b[0m \u001b[38;5;28;01mexcept\u001b[39;00m \u001b[38;5;167;01mException\u001b[39;00m \u001b[38;5;28;01mas\u001b[39;00m exc:\n\u001b[0;32m    199\u001b[0m     \u001b[38;5;28;01mif\u001b[39;00m publish:\n",
      "File \u001b[1;32m~\\anaconda3\\lib\\site-packages\\pymongo\\helpers.py:230\u001b[0m, in \u001b[0;36m_check_command_response\u001b[1;34m(response, max_wire_version, allowable_errors, parse_write_concern_error)\u001b[0m\n\u001b[0;32m    227\u001b[0m \u001b[38;5;28;01melif\u001b[39;00m code \u001b[38;5;241m==\u001b[39m \u001b[38;5;241m43\u001b[39m:\n\u001b[0;32m    228\u001b[0m     \u001b[38;5;28;01mraise\u001b[39;00m CursorNotFound(errmsg, code, response, max_wire_version)\n\u001b[1;32m--> 230\u001b[0m \u001b[38;5;28;01mraise\u001b[39;00m OperationFailure(errmsg, code, response, max_wire_version)\n",
      "\u001b[1;31mOperationFailure\u001b[0m: target namespace exists, full error: {'ok': 0.0, 'errmsg': 'target namespace exists', 'code': 48, 'codeName': 'NamespaceExists'}"
     ]
    }
   ],
   "source": [
    "\n",
    "# Select the database\n",
    "db = client['test']\n",
    "\n",
    "# Specify the old and new collection names\n",
    "old_collection_name = 'employee_copy'\n",
    "new_collection_name = 'Bibek'\n",
    "\n",
    "# Rename the collection\n",
    "db[old_collection_name].rename(new_collection_name)\n",
    "\n",
    "# Display documents in the renamed collection\n",
    "for document in db[new_collection_name].find():\n",
    "    print(document)\n"
   ]
  },
  {
   "cell_type": "code",
   "execution_count": 102,
   "id": "d072d4b0",
   "metadata": {},
   "outputs": [
    {
     "name": "stdout",
     "output_type": "stream",
     "text": [
      "{'_id': 1, 'name': 'John', 'home_address': 'Highway 37'}\n",
      "{'_id': 2, 'name': 'Peter', 'home_address': 'Lowstreet 27'}\n",
      "{'_id': 3, 'name': 'Amy', 'home_address': 'Close st 652'}\n",
      "{'_id': 4, 'name': 'Hannah', 'home_address': 'Mountain 21'}\n",
      "{'_id': 5, 'name': 'Michael', 'home_address': 'Valley 345'}\n",
      "{'_id': 6, 'name': 'Vicky', 'home_address': 'Yellow Garden 124'}\n",
      "{'_id': 7, 'name': 'Nicky', 'home_address': 'Yellow Garden 23'}\n",
      "{'_id': 8, 'name': 'Nancy', 'home_address': 'Younge Ave. 123'}\n",
      "{'_id': 9, 'name': 'Viola', 'home_address': 'Highway 37'}\n",
      "{'_id': ObjectId('65bab8f52776d06f216b1064'), 'name': 'John', 'home_address': 'Highway 37'}\n",
      "{'_id': ObjectId('65bab8f52776d06f216b1065'), 'name': 'Peter', 'home_address': 'Lowstreet 27'}\n",
      "{'_id': ObjectId('65bab8f52776d06f216b1066'), 'name': 'Amy', 'home_address': 'Close st 652'}\n",
      "{'_id': ObjectId('65bab8f52776d06f216b1067'), 'name': 'Hannah', 'home_address': 'Mountain 21'}\n",
      "{'_id': ObjectId('65bab8f52776d06f216b1068'), 'name': 'Michael', 'home_address': 'Valley 345'}\n",
      "{'_id': ObjectId('65bab8f52776d06f216b1069'), 'name': 'Vicky', 'home_address': 'Yellow Garden 124'}\n",
      "{'_id': ObjectId('65bab8f52776d06f216b106a'), 'name': 'Nicky', 'home_address': 'Yellow Garden 23'}\n",
      "{'_id': ObjectId('65bab8f52776d06f216b106b'), 'name': 'Nancy', 'home_address': 'Younge Ave. 123'}\n",
      "{'_id': ObjectId('65bab8f52776d06f216b106c'), 'name': 'Viola', 'home_address': 'Highway 37'}\n"
     ]
    }
   ],
   "source": [
    "for x in db.Bibek.find():\n",
    "    print(x)"
   ]
  },
  {
   "cell_type": "code",
   "execution_count": 101,
   "id": "f52af950",
   "metadata": {},
   "outputs": [
    {
     "data": {
      "text/plain": [
       "UpdateResult({'n': 18, 'nModified': 18, 'ok': 1.0, 'updatedExisting': True}, acknowledged=True)"
      ]
     },
     "execution_count": 101,
     "metadata": {},
     "output_type": "execute_result"
    }
   ],
   "source": [
    "collection_name = 'Bibek'\n",
    "\n",
    "# Rename the 'address' field to 'home_address' in all documents\n",
    "db[collection_name].update_many({}, {'$rename': {'address': 'home_address'}})\n"
   ]
  },
  {
   "cell_type": "code",
   "execution_count": 103,
   "id": "133e2eaf",
   "metadata": {},
   "outputs": [
    {
     "data": {
      "text/plain": [
       "UpdateResult({'n': 9, 'nModified': 9, 'ok': 1.0, 'updatedExisting': True}, acknowledged=True)"
      ]
     },
     "execution_count": 103,
     "metadata": {},
     "output_type": "execute_result"
    }
   ],
   "source": [
    "collection_name = 'employee'\n",
    "\n",
    "# Delete the 'address' field from all documents\n",
    "db[collection_name].update_many({}, {'$unset': {'address': 1}})\n"
   ]
  },
  {
   "cell_type": "code",
   "execution_count": 106,
   "id": "b804d893",
   "metadata": {},
   "outputs": [
    {
     "name": "stdout",
     "output_type": "stream",
     "text": [
      "{'_id': 1, 'name': 'John'}\n",
      "{'_id': 2, 'name': 'Peter'}\n",
      "{'_id': 3, 'name': 'Amy'}\n",
      "{'_id': 4, 'name': 'Hannah'}\n",
      "{'_id': 5, 'name': 'Michael'}\n",
      "{'_id': 6, 'name': 'Vicky'}\n",
      "{'_id': 7, 'name': 'Nicky'}\n",
      "{'_id': 8, 'name': 'Nancy'}\n",
      "{'_id': 9, 'name': 'Viola'}\n"
     ]
    }
   ],
   "source": [
    "for x in employee.find():\n",
    "    print(x)"
   ]
  },
  {
   "cell_type": "code",
   "execution_count": null,
   "id": "0b13187e",
   "metadata": {},
   "outputs": [],
   "source": [
    "#***************************************/////////////"
   ]
  },
  {
   "cell_type": "code",
   "execution_count": 22,
   "id": "6314496a",
   "metadata": {},
   "outputs": [
    {
     "name": "stdout",
     "output_type": "stream",
     "text": [
      "{}\n",
      "{'name': 'John', 'address': 'Highway 37'}\n",
      "{'name': 'Peter', 'address': 'Lowstreet 27'}\n",
      "{'name': 'Amy', 'address': 'Close st 652'}\n",
      "{'name': 'Hannah', 'address': 'Mountain 21'}\n",
      "{'name': 'Michael', 'address': 'Valley 345'}\n",
      "{'name': 'Vicky', 'address': 'Yellow Garden 124'}\n",
      "{'name': 'Nicky', 'address': 'Yellow Garden 23'}\n",
      "{'name': 'Nancy', 'address': 'Younge Ave. 123'}\n",
      "{'name': 'Viola', 'address': 'Highway 37'}\n"
     ]
    }
   ],
   "source": [
    "for x in employee.find({},{'_id':0,\"name\":1,'address':1}):  # 1 means include and 0 means do not include\n",
    "    print(x)\n",
    "    \n",
    "    "
   ]
  },
  {
   "cell_type": "code",
   "execution_count": 67,
   "id": "9d560f1b",
   "metadata": {},
   "outputs": [
    {
     "name": "stdout",
     "output_type": "stream",
     "text": [
      "{'_id': 1, 'name': 'John', 'address': 'Highway 37'}\n",
      "{'_id': 2, 'name': 'Peter', 'address': 'Lowstreet 27'}\n",
      "{'_id': 3, 'name': 'Amy', 'address': 'Close st 652'}\n",
      "{'_id': 4, 'name': 'Hannah', 'address': 'Mountain 21'}\n",
      "{'_id': 5, 'name': 'Michael', 'address': 'Valley 345'}\n",
      "{'_id': 6, 'name': 'Vicky', 'address': 'Yellow Garden 124'}\n",
      "{'_id': 7, 'name': 'Nicky', 'address': 'Yellow Garden 23'}\n",
      "{'_id': 8, 'name': 'Nancy', 'address': 'Younge Ave. 123'}\n",
      "{'_id': 9, 'name': 'Viola', 'address': 'Highway 37'}\n",
      "{'_id': ObjectId('65bab8f52776d06f216b1064'), 'name': 'John', 'address': 'Highway 37'}\n",
      "{'_id': ObjectId('65bab8f52776d06f216b1065'), 'name': 'Peter', 'address': 'Lowstreet 27'}\n",
      "{'_id': ObjectId('65bab8f52776d06f216b1066'), 'name': 'Amy', 'address': 'Close st 652'}\n",
      "{'_id': ObjectId('65bab8f52776d06f216b1067'), 'name': 'Hannah', 'address': 'Mountain 21'}\n",
      "{'_id': ObjectId('65bab8f52776d06f216b1068'), 'name': 'Michael', 'address': 'Valley 345'}\n",
      "{'_id': ObjectId('65bab8f52776d06f216b1069'), 'name': 'Vicky', 'address': 'Yellow Garden 124'}\n",
      "{'_id': ObjectId('65bab8f52776d06f216b106a'), 'name': 'Nicky', 'address': 'Yellow Garden 23'}\n",
      "{'_id': ObjectId('65bab8f52776d06f216b106b'), 'name': 'Nancy', 'address': 'Younge Ave. 123'}\n",
      "{'_id': ObjectId('65bab8f52776d06f216b106c'), 'name': 'Viola', 'address': 'Highway 37'}\n"
     ]
    }
   ],
   "source": [
    "#Rename of the copied collection\n",
    "old_collection_name = 'employee_copy'\n",
    "new_collection_name = 'Bibek'\n",
    "\n",
    "# Rename the collection\n",
    "db[old_collection_name].rename(new_collection_name)\n",
    "\n",
    "# Display documents in the renamed collection\n",
    "for document in db[new_collection_name].find():\n",
    "    print(document)"
   ]
  },
  {
   "cell_type": "markdown",
   "id": "75e7e754",
   "metadata": {},
   "source": [
    "## Python advanced query"
   ]
  },
  {
   "cell_type": "code",
   "execution_count": 23,
   "id": "64afc2e2",
   "metadata": {},
   "outputs": [
    {
     "name": "stdout",
     "output_type": "stream",
     "text": [
      "{'_id': 1, 'name': 'John', 'address': 'Highway 37'}\n",
      "{'_id': 9, 'name': 'Viola', 'address': 'Highway 37'}\n"
     ]
    }
   ],
   "source": [
    "myquery ={'address': 'Highway 37'} # use limit as well for multiple output\n",
    "mydoc = employee.find(myquery)\n",
    "\n",
    "for x in mydoc:\n",
    "    print(x)"
   ]
  },
  {
   "cell_type": "code",
   "execution_count": 24,
   "id": "4eda8e11",
   "metadata": {},
   "outputs": [],
   "source": [
    "myquery ={'address': 'Sideway Ave'}\n",
    "mydoc = employee.find(myquery)\n",
    "for i in mydoc:\n",
    "    print(x)\n"
   ]
  },
  {
   "cell_type": "code",
   "execution_count": 25,
   "id": "3bd78cf0",
   "metadata": {},
   "outputs": [
    {
     "name": "stdout",
     "output_type": "stream",
     "text": [
      "{'_id': 5, 'name': 'Michael', 'address': 'Valley 345'}\n"
     ]
    }
   ],
   "source": [
    "# filter with regular expression\n",
    "myquery ={'address':{'$regex':'^V'}}\n",
    "mydoc = employee.find(myquery)\n",
    "\n",
    "for x in mydoc:\n",
    "    print(x)"
   ]
  },
  {
   "cell_type": "code",
   "execution_count": 26,
   "id": "391267bf",
   "metadata": {},
   "outputs": [
    {
     "name": "stdout",
     "output_type": "stream",
     "text": [
      "{'_id': 3, 'name': 'Amy', 'address': 'Close st 652'}\n",
      "{'_id': 5, 'name': 'Michael', 'address': 'Valley 345'}\n",
      "{'_id': 6, 'name': 'Vicky', 'address': 'Yellow Garden 124'}\n"
     ]
    }
   ],
   "source": [
    "# filter with regular expression\n",
    "myquery ={'address':{'$regex':'l'}}\n",
    "mydoc = employee.find(myquery).limit(3)\n",
    "\n",
    "for x in mydoc:\n",
    "    print(x)"
   ]
  },
  {
   "cell_type": "code",
   "execution_count": 27,
   "id": "bbc420dc",
   "metadata": {},
   "outputs": [
    {
     "name": "stdout",
     "output_type": "stream",
     "text": [
      "{'_id': 6, 'name': 'Vicky', 'address': 'Yellow Garden 124'}\n",
      "{'_id': 7, 'name': 'Nicky', 'address': 'Yellow Garden 23'}\n",
      "{'_id': 8, 'name': 'Nancy', 'address': 'Younge Ave. 123'}\n"
     ]
    }
   ],
   "source": [
    "#using the logical operator or\n",
    "myquery = {\n",
    "    '$or': [{'address': {'$regex':'^Y'}},\n",
    "           {'address': {'$regex':'^S'}},]\n",
    "}\n",
    "mydoc =employee.find(myquery)\n",
    "for x in mydoc:\n",
    "    print(x)"
   ]
  },
  {
   "cell_type": "code",
   "execution_count": 28,
   "id": "aa55c5c3",
   "metadata": {},
   "outputs": [
    {
     "name": "stdout",
     "output_type": "stream",
     "text": [
      "{'_id': 2, 'name': 'Peter', 'address': 'Lowstreet 27'}\n",
      "{'_id': 6, 'name': 'Vicky', 'address': 'Yellow Garden 124'}\n",
      "{'_id': 7, 'name': 'Nicky', 'address': 'Yellow Garden 23'}\n",
      "{'_id': 8, 'name': 'Nancy', 'address': 'Younge Ave. 123'}\n"
     ]
    }
   ],
   "source": [
    "#alternative method\n",
    "myquery ={'address': {'$regex': \"^S|^Y|^L\"}}\n",
    "mydoc = employee.find(myquery)\n",
    "\n",
    "for x in mydoc:\n",
    "    print(x)"
   ]
  },
  {
   "cell_type": "code",
   "execution_count": 30,
   "id": "4b8e65e0",
   "metadata": {},
   "outputs": [
    {
     "name": "stdout",
     "output_type": "stream",
     "text": [
      "{'_id': 6, 'name': 'Vicky', 'address': 'Yellow Garden 124'}\n",
      "{'_id': 8, 'name': 'Nancy', 'address': 'Younge Ave. 123'}\n"
     ]
    }
   ],
   "source": [
    "#using the logical operator and\n",
    "myquery = {\n",
    "    '$and': [{'address': {'$regex':'^Y'}},\n",
    "           {'address': {'$regex':'1'}},]\n",
    "}\n",
    "mydoc =employee.find(myquery)\n",
    "for x in mydoc:\n",
    "    print(x)"
   ]
  },
  {
   "cell_type": "code",
   "execution_count": 31,
   "id": "45050dbc",
   "metadata": {},
   "outputs": [
    {
     "name": "stdout",
     "output_type": "stream",
     "text": [
      "{'_id': 8, 'name': 'Nancy', 'address': 'Younge Ave. 123'}\n"
     ]
    }
   ],
   "source": [
    "myquery = {\n",
    "    '$and': [{'address': {'$regex':'^Y'}},\n",
    "           {'address': {'$regex':'1'}},\n",
    "            {'name': {'$regex': '^N'}}]\n",
    "}\n",
    "mydoc =employee.find(myquery)\n",
    "for x in mydoc:\n",
    "    print(x)"
   ]
  },
  {
   "cell_type": "code",
   "execution_count": 32,
   "id": "271aed8e",
   "metadata": {},
   "outputs": [
    {
     "name": "stdout",
     "output_type": "stream",
     "text": [
      "{'_id': 6, 'name': 'Vicky', 'address': 'Yellow Garden 124'}\n",
      "{'_id': 8, 'name': 'Nancy', 'address': 'Younge Ave. 123'}\n"
     ]
    }
   ],
   "source": [
    "myquery = {\n",
    "    '$and': [{'address': {'$regex':'^Y'}},\n",
    "           {'address': {'$regex':'1'}},\n",
    "            {'name': {'$ne': 'Nicky'}}]\n",
    "}\n",
    "mydoc =employee.find(myquery)\n",
    "for x in mydoc:\n",
    "    print(x)"
   ]
  },
  {
   "cell_type": "code",
   "execution_count": 33,
   "id": "16326268",
   "metadata": {},
   "outputs": [
    {
     "name": "stdout",
     "output_type": "stream",
     "text": [
      "{'_id': ObjectId('65bab0592776d06f216b1063'), 'Name': 'Raj Kumar', 'Address': 'Sears street, NZ', 'Age': '42'}\n",
      "{'_id': 1, 'name': 'John', 'address': 'Highway 37'}\n",
      "{'_id': 2, 'name': 'Peter', 'address': 'Lowstreet 27'}\n",
      "{'_id': 3, 'name': 'Amy', 'address': 'Close st 652'}\n",
      "{'_id': 4, 'name': 'Hannah', 'address': 'Mountain 21'}\n",
      "{'_id': 5, 'name': 'Michael', 'address': 'Valley 345'}\n",
      "{'_id': 6, 'name': 'Vicky', 'address': 'Yellow Garden 124'}\n",
      "{'_id': 8, 'name': 'Nancy', 'address': 'Younge Ave. 123'}\n",
      "{'_id': 9, 'name': 'Viola', 'address': 'Highway 37'}\n"
     ]
    }
   ],
   "source": [
    "myquery ={'name': {'$ne': 'Nicky'}}\n",
    "mydoc = employee.find(myquery)\n",
    "mydoc =employee.find(myquery)\n",
    "\n",
    "for x in mydoc:\n",
    "    print(x)"
   ]
  },
  {
   "cell_type": "code",
   "execution_count": 34,
   "id": "257fe78b",
   "metadata": {},
   "outputs": [
    {
     "name": "stdout",
     "output_type": "stream",
     "text": [
      "{'_id': 5, 'name': 'Michael', 'address': 'Valley 345'}\n",
      "{'_id': 6, 'name': 'Vicky', 'address': 'Yellow Garden 124'}\n",
      "{'_id': 7, 'name': 'Nicky', 'address': 'Yellow Garden 23'}\n",
      "{'_id': 8, 'name': 'Nancy', 'address': 'Younge Ave. 123'}\n"
     ]
    }
   ],
   "source": [
    "myquery = {'address' :{'$gt': 'S'}}\n",
    "\n",
    "mydoc = employee.find(myquery)\n",
    "\n",
    "for x in mydoc:\n",
    "    print(x)"
   ]
  },
  {
   "cell_type": "code",
   "execution_count": 35,
   "id": "fc3db9d0",
   "metadata": {},
   "outputs": [
    {
     "name": "stdout",
     "output_type": "stream",
     "text": [
      "{'_id': ObjectId('65bab0592776d06f216b1063'), 'Name': 'Raj Kumar', 'Address': 'Sears street, NZ', 'Age': '42'}\n",
      "{'_id': 3, 'name': 'Amy', 'address': 'Close st 652'}\n",
      "{'_id': 4, 'name': 'Hannah', 'address': 'Mountain 21'}\n",
      "{'_id': 1, 'name': 'John', 'address': 'Highway 37'}\n",
      "{'_id': 5, 'name': 'Michael', 'address': 'Valley 345'}\n",
      "{'_id': 8, 'name': 'Nancy', 'address': 'Younge Ave. 123'}\n",
      "{'_id': 7, 'name': 'Nicky', 'address': 'Yellow Garden 23'}\n",
      "{'_id': 2, 'name': 'Peter', 'address': 'Lowstreet 27'}\n",
      "{'_id': 6, 'name': 'Vicky', 'address': 'Yellow Garden 124'}\n",
      "{'_id': 9, 'name': 'Viola', 'address': 'Highway 37'}\n"
     ]
    }
   ],
   "source": [
    "mydoc =employee.find().sort('name',1) #1 mean ascending or default is 1 also , -1 gives in descendng\n",
    "for x in mydoc:\n",
    "    print(x)"
   ]
  },
  {
   "cell_type": "code",
   "execution_count": 36,
   "id": "bcd567ec",
   "metadata": {},
   "outputs": [
    {
     "name": "stdout",
     "output_type": "stream",
     "text": [
      "{'_id': ObjectId('65bab0592776d06f216b1063'), 'Name': 'Raj Kumar', 'Address': 'Sears street, NZ', 'Age': '42'}\n",
      "{'_id': 1, 'name': 'John', 'address': 'Highway 37'}\n",
      "{'_id': 2, 'name': 'Peter', 'address': 'Lowstreet 27'}\n",
      "{'_id': 3, 'name': 'Amy', 'address': 'Close st 652'}\n",
      "{'_id': 4, 'name': 'Hannah', 'address': 'Mountain 21'}\n",
      "{'_id': 5, 'name': 'Michael', 'address': 'Valley 345'}\n",
      "{'_id': 6, 'name': 'Vicky', 'address': 'Yellow Garden 124'}\n",
      "{'_id': 7, 'name': 'Nicky', 'address': 'Yellow Garden 23'}\n",
      "{'_id': 8, 'name': 'Nancy', 'address': 'Younge Ave. 123'}\n",
      "{'_id': 9, 'name': 'Viola', 'address': 'Highway 37'}\n"
     ]
    }
   ],
   "source": [
    "for x in employee.find():\n",
    "    print(x)\n",
    "\n",
    "\n",
    "\n"
   ]
  },
  {
   "cell_type": "code",
   "execution_count": 38,
   "id": "1689927a",
   "metadata": {},
   "outputs": [
    {
     "name": "stdout",
     "output_type": "stream",
     "text": [
      "{'_id': 5, 'name': 'Michael', 'address': 'Valley 345'}\n"
     ]
    },
    {
     "data": {
      "text/plain": [
       "UpdateResult({'n': 1, 'nModified': 1, 'ok': 1.0, 'updatedExisting': True}, acknowledged=True)"
      ]
     },
     "execution_count": 38,
     "metadata": {},
     "output_type": "execute_result"
    }
   ],
   "source": [
    "my_query = {'address':'Valley 345'}\n",
    "for x in employee.find(myquery):\n",
    "    print(x)\n",
    "    \n",
    "newvalues= {'$set':{'address':'Canyon 123'}}\n",
    "employee.update_one(my_query,newvalues)\n",
    "\n",
    "\n",
    "\n"
   ]
  },
  {
   "cell_type": "code",
   "execution_count": 39,
   "id": "4cdfc0e3",
   "metadata": {},
   "outputs": [
    {
     "name": "stdout",
     "output_type": "stream",
     "text": [
      "{'_id': ObjectId('65bab0592776d06f216b1063'), 'Name': 'Raj Kumar', 'Address': 'Sears street, NZ', 'Age': '42'}\n",
      "{'_id': 1, 'name': 'John', 'address': 'Highway 37'}\n",
      "{'_id': 2, 'name': 'Peter', 'address': 'Lowstreet 27'}\n",
      "{'_id': 3, 'name': 'Amy', 'address': 'Close st 652'}\n",
      "{'_id': 4, 'name': 'Hannah', 'address': 'Mountain 21'}\n",
      "{'_id': 5, 'name': 'Michael', 'address': 'Canyon 123'}\n",
      "{'_id': 6, 'name': 'Vicky', 'address': 'Yellow Garden 124'}\n",
      "{'_id': 7, 'name': 'Nicky', 'address': 'Yellow Garden 23'}\n",
      "{'_id': 8, 'name': 'Nancy', 'address': 'Younge Ave. 123'}\n",
      "{'_id': 9, 'name': 'Viola', 'address': 'Highway 37'}\n"
     ]
    }
   ],
   "source": [
    "for x in employee.find():\n",
    "    print(x)"
   ]
  },
  {
   "cell_type": "code",
   "execution_count": 40,
   "id": "da98e47a",
   "metadata": {},
   "outputs": [
    {
     "name": "stdout",
     "output_type": "stream",
     "text": [
      "1 document updated\n",
      "{'_id': ObjectId('65bab0592776d06f216b1063'), 'Name': 'Raj Kumar', 'Address': 'Sears street, NZ', 'Age': '42'}\n",
      "{'_id': 1, 'name': 'John', 'address': 'Highway 37'}\n",
      "{'_id': 2, 'name': 'Peter', 'address': 'Lowstreet 27'}\n",
      "{'_id': 3, 'name': 'Amy', 'address': 'Canyon 123'}\n",
      "{'_id': 4, 'name': 'Hannah', 'address': 'Mountain 21'}\n",
      "{'_id': 5, 'name': 'Michael', 'address': 'Canyon 123'}\n",
      "{'_id': 6, 'name': 'Vicky', 'address': 'Yellow Garden 124'}\n",
      "{'_id': 7, 'name': 'Nicky', 'address': 'Yellow Garden 23'}\n",
      "{'_id': 8, 'name': 'Nancy', 'address': 'Younge Ave. 123'}\n",
      "{'_id': 9, 'name': 'Viola', 'address': 'Highway 37'}\n"
     ]
    }
   ],
   "source": [
    "myquery ={ 'address': {'$regex': '^C'}}\n",
    "newvaluew = {'$set':{'name':'Minnie'}}\n",
    "\n",
    "x=employee.update_many(myquery,newvalues)\n",
    "\n",
    "print(x.modified_count,'document updated')\n",
    "\n",
    "for x in employee.find():\n",
    "    print(x)"
   ]
  },
  {
   "cell_type": "markdown",
   "id": "767c9a14",
   "metadata": {},
   "source": [
    "## deleting the records"
   ]
  },
  {
   "cell_type": "code",
   "execution_count": 41,
   "id": "9f724f27",
   "metadata": {},
   "outputs": [
    {
     "data": {
      "text/plain": [
       "DeleteResult({'n': 1, 'ok': 1.0}, acknowledged=True)"
      ]
     },
     "execution_count": 41,
     "metadata": {},
     "output_type": "execute_result"
    }
   ],
   "source": [
    "myquery = {'address':'Mountain 21'}\n",
    "employee.delete_one(myquery)"
   ]
  },
  {
   "cell_type": "code",
   "execution_count": 42,
   "id": "1e6166b1",
   "metadata": {},
   "outputs": [
    {
     "name": "stdout",
     "output_type": "stream",
     "text": [
      "{'_id': ObjectId('65bab0592776d06f216b1063'), 'Name': 'Raj Kumar', 'Address': 'Sears street, NZ', 'Age': '42'}\n",
      "{'_id': 1, 'name': 'John', 'address': 'Highway 37'}\n",
      "{'_id': 2, 'name': 'Peter', 'address': 'Lowstreet 27'}\n",
      "{'_id': 3, 'name': 'Amy', 'address': 'Canyon 123'}\n",
      "{'_id': 5, 'name': 'Michael', 'address': 'Canyon 123'}\n",
      "{'_id': 6, 'name': 'Vicky', 'address': 'Yellow Garden 124'}\n",
      "{'_id': 7, 'name': 'Nicky', 'address': 'Yellow Garden 23'}\n",
      "{'_id': 8, 'name': 'Nancy', 'address': 'Younge Ave. 123'}\n",
      "{'_id': 9, 'name': 'Viola', 'address': 'Highway 37'}\n"
     ]
    }
   ],
   "source": [
    "for x in employee.find():\n",
    "    print(x)"
   ]
  },
  {
   "cell_type": "code",
   "execution_count": 43,
   "id": "e49df6dd",
   "metadata": {},
   "outputs": [
    {
     "name": "stdout",
     "output_type": "stream",
     "text": [
      "2 documents deleted!\n"
     ]
    }
   ],
   "source": [
    "myquery = {'address':{'$regex':'^C'}}\n",
    "x=employee.delete_many(myquery)\n",
    "print(x.deleted_count,'documents deleted!')\n",
    "\n",
    "# Questions\n",
    "\n",
    "# create a duplicate copy of your collection employee\n",
    "# rename that duplicate copy to yhour first name\n",
    "# rename the field address in that duplicated copy of your collection to Home address\n",
    "# than in the original collection delete the field address"
   ]
  },
  {
   "cell_type": "code",
   "execution_count": 44,
   "id": "00e3effd",
   "metadata": {},
   "outputs": [
    {
     "name": "stdout",
     "output_type": "stream",
     "text": [
      "{'_id': ObjectId('65bab0592776d06f216b1063'), 'Name': 'Raj Kumar', 'Address': 'Sears street, NZ', 'Age': '42'}\n",
      "{'_id': 1, 'name': 'John', 'address': 'Highway 37'}\n",
      "{'_id': 2, 'name': 'Peter', 'address': 'Lowstreet 27'}\n",
      "{'_id': 6, 'name': 'Vicky', 'address': 'Yellow Garden 124'}\n",
      "{'_id': 7, 'name': 'Nicky', 'address': 'Yellow Garden 23'}\n",
      "{'_id': 8, 'name': 'Nancy', 'address': 'Younge Ave. 123'}\n",
      "{'_id': 9, 'name': 'Viola', 'address': 'Highway 37'}\n"
     ]
    }
   ],
   "source": [
    "for x in employee.find():\n",
    "    print(x)"
   ]
  },
  {
   "cell_type": "code",
   "execution_count": 45,
   "id": "30f56799",
   "metadata": {},
   "outputs": [],
   "source": [
    "#you can drop the whole collection using: collection_name.drop\n",
    "employee.drop()"
   ]
  },
  {
   "cell_type": "code",
   "execution_count": 46,
   "id": "d1a03392",
   "metadata": {},
   "outputs": [],
   "source": [
    "for x in employee.find():\n",
    "    print(x)"
   ]
  },
  {
   "cell_type": "code",
   "execution_count": null,
   "id": "b1ef0a1c",
   "metadata": {},
   "outputs": [],
   "source": []
  }
 ],
 "metadata": {
  "kernelspec": {
   "display_name": "Python 3 (ipykernel)",
   "language": "python",
   "name": "python3"
  },
  "language_info": {
   "codemirror_mode": {
    "name": "ipython",
    "version": 3
   },
   "file_extension": ".py",
   "mimetype": "text/x-python",
   "name": "python",
   "nbconvert_exporter": "python",
   "pygments_lexer": "ipython3",
   "version": "3.10.9"
  }
 },
 "nbformat": 4,
 "nbformat_minor": 5
}
