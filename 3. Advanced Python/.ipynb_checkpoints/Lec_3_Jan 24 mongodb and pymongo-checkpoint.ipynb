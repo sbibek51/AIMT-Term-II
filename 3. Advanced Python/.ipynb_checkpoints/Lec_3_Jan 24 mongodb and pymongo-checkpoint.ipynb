{
 "cells": [
  {
   "cell_type": "code",
   "execution_count": 165,
   "id": "a5a6e7a7",
   "metadata": {},
   "outputs": [],
   "source": [
    "#Bibek Shiwakoti"
   ]
  },
  {
   "cell_type": "code",
   "execution_count": 47,
   "id": "22d70180",
   "metadata": {},
   "outputs": [
    {
     "name": "stdout",
     "output_type": "stream",
     "text": [
      "Hello world\n"
     ]
    }
   ],
   "source": [
    "print('Hello world')\n"
   ]
  },
  {
   "cell_type": "code",
   "execution_count": 48,
   "id": "fb00d2cc",
   "metadata": {},
   "outputs": [
    {
     "name": "stdout",
     "output_type": "stream",
     "text": [
      "Requirement already satisfied: pymongo in c:\\users\\travelmate\\anaconda3\\lib\\site-packages (4.6.1)\n",
      "Requirement already satisfied: dnspython<3.0.0,>=1.16.0 in c:\\users\\travelmate\\anaconda3\\lib\\site-packages (from pymongo) (2.5.0)\n",
      "Note: you may need to restart the kernel to use updated packages.\n"
     ]
    }
   ],
   "source": [
    "pip install pymongo"
   ]
  },
  {
   "cell_type": "code",
   "execution_count": 50,
   "id": "c4012f0a",
   "metadata": {},
   "outputs": [
    {
     "name": "stdout",
     "output_type": "stream",
     "text": [
      "PyMongo and MongoDB are installed and connected successfully!\n"
     ]
    }
   ],
   "source": [
    "import pymongo\n",
    "print(\"PyMongo and MongoDB are installed and connected successfully!\")\n",
    "\n",
    "from pymongo import MongoClient\n",
    "client= MongoClient()\n",
    "db=client.test\n",
    "\n",
    "\n"
   ]
  },
  {
   "cell_type": "code",
   "execution_count": 51,
   "id": "c1d0d00d",
   "metadata": {},
   "outputs": [],
   "source": [
    "employee =db.employee"
   ]
  },
  {
   "cell_type": "code",
   "execution_count": 52,
   "id": "a588ad4c",
   "metadata": {},
   "outputs": [],
   "source": [
    "employee_details={\n",
    "    'Name': 'Raj Kumar',\n",
    "    'Address': 'Sears street, NZ',\n",
    "    'Age': '42',\n",
    "    \n",
    "    \n",
    "}"
   ]
  },
  {
   "cell_type": "code",
   "execution_count": 53,
   "id": "4dec7e22",
   "metadata": {},
   "outputs": [],
   "source": [
    "result = employee.insert_one(employee_details)"
   ]
  },
  {
   "cell_type": "code",
   "execution_count": 54,
   "id": "17d97a36",
   "metadata": {},
   "outputs": [
    {
     "name": "stdout",
     "output_type": "stream",
     "text": [
      "65b1afe244774b38a9919d51\n"
     ]
    }
   ],
   "source": [
    "print(result.inserted_id)"
   ]
  },
  {
   "cell_type": "code",
   "execution_count": 55,
   "id": "4d725685",
   "metadata": {},
   "outputs": [
    {
     "name": "stdout",
     "output_type": "stream",
     "text": [
      "['admin', 'config', 'local', 'test']\n"
     ]
    }
   ],
   "source": [
    "print(client.list_database_names())\n"
   ]
  },
  {
   "cell_type": "code",
   "execution_count": 56,
   "id": "befc96aa",
   "metadata": {},
   "outputs": [
    {
     "name": "stdout",
     "output_type": "stream",
     "text": [
      "The test exists\n"
     ]
    }
   ],
   "source": [
    "dblist=client.list_database_names()\n",
    "if 'test' in dblist:\n",
    "    print('The {} exists'.format('test'))\n",
    "else: \n",
    "    print('there is no test database')"
   ]
  },
  {
   "cell_type": "code",
   "execution_count": 57,
   "id": "7bf77a3a",
   "metadata": {},
   "outputs": [
    {
     "name": "stdout",
     "output_type": "stream",
     "text": [
      "['employee']\n"
     ]
    }
   ],
   "source": [
    "print(db.list_collection_names())"
   ]
  },
  {
   "cell_type": "code",
   "execution_count": 58,
   "id": "3aceb245",
   "metadata": {},
   "outputs": [
    {
     "name": "stdout",
     "output_type": "stream",
     "text": [
      "the employee collection exists.\n"
     ]
    }
   ],
   "source": [
    "collist = db.list_collection_names()\n",
    "if 'employee' in collist:\n",
    "    print('the employee collection exists.')\n",
    "else:\n",
    "    print('the employee collection doesnot exists')"
   ]
  },
  {
   "cell_type": "code",
   "execution_count": 88,
   "id": "53adcdd2",
   "metadata": {},
   "outputs": [],
   "source": [
    "mylist = [{\"_id\":1,\"name\":\"John\",\"address\":\"Highway 37\"},\n",
    "          {\"_id\":2,\"name\":\"Peter\",\"address\":\"Lowstreet 27\"},\n",
    "          {\"_id\":3,\"name\":\"Amy\",\"address\":\"Close st 652\"},\n",
    "          {\"_id\":4,\"name\":\"Hannah\",\"address\":\"Mountain 21\"},\n",
    "          {\"_id\":5,\"name\":\"Michael\",\"address\":\"Valley 345\"},\n",
    "          {\"_id\":6,\"name\": \"Vicky\", \"address\": \"Yellow Garden 124\"},\n",
    "          {\"_id\":7,\"name\": \"Nicky\", \"address\": \"Yellow Garden 23\"},\n",
    "          {\"_id\":8,\"name\": \"Nancy\", \"address\": \"Younge Ave. 123\"},\n",
    "          {\"_id\":9,\"name\": \"Viola\", \"address\": \"Highway 37\"}]\n"
   ]
  },
  {
   "cell_type": "code",
   "execution_count": 89,
   "id": "229a3e08",
   "metadata": {
    "scrolled": false
   },
   "outputs": [
    {
     "ename": "BulkWriteError",
     "evalue": "batch op errors occurred, full error: {'writeErrors': [{'index': 0, 'code': 11000, 'errmsg': 'E11000 duplicate key error collection: test.employee index: _id_ dup key: { _id: 1 }', 'keyPattern': {'_id': 1}, 'keyValue': {'_id': 1}, 'op': {'_id': 1, 'name': 'John', 'address': 'Highway 37'}}], 'writeConcernErrors': [], 'nInserted': 0, 'nUpserted': 0, 'nMatched': 0, 'nModified': 0, 'nRemoved': 0, 'upserted': []}",
     "output_type": "error",
     "traceback": [
      "\u001b[1;31m---------------------------------------------------------------------------\u001b[0m",
      "\u001b[1;31mBulkWriteError\u001b[0m                            Traceback (most recent call last)",
      "Cell \u001b[1;32mIn[89], line 1\u001b[0m\n\u001b[1;32m----> 1\u001b[0m x\u001b[38;5;241m=\u001b[39m \u001b[43memployee\u001b[49m\u001b[38;5;241;43m.\u001b[39;49m\u001b[43minsert_many\u001b[49m\u001b[43m(\u001b[49m\u001b[43mmylist\u001b[49m\u001b[43m)\u001b[49m\n\u001b[0;32m      2\u001b[0m \u001b[38;5;66;03m#print list of the _id values of the inserted documents \u001b[39;00m\n\u001b[0;32m      3\u001b[0m \u001b[38;5;28mprint\u001b[39m(x\u001b[38;5;241m.\u001b[39minserted_ids)\n",
      "File \u001b[1;32m~\\anaconda3\\lib\\site-packages\\pymongo\\_csot.py:107\u001b[0m, in \u001b[0;36mapply.<locals>.csot_wrapper\u001b[1;34m(self, *args, **kwargs)\u001b[0m\n\u001b[0;32m    105\u001b[0m         \u001b[38;5;28;01mwith\u001b[39;00m _TimeoutContext(timeout):\n\u001b[0;32m    106\u001b[0m             \u001b[38;5;28;01mreturn\u001b[39;00m func(\u001b[38;5;28mself\u001b[39m, \u001b[38;5;241m*\u001b[39margs, \u001b[38;5;241m*\u001b[39m\u001b[38;5;241m*\u001b[39mkwargs)\n\u001b[1;32m--> 107\u001b[0m \u001b[38;5;28;01mreturn\u001b[39;00m func(\u001b[38;5;28mself\u001b[39m, \u001b[38;5;241m*\u001b[39margs, \u001b[38;5;241m*\u001b[39m\u001b[38;5;241m*\u001b[39mkwargs)\n",
      "File \u001b[1;32m~\\anaconda3\\lib\\site-packages\\pymongo\\collection.py:755\u001b[0m, in \u001b[0;36mCollection.insert_many\u001b[1;34m(self, documents, ordered, bypass_document_validation, session, comment)\u001b[0m\n\u001b[0;32m    753\u001b[0m blk \u001b[38;5;241m=\u001b[39m _Bulk(\u001b[38;5;28mself\u001b[39m, ordered, bypass_document_validation, comment\u001b[38;5;241m=\u001b[39mcomment)\n\u001b[0;32m    754\u001b[0m blk\u001b[38;5;241m.\u001b[39mops \u001b[38;5;241m=\u001b[39m \u001b[38;5;28mlist\u001b[39m(gen())\n\u001b[1;32m--> 755\u001b[0m \u001b[43mblk\u001b[49m\u001b[38;5;241;43m.\u001b[39;49m\u001b[43mexecute\u001b[49m\u001b[43m(\u001b[49m\u001b[43mwrite_concern\u001b[49m\u001b[43m,\u001b[49m\u001b[43m \u001b[49m\u001b[43msession\u001b[49m\u001b[38;5;241;43m=\u001b[39;49m\u001b[43msession\u001b[49m\u001b[43m)\u001b[49m\n\u001b[0;32m    756\u001b[0m \u001b[38;5;28;01mreturn\u001b[39;00m InsertManyResult(inserted_ids, write_concern\u001b[38;5;241m.\u001b[39macknowledged)\n",
      "File \u001b[1;32m~\\anaconda3\\lib\\site-packages\\pymongo\\bulk.py:576\u001b[0m, in \u001b[0;36m_Bulk.execute\u001b[1;34m(self, write_concern, session)\u001b[0m\n\u001b[0;32m    574\u001b[0m         \u001b[38;5;28;01mreturn\u001b[39;00m \u001b[38;5;28;01mNone\u001b[39;00m\n\u001b[0;32m    575\u001b[0m \u001b[38;5;28;01melse\u001b[39;00m:\n\u001b[1;32m--> 576\u001b[0m     \u001b[38;5;28;01mreturn\u001b[39;00m \u001b[38;5;28;43mself\u001b[39;49m\u001b[38;5;241;43m.\u001b[39;49m\u001b[43mexecute_command\u001b[49m\u001b[43m(\u001b[49m\u001b[43mgenerator\u001b[49m\u001b[43m,\u001b[49m\u001b[43m \u001b[49m\u001b[43mwrite_concern\u001b[49m\u001b[43m,\u001b[49m\u001b[43m \u001b[49m\u001b[43msession\u001b[49m\u001b[43m)\u001b[49m\n",
      "File \u001b[1;32m~\\anaconda3\\lib\\site-packages\\pymongo\\bulk.py:446\u001b[0m, in \u001b[0;36m_Bulk.execute_command\u001b[1;34m(self, generator, write_concern, session)\u001b[0m\n\u001b[0;32m    443\u001b[0m client\u001b[38;5;241m.\u001b[39m_retryable_write(\u001b[38;5;28mself\u001b[39m\u001b[38;5;241m.\u001b[39mis_retryable, retryable_bulk, session, bulk\u001b[38;5;241m=\u001b[39m\u001b[38;5;28mself\u001b[39m)\n\u001b[0;32m    445\u001b[0m \u001b[38;5;28;01mif\u001b[39;00m full_result[\u001b[38;5;124m\"\u001b[39m\u001b[38;5;124mwriteErrors\u001b[39m\u001b[38;5;124m\"\u001b[39m] \u001b[38;5;129;01mor\u001b[39;00m full_result[\u001b[38;5;124m\"\u001b[39m\u001b[38;5;124mwriteConcernErrors\u001b[39m\u001b[38;5;124m\"\u001b[39m]:\n\u001b[1;32m--> 446\u001b[0m     \u001b[43m_raise_bulk_write_error\u001b[49m\u001b[43m(\u001b[49m\u001b[43mfull_result\u001b[49m\u001b[43m)\u001b[49m\n\u001b[0;32m    447\u001b[0m \u001b[38;5;28;01mreturn\u001b[39;00m full_result\n",
      "File \u001b[1;32m~\\anaconda3\\lib\\site-packages\\pymongo\\bulk.py:157\u001b[0m, in \u001b[0;36m_raise_bulk_write_error\u001b[1;34m(full_result)\u001b[0m\n\u001b[0;32m    155\u001b[0m \u001b[38;5;28;01mif\u001b[39;00m full_result[\u001b[38;5;124m\"\u001b[39m\u001b[38;5;124mwriteErrors\u001b[39m\u001b[38;5;124m\"\u001b[39m]:\n\u001b[0;32m    156\u001b[0m     full_result[\u001b[38;5;124m\"\u001b[39m\u001b[38;5;124mwriteErrors\u001b[39m\u001b[38;5;124m\"\u001b[39m]\u001b[38;5;241m.\u001b[39msort(key\u001b[38;5;241m=\u001b[39m\u001b[38;5;28;01mlambda\u001b[39;00m error: error[\u001b[38;5;124m\"\u001b[39m\u001b[38;5;124mindex\u001b[39m\u001b[38;5;124m\"\u001b[39m])\n\u001b[1;32m--> 157\u001b[0m \u001b[38;5;28;01mraise\u001b[39;00m BulkWriteError(full_result)\n",
      "\u001b[1;31mBulkWriteError\u001b[0m: batch op errors occurred, full error: {'writeErrors': [{'index': 0, 'code': 11000, 'errmsg': 'E11000 duplicate key error collection: test.employee index: _id_ dup key: { _id: 1 }', 'keyPattern': {'_id': 1}, 'keyValue': {'_id': 1}, 'op': {'_id': 1, 'name': 'John', 'address': 'Highway 37'}}], 'writeConcernErrors': [], 'nInserted': 0, 'nUpserted': 0, 'nMatched': 0, 'nModified': 0, 'nRemoved': 0, 'upserted': []}"
     ]
    }
   ],
   "source": [
    "x= employee.insert_many(mylist)\n",
    "#print list of the _id values of the inserted documents \n",
    "print(x.inserted_ids)"
   ]
  },
  {
   "cell_type": "code",
   "execution_count": 90,
   "id": "8d205fa8",
   "metadata": {},
   "outputs": [
    {
     "name": "stdout",
     "output_type": "stream",
     "text": [
      "9\n"
     ]
    }
   ],
   "source": [
    "print(len(mylist))"
   ]
  },
  {
   "cell_type": "code",
   "execution_count": 91,
   "id": "87903480",
   "metadata": {},
   "outputs": [
    {
     "data": {
      "text/plain": [
       "<bound method Collection.count_documents of Collection(Database(MongoClient(host=['localhost:27017'], document_class=dict, tz_aware=False, connect=True), 'test'), 'employee')>"
      ]
     },
     "execution_count": 91,
     "metadata": {},
     "output_type": "execute_result"
    }
   ],
   "source": [
    "employee.count_documents"
   ]
  },
  {
   "cell_type": "code",
   "execution_count": 92,
   "id": "d111043d",
   "metadata": {},
   "outputs": [],
   "source": [
    "x= employee.find_one()"
   ]
  },
  {
   "cell_type": "code",
   "execution_count": 93,
   "id": "86b504a1",
   "metadata": {},
   "outputs": [
    {
     "name": "stdout",
     "output_type": "stream",
     "text": [
      "{'_id': ObjectId('65b1adda44774b38a9919d4f'), 'Name': 'Raj Kumar', 'Address': 'Sears street, NZ', 'Age': '42'}\n"
     ]
    }
   ],
   "source": [
    "print(x)"
   ]
  },
  {
   "cell_type": "code",
   "execution_count": 94,
   "id": "db24023b",
   "metadata": {},
   "outputs": [
    {
     "name": "stdout",
     "output_type": "stream",
     "text": [
      "{'_id': ObjectId('65b1adda44774b38a9919d4f'), 'Name': 'Raj Kumar', 'Address': 'Sears street, NZ', 'Age': '42'}\n",
      "{'_id': 1, 'name': 'John', 'address': 'Highway 37'}\n",
      "{'_id': 2, 'name': 'Peter', 'address': 'Lowstreet 27'}\n",
      "{'_id': 3, 'name': 'Amy', 'address': 'Close st 652'}\n",
      "{'_id': 4, 'name': 'Hannah', 'address': 'Mountain 21'}\n",
      "{'_id': 5, 'name': 'Michael', 'address': 'Valley 345'}\n",
      "{'_id': 6, 'name': 'Vicky', 'address': 'Yellow Garden 124'}\n",
      "{'_id': 7, 'name': 'Nicky', 'address': 'Yellow Garden 23'}\n",
      "{'_id': 8, 'name': 'Nancy', 'address': 'Younge Ave. 123'}\n",
      "{'_id': 9, 'name': 'Viola', 'address': 'Sideway Ave'}\n",
      "{'_id': ObjectId('65b1afe244774b38a9919d51'), 'Name': 'Raj Kumar', 'Address': 'Sears street, NZ', 'Age': '42'}\n"
     ]
    }
   ],
   "source": [
    "# read all records\n",
    "for x in employee.find():\n",
    "    print(x)"
   ]
  },
  {
   "cell_type": "code",
   "execution_count": 95,
   "id": "fb144c7a",
   "metadata": {},
   "outputs": [],
   "source": [
    "myresult = employee.find().limit(5)"
   ]
  },
  {
   "cell_type": "code",
   "execution_count": 96,
   "id": "ea416aeb",
   "metadata": {},
   "outputs": [
    {
     "name": "stdout",
     "output_type": "stream",
     "text": [
      "{'_id': ObjectId('65b1adda44774b38a9919d4f'), 'Name': 'Raj Kumar', 'Address': 'Sears street, NZ', 'Age': '42'}\n",
      "{'_id': 1, 'name': 'John', 'address': 'Highway 37'}\n",
      "{'_id': 2, 'name': 'Peter', 'address': 'Lowstreet 27'}\n",
      "{'_id': 3, 'name': 'Amy', 'address': 'Close st 652'}\n",
      "{'_id': 4, 'name': 'Hannah', 'address': 'Mountain 21'}\n"
     ]
    }
   ],
   "source": [
    "for x in myresult:\n",
    "    print(x)"
   ]
  },
  {
   "cell_type": "code",
   "execution_count": 97,
   "id": "6314496a",
   "metadata": {},
   "outputs": [
    {
     "name": "stdout",
     "output_type": "stream",
     "text": [
      "{}\n",
      "{'name': 'John', 'address': 'Highway 37'}\n",
      "{'name': 'Peter', 'address': 'Lowstreet 27'}\n",
      "{'name': 'Amy', 'address': 'Close st 652'}\n",
      "{'name': 'Hannah', 'address': 'Mountain 21'}\n",
      "{'name': 'Michael', 'address': 'Valley 345'}\n",
      "{'name': 'Vicky', 'address': 'Yellow Garden 124'}\n",
      "{'name': 'Nicky', 'address': 'Yellow Garden 23'}\n",
      "{'name': 'Nancy', 'address': 'Younge Ave. 123'}\n",
      "{'name': 'Viola', 'address': 'Sideway Ave'}\n",
      "{}\n"
     ]
    }
   ],
   "source": [
    "for x in employee.find({},{'_id':0,\"name\":1,'address':1}):  # 1 means include and 0 means do not include\n",
    "    print(x)\n",
    "    \n",
    "    "
   ]
  },
  {
   "cell_type": "code",
   "execution_count": null,
   "id": "9d560f1b",
   "metadata": {},
   "outputs": [],
   "source": []
  },
  {
   "cell_type": "markdown",
   "id": "75e7e754",
   "metadata": {},
   "source": [
    "## Python advanced query"
   ]
  },
  {
   "cell_type": "code",
   "execution_count": 106,
   "id": "64afc2e2",
   "metadata": {},
   "outputs": [
    {
     "name": "stdout",
     "output_type": "stream",
     "text": [
      "{'_id': 1, 'name': 'John', 'address': 'Highway 37'}\n"
     ]
    }
   ],
   "source": [
    "myquery ={'address': 'Highway 37'} # use limit as well for multiple output\n",
    "mydoc = employee.find(myquery)\n",
    "\n",
    "for x in mydoc:\n",
    "    print(x)"
   ]
  },
  {
   "cell_type": "code",
   "execution_count": 114,
   "id": "4eda8e11",
   "metadata": {},
   "outputs": [
    {
     "name": "stdout",
     "output_type": "stream",
     "text": [
      "{'_id': 5, 'name': 'Michael', 'address': 'Valley 345'}\n"
     ]
    }
   ],
   "source": [
    "myquery ={'address': 'Sideway Ave'}\n",
    "mydoc = employee.find(myquery)\n",
    "for i in mydoc:\n",
    "    print(x)\n"
   ]
  },
  {
   "cell_type": "code",
   "execution_count": 119,
   "id": "3bd78cf0",
   "metadata": {},
   "outputs": [
    {
     "name": "stdout",
     "output_type": "stream",
     "text": [
      "{'_id': 5, 'name': 'Michael', 'address': 'Valley 345'}\n"
     ]
    }
   ],
   "source": [
    "# filter with regular expression\n",
    "myquery ={'address':{'$regex':'^V'}}\n",
    "mydoc = employee.find(myquery)\n",
    "\n",
    "for x in mydoc:\n",
    "    print(x)"
   ]
  },
  {
   "cell_type": "code",
   "execution_count": 125,
   "id": "391267bf",
   "metadata": {},
   "outputs": [
    {
     "name": "stdout",
     "output_type": "stream",
     "text": [
      "{'_id': 3, 'name': 'Amy', 'address': 'Close st 652'}\n",
      "{'_id': 5, 'name': 'Michael', 'address': 'Valley 345'}\n",
      "{'_id': 6, 'name': 'Vicky', 'address': 'Yellow Garden 124'}\n"
     ]
    }
   ],
   "source": [
    "# filter with regular expression\n",
    "myquery ={'address':{'$regex':'l'}}\n",
    "mydoc = employee.find(myquery).limit(3)\n",
    "\n",
    "for x in mydoc:\n",
    "    print(x)"
   ]
  },
  {
   "cell_type": "code",
   "execution_count": 127,
   "id": "bbc420dc",
   "metadata": {},
   "outputs": [
    {
     "name": "stdout",
     "output_type": "stream",
     "text": [
      "{'_id': 6, 'name': 'Vicky', 'address': 'Yellow Garden 124'}\n",
      "{'_id': 7, 'name': 'Nicky', 'address': 'Yellow Garden 23'}\n",
      "{'_id': 8, 'name': 'Nancy', 'address': 'Younge Ave. 123'}\n",
      "{'_id': 9, 'name': 'Viola', 'address': 'Sideway Ave'}\n"
     ]
    }
   ],
   "source": [
    "#using the logical operator or\n",
    "myquery = {\n",
    "    '$or': [{'address': {'$regex':'^Y'}},\n",
    "           {'address': {'$regex':'^S'}},]\n",
    "}\n",
    "mydoc =employee.find(myquery)\n",
    "for x in mydoc:\n",
    "    print(x)"
   ]
  },
  {
   "cell_type": "code",
   "execution_count": 129,
   "id": "aa55c5c3",
   "metadata": {},
   "outputs": [
    {
     "name": "stdout",
     "output_type": "stream",
     "text": [
      "{'_id': 2, 'name': 'Peter', 'address': 'Lowstreet 27'}\n",
      "{'_id': 6, 'name': 'Vicky', 'address': 'Yellow Garden 124'}\n",
      "{'_id': 7, 'name': 'Nicky', 'address': 'Yellow Garden 23'}\n",
      "{'_id': 8, 'name': 'Nancy', 'address': 'Younge Ave. 123'}\n",
      "{'_id': 9, 'name': 'Viola', 'address': 'Sideway Ave'}\n"
     ]
    }
   ],
   "source": [
    "#alternative method\n",
    "myquery ={'address': {'$regex': \"^S|^Y|^L\"}}\n",
    "mydoc = employee.find(myquery)\n",
    "\n",
    "for x in mydoc:\n",
    "    print(x)"
   ]
  },
  {
   "cell_type": "code",
   "execution_count": 134,
   "id": "4b8e65e0",
   "metadata": {},
   "outputs": [
    {
     "name": "stdout",
     "output_type": "stream",
     "text": [
      "{'_id': 6, 'name': 'Vicky', 'address': 'Yellow Garden 124'}\n",
      "{'_id': 7, 'name': 'Nicky', 'address': 'Yellow Garden 23'}\n"
     ]
    }
   ],
   "source": [
    "#using the logical operator and\n",
    "myquery = {\n",
    "    '$and': [{'address': {'$regex':'^Y'}},\n",
    "           {'address': {'$regex':'1\n",
    "                        '}},]\n",
    "}\n",
    "mydoc =employee.find(myquery)\n",
    "for x in mydoc:\n",
    "    print(x)"
   ]
  },
  {
   "cell_type": "code",
   "execution_count": 135,
   "id": "45050dbc",
   "metadata": {},
   "outputs": [
    {
     "name": "stdout",
     "output_type": "stream",
     "text": [
      "{'_id': 8, 'name': 'Nancy', 'address': 'Younge Ave. 123'}\n"
     ]
    }
   ],
   "source": [
    "myquery = {\n",
    "    '$and': [{'address': {'$regex':'^Y'}},\n",
    "           {'address': {'$regex':'1'}},\n",
    "            {'name': {'$regex': '^N'}}]\n",
    "}\n",
    "mydoc =employee.find(myquery)\n",
    "for x in mydoc:\n",
    "    print(x)"
   ]
  },
  {
   "cell_type": "code",
   "execution_count": 139,
   "id": "271aed8e",
   "metadata": {},
   "outputs": [
    {
     "name": "stdout",
     "output_type": "stream",
     "text": [
      "{'_id': 6, 'name': 'Vicky', 'address': 'Yellow Garden 124'}\n",
      "{'_id': 8, 'name': 'Nancy', 'address': 'Younge Ave. 123'}\n"
     ]
    }
   ],
   "source": [
    "myquery = {\n",
    "    '$and': [{'address': {'$regex':'^Y'}},\n",
    "           {'address': {'$regex':'1'}},\n",
    "            {'name': {'$ne': 'Nicky'}}]\n",
    "}\n",
    "mydoc =employee.find(myquery)\n",
    "for x in mydoc:\n",
    "    print(x)"
   ]
  },
  {
   "cell_type": "code",
   "execution_count": 143,
   "id": "16326268",
   "metadata": {},
   "outputs": [
    {
     "name": "stdout",
     "output_type": "stream",
     "text": [
      "{'_id': ObjectId('65b1adda44774b38a9919d4f'), 'Name': 'Raj Kumar', 'Address': 'Sears street, NZ', 'Age': '42'}\n",
      "{'_id': 1, 'name': 'John', 'address': 'Highway 37'}\n",
      "{'_id': 2, 'name': 'Peter', 'address': 'Lowstreet 27'}\n",
      "{'_id': 3, 'name': 'Amy', 'address': 'Close st 652'}\n",
      "{'_id': 4, 'name': 'Hannah', 'address': 'Mountain 21'}\n",
      "{'_id': 5, 'name': 'Michael', 'address': 'Valley 345'}\n",
      "{'_id': 6, 'name': 'Vicky', 'address': 'Yellow Garden 124'}\n",
      "{'_id': 8, 'name': 'Nancy', 'address': 'Younge Ave. 123'}\n",
      "{'_id': 9, 'name': 'Viola', 'address': 'Sideway Ave'}\n",
      "{'_id': ObjectId('65b1afe244774b38a9919d51'), 'Name': 'Raj Kumar', 'Address': 'Sears street, NZ', 'Age': '42'}\n"
     ]
    }
   ],
   "source": [
    "myquery ={'name': {'$ne': 'Nicky'}}\n",
    "mydoc = employee.find(myquery)\n",
    "mydoc =employee.find(myquery)\n",
    "\n",
    "for x in mydoc:\n",
    "    print(x)"
   ]
  },
  {
   "cell_type": "code",
   "execution_count": 144,
   "id": "257fe78b",
   "metadata": {},
   "outputs": [
    {
     "name": "stdout",
     "output_type": "stream",
     "text": [
      "{'_id': 5, 'name': 'Michael', 'address': 'Valley 345'}\n",
      "{'_id': 6, 'name': 'Vicky', 'address': 'Yellow Garden 124'}\n",
      "{'_id': 7, 'name': 'Nicky', 'address': 'Yellow Garden 23'}\n",
      "{'_id': 8, 'name': 'Nancy', 'address': 'Younge Ave. 123'}\n",
      "{'_id': 9, 'name': 'Viola', 'address': 'Sideway Ave'}\n"
     ]
    }
   ],
   "source": [
    "myquery = {'address' :{'$gt': 'S'}}\n",
    "\n",
    "mydoc = employee.find(myquery)\n",
    "\n",
    "for x in mydoc:\n",
    "    print(x)"
   ]
  },
  {
   "cell_type": "code",
   "execution_count": 147,
   "id": "fc3db9d0",
   "metadata": {},
   "outputs": [
    {
     "name": "stdout",
     "output_type": "stream",
     "text": [
      "{'_id': ObjectId('65b1adda44774b38a9919d4f'), 'Name': 'Raj Kumar', 'Address': 'Sears street, NZ', 'Age': '42'}\n",
      "{'_id': ObjectId('65b1afe244774b38a9919d51'), 'Name': 'Raj Kumar', 'Address': 'Sears street, NZ', 'Age': '42'}\n",
      "{'_id': 3, 'name': 'Amy', 'address': 'Close st 652'}\n",
      "{'_id': 4, 'name': 'Hannah', 'address': 'Mountain 21'}\n",
      "{'_id': 1, 'name': 'John', 'address': 'Highway 37'}\n",
      "{'_id': 5, 'name': 'Michael', 'address': 'Valley 345'}\n",
      "{'_id': 8, 'name': 'Nancy', 'address': 'Younge Ave. 123'}\n",
      "{'_id': 7, 'name': 'Nicky', 'address': 'Yellow Garden 23'}\n",
      "{'_id': 2, 'name': 'Peter', 'address': 'Lowstreet 27'}\n",
      "{'_id': 6, 'name': 'Vicky', 'address': 'Yellow Garden 124'}\n",
      "{'_id': 9, 'name': 'Viola', 'address': 'Sideway Ave'}\n"
     ]
    }
   ],
   "source": [
    "mydoc =employee.find().sort('name',1) #1 mean ascending or default is 1 also , -1 gives in descendng\n",
    "for x in mydoc:\n",
    "    print(x)"
   ]
  },
  {
   "cell_type": "code",
   "execution_count": 149,
   "id": "bcd567ec",
   "metadata": {},
   "outputs": [
    {
     "name": "stdout",
     "output_type": "stream",
     "text": [
      "{'_id': ObjectId('65b1adda44774b38a9919d4f'), 'Name': 'Raj Kumar', 'Address': 'Sears street, NZ', 'Age': '42'}\n",
      "{'_id': 1, 'name': 'John', 'address': 'Highway 37'}\n",
      "{'_id': 2, 'name': 'Peter', 'address': 'Lowstreet 27'}\n",
      "{'_id': 3, 'name': 'Amy', 'address': 'Close st 652'}\n",
      "{'_id': 4, 'name': 'Hannah', 'address': 'Mountain 21'}\n",
      "{'_id': 5, 'name': 'Michael', 'address': 'Valley 345'}\n",
      "{'_id': 6, 'name': 'Vicky', 'address': 'Yellow Garden 124'}\n",
      "{'_id': 7, 'name': 'Nicky', 'address': 'Yellow Garden 23'}\n",
      "{'_id': 8, 'name': 'Nancy', 'address': 'Younge Ave. 123'}\n",
      "{'_id': 9, 'name': 'Viola', 'address': 'Sideway Ave'}\n",
      "{'_id': ObjectId('65b1afe244774b38a9919d51'), 'Name': 'Raj Kumar', 'Address': 'Sears street, NZ', 'Age': '42'}\n"
     ]
    }
   ],
   "source": [
    "for x in employee.find():\n",
    "    print(x)\n",
    "\n",
    "\n",
    "\n"
   ]
  },
  {
   "cell_type": "code",
   "execution_count": 154,
   "id": "1689927a",
   "metadata": {},
   "outputs": [
    {
     "name": "stdout",
     "output_type": "stream",
     "text": [
      "{'_id': 5, 'name': 'Michael', 'address': 'Valley 345'}\n",
      "{'_id': ObjectId('65b1adda44774b38a9919d4f'), 'Name': 'Raj Kumar', 'Address': 'Sears street, NZ', 'Age': '42'}\n",
      "{'_id': 1, 'name': 'John', 'address': 'Highway 37'}\n",
      "{'_id': 2, 'name': 'Peter', 'address': 'Lowstreet 27'}\n",
      "{'_id': 3, 'name': 'Amy', 'address': 'Close st 652'}\n",
      "{'_id': 4, 'name': 'Hannah', 'address': 'Mountain 21'}\n",
      "{'_id': 5, 'name': 'Michael', 'address': 'Valley 345'}\n",
      "{'_id': 6, 'name': 'Vicky', 'address': 'CAnyon 123'}\n",
      "{'_id': 7, 'name': 'Nicky', 'address': 'Canyon 123'}\n",
      "{'_id': 8, 'name': 'Nancy', 'address': 'Canyon 123'}\n",
      "{'_id': 9, 'name': 'Viola', 'address': 'Sideway Ave'}\n",
      "{'_id': ObjectId('65b1afe244774b38a9919d51'), 'Name': 'Raj Kumar', 'Address': 'Sears street, NZ', 'Age': '42'}\n"
     ]
    }
   ],
   "source": [
    "myquery = {'address':'Valley 345'}\n",
    "for x in employee.find(myquery):\n",
    "    print(x)\n",
    "    \n",
    "newvalues= {'$set':{'address':'Canyon 123'}}\n",
    "employee.update_one(my_query,newvalues)\n",
    "\n",
    "\n",
    "\n"
   ]
  },
  {
   "cell_type": "code",
   "execution_count": 156,
   "id": "4cdfc0e3",
   "metadata": {},
   "outputs": [
    {
     "name": "stdout",
     "output_type": "stream",
     "text": [
      "{'_id': ObjectId('65b1adda44774b38a9919d4f'), 'Name': 'Raj Kumar', 'Address': 'Sears street, NZ', 'Age': '42'}\n",
      "{'_id': 1, 'name': 'John', 'address': 'Highway 37'}\n",
      "{'_id': 2, 'name': 'Peter', 'address': 'Lowstreet 27'}\n",
      "{'_id': 3, 'name': 'Amy', 'address': 'Close st 652'}\n",
      "{'_id': 4, 'name': 'Hannah', 'address': 'Mountain 21'}\n",
      "{'_id': 5, 'name': 'Michael', 'address': 'Valley 345'}\n",
      "{'_id': 6, 'name': 'Vicky', 'address': 'CAnyon 123'}\n",
      "{'_id': 7, 'name': 'Nicky', 'address': 'Canyon 123'}\n",
      "{'_id': 8, 'name': 'Nancy', 'address': 'Canyon 123'}\n",
      "{'_id': 9, 'name': 'Viola', 'address': 'Sideway Ave'}\n",
      "{'_id': ObjectId('65b1afe244774b38a9919d51'), 'Name': 'Raj Kumar', 'Address': 'Sears street, NZ', 'Age': '42'}\n"
     ]
    }
   ],
   "source": [
    "for x in employee.find():\n",
    "    print(x)"
   ]
  },
  {
   "cell_type": "code",
   "execution_count": 157,
   "id": "da98e47a",
   "metadata": {},
   "outputs": [
    {
     "name": "stdout",
     "output_type": "stream",
     "text": [
      "2 document updated\n",
      "{'_id': ObjectId('65b1adda44774b38a9919d4f'), 'Name': 'Raj Kumar', 'Address': 'Sears street, NZ', 'Age': '42'}\n",
      "{'_id': 1, 'name': 'John', 'address': 'Highway 37'}\n",
      "{'_id': 2, 'name': 'Peter', 'address': 'Lowstreet 27'}\n",
      "{'_id': 3, 'name': 'Amy', 'address': 'Canyon 123'}\n",
      "{'_id': 4, 'name': 'Hannah', 'address': 'Mountain 21'}\n",
      "{'_id': 5, 'name': 'Michael', 'address': 'Valley 345'}\n",
      "{'_id': 6, 'name': 'Vicky', 'address': 'Canyon 123'}\n",
      "{'_id': 7, 'name': 'Nicky', 'address': 'Canyon 123'}\n",
      "{'_id': 8, 'name': 'Nancy', 'address': 'Canyon 123'}\n",
      "{'_id': 9, 'name': 'Viola', 'address': 'Sideway Ave'}\n",
      "{'_id': ObjectId('65b1afe244774b38a9919d51'), 'Name': 'Raj Kumar', 'Address': 'Sears street, NZ', 'Age': '42'}\n"
     ]
    }
   ],
   "source": [
    "myquery ={ 'address': {'$regex': '^C'}}\n",
    "newvaluew = {'$set':{'name':'Minnie'}}\n",
    "\n",
    "x=employee.update_many(myquery,newvalues)\n",
    "\n",
    "print(x.modified_count,'document updated')\n",
    "\n",
    "for x in employee.find():\n",
    "    print(x)"
   ]
  },
  {
   "cell_type": "markdown",
   "id": "767c9a14",
   "metadata": {},
   "source": [
    "## deleting the records"
   ]
  },
  {
   "cell_type": "code",
   "execution_count": 158,
   "id": "9f724f27",
   "metadata": {},
   "outputs": [
    {
     "data": {
      "text/plain": [
       "DeleteResult({'n': 1, 'ok': 1.0}, acknowledged=True)"
      ]
     },
     "execution_count": 158,
     "metadata": {},
     "output_type": "execute_result"
    }
   ],
   "source": [
    "myquery = {'address':'Mountain 21'}\n",
    "employee.delete_one(myquery)"
   ]
  },
  {
   "cell_type": "code",
   "execution_count": 159,
   "id": "1e6166b1",
   "metadata": {},
   "outputs": [
    {
     "name": "stdout",
     "output_type": "stream",
     "text": [
      "{'_id': ObjectId('65b1adda44774b38a9919d4f'), 'Name': 'Raj Kumar', 'Address': 'Sears street, NZ', 'Age': '42'}\n",
      "{'_id': 1, 'name': 'John', 'address': 'Highway 37'}\n",
      "{'_id': 2, 'name': 'Peter', 'address': 'Lowstreet 27'}\n",
      "{'_id': 3, 'name': 'Amy', 'address': 'Canyon 123'}\n",
      "{'_id': 5, 'name': 'Michael', 'address': 'Valley 345'}\n",
      "{'_id': 6, 'name': 'Vicky', 'address': 'Canyon 123'}\n",
      "{'_id': 7, 'name': 'Nicky', 'address': 'Canyon 123'}\n",
      "{'_id': 8, 'name': 'Nancy', 'address': 'Canyon 123'}\n",
      "{'_id': 9, 'name': 'Viola', 'address': 'Sideway Ave'}\n",
      "{'_id': ObjectId('65b1afe244774b38a9919d51'), 'Name': 'Raj Kumar', 'Address': 'Sears street, NZ', 'Age': '42'}\n"
     ]
    }
   ],
   "source": [
    "for x in employee.find():\n",
    "    print(x)"
   ]
  },
  {
   "cell_type": "code",
   "execution_count": 161,
   "id": "e49df6dd",
   "metadata": {},
   "outputs": [
    {
     "name": "stdout",
     "output_type": "stream",
     "text": [
      "4 documents deleted!\n"
     ]
    }
   ],
   "source": [
    "myquery = {'address':{'$regex':'^C'}}\n",
    "x=employee.delete_many(myquery)\n",
    "print(x.deleted_count,'documents deleted!')\n",
    "\n",
    "# Questions\n",
    "\n",
    "# create a duplicate copy of your collection employee\n",
    "# rename that duplicate copy to yhour first name\n",
    "# rename the field address in that duplicated copy of your collection to Home address\n",
    "# than in the original collection delete the field address"
   ]
  },
  {
   "cell_type": "code",
   "execution_count": 162,
   "id": "00e3effd",
   "metadata": {},
   "outputs": [
    {
     "name": "stdout",
     "output_type": "stream",
     "text": [
      "{'_id': ObjectId('65b1adda44774b38a9919d4f'), 'Name': 'Raj Kumar', 'Address': 'Sears street, NZ', 'Age': '42'}\n",
      "{'_id': 1, 'name': 'John', 'address': 'Highway 37'}\n",
      "{'_id': 2, 'name': 'Peter', 'address': 'Lowstreet 27'}\n",
      "{'_id': 5, 'name': 'Michael', 'address': 'Valley 345'}\n",
      "{'_id': 9, 'name': 'Viola', 'address': 'Sideway Ave'}\n",
      "{'_id': ObjectId('65b1afe244774b38a9919d51'), 'Name': 'Raj Kumar', 'Address': 'Sears street, NZ', 'Age': '42'}\n"
     ]
    }
   ],
   "source": [
    "for x in employee.find():\n",
    "    print(x)"
   ]
  },
  {
   "cell_type": "code",
   "execution_count": 163,
   "id": "30f56799",
   "metadata": {},
   "outputs": [],
   "source": [
    "#you can drop the whole collection using: collection_name.drop\n",
    "employee.drop()"
   ]
  },
  {
   "cell_type": "code",
   "execution_count": 164,
   "id": "d1a03392",
   "metadata": {},
   "outputs": [],
   "source": [
    "for x in employee.find():\n",
    "    print(x)"
   ]
  },
  {
   "cell_type": "code",
   "execution_count": null,
   "id": "b1ef0a1c",
   "metadata": {},
   "outputs": [],
   "source": []
  }
 ],
 "metadata": {
  "kernelspec": {
   "display_name": "Python 3 (ipykernel)",
   "language": "python",
   "name": "python3"
  },
  "language_info": {
   "codemirror_mode": {
    "name": "ipython",
    "version": 3
   },
   "file_extension": ".py",
   "mimetype": "text/x-python",
   "name": "python",
   "nbconvert_exporter": "python",
   "pygments_lexer": "ipython3",
   "version": "3.10.9"
  }
 },
 "nbformat": 4,
 "nbformat_minor": 5
}
