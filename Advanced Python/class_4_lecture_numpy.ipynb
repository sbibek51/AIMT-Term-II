{
 "cells": [
  {
   "cell_type": "code",
   "execution_count": 1,
   "id": "46a5470d",
   "metadata": {},
   "outputs": [],
   "source": [
    "#Bibek Shiwakoti"
   ]
  },
  {
   "cell_type": "code",
   "execution_count": 2,
   "id": "95006de6",
   "metadata": {},
   "outputs": [],
   "source": [
    "import numpy as np"
   ]
  },
  {
   "cell_type": "code",
   "execution_count": 3,
   "id": "583f98f7",
   "metadata": {},
   "outputs": [],
   "source": [
    "vector_row = np.array([1,2,3])"
   ]
  },
  {
   "cell_type": "code",
   "execution_count": 5,
   "id": "1f71f5a9",
   "metadata": {},
   "outputs": [],
   "source": [
    "vector =np.array([1,2,3,4,5,6])"
   ]
  },
  {
   "cell_type": "code",
   "execution_count": 6,
   "id": "c104d786",
   "metadata": {},
   "outputs": [
    {
     "data": {
      "text/plain": [
       "3"
      ]
     },
     "execution_count": 6,
     "metadata": {},
     "output_type": "execute_result"
    }
   ],
   "source": [
    "vector[2]"
   ]
  },
  {
   "cell_type": "code",
   "execution_count": 10,
   "id": "f33f05c4",
   "metadata": {},
   "outputs": [
    {
     "data": {
      "text/plain": [
       "3"
      ]
     },
     "execution_count": 10,
     "metadata": {},
     "output_type": "execute_result"
    }
   ],
   "source": [
    "vector[-4]"
   ]
  },
  {
   "cell_type": "code",
   "execution_count": 11,
   "id": "996f57a0",
   "metadata": {},
   "outputs": [
    {
     "data": {
      "text/plain": [
       "array([3, 4, 5])"
      ]
     },
     "execution_count": 11,
     "metadata": {},
     "output_type": "execute_result"
    }
   ],
   "source": [
    "vector[2:5]"
   ]
  },
  {
   "cell_type": "code",
   "execution_count": 12,
   "id": "3c955633",
   "metadata": {},
   "outputs": [
    {
     "data": {
      "text/plain": [
       "array([3, 4, 5])"
      ]
     },
     "execution_count": 12,
     "metadata": {},
     "output_type": "execute_result"
    }
   ],
   "source": [
    "vector[-4:-1]"
   ]
  },
  {
   "cell_type": "code",
   "execution_count": 20,
   "id": "e8a8f04a",
   "metadata": {},
   "outputs": [
    {
     "name": "stdout",
     "output_type": "stream",
     "text": [
      "1\n",
      "3\n",
      "5\n"
     ]
    }
   ],
   "source": [
    "for i in range(0,len(vector),2):\n",
    "    print(vector[i])"
   ]
  },
  {
   "cell_type": "code",
   "execution_count": 21,
   "id": "f1020f14",
   "metadata": {},
   "outputs": [],
   "source": [
    "matrix =np.array([[1,2,3],\n",
    "                  [4,5,6],\n",
    "                  [7,8,9]\n",
    "    \n",
    "])"
   ]
  },
  {
   "cell_type": "code",
   "execution_count": 27,
   "id": "2d5076f2",
   "metadata": {},
   "outputs": [
    {
     "name": "stdout",
     "output_type": "stream",
     "text": [
      "[[5 6]\n",
      " [8 9]]\n"
     ]
    }
   ],
   "source": [
    "print(matrix[1:,1:])"
   ]
  },
  {
   "cell_type": "code",
   "execution_count": 29,
   "id": "6ccc7981",
   "metadata": {},
   "outputs": [
    {
     "name": "stdout",
     "output_type": "stream",
     "text": [
      "[[5 6]\n",
      " [8 9]]\n"
     ]
    }
   ],
   "source": [
    "print(matrix[-2:,-2:])"
   ]
  },
  {
   "cell_type": "code",
   "execution_count": 32,
   "id": "b1898f85",
   "metadata": {},
   "outputs": [],
   "source": [
    "a= np.array([-8,100,-1000,44,4,16,0])"
   ]
  },
  {
   "cell_type": "code",
   "execution_count": 33,
   "id": "f528181e",
   "metadata": {},
   "outputs": [
    {
     "data": {
      "text/plain": [
       "array([   -8,   100, -1000,    44,     4,    16,     0])"
      ]
     },
     "execution_count": 33,
     "metadata": {},
     "output_type": "execute_result"
    }
   ],
   "source": [
    "a"
   ]
  },
  {
   "cell_type": "code",
   "execution_count": 39,
   "id": "88882362",
   "metadata": {},
   "outputs": [
    {
     "name": "stdout",
     "output_type": "stream",
     "text": [
      "[1 2 3]\n",
      "[4 5 6]\n",
      "[7 8 9]\n"
     ]
    }
   ],
   "source": [
    "for i in matrix:\n",
    "    print(i)\n",
    " "
   ]
  },
  {
   "cell_type": "code",
   "execution_count": 40,
   "id": "abf231ae",
   "metadata": {},
   "outputs": [],
   "source": [
    "a = np.append(a, matrix.flatten()) #adding the matrix elements to 1d array called a"
   ]
  },
  {
   "cell_type": "code",
   "execution_count": 41,
   "id": "db89bc0c",
   "metadata": {},
   "outputs": [
    {
     "name": "stdout",
     "output_type": "stream",
     "text": [
      "[   -8   100 -1000    44     4    16     0     1     2     3     4     5\n",
      "     6     7     8     9]\n"
     ]
    }
   ],
   "source": [
    "print(a)"
   ]
  },
  {
   "cell_type": "code",
   "execution_count": 42,
   "id": "346f9995",
   "metadata": {},
   "outputs": [],
   "source": [
    "a= np.sort(a) #sorting the values inside the a"
   ]
  },
  {
   "cell_type": "code",
   "execution_count": 43,
   "id": "db1273b1",
   "metadata": {},
   "outputs": [
    {
     "name": "stdout",
     "output_type": "stream",
     "text": [
      "[-1000    -8     0     1     2     3     4     4     5     6     7     8\n",
      "     9    16    44   100]\n"
     ]
    }
   ],
   "source": [
    "print(a)"
   ]
  },
  {
   "cell_type": "code",
   "execution_count": 46,
   "id": "7ba302d1",
   "metadata": {},
   "outputs": [],
   "source": [
    "matrix_4 = np.reshape(a, (4, 4)) #reshaping to 4*4 matrix"
   ]
  },
  {
   "cell_type": "code",
   "execution_count": 47,
   "id": "20501c28",
   "metadata": {},
   "outputs": [
    {
     "name": "stdout",
     "output_type": "stream",
     "text": [
      "[[-1000    -8     0     1]\n",
      " [    2     3     4     4]\n",
      " [    5     6     7     8]\n",
      " [    9    16    44   100]]\n"
     ]
    }
   ],
   "source": [
    "print(matrix_4)"
   ]
  },
  {
   "cell_type": "code",
   "execution_count": 55,
   "id": "35c54554",
   "metadata": {},
   "outputs": [],
   "source": [
    "matrix= np.array([[1,2,3,4],\n",
    "                 [5,6,7,8],\n",
    "                 [9,10,11,12]])"
   ]
  },
  {
   "cell_type": "code",
   "execution_count": 56,
   "id": "a93cc27d",
   "metadata": {},
   "outputs": [
    {
     "name": "stdout",
     "output_type": "stream",
     "text": [
      "[[ 1  2  3  4]\n",
      " [ 5  6  7  8]\n",
      " [ 9 10 11 12]]\n"
     ]
    }
   ],
   "source": [
    "print(matrix)"
   ]
  },
  {
   "cell_type": "code",
   "execution_count": 57,
   "id": "2aee7a72",
   "metadata": {},
   "outputs": [
    {
     "data": {
      "text/plain": [
       "(3, 4)"
      ]
     },
     "execution_count": 57,
     "metadata": {},
     "output_type": "execute_result"
    }
   ],
   "source": [
    "matrix.shape   #prints the shape of matrix"
   ]
  },
  {
   "cell_type": "code",
   "execution_count": 58,
   "id": "29bd2a55",
   "metadata": {},
   "outputs": [
    {
     "data": {
      "text/plain": [
       "12"
      ]
     },
     "execution_count": 58,
     "metadata": {},
     "output_type": "execute_result"
    }
   ],
   "source": [
    "matrix.size #prints the size of the matrix"
   ]
  },
  {
   "cell_type": "code",
   "execution_count": 59,
   "id": "2676b099",
   "metadata": {},
   "outputs": [
    {
     "data": {
      "text/plain": [
       "2"
      ]
     },
     "execution_count": 59,
     "metadata": {},
     "output_type": "execute_result"
    }
   ],
   "source": [
    "matrix.ndim  #prints the dimension of the matrix"
   ]
  },
  {
   "cell_type": "code",
   "execution_count": 60,
   "id": "67dd839f",
   "metadata": {},
   "outputs": [],
   "source": [
    "#Dimensions of matrix=2, vector =1 and sxalar =0"
   ]
  },
  {
   "cell_type": "markdown",
   "id": "8b9af237",
   "metadata": {},
   "source": [
    "## Dot prodct, adding and substracting"
   ]
  },
  {
   "cell_type": "code",
   "execution_count": 62,
   "id": "bcbd9490",
   "metadata": {},
   "outputs": [],
   "source": [
    "vector_a =np.array([1,2,3])\n",
    "vector_b =np.array([4,5,6])"
   ]
  },
  {
   "cell_type": "code",
   "execution_count": 63,
   "id": "cdd3945d",
   "metadata": {},
   "outputs": [
    {
     "data": {
      "text/plain": [
       "32"
      ]
     },
     "execution_count": 63,
     "metadata": {},
     "output_type": "execute_result"
    }
   ],
   "source": [
    "np.dot(vector_a,vector_b)"
   ]
  },
  {
   "cell_type": "code",
   "execution_count": 73,
   "id": "94c09219",
   "metadata": {},
   "outputs": [
    {
     "name": "stdout",
     "output_type": "stream",
     "text": [
      "Dot Product: 32\n",
      "Cosine of the Angle (cos(theta)): 0.9746318461970762\n",
      "12.933154491899135\n"
     ]
    }
   ],
   "source": [
    "\n",
    "\n",
    "# Calculate the dot product using NumPy's dot function\n",
    "dot_product = np.dot(vector_a, vector_b)\n",
    "\n",
    "# Calculate the magnitudes of the vectors\n",
    "magnitude_a = np.linalg.norm(vector_a)\n",
    "magnitude_b = np.linalg.norm(vector_b)\n",
    "\n",
    "# Calculate the cosine of the angle between the vectors\n",
    "cos_theta = dot_product / (magnitude_a * magnitude_b)\n",
    "\n",
    "# Print the dot product and cosine of the angle\n",
    "print(\"Dot Product:\", dot_product)\n",
    "print(\"Cosine of the Angle (cos(theta)):\", cos_theta)\n",
    "\n",
    "\n",
    "\n",
    "product_magnitude = magnitude_a * magnitude_b\n",
    "radian_angle =np.arccos(dot_product/product_magnitude) #arcross is the cos inverse\n",
    "angle_degree = np.degrees(radian_angle)\n",
    "print(angle_degree)"
   ]
  },
  {
   "cell_type": "code",
   "execution_count": 74,
   "id": "935d4bb0",
   "metadata": {},
   "outputs": [],
   "source": [
    "matrix_a =np.array([[1,1,1],\n",
    "                    [1,1,1],\n",
    "                    [1,1,2],\n",
    "    \n",
    "]\n",
    ")"
   ]
  },
  {
   "cell_type": "code",
   "execution_count": 75,
   "id": "26c323b8",
   "metadata": {},
   "outputs": [
    {
     "data": {
      "text/plain": [
       "array([[1, 1, 1],\n",
       "       [1, 1, 1],\n",
       "       [1, 1, 2]])"
      ]
     },
     "execution_count": 75,
     "metadata": {},
     "output_type": "execute_result"
    }
   ],
   "source": [
    "matrix_a"
   ]
  },
  {
   "cell_type": "code",
   "execution_count": 76,
   "id": "4899f45e",
   "metadata": {},
   "outputs": [],
   "source": [
    "matrix_b =np.array([[1,3,1],\n",
    "                    [1,3,1],\n",
    "                    [1,3,8],\n",
    "    \n",
    "]\n",
    ")"
   ]
  },
  {
   "cell_type": "code",
   "execution_count": 77,
   "id": "28ac29fc",
   "metadata": {},
   "outputs": [
    {
     "data": {
      "text/plain": [
       "array([[1, 3, 1],\n",
       "       [1, 3, 1],\n",
       "       [1, 3, 8]])"
      ]
     },
     "execution_count": 77,
     "metadata": {},
     "output_type": "execute_result"
    }
   ],
   "source": [
    "matrix_b"
   ]
  },
  {
   "cell_type": "code",
   "execution_count": 81,
   "id": "2698e7bd",
   "metadata": {},
   "outputs": [
    {
     "name": "stdout",
     "output_type": "stream",
     "text": [
      "[[ 2  4  2]\n",
      " [ 2  4  2]\n",
      " [ 2  4 10]]\n"
     ]
    }
   ],
   "source": [
    "print(matrix_a+matrix_b)"
   ]
  },
  {
   "cell_type": "code",
   "execution_count": 82,
   "id": "1f2f9250",
   "metadata": {},
   "outputs": [
    {
     "name": "stdout",
     "output_type": "stream",
     "text": [
      "[[ 0 -2  0]\n",
      " [ 0 -2  0]\n",
      " [ 0 -2 -6]]\n"
     ]
    }
   ],
   "source": [
    "print(matrix_a-matrix_b)"
   ]
  },
  {
   "cell_type": "code",
   "execution_count": 84,
   "id": "6030026a",
   "metadata": {},
   "outputs": [
    {
     "name": "stdout",
     "output_type": "stream",
     "text": [
      "[[ 1  3  1]\n",
      " [ 1  3  1]\n",
      " [ 1  3 16]]\n"
     ]
    }
   ],
   "source": [
    "print(matrix_a*matrix_b)"
   ]
  },
  {
   "cell_type": "code",
   "execution_count": 90,
   "id": "1dccc025",
   "metadata": {},
   "outputs": [
    {
     "data": {
      "text/plain": [
       "(3, 3)"
      ]
     },
     "execution_count": 90,
     "metadata": {},
     "output_type": "execute_result"
    }
   ],
   "source": [
    "size_a=matrix_a.shape\n",
    "size_a\n"
   ]
  },
  {
   "cell_type": "code",
   "execution_count": 91,
   "id": "1d27b4ca",
   "metadata": {},
   "outputs": [
    {
     "data": {
      "text/plain": [
       "(3, 3)"
      ]
     },
     "execution_count": 91,
     "metadata": {},
     "output_type": "execute_result"
    }
   ],
   "source": [
    "size_b=matrix_b.shape\n",
    "size_b"
   ]
  },
  {
   "cell_type": "code",
   "execution_count": 93,
   "id": "5269eaaa",
   "metadata": {},
   "outputs": [
    {
     "name": "stdout",
     "output_type": "stream",
     "text": [
      "matrix are good to multiply\n"
     ]
    }
   ],
   "source": [
    "if size_a[1] ==size_b[0]:\n",
    "    print(\"matrix are good to multiply\")"
   ]
  },
  {
   "cell_type": "code",
   "execution_count": 94,
   "id": "ac303d03",
   "metadata": {},
   "outputs": [],
   "source": [
    "a= [[1,2],[2,3]]\n",
    "b= [[3,5],[5,9]]"
   ]
  },
  {
   "cell_type": "code",
   "execution_count": 95,
   "id": "52c1bf08",
   "metadata": {},
   "outputs": [
    {
     "name": "stdout",
     "output_type": "stream",
     "text": [
      "[[1, 2], [2, 3]]\n"
     ]
    }
   ],
   "source": [
    "print(a)"
   ]
  },
  {
   "cell_type": "code",
   "execution_count": 96,
   "id": "70e9d065",
   "metadata": {},
   "outputs": [
    {
     "name": "stdout",
     "output_type": "stream",
     "text": [
      "[[3, 5], [5, 9]]\n"
     ]
    }
   ],
   "source": [
    "print(b)"
   ]
  },
  {
   "cell_type": "code",
   "execution_count": null,
   "id": "25bb3412",
   "metadata": {},
   "outputs": [],
   "source": []
  },
  {
   "cell_type": "code",
   "execution_count": 100,
   "id": "cc81a49e",
   "metadata": {},
   "outputs": [
    {
     "name": "stdout",
     "output_type": "stream",
     "text": [
      "[[13 23]\n",
      " [21 37]]\n"
     ]
    }
   ],
   "source": [
    "c= np.matmul(a,b)\n",
    "print(c)"
   ]
  },
  {
   "cell_type": "markdown",
   "id": "2a654c9b",
   "metadata": {},
   "source": [
    "## Q.\n",
    "Challenge question: write an algorithm that checks if two  matrixes can be multiplied and if yes, develop a code without using a\n",
    "    any built in function to multiply two matrixes."
   ]
  },
  {
   "cell_type": "code",
   "execution_count": null,
   "id": "35725817",
   "metadata": {},
   "outputs": [],
   "source": []
  },
  {
   "cell_type": "markdown",
   "id": "b34d1748",
   "metadata": {},
   "source": [
    "## Python Lambda Function"
   ]
  },
  {
   "cell_type": "code",
   "execution_count": 101,
   "id": "82795562",
   "metadata": {},
   "outputs": [
    {
     "name": "stdout",
     "output_type": "stream",
     "text": [
      "25\n"
     ]
    }
   ],
   "source": [
    "# it is a small anononymous function\n",
    "# a lambda function can take any number of arguments , but can only have one expression\n",
    "# the expression is executed and the result is returned\n",
    "\n",
    "\n",
    "x= lambda a: 15+a    # left side a is a input\n",
    "print(x(10))"
   ]
  },
  {
   "cell_type": "code",
   "execution_count": 102,
   "id": "5f03fdc2",
   "metadata": {},
   "outputs": [
    {
     "name": "stdout",
     "output_type": "stream",
     "text": [
      "40\n"
     ]
    }
   ],
   "source": [
    "x= lambda a,b,c : a*b*c\n",
    "print(x(2,4,5))"
   ]
  },
  {
   "cell_type": "code",
   "execution_count": 117,
   "id": "5444aa3c",
   "metadata": {},
   "outputs": [
    {
     "name": "stdout",
     "output_type": "stream",
     "text": [
      "[[1 2 3]\n",
      " [2 4 6]\n",
      " [7 8 9]]\n",
      "<function <lambda> at 0x000001BA76D83D90>\n",
      "[[101 102 103]\n",
      " [102 104 106]\n",
      " [107 108 109]]\n",
      "<class 'numpy.ndarray'>\n"
     ]
    }
   ],
   "source": [
    "matrix =np.array([[1,2,3],[2,4,6],[7,8,9]])\n",
    "print(matrix)\n",
    "add_100 =lambda i : i+100\n",
    "vectorize_100 =np.vectorize(add_100)\n",
    "print(add_100)\n",
    "print(vectorize_100(matrix))\n",
    "\n",
    "\n",
    "print(type(vectorize_100(matrix)))\n",
    "\n",
    "    \n",
    "# task: explore np.vectorize"
   ]
  },
  {
   "cell_type": "code",
   "execution_count": 151,
   "id": "1fadb845",
   "metadata": {},
   "outputs": [],
   "source": [
    "matrix =np.array([[1,2,3],\n",
    "                  [4,5,6],\n",
    "                  [7,8,9],\n",
    "                  \n",
    "    \n",
    "])"
   ]
  },
  {
   "cell_type": "code",
   "execution_count": 152,
   "id": "0e3d27ec",
   "metadata": {},
   "outputs": [
    {
     "data": {
      "text/plain": [
       "9"
      ]
     },
     "execution_count": 152,
     "metadata": {},
     "output_type": "execute_result"
    }
   ],
   "source": [
    "np.max(matrix)  "
   ]
  },
  {
   "cell_type": "code",
   "execution_count": 153,
   "id": "241d7bef",
   "metadata": {},
   "outputs": [
    {
     "data": {
      "text/plain": [
       "array([7, 8, 9])"
      ]
     },
     "execution_count": 153,
     "metadata": {},
     "output_type": "execute_result"
    }
   ],
   "source": [
    "np.max(matrix,axis=0) #row wise but which column??"
   ]
  },
  {
   "cell_type": "code",
   "execution_count": 154,
   "id": "e90c17b9",
   "metadata": {},
   "outputs": [
    {
     "data": {
      "text/plain": [
       "1"
      ]
     },
     "execution_count": 154,
     "metadata": {},
     "output_type": "execute_result"
    }
   ],
   "source": [
    "np.min(matrix)"
   ]
  },
  {
   "cell_type": "code",
   "execution_count": 155,
   "id": "1daeca8a",
   "metadata": {},
   "outputs": [
    {
     "data": {
      "text/plain": [
       "array([1, 2, 3])"
      ]
     },
     "execution_count": 155,
     "metadata": {},
     "output_type": "execute_result"
    }
   ],
   "source": [
    "np.min(matrix,axis=0)"
   ]
  },
  {
   "cell_type": "code",
   "execution_count": 156,
   "id": "d215c523",
   "metadata": {},
   "outputs": [
    {
     "data": {
      "text/plain": [
       "array([3, 6, 9])"
      ]
     },
     "execution_count": 156,
     "metadata": {},
     "output_type": "execute_result"
    }
   ],
   "source": [
    "np.max(matrix,axis=1)"
   ]
  },
  {
   "cell_type": "markdown",
   "id": "3c77639a",
   "metadata": {},
   "source": [
    "## generating random valules"
   ]
  },
  {
   "cell_type": "code",
   "execution_count": 158,
   "id": "cca13d9c",
   "metadata": {},
   "outputs": [
    {
     "data": {
      "text/plain": [
       "array([4, 5, 7])"
      ]
     },
     "execution_count": 158,
     "metadata": {},
     "output_type": "execute_result"
    }
   ],
   "source": [
    "np.random.randint(0,11,3) #between 0 and 11 and give three numbers"
   ]
  },
  {
   "cell_type": "code",
   "execution_count": 194,
   "id": "7f6d717c",
   "metadata": {},
   "outputs": [],
   "source": [
    "a = np.random.randint(0,1100,30000)\n",
    "# a = np.random.randint(0,1,1000)\n",
    "# a=np.random.logistic(0.0,1.0,3)"
   ]
  },
  {
   "cell_type": "code",
   "execution_count": 195,
   "id": "db15dd23",
   "metadata": {},
   "outputs": [
    {
     "data": {
      "image/png": "[encoded data removed]",
      "text/plain": [
       "<Figure size 640x480 with 1 Axes>"
      ]
     },
     "metadata": {},
     "output_type": "display_data"
    }
   ],
   "source": [
    "import matplotlib.pyplot as plt\n",
    "\n",
    "plt.hist(a, bins='auto', alpha=0.7, rwidth=0.85)\n",
    "plt.xlabel('Value')\n",
    "plt.ylabel('Frequency')\n",
    "plt.title('Histogram of Array \"a\"')\n",
    "plt.grid(axis='y', alpha=0.75)\n",
    "plt.show()"
   ]
  },
  {
   "cell_type": "code",
   "execution_count": 196,
   "id": "fdbaca13",
   "metadata": {},
   "outputs": [
    {
     "data": {
      "text/plain": [
       "array([ 938.08037962,  184.18216984,  435.49517864, ..., 1049.46513506,\n",
       "        523.79915059,   49.59062081])"
      ]
     },
     "execution_count": 196,
     "metadata": {},
     "output_type": "execute_result"
    }
   ],
   "source": [
    "np.random.normal(a)"
   ]
  },
  {
   "cell_type": "code",
   "execution_count": 190,
   "id": "fe8ac2f3",
   "metadata": {},
   "outputs": [
    {
     "data": {
      "text/plain": [
       "array([ 1.31598376,  3.00715836, -0.74633838])"
      ]
     },
     "execution_count": 190,
     "metadata": {},
     "output_type": "execute_result"
    }
   ],
   "source": [
    "np.random.logistic(0.0,1.0,3)"
   ]
  },
  {
   "cell_type": "code",
   "execution_count": 197,
   "id": "a4ccbc2a",
   "metadata": {},
   "outputs": [],
   "source": [
    "a= np.random.logistic(0.0,1.0,3)"
   ]
  },
  {
   "cell_type": "code",
   "execution_count": 198,
   "id": "091ce3d9",
   "metadata": {},
   "outputs": [
    {
     "data": {
      "image/png": "[encoded data removed]",
      "text/plain": [
       "<Figure size 640x480 with 1 Axes>"
      ]
     },
     "metadata": {},
     "output_type": "display_data"
    }
   ],
   "source": [
    "plt.hist(a, bins='auto', density=True, alpha=0.7, rwidth=0.85)\n",
    "plt.xlabel('Value')\n",
    "plt.ylabel('Probability Density')\n",
    "plt.title('Histogram of Data from Logistic Distribution')\n",
    "plt.grid(axis='y', alpha=0.75)\n",
    "plt.show()"
   ]
  },
  {
   "cell_type": "code",
   "execution_count": 199,
   "id": "f3a115a7",
   "metadata": {},
   "outputs": [
    {
     "data": {
      "image/png": "[encoded data removed]",
      "text/plain": [
       "<Figure size 640x480 with 1 Axes>"
      ]
     },
     "metadata": {},
     "output_type": "display_data"
    }
   ],
   "source": [
    "plt.hist(a, bins=50, density=True, alpha=0.7, rwidth=0.85)\n",
    "plt.xlabel('Value')\n",
    "plt.ylabel('Probability Density')\n",
    "plt.title('Histogram of Data from Logistic Distribution')\n",
    "plt.grid(axis='y', alpha=0.75)\n",
    "plt.show()"
   ]
  },
  {
   "cell_type": "code",
   "execution_count": 200,
   "id": "f93e7926",
   "metadata": {},
   "outputs": [],
   "source": [
    "a =np.random.uniform(1.0,2.0,3)"
   ]
  },
  {
   "cell_type": "code",
   "execution_count": 202,
   "id": "e039f0d5",
   "metadata": {},
   "outputs": [
    {
     "data": {
      "image/png": "[encoded data removed]",
      "text/plain": [
       "<Figure size 640x480 with 1 Axes>"
      ]
     },
     "metadata": {},
     "output_type": "display_data"
    }
   ],
   "source": [
    "plt.hist(a, bins='auto', density=True, alpha=0.7, rwidth=0.85)\n",
    "plt.xlabel('Value')\n",
    "plt.ylabel('Probability Density')\n",
    "plt.title('Histogram of Data from Uniform Distribution')\n",
    "plt.grid(axis='y', alpha=0.75)\n",
    "plt.show()"
   ]
  },
  {
   "cell_type": "markdown",
   "id": "cb97e199",
   "metadata": {},
   "source": [
    "## Reshaping the arrays"
   ]
  },
  {
   "cell_type": "code",
   "execution_count": null,
   "id": "ff399665",
   "metadata": {},
   "outputs": [],
   "source": [
    "# using reshape method on numpy\n"
   ]
  }
 ],
 "metadata": {
  "kernelspec": {
   "display_name": "Python 3 (ipykernel)",
   "language": "python",
   "name": "python3"
  },
  "language_info": {
   "codemirror_mode": {
    "name": "ipython",
    "version": 3
   },
   "file_extension": ".py",
   "mimetype": "text/x-python",
   "name": "python",
   "nbconvert_exporter": "python",
   "pygments_lexer": "ipython3",
   "version": "3.10.9"
  }
 },
 "nbformat": 4,
 "nbformat_minor": 5
}
