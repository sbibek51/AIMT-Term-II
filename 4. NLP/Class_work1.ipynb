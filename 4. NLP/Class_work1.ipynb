{
 "cells": [
  {
   "cell_type": "markdown",
   "id": "1fa8a562",
   "metadata": {},
   "source": [
    "Bibek Shiwakoti\n",
    "c0898100"
   ]
  },
  {
   "cell_type": "code",
   "execution_count": 58,
   "id": "4f07b646",
   "metadata": {},
   "outputs": [
    {
     "name": "stdout",
     "output_type": "stream",
     "text": [
      " Enter a string with 2 occurrences of space, comma, or dot bibek  \n",
      "Given string is: bibek  \n",
      "string after replacement is:\n",
      "bibek::\n"
     ]
    }
   ],
   "source": [
    "#Q1. Write a Python program to replace maximum 2 occurrences of space, comma, or dot with a colon.\n",
    "import re\n",
    "string1= input(' Enter a string with 2 occurrences of space, comma, or dot ')\n",
    "print(\"Given string is:\",string1)\n",
    "print('string after replacement is:')\n",
    "print(re.sub(\"[ ,.]\", \":\", string1,2))\n",
    "\n"
   ]
  },
  {
   "cell_type": "code",
   "execution_count": 59,
   "id": "aac599be",
   "metadata": {},
   "outputs": [
    {
     "name": "stdout",
     "output_type": "stream",
     "text": [
      "Enater the string of various length words bibek shiwakoti\n",
      "Given string is: bibek shiwakoti\n",
      "In given string:\n",
      "These words are of length 5 \n",
      "['bibek']\n"
     ]
    }
   ],
   "source": [
    "#Q2 Write a Python program to find all five-character words in a string.\n",
    "string2= input('Enater the string of various length words ')\n",
    "print('Given string is:',string2)\n",
    "list1=[]\n",
    "list1=(re.findall(r\"\\b\\w{5}\\b\", string2))\n",
    "print('In given string:')\n",
    "if len(list1)==0:\n",
    "    print('no words of length 5')\n",
    "else:\n",
    "    print('These words are of length 5 ')\n",
    "    print(list1)\n"
   ]
  },
  {
   "cell_type": "code",
   "execution_count": 60,
   "id": "c6b229b9",
   "metadata": {},
   "outputs": [
    {
     "name": "stdout",
     "output_type": "stream",
     "text": [
      "Enater the string of various length words bibek shiwakoti freom Nepal\n",
      "Given string is: bibek shiwakoti freom Nepal\n",
      "In given string:\n",
      "These words are of length 3,4 or 5 \n",
      "['bibek', 'freom', 'Nepal']\n"
     ]
    }
   ],
   "source": [
    "#Q3 Write a Python program to find all three, four, and five character words in a string.\n",
    "string2= input('Enater the string of various length words ')\n",
    "print('Given string is:',string2)\n",
    "list1=[]\n",
    "list1=(re.findall(r\"\\b\\w{3,5}\\b\",string2))\n",
    "print('In given string:')\n",
    "print('These words are of length 3,4 or 5 ')\n",
    "print(list1)"
   ]
  },
  {
   "cell_type": "code",
   "execution_count": 61,
   "id": "d0afc57e",
   "metadata": {},
   "outputs": [
    {
     "name": "stdout",
     "output_type": "stream",
     "text": [
      "Enater the string of various length words bibek shiwakoti\n",
      "Given string is: bibek shiwakoti\n",
      "In given string:\n",
      "These words are of length greater or equals four \n",
      "['bibek', 'shiwakoti']\n"
     ]
    }
   ],
   "source": [
    "#Q4 Write a Python program to find all words that are at least 4 characters long in a string.\n",
    "string2= input('Enater the string of various length words ')\n",
    "print('Given string is:',string2)\n",
    "list1=[]\n",
    "list1=(re.findall(r\"\\b\\w{4,}\\b\",string2))\n",
    "print('In given string:')\n",
    "print('These words are of length greater or equals four ')\n",
    "print(list1)"
   ]
  },
  {
   "cell_type": "code",
   "execution_count": null,
   "id": "9048964f",
   "metadata": {},
   "outputs": [],
   "source": [
    "#Q5 Write a Python program to convert a camel-case string to a snake-case string.\n",
    "camelCase= input('Enter a camel case string:')\n",
    "print('given string is:',camelCase)\n",
    "def camel_to_snake(camelCAse):\n",
    "        str1 = re.sub('(.)([A-Z][a-z]+)', r'\\1_\\2',camelCAse)\n",
    "        return re.sub('([a-z0-9])([A-Z])', r'\\1_\\2', str1).lower()\n",
    "print('snake case of given string is:',camel_to_snake(camelCase))"
   ]
  },
  {
   "cell_type": "code",
   "execution_count": 63,
   "id": "920461f8",
   "metadata": {},
   "outputs": [
    {
     "name": "stdout",
     "output_type": "stream",
     "text": [
      "Enter a snake case string:snake_case\n",
      "given string is: snake_case\n",
      "camel case of given string is: SnakeCase\n"
     ]
    }
   ],
   "source": [
    "#Q6 Write a python program to convert snake-case string to camel-case string.\n",
    "snake_case= input('Enter a snake case string:')\n",
    "print('given string is:',snake_case)\n",
    "def snake_to_camel(snake_case):\n",
    "        return ''.join(x.capitalize() or '_' for x in snake_case.split('_'))\n",
    "print('camel case of given string is:',snake_to_camel(snake_case))\n"
   ]
  },
  {
   "cell_type": "code",
   "execution_count": 64,
   "id": "8cf46d12",
   "metadata": {},
   "outputs": [
    {
     "name": "stdout",
     "output_type": "stream",
     "text": [
      "Enter a string which must contain some text inside quotation marksbibek says 'Hi'\n",
      " Given string is: bibek says 'Hi'\n",
      "values between quotation \" \" marks in given string is:\n",
      "[]\n"
     ]
    }
   ],
   "source": [
    "#Q7 Write a Python program to extract values between quotation marks of a string.\n",
    "my_string = input('Enter a string which must contain some text inside quotation marks')\n",
    "print(' Given string is:',my_string)\n",
    "print('values between quotation \\\" \\\" marks in given string is:')\n",
    "print(re.findall(r'\"(.*?)\"', my_string))"
   ]
  },
  {
   "cell_type": "code",
   "execution_count": 65,
   "id": "612e73e3",
   "metadata": {},
   "outputs": [
    {
     "name": "stdout",
     "output_type": "stream",
     "text": [
      "Enter a string with some multiple spacesBIbek   shiwakoti\n",
      "Given string is: BIbek   shiwakoti\n",
      "string after elimination of multiple spaces with single space is:\n",
      "BIbek shiwakoti\n"
     ]
    }
   ],
   "source": [
    "#Q8 Write a Python program to remove multiple spaces from a string.\n",
    "st1= input('Enter a string with some multiple spaces')\n",
    "print('Given string is:',st1)\n",
    "print('string after elimination of multiple spaces with single space is:')\n",
    "print(re.sub(' +',' ',st1))"
   ]
  },
  {
   "cell_type": "code",
   "execution_count": 66,
   "id": "4e66b3ea",
   "metadata": {},
   "outputs": [
    {
     "name": "stdout",
     "output_type": "stream",
     "text": [
      "Enter a string with some white spaces     ihih     h\n",
      "Given string is:      ihih     h\n",
      "string after elimination of white space is:\n",
      "ihihh\n"
     ]
    }
   ],
   "source": [
    "#Q9 Write a Python program to remove all whitespaces from a string.\n",
    "st1= input('Enter a string with some white spaces')\n",
    "print('Given string is:',st1)\n",
    "print('string after elimination of white space is:')\n",
    "print(re.sub(r'\\s+', '',st1))"
   ]
  },
  {
   "cell_type": "code",
   "execution_count": 67,
   "id": "0b48e140",
   "metadata": {},
   "outputs": [
    {
     "name": "stdout",
     "output_type": "stream",
     "text": [
      "Enter a string with some non alphanumeric and alphanumeric charactersalphanumeric characterss#\n",
      "Given string is: alphanumeric characterss#\n",
      "string after elimination of characters other than alphanumeric characters is:\n",
      "alphanumericcharacterss\n"
     ]
    }
   ],
   "source": [
    "#Q10 Write a Python program to remove everything except alphanumeric characters from a string.\n",
    "st1= input('Enter a string with some non alphanumeric and alphanumeric characters')\n",
    "print('Given string is:',st1)\n",
    "print('string after elimination of characters other than alphanumeric characters is:')\n",
    "pattern = re.compile('[\\W_]+')\n",
    "print(pattern.sub('', st1))"
   ]
  },
  {
   "cell_type": "code",
   "execution_count": 68,
   "id": "a243f9fe",
   "metadata": {},
   "outputs": [
    {
     "name": "stdout",
     "output_type": "stream",
     "text": [
      "Enter a string with at least one URLhttp://bibek shiwakoti\n",
      "Given string is: http://bibek shiwakoti\n",
      "url in a given string is: ['http://bibek']\n"
     ]
    }
   ],
   "source": [
    "#Q11 Write a Python program to find URLs in a string.\n",
    "st1 = input('Enter a string with at least one URL')\n",
    "print('Given string is:',st1)\n",
    "url = re.findall('http[s]?://(?:[a-zA-Z]|[0-9]|[$-_@.&+]|[!*\\(\\),]|(?:%[0-9a-fA-F][0-9a-fA-F]))+', st1)\n",
    "print('url in a given string is:',url)"
   ]
  },
  {
   "cell_type": "code",
   "execution_count": 73,
   "id": "2e29c0cc",
   "metadata": {},
   "outputs": [
    {
     "name": "stdout",
     "output_type": "stream",
     "text": [
      "Enter some string in Pascal case I will split them in uppercase letters:vas\n",
      "given string is: vas\n",
      "following are the converted words in uppercase:\n",
      "[]\n"
     ]
    }
   ],
   "source": [
    "#Q12 Write a Python program to split a string into uppercase letters.\n",
    "a= input('Enter some string in Pascal case I will split them in uppercase letters:')\n",
    "print('given string is:',a)\n",
    "print('following are the converted words in uppercase:')\n",
    "print(re.findall('[A-Z][^A-Z]*', a))\n",
    "\n"
   ]
  },
  {
   "cell_type": "code",
   "execution_count": 77,
   "id": "c43599be",
   "metadata": {},
   "outputs": [
    {
     "name": "stdout",
     "output_type": "stream",
     "text": [
      "Original Text:  NLP Exercises\n",
      "Using 'nlp' replace NLP\n",
      "New Text:  nlp Exercises\n"
     ]
    }
   ],
   "source": [
    "#Q13 Write a Python program to do case-insensitive string replacement.\n",
    "\n",
    "text = \"NLP Exercises\"\n",
    "print(\"Original Text: \",text)\n",
    "redata = re.compile(re.escape('nlp'), re.IGNORECASE)\n",
    "new_text = redata.sub('nlp', 'NLP Exercises')\n",
    "print(\"Using 'nlp' replace NLP\") \n",
    "print(\"New Text: \",new_text)"
   ]
  },
  {
   "cell_type": "code",
   "execution_count": 75,
   "id": "61fd87a7",
   "metadata": {},
   "outputs": [
    {
     "name": "stdout",
     "output_type": "stream",
     "text": [
      "Nlp\n",
      "Nlp Exercises\n",
      "Nlp Exercises Practice Questions\n"
     ]
    }
   ],
   "source": [
    "#Q14 Write a Python program to insert spaces between words starting with capital letters.\n",
    "def cap_word_space(str1):\n",
    "  return re.sub(r\"(\\w)([A-Z])\", r\"\\1 \\2\", str1)\n",
    "\n",
    "print(cap_word_space(\"Nlp\"))\n",
    "print(cap_word_space(\"NlpExercises\"))\n",
    "print(cap_word_space(\"NlpExercisesPracticeQuestions\"))\n",
    "\n"
   ]
  },
  {
   "cell_type": "code",
   "execution_count": null,
   "id": "d689b370",
   "metadata": {},
   "outputs": [],
   "source": []
  }
 ],
 "metadata": {
  "kernelspec": {
   "display_name": "Python 3 (ipykernel)",
   "language": "python",
   "name": "python3"
  },
  "language_info": {
   "codemirror_mode": {
    "name": "ipython",
    "version": 3
   },
   "file_extension": ".py",
   "mimetype": "text/x-python",
   "name": "python",
   "nbconvert_exporter": "python",
   "pygments_lexer": "ipython3",
   "version": "3.10.9"
  }
 },
 "nbformat": 4,
 "nbformat_minor": 5
}
