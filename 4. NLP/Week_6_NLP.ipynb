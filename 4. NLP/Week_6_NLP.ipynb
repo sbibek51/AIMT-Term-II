{
 "cells": [
  {
   "cell_type": "code",
   "execution_count": 1,
   "id": "6ac96305",
   "metadata": {},
   "outputs": [],
   "source": [
    "#Feb 15\n",
    "#March 7 is the first exam i.e. midterm of NLP"
   ]
  },
  {
   "cell_type": "code",
   "execution_count": null,
   "id": "d8ca8bec",
   "metadata": {},
   "outputs": [],
   "source": []
  },
  {
   "cell_type": "code",
   "execution_count": 2,
   "id": "3f21e92b",
   "metadata": {},
   "outputs": [],
   "source": [
    "# Similarity between words"
   ]
  },
  {
   "cell_type": "code",
   "execution_count": 36,
   "id": "b03ae9aa",
   "metadata": {},
   "outputs": [],
   "source": [
    "import nltk\n",
    "from nltk.corpus import wordnet\n",
    "\n"
   ]
  },
  {
   "cell_type": "markdown",
   "id": "2d3e7940",
   "metadata": {},
   "source": [
    "## WordNet (synsets)"
   ]
  },
  {
   "cell_type": "markdown",
   "id": "5cea07c8",
   "metadata": {},
   "source": [
    "### wordnet is a large lexical database of English. Nouns , verbs , adjectives and adverbs are grouped into sets of cognitive \n",
    "### synonyms (synsets) each expressing a distinct concept. stnsets are interlinked by means if conceptual - semantic and lexical \n",
    "### relation"
   ]
  },
  {
   "cell_type": "markdown",
   "id": "8d6070a9",
   "metadata": {},
   "source": [
    "### synstes are used to store synonyms , where each word in synsets  shares the same meaning"
   ]
  },
  {
   "cell_type": "code",
   "execution_count": 39,
   "id": "cbacb1d0",
   "metadata": {},
   "outputs": [
    {
     "name": "stdout",
     "output_type": "stream",
     "text": [
      "syns: [Synset('jump.n.01'), Synset('leap.n.02'), Synset('jump.n.03'), Synset('startle.n.01'), Synset('jump.n.05'), Synset('jump.n.06'), Synset('jump.v.01'), Synset('startle.v.02'), Synset('jump.v.03'), Synset('jump.v.04'), Synset('leap_out.v.01'), Synset('jump.v.06'), Synset('rise.v.11'), Synset('jump.v.08'), Synset('derail.v.02'), Synset('chute.v.01'), Synset('jump.v.11'), Synset('jumpstart.v.01'), Synset('jump.v.13'), Synset('leap.v.02'), Synset('alternate.v.01')]\n"
     ]
    }
   ],
   "source": [
    "# we are going to use the term \"jump\" to find synset like so :\n",
    "syns = wordnet.synsets(\"jump\")\n",
    "print(\"syns:\",syns)"
   ]
  },
  {
   "cell_type": "code",
   "execution_count": 40,
   "id": "ae2051dd",
   "metadata": {},
   "outputs": [
    {
     "name": "stdout",
     "output_type": "stream",
     "text": [
      "jump.n.01\n"
     ]
    }
   ],
   "source": [
    "# an example of synsets\n",
    "print(syns[0].name())"
   ]
  },
  {
   "cell_type": "code",
   "execution_count": 41,
   "id": "2ecec6f1",
   "metadata": {},
   "outputs": [
    {
     "name": "stdout",
     "output_type": "stream",
     "text": [
      "jump\n"
     ]
    }
   ],
   "source": [
    "# just the word\n",
    "print(syns[0].lemmas()[0].name())"
   ]
  },
  {
   "cell_type": "code",
   "execution_count": 42,
   "id": "248f52aa",
   "metadata": {},
   "outputs": [
    {
     "name": "stdout",
     "output_type": "stream",
     "text": [
      "Definition of the word: a sudden and decisive increase\n"
     ]
    }
   ],
   "source": [
    "# definition of that first synset\n",
    "print('Definition of the word:',syns[0].definition())\n"
   ]
  },
  {
   "cell_type": "code",
   "execution_count": 43,
   "id": "d9826bad",
   "metadata": {},
   "outputs": [
    {
     "name": "stdout",
     "output_type": "stream",
     "text": [
      "Examples of the word in use in sentences : ['a jump in attendance']\n"
     ]
    }
   ],
   "source": [
    "# Example of the word in use in sentences\n",
    "print('Examples of the word in use in sentences :',syns[0].examples())"
   ]
  },
  {
   "cell_type": "code",
   "execution_count": 35,
   "id": "7e7c1ae8",
   "metadata": {},
   "outputs": [
    {
     "name": "stdout",
     "output_type": "stream",
     "text": [
      "0.9090909090909091\n"
     ]
    }
   ],
   "source": [
    "# let's compare the noun of \"ship\" and \"boat\"\n",
    "w1 = wordnet.synset('ship.n.01')\n",
    "w2 = wordnet.synset('boat.n.01') #n denotes noun\n",
    "\n",
    "print(w1.wup_similarity(w2))\n"
   ]
  },
  {
   "cell_type": "code",
   "execution_count": 6,
   "id": "d34954fa",
   "metadata": {},
   "outputs": [],
   "source": [
    "# re.compile()"
   ]
  },
  {
   "cell_type": "code",
   "execution_count": 7,
   "id": "5cb89fd4",
   "metadata": {},
   "outputs": [],
   "source": [
    "import re"
   ]
  },
  {
   "cell_type": "code",
   "execution_count": 8,
   "id": "81fcc12f",
   "metadata": {},
   "outputs": [],
   "source": [
    "#Target string one"
   ]
  },
  {
   "cell_type": "code",
   "execution_count": 13,
   "id": "f3a91d2d",
   "metadata": {},
   "outputs": [],
   "source": [
    "str1 =\"Emma's luck numbers are 251 761 231 451\"\n",
    "\n",
    "#pattern to find three consecutives digits\n",
    "\n",
    "string_pattern= r'\\d{3}'\n",
    "#compile string pattern to re.Pattern object\n",
    "regex_pattern =re.compile(string_pattern)"
   ]
  },
  {
   "cell_type": "code",
   "execution_count": 14,
   "id": "49a9cead",
   "metadata": {},
   "outputs": [
    {
     "name": "stdout",
     "output_type": "stream",
     "text": [
      "<class 're.Pattern'>\n"
     ]
    }
   ],
   "source": [
    "#print the type of compiled pattern\n",
    "print(type(regex_pattern))"
   ]
  },
  {
   "cell_type": "code",
   "execution_count": 15,
   "id": "0a51d794",
   "metadata": {},
   "outputs": [
    {
     "name": "stdout",
     "output_type": "stream",
     "text": [
      "output from str1: ['251', '761', '231', '451']\n"
     ]
    }
   ],
   "source": [
    "#find all the matches in string one\n",
    "result= regex_pattern.findall(str1)\n",
    "print('output from str1:',result)"
   ]
  },
  {
   "cell_type": "code",
   "execution_count": 17,
   "id": "36620c0e",
   "metadata": {},
   "outputs": [
    {
     "name": "stdout",
     "output_type": "stream",
     "text": [
      "output from str2: ['111', '212', '415', '121']\n"
     ]
    }
   ],
   "source": [
    "#target string two\n",
    "str2 =\"Kellt 's 33 luck numbers are 111 212 415 12124\"\n",
    "# fint all the matches in second string by reusing the same pattern\n",
    "result = regex_pattern.findall(str2)\n",
    "print('output from str2:',result)"
   ]
  },
  {
   "cell_type": "code",
   "execution_count": 18,
   "id": "b1717b05",
   "metadata": {},
   "outputs": [],
   "source": [
    "# fixing word lengthening"
   ]
  },
  {
   "cell_type": "code",
   "execution_count": 19,
   "id": "300ee085",
   "metadata": {},
   "outputs": [
    {
     "name": "stdout",
     "output_type": "stream",
     "text": [
      "book\n"
     ]
    }
   ],
   "source": [
    "def remove_lenghening(text):\n",
    "    patt = re.compile(r\"(.)\\1{2,}\")\n",
    "    return patt.sub(r\"\\1\\1\",text)\n",
    "\n",
    "\n",
    "print(remove_lenghening('boooook'))\n",
    "\n",
    "\n",
    "# 60% mcq and 40% coding\n",
    "# 15-20 mcq questions\n",
    "# individual assignment 25 feb\n",
    "#exam march 7\n"
   ]
  },
  {
   "cell_type": "code",
   "execution_count": 21,
   "id": "557ed744",
   "metadata": {},
   "outputs": [
    {
     "name": "stdout",
     "output_type": "stream",
     "text": [
      "Collecting autocorrect\n",
      "  Downloading autocorrect-2.6.1.tar.gz (622 kB)\n",
      "     ------------------------------------ 622.8/622.8 kB 602.9 kB/s eta 0:00:00\n",
      "  Preparing metadata (setup.py): started\n",
      "  Preparing metadata (setup.py): finished with status 'done'\n",
      "Installing collected packages: autocorrect\n",
      "  Running setup.py install for autocorrect: started\n",
      "  Running setup.py install for autocorrect: finished with status 'done'\n",
      "Successfully installed autocorrect-2.6.1\n",
      "Note: you may need to restart the kernel to use updated packages.\n"
     ]
    },
    {
     "name": "stderr",
     "output_type": "stream",
     "text": [
      "  DEPRECATION: autocorrect is being installed using the legacy 'setup.py install' method, because it does not have a 'pyproject.toml' and the 'wheel' package is not installed. pip 23.1 will enforce this behaviour change. A possible replacement is to enable the '--use-pep517' option. Discussion can be found at https://github.com/pypa/pip/issues/8559\n",
      "\n",
      "[notice] A new release of pip available: 22.3.1 -> 24.0\n",
      "[notice] To update, run: python.exe -m pip install --upgrade pip\n"
     ]
    }
   ],
   "source": [
    "pip install autocorrect\n"
   ]
  },
  {
   "cell_type": "code",
   "execution_count": 28,
   "id": "03f1bdd5",
   "metadata": {},
   "outputs": [
    {
     "name": "stdout",
     "output_type": "stream",
     "text": [
      "message\n",
      "service\n",
      "the\n",
      "car\n"
     ]
    }
   ],
   "source": [
    "# spell checker\n",
    "from autocorrect import Speller\n",
    "spell = Speller(lang='en')\n",
    "print(spell('mussage'))\n",
    "print(spell('survice'))\n",
    "print(spell('hte'))\n",
    "print(spell('caaar'))\n"
   ]
  },
  {
   "cell_type": "code",
   "execution_count": 29,
   "id": "d26ea139",
   "metadata": {},
   "outputs": [
    {
     "name": "stdout",
     "output_type": "stream",
     "text": [
      "Collecting pattern\n",
      "  Downloading Pattern-3.6.0.tar.gz (22.2 MB)\n",
      "     ---------------------------------------- 22.2/22.2 MB 5.9 MB/s eta 0:00:00\n",
      "  Preparing metadata (setup.py): started\n",
      "  Preparing metadata (setup.py): finished with status 'done'\n",
      "Collecting future\n",
      "  Downloading future-0.18.3.tar.gz (840 kB)\n",
      "     -------------------------------------- 840.9/840.9 kB 2.4 MB/s eta 0:00:00\n",
      "  Preparing metadata (setup.py): started\n",
      "  Preparing metadata (setup.py): finished with status 'done'\n",
      "Collecting backports.csv\n",
      "  Downloading backports.csv-1.0.7-py2.py3-none-any.whl (12 kB)\n",
      "Collecting mysqlclient\n",
      "  Downloading mysqlclient-2.2.4-cp311-cp311-win_amd64.whl (203 kB)\n",
      "     -------------------------------------- 203.2/203.2 kB 4.1 MB/s eta 0:00:00\n",
      "Requirement already satisfied: beautifulsoup4 in c:\\users\\travelmate\\appdata\\local\\programs\\python\\python311\\lib\\site-packages (from pattern) (4.12.2)\n",
      "Collecting lxml\n",
      "  Downloading lxml-5.1.0-cp311-cp311-win_amd64.whl (3.9 MB)\n",
      "     ---------------------------------------- 3.9/3.9 MB 6.1 MB/s eta 0:00:00\n",
      "Collecting feedparser\n",
      "  Downloading feedparser-6.0.11-py3-none-any.whl (81 kB)\n",
      "     ---------------------------------------- 81.3/81.3 kB 4.4 MB/s eta 0:00:00\n",
      "Collecting pdfminer.six\n",
      "  Downloading pdfminer.six-20231228-py3-none-any.whl (5.6 MB)\n",
      "     ---------------------------------------- 5.6/5.6 MB 7.8 MB/s eta 0:00:00\n",
      "Requirement already satisfied: numpy in c:\\users\\travelmate\\appdata\\local\\programs\\python\\python311\\lib\\site-packages (from pattern) (1.25.1)\n",
      "Requirement already satisfied: scipy in c:\\users\\travelmate\\appdata\\local\\programs\\python\\python311\\lib\\site-packages (from pattern) (1.11.1)\n",
      "Requirement already satisfied: nltk in c:\\users\\travelmate\\appdata\\local\\programs\\python\\python311\\lib\\site-packages (from pattern) (3.8.1)\n",
      "Collecting python-docx\n",
      "  Downloading python_docx-1.1.0-py3-none-any.whl (239 kB)\n",
      "     -------------------------------------- 239.6/239.6 kB 7.2 MB/s eta 0:00:00\n",
      "Collecting cherrypy\n",
      "  Downloading CherryPy-18.9.0-py3-none-any.whl (348 kB)\n",
      "     ------------------------------------- 348.8/348.8 kB 10.9 MB/s eta 0:00:00\n",
      "Requirement already satisfied: requests in c:\\users\\travelmate\\appdata\\local\\programs\\python\\python311\\lib\\site-packages (from pattern) (2.31.0)\n",
      "Requirement already satisfied: soupsieve>1.2 in c:\\users\\travelmate\\appdata\\local\\programs\\python\\python311\\lib\\site-packages (from beautifulsoup4->pattern) (2.4.1)\n",
      "Collecting cheroot>=8.2.1\n",
      "  Downloading cheroot-10.0.0-py3-none-any.whl (101 kB)\n",
      "     ---------------------------------------- 101.6/101.6 kB ? eta 0:00:00\n",
      "Collecting portend>=2.1.1\n",
      "  Downloading portend-3.2.0-py3-none-any.whl (5.3 kB)\n",
      "Collecting more-itertools\n",
      "  Downloading more_itertools-10.2.0-py3-none-any.whl (57 kB)\n",
      "     ---------------------------------------- 57.0/57.0 kB 2.9 MB/s eta 0:00:00\n",
      "Collecting zc.lockfile\n",
      "  Downloading zc.lockfile-3.0.post1-py3-none-any.whl (9.8 kB)\n",
      "Collecting jaraco.collections\n",
      "  Downloading jaraco.collections-5.0.0-py3-none-any.whl (10 kB)\n",
      "Collecting sgmllib3k\n",
      "  Downloading sgmllib3k-1.0.0.tar.gz (5.8 kB)\n",
      "  Preparing metadata (setup.py): started\n",
      "  Preparing metadata (setup.py): finished with status 'done'\n",
      "Requirement already satisfied: click in c:\\users\\travelmate\\appdata\\local\\programs\\python\\python311\\lib\\site-packages (from nltk->pattern) (8.1.7)\n",
      "Requirement already satisfied: joblib in c:\\users\\travelmate\\appdata\\local\\programs\\python\\python311\\lib\\site-packages (from nltk->pattern) (1.3.2)\n",
      "Requirement already satisfied: regex>=2021.8.3 in c:\\users\\travelmate\\appdata\\local\\programs\\python\\python311\\lib\\site-packages (from nltk->pattern) (2023.12.25)\n",
      "Requirement already satisfied: tqdm in c:\\users\\travelmate\\appdata\\local\\programs\\python\\python311\\lib\\site-packages (from nltk->pattern) (4.66.1)\n",
      "Requirement already satisfied: charset-normalizer>=2.0.0 in c:\\users\\travelmate\\appdata\\local\\programs\\python\\python311\\lib\\site-packages (from pdfminer.six->pattern) (3.3.2)\n",
      "Collecting cryptography>=36.0.0\n",
      "  Downloading cryptography-42.0.2-cp39-abi3-win_amd64.whl (2.9 MB)\n",
      "     ---------------------------------------- 2.9/2.9 MB 5.1 MB/s eta 0:00:00\n",
      "Requirement already satisfied: typing-extensions in c:\\users\\travelmate\\appdata\\local\\programs\\python\\python311\\lib\\site-packages (from python-docx->pattern) (4.7.1)\n",
      "Requirement already satisfied: idna<4,>=2.5 in c:\\users\\travelmate\\appdata\\local\\programs\\python\\python311\\lib\\site-packages (from requests->pattern) (3.4)\n",
      "Requirement already satisfied: urllib3<3,>=1.21.1 in c:\\users\\travelmate\\appdata\\local\\programs\\python\\python311\\lib\\site-packages (from requests->pattern) (2.2.0)\n",
      "Requirement already satisfied: certifi>=2017.4.17 in c:\\users\\travelmate\\appdata\\local\\programs\\python\\python311\\lib\\site-packages (from requests->pattern) (2024.2.2)\n",
      "Collecting jaraco.functools\n",
      "  Downloading jaraco.functools-4.0.0-py3-none-any.whl (9.8 kB)\n",
      "Requirement already satisfied: cffi>=1.12 in c:\\users\\travelmate\\appdata\\local\\programs\\python\\python311\\lib\\site-packages (from cryptography>=36.0.0->pdfminer.six->pattern) (1.15.1)\n",
      "Collecting tempora>=1.8\n",
      "  Downloading tempora-5.5.0-py3-none-any.whl (13 kB)\n",
      "Requirement already satisfied: colorama in c:\\users\\travelmate\\appdata\\local\\programs\\python\\python311\\lib\\site-packages (from click->nltk->pattern) (0.4.6)\n",
      "Collecting jaraco.text\n",
      "  Downloading jaraco.text-3.12.0-py3-none-any.whl (11 kB)\n",
      "Requirement already satisfied: setuptools in c:\\users\\travelmate\\appdata\\local\\programs\\python\\python311\\lib\\site-packages (from zc.lockfile->cherrypy->pattern) (65.5.0)\n",
      "Requirement already satisfied: pycparser in c:\\users\\travelmate\\appdata\\local\\programs\\python\\python311\\lib\\site-packages (from cffi>=1.12->cryptography>=36.0.0->pdfminer.six->pattern) (2.21)\n",
      "Requirement already satisfied: pytz in c:\\users\\travelmate\\appdata\\local\\programs\\python\\python311\\lib\\site-packages (from tempora>=1.8->portend>=2.1.1->cherrypy->pattern) (2023.3)\n",
      "Collecting jaraco.context>=4.1\n",
      "  Downloading jaraco.context-4.3.0-py3-none-any.whl (5.3 kB)\n",
      "Collecting autocommand\n",
      "  Downloading autocommand-2.2.2-py3-none-any.whl (19 kB)\n",
      "Collecting inflect\n",
      "  Downloading inflect-7.0.0-py3-none-any.whl (34 kB)\n",
      "Collecting pydantic>=1.9.1\n",
      "  Downloading pydantic-2.6.1-py3-none-any.whl (394 kB)\n",
      "     -------------------------------------- 394.8/394.8 kB 4.1 MB/s eta 0:00:00\n",
      "Collecting annotated-types>=0.4.0\n",
      "  Using cached annotated_types-0.6.0-py3-none-any.whl (12 kB)\n",
      "Collecting pydantic-core==2.16.2\n",
      "  Downloading pydantic_core-2.16.2-cp311-none-win_amd64.whl (1.9 MB)\n",
      "     ---------------------------------------- 1.9/1.9 MB 6.0 MB/s eta 0:00:00\n",
      "Installing collected packages: sgmllib3k, backports.csv, zc.lockfile, pydantic-core, mysqlclient, more-itertools, lxml, jaraco.context, future, feedparser, autocommand, annotated-types, python-docx, pydantic, jaraco.functools, cryptography, tempora, pdfminer.six, inflect, cheroot, portend, jaraco.text, jaraco.collections, cherrypy, pattern\n",
      "  Running setup.py install for sgmllib3k: started\n",
      "  Running setup.py install for sgmllib3k: finished with status 'done'\n",
      "  Running setup.py install for future: started\n",
      "  Running setup.py install for future: finished with status 'done'\n",
      "  Running setup.py install for pattern: started\n",
      "  Running setup.py install for pattern: finished with status 'done'\n",
      "Successfully installed annotated-types-0.6.0 autocommand-2.2.2 backports.csv-1.0.7 cheroot-10.0.0 cherrypy-18.9.0 cryptography-42.0.2 feedparser-6.0.11 future-0.18.3 inflect-7.0.0 jaraco.collections-5.0.0 jaraco.context-4.3.0 jaraco.functools-4.0.0 jaraco.text-3.12.0 lxml-5.1.0 more-itertools-10.2.0 mysqlclient-2.2.4 pattern-3.6 pdfminer.six-20231228 portend-3.2.0 pydantic-2.6.1 pydantic-core-2.16.2 python-docx-1.1.0 sgmllib3k-1.0.0 tempora-5.5.0 zc.lockfile-3.0.post1\n",
      "Note: you may need to restart the kernel to use updated packages.\n"
     ]
    },
    {
     "name": "stderr",
     "output_type": "stream",
     "text": [
      "  DEPRECATION: sgmllib3k is being installed using the legacy 'setup.py install' method, because it does not have a 'pyproject.toml' and the 'wheel' package is not installed. pip 23.1 will enforce this behaviour change. A possible replacement is to enable the '--use-pep517' option. Discussion can be found at https://github.com/pypa/pip/issues/8559\n",
      "  DEPRECATION: future is being installed using the legacy 'setup.py install' method, because it does not have a 'pyproject.toml' and the 'wheel' package is not installed. pip 23.1 will enforce this behaviour change. A possible replacement is to enable the '--use-pep517' option. Discussion can be found at https://github.com/pypa/pip/issues/8559\n",
      "  DEPRECATION: pattern is being installed using the legacy 'setup.py install' method, because it does not have a 'pyproject.toml' and the 'wheel' package is not installed. pip 23.1 will enforce this behaviour change. A possible replacement is to enable the '--use-pep517' option. Discussion can be found at https://github.com/pypa/pip/issues/8559\n",
      "\n",
      "[notice] A new release of pip available: 22.3.1 -> 24.0\n",
      "[notice] To update, run: python.exe -m pip install --upgrade pip\n"
     ]
    }
   ],
   "source": [
    "pip install pattern"
   ]
  },
  {
   "cell_type": "code",
   "execution_count": 32,
   "id": "0d4d232d",
   "metadata": {},
   "outputs": [],
   "source": [
    "from pattern.en import suggest"
   ]
  },
  {
   "cell_type": "code",
   "execution_count": 34,
   "id": "d30a36bc",
   "metadata": {},
   "outputs": [
    {
     "name": "stdout",
     "output_type": "stream",
     "text": [
      "[('message', 0.6216216216216216), ('massage', 0.3783783783783784)]\n",
      "[('service', 0.9253112033195021), ('survive', 0.07468879668049792)]\n",
      "[('the', 0.8653201565642368), ('he', 0.13408515883485067), ('ate', 0.00022706139307570876), ('hate', 0.0002162489457863893), ('hue', 0.00012974936747183358), ('te', 1.0812447289319465e-05), ('htm', 1.0812447289319465e-05)]\n",
      "[('caesar', 0.6666666666666666), ('bazaar', 0.3333333333333333)]\n"
     ]
    }
   ],
   "source": [
    "print(suggest('mussage'))\n",
    "print(suggest('survice'))\n",
    "print(suggest('hte'))\n",
    "print(suggest('caaaar'))"
   ]
  },
  {
   "cell_type": "code",
   "execution_count": null,
   "id": "5e9f5c0c",
   "metadata": {},
   "outputs": [],
   "source": [
    "\n",
    "\n",
    "\n",
    "\n",
    "\n"
   ]
  },
  {
   "cell_type": "code",
   "execution_count": null,
   "id": "8212e203",
   "metadata": {},
   "outputs": [],
   "source": []
  },
  {
   "cell_type": "code",
   "execution_count": null,
   "id": "493a0c39",
   "metadata": {},
   "outputs": [],
   "source": [
    "# NEXT WEEK IS MODULE 5 AND WHICH WILL BE ON THE MIDTERM AS WELL"
   ]
  }
 ],
 "metadata": {
  "kernelspec": {
   "display_name": "Python 3 (ipykernel)",
   "language": "python",
   "name": "python3"
  },
  "language_info": {
   "codemirror_mode": {
    "name": "ipython",
    "version": 3
   },
   "file_extension": ".py",
   "mimetype": "text/x-python",
   "name": "python",
   "nbconvert_exporter": "python",
   "pygments_lexer": "ipython3",
   "version": "3.11.3"
  }
 },
 "nbformat": 4,
 "nbformat_minor": 5
}
