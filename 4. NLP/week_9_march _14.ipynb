{
 "cells": [
  {
   "cell_type": "code",
   "execution_count": 3,
   "id": "69217db9",
   "metadata": {},
   "outputs": [
    {
     "name": "stdout",
     "output_type": "stream",
     "text": [
      "Collecting vaderSentiment\n",
      "  Downloading vaderSentiment-3.3.2-py2.py3-none-any.whl (125 kB)\n",
      "     ------------------------------------- 126.0/126.0 kB 56.1 kB/s eta 0:00:00\n",
      "Requirement already satisfied: requests in c:\\users\\travelmate\\appdata\\local\\programs\\python\\python311\\lib\\site-packages (from vaderSentiment) (2.31.0)\n",
      "Requirement already satisfied: charset-normalizer<4,>=2 in c:\\users\\travelmate\\appdata\\local\\programs\\python\\python311\\lib\\site-packages (from requests->vaderSentiment) (3.3.2)\n",
      "Requirement already satisfied: idna<4,>=2.5 in c:\\users\\travelmate\\appdata\\local\\programs\\python\\python311\\lib\\site-packages (from requests->vaderSentiment) (3.4)\n",
      "Requirement already satisfied: urllib3<3,>=1.21.1 in c:\\users\\travelmate\\appdata\\local\\programs\\python\\python311\\lib\\site-packages (from requests->vaderSentiment) (2.2.0)\n",
      "Requirement already satisfied: certifi>=2017.4.17 in c:\\users\\travelmate\\appdata\\local\\programs\\python\\python311\\lib\\site-packages (from requests->vaderSentiment) (2024.2.2)\n",
      "Installing collected packages: vaderSentiment\n",
      "Successfully installed vaderSentiment-3.3.2\n",
      "Note: you may need to restart the kernel to use updated packages.\n"
     ]
    },
    {
     "name": "stderr",
     "output_type": "stream",
     "text": [
      "\n",
      "[notice] A new release of pip available: 22.3.1 -> 24.0\n",
      "[notice] To update, run: C:\\Users\\TravelMate\\AppData\\Local\\Programs\\Python\\Python311\\python.exe -m pip install --upgrade pip\n"
     ]
    }
   ],
   "source": [
    "pip install vaderSentiment"
   ]
  },
  {
   "cell_type": "code",
   "execution_count": 4,
   "id": "a7c3df1e",
   "metadata": {},
   "outputs": [],
   "source": [
    "from vaderSentiment.vaderSentiment import SentimentIntensityAnalyzer"
   ]
  },
  {
   "cell_type": "code",
   "execution_count": 5,
   "id": "5e2083f4",
   "metadata": {},
   "outputs": [],
   "source": [
    "analyser = SentimentIntensityAnalyzer()"
   ]
  },
  {
   "cell_type": "code",
   "execution_count": 10,
   "id": "c16c25ff",
   "metadata": {},
   "outputs": [],
   "source": [
    "sentence = \"This car is  cool\""
   ]
  },
  {
   "cell_type": "code",
   "execution_count": 9,
   "id": "c577ae9a",
   "metadata": {},
   "outputs": [
    {
     "data": {
      "text/plain": [
       "{'neg': 0.0, 'neu': 0.607, 'pos': 0.393, 'compound': 0.3804}"
      ]
     },
     "execution_count": 9,
     "metadata": {},
     "output_type": "execute_result"
    }
   ],
   "source": [
    "analyser.polarity_scores(sentence)"
   ]
  },
  {
   "cell_type": "code",
   "execution_count": 19,
   "id": "8b5f2eb0",
   "metadata": {},
   "outputs": [],
   "source": [
    "sentence = \"This car is  cOOl!!\""
   ]
  },
  {
   "cell_type": "code",
   "execution_count": 20,
   "id": "300e7e1d",
   "metadata": {},
   "outputs": [
    {
     "data": {
      "text/plain": [
       "{'neg': 0.0, 'neu': 0.51, 'pos': 0.49, 'compound': 0.4374}"
      ]
     },
     "execution_count": 20,
     "metadata": {},
     "output_type": "execute_result"
    }
   ],
   "source": [
    "analyser.polarity_scores(sentence)"
   ]
  },
  {
   "cell_type": "code",
   "execution_count": 25,
   "id": "aba37e32",
   "metadata": {},
   "outputs": [],
   "source": [
    "sentence = \"This car is  cOOl\""
   ]
  },
  {
   "cell_type": "code",
   "execution_count": 26,
   "id": "c8bf2776",
   "metadata": {},
   "outputs": [
    {
     "data": {
      "text/plain": [
       "{'neg': 0.0, 'neu': 0.566, 'pos': 0.434, 'compound': 0.3182}"
      ]
     },
     "execution_count": 26,
     "metadata": {},
     "output_type": "execute_result"
    }
   ],
   "source": [
    "analyser.polarity_scores(sentence)"
   ]
  },
  {
   "cell_type": "code",
   "execution_count": 15,
   "id": "7793b52b",
   "metadata": {},
   "outputs": [],
   "source": [
    "sentence_2 = \"This car is dirty garbage\""
   ]
  },
  {
   "cell_type": "code",
   "execution_count": 16,
   "id": "f011b61d",
   "metadata": {},
   "outputs": [
    {
     "data": {
      "text/plain": [
       "{'neg': 0.42, 'neu': 0.58, 'pos': 0.0, 'compound': -0.4404}"
      ]
     },
     "execution_count": 16,
     "metadata": {},
     "output_type": "execute_result"
    }
   ],
   "source": [
    "analyser.polarity_scores(sentence_2)"
   ]
  },
  {
   "cell_type": "code",
   "execution_count": 27,
   "id": "2df3dd0f",
   "metadata": {},
   "outputs": [],
   "source": [
    "sentence_3 = \"This car is a bit cool\""
   ]
  },
  {
   "cell_type": "code",
   "execution_count": 28,
   "id": "15ecb4c1",
   "metadata": {},
   "outputs": [
    {
     "data": {
      "text/plain": [
       "{'neg': 0.0, 'neu': 0.685, 'pos': 0.315, 'compound': 0.3182}"
      ]
     },
     "execution_count": 28,
     "metadata": {},
     "output_type": "execute_result"
    }
   ],
   "source": [
    "analyser.polarity_scores(sentence_3)"
   ]
  },
  {
   "cell_type": "code",
   "execution_count": 34,
   "id": "ae331667",
   "metadata": {},
   "outputs": [],
   "source": [
    "sentence_4 = 'I enjoyed your hotel food.'"
   ]
  },
  {
   "cell_type": "code",
   "execution_count": 33,
   "id": "e7dc26fd",
   "metadata": {},
   "outputs": [
    {
     "data": {
      "text/plain": [
       "{'neg': 0.0, 'neu': 0.548, 'pos': 0.452, 'compound': 0.5106}"
      ]
     },
     "execution_count": 33,
     "metadata": {},
     "output_type": "execute_result"
    }
   ],
   "source": [
    "analyser.polarity_scores(sentence_4)"
   ]
  },
  {
   "cell_type": "code",
   "execution_count": 35,
   "id": "6c151a4b",
   "metadata": {},
   "outputs": [],
   "source": [
    "sentence_5 = \"I enjoyed your hotel food, but I didn't like the way waiters offer their services.\""
   ]
  },
  {
   "cell_type": "code",
   "execution_count": 36,
   "id": "10ab6394",
   "metadata": {},
   "outputs": [
    {
     "data": {
      "text/plain": [
       "{'neg': 0.15, 'neu': 0.73, 'pos': 0.121, 'compound': -0.1318}"
      ]
     },
     "execution_count": 36,
     "metadata": {},
     "output_type": "execute_result"
    }
   ],
   "source": [
    "analyser.polarity_scores(sentence_5)"
   ]
  },
  {
   "cell_type": "code",
   "execution_count": 37,
   "id": "237424bf",
   "metadata": {},
   "outputs": [],
   "source": [
    "sentence_6 = \"your hotel service is great\""
   ]
  },
  {
   "cell_type": "code",
   "execution_count": 38,
   "id": "91c9c0aa",
   "metadata": {},
   "outputs": [
    {
     "data": {
      "text/plain": [
       "{'neg': 0.0, 'neu': 0.494, 'pos': 0.506, 'compound': 0.6249}"
      ]
     },
     "execution_count": 38,
     "metadata": {},
     "output_type": "execute_result"
    }
   ],
   "source": [
    "analyser.polarity_scores(sentence_6)"
   ]
  },
  {
   "cell_type": "code",
   "execution_count": 42,
   "id": "d1e8eb4c",
   "metadata": {},
   "outputs": [],
   "source": [
    "sentence_8 = \"your hotel is not that great\""
   ]
  },
  {
   "cell_type": "code",
   "execution_count": 43,
   "id": "566607dc",
   "metadata": {},
   "outputs": [
    {
     "data": {
      "text/plain": [
       "{'neg': 0.397, 'neu': 0.603, 'pos': 0.0, 'compound': -0.5096}"
      ]
     },
     "execution_count": 43,
     "metadata": {},
     "output_type": "execute_result"
    }
   ],
   "source": [
    "analyser.polarity_scores(sentence_8)"
   ]
  },
  {
   "cell_type": "code",
   "execution_count": null,
   "id": "8cdc461b",
   "metadata": {},
   "outputs": [],
   "source": []
  },
  {
   "cell_type": "code",
   "execution_count": null,
   "id": "16c81963",
   "metadata": {},
   "outputs": [],
   "source": []
  }
 ],
 "metadata": {
  "kernelspec": {
   "display_name": "Python 3 (ipykernel)",
   "language": "python",
   "name": "python3"
  },
  "language_info": {
   "codemirror_mode": {
    "name": "ipython",
    "version": 3
   },
   "file_extension": ".py",
   "mimetype": "text/x-python",
   "name": "python",
   "nbconvert_exporter": "python",
   "pygments_lexer": "ipython3",
   "version": "3.11.3"
  }
 },
 "nbformat": 4,
 "nbformat_minor": 5
}
