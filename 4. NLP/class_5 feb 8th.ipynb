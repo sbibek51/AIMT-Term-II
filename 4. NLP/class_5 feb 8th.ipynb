{
 "cells": [
  {
   "cell_type": "code",
   "execution_count": 152,
   "id": "b503ac9f",
   "metadata": {},
   "outputs": [],
   "source": [
    "#Bibek Shiwakoti\n",
    "# Feb 8th\n",
    "import nltk\n",
    "from nltk.tokenize import sent_tokenize,word_tokenize \n",
    "# from nltk.collocations import BiagramCollocationFinder\n",
    "from nltk.collocations import BigramCollocationFinder\n",
    "\n",
    "from nltk.metrics import BigramAssocMeasures\n",
    "from nltk.corpus import webtext\n",
    "from nltk.corpus import stopwords\n"
   ]
  },
  {
   "cell_type": "code",
   "execution_count": 153,
   "id": "37d521c2",
   "metadata": {},
   "outputs": [
    {
     "name": "stderr",
     "output_type": "stream",
     "text": [
      "[nltk_data] Error loading maxnet_ne_chunker: Package\n",
      "[nltk_data]     'maxnet_ne_chunker' not found in index\n",
      "[nltk_data] Downloading package words to\n",
      "[nltk_data]     C:\\Users\\TravelMate\\AppData\\Roaming\\nltk_data...\n",
      "[nltk_data]   Package words is already up-to-date!\n"
     ]
    },
    {
     "data": {
      "text/plain": [
       "True"
      ]
     },
     "execution_count": 153,
     "metadata": {},
     "output_type": "execute_result"
    }
   ],
   "source": [
    "nltk.download('maxnet_ne_chunker')\n",
    "nltk.download('words')"
   ]
  },
  {
   "cell_type": "code",
   "execution_count": 154,
   "id": "0be731b8",
   "metadata": {},
   "outputs": [],
   "source": [
    "myString ='Jack Nelson worked for Microsoft and attended a conference in Italy . I study at Lambton College in toronto '"
   ]
  },
  {
   "cell_type": "code",
   "execution_count": 155,
   "id": "02e5c19a",
   "metadata": {},
   "outputs": [],
   "source": [
    "sentences = sent_tokenize(myString)"
   ]
  },
  {
   "cell_type": "code",
   "execution_count": 156,
   "id": "22e649fd",
   "metadata": {},
   "outputs": [],
   "source": [
    "token_sentences = [word_tokenize(sent) for sent in sentences]"
   ]
  },
  {
   "cell_type": "code",
   "execution_count": 157,
   "id": "c4a54129",
   "metadata": {},
   "outputs": [],
   "source": [
    "pos_sentences = [nltk.pos_tag(sent) for sent in token_sentences]"
   ]
  },
  {
   "cell_type": "code",
   "execution_count": 158,
   "id": "4e78e021",
   "metadata": {},
   "outputs": [],
   "source": [
    "chunked_sentences = nltk.ne_chunk_sents(pos_sentences,binary =True)"
   ]
  },
  {
   "cell_type": "code",
   "execution_count": 159,
   "id": "db6ded0f",
   "metadata": {},
   "outputs": [
    {
     "data": {
      "text/plain": [
       "<generator object ParserI.parse_sents.<locals>.<genexpr> at 0x00000261C1DA6C00>"
      ]
     },
     "execution_count": 159,
     "metadata": {},
     "output_type": "execute_result"
    }
   ],
   "source": [
    "chunked_sentences"
   ]
  },
  {
   "cell_type": "code",
   "execution_count": 160,
   "id": "459fa0d1",
   "metadata": {},
   "outputs": [],
   "source": [
    "name_enteties=[]\n",
    "for sent in chunked_sentences:\n",
    "    for chunk in sent:\n",
    "        if hasattr (chunk,\"label\") and chunk.label()=='NE':\n",
    "            name_entity =' '.join(c[0] for c in chunk)\n",
    "            name_enteties.append(name_entity)"
   ]
  },
  {
   "cell_type": "code",
   "execution_count": 161,
   "id": "63b36534",
   "metadata": {},
   "outputs": [
    {
     "data": {
      "text/plain": [
       "['Jack Nelson', 'Microsoft', 'Italy', 'Lambton College']"
      ]
     },
     "execution_count": 161,
     "metadata": {},
     "output_type": "execute_result"
    }
   ],
   "source": [
    "name_enteties"
   ]
  },
  {
   "cell_type": "code",
   "execution_count": null,
   "id": "92758ffa",
   "metadata": {},
   "outputs": [],
   "source": []
  },
  {
   "cell_type": "markdown",
   "id": "fecf0c4a",
   "metadata": {},
   "source": [
    "## Bigram"
   ]
  },
  {
   "cell_type": "code",
   "execution_count": 204,
   "id": "76cced6c",
   "metadata": {},
   "outputs": [
    {
     "name": "stdout",
     "output_type": "stream",
     "text": [
      "[(\"'\", 's'), ('jack', 'sparrow'), (']', '['), ('will', 'turner'), ('sparrow', ':'), ('elizabeth', 'swann'), ('turner', ':'), ('davy', 'jones'), ('swann', ':'), (\"'\", 't')]\n"
     ]
    }
   ],
   "source": [
    "\n",
    "\n",
    "words = [w.lower() for w in webtext.words('pirates.txt')]\n",
    "# words = [w.lower() for w in webtext.words('grail.txt')]\n",
    "\n",
    "\n",
    "bcf = BigramCollocationFinder.from_words(words)\n",
    "print(bcf.nbest(BigramAssocMeasures.likelihood_ratio,10))  #only prints out the ten combinations"
   ]
  },
  {
   "cell_type": "code",
   "execution_count": 205,
   "id": "d5d29927",
   "metadata": {},
   "outputs": [
    {
     "data": {
      "text/plain": [
       "[('jack', 'sparrow'),\n",
       " ('elizabeth', 'swann'),\n",
       " ('davy', 'jones'),\n",
       " ('flying', 'dutchman'),\n",
       " ('lord', 'cutler')]"
      ]
     },
     "execution_count": 205,
     "metadata": {},
     "output_type": "execute_result"
    }
   ],
   "source": [
    "\n",
    "\n",
    "stopset = set(stopwords.words('english'))\n",
    "\n",
    "filter_stop = lambda w: len(w)<3 or w in stopset\n",
    "\n",
    "\n",
    "bcf = BigramCollocationFinder.from_words(words)\n",
    "\n",
    "bcf.apply_word_filter(filter_stop)\n",
    "\n",
    "n=20\n",
    "bcf.apply_freq_filter(n)\n",
    "bcf.nbest(BigramAssocMeasures.likelihood_ratio,5)"
   ]
  },
  {
   "cell_type": "code",
   "execution_count": null,
   "id": "5f70e7fe",
   "metadata": {},
   "outputs": [],
   "source": []
  },
  {
   "cell_type": "markdown",
   "id": "ad539935",
   "metadata": {},
   "source": [
    "## Tigram"
   ]
  },
  {
   "cell_type": "code",
   "execution_count": 207,
   "id": "f594388a",
   "metadata": {},
   "outputs": [
    {
     "data": {
      "text/plain": [
       "[('lord', 'cutler', 'beckett'),\n",
       " ('east', 'india', 'trading'),\n",
       " ('india', 'trading', 'company'),\n",
       " ('slow', 'motion', 'scene')]"
      ]
     },
     "execution_count": 207,
     "metadata": {},
     "output_type": "execute_result"
    }
   ],
   "source": [
    "#eg United Arab Emirates\n",
    "from nltk.collocations import TrigramCollocationFinder\n",
    "from nltk.metrics import TrigramAssocMeasures\n",
    "\n",
    "words =[w.lower() for w in webtext.words('pirates.txt')] #try 'singles.txt'\n",
    "# words =[w.lower() for w in webtext.words('grail.txt')] #try 'singles.txt'\n",
    "\n",
    "\n",
    "tcf = TrigramCollocationFinder.from_words(words)\n",
    "\n",
    "tcf.apply_word_filter(filter_stop)\n",
    "\n",
    "n=5\n",
    "tcf.apply_freq_filter(n) #also try n = 3\n",
    "output=tcf.nbest(TrigramAssocMeasures.likelihood_ratio,10)\n",
    "output\n"
   ]
  },
  {
   "cell_type": "code",
   "execution_count": 202,
   "id": "6727c4f5",
   "metadata": {},
   "outputs": [
    {
     "name": "stdout",
     "output_type": "stream",
     "text": [
      "2\n"
     ]
    }
   ],
   "source": [
    "\n",
    "import re\n",
    "print(len(re.findall('clop clop clop',output)))"
   ]
  },
  {
   "cell_type": "code",
   "execution_count": null,
   "id": "3e6cafe5",
   "metadata": {},
   "outputs": [],
   "source": []
  },
  {
   "cell_type": "code",
   "execution_count": null,
   "id": "3ec47a4c",
   "metadata": {},
   "outputs": [],
   "source": []
  },
  {
   "cell_type": "code",
   "execution_count": null,
   "id": "b4198e5c",
   "metadata": {},
   "outputs": [],
   "source": []
  }
 ],
 "metadata": {
  "kernelspec": {
   "display_name": "Python 3 (ipykernel)",
   "language": "python",
   "name": "python3"
  },
  "language_info": {
   "codemirror_mode": {
    "name": "ipython",
    "version": 3
   },
   "file_extension": ".py",
   "mimetype": "text/x-python",
   "name": "python",
   "nbconvert_exporter": "python",
   "pygments_lexer": "ipython3",
   "version": "3.10.9"
  }
 },
 "nbformat": 4,
 "nbformat_minor": 5
}
