{
 "cells": [
  {
   "cell_type": "code",
   "execution_count": 1,
   "id": "57829569",
   "metadata": {},
   "outputs": [],
   "source": [
    "# Week_5 practice questions"
   ]
  },
  {
   "cell_type": "code",
   "execution_count": 5,
   "id": "41b0119e",
   "metadata": {},
   "outputs": [],
   "source": [
    "import nltk\n",
    "from nltk.tokenize import word_tokenize\n",
    "from nltk.corpus import stopwords\n",
    "import string"
   ]
  },
  {
   "cell_type": "markdown",
   "id": "32691d31",
   "metadata": {},
   "source": [
    "1-Correct the spelling errors in the following text\n",
    "\n",
    "Input :\n",
    "\n",
    "text=\"He is a gret person. He beleives in bod\"\n",
    "Desired Output:\n",
    "\n",
    "text=\"He is a great person. He believes in god\""
   ]
  },
  {
   "cell_type": "code",
   "execution_count": 3,
   "id": "6275fbe4",
   "metadata": {},
   "outputs": [
    {
     "name": "stdout",
     "output_type": "stream",
     "text": [
      "Corrected Output:\n",
      "He is a great person. He believes in god\n"
     ]
    }
   ],
   "source": [
    "from textblob import TextBlob\n",
    "\n",
    "text = \"He is a gret person. He beleives in bod\"\n",
    "\n",
    "corrected_text = TextBlob(text).correct()\n",
    "\n",
    "print(\"Corrected Output:\")\n",
    "print(corrected_text)\n"
   ]
  },
  {
   "cell_type": "markdown",
   "id": "a758eec8",
   "metadata": {},
   "source": [
    "2-\n",
    "Clean the following tweet and tokenize them\n",
    "\n",
    "Input :\n",
    "\n",
    "text=\" Having lots of fun #goa #vaction #summervacation. Fancy dinner @Beachbay restro :) \""
   ]
  },
  {
   "cell_type": "code",
   "execution_count": 4,
   "id": "8a11cd2e",
   "metadata": {},
   "outputs": [
    {
     "name": "stdout",
     "output_type": "stream",
     "text": [
      "Cleaned and Tokenized Output:\n",
      "['lots', 'fun', 'goa', 'vaction', 'summervacation', 'Fancy', 'dinner', 'Beachbay', 'restro']\n"
     ]
    }
   ],
   "source": [
    "\n",
    "\n",
    "def clean_and_tokenize(text):\n",
    "    # Remove special characters and punctuation\n",
    "    cleaned_text = ''.join([char for char in text if char not in string.punctuation])\n",
    "    \n",
    "    # Tokenize the cleaned text\n",
    "    tokens = word_tokenize(cleaned_text)\n",
    "    \n",
    "    # Remove stopwords\n",
    "    stop_words = set(stopwords.words('english'))\n",
    "    tokens = [word for word in tokens if word.lower() not in stop_words]\n",
    "    \n",
    "    return tokens\n",
    "\n",
    "# Input tweet\n",
    "text = \"Having lots of fun #goa #vaction #summervacation. Fancy dinner @Beachbay restro :)\"\n",
    "\n",
    "# Clean and tokenize the tweet\n",
    "tokens = clean_and_tokenize(text)\n",
    "\n",
    "print(\"Cleaned and Tokenized Output:\")\n",
    "print(tokens)\n"
   ]
  },
  {
   "cell_type": "markdown",
   "id": "94c70c32",
   "metadata": {},
   "source": [
    "3. Write a Python program to find the occurrence and position of substrings within a string."
   ]
  },
  {
   "cell_type": "code",
   "execution_count": 6,
   "id": "e263ad0f",
   "metadata": {},
   "outputs": [
    {
     "name": "stdout",
     "output_type": "stream",
     "text": [
      "The substring 'bibek' occurs at the following positions: [11]\n"
     ]
    }
   ],
   "source": [
    "def find_occurrence_positions(text, substring):\n",
    "    positions = []\n",
    "    start = 0\n",
    "    while True:\n",
    "        start = text.find(substring, start)\n",
    "        if start == -1:\n",
    "            break\n",
    "        positions.append(start)\n",
    "        start += 1\n",
    "    return positions\n",
    "\n",
    "# Example text\n",
    "text = \"my name is bibek and i study in lambton college\"\n",
    "\n",
    "# Substring to find\n",
    "substring = \"bibek\"\n",
    "\n",
    "# Find occurrence positions\n",
    "occurrence_positions = find_occurrence_positions(text, substring)\n",
    "\n",
    "# Output occurrence positions\n",
    "print(f\"The substring '{substring}' occurs at the following positions: {occurrence_positions}\")\n"
   ]
  },
  {
   "cell_type": "markdown",
   "id": "5aa88e7b",
   "metadata": {},
   "source": [
    "4. Write a Python program to replace whitespaces with an underscore and vice versa."
   ]
  },
  {
   "cell_type": "code",
   "execution_count": 8,
   "id": "460f89b2",
   "metadata": {},
   "outputs": [
    {
     "name": "stdout",
     "output_type": "stream",
     "text": [
      "Modified String 1 (Whitespaces replaced with underscores):\n",
      "my_name_is_bibek_and_my_email_is_bibek_shiwakoti@gmail.com_and_I_like_to_do_coding\n",
      "\n",
      "Modified String 2 (Underscores replaced with whitespaces):\n",
      "my name is bibek and my email is bibek shiwakoti@gmail.com and I like to do coding\n"
     ]
    }
   ],
   "source": [
    "def replace_whitespace(text):\n",
    "    replaced_text_1 = text.replace(' ', '_')\n",
    "    \n",
    "    replaced_text_2 = text.replace('_', ' ')\n",
    "    \n",
    "    return replaced_text_1, replaced_text_2\n",
    "\n",
    "# Example string\n",
    "example_string = \"my name is bibek and my email is bibek_shiwakoti@gmail.com and I_like_to_do_coding\"\n",
    "\n",
    "modified_string_1, modified_string_2 = replace_whitespace(example_string)\n",
    "\n",
    "print(\"Modified String 1 (Whitespaces replaced with underscores):\")\n",
    "print(modified_string_1)\n",
    "print(\"\\nModified String 2 (Underscores replaced with whitespaces):\")\n",
    "print(modified_string_2)\n"
   ]
  },
  {
   "cell_type": "code",
   "execution_count": null,
   "id": "02bc8e90",
   "metadata": {},
   "outputs": [],
   "source": []
  }
 ],
 "metadata": {
  "kernelspec": {
   "display_name": "Python 3 (ipykernel)",
   "language": "python",
   "name": "python3"
  },
  "language_info": {
   "codemirror_mode": {
    "name": "ipython",
    "version": 3
   },
   "file_extension": ".py",
   "mimetype": "text/x-python",
   "name": "python",
   "nbconvert_exporter": "python",
   "pygments_lexer": "ipython3",
   "version": "3.10.9"
  }
 },
 "nbformat": 4,
 "nbformat_minor": 5
}
