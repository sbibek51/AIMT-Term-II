{
 "cells": [
  {
   "cell_type": "markdown",
   "id": "b49ad69a",
   "metadata": {},
   "source": [
    "Q1."
   ]
  },
  {
   "cell_type": "code",
   "execution_count": 3,
   "id": "fab7ba8e",
   "metadata": {},
   "outputs": [],
   "source": [
    "from nltk.corpus import stopwords"
   ]
  },
  {
   "cell_type": "code",
   "execution_count": 5,
   "id": "7db33f7f",
   "metadata": {},
   "outputs": [],
   "source": [
    "stop_words = set(stopwords.words('english'))"
   ]
  },
  {
   "cell_type": "markdown",
   "id": "c8335095",
   "metadata": {},
   "source": [
    "1-Extract the usernames from the email addresses present in the text\n",
    "\n",
    "Input :\n",
    "\n",
    "text= \"The new registrations are potter709@gmail.com , elixir101@gmail.com. If you find any disruptions, kindly contact granger111@gamil.com or severus77@gamil.com \"\n",
    "Desired Output :\n",
    "\n",
    "['potter709', 'elixir101', 'granger111', 'severus77']"
   ]
  },
  {
   "cell_type": "code",
   "execution_count": 2,
   "id": "83481680",
   "metadata": {},
   "outputs": [
    {
     "name": "stdout",
     "output_type": "stream",
     "text": [
      "['potter709', 'elixir101', 'granger111', 'severus77']\n"
     ]
    }
   ],
   "source": [
    "import re\n",
    "\n",
    "# we have to import the regex and use the findall to discovet the usernames which are before the @ sign\n",
    "\n",
    "text = \"The new registrations are potter709@gmail.com , elixir101@gmail.com. If you find any disruptions, kindly contact granger111@gamil.com or severus77@gamil.com\"\n",
    "\n",
    "usernames = re.findall(r'(\\w+)@\\w+\\.\\w+', text)\n",
    "print(usernames)\n"
   ]
  },
  {
   "cell_type": "markdown",
   "id": "fc7ea6e6",
   "metadata": {},
   "source": [
    "## Q2"
   ]
  },
  {
   "cell_type": "markdown",
   "id": "b9e2b00f",
   "metadata": {},
   "source": [
    "\n",
    "2-Extract the top 10 most common words in the given text excluding stopwords.\n",
    "\n",
    "Input :\n",
    "\n",
    "text=\"\"\"Junkfood - Food that do no good to our body. And there's no need of them in our body but still we willingly eat them because they are great in taste and easy to cook or ready to eat. Junk foods have no or very less nutritional value and irrespective of the way they are marketed, they are not healthy to consume.The only reason of their gaining popularity and increased trend of consumption is \n",
    "that they are ready to eat or easy to cook foods. People, of all age groups are moving towards Junkfood as it is hassle free and often ready to grab and eat. Cold drinks, chips, noodles, pizza, burgers, French fries etc. are few examples from the great variety of junk food available in the market.\n",
    " Junkfood is the most dangerous food ever but it is pleasure in eating and it gives a great taste in mouth examples of Junkfood are kurkure and chips.. cold rings are also source of junk food... they shud nt be ate in high amounts as it results fatal to our body... it cn be eated in a limited extend ... in research its found tht ths junk foods r very dangerous fr our health\n",
    "Junkfood is very harmful that is slowly eating away the health of the present generation. The term itself denotes how dangerous it is for our bodies. Most importantly, it tastes so good that people consume it on a daily basis. However, not much awareness is spread about the harmful effects of Junkfood .\n",
    "The problem is more serious than you think. Various studies show that Junkfood impacts our health negatively. They contain higher levels of calories, fats, and sugar. On the contrary, they have very low amounts of healthy nutrients and lack dietary fibers. Parents must discourage their children from consuming junk food because of the ill effects it has on one’s health.\n",
    "Junkfood is the easiest way to gain unhealthy weight. The amount of fats and sugar in the food makes you gain weight rapidly. However, this is not a healthy weight. It is more of fats and cholesterol which will have a harmful impact on your health. Junk food is also one of the main reasons for the increase in obesity nowadays.\n",
    "This food only looks and tastes good, other than that, it has no positive points. The amount of calorie your body requires to stay fit is not fulfilled by this food. For instance, foods like French fries, burgers, candy, and cookies, all have high amounts of sugar and fats. Therefore, this can result in long-term illnesses like diabetes and high blood pressure. This may also result in kidney failure.\"\"\"\n"
   ]
  },
  {
   "cell_type": "code",
   "execution_count": 8,
   "id": "c9a939a6",
   "metadata": {},
   "outputs": [
    {
     "name": "stdout",
     "output_type": "stream",
     "text": [
      "[('Junkfood', 8), ('food', 6), ('junk', 4), ('great', 3), ('ready', 3), ('foods', 3), ('healthy', 3), ('dangerous', 3), ('also', 3), ('high', 3)]\n"
     ]
    }
   ],
   "source": [
    "from collections import Counter\n",
    "\n",
    "text=\"\"\"Junkfood - Food that do no good to our body. And there's no need of them in our body but still we willingly eat them because they are great in taste and easy to cook or ready to eat. Junk foods have no or very less nutritional value and irrespective of the way they are marketed, they are not healthy to consume.The only reason of their gaining popularity and increased trend of consumption is \n",
    "that they are ready to eat or easy to cook foods. People, of all age groups are moving towards Junkfood as it is hassle free and often ready to grab and eat. Cold drinks, chips, noodles, pizza, burgers, French fries etc. are few examples from the great variety of junk food available in the market.\n",
    " Junkfood is the most dangerous food ever but it is pleasure in eating and it gives a great taste in mouth examples of Junkfood are kurkure and chips.. cold rings are also source of junk food... they shud nt be ate in high amounts as it results fatal to our body... it cn be eated in a limited extend ... in research its found tht ths junk foods r very dangerous fr our health\n",
    "Junkfood is very harmful that is slowly eating away the health of the present generation. The term itself denotes how dangerous it is for our bodies. Most importantly, it tastes so good that people consume it on a daily basis. However, not much awareness is spread about the harmful effects of Junkfood .\n",
    "The problem is more serious than you think. Various studies show that Junkfood impacts our health negatively. They contain higher levels of calories, fats, and sugar. On the contrary, they have very low amounts of healthy nutrients and lack dietary fibers. Parents must discourage their children from consuming junk food because of the ill effects it has on one’s health.\n",
    "Junkfood is the easiest way to gain unhealthy weight. The amount of fats and sugar in the food makes you gain weight rapidly. However, this is not a healthy weight. It is more of fats and cholesterol which will have a harmful impact on your health. Junk food is also one of the main reasons for the increase in obesity nowadays.\n",
    "This food only looks and tastes good, other than that, it has no positive points. The amount of calorie your body requires to stay fit is not fulfilled by this food. For instance, foods like French fries, burgers, candy, and cookies, all have high amounts of sugar and fats. Therefore, this can result in long-term illnesses like diabetes and high blood pressure. This may also result in kidney failure.\"\"\"\n",
    "\n",
    "\n",
    "def get_top_words(text, stopwords, top_n=10):\n",
    "    \n",
    "    \n",
    "    # Tokenize the text into words\n",
    "    words = text.split()\n",
    "    \n",
    "    # Filter out stopwords\n",
    "    words = [word for word in words if word.lower() not in stopwords]\n",
    "    \n",
    "    # Count occurrences of each word\n",
    "    word_counts = Counter(words)\n",
    "    \n",
    "    # Get the top N words\n",
    "    top_words = word_counts.most_common(top_n)\n",
    "    \n",
    "    return top_words\n",
    "\n",
    "\n",
    "\n",
    "# Get top 10 words excluding stopwords\n",
    "top_words = get_top_words(text, stop_words)\n",
    "print(top_words)\n"
   ]
  },
  {
   "cell_type": "markdown",
   "id": "a4a3305a",
   "metadata": {},
   "source": [
    "## Q3"
   ]
  },
  {
   "cell_type": "markdown",
   "id": "98c98125",
   "metadata": {},
   "source": [
    "3- Extract the TF-IDF (Term Frequency -Inverse Document Frequency) Matrix for the given list of text documents\n",
    "Input :\n",
    "\n",
    "text_documents=['Painting is a hobby for many , passion for some',\n",
    "                'My hobby is coin collection'\n",
    "                'I do some Painting every now and then']\n",
    "Desired Output:\n",
    "\n",
    " \n",
    "(0, 13)\t0.2511643891128359\n",
    "(0, 12)\t0.35300278529739293\n",
    "(0, 8)\t0.35300278529739293\n",
    "(0, 5)\t0.7060055705947859\n",
    "(0, 6)\t0.2511643891128359\n",
    "(0, 7)\t0.2511643891128359\n",
    "...(truncated).."
   ]
  },
  {
   "cell_type": "code",
   "execution_count": 12,
   "id": "bb473d2c",
   "metadata": {},
   "outputs": [
    {
     "name": "stdout",
     "output_type": "stream",
     "text": [
      "TF-IDF Matrix:\n",
      "[[0.         0.         0.         0.         0.         0.69364217\n",
      "  0.26376638 0.26376638 0.34682109 0.         0.         0.26376638\n",
      "  0.34682109 0.26376638 0.        ]\n",
      " [0.         0.49047908 0.49047908 0.         0.         0.\n",
      "  0.37302199 0.37302199 0.         0.49047908 0.         0.\n",
      "  0.         0.         0.        ]\n",
      " [0.40301621 0.         0.         0.40301621 0.40301621 0.\n",
      "  0.         0.         0.         0.         0.40301621 0.30650422\n",
      "  0.         0.30650422 0.40301621]]\n",
      "\n",
      "Feature Names:\n",
      "['and' 'coin' 'collection' 'do' 'every' 'for' 'hobby' 'is' 'many' 'my'\n",
      " 'now' 'painting' 'passion' 'some' 'then']\n"
     ]
    }
   ],
   "source": [
    "from sklearn.feature_extraction.text import TfidfVectorizer\n",
    "\n",
    "text_documents = [\n",
    "    'Painting is a hobby for many , passion for some',\n",
    "    'My hobby is coin collection',\n",
    "    'I do some Painting every now and then'\n",
    "]\n",
    "\n",
    "tfidf_vectorizer = TfidfVectorizer()\n",
    "\n",
    "tfidf_matrix = tfidf_vectorizer.fit_transform(text_documents)\n",
    "\n",
    "tfidf_matrix_dense = tfidf_matrix.toarray()\n",
    "\n",
    "feature_names = tfidf_vectorizer.get_feature_names_out()\n",
    "\n",
    "print(\"TF-IDF Matrix:\")\n",
    "print(tfidf_matrix_dense)\n",
    "print(\"\\nFeature Names:\")\n",
    "print(feature_names)\n"
   ]
  },
  {
   "cell_type": "markdown",
   "id": "3fdabad2",
   "metadata": {},
   "source": [
    "## Q4 "
   ]
  },
  {
   "cell_type": "markdown",
   "id": "8b39aec6",
   "metadata": {},
   "source": [
    "Write a Python program to search for a literal string in a string and also find the location within the original string where the pattern occurs.\n",
    "Sample text : 'The quick brown fox jumps over the lazy dog.'\n",
    "Searched words : 'fox'"
   ]
  },
  {
   "cell_type": "code",
   "execution_count": 15,
   "id": "113a4d23",
   "metadata": {},
   "outputs": [
    {
     "name": "stdout",
     "output_type": "stream",
     "text": [
      "The word 'over' is found in the text at index 26.\n"
     ]
    }
   ],
   "source": [
    "def search_word_location(text, word):\n",
    "    # Search for the word in the text\n",
    "    index = text.find(word)\n",
    "    \n",
    "    if index != -1:\n",
    "        print(f\"The word '{word}' is found in the text at index {index}.\")\n",
    "    else:\n",
    "        print(f\"The word '{word}' is not found in the text.\")\n",
    "\n",
    "sample_text = 'The quick brown fox jumps over the lazy dog.'\n",
    "# searched_word = 'over'\n",
    "searched_word = 'fox'\n",
    "\n",
    "search_word_location(sample_text, searched_word)\n"
   ]
  },
  {
   "cell_type": "code",
   "execution_count": null,
   "id": "15b0f4a7",
   "metadata": {},
   "outputs": [],
   "source": []
  }
 ],
 "metadata": {
  "kernelspec": {
   "display_name": "Python 3 (ipykernel)",
   "language": "python",
   "name": "python3"
  },
  "language_info": {
   "codemirror_mode": {
    "name": "ipython",
    "version": 3
   },
   "file_extension": ".py",
   "mimetype": "text/x-python",
   "name": "python",
   "nbconvert_exporter": "python",
   "pygments_lexer": "ipython3",
   "version": "3.10.9"
  }
 },
 "nbformat": 4,
 "nbformat_minor": 5
}
