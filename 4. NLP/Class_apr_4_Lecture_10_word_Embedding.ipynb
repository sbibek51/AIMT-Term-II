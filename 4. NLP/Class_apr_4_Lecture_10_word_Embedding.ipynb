{
 "cells": [
  {
   "cell_type": "code",
   "execution_count": 1,
   "id": "b1933392",
   "metadata": {},
   "outputs": [],
   "source": [
    "#Bibek Shiwakoti"
   ]
  },
  {
   "cell_type": "code",
   "execution_count": 2,
   "id": "7d8786d0",
   "metadata": {},
   "outputs": [],
   "source": [
    "text = \"This is our first sentence. This is the second one. And one more\""
   ]
  },
  {
   "cell_type": "code",
   "execution_count": 3,
   "id": "e51b8f54",
   "metadata": {},
   "outputs": [],
   "source": [
    "from nltk import sent_tokenize\n",
    "from nltk import word_tokenize"
   ]
  },
  {
   "cell_type": "code",
   "execution_count": 4,
   "id": "c093901b",
   "metadata": {},
   "outputs": [],
   "source": [
    "sentences = sent_tokenize(text)"
   ]
  },
  {
   "cell_type": "code",
   "execution_count": 5,
   "id": "60c95d6e",
   "metadata": {},
   "outputs": [],
   "source": [
    "tokens = [word_tokenize(sentence) for sentence in sentences]"
   ]
  },
  {
   "cell_type": "code",
   "execution_count": 6,
   "id": "0495bf19",
   "metadata": {},
   "outputs": [
    {
     "data": {
      "text/plain": [
       "[['This', 'is', 'our', 'first', 'sentence', '.'],\n",
       " ['This', 'is', 'the', 'second', 'one', '.'],\n",
       " ['And', 'one', 'more']]"
      ]
     },
     "execution_count": 6,
     "metadata": {},
     "output_type": "execute_result"
    }
   ],
   "source": [
    "tokens"
   ]
  },
  {
   "cell_type": "code",
   "execution_count": 7,
   "id": "1fe95f0d",
   "metadata": {},
   "outputs": [],
   "source": [
    "# then we import Word2Vec model from fenism"
   ]
  },
  {
   "cell_type": "code",
   "execution_count": 9,
   "id": "ed6cc931",
   "metadata": {},
   "outputs": [],
   "source": [
    "from gensim.models import Word2Vec"
   ]
  },
  {
   "cell_type": "code",
   "execution_count": 11,
   "id": "af71d10a",
   "metadata": {},
   "outputs": [],
   "source": [
    "model = Word2Vec(tokens, min_count =1, vector_size = 50)"
   ]
  },
  {
   "cell_type": "code",
   "execution_count": 12,
   "id": "ab4fec91",
   "metadata": {},
   "outputs": [
    {
     "name": "stdout",
     "output_type": "stream",
     "text": [
      "Word2Vec<vocab=11, vector_size=50, alpha=0.025>\n"
     ]
    }
   ],
   "source": [
    "print(model)"
   ]
  },
  {
   "cell_type": "code",
   "execution_count": 21,
   "id": "28426a96",
   "metadata": {},
   "outputs": [
    {
     "name": "stdout",
     "output_type": "stream",
     "text": [
      "['one', '.', 'is', 'This', 'more', 'And', 'second', 'the', 'sentence', 'first', 'our']\n"
     ]
    }
   ],
   "source": [
    "words= list(model.wv.index_to_key)\n",
    "print(words)"
   ]
  },
  {
   "cell_type": "code",
   "execution_count": 24,
   "id": "b3894287",
   "metadata": {},
   "outputs": [
    {
     "data": {
      "text/plain": [
       "array([-0.01427803,  0.00248206, -0.01435343, -0.00448924,  0.00743861,\n",
       "        0.01166625,  0.00239637,  0.00420546, -0.00822078,  0.01445067,\n",
       "       -0.01261408,  0.00929443, -0.01643995,  0.00407294, -0.0099541 ,\n",
       "       -0.00849538, -0.00621797,  0.01131042,  0.0115968 , -0.0099493 ,\n",
       "        0.00154666, -0.01699156,  0.01561961,  0.01851458, -0.00548466,\n",
       "        0.00160045,  0.0014933 ,  0.01095577, -0.01721216,  0.00116891,\n",
       "        0.01373884,  0.00446319,  0.00224935, -0.01864431,  0.01696473,\n",
       "       -0.01252825, -0.00598475,  0.00698757, -0.00154526,  0.00282258,\n",
       "        0.00356398, -0.0136578 , -0.01944962,  0.01808117,  0.01239611,\n",
       "       -0.01382586,  0.00680696,  0.00041213,  0.00950749, -0.01423989],\n",
       "      dtype=float32)"
      ]
     },
     "execution_count": 24,
     "metadata": {},
     "output_type": "execute_result"
    }
   ],
   "source": [
    "model.wv['sentence']"
   ]
  },
  {
   "cell_type": "code",
   "execution_count": 25,
   "id": "34a688c0",
   "metadata": {},
   "outputs": [],
   "source": [
    "model.save(\"model.bin\")"
   ]
  },
  {
   "cell_type": "code",
   "execution_count": 26,
   "id": "c672dba4",
   "metadata": {},
   "outputs": [],
   "source": [
    "new_model = Word2Vec.load(\"model.bin\")"
   ]
  },
  {
   "cell_type": "code",
   "execution_count": 27,
   "id": "f36e0f32",
   "metadata": {},
   "outputs": [
    {
     "name": "stdout",
     "output_type": "stream",
     "text": [
      "Word2Vec<vocab=11, vector_size=50, alpha=0.025>\n"
     ]
    }
   ],
   "source": [
    "print(new_model)"
   ]
  },
  {
   "cell_type": "code",
   "execution_count": null,
   "id": "1e7818f8",
   "metadata": {},
   "outputs": [],
   "source": []
  }
 ],
 "metadata": {
  "kernelspec": {
   "display_name": "Python 3 (ipykernel)",
   "language": "python",
   "name": "python3"
  },
  "language_info": {
   "codemirror_mode": {
    "name": "ipython",
    "version": 3
   },
   "file_extension": ".py",
   "mimetype": "text/x-python",
   "name": "python",
   "nbconvert_exporter": "python",
   "pygments_lexer": "ipython3",
   "version": "3.10.9"
  }
 },
 "nbformat": 4,
 "nbformat_minor": 5
}
