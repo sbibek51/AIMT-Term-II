{
 "cells": [
  {
   "cell_type": "code",
   "execution_count": 35,
   "id": "ab3d09c1",
   "metadata": {},
   "outputs": [],
   "source": [
    "#Bibek Shiwakoti\n",
    "import nltk\n",
    "from nltk.tokenize import sent_tokenize\n",
    "from nltk.tokenize import word_tokenize\n",
    "from nltk.stem import PorterStemmer\n"
   ]
  },
  {
   "cell_type": "code",
   "execution_count": 36,
   "id": "bf89cc7f",
   "metadata": {},
   "outputs": [],
   "source": [
    "sample_string = 'Let\\'s make this sample paragraph. It even knows that the period in Mr. Jones is not the end. Try it out!'\n",
    "\n",
    "tokenized_sentence = sent_tokenize(sample_string)"
   ]
  },
  {
   "cell_type": "code",
   "execution_count": 37,
   "id": "e8741c33",
   "metadata": {},
   "outputs": [
    {
     "data": {
      "text/plain": [
       "[\"Let's make this sample paragraph.\",\n",
       " 'It even knows that the period in Mr. Jones is not the end.',\n",
       " 'Try it out!']"
      ]
     },
     "execution_count": 37,
     "metadata": {},
     "output_type": "execute_result"
    }
   ],
   "source": [
    "tokenized_sentence"
   ]
  },
  {
   "cell_type": "code",
   "execution_count": 38,
   "id": "e293453b",
   "metadata": {},
   "outputs": [
    {
     "name": "stdout",
     "output_type": "stream",
     "text": [
      "['Hey', 'everyone!', 'The', 'party', 'starts', 'in', '10mins.', 'Be', 'there', 'ASAP!']\n"
     ]
    }
   ],
   "source": [
    "msg = 'Hey everyone! The party starts in 10mins. Be there ASAP!'\n",
    "print(msg.split())"
   ]
  },
  {
   "cell_type": "code",
   "execution_count": 39,
   "id": "c3bf5e88",
   "metadata": {},
   "outputs": [],
   "source": [
    "tokenize_word = word_tokenize(msg)"
   ]
  },
  {
   "cell_type": "code",
   "execution_count": 40,
   "id": "db7247b4",
   "metadata": {},
   "outputs": [
    {
     "name": "stdout",
     "output_type": "stream",
     "text": [
      "['Hey', 'everyone', '!', 'The', 'party', 'starts', 'in', '10mins', '.', 'Be', 'there', 'ASAP', '!']\n"
     ]
    }
   ],
   "source": [
    "print(tokenize_word)"
   ]
  },
  {
   "cell_type": "code",
   "execution_count": 41,
   "id": "508de04b",
   "metadata": {},
   "outputs": [],
   "source": [
    "#their output is slightly different what are them see above\n"
   ]
  },
  {
   "cell_type": "code",
   "execution_count": 42,
   "id": "1462e501",
   "metadata": {},
   "outputs": [
    {
     "name": "stdout",
     "output_type": "stream",
     "text": [
      "[['Let', ',', 's', 'make', 'this', 'sample', 'paragraph', '.'], ['It', 'even', 'knows', 'that', 'the', 'period', 'in', 'Mr.', 'Jones', 'is', 'not', 'the', 'end', '.'], ['Try', 'it', 'out', '!']]\n"
     ]
    }
   ],
   "source": [
    "# now tokenize a sentences and add them to a single list\n",
    "sample_string = 'Let,s make this sample paragraph. It even knows that the period in Mr. Jones is not the end. Try it out!'\n",
    "tokenized_sentences = sent_tokenize(sample_string)\n",
    "# print(tokenized_sentences)\n",
    "\n",
    "my_list=[]\n",
    "\n",
    "for i in tokenized_sentences:\n",
    "    tokenize_word=word_tokenize(i)\n",
    "    my_list.append(tokenize_word)\n",
    "    \n",
    "print(my_list)\n",
    "\n"
   ]
  },
  {
   "cell_type": "code",
   "execution_count": 44,
   "id": "c089a5a5",
   "metadata": {},
   "outputs": [
    {
     "data": {
      "text/plain": [
       "'run'"
      ]
     },
     "execution_count": 44,
     "metadata": {},
     "output_type": "execute_result"
    }
   ],
   "source": [
    "porter = PorterStemmer()\n",
    "porter.stem('running')"
   ]
  },
  {
   "cell_type": "code",
   "execution_count": 46,
   "id": "69cd7628",
   "metadata": {},
   "outputs": [
    {
     "name": "stdout",
     "output_type": "stream",
     "text": [
      "Original Tokens:\n",
      "['Let', \"'s\", 'make', 'this', 'sample', 'paragraph', '.', 'It', 'even', 'knows', 'that', 'the', 'period', 'in', 'Mr.', 'Jones', 'is', 'not', 'the', 'end', '.', 'Try', 'it', 'out', '!']\n",
      "\n",
      "Stemmed Tokens:\n",
      "['let', \"'s\", 'make', 'thi', 'sampl', 'paragraph', '.', 'it', 'even', 'know', 'that', 'the', 'period', 'in', 'mr.', 'jone', 'is', 'not', 'the', 'end', '.', 'tri', 'it', 'out', '!']\n"
     ]
    }
   ],
   "source": [
    "sample_string = 'Let\\'s make this sample paragraph. It even knows that the period in Mr. Jones is not the end. Try it out!'\n",
    "#now tokenize and steam all the words\n",
    "tokens = word_tokenize(sample_string)\n",
    "porter = PorterStemmer()\n",
    "stemmed_tokens = [porter.stem(token) for token in tokens]\n",
    "\n",
    "\n",
    "print(\"Original Tokens:\")\n",
    "print(tokens)\n",
    "\n",
    "print(\"\\nStemmed Tokens:\")\n",
    "print(stemmed_tokens)"
   ]
  },
  {
   "cell_type": "code",
   "execution_count": 43,
   "id": "c6a1d1c7",
   "metadata": {},
   "outputs": [],
   "source": [
    "#**********************************************practiced till this cell*****************************"
   ]
  },
  {
   "cell_type": "code",
   "execution_count": 35,
   "id": "1b0209f7",
   "metadata": {},
   "outputs": [
    {
     "name": "stdout",
     "output_type": "stream",
     "text": [
      "running\n",
      "run\n",
      "good\n",
      "eat\n"
     ]
    }
   ],
   "source": [
    "from nltk.stem import WordNetLemmatizer\n",
    "lem= WordNetLemmatizer()\n",
    "print(lem.lemmatize('running',pos='n'))\n",
    "print(lem.lemmatize('running', pos='v'))\n",
    "print(lem.lemmatize('better',pos='a'))\n",
    "print(lem.lemmatize('ate',pos='v'))"
   ]
  },
  {
   "cell_type": "code",
   "execution_count": 43,
   "id": "807433e5",
   "metadata": {},
   "outputs": [
    {
     "data": {
      "text/plain": [
       "['Hey',\n",
       " 'everyone',\n",
       " '!',\n",
       " 'The',\n",
       " 'party',\n",
       " 'starts',\n",
       " '10mins',\n",
       " '.',\n",
       " 'Be',\n",
       " 'ASAP',\n",
       " '!']"
      ]
     },
     "execution_count": 43,
     "metadata": {},
     "output_type": "execute_result"
    }
   ],
   "source": [
    "#filtering the stop words\n",
    "from nltk.corpus import stopwords\n",
    "sample_string = 'Let\\'s make this sample paragraph. It even knows that the period in Mr. Jones is not the end. Try it out!'\n",
    "stopwords = stopwords.words('english')\n",
    "filtered_tokens= []\n",
    "for token in tokenized_word: \n",
    "    if token not in stopwords:\n",
    "        filtered_tokens.append(token)\n",
    "        \n",
    "filtered_tokens\n",
    "\n",
    "# print(stopwords.words('english'))"
   ]
  },
  {
   "cell_type": "code",
   "execution_count": 45,
   "id": "93afbf8d",
   "metadata": {},
   "outputs": [
    {
     "name": "stdout",
     "output_type": "stream",
     "text": [
      "Original Tokens:\n",
      "['Let', \"'s\", 'make', 'this', 'sample', 'paragraph', '.', 'It', 'even', 'knows', 'that', 'the', 'period', 'in', 'Mr.', 'Jones', 'is', 'not', 'the', 'end', '.', 'Try', 'it', 'out', '!']\n",
      "\n",
      "Stop Words:\n",
      "['this', 'It', 'that', 'the', 'in', 'is', 'not', 'the', 'it', 'out']\n",
      "\n",
      "Non-Stop Words:\n",
      "['Let', \"'s\", 'make', 'sample', 'paragraph', '.', 'even', 'knows', 'period', 'Mr.', 'Jones', 'end', '.', 'Try', '!']\n"
     ]
    }
   ],
   "source": [
    "from nltk.corpus import stopwords\n",
    "sample_string = 'Let\\'s make this sample paragraph. It even knows that the period in Mr. Jones is not the end. Try it out!'\n",
    "tokens = word_tokenize(sample_string)\n",
    "stop_words = set(stopwords.words('english'))\n",
    "stop_words_list = [token for token in tokens if token.lower() in stop_words]\n",
    "non_stop_words_list = [token for token in tokens if token.lower() not in stop_words]\n",
    "\n",
    "\n",
    "print(\"Original Tokens:\")\n",
    "print(tokens)\n",
    "\n",
    "print(\"\\nStop Words:\")\n",
    "print(stop_words_list)\n",
    "\n",
    "print(\"\\nNon-Stop Words:\")\n",
    "print(non_stop_words_list)\n"
   ]
  },
  {
   "cell_type": "code",
   "execution_count": 52,
   "id": "2455de47",
   "metadata": {},
   "outputs": [
    {
     "name": "stdout",
     "output_type": "stream",
     "text": [
      "['Interrobang. by Aishwaryas Herilette', 'Parking and going. By karl Gauiter', 'Today Is the night . By Jarek Prakash']\n"
     ]
    }
   ],
   "source": [
    "text_data = [\" Interrobang. by Aishwaryas Herilette   \",\n",
    "            \"Parking and going. By karl Gauiter\",\n",
    "            '  Today Is the night . By Jarek Prakash']\n",
    "strip_whitespace = [string.strip() for string in text_data]\n",
    "print(strip_whitespace)"
   ]
  },
  {
   "cell_type": "code",
   "execution_count": 56,
   "id": "99e8093d",
   "metadata": {},
   "outputs": [
    {
     "name": "stdout",
     "output_type": "stream",
     "text": [
      "[\"Let's make this sample paragraph .\", 'It even knows that the period in Mr. Jones is not the end.', 'Try it out!']\n"
     ]
    }
   ],
   "source": [
    "sample_string = ['   Let\\'s make this sample paragraph .',\n",
    "                'It even knows that the period in Mr. Jones is not the end.    ',\n",
    "                ' Try it out!    ']\n",
    "strip_whitespace = [string.strip() for string in sample_string]\n",
    "print(strip_whitespace)"
   ]
  },
  {
   "cell_type": "code",
   "execution_count": 60,
   "id": "494adbd7",
   "metadata": {},
   "outputs": [],
   "source": [
    "remove_periods= [string.replace('make','it happen') for string in strip_whitespace]"
   ]
  },
  {
   "cell_type": "code",
   "execution_count": 61,
   "id": "e3fbdac4",
   "metadata": {},
   "outputs": [
    {
     "data": {
      "text/plain": [
       "[\"Let's it happen this sample paragraph .\",\n",
       " 'It even knows that the period in Mr. Jones is not the end.',\n",
       " 'Try it out!']"
      ]
     },
     "execution_count": 61,
     "metadata": {},
     "output_type": "execute_result"
    }
   ],
   "source": [
    "remove_periods"
   ]
  },
  {
   "cell_type": "code",
   "execution_count": 65,
   "id": "852787de",
   "metadata": {},
   "outputs": [
    {
     "data": {
      "text/plain": [
       "[\"let's it happen this sample paragraph .\",\n",
       " 'it even knows that the period in mr. jones is not the end.',\n",
       " 'try it out!']"
      ]
     },
     "execution_count": 65,
     "metadata": {},
     "output_type": "execute_result"
    }
   ],
   "source": [
    "def lowerizer(string: str) ->str:\n",
    "    return string.lower()\n",
    "[lowerizer(string) for string in remove_periods]"
   ]
  },
  {
   "cell_type": "code",
   "execution_count": 66,
   "id": "6872312c",
   "metadata": {},
   "outputs": [
    {
     "name": "stdout",
     "output_type": "stream",
     "text": [
      "Original Sentences:\n",
      "[\"Let's make this sample paragraph.\", 'It even knows that the period in Mr. Jones is not the end.', 'Try it out!']\n",
      "\n",
      "Tokenized Sentences:\n",
      "[['Let', \"'s\", 'make', 'this', 'sample', 'paragraph', '.'], ['It', 'even', 'knows', 'that', 'the', 'period', 'in', 'Mr.', 'Jones', 'is', 'not', 'the', 'end', '.'], ['Try', 'it', 'out', '!']]\n",
      "\n",
      "Sentences without Stopwords:\n",
      "[['Let', \"'s\", 'make', 'sample', 'paragraph', '.'], ['even', 'knows', 'period', 'Mr.', 'Jones', 'end', '.'], ['Try', '!']]\n"
     ]
    }
   ],
   "source": [
    "sample_string = 'Let\\'s make this sample paragraph. It even knows that the period in Mr. Jones is not the end. Try it out!'\n",
    "\n",
    "\n",
    "from nltk.tokenize import sent_tokenize, word_tokenize\n",
    "from nltk.corpus import stopwords\n",
    "\n",
    "def text_wrangling(sample_string):\n",
    "    # Split the text into sentences\n",
    "    sentences = sent_tokenize(sample_string)\n",
    "\n",
    "    # Tokenize each sentence\n",
    "    tokenized_sentences = [word_tokenize(sentence) for sentence in sentences]\n",
    "\n",
    "    # Get the list of English stop words from NLTK\n",
    "    stop_words = set(stopwords.words('english'))\n",
    "\n",
    "    # Remove stop words from each tokenized sentence\n",
    "    sentences_without_stopwords = [\n",
    "        [token for token in sentence if token.lower() not in stop_words]\n",
    "        for sentence in tokenized_sentences\n",
    "    ]\n",
    "\n",
    "    return sentences, tokenized_sentences, sentences_without_stopwords\n",
    "\n",
    "# Example usage\n",
    "sample_string = 'Let\\'s make this sample paragraph. It even knows that the period in Mr. Jones is not the end. Try it out!'\n",
    "sentences, tokenized_sentences, sentences_without_stopwords = process_text(sample_string)\n",
    "\n",
    "# Print the results\n",
    "print(\"Original Sentences:\")\n",
    "print(sentences)\n",
    "\n",
    "print(\"\\nTokenized Sentences:\")\n",
    "print(tokenized_sentences)\n",
    "\n",
    "print(\"\\nSentences without Stopwords:\")\n",
    "print(sentences_without_stopwords)\n"
   ]
  },
  {
   "cell_type": "code",
   "execution_count": 67,
   "id": "0c071765",
   "metadata": {},
   "outputs": [
    {
     "name": "stdout",
     "output_type": "stream",
     "text": [
      "Processed Sentences:\n",
      "[['LET', \"'S\", 'MAKE', 'SAMPLE', 'PARAGRAPH', '.'], ['EVEN', 'KNOWS', 'PERIOD', 'MR.', 'JONES', 'END', '.'], ['TRY', '!']]\n"
     ]
    }
   ],
   "source": [
    "\n",
    "from nltk.tokenize import sent_tokenize, word_tokenize\n",
    "from nltk.corpus import stopwords\n",
    "\n",
    "def test_wrangling(test_text):\n",
    "    # to uppercase\n",
    "    uppercased_text = test_text.upper()\n",
    "\n",
    "    # Split into sentences\n",
    "    sentences = sent_tokenize(uppercased_text)\n",
    "\n",
    "    # Tokenize \n",
    "    tokenized_sentences = [word_tokenize(sentence) for sentence in sentences]\n",
    "\n",
    "    # English stop words from NLTK\n",
    "    stop_words = set(stopwords.words('english'))\n",
    "\n",
    "    # Remove stop words \n",
    "    processed_sentences = [\n",
    "        [token for token in word_tokenize(sentence) if token.lower() not in stop_words]\n",
    "        for sentence in sentences\n",
    "    ]\n",
    "\n",
    "    return processed_sentences\n",
    "\n",
    "sample_string = 'Let\\'s make this sample paragraph. It even knows that the period in Mr. Jones is not the end. Try it out!'\n",
    "result = test_wrangling(sample_string)\n",
    "\n",
    "\n",
    "print(\"Processed Sentences:\")\n",
    "print(result)\n"
   ]
  },
  {
   "cell_type": "code",
   "execution_count": null,
   "id": "1fc4b190",
   "metadata": {},
   "outputs": [],
   "source": []
  },
  {
   "cell_type": "code",
   "execution_count": null,
   "id": "c3499496",
   "metadata": {},
   "outputs": [],
   "source": []
  }
 ],
 "metadata": {
  "kernelspec": {
   "display_name": "Python 3 (ipykernel)",
   "language": "python",
   "name": "python3"
  },
  "language_info": {
   "codemirror_mode": {
    "name": "ipython",
    "version": 3
   },
   "file_extension": ".py",
   "mimetype": "text/x-python",
   "name": "python",
   "nbconvert_exporter": "python",
   "pygments_lexer": "ipython3",
   "version": "3.10.9"
  }
 },
 "nbformat": 4,
 "nbformat_minor": 5
}
