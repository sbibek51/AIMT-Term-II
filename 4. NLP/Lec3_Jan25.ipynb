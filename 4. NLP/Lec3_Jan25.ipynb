{
 "cells": [
  {
   "cell_type": "code",
   "execution_count": 3,
   "id": "5ae4404c",
   "metadata": {},
   "outputs": [],
   "source": [
    "# Bibek Shiwakoti\n",
    "import re"
   ]
  },
  {
   "cell_type": "code",
   "execution_count": 9,
   "id": "0eacd44b",
   "metadata": {},
   "outputs": [
    {
     "name": "stdout",
     "output_type": "stream",
     "text": [
      "['The']\n",
      "[]\n"
     ]
    }
   ],
   "source": [
    "#\\A\n",
    "text = 'The categorical cat hello my cat'\n",
    "text1 = 'categorical cat hello mycat'\n",
    "print(re.findall(r'\\AThe',text))\n",
    "print(re.findall(r'\\AThe',text1))"
   ]
  },
  {
   "cell_type": "code",
   "execution_count": 22,
   "id": "f7069f77",
   "metadata": {},
   "outputs": [
    {
     "data": {
      "text/plain": [
       "['cat', 'cat']"
      ]
     },
     "execution_count": 22,
     "metadata": {},
     "output_type": "execute_result"
    }
   ],
   "source": [
    "text ='categorical cat hello mycat'\n",
    "re.findall(r'\\bcat',text)  #startring of the word"
   ]
  },
  {
   "cell_type": "code",
   "execution_count": 23,
   "id": "3e99a46d",
   "metadata": {},
   "outputs": [
    {
     "data": {
      "text/plain": [
       "['cat', 'cat']"
      ]
     },
     "execution_count": 23,
     "metadata": {},
     "output_type": "execute_result"
    }
   ],
   "source": [
    " re.findall(r'cat\\b',text)   # ends with cat"
   ]
  },
  {
   "cell_type": "code",
   "execution_count": 24,
   "id": "401ece06",
   "metadata": {},
   "outputs": [
    {
     "data": {
      "text/plain": [
       "['cat']"
      ]
     },
     "execution_count": 24,
     "metadata": {},
     "output_type": "execute_result"
    }
   ],
   "source": [
    "re.findall(r'\\bcat\\b',text) #starting and ending with cat"
   ]
  },
  {
   "cell_type": "code",
   "execution_count": 25,
   "id": "fe8f54a8",
   "metadata": {},
   "outputs": [],
   "source": [
    "d ={}"
   ]
  },
  {
   "cell_type": "code",
   "execution_count": 26,
   "id": "39fa17ed",
   "metadata": {},
   "outputs": [
    {
     "data": {
      "text/plain": [
       "{}"
      ]
     },
     "execution_count": 26,
     "metadata": {},
     "output_type": "execute_result"
    }
   ],
   "source": [
    "d"
   ]
  },
  {
   "cell_type": "code",
   "execution_count": 29,
   "id": "56f62994",
   "metadata": {},
   "outputs": [
    {
     "name": "stdout",
     "output_type": "stream",
     "text": [
      "4\n"
     ]
    }
   ],
   "source": [
    "word = 'cat'    \n",
    "string = text.split(\" \")\n",
    "index = string.index(word)\n",
    "\n",
    "position = 0\n",
    "for i,word in enumerate(text):\n",
    "    position += (1 + len(word))\n",
    "    if i>=index:\n",
    "        break\n",
    "\n",
    "print (position)"
   ]
  },
  {
   "cell_type": "code",
   "execution_count": 38,
   "id": "854f9089",
   "metadata": {},
   "outputs": [
    {
     "name": "stdout",
     "output_type": "stream",
     "text": [
      "cat1 range: 0-2\n",
      "cat2 range: 12-14\n",
      "cat3 range: 24-26\n"
     ]
    }
   ],
   "source": [
    "text = 'categorical cat hello mycat'\n",
    "word = 'cat'\n",
    "\n",
    "cat_ranges = []\n",
    "\n",
    "position = 0\n",
    "\n",
    "cat_count = 0\n",
    "\n",
    "while True:\n",
    "    index = text.find(word, position)\n",
    "    \n",
    "    if index == -1:\n",
    "        break\n",
    "\n",
    "    start_index = index\n",
    "    end_index = start_index + len(word) - 1\n",
    "    cat_count += 1\n",
    "    cat_ranges.append((f'cat{cat_count}', f'{start_index}-{end_index}'))\n",
    "    position = index + len(word)\n",
    "    \n",
    "for cat, cat_range in cat_ranges:\n",
    "    print(f\"{cat} range: {cat_range}\")\n"
   ]
  },
  {
   "cell_type": "code",
   "execution_count": 36,
   "id": "d775028e",
   "metadata": {},
   "outputs": [
    {
     "data": {
      "text/plain": [
       "['cat']"
      ]
     },
     "execution_count": 36,
     "metadata": {},
     "output_type": "execute_result"
    }
   ],
   "source": [
    "re.findall(r'\\bcat\\b',text) #starting and ending with cat"
   ]
  },
  {
   "cell_type": "code",
   "execution_count": 46,
   "id": "fdd4c65d",
   "metadata": {},
   "outputs": [
    {
     "name": "stdout",
     "output_type": "stream",
     "text": [
      "['zi']\n",
      "[]\n",
      "['zi']\n"
     ]
    }
   ],
   "source": [
    "text1= 'This is an amazing classroom, every one dpeaks ENGLISH zizazo!'\n",
    "text2= 'this is a good classroom,every one speak ENGLISH zizxz!'\n",
    "\n",
    "print(re.findall(r'\\Bzi',text1))   #return the pattern if not at the beginning of the word\n",
    "print(re.findall(r'\\Bzi',text2))   #REturn the pattern if not at the beginning of the word\n",
    "\n",
    "\n",
    "match1= re.findall(r'\\Bzi',text1,flags=re.IGNORECASE)  #here try to show the full word associated with the pattern \n",
    "print(match1)"
   ]
  },
  {
   "cell_type": "markdown",
   "id": "bd70d972",
   "metadata": {},
   "source": [
    "## \\d   digits are returned"
   ]
  },
  {
   "cell_type": "code",
   "execution_count": 78,
   "id": "d53363d8",
   "metadata": {},
   "outputs": [
    {
     "name": "stdout",
     "output_type": "stream",
     "text": [
      "['T', 'h', 'i', 's', ' ', 'i', 's', ' ', 'a', 'n', ' ', '9', 'a', 'm', 'z', 'i', 'n', 'g', ' ', '5', 'c', 'l', 'a', 's', 's', 'r', 'o', 'o', 'm', ',', ' ', 'e', 'v', 'e', 'r', 'y', ' ', 'o', 'n', 'e', ' ', 's', 'p', 'e', 'a', 'k', 's', ' ', 'E', 'N', 'G', 'L', 'I', 'S', 'H', ' ', '1', '2', '3', '.', ' ', 'c', 'l', 'a', 's', 's', 'y', '!', '!', ' ']\n"
     ]
    }
   ],
   "source": [
    "text ='This is an 9amzing 5classroom, every one speaks ENGLISH 123. classy!! '\n",
    "re.findall('\\d',text) #digits are returned try d+ as well\n",
    "\n",
    "\n",
    "my_list =[0,1,2,3,4,5,6,7,8,9]\n",
    "list2 =[]\n",
    "#def remove_digits():\n",
    "    #here i want to read the text and return and print the text only by removing the digits\n",
    "for i in text:\n",
    "       # print(i)\n",
    "        if (i not in my_list ):\n",
    "            list2.append(i)\n",
    "print(list2)\n",
    "\n"
   ]
  },
  {
   "cell_type": "markdown",
   "id": "49bf57df",
   "metadata": {},
   "source": [
    "## \\D non  digits are returned"
   ]
  },
  {
   "cell_type": "code",
   "execution_count": 64,
   "id": "dff981b0",
   "metadata": {},
   "outputs": [
    {
     "name": "stdout",
     "output_type": "stream",
     "text": [
      "['T', 'h', 'i', 's', ' ', 'i', 's', ' ', 'a', 'n', ' ', ' ', 'a', 'm', 'a', 'z', 'i', 'n', 'g', ' ', 'c', 'l', 'a', 's', 's', 'r', 'o', 'o', 'm', ',', ' ', ' ', ' ', 'e', 'v', 'e', 'r', 'y', ' ', 'o', 'n', 'e', ' ', 's', 'p', 'e', 'a', 'k', 's', ' ', 'E', 'N', 'G', 'L', 'I', 'S', 'H', ' ', '.', ' ', 'c', 'l', 'a', 's', 's', 'y', '!', '!']\n",
      "['This is an ', ' amazing classroom, ', '  every one speaks ENGLISH ', '. classy!!']\n"
     ]
    }
   ],
   "source": [
    "text ='This is an 2 amazing classroom, 4  every one speaks ENGLISH 123. classy!!'\n",
    "print(re.findall('\\D',text)) #the non digits are returned\n",
    "\n",
    "print(re.findall('\\D+',text)) #the non digits are returned"
   ]
  },
  {
   "cell_type": "markdown",
   "id": "d8336056",
   "metadata": {},
   "source": [
    "## \\s"
   ]
  },
  {
   "cell_type": "code",
   "execution_count": 58,
   "id": "822f50b7",
   "metadata": {},
   "outputs": [
    {
     "name": "stdout",
     "output_type": "stream",
     "text": [
      "[' ', ' ', ' ', ' ', ' ', ' ', ' ', ' ', ' ', ' ', ' ']\n",
      "11\n",
      "11\n"
     ]
    }
   ],
   "source": [
    "text = 'This is an amazing classroom , every one speaks ENGLISH 123. classy!!'\n",
    "print(re.findall('\\s',text))   # returns all the white spaces\n",
    "print(len(re.findall('\\s',text))) #counts the whitespaces\n",
    "print(len(re.findall(' ',text))) #count the whitespaces"
   ]
  },
  {
   "cell_type": "markdown",
   "id": "738697eb",
   "metadata": {},
   "source": [
    "## \\S"
   ]
  },
  {
   "cell_type": "code",
   "execution_count": null,
   "id": "bf175799",
   "metadata": {},
   "outputs": [],
   "source": [
    "\\z"
   ]
  },
  {
   "cell_type": "code",
   "execution_count": 69,
   "id": "a1fefad7",
   "metadata": {},
   "outputs": [
    {
     "name": "stdout",
     "output_type": "stream",
     "text": [
      "[]\n",
      "0\n"
     ]
    }
   ],
   "source": [
    "text = 'This is an amazing class_room, every one speaks ENGLISH 123. classy '\n",
    "print(re.findall('classy\\Z',text)) #return the word classy in this example if at the end\n",
    "print(len(re.findall('classy\\Z',text)))"
   ]
  },
  {
   "cell_type": "code",
   "execution_count": 84,
   "id": "1caa3bb6",
   "metadata": {},
   "outputs": [
    {
     "name": "stdout",
     "output_type": "stream",
     "text": [
      "This is an amzing classroom, every one speaks ENGLISH . classy!! \n"
     ]
    }
   ],
   "source": [
    "text = 'This is an 9amzing 5classroom, every one speaks ENGLISH 123. classy!! '\n",
    "list_without_digits = []\n",
    "\n",
    "for char in text:\n",
    "    if char.isdigit() :\n",
    "        continue\n",
    "    list_without_digits.append(char)\n",
    "    \n",
    "result_text = ''.join(list_without_digits)\n",
    "print(result_text)\n"
   ]
  },
  {
   "cell_type": "markdown",
   "id": "cb2ac6fa",
   "metadata": {},
   "source": [
    "## [m-q]"
   ]
  },
  {
   "cell_type": "code",
   "execution_count": 96,
   "id": "003c1fa1",
   "metadata": {},
   "outputs": [
    {
     "name": "stdout",
     "output_type": "stream",
     "text": [
      "['n', 'm', 'n', 'o', 'o', 'm', 'o', 'n', 'p', 'q']\n",
      "10\n"
     ]
    }
   ],
   "source": [
    "text = 'This is an amazing class_room, every one speaks ENGLISH 123 q. classy The c   s'\n",
    "print(re.findall('[m-q]',text)) #return the word \n",
    "print(len(re.findall('[m-q]',text)))   #try with the [m-q+ sigh also]"
   ]
  },
  {
   "cell_type": "code",
   "execution_count": 99,
   "id": "22e59be5",
   "metadata": {},
   "outputs": [
    {
     "name": "stdout",
     "output_type": "stream",
     "text": [
      "['Th']\n",
      "1\n"
     ]
    }
   ],
   "source": [
    "text = 'This is an amazing class_room, every one speaks ENGLISH 123. classy The c   s'\n",
    "print(re.findall('^Th',text)) #Looks for the string\n",
    "print(len(re.findall('^Th',text)))"
   ]
  },
  {
   "cell_type": "code",
   "execution_count": 100,
   "id": "a6e282a7",
   "metadata": {},
   "outputs": [
    {
     "name": "stdout",
     "output_type": "stream",
     "text": [
      "[]\n",
      "0\n"
     ]
    }
   ],
   "source": [
    "text ='Tat is an amazing class_room, every one speaks ENGLISH 123. classy The c  s'\n",
    "print(re.findall('^Th',text)) #looks for the struhng\n",
    "print(len(re.findall('^Th',text)))"
   ]
  },
  {
   "cell_type": "code",
   "execution_count": 103,
   "id": "166643aa",
   "metadata": {},
   "outputs": [
    {
     "name": "stdout",
     "output_type": "stream",
     "text": [
      "['T']\n",
      "1\n"
     ]
    }
   ],
   "source": [
    "text = 'This is an amazing class_room, every one speaks ENGLISH 123. classy c   s'\n",
    "print(re.findall('^A|^T',text)) #looks for the string, if the first conditions is met, that is returned\n",
    "print(len(re.findall('A|^T',text)))"
   ]
  },
  {
   "cell_type": "markdown",
   "id": "4b1fb812",
   "metadata": {},
   "source": [
    "## +"
   ]
  },
  {
   "cell_type": "code",
   "execution_count": 107,
   "id": "0ebdc399",
   "metadata": {},
   "outputs": [
    {
     "name": "stdout",
     "output_type": "stream",
     "text": [
      "['+', '+', '+']\n",
      "3\n"
     ]
    }
   ],
   "source": [
    "text = 'This is an amazing++ class_room, @every #one *speaks !ENGLISH |123. classy c +/ s  '\n",
    "print(re.findall('[+]',text)) #looks at the string\n",
    "print(len(re.findall('[+]',text)))"
   ]
  },
  {
   "cell_type": "markdown",
   "id": "d927c156",
   "metadata": {},
   "source": [
    "## ?"
   ]
  },
  {
   "cell_type": "code",
   "execution_count": 113,
   "id": "cdecd092",
   "metadata": {},
   "outputs": [
    {
     "name": "stdout",
     "output_type": "stream",
     "text": [
      "1 [('1', '30'), ('12', '30'), ('1', '5'), ('12', '5')]\n",
      "2 [('12', '30')]\n",
      "3 [('1', '30'), ('12', '30')]\n",
      "4 [('12', '30'), ('12', '5')]\n"
     ]
    }
   ],
   "source": [
    "text = '\\yes 1:30 no 12:30 maybe 1:5 test me 12:5'\n",
    "print(1,re.findall(r'(\\d?\\d):(\\d?\\d)',text))\n",
    "print(2,re.findall(r'(\\d\\d):(\\d\\d)',text))\n",
    "print(3,re.findall(r'(\\d?\\d):(\\d\\d)',text))\n",
    "print(4,re.findall(r'(\\d\\d):(\\d?\\d)',text))"
   ]
  },
  {
   "cell_type": "code",
   "execution_count": 121,
   "id": "4f7637f1",
   "metadata": {},
   "outputs": [],
   "source": [
    "text = 'hello 12 hi 89. Howdy 34'"
   ]
  },
  {
   "cell_type": "code",
   "execution_count": 124,
   "id": "1bb47714",
   "metadata": {},
   "outputs": [
    {
     "name": "stdout",
     "output_type": "stream",
     "text": [
      "['12', '89', '34']\n"
     ]
    }
   ],
   "source": [
    "pattern = '\\d+'\n",
    "result = re.findall(pattern,text)\n",
    "print(result)"
   ]
  },
  {
   "cell_type": "code",
   "execution_count": 125,
   "id": "cbf15408",
   "metadata": {},
   "outputs": [],
   "source": [
    "text= 'abc 23 de 23 f45 6'"
   ]
  },
  {
   "cell_type": "code",
   "execution_count": 126,
   "id": "79177b81",
   "metadata": {},
   "outputs": [],
   "source": [
    "pattern = '\\s+'\n",
    "replace =''"
   ]
  },
  {
   "cell_type": "code",
   "execution_count": 129,
   "id": "38e2d75b",
   "metadata": {},
   "outputs": [
    {
     "name": "stdout",
     "output_type": "stream",
     "text": [
      "abc23de23f456\n"
     ]
    }
   ],
   "source": [
    "new_text= re.sub(pattern, replace,text)\n",
    "print(new_text)"
   ]
  },
  {
   "cell_type": "code",
   "execution_count": 130,
   "id": "f44a8293",
   "metadata": {},
   "outputs": [],
   "source": [
    "text ='#UNSG @ NY Society fort Ehtical culture bit.ly/2gyVelr @UN @UN-Women'"
   ]
  },
  {
   "cell_type": "code",
   "execution_count": 131,
   "id": "1fa9be31",
   "metadata": {},
   "outputs": [],
   "source": [
    "tokens = text.split()"
   ]
  },
  {
   "cell_type": "code",
   "execution_count": 134,
   "id": "b8117262",
   "metadata": {},
   "outputs": [
    {
     "data": {
      "text/plain": [
       "['@UN', '@UN-Women']"
      ]
     },
     "execution_count": 134,
     "metadata": {},
     "output_type": "execute_result"
    }
   ],
   "source": [
    "[w for w in tokens if re.search('@[a-zA-Z]+',w)]"
   ]
  },
  {
   "cell_type": "code",
   "execution_count": 135,
   "id": "712a9951",
   "metadata": {},
   "outputs": [],
   "source": [
    "time_sentances ='MOnday: The doctors appoinment is at 2:45 pm . Tuesday: The dentists appoinment is at 11:30 am  '"
   ]
  },
  {
   "cell_type": "code",
   "execution_count": 143,
   "id": "99e247ee",
   "metadata": {},
   "outputs": [
    {
     "name": "stdout",
     "output_type": "stream",
     "text": [
      "[('2', '45'), ('11', '30')]\n"
     ]
    }
   ],
   "source": [
    "print(re.findall(r'(\\d?\\d):(\\d\\d)',time_sentances))\n",
    "\n"
   ]
  },
  {
   "cell_type": "code",
   "execution_count": 153,
   "id": "348cada7",
   "metadata": {},
   "outputs": [],
   "source": [
    "text ='The car has a license plate ABC-1234'"
   ]
  },
  {
   "cell_type": "code",
   "execution_count": 157,
   "id": "2ce40007",
   "metadata": {},
   "outputs": [],
   "source": [
    "pattern = r'([A-Z]+)-(\\d+)'"
   ]
  },
  {
   "cell_type": "code",
   "execution_count": 158,
   "id": "282a7e4c",
   "metadata": {},
   "outputs": [],
   "source": [
    "match =re.search(pattern,text)"
   ]
  },
  {
   "cell_type": "code",
   "execution_count": 159,
   "id": "9f8a9d10",
   "metadata": {},
   "outputs": [
    {
     "name": "stdout",
     "output_type": "stream",
     "text": [
      "full match : ABC-1234\n",
      "first group: ABC\n",
      "second group: 1234\n"
     ]
    }
   ],
   "source": [
    "if match :\n",
    "    print('full match :',match.group(0)) #the entire match\n",
    "    print('first group:',match.group(1)) # The part matched by [A-Z]\n",
    "    print('second group:',match.group(2))# The part matched by \\d+\n",
    "else:\n",
    "    print('No match found')"
   ]
  },
  {
   "cell_type": "code",
   "execution_count": null,
   "id": "3da2c800",
   "metadata": {},
   "outputs": [],
   "source": []
  },
  {
   "cell_type": "code",
   "execution_count": null,
   "id": "44a6ac97",
   "metadata": {},
   "outputs": [],
   "source": []
  }
 ],
 "metadata": {
  "kernelspec": {
   "display_name": "Python 3 (ipykernel)",
   "language": "python",
   "name": "python3"
  },
  "language_info": {
   "codemirror_mode": {
    "name": "ipython",
    "version": 3
   },
   "file_extension": ".py",
   "mimetype": "text/x-python",
   "name": "python",
   "nbconvert_exporter": "python",
   "pygments_lexer": "ipython3",
   "version": "3.10.9"
  }
 },
 "nbformat": 4,
 "nbformat_minor": 5
}
