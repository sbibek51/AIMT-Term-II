{
 "cells": [
  {
   "cell_type": "markdown",
   "metadata": {},
   "source": [
    "# Sales Data Analysis Exercise\n",
    "\n",
    "## Objective\n",
    "Extract and analyze sales data from the provided text. You will calculate the total sales, sales per item, and average sales per month.\n",
    "\n",
    "## Tasks\n",
    "1. **Data Extraction**: Use regular expressions to parse the text and extract the month, item names, and their sale values.\n",
    "2. **Data Tabulation**: Organize the extracted data into a structured format with columns for Month, Item, and Sale Value.\n",
    "3. **Data Analysis**:\n",
    "   - Calculate the total sales for the entire period.\n",
    "   - Calculate the total sales for each item across all months.\n",
    "   - Determine the average sales per month.\n",
    "\n",
    "## Sales Records\n",
    "```\n",
    "January - Books: $20, Pens: $5, Notebooks: $15\n",
    "February - Books: $30, Chairs: $50, Pens: $10, Desks: $100\n",
    "March - Tables: $30, Books: $25, Lamps: $45\n",
    "April - Chairs: $60, Lamps: $50, Notebooks: $20, Pens: $15\n",
    "May - Desks: $110, Tables: $35, Books: $40\n",
    "June - Notebooks: $25, Chairs: $70, Lamps: $55\n",
    "```\n",
    "\n",
    "## Hints\n",
    "- Use regular expressions to identify patterns in the text.\n",
    "- Python's pandas library can be useful for data manipulation and analysis.\n",
    "- Ensure the format of the extracted data is accurate for calculations.\n",
    "\n",
    "## Expected Output\n",
    "- A table summarizing the sales data.\n",
    "- Calculated total sales, sales per item, and average sales per month.\n",
    "\n",
    "## Your Solution\n"
   ]
  },
  {
   "cell_type": "code",
   "execution_count": 17,
   "metadata": {},
   "outputs": [
    {
     "name": "stdout",
     "output_type": "stream",
     "text": [
      "['20', '5', '15', '30', '50', '10', '100', '30', '25', '45', '60', '50', '20', '15', '110', '35', '40', '25', '70', '55']\n"
     ]
    },
    {
     "data": {
      "text/plain": [
       "[('Books', '20'),\n",
       " ('Pens', '5'),\n",
       " ('Notebooks', '15'),\n",
       " ('Books', '30'),\n",
       " ('Chairs', '50'),\n",
       " ('Pens', '10'),\n",
       " ('Desks', '100'),\n",
       " ('Tables', '30'),\n",
       " ('Books', '25'),\n",
       " ('Lamps', '45'),\n",
       " ('Chairs', '60'),\n",
       " ('Lamps', '50'),\n",
       " ('Notebooks', '20'),\n",
       " ('Pens', '15'),\n",
       " ('Desks', '110'),\n",
       " ('Tables', '35'),\n",
       " ('Books', '40'),\n",
       " ('Notebooks', '25'),\n",
       " ('Chairs', '70'),\n",
       " ('Lamps', '55')]"
      ]
     },
     "execution_count": 17,
     "metadata": {},
     "output_type": "execute_result"
    }
   ],
   "source": [
    "# Import necessary libraries\n",
    "import re\n",
    "# import pandas as pd\n",
    "\n",
    "# Define the sales records text\n",
    "sales_records = '''\n",
    "January - Books: $20, Pens: $5, Notebooks: $15\n",
    "February - Books: $30, Chairs: $50, Pens: $10, Desks: $100\n",
    "March - Tables: $30, Books: $25, Lamps: $45\n",
    "April - Chairs: $60, Lamps: $50, Notebooks: $20, Pens: $15\n",
    "May - Desks: $110, Tables: $35, Books: $40\n",
    "June - Notebooks: $25, Chairs: $70, Lamps: $55\n",
    "'''\n",
    "\n",
    "# Write your code here to extract and analyze the data\n",
    "\n",
    "pattern = '\\d+'\n",
    "result = re.findall(pattern,sales_records)\n",
    "print(result)\n",
    "\n",
    "\n",
    "\n",
    "items_and_sales = re.findall(r'(\\w+): \\$(\\d+)', sales_records)\n",
    "items_and_sales\n",
    "\n",
    "\n",
    "\n",
    "\n",
    "\n",
    "\n",
    "# Hints:\n",
    "# 1. Use re.findall() to extract data\n",
    "# 2. Create a DataFrame to tabulate the data\n",
    "# 3. Perform calculations for total sales, sales per item, and average sales per month\n"
   ]
  },
  {
   "cell_type": "code",
   "execution_count": 1,
   "metadata": {},
   "outputs": [],
   "source": [
    "#*****************"
   ]
  },
  {
   "cell_type": "code",
   "execution_count": 27,
   "metadata": {},
   "outputs": [
    {
     "name": "stdout",
     "output_type": "stream",
     "text": [
      "{'January': {'Books': 40, 'Pens': 15, 'Notebooks': 20, 'February - Books': 30, 'Chairs': 70, 'Desks': 100, 'March - Tables': 30, 'Lamps': 55, 'April - Chairs': 60, 'May - Desks': 110, 'Tables': 35, 'June - Notebooks': 25}}\n"
     ]
    }
   ],
   "source": [
    "\n",
    "\n",
    "\n",
    "# regular expression 1\n",
    "pattern = re.compile(r'(\\w+) - ((?:[^:,]+: \\$\\d+,?\\s*)+)')\n",
    "\n",
    "\n",
    "matches = pattern.findall(sales_records)\n",
    "\n",
    "\n",
    "for match in matches:\n",
    "    month, items_str = match\n",
    "    items = re.findall(r'([^:,]+): \\$(\\d+)', items_str)\n",
    "    result_dict[month] = {item.strip(): int(price) for item, price in items}\n",
    "\n",
    "\n",
    "print(result_dict)\n"
   ]
  },
  {
   "cell_type": "code",
   "execution_count": 15,
   "metadata": {},
   "outputs": [],
   "source": [
    "#**********************"
   ]
  },
  {
   "cell_type": "code",
   "execution_count": 28,
   "metadata": {},
   "outputs": [
    {
     "name": "stdout",
     "output_type": "stream",
     "text": [
      "      Month  Books  Pens  Notebooks  Chairs  Desks  Tables  Lamps  \\\n",
      "0   January     40    15         25      70    110      35     55   \n",
      "1  February     40    15         25      70    110      35     55   \n",
      "2     March     40    15         25      70    110      35     55   \n",
      "3     April     40    15         25      70    110      35     55   \n",
      "4       May     40    15         25      70    110      35     55   \n",
      "5      June     40    15         25      70    110      35     55   \n",
      "\n",
      "   Total Sales  Average Sales  \n",
      "0          350           87.5  \n",
      "1          350           87.5  \n",
      "2          350           87.5  \n",
      "3          350           87.5  \n",
      "4          350           87.5  \n",
      "5          350           87.5  \n"
     ]
    },
    {
     "name": "stderr",
     "output_type": "stream",
     "text": [
      "C:\\Users\\TravelMate\\AppData\\Local\\Temp\\ipykernel_9720\\2973182760.py:15: FutureWarning: Dropping of nuisance columns in DataFrame reductions (with 'numeric_only=None') is deprecated; in a future version this will raise TypeError.  Select only valid columns before calling the reduction.\n",
      "  df['Total Sales'] = df.sum(axis=1)\n",
      "C:\\Users\\TravelMate\\AppData\\Local\\Temp\\ipykernel_9720\\2973182760.py:16: FutureWarning: Dropping of nuisance columns in DataFrame reductions (with 'numeric_only=None') is deprecated; in a future version this will raise TypeError.  Select only valid columns before calling the reduction.\n",
      "  df['Average Sales'] = df.mean(axis=1)\n"
     ]
    }
   ],
   "source": [
    "\n",
    "# Extracting data using regular expressions\n",
    "data = []\n",
    "months = re.findall(r'(\\w+) -', sales_records)\n",
    "items_and_sales = re.findall(r'(\\w+): \\$(\\d+)', sales_records)\n",
    "\n",
    "for month in months:\n",
    "    month_data = {'Month': month}\n",
    "    for item, value in items_and_sales:\n",
    "        if re.search(fr'{item}: \\${value}', sales_records):\n",
    "            month_data[item] = int(value)\n",
    "    data.append(month_data)\n",
    "\n",
    "df = pd.DataFrame(data).fillna(0)\n",
    "\n",
    "df['Total Sales'] = df.sum(axis=1)\n",
    "df['Average Sales'] = df.mean(axis=1)\n",
    "\n",
    "\n",
    "print(df)\n"
   ]
  },
  {
   "cell_type": "code",
   "execution_count": 29,
   "metadata": {},
   "outputs": [
    {
     "name": "stdout",
     "output_type": "stream",
     "text": [
      "      Month  Books  Tables  Chairs  Desks  Notebooks  Total Sales  \\\n",
      "0   January   20.0     0.0     0.0    0.0        0.0         20.0   \n",
      "1  February   30.0     0.0     0.0    0.0        0.0         30.0   \n",
      "2     March    0.0    30.0     0.0    0.0        0.0         30.0   \n",
      "3     April    0.0     0.0    60.0    0.0        0.0         60.0   \n",
      "4       May    0.0     0.0     0.0  110.0        0.0        110.0   \n",
      "5      June    0.0     0.0     0.0    0.0       25.0         25.0   \n",
      "\n",
      "   Average Sales  \n",
      "0       6.666667  \n",
      "1      10.000000  \n",
      "2      10.000000  \n",
      "3      20.000000  \n",
      "4      36.666667  \n",
      "5       8.333333  \n"
     ]
    },
    {
     "name": "stderr",
     "output_type": "stream",
     "text": [
      "C:\\Users\\TravelMate\\AppData\\Local\\Temp\\ipykernel_9720\\4262985464.py:15: FutureWarning: Dropping of nuisance columns in DataFrame reductions (with 'numeric_only=None') is deprecated; in a future version this will raise TypeError.  Select only valid columns before calling the reduction.\n",
      "  df['Total Sales'] = df.sum(axis=1)\n",
      "C:\\Users\\TravelMate\\AppData\\Local\\Temp\\ipykernel_9720\\4262985464.py:16: FutureWarning: Dropping of nuisance columns in DataFrame reductions (with 'numeric_only=None') is deprecated; in a future version this will raise TypeError.  Select only valid columns before calling the reduction.\n",
      "  df['Average Sales'] = df.mean(axis=1)\n"
     ]
    }
   ],
   "source": [
    "\n",
    "\n",
    "data = []\n",
    "months = re.findall(r'(\\w+) -', sales_records)\n",
    "\n",
    "for month in months:\n",
    "    month_data = {'Month': month}\n",
    "    items_and_sales = re.findall(fr'{month} - (\\w+): \\$(\\d+)', sales_records)\n",
    "    \n",
    "    for item, value in items_and_sales:\n",
    "        month_data[item] = int(value)\n",
    "\n",
    "    data.append(month_data)\n",
    "\n",
    "df = pd.DataFrame(data).fillna(0)\n",
    "\n",
    "df['Total Sales'] = df.sum(axis=1)\n",
    "df['Average Sales'] = df.mean(axis=1)\n",
    "\n",
    "print(df)\n"
   ]
  },
  {
   "cell_type": "code",
   "execution_count": 30,
   "metadata": {},
   "outputs": [
    {
     "name": "stdout",
     "output_type": "stream",
     "text": [
      "      Month  Notebooks  Total Sales  Average Sales\n",
      "0   January        0.0          0.0            0.0\n",
      "1  February        0.0          0.0            0.0\n",
      "2     March        0.0          0.0            0.0\n",
      "3     April        0.0          0.0            0.0\n",
      "4       May        0.0          0.0            0.0\n",
      "5      June       25.0         25.0           25.0\n"
     ]
    },
    {
     "name": "stderr",
     "output_type": "stream",
     "text": [
      "C:\\Users\\TravelMate\\AppData\\Local\\Temp\\ipykernel_9720\\1655454323.py:16: FutureWarning: Dropping of nuisance columns in DataFrame reductions (with 'numeric_only=None') is deprecated; in a future version this will raise TypeError.  Select only valid columns before calling the reduction.\n",
      "  df['Total Sales'] = df.sum(axis=1)\n",
      "C:\\Users\\TravelMate\\AppData\\Local\\Temp\\ipykernel_9720\\1655454323.py:17: FutureWarning: Dropping of nuisance columns in DataFrame reductions (with 'numeric_only=None') is deprecated; in a future version this will raise TypeError.  Select only valid columns before calling the reduction.\n",
      "  df['Average Sales'] = df.mean(axis=1)\n"
     ]
    }
   ],
   "source": [
    "\n",
    "data = []\n",
    "months = re.findall(r'(\\w+) -', sales_records)\n",
    "\n",
    "for month in months:\n",
    "    month_data = {'Month': month}\n",
    "    items_and_sales = re.findall(fr'{month} - (.*?)(?=\\w+ -|$)', sales_records)\n",
    "    \n",
    "    for item_and_sale in items_and_sales:\n",
    "        item, value = re.search(r'([^:,]+): \\$(\\d+)', item_and_sale).groups()\n",
    "        month_data[item.strip()] = int(value)\n",
    "\n",
    "    data.append(month_data)\n",
    "\n",
    "df = pd.DataFrame(data).fillna(0)\n",
    "\n",
    "df['Total Sales'] = df.sum(axis=1)\n",
    "df['Average Sales'] = df.mean(axis=1)\n",
    "\n",
    "print(df)\n",
    "#still i need to update to work smoothly in data"
   ]
  },
  {
   "cell_type": "code",
   "execution_count": 37,
   "metadata": {},
   "outputs": [
    {
     "data": {
      "text/html": [
       "<div>\n",
       "<style scoped>\n",
       "    .dataframe tbody tr th:only-of-type {\n",
       "        vertical-align: middle;\n",
       "    }\n",
       "\n",
       "    .dataframe tbody tr th {\n",
       "        vertical-align: top;\n",
       "    }\n",
       "\n",
       "    .dataframe thead th {\n",
       "        text-align: right;\n",
       "    }\n",
       "</style>\n",
       "<table border=\"1\" class=\"dataframe\">\n",
       "  <thead>\n",
       "    <tr style=\"text-align: right;\">\n",
       "      <th></th>\n",
       "      <th>Month</th>\n",
       "      <th>Items</th>\n",
       "      <th>Price</th>\n",
       "    </tr>\n",
       "  </thead>\n",
       "  <tbody>\n",
       "    <tr>\n",
       "      <th>0</th>\n",
       "      <td>January</td>\n",
       "      <td>Books</td>\n",
       "      <td>20</td>\n",
       "    </tr>\n",
       "    <tr>\n",
       "      <th>1</th>\n",
       "      <td>January</td>\n",
       "      <td>Pens</td>\n",
       "      <td>5</td>\n",
       "    </tr>\n",
       "    <tr>\n",
       "      <th>2</th>\n",
       "      <td>January</td>\n",
       "      <td>Notebooks</td>\n",
       "      <td>15</td>\n",
       "    </tr>\n",
       "    <tr>\n",
       "      <th>3</th>\n",
       "      <td>January</td>\n",
       "      <td>Books</td>\n",
       "      <td>30</td>\n",
       "    </tr>\n",
       "    <tr>\n",
       "      <th>4</th>\n",
       "      <td>January</td>\n",
       "      <td>Chairs</td>\n",
       "      <td>50</td>\n",
       "    </tr>\n",
       "    <tr>\n",
       "      <th>...</th>\n",
       "      <td>...</td>\n",
       "      <td>...</td>\n",
       "      <td>...</td>\n",
       "    </tr>\n",
       "    <tr>\n",
       "      <th>115</th>\n",
       "      <td>June</td>\n",
       "      <td>Tables</td>\n",
       "      <td>35</td>\n",
       "    </tr>\n",
       "    <tr>\n",
       "      <th>116</th>\n",
       "      <td>June</td>\n",
       "      <td>Books</td>\n",
       "      <td>40</td>\n",
       "    </tr>\n",
       "    <tr>\n",
       "      <th>117</th>\n",
       "      <td>June</td>\n",
       "      <td>Notebooks</td>\n",
       "      <td>25</td>\n",
       "    </tr>\n",
       "    <tr>\n",
       "      <th>118</th>\n",
       "      <td>June</td>\n",
       "      <td>Chairs</td>\n",
       "      <td>70</td>\n",
       "    </tr>\n",
       "    <tr>\n",
       "      <th>119</th>\n",
       "      <td>June</td>\n",
       "      <td>Lamps</td>\n",
       "      <td>55</td>\n",
       "    </tr>\n",
       "  </tbody>\n",
       "</table>\n",
       "<p>120 rows × 3 columns</p>\n",
       "</div>"
      ],
      "text/plain": [
       "       Month      Items  Price\n",
       "0    January      Books     20\n",
       "1    January       Pens      5\n",
       "2    January  Notebooks     15\n",
       "3    January      Books     30\n",
       "4    January     Chairs     50\n",
       "..       ...        ...    ...\n",
       "115     June     Tables     35\n",
       "116     June      Books     40\n",
       "117     June  Notebooks     25\n",
       "118     June     Chairs     70\n",
       "119     June      Lamps     55\n",
       "\n",
       "[120 rows x 3 columns]"
      ]
     },
     "execution_count": 37,
     "metadata": {},
     "output_type": "execute_result"
    }
   ],
   "source": [
    "######updated version\n",
    "\n",
    "sales_month = re.findall('([A-Za-z]+)\\s*-', sales_records)\n",
    "sales_month\n",
    "sales_price =re.findall('(\\w+):\\s*\\$(\\d+)', sales_records)\n",
    "sales_price\n",
    "data = {'Month':[],'Items':[],'Price':[]}\n",
    "\n",
    "for month in sales_month: \n",
    "    for items, price in items_price:\n",
    "        data['Month'].append(month)\n",
    "        data['Items'].append(items)\n",
    "        data['Price'].append(int(price))\n",
    "df = pd.DataFrame(data)\n",
    "df"
   ]
  },
  {
   "cell_type": "code",
   "execution_count": null,
   "metadata": {},
   "outputs": [],
   "source": []
  }
 ],
 "metadata": {
  "kernelspec": {
   "display_name": "Python 3 (ipykernel)",
   "language": "python",
   "name": "python3"
  },
  "language_info": {
   "codemirror_mode": {
    "name": "ipython",
    "version": 3
   },
   "file_extension": ".py",
   "mimetype": "text/x-python",
   "name": "python",
   "nbconvert_exporter": "python",
   "pygments_lexer": "ipython3",
   "version": "3.10.9"
  }
 },
 "nbformat": 4,
 "nbformat_minor": 4
}
