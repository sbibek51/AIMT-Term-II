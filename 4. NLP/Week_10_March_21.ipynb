{
 "cells": [
  {
   "cell_type": "code",
   "execution_count": 1,
   "id": "32c6058b",
   "metadata": {},
   "outputs": [],
   "source": [
    "#Bibek Shiwakoti"
   ]
  },
  {
   "cell_type": "code",
   "execution_count": 2,
   "id": "490a3cac",
   "metadata": {},
   "outputs": [],
   "source": [
    "# Chunking and Chinking"
   ]
  },
  {
   "cell_type": "code",
   "execution_count": 3,
   "id": "4a2c07e3",
   "metadata": {},
   "outputs": [],
   "source": [
    "import nltk"
   ]
  },
  {
   "cell_type": "code",
   "execution_count": 4,
   "id": "b92125dc",
   "metadata": {},
   "outputs": [],
   "source": [
    "from textblob import TextBlob"
   ]
  },
  {
   "cell_type": "code",
   "execution_count": 5,
   "id": "c1195c60",
   "metadata": {},
   "outputs": [],
   "source": [
    "myString = \"John found a new coach and a new bed in his new apartment.\""
   ]
  },
  {
   "cell_type": "code",
   "execution_count": 6,
   "id": "bfecebdc",
   "metadata": {},
   "outputs": [],
   "source": [
    "output =TextBlob(myString)"
   ]
  },
  {
   "cell_type": "code",
   "execution_count": 7,
   "id": "d7f18a95",
   "metadata": {},
   "outputs": [
    {
     "data": {
      "text/plain": [
       "[('John', 'NNP'),\n",
       " ('found', 'VBD'),\n",
       " ('a', 'DT'),\n",
       " ('new', 'JJ'),\n",
       " ('coach', 'NN'),\n",
       " ('and', 'CC'),\n",
       " ('a', 'DT'),\n",
       " ('new', 'JJ'),\n",
       " ('bed', 'NN'),\n",
       " ('in', 'IN'),\n",
       " ('his', 'PRP$'),\n",
       " ('new', 'JJ'),\n",
       " ('apartment', 'NN')]"
      ]
     },
     "execution_count": 7,
     "metadata": {},
     "output_type": "execute_result"
    }
   ],
   "source": [
    "output.tags"
   ]
  },
  {
   "cell_type": "code",
   "execution_count": 8,
   "id": "81e60573",
   "metadata": {},
   "outputs": [],
   "source": [
    "reg_exp = \"NP: {<DT>?<JJ>*<NN>}\""
   ]
  },
  {
   "cell_type": "code",
   "execution_count": 9,
   "id": "6ce015ca",
   "metadata": {},
   "outputs": [],
   "source": [
    "rp = nltk.chunk.RegexpParser(reg_exp)"
   ]
  },
  {
   "cell_type": "code",
   "execution_count": 10,
   "id": "5a1ef25d",
   "metadata": {},
   "outputs": [],
   "source": [
    "output = rp.parse(output.tags)"
   ]
  },
  {
   "cell_type": "code",
   "execution_count": 11,
   "id": "d41d5f42",
   "metadata": {},
   "outputs": [
    {
     "name": "stdout",
     "output_type": "stream",
     "text": [
      "(S\n",
      "  John/NNP\n",
      "  found/VBD\n",
      "  (NP a/DT new/JJ coach/NN)\n",
      "  and/CC\n",
      "  (NP a/DT new/JJ bed/NN)\n",
      "  in/IN\n",
      "  his/PRP$\n",
      "  (NP new/JJ apartment/NN))\n"
     ]
    }
   ],
   "source": [
    "print(output)"
   ]
  },
  {
   "cell_type": "code",
   "execution_count": 62,
   "id": "3de3bbe3",
   "metadata": {},
   "outputs": [],
   "source": [
    "# output.draw()"
   ]
  },
  {
   "cell_type": "code",
   "execution_count": 77,
   "id": "0b934503",
   "metadata": {},
   "outputs": [],
   "source": [
    "myString = \"My ittle yellow dog barked at the cat.\"\n",
    "\n"
   ]
  },
  {
   "cell_type": "code",
   "execution_count": 78,
   "id": "80e5aeab",
   "metadata": {},
   "outputs": [],
   "source": [
    "output =TextBlob(myString)"
   ]
  },
  {
   "cell_type": "code",
   "execution_count": 79,
   "id": "edeb100e",
   "metadata": {},
   "outputs": [],
   "source": [
    "reg_exp1 = \"NP: {<DT>?<JJ>*<NN>}\""
   ]
  },
  {
   "cell_type": "code",
   "execution_count": 80,
   "id": "51d1d45f",
   "metadata": {},
   "outputs": [],
   "source": [
    "reg_exp1 =\n",
    "            r\"\"\" NP:\n",
    "            {<.*>+}\n",
    "\n",
    "            \"\"\"\n",
    "\n",
    "            # r\"\"\" NP:\n",
    "            # {<.*>+}\n",
    "            # }<VBD|IN>+{\n",
    "            # \"\"\""
   ]
  },
  {
   "cell_type": "code",
   "execution_count": 81,
   "id": "23639da8",
   "metadata": {},
   "outputs": [],
   "source": [
    "rp = nltk.chunk.RegexpParser(reg_exp1)"
   ]
  },
  {
   "cell_type": "code",
   "execution_count": 82,
   "id": "3c2019f8",
   "metadata": {},
   "outputs": [],
   "source": [
    "output = rp.parse(output.tags)"
   ]
  },
  {
   "cell_type": "code",
   "execution_count": 84,
   "id": "57fef188",
   "metadata": {},
   "outputs": [
    {
     "name": "stdout",
     "output_type": "stream",
     "text": [
      "(S\n",
      "  (NP\n",
      "    My/PRP$\n",
      "    ittle/JJ\n",
      "    yellow/JJ\n",
      "    dog/NN\n",
      "    barked/VBD\n",
      "    at/IN\n",
      "    the/DT\n",
      "    cat/NN))\n"
     ]
    }
   ],
   "source": [
    "print(output)"
   ]
  },
  {
   "cell_type": "markdown",
   "id": "e09463d2",
   "metadata": {},
   "source": [
    "(S\n",
    "  (NP The/DT little/JJ yellow/JJ dog/NN)\n",
    "  barked/VBD\n",
    "  at/IN\n",
    "  (NP the/DT cat/NN))"
   ]
  },
  {
   "cell_type": "code",
   "execution_count": null,
   "id": "fea5bd83",
   "metadata": {},
   "outputs": [],
   "source": []
  }
 ],
 "metadata": {
  "kernelspec": {
   "display_name": "Python 3 (ipykernel)",
   "language": "python",
   "name": "python3"
  },
  "language_info": {
   "codemirror_mode": {
    "name": "ipython",
    "version": 3
   },
   "file_extension": ".py",
   "mimetype": "text/x-python",
   "name": "python",
   "nbconvert_exporter": "python",
   "pygments_lexer": "ipython3",
   "version": "3.10.9"
  }
 },
 "nbformat": 4,
 "nbformat_minor": 5
}
